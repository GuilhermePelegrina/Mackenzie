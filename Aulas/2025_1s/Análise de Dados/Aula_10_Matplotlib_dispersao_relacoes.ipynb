{
  "cells": [
    {
      "cell_type": "markdown",
      "metadata": {
        "id": "view-in-github",
        "colab_type": "text"
      },
      "source": [
        "<a href=\"https://colab.research.google.com/github/GuilhermePelegrina/Mackenzie/blob/main/Aulas/2025_1s/An%C3%A1lise%20de%20Dados/Aula_10_Matplotlib_dispersao_relacoes.ipynb\" target=\"_parent\"><img src=\"https://colab.research.google.com/assets/colab-badge.svg\" alt=\"Open In Colab\"/></a>"
      ]
    },
    {
      "cell_type": "markdown",
      "metadata": {
        "id": "yDT0n5rAx87W"
      },
      "source": [
        "<img src='https://raw.githubusercontent.com/guilhermepelegrina/Mackenzie/main/logo_mackenzie.png'>\n"
      ]
    },
    {
      "cell_type": "markdown",
      "metadata": {
        "id": "OKK_BbNhyvGx"
      },
      "source": [
        "# **Visualização de dados - Gráficos de distribuição, dispersão e relações entre colunas**\n",
        "\n",
        "Nesta aula, vamos aprender como usar as bibliotecas Matplotlib e Seaborn para criar gráficos que ilustram tanto a dispersão dos dados quanto as relações entre colunas. Veremos, então, dois tipos de gráficos:\n",
        "\n",
        "- Histograma\n",
        "- Boxplot\n",
        "- Gráfico de dispersão (scatter plot)\n",
        "- Heatmaps\n"
      ]
    },
    {
      "cell_type": "markdown",
      "metadata": {
        "id": "pyuFXAHcCpsv"
      },
      "source": [
        "Para ilustrar os comandos dessa aula, vamos utilizar o conjunto de dados (Red Wine Quality)[https://archive.ics.uci.edu/dataset/186/wine+quality]. Em resumo, esse conjunto conté, nas linhas, diferentes vinhos tintos e, nas colunas, características de tais vinhos. Na última coluna (*quality*), há a qualidade de cada vinho (maior o valor, melhor a qualidade)."
      ]
    },
    {
      "cell_type": "code",
      "execution_count": null,
      "metadata": {
        "id": "loz9FsAxCpsy"
      },
      "outputs": [],
      "source": [
        "import pandas as pd\n",
        "import matplotlib.pyplot as plt\n",
        "import numpy as np\n",
        "\n",
        "df = pd.read_csv(\"https://raw.githubusercontent.com/guilhermepelegrina/Mackenzie/main/Datasets/data_wine_quality_red.csv\", sep = ',')\n",
        "df"
      ]
    },
    {
      "cell_type": "markdown",
      "metadata": {
        "id": "QA4y9cZGoMjw"
      },
      "source": [
        "# Histograma\n",
        "\n",
        "Um dos gráficos mais utilizados para visualizar a distribuição de dados numéricos e contínuos é o Histograma. À partir dele, podemos extrair conclusões preliminares acerca da simetria (ou assimetria) dos dados e a presença de valores considerados *outliers* (valores discrepantes no conjunto de dados).\n",
        "\n",
        "Um histograma é representado por colunas verticais (retângulos), centralizadas em intervalos predefinidos, as quais indicam a frequência com que os valores contidos nesses intervalos aparecem no conjunto de dados em análise.\n",
        "\n",
        "<img src='https://raw.githubusercontent.com/guilhermepelegrina/Mackenzie/main/Aulas/Figuras/fig_graficos_histograma.png' width=\"900\">\n",
        "\n",
        "Note que um baixo ou alto número de retângulos (também chamados de *bins*) não conseguirá apresentar com clareza a distribuição dos dados."
      ]
    },
    {
      "cell_type": "markdown",
      "metadata": {
        "id": "vlI_lrYmoMor"
      },
      "source": [
        "**Exemplo:** Vamos analisar a distribuição dos vinhos em relação ao pH e ao açúcal residual."
      ]
    },
    {
      "cell_type": "code",
      "execution_count": null,
      "metadata": {
        "id": "UWWfCiQWLdYc"
      },
      "outputs": [],
      "source": [
        "plt.figure(figsize=(12,5))\n",
        "\n",
        "plt.hist(df['pH'])\n",
        "plt.ylabel(\"Frequências\")\n",
        "plt.title('Histograma - pH')\n",
        "plt.xlim(min(df['pH']), max(df['pH']))\n",
        "\n",
        "\n",
        "plt.tight_layout()\n",
        "plt.show()"
      ]
    },
    {
      "cell_type": "code",
      "execution_count": null,
      "metadata": {
        "id": "kyq1OcGKCaqf"
      },
      "outputs": [],
      "source": [
        "plt.figure(figsize=(12,5))\n",
        "\n",
        "plt.hist(df['residual sugar'])\n",
        "plt.ylabel(\"Frequências\")\n",
        "plt.title('Histograma - Açúcar residual')\n",
        "plt.xlim(min(df['residual sugar']), max(df['residual sugar']))\n",
        "\n",
        "\n",
        "plt.tight_layout()\n",
        "plt.show()"
      ]
    },
    {
      "cell_type": "markdown",
      "metadata": {
        "id": "qZ78fKF3oMrG"
      },
      "source": [
        "Veja que a distribuição em relação ao pH é simétrica, ou seja, os dados parecem estar normalmente distribuídos em relação ao valor central. Já no caso do açúcar residual, a distribuição é assimétrica (à esquerda)."
      ]
    },
    {
      "cell_type": "markdown",
      "metadata": {
        "id": "UYCfhr8QNn3C"
      },
      "source": [
        "## Customizações no histograma\n",
        "\n",
        "Assim como no gráfico de linhas, podemos fazer várias customizações no histograma. As mais comuns são as seguintes:\n",
        "\n",
        "- Número de colunas (`bins`),\n",
        "- Cor das barras (`facecolor`),\n",
        "- Transperência da cor das barras (`alpha`),\n",
        "- Cor do contorno das barras (`edgecolor`)."
      ]
    },
    {
      "cell_type": "code",
      "execution_count": null,
      "metadata": {
        "id": "Em-TgMPMNiPz"
      },
      "outputs": [],
      "source": [
        "plt.figure(figsize=(12,5))\n",
        "\n",
        "plt.hist(df['pH'], bins=20, facecolor='r', alpha=0.75, edgecolor='black')\n",
        "plt.ylabel(\"Frequências\")\n",
        "plt.title('Histograma - pH')\n",
        "plt.xlim(min(df['pH']), max(df['pH']))\n",
        "\n",
        "\n",
        "plt.tight_layout()\n",
        "plt.show()"
      ]
    },
    {
      "cell_type": "markdown",
      "metadata": {
        "id": "QulHrQx1oMtl"
      },
      "source": [
        "Também podemos apresentar a densidade (frequência em termos relativos). Nesse caso, a soma das áreas do retêngulo é igual a 1."
      ]
    },
    {
      "cell_type": "code",
      "execution_count": null,
      "metadata": {
        "id": "j_c2MeqzPCy2"
      },
      "outputs": [],
      "source": [
        "plt.figure(figsize=(12,5))\n",
        "\n",
        "plt.hist(df['pH'], facecolor='g', alpha=0.15, edgecolor='red', density='True')\n",
        "plt.ylabel(\"Densidade\")\n",
        "plt.title('Histograma - pH')\n",
        "plt.xlim(min(df['pH']), max(df['pH']))\n",
        "\n",
        "\n",
        "plt.tight_layout()\n",
        "plt.show()"
      ]
    },
    {
      "cell_type": "markdown",
      "metadata": {
        "id": "8SddPX0eoMwK"
      },
      "source": [
        "O uso da densidade é uma forma de normalizar os dados do histograma. É muito útil quando comparamos histogramas extraídos de dados diferentes, principalmente quando os mesmos possuem diferentes números de amostras (linhas).\n",
        "\n",
        "Veja o exemplo seguinte."
      ]
    },
    {
      "cell_type": "code",
      "execution_count": null,
      "metadata": {
        "id": "5Jr3ib87pGkS"
      },
      "outputs": [],
      "source": [
        "# Tempo de vida útil de um aparelho fabricado por três companhias diferentes\n",
        "\n",
        "link=\"https://raw.githubusercontent.com/guilhermepelegrina/Mackenzie/main/Datasets/data_vida_util.csv\"\n",
        "dft=pd.read_csv(link)\n",
        "dft.head()"
      ]
    },
    {
      "cell_type": "code",
      "execution_count": null,
      "metadata": {
        "id": "BDUGY77qZX2n"
      },
      "outputs": [],
      "source": [
        "# Analisando o tamanho das amostras para cada marca\n",
        "dft.describe()"
      ]
    },
    {
      "cell_type": "code",
      "execution_count": null,
      "metadata": {
        "id": "mjkcS946uL63"
      },
      "outputs": [],
      "source": [
        "# Plotando o histograma com base nas frequências\n",
        "\n",
        "plt.figure(figsize=(8,5))\n",
        "\n",
        "plt.hist(dft[\"Marca A\"], label=\"Marca A\",bins=7)\n",
        "plt.hist(dft[\"Marca B\"],alpha=0.3,label=\"Marca B\",bins=7)\n",
        "plt.hist(dft[\"Marca C\"],alpha=0.3, label=\"Marca C\",bins=7)\n",
        "plt.xlabel(\"Tempo (em meses)\")\n",
        "plt.ylabel(\"Frequência\")\n",
        "plt.title(\"É o melhor gráfico?\",color=\"r\")\n",
        "\n",
        "plt.legend()\n",
        "plt.show()"
      ]
    },
    {
      "cell_type": "code",
      "execution_count": null,
      "metadata": {
        "id": "jNOwtgKPtSp3"
      },
      "outputs": [],
      "source": [
        "# É muito mais \"correto\" analisar o gráfico usando a densidade, uma vez que os dados podem ter diferentes números de amostras.\n",
        "\n",
        "plt.figure(figsize=(8,5))\n",
        "\n",
        "plt.hist(dft[\"Marca A\"],density=True, label=\"Marca A\",bins=7)\n",
        "plt.hist(dft[\"Marca B\"],alpha=0.3,density=True,label=\"Marca B\",bins=7)\n",
        "plt.hist(dft[\"Marca C\"],alpha=0.3,density=True, label=\"Marca C\",bins=7)\n",
        "plt.xlabel(\"tempo (em meses)\")\n",
        "plt.ylabel(\"Densidade\")\n",
        "\n",
        "plt.legend()\n",
        "plt.show()"
      ]
    },
    {
      "cell_type": "markdown",
      "metadata": {
        "id": "rDgEjusnoMzC"
      },
      "source": [
        "## Usando a biblioteca Seaborn\n",
        "\n",
        "Além do Matplotlib, também podemos usar a biblioteca Seaborn para imprimir gráficos no Python. Veja a seguir como ficam os comandos para plotar um histograma usando densidade (é o padrão do Seabonr!) usando essa biblioteca."
      ]
    },
    {
      "cell_type": "code",
      "execution_count": null,
      "metadata": {
        "id": "joodVzPIbnxv"
      },
      "outputs": [],
      "source": [
        "import seaborn as sns\n",
        "plt.figure(figsize=(12,5))\n",
        "\n",
        "sns.distplot(dft[\"Marca A\"])\n",
        "plt.title('Vida útil')\n",
        "plt.xlabel(\"Tempo (em meses)\", fontsize=12)\n",
        "\n",
        "plt.tight_layout()"
      ]
    },
    {
      "cell_type": "markdown",
      "metadata": {
        "id": "4PaEM0HboM1H"
      },
      "source": [
        "Note que o Seaborn também inclui uma curva aproximando a função de densidade de probabilidade. às vezes, é interessante apenas apresentar tal curva, para facilitar a visualização. Isso principalmente quando estamos comparando mais de um histograma."
      ]
    },
    {
      "cell_type": "code",
      "execution_count": null,
      "metadata": {
        "id": "Hl2vFf6tlPrL"
      },
      "outputs": [],
      "source": [
        "import seaborn as sns\n",
        "plt.figure(figsize=(8,5))\n",
        "\n",
        "sns.distplot(dft[\"Marca A\"],hist=False,label=\"Marca A\")\n",
        "sns.distplot(dft[\"Marca B\"],hist=False,label=\"Marca B\")\n",
        "sns.distplot(dft[\"Marca C\"],hist=False,label=\"Marca C\")\n",
        "\n",
        "plt.xlabel(\"Tempo (em meses)\", fontsize=12)\n",
        "plt.legend()\n",
        "\n",
        "plt.show()"
      ]
    },
    {
      "cell_type": "markdown",
      "metadata": {
        "id": "kHrkTH6tdrw0"
      },
      "source": [
        "# Boxplot\n",
        "\n",
        "O Boxplot (ou diagrama de caixa) é uma ferramenta gráfica utilizada para ilustrar a distribuição de um conjunto de dados com base em cinco medidas principais:\n",
        "\n",
        "- Valor mínimo desconsiderando outliers,\n",
        "- Primeiro quartil (Q1),\n",
        "- Mediana,\n",
        "- Terceiro quartil (Q3),\n",
        "- Valor máximo desconsiderando outliers.\n",
        "\n",
        "Além desses valores, também podemos incluir em um gráfico com Boxplot os outliers, de forma a compreender quantos são e onde se encontram em relação ás demais medidas.\n",
        "\n",
        "Por padrão, consideramos os valores de máximo e mínimo no boxplot como $ Max = Q3 + 1,5*AIQ $ e $ Min = Q1 - 1,5*AIQ $, onde $ AIQ = Q3 - Q1$ é a amplitude interquartil.\n",
        "\n",
        "\n",
        "<img src='https://raw.githubusercontent.com/guilhermepelegrina/Mackenzie/main/Aulas/Figuras/fig_graficos_boxplot.png' width=\"900\">"
      ]
    },
    {
      "cell_type": "code",
      "execution_count": null,
      "metadata": {
        "id": "VHFNnSEwe9sC"
      },
      "outputs": [],
      "source": [
        "# Exemplo:\n",
        "\n",
        "plt.figure(figsize=(8,6))\n",
        "\n",
        "plt.boxplot(df[\"alcohol\"])\n",
        "plt.ylabel(\"Teor alcoólico\")\n",
        "plt.title(\"Teor alcoólico dos vinhos tintos\")\n",
        "\n",
        "plt.show()"
      ]
    },
    {
      "cell_type": "code",
      "execution_count": null,
      "metadata": {
        "id": "vbnDyVoxgppo"
      },
      "outputs": [],
      "source": [
        "# Customizações\n",
        "\n",
        "plt.figure(figsize=(8,6))\n",
        "\n",
        "plt.boxplot(df[\"alcohol\"], patch_artist=True,\n",
        "            boxprops=dict(facecolor=\"silver\", color=\"r\"),\n",
        "            medianprops=dict(color=\"blue\"),\n",
        "            capprops=dict(color=\"g\"),\n",
        "            whiskerprops=dict(color=\"m\"),\n",
        "            flierprops=dict( markeredgecolor=\"c\"))\n",
        "plt.ylabel(\"Teor alcoólico\")\n",
        "plt.title(\"Teor alcoólico dos vinhos tintos\")\n",
        "plt.show()"
      ]
    },
    {
      "cell_type": "markdown",
      "metadata": {
        "id": "WJ12VrohhK1U"
      },
      "source": [
        "Em muitos casos, é interessante plotar mais de um boxplot um ao lado do outro para comparar distribuições de dados diferentes. Nesse caso, é recomendado utilizar a interface orientada a objetos.\n",
        "\n",
        "Veja no exemplo a seguir a comparação em relação ao teor para vinhos considerados bons (*quality > 5*) e vinhos considerados ruins (*quality <= 5*)."
      ]
    },
    {
      "cell_type": "code",
      "execution_count": null,
      "metadata": {
        "id": "I1kB3aAOhpXT"
      },
      "outputs": [],
      "source": [
        "fig, ax = plt.subplots(figsize=(8,5))\n",
        "\n",
        "plt.boxplot(df[df.quality > 5][\"alcohol\"], positions=[1])\n",
        "plt.boxplot(df[df.quality <= 5][\"alcohol\"], positions=[2])\n",
        "ax.set_xticklabels(['Vinho bom', 'Vinho ruim'])\n",
        "\n",
        "plt.ylabel(\"Teor alcoólico dos vinhos tintos bons e ruins\")\n",
        "plt.show()"
      ]
    },
    {
      "cell_type": "markdown",
      "metadata": {
        "id": "r2doLCVDsRrc"
      },
      "source": [
        "## Boxplot com o Seaborn\n",
        "\n",
        "O uso do Seaborn para construir boxplots facilita, principalmente, quando comparamos distribuições de dados.\n",
        "\n",
        "Veja como ficam os comandos para plotar os boxplots comparando vinhos bons e ruins de acordo com o teor alcoólico."
      ]
    },
    {
      "cell_type": "code",
      "execution_count": null,
      "metadata": {
        "id": "eQ9Cn4mbtOyB"
      },
      "outputs": [],
      "source": [
        "# Criando uma coluna de dados indicando com 1 os vinhos bons e 0 os vinhos ruins\n",
        "\n",
        "df['quality_class'] = (df.quality > 5).astype(int)\n",
        "df"
      ]
    },
    {
      "cell_type": "code",
      "execution_count": null,
      "metadata": {
        "id": "es8SVQWnwc-L"
      },
      "outputs": [],
      "source": [
        "import seaborn as sns\n",
        "plt.figure(figsize=(7,5))\n",
        "\n",
        "sns.boxplot(x=\"quality_class\", y=\"alcohol\", data=df,color=\"lightgrey\", linewidth=1.0, width=0.8,showmeans=True,\n",
        "            meanprops={\"marker\":\"o\",\n",
        "                       \"markerfacecolor\":\"white\",\n",
        "                       \"markeredgecolor\":\"black\",\n",
        "                      \"markersize\":\"2\"})\n",
        "plt.ylabel(\"Teor alcoólico\", fontsize=10)\n",
        "plt.xlabel(\"Vinhos tintos\", fontsize=13)\n",
        "plt.title(\"Teor alcoólico dos vinhos tintos bons (1) e ruins (0)\", fontsize=10)\n",
        "\n",
        "plt.show()"
      ]
    },
    {
      "cell_type": "markdown",
      "metadata": {
        "id": "goTofjd4k6pG"
      },
      "source": [
        "Para ilustrar os comandos dessa aula, vamos utilizar novamente o conjunto de dados [Bike Sharing](http://archive.ics.uci.edu/ml/datasets/Bike+Sharing+Dataset)."
      ]
    },
    {
      "cell_type": "code",
      "execution_count": null,
      "metadata": {
        "id": "7IRrGnuOlPqz"
      },
      "outputs": [],
      "source": [
        "import pandas as pd\n",
        "dados = pd.read_csv('https://raw.githubusercontent.com/guilhermepelegrina/Mackenzie/main/Datasets/data_bike_sharing_day.csv')\n",
        "dados"
      ]
    },
    {
      "cell_type": "markdown",
      "metadata": {
        "id": "RyoImnG0oMhV"
      },
      "source": [
        "# Relembrando - Gráficos de linha\n",
        "\n",
        "Para ilustrar os comandos dessa aula, vamos utilizar novamente o conjunto de dados [Bike Sharing](http://archive.ics.uci.edu/ml/datasets/Bike+Sharing+Dataset).\n",
        "\n",
        "Como visto na última aula, os gráficos de linha são frequentemente usados para ilustrar funções ou séries temporais. Ou seja, é um gráfico que proporciona uma boa visualização de grandezas que evoluem ao longo do tempo.\n",
        "\n",
        "Veja, por exemplo, os gráficos abaixo que ilustram (i) a evolução do número de bicicletas alugadas ocasionalmente ao longo dos anos de 2011 e 2012, (ii) a temperatura normalizada e (iii) a evolução do número de bicicletas alugadas por pessoas registradas ao longo dos anos de 2011 e 2012."
      ]
    },
    {
      "cell_type": "code",
      "execution_count": null,
      "metadata": {
        "id": "IBTy2qdYCwlp"
      },
      "outputs": [],
      "source": [
        "import pandas as pd\n",
        "dados = pd.read_csv('https://raw.githubusercontent.com/guilhermepelegrina/Mackenzie/main/Datasets/data_bike_sharing_day.csv')\n",
        "dados"
      ]
    },
    {
      "cell_type": "code",
      "execution_count": null,
      "metadata": {
        "id": "wcliOluZo74d"
      },
      "outputs": [],
      "source": [
        "import matplotlib.pyplot as plt\n",
        "import numpy as np\n",
        "\n",
        "x = np.arange(0,len(dados),1)\n",
        "\n",
        "plt.figure(figsize=(16,4))\n",
        "plt.plot(x, dados.casual)\n",
        "\n",
        "plt.title('Bicicletas alugadas ocasionalmente nos anos de 2011 e 2012')\n",
        "plt.xlabel('Dias')\n",
        "plt.ylabel('Número de bicicletas alugadas')\n",
        "\n",
        "plt.show()\n",
        "\n",
        "x = np.arange(0,len(dados),1)\n",
        "\n",
        "plt.figure(figsize=(16,4))\n",
        "plt.plot(x, dados.temp, '-r')\n",
        "\n",
        "plt.title('Temperatura (normalizada) anos de 2011 e 2012')\n",
        "plt.xlabel('Dias')\n",
        "plt.ylabel('Temperatura (normalizada)')\n",
        "\n",
        "plt.show()\n",
        "\n",
        "x = np.arange(0,len(dados),1)\n",
        "\n",
        "plt.figure(figsize=(16,4))\n",
        "plt.plot(x, dados.registered, '-g')\n",
        "\n",
        "plt.title('Bicicletas alugadas por pessoas registradas nos anos de 2011 e 2012')\n",
        "plt.xlabel('Dias')\n",
        "plt.ylabel('Número de bicicletas alugadas')\n",
        "\n",
        "plt.show()"
      ]
    },
    {
      "cell_type": "markdown",
      "metadata": {
        "id": "LlGlw8_hoMmM"
      },
      "source": [
        "É possível notar uma relação positiva entre a variação da temperatura com a variação de bicicletas alugadas (seja ocasionalmente ou por pessoas registradas). Para melhor visualizar essa relação, podes usar gráficos de dispersão (ou Scatter plots)."
      ]
    },
    {
      "cell_type": "markdown",
      "metadata": {
        "id": "9_MKBTxvv9jK"
      },
      "source": [
        "# Gráficos de dispersão ou scatter plots\n",
        "\n",
        "Como mencionado, o gráfico de dispersão é muito útil para analisar a relação entre duas variáveis quantitativas. Com ele, podemos visualizar se há uma relação positiva, negativa ou se não há relação entre as variáveis.\n",
        "\n",
        "Veja abaixo o exemplo com os gráficos apresentados anteriormente."
      ]
    },
    {
      "cell_type": "code",
      "execution_count": null,
      "metadata": {
        "id": "J1kwdMQWu83h"
      },
      "outputs": [],
      "source": [
        "plt.figure(figsize=(7,5))\n",
        "\n",
        "plt.scatter(dados.temp, dados.casual, c=\"blue\")\n",
        "plt.title('Scatter plot - Temperatura normalizada x Aluguel ocasional', fontsize=14, weight='bold')\n",
        "plt.ylabel(\"# de bicicletas alugadas ocasionalmente\", fontsize=14)\n",
        "plt.xlabel(\"Temperatura normalizada\", fontsize=14)\n",
        "plt.show()\n",
        "\n",
        "plt.figure(figsize=(7,5))\n",
        "\n",
        "plt.scatter(dados.temp, dados.registered, c=\"blue\")\n",
        "plt.title('Scatter plot - Temperatura normalizada x Aluguel registrado', fontsize=14, weight='bold')\n",
        "plt.ylabel(\"# de bicicletas alugadas por pessoas registradas\", fontsize=14)\n",
        "plt.xlabel(\"Temperatura normalizada\", fontsize=14)\n",
        "plt.show()"
      ]
    },
    {
      "cell_type": "markdown",
      "metadata": {
        "id": "2PAxcjsIwmRl"
      },
      "source": [
        "Veja que em ambos os gráficos de dispersão, há uma certa tendência crescente entre a temperatura e o número de bicicletas alugadas.\n",
        "\n",
        "Em algumas aplicações, é interessante avaliar relações entre atributos condicionados a uma outra variável. Por exemplo, poderíamos plotar o gráfico de dispersão para visualizar a relação entre temperatura e bicicletas alugadas para diferentes estações do ano."
      ]
    },
    {
      "cell_type": "code",
      "execution_count": null,
      "metadata": {
        "id": "sHKor0jgxazy"
      },
      "outputs": [],
      "source": [
        "fig, ax = plt.subplots(figsize=(10,5))\n",
        "g=ax.scatter(dados.temp,dados.casual,c=dados.season)\n",
        "\n",
        "handles,_ =g.legend_elements( )\n",
        "legend2 = ax.legend(handles, [\"Primavera\",\"Verão\", \"Outono\", \"Inverno\"], loc=\"upper left\", title=\"Estação do ano\")\n",
        "plt.xlabel(\"Temperatura normalizada\", fontsize=14)\n",
        "plt.ylabel(\"Bicicletas alugadas ocasionalmente\", fontsize=14)\n",
        "plt.show()"
      ]
    },
    {
      "cell_type": "markdown",
      "metadata": {
        "id": "HQhr4ixRzBiv"
      },
      "source": [
        "## Usando a biblioteca Seaborn\n",
        "\n",
        "Os comandos para o uso da biblioteca Seaborn são bem simples. Para as customizações usando essa biblioteca, consulte o link abaixo:\n",
        "\n",
        "https://seaborn.pydata.org/generated/seaborn.scatterplot.html\n"
      ]
    },
    {
      "cell_type": "code",
      "execution_count": null,
      "metadata": {
        "id": "kcsTqQWZzU4q"
      },
      "outputs": [],
      "source": [
        "import seaborn as sns\n",
        "\n",
        "plt.figure(figsize=(12,5))\n",
        "plt.subplot(1,2,1)\n",
        "sns.scatterplot(data = dados, x = 'temp', y = 'casual')\n",
        "\n",
        "plt.subplot(1,2,2)\n",
        "sns.scatterplot(data = dados, x = 'temp', y = 'casual', hue=\"season\")\n",
        "plt.plot()"
      ]
    },
    {
      "cell_type": "markdown",
      "metadata": {
        "id": "VkARyD5w0-Y8"
      },
      "source": [
        "# Heatmaps\n",
        "\n",
        "Perceba que nos gráficos de dispersão mostrados anteriormente, conseguimos visualizar uma relação entre variáveis mas sem uma medida que quantifique tal relação. Uma das medidas mais comuns seria o coeficiente de correlação de Pearson que, em resumo, mede a correlação (linear) entre variáveis.\n",
        "\n",
        "No Pandas, podemos calcular a correlação entre variáveis numéricas de um `DataFrame` usando o comando `df.corr()`. No entanto, o conjunto de dados `df` deve ter apenas variáveis numéricas. Caso contrário, o comando apresentará erro. Veja no exemplo a seguir."
      ]
    },
    {
      "cell_type": "code",
      "execution_count": null,
      "metadata": {
        "id": "u7GS0Rvbc2Kk"
      },
      "outputs": [],
      "source": [
        "dados2 = dados.drop('instant', axis=1).select_dtypes(include='number')\n",
        "dados2.corr()"
      ]
    },
    {
      "cell_type": "markdown",
      "metadata": {
        "id": "pXig3vdZeelr"
      },
      "source": [
        "Uma forma mais interessante de visualizar as correlações é através do gráfico Heatmap (ou mapa de calor). Esses mapas ajudam a compreender melhor como cada variável se relaciona.\n",
        "\n",
        "Veja abaixo como ele é construído usando a biblioteca Seaborn."
      ]
    },
    {
      "cell_type": "code",
      "execution_count": null,
      "metadata": {
        "id": "jRn9cqwNekfa"
      },
      "outputs": [],
      "source": [
        "plt.figure(figsize=(12,5))\n",
        "\n",
        "sns.heatmap(dados2.corr(),cmap=\"YlOrBr\", annot = True, fmt=\".3f\");"
      ]
    }
  ],
  "metadata": {
    "colab": {
      "provenance": [],
      "authorship_tag": "ABX9TyNaYhfovWCfGpf/1IDgXxz9",
      "include_colab_link": true
    },
    "kernelspec": {
      "display_name": "Python 3",
      "name": "python3"
    },
    "language_info": {
      "name": "python"
    }
  },
  "nbformat": 4,
  "nbformat_minor": 0
}