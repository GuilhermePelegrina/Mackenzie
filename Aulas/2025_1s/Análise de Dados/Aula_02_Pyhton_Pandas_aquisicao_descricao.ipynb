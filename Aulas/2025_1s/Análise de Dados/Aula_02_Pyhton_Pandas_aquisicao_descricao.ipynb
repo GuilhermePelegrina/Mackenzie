{
  "nbformat": 4,
  "nbformat_minor": 0,
  "metadata": {
    "colab": {
      "provenance": [],
      "authorship_tag": "ABX9TyMKl/1/E+P7xvwRG/P+f7Hl",
      "include_colab_link": true
    },
    "kernelspec": {
      "name": "python3",
      "display_name": "Python 3"
    },
    "language_info": {
      "name": "python"
    }
  },
  "cells": [
    {
      "cell_type": "markdown",
      "metadata": {
        "id": "view-in-github",
        "colab_type": "text"
      },
      "source": [
        "<a href=\"https://colab.research.google.com/github/GuilhermePelegrina/Mackenzie/blob/main/Aulas/2025_1s/An%C3%A1lise%20de%20Dados/Aula_02_Pyhton_Pandas_aquisicao_descricao.ipynb\" target=\"_parent\"><img src=\"https://colab.research.google.com/assets/colab-badge.svg\" alt=\"Open In Colab\"/></a>"
      ]
    },
    {
      "cell_type": "markdown",
      "metadata": {
        "id": "3VMWLks4NhvQ"
      },
      "source": [
        "<img src='https://raw.githubusercontent.com/guilhermepelegrina/Mackenzie/main/logo_mackenzie_analise_dados.png' width=\"600\">"
      ]
    },
    {
      "cell_type": "markdown",
      "metadata": {
        "id": "-vQsKw-ONjDW"
      },
      "source": [
        "# **Introdução ao Python e ao Google Colab**\n",
        "\n",
        "Nesta aula, revisaremos alguns comandos / funções básicas em Python que serão usados nesta disciplina. Esses comandos / funções são muito úteis quando criamos um projeto de Ciência de Dados, ou seja, que são usados tanto para Análise Exploratória de Dados quanto para Aprendizado de Máquina.\n",
        "\n",
        "Também será apresentado o Google Colab, um serviço de armazenamento em nuvem de notebooks (códigos) em Python. Como o Google Colab roda na nuvem (do Google), não precisamos instalar o Python na máquina. Basta programar online através do Google Colab."
      ]
    },
    {
      "cell_type": "markdown",
      "metadata": {
        "id": "DV-JEVmrOR4o"
      },
      "source": [
        "# Variáveis e Atribuições\n",
        "\n",
        "- As variáveis são elementos usados para armazenar valores, como números, textos, listas, entre outros.\n",
        "- Chamamos de atribuição de valores a passagem de uma informação a determinada variável."
      ]
    },
    {
      "cell_type": "code",
      "execution_count": null,
      "metadata": {
        "id": "nLX_HMwR-8ib"
      },
      "outputs": [],
      "source": [
        "import numpy as np # Coleção de funções matemáticas para manipulações algébricas"
      ]
    },
    {
      "cell_type": "code",
      "execution_count": null,
      "metadata": {
        "id": "vUTG3hRuOZRK"
      },
      "outputs": [],
      "source": [
        "# Exemplos de variáveis e atribuições\n",
        "\n",
        "inteiro = 123 # Número inteiro\n",
        "real = np.pi  # Número real\n",
        "\n",
        "print(inteiro, type(inteiro))\n",
        "print(real, type(real))"
      ]
    },
    {
      "cell_type": "code",
      "execution_count": null,
      "metadata": {
        "id": "IZ2oOnrAObWo"
      },
      "outputs": [],
      "source": [
        "# Para o Python, os números seguintes são inteiros ou reais?\n",
        "\n",
        "num1 = 6\n",
        "num2 = 6.0\n",
        "num3 = 6/4\n",
        "num4 = 2/1\n",
        "num5 = 6 + 5.0\n",
        "\n",
        "print(num1, type(num1))\n",
        "print(num2, type(num2))\n",
        "print(num3, type(num3))\n",
        "print(num4, type(num4))\n",
        "print(num5, type(num5))"
      ]
    },
    {
      "cell_type": "markdown",
      "metadata": {
        "id": "s54ZWyXkOe5X"
      },
      "source": [
        "# Strings\n",
        "\n",
        "Strings são estruturas usadas para armazenar informações de texto (sequência de caracteres). Essa sequência de caracteres pode conter números, letras e pontuações.\n",
        "\n",
        "`str[ inicio : tamanho ]`\n",
        "ou\n",
        "`str[ inicio : fim+1 ]`\n"
      ]
    },
    {
      "cell_type": "code",
      "execution_count": null,
      "metadata": {
        "id": "erNloZl9OfQw"
      },
      "outputs": [],
      "source": [
        "# Exemplos de strings\n",
        "\n",
        "texto1 = '123' # texto\n",
        "texto2 = 'TIC !' # texto\n",
        "texto3 = \"Aula de python\"\n",
        "\n",
        "print(texto1, type(texto1))\n",
        "print(texto2, type(texto2))\n",
        "print(texto3[0:9])"
      ]
    },
    {
      "cell_type": "code",
      "execution_count": null,
      "metadata": {
        "id": "7auVWdB5Ojb1"
      },
      "outputs": [],
      "source": [
        "# Calculando o tamanho da string\n",
        "\n",
        "print(len(texto1))\n",
        "print(len(texto2))"
      ]
    },
    {
      "cell_type": "markdown",
      "metadata": {
        "id": "uIdoxCf9Or4f"
      },
      "source": [
        "# Print e Input"
      ]
    },
    {
      "cell_type": "code",
      "execution_count": null,
      "metadata": {
        "id": "EDUZH6t2Otso"
      },
      "outputs": [],
      "source": [
        "# Exemplo 1\n",
        "\n",
        "texto = input('Entre com um texto: ')\n",
        "print(texto)"
      ]
    },
    {
      "cell_type": "code",
      "execution_count": null,
      "metadata": {
        "id": "inLr04j7Ou-A"
      },
      "outputs": [],
      "source": [
        "# Exemplo 2\n",
        "\n",
        "numero = float(input('Entre com um número: '))\n",
        "print('Seu número mais um: ', numero+1)"
      ]
    },
    {
      "cell_type": "markdown",
      "metadata": {
        "id": "RiJOJcpZPGUQ"
      },
      "source": [
        "# Numpy"
      ]
    },
    {
      "cell_type": "code",
      "execution_count": null,
      "metadata": {
        "id": "vBywEO_1PI-f"
      },
      "outputs": [],
      "source": [
        "import numpy as np\n",
        "\n",
        "x = np.array([1,2,3])\n",
        "media = np.mean(x)\n",
        "soma = np.sum(x)\n",
        "\n",
        "print('Média:', media, 'Soma:', soma)\n",
        "print(type(media), type(soma))"
      ]
    },
    {
      "cell_type": "code",
      "execution_count": null,
      "metadata": {
        "id": "Svdfd5YsPOxd"
      },
      "outputs": [],
      "source": [
        "# Exemplo: Gerador (não)aleatório\n",
        "np.random.seed(2) # semente de geração aleatória\n",
        "x = np.array(np.random.randint(low=1, high=6, size=10))\n",
        "print(x)\n",
        "\n",
        "x = np.array(np.random.randint(low=1, high=6, size=10))\n",
        "print(x)\n",
        "\n",
        "np.random.seed(2) # semente de geração aleatória\n",
        "x = np.array(np.random.randint(low=1, high=6, size=10))\n",
        "print(x)"
      ]
    },
    {
      "cell_type": "code",
      "execution_count": null,
      "metadata": {
        "id": "uO3rTt10PeOI"
      },
      "outputs": [],
      "source": [
        "# Selecionado partes (slices) de um vetor\n",
        "\n",
        "array1 = np.random.randint(low=5, high=10, size=10)\n",
        "\n",
        "print(array1)\n",
        "\n",
        "slice1 = array1[0:3]\n",
        "print(slice1)\n",
        "\n",
        "print(array1[2:4])\n",
        "print(array1[2:])\n",
        "print(array1[2:-1])"
      ]
    },
    {
      "cell_type": "code",
      "execution_count": null,
      "metadata": {
        "id": "8GUdYcMvPgLx"
      },
      "outputs": [],
      "source": [
        "# Alterando valores de vetor\n",
        "\n",
        "vetor = np.array([1,4,7])\n",
        "print(vetor)\n",
        "\n",
        "vetor[1] = 10\n",
        "print(vetor)"
      ]
    },
    {
      "cell_type": "code",
      "execution_count": null,
      "metadata": {
        "id": "Qa0fgKeZPizp"
      },
      "outputs": [],
      "source": [
        "# Alterando valores de matriz\n",
        "\n",
        "matriz = np.array(([1,4,7], [3,5,9]))\n",
        "print(matriz)\n",
        "\n",
        "matriz[0,2] = 10\n",
        "print(matriz)"
      ]
    },
    {
      "cell_type": "markdown",
      "source": [
        "# **Introdução à biblioteca Pandas: Criação, leitura e descrição estatística dos dados.**\n",
        "\n",
        "Iniciamos, agora, a Análise de Dados usando a biblioteca (API) Pandas em Python. Dentro dessa biblioteca, temos diversas funções e ferramentas úteis para manipulação e análise de dados orientada a colunas.\n",
        "\n",
        "Há dois tipos de estruturas usadas em Pandas para manipular os dados:\n",
        "\n",
        "- `DataFrame`: seria como uma tabela de dados relacionais, com linhas e colunas nomeadas, como no Excel.\n",
        "\n",
        "- `Series`: é uma única coluna de dados, também nomeada. O `DataFrame` contém uma ou mais `Series` com um nome para cada uma delas.\n",
        "\n",
        "Ao longo da disciplina, veremos muitas dessas funções. Um resumo dessas funções pode ser acessada em [Pandas_Cheat_Sheet](https://pandas.pydata.org/Pandas_Cheat_Sheet.pdf). Para quem tiver interesse em se aprofundar mais sobre o uso do Pandas, acesse a página [Pandas web page](https://pandas.pydata.org/)."
      ],
      "metadata": {
        "id": "vSp4QD_aK-Ck"
      }
    },
    {
      "cell_type": "markdown",
      "source": [
        "## Importando as bibliotecas Pandas"
      ],
      "metadata": {
        "id": "Aswnp2gCtRJU"
      }
    },
    {
      "cell_type": "code",
      "execution_count": null,
      "metadata": {
        "id": "LNy4DYDUKogG"
      },
      "outputs": [],
      "source": [
        "import pandas as pd"
      ]
    },
    {
      "cell_type": "markdown",
      "source": [
        "## Criando uma Series e um DataFrame\n",
        "\n",
        "Uma `Series` pode ser criada a partir de uma lista."
      ],
      "metadata": {
        "id": "_mcWS08ltY1D"
      }
    },
    {
      "cell_type": "code",
      "source": [
        "nomes = pd.Series(['Pedro', 'Carol', 'Ana'])\n",
        "nomes\n"
      ],
      "metadata": {
        "id": "Q3SCdsCmteW8"
      },
      "execution_count": null,
      "outputs": []
    },
    {
      "cell_type": "code",
      "source": [
        "ano = pd.Series([3, 5, 2])\n",
        "ano"
      ],
      "metadata": {
        "id": "cf0W7gyKbCN6"
      },
      "execution_count": null,
      "outputs": []
    },
    {
      "cell_type": "markdown",
      "source": [
        "Já o `Dataframe`, usamos uma estrutura de dicionário."
      ],
      "metadata": {
        "id": "_wSPWym7EfdB"
      }
    },
    {
      "cell_type": "code",
      "source": [
        "dados = pd.DataFrame({ 'Alunos': nomes, 'Ano_Letivo': ano })\n",
        "\n",
        "dados"
      ],
      "metadata": {
        "id": "Yxjiwcgca5pR"
      },
      "execution_count": null,
      "outputs": []
    },
    {
      "cell_type": "markdown",
      "source": [
        "Também podemos criar o `DataFrame` adicionando os dados (sem usar `Series` já criadas), como no exemplo abaixo."
      ],
      "metadata": {
        "id": "bhVOfYU7u_lf"
      }
    },
    {
      "cell_type": "code",
      "source": [
        "dados_df = pd.DataFrame({'Alunos': ['João', 'Matheus', 'Maria'],\n",
        "                        'Ano_Letivo': [1, 3, 2],\n",
        "                        'Cidade': ['São Paulo', 'Cajamar', 'Americana']})\n",
        "\n",
        "dados_df"
      ],
      "metadata": {
        "id": "IY6IRy1RvS4z"
      },
      "execution_count": null,
      "outputs": []
    },
    {
      "cell_type": "code",
      "source": [
        "dados_df"
      ],
      "metadata": {
        "id": "Hi6jOn-pZjGZ"
      },
      "execution_count": null,
      "outputs": []
    },
    {
      "cell_type": "markdown",
      "source": [
        "## Lendo e salvando um DataFrame\n",
        "\n",
        "Embora temos a opção de criar dados de uma maneira \"manual\", é mais comum trabalharmos com conjunto de dados já prontos. A partir do Pandas, podemos ler e gravar dados de diferentes fontes como arquivos. Exemplos são arquivos em .csv, .xlsx e bancos de dados sql (dentre outros). A tabela seguir mostra os comandos para ler a salvar dados de diversos formatos.\n",
        "\n",
        "| Format        | Read           | Save          |\n",
        "| ------------- |:--------------:| ----------------:|\n",
        "| csv           | `pd.read_csv()`  |`df.to_csv()`     |\n",
        "| json          | `pd.read_json()` |`df.to_json()`    |\n",
        "| xlsx          | `pd.read_excel()`|`df.to_excel()`   |\n",
        "| hdf           | `pd.read_hdf()`  |`df.to_hdf()`     |\n",
        "| sql           | `pd.read_sql()`  |`df.to_sql()`     |\n"
      ],
      "metadata": {
        "id": "YFRJyDiGw7Pt"
      }
    },
    {
      "cell_type": "markdown",
      "source": [
        "**Lendo dados da internet**"
      ],
      "metadata": {
        "id": "7HJWJli4cHQ_"
      }
    },
    {
      "cell_type": "code",
      "source": [
        "# Bank Marketing\n",
        "\n",
        "# Note que, para os arquivos .csv, às vezes é necessário indicar como as colunas estão separadas (por \",\" ou \";\")\n",
        "\n",
        "df1 = pd.read_csv(\"https://raw.githubusercontent.com/guilhermepelegrina/Mackenzie/main/Datasets/data_bank_marketing.csv\", sep = ';')\n",
        "df1"
      ],
      "metadata": {
        "id": "VpbAdUjqyKeL"
      },
      "execution_count": null,
      "outputs": []
    },
    {
      "cell_type": "code",
      "source": [
        "# Bitcoin Prices\n",
        "\n",
        "df2 = pd.read_excel(\"https://raw.githubusercontent.com/guilhermepelegrina/Mackenzie/main/Datasets/data_bitcoin_prices.xlsx\")\n",
        "df2"
      ],
      "metadata": {
        "id": "x6lV4LvTzasW"
      },
      "execution_count": null,
      "outputs": []
    },
    {
      "cell_type": "markdown",
      "source": [
        "**Salvando um DataFrame no ambiente local do Colab e carregando dados**"
      ],
      "metadata": {
        "id": "LaUKXdXxcO9v"
      }
    },
    {
      "cell_type": "code",
      "source": [
        "# Retornando o diretorio de trabalho\n",
        "\n",
        "import os\n",
        "os.getcwd()"
      ],
      "metadata": {
        "id": "fYrnKKZz0DbW"
      },
      "execution_count": null,
      "outputs": []
    },
    {
      "cell_type": "code",
      "source": [
        "# Salvando no ambiente local\n",
        "\n",
        "df1.to_csv('/content/my_df.csv',index=False)\n"
      ],
      "metadata": {
        "id": "e7tA2LuM0GPD"
      },
      "execution_count": null,
      "outputs": []
    },
    {
      "cell_type": "code",
      "source": [
        "# Carregando os dados a partir do ambiente local\n",
        "\n",
        "dfnew = pd.read_csv('/content/my_df.csv')\n",
        "dfnew"
      ],
      "metadata": {
        "id": "a2eTC5w4cL-J"
      },
      "execution_count": null,
      "outputs": []
    },
    {
      "cell_type": "markdown",
      "source": [
        "**Carregando arquivos do computador e salvando arquivos**\n",
        "\n",
        "Você pode querer carregar arquivos no Colab a partir de arquivos que estão no seu computador. Para isso o comando `files.upload` permite selecionar um ou mais arquivos para upload no ambiente de execução do Colab."
      ],
      "metadata": {
        "id": "QsucrQPWcx64"
      }
    },
    {
      "cell_type": "code",
      "source": [
        "from google.colab import files\n",
        "\n",
        "uploaded = files.upload()\n",
        "\n",
        "for fn in uploaded.keys():\n",
        "  print('User uploaded file \"{name}\" with length {length} bytes'.format(\n",
        "      name=fn, length=len(uploaded[fn])))"
      ],
      "metadata": {
        "id": "Rfz0cYfrYu2g"
      },
      "execution_count": null,
      "outputs": []
    },
    {
      "cell_type": "markdown",
      "source": [
        "Já o comando `files.download` faz o download do arquivo pelo navegador para seu computador local."
      ],
      "metadata": {
        "id": "EkaLcgIIZu9u"
      }
    },
    {
      "cell_type": "code",
      "source": [
        "files.download('my_df.csv')"
      ],
      "metadata": {
        "id": "ae8r1h0OZCrn"
      },
      "execution_count": null,
      "outputs": []
    },
    {
      "cell_type": "markdown",
      "source": [
        "## Extraindo informações sobre a estrutura dos dados\n",
        "\n",
        "Antes de manipularmos e analisarmos os dados coletados, é interessante visualizar algumas informações básicas sobre a estrutura dos dados. Os comandos a seguir são muito úteis para essa tarefa.\n",
        "\n",
        "- `df.head()`: Permite visualizar as primeiras linhas do `DataFrame`.\n",
        "- `df.tail()`: Permite visualizar as últimas linhas do `DataFrame`. Tanto para o `df.head()` quanto para o `df.tail()`, a Python, por padrão, apresenta as 5 primeiras ou últimas linhas. Mas podemos especificar quantas linhas queremos colocando o valor desejado entre os parênteses.\n",
        "- `df.shape`: Fornece, respectivamente, o número de linhas (geralmente, as amostras) e o número de colunas (geralmente, os atributos) do `DataFrame`.\n",
        "- `len(df)`: Fornece o número de linhas `DataFrame`.\n",
        "- `df.columns.to_list()`: Extrai os nomes das linhas e salva em uma lista.\n",
        "- `df.dtypes`: Extrai os tipos dos atributos.\n",
        "- `df.describe()`: Extrai informações estatísticas sobre os dados.\n",
        "- `df.info()`: Extrai informações sobre tipo e tamanho das colunas."
      ],
      "metadata": {
        "id": "eU3mBCEa1cjl"
      }
    },
    {
      "cell_type": "code",
      "source": [
        "# Visualizando as primeiras linhas\n",
        "\n",
        "df1.head(8)"
      ],
      "metadata": {
        "id": "Kl-pyKNc3DbE"
      },
      "execution_count": null,
      "outputs": []
    },
    {
      "cell_type": "code",
      "source": [
        "# Visualizando as últimas linhas\n",
        "\n",
        "df1.tail()"
      ],
      "metadata": {
        "id": "Do5hU2Qc3kXt"
      },
      "execution_count": null,
      "outputs": []
    },
    {
      "cell_type": "code",
      "source": [
        "# Extraindo o número de linhas e de colunas\n",
        "\n",
        "df1.shape"
      ],
      "metadata": {
        "id": "wvybuc113_Zk"
      },
      "execution_count": null,
      "outputs": []
    },
    {
      "cell_type": "code",
      "source": [
        "# Extraindo o número de linhas e de colunas\n",
        "\n",
        "len(df1)"
      ],
      "metadata": {
        "id": "ACeqs0SP4E7D"
      },
      "execution_count": null,
      "outputs": []
    },
    {
      "cell_type": "code",
      "source": [
        "# Extraindo o nome das colunas e salvando em uma lista\n",
        "\n",
        "lista_colunas = df1.columns.to_list()\n",
        "print(lista_colunas)"
      ],
      "metadata": {
        "id": "Kf3Zmrf65hiM"
      },
      "execution_count": null,
      "outputs": []
    },
    {
      "cell_type": "code",
      "source": [
        "# Extraindo o tipo dos atributos (em cada coluna)\n",
        "\n",
        "df1.dtypes"
      ],
      "metadata": {
        "id": "bEfzlmg26gSE"
      },
      "execution_count": null,
      "outputs": []
    },
    {
      "cell_type": "code",
      "source": [
        "# Extraindo informações estatísticas sobre os dados.\n",
        "\n",
        "df1.describe()"
      ],
      "metadata": {
        "id": "-2r2Zwoa7c39"
      },
      "execution_count": null,
      "outputs": []
    },
    {
      "cell_type": "code",
      "source": [
        "# Extrai informações sobre tipo e tamanho das colunas\n",
        "\n",
        "df1.info()"
      ],
      "metadata": {
        "id": "JAIrc_9V69xq"
      },
      "execution_count": null,
      "outputs": []
    },
    {
      "cell_type": "markdown",
      "source": [
        "Note que ao usar o comando ``.info``, aparecem o número de células não nulas. Uma célula nula significa um dado faltante. Por exemplo, no caso de uma ficha médica, pode ser que um paciente não preencheu sobre a presença ou ausência de um determinado sintoma e, portanto, sua descrição não está completa (há uma célula vazia). Na próxima aula veremos como lidar com essa situação."
      ],
      "metadata": {
        "id": "sSWbAwV8gBU4"
      }
    },
    {
      "cell_type": "markdown",
      "source": [
        "## Selecionando dados\n",
        "\n",
        "Uma vez coletados os dados e visualidas as informações contidas neles, é comum partirmos para uma etapa de seleção de dados. Muito provavelmente, apenas parte dos dados serão usados para análise. Por exemplo, se estamos interessados em prever a demanda de um determinado produto a ser vendido na cidade de São Paulo, podemos excluir da base de dados informações relativas a outras cidades do estado, uma vez que não são relevantes para o nosso objetivo. Há, também, casos em que temos colunas no conjunto de dados que não servem exatamente para análise (ID de pacientes em hospitais, por exemplo)."
      ],
      "metadata": {
        "id": "_mKrpS408qFk"
      }
    },
    {
      "cell_type": "markdown",
      "source": [
        "# Seleção de colunas\n",
        "\n",
        "Primeiramente, vamos focar em selecionar colunas que interessam para nossa Análise dos Dados. Lembre-se que colunas em um `DataFrame` são `Series` do Pandas. Então, ao extrair uma única coluna, estamos selecionado uma `Series` do conjunto de dados.\n",
        "\n",
        "Há basicamente duas formas de seleção de colunas."
      ],
      "metadata": {
        "id": "Cth-9-TB97Ym"
      }
    },
    {
      "cell_type": "code",
      "source": [
        "idade1 = df1.age\n",
        "\n",
        "print(idade1)"
      ],
      "metadata": {
        "id": "xkp6zHYI-CRr"
      },
      "execution_count": null,
      "outputs": []
    },
    {
      "cell_type": "code",
      "source": [
        "idade2 = df1['age']\n",
        "\n",
        "print(idade2)"
      ],
      "metadata": {
        "id": "eRJqsD2k-oy1"
      },
      "execution_count": null,
      "outputs": []
    },
    {
      "cell_type": "markdown",
      "source": [
        "*dica*: A segunda forma (`df1['age']`) é útil quando temos nomes de atributos com espaços, caracteres especiais ou que se iniciam com números."
      ],
      "metadata": {
        "id": "CjO4an3_-20D"
      }
    },
    {
      "cell_type": "markdown",
      "source": [
        "Dependendo do que queremos analisar a partir da `Series` coletado, pode ser útil transformá-la em uma lista para poder realizar operações sobre esse tipo de objeto."
      ],
      "metadata": {
        "id": "icmyM2VW_Sgy"
      }
    },
    {
      "cell_type": "code",
      "source": [
        "estado_civil = df1.marital\n",
        "estado_civil"
      ],
      "metadata": {
        "id": "I--wALmw-CTi"
      },
      "execution_count": null,
      "outputs": []
    },
    {
      "cell_type": "code",
      "source": [
        "estado_civil = estado_civil.to_list()\n",
        "estado_civil"
      ],
      "metadata": {
        "id": "TCzpdRICiSOv"
      },
      "execution_count": null,
      "outputs": []
    },
    {
      "cell_type": "code",
      "source": [
        "estado_civil.count('married')"
      ],
      "metadata": {
        "id": "5cV-UKIriUSL"
      },
      "execution_count": null,
      "outputs": []
    },
    {
      "cell_type": "markdown",
      "source": [
        "# Extraindo estatísticas individuais de cada `Series`\n",
        "\n",
        "Quando usamos `df.describe()`, obtemos as estatísticas gerais de todos os atributos. Mas também podemos extrair essas características de cada coluna, individualmente. Ou seja, a partir de uma `Series` extraída do `DataFrame`, podemos aplicar calcular as estatísticas."
      ],
      "metadata": {
        "id": "OOLivhAZ_1Y9"
      }
    },
    {
      "cell_type": "code",
      "source": [
        "# Média, Desvio-padrão, Máximo e Mínimo\n",
        "\n",
        "print(df1.age.mean())\n",
        "print('Desvio-padrão:', f'{df1.age.std() :.2f}')\n",
        "print( df1.age.max() , ',' , df1.age.min() )"
      ],
      "metadata": {
        "id": "UOlEHU1cAdyK"
      },
      "execution_count": null,
      "outputs": []
    },
    {
      "cell_type": "code",
      "source": [
        "# Percentis: Mediana\n",
        "\n",
        "df1.age.quantile()"
      ],
      "metadata": {
        "id": "jrM09XYqBTz9"
      },
      "execution_count": null,
      "outputs": []
    },
    {
      "cell_type": "code",
      "source": [
        "# Diferentes percentis\n",
        "\n",
        "df1.age.quantile([0, 0.25, 0.5, 0.9])"
      ],
      "metadata": {
        "id": "89qUyUIuBkpJ"
      },
      "execution_count": null,
      "outputs": []
    },
    {
      "cell_type": "markdown",
      "source": [
        "## Estraindo os menores e maiores valores"
      ],
      "metadata": {
        "id": "D6Dv6B3II3sF"
      }
    },
    {
      "cell_type": "code",
      "source": [
        "# Obtendo os n menores\n",
        "\n",
        "df1.age.nsmallest(3)"
      ],
      "metadata": {
        "id": "nvP7GA2qIAGw"
      },
      "execution_count": null,
      "outputs": []
    },
    {
      "cell_type": "code",
      "source": [
        "# Obtendo os n maiores\n",
        "\n",
        "df1.age.nlargest(3)"
      ],
      "metadata": {
        "id": "STvYIyN0IdYo"
      },
      "execution_count": null,
      "outputs": []
    },
    {
      "cell_type": "markdown",
      "source": [
        "## Estraindo informações sobre dados categóricos\n",
        "\n",
        "Nos exemplos mencionados acima onde calculamos estatísticas dos dados, isso só foi possível porque as variáveis eram numéricas (contínuas ou discretas). No entanto, em diversos conjunto de dados, há também atributos categóricos. Esses atributos podem ser ordinais, quando há uma noção de ordem (como o nível de escolaridade), ou nominais, quando não há uma noção de ordem (como o sexo).\n",
        "\n",
        "para variáveis categóricas, os seguintes comandos extraem informações úteis."
      ],
      "metadata": {
        "id": "pctV5WLcRA67"
      }
    },
    {
      "cell_type": "code",
      "source": [
        "# Apresenta o número de categorias\n",
        "\n",
        "df1.marital.nunique()"
      ],
      "metadata": {
        "id": "bPTKUDQISAq4"
      },
      "execution_count": null,
      "outputs": []
    },
    {
      "cell_type": "code",
      "source": [
        "# Apresenta quais são as categorias\n",
        "\n",
        "df1.marital.unique()"
      ],
      "metadata": {
        "id": "bdQEP8SUSAu3"
      },
      "execution_count": null,
      "outputs": []
    },
    {
      "cell_type": "code",
      "source": [
        " # Apresenta a frequência de cada categoria\n",
        "\n",
        "df1.marital.value_counts()"
      ],
      "metadata": {
        "id": "Hd8PTvgSSGCJ"
      },
      "execution_count": null,
      "outputs": []
    },
    {
      "cell_type": "code",
      "source": [
        " # Apresenta a frequência de cada categoria (em termos percentuais)\n",
        "\n",
        "df1.marital.value_counts(normalize=True)"
      ],
      "metadata": {
        "id": "rCf_BMTCZavw"
      },
      "execution_count": null,
      "outputs": []
    },
    {
      "cell_type": "markdown",
      "source": [
        "## Selecionando mais de uma coluna\n",
        "\n",
        "Até aqui você selecionou uma única coluna, do tipo `Series` do Pandas. Mas podemos também selecionar mais colunas na classe `pd.DataFrame`.\n",
        "\n",
        "Primeiramente, vamos recordar quais são as colunas do nosso `DataFrame`."
      ],
      "metadata": {
        "id": "3dStPrAMT7A_"
      }
    },
    {
      "cell_type": "code",
      "source": [
        "df1.columns"
      ],
      "metadata": {
        "id": "81W89e5PVYbI"
      },
      "execution_count": null,
      "outputs": []
    },
    {
      "cell_type": "markdown",
      "source": [
        "Agora, vamos criar um novo `DataFrame` que é um subconjunto (das colunas) do original."
      ],
      "metadata": {
        "id": "J5AamaS1VdNW"
      }
    },
    {
      "cell_type": "code",
      "source": [
        "df2 = df1[['age', 'marital', 'loan']]\n",
        "df2.head()"
      ],
      "metadata": {
        "id": "RHUWDDbEVb_Y"
      },
      "execution_count": null,
      "outputs": []
    }
  ]
}