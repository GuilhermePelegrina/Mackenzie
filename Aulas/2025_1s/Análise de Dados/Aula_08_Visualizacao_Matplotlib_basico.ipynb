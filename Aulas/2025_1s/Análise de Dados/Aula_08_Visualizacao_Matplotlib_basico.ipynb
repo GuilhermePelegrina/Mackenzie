{
  "cells": [
    {
      "cell_type": "markdown",
      "metadata": {
        "id": "view-in-github",
        "colab_type": "text"
      },
      "source": [
        "<a href=\"https://colab.research.google.com/github/GuilhermePelegrina/Mackenzie/blob/main/Aulas/2025_1s/An%C3%A1lise%20de%20Dados/Aula_08_Visualizacao_Matplotlib_basico.ipynb\" target=\"_parent\"><img src=\"https://colab.research.google.com/assets/colab-badge.svg\" alt=\"Open In Colab\"/></a>"
      ]
    },
    {
      "cell_type": "markdown",
      "metadata": {
        "id": "yDT0n5rAx87W"
      },
      "source": [
        "<img src='https://raw.githubusercontent.com/guilhermepelegrina/Mackenzie/main/logo_mackenzie.png'>\n",
        "\n",
        "* O conteúdo desta aula foi, em grande parte, retirado do aula do Prof. Rogério de Oliveira, disponível [aqui](https://github.com/Rogerio-mack/Analise-de-Dados/blob/main/EDA_T7_Matplotlib_Visualizacao.ipynb).\n"
      ]
    },
    {
      "cell_type": "markdown",
      "metadata": {
        "id": "OKK_BbNhyvGx"
      },
      "source": [
        "# **Visualização de dados - Gráficos com Matplotlib.**\n",
        "\n",
        "Nesta aula (e nas próximas), vamos aprender como usar a biblioteca Matplotlib para criar gráficos e auxiliar na visualização dos resultados obtidos na análise de dados.\n",
        "\n",
        "O Matplotlib é uma biblioteca gráfica para visualização de dados em Python. Há outras bibliotecas para visualização de dados, como o Seaborn (que também veremos nasta disciplina), mas o Matplotlib é a mais utilizada em Ciência de Dados. Então, o conhecimento dessa ferramenta vai ajudar, e muito, na apresentação visual dos resultados encontrados. Vale reforçar que tal representação, geralmente, é mais interessante e mais facilmente compreendida pelas pessoas que estão lendo o relatório com a AED.\n",
        "\n",
        "Para acessar a documentação completa do Matplotlib, acesse [aqui](https://matplotlib.org/)."
      ]
    },
    {
      "cell_type": "markdown",
      "metadata": {
        "id": "goTofjd4k6pG"
      },
      "source": [
        "Para ilustrar os comandos dessa aula, vamos utilizar novamente o conjunto de dados do S&P 500 e do Ibovespa."
      ]
    },
    {
      "cell_type": "code",
      "execution_count": null,
      "metadata": {
        "id": "7IRrGnuOlPqz"
      },
      "outputs": [],
      "source": [
        "import pandas as pd\n",
        "\n",
        "# S&P500 - 2023\n",
        "\n",
        "sp500 = pd.read_csv(\"https://raw.githubusercontent.com/guilhermepelegrina/Mackenzie/main/Datasets/data_s&p500_2023.csv\")\n",
        "sp500.head()"
      ]
    },
    {
      "cell_type": "code",
      "execution_count": null,
      "metadata": {
        "id": "Hl2vFf6tlPrL"
      },
      "outputs": [],
      "source": [
        "# Ibovespa - 2023\n",
        "\n",
        "ibov = pd.read_csv(\"https://raw.githubusercontent.com/guilhermepelegrina/Mackenzie/main/Datasets/data_ibov_2023.csv\")\n",
        "ibov.head()"
      ]
    },
    {
      "cell_type": "markdown",
      "metadata": {
        "id": "-_P0EZaOgeeN"
      },
      "source": [
        "# Gráfico de linha\n",
        "\n",
        "Os gráficos de linha são os gráficos mais simples para visualização de dados. Geralmente, usamos esses gráficos para representar funções, com *x* no eixo horizontal e *f(x)* no eixo vertical. Também é muito útil para representar séries temporais, sendo o tempo descrito no eixo horizontal e o valor ao longo do tempo no eixo vertical.\n",
        "\n",
        "Antes de *plotar* o gráficos, precisamos importar o Matplotlib. Para isso, usamos o comando `import matplotlib.pyplot as plt`. Então, ao usarmos uma função para plotar gráficos usando o matplotlib, escrevemos `plt.função` (note que o nome `plt` pode ser alterado, mas, via de regra, esse é o nome geralmente empregado em Ciência de Dados. Também importaremos o NumPy, uma vez que o Matplotlib é desenvolvido sobre arrays NumPy.\n",
        "\n",
        "No Google Colab, também usaremos o bakcend `inline`, para que o gráfico seja  incluído em seu notebook juntamente o código que o gerou. Além disso, após os comandos para plotar o gráfico, escreveremos o comando `plt.show()`. Com ele, os objetos ativos para a construção do gráfico são executados e o gráfico é exibido abaixo na célula. No caso da utilização em outro interpretador, uma ou mais janelas são abertas para apresentar o gráfico.\n",
        "\n",
        "Ainda podemos customizar o gráfico adicionando títulos, rótulos aos eixos, legendas e alterar propriedades da linha como estilo e cor."
      ]
    },
    {
      "cell_type": "code",
      "execution_count": null,
      "metadata": {
        "id": "jXR4dXxIfRTq"
      },
      "outputs": [],
      "source": [
        "# Exemplo: Cotação diária de fechamento (\"Última\") do Ibovespa em 2023\n",
        "\n",
        "import numpy as np\n",
        "import matplotlib.pyplot as plt\n",
        "%matplotlib inline\n",
        "\n",
        "x = np.arange(0,len(ibov),1) # np.arange(a,b,c) cria um array com valores entre a e b, e com passo igual a c.\n",
        "\n",
        "plt.plot(x, ibov['Último'])\n",
        "plt.show()"
      ]
    },
    {
      "cell_type": "code",
      "execution_count": null,
      "metadata": {
        "id": "VdSuJ_wDfRV6"
      },
      "outputs": [],
      "source": [
        "# Exemplo: Comparando as cotações máximas e mínimas do Ibovespa em 2023\n",
        "\n",
        "x = np.arange(0,len(ibov),1)\n",
        "\n",
        "plt.plot(x, ibov['Máxima'], label='Cotações máximas')\n",
        "plt.plot(x, ibov['Mínima'], label='Cotações Mínimas')\n",
        "\n",
        "plt.title('Cotações máximas e mínimas do Ibovespa em 2023')\n",
        "plt.xlabel('Dias')\n",
        "plt.ylabel('Cotação')\n",
        "plt.legend()\n",
        "\n",
        "plt.show()"
      ]
    },
    {
      "cell_type": "markdown",
      "metadata": {
        "id": "_lkY2lZ7ncpI"
      },
      "source": [
        "Note que os gráficos das duas funções acima ficaram sobrepostos. Isso acontece porque o `plt.show()` foi adicionado após todos os comandos para criar os plots. O Python entende, então, que há apenas uma única figura ativa, e todos os comandos, como título, legendas e rótulos, são direcionados do mesmo modo que o plot para a mesma figura. Veja a segui o que acontece se colocarmos o `plt.show()` entre os plots."
      ]
    },
    {
      "cell_type": "code",
      "execution_count": null,
      "metadata": {
        "id": "luXSpP9MfRYI"
      },
      "outputs": [],
      "source": [
        "# Exemplo: Comparando as cotações máximas e mínimas do Ibovespa em 2023\n",
        "\n",
        "x = np.arange(0,len(ibov),1)\n",
        "\n",
        "plt.plot(x, ibov['Máxima'], label='Cotações máximas')\n",
        "\n",
        "plt.show()\n",
        "\n",
        "plt.plot(x, ibov['Mínima'], label='Cotações Mínimas')\n",
        "\n",
        "plt.title('Cotações máximas e mínimas do Ibovespa em 2023')\n",
        "plt.xlabel('Dias')\n",
        "plt.ylabel('Cotação')\n",
        "plt.legend()\n",
        "\n",
        "plt.show()"
      ]
    },
    {
      "cell_type": "markdown",
      "metadata": {
        "id": "wgdb7O-Rp0WX"
      },
      "source": [
        "# Empregando a interface direta ou de objetos\n",
        "\n",
        "Os comandos em Matplotlib podem ser empregados de duas formas. Na interface direta, o Matplotlib mantém o controle da figura e eixos 'atuais' onde as funções `plt` serão aplicadas. Essa é uma forma simples e útil, principalmente quando lidamos com gráficos simples. Vamos usá-la na maior parte do tempo.\n",
        "\n",
        "Já a interface orientada a objetos permite um melhor controle das figuras e deve ser preferida quando múltiplos gráficos ou figuras muito elaboradas são empregados. Nessa interface você pode apontar explicitamente a 'figura', seus 'eixos' e os gráficos contidos dentro de cada figura.\n",
        "\n",
        "Compare os gráficos abaixo. O primeiro emprega a interface direta. Em uma figura com múltiplos gárficos, cada novo gráfico é ativado (`subplot(linhas, colunas, gráfico ativo)`) e todos os comandos `plt`. são então direcionados para o gráfico ativo. A execução seguinte emprega a interface orientada a objetos e os comando `plot` podem então serem direcionados explicitamente para cada gráfico (`ax[i]`)."
      ]
    },
    {
      "cell_type": "code",
      "execution_count": null,
      "metadata": {
        "id": "FoLBpgfmfRav"
      },
      "outputs": [],
      "source": [
        "x = np.arange(0,len(ibov),1)\n",
        "\n",
        "plt.figure(figsize=(12,4)) # cria uma figura alterando o tamanho, figsize=(tamanho_horizontal,tamanho_vertical)\n",
        "\n",
        "plt.suptitle('Interface direta', fontsize=14, weight='bold', y=1.05)\n",
        "\n",
        "# cria e ativa um gráfico na figura\n",
        "plt.subplot(1, 2, 1) # (linhas, colunas, gráfico ativo)\n",
        "plt.plot(x, ibov['Máxima'])\n",
        "plt.title('Cotações máximas do Ibovespa')\n",
        "\n",
        "# cria e ativa um segundo gráfico na figura\n",
        "plt.subplot(1, 2, 2) # (linhas, colunas, gráfico ativo)\n",
        "plt.plot(x, ibov['Mínima'])\n",
        "plt.title('Cotações mínimas do Ibovespa')\n",
        "\n",
        "plt.tight_layout() # Ajusta o espaço entre os plots e evita sobreposições dos gráficos\n",
        "plt.show()"
      ]
    },
    {
      "cell_type": "code",
      "execution_count": null,
      "metadata": {
        "id": "NjtjVs2VfRdk"
      },
      "outputs": [],
      "source": [
        "# Cria uma grade de gráficos com 1 linha e 2 colunas de gráficos, ax é um vetor em que cada elemento corresponde a um gráfico da grade\n",
        "fig, ax = plt.subplots(1,2,figsize=(12,4)) # cria uma figura alterando o tamanho, figsize=(tamanho_horizontal,tamanho_vertical)\n",
        "\n",
        "plt.suptitle('Interface indireta', fontsize=14, weight='bold', y=1.05)\n",
        "\n",
        "# Os comandos podem então ser direcionados para o gráfico específico\n",
        "ax[0].plot(x, ibov['Máxima'])\n",
        "ax[0].set_title('Cotações máximas do Ibovespa')\n",
        "\n",
        "ax[1].plot(x, ibov['Mínima'])\n",
        "ax[1].set_title('Cotações mínimas do Ibovespa')\n",
        "\n",
        "plt.tight_layout()\n",
        "plt.show()"
      ]
    },
    {
      "cell_type": "markdown",
      "metadata": {
        "id": "PmD2QSmatWLc"
      },
      "source": [
        "# Propriedades de linha `linestyle`, `marker`, `color`, `linewidth` e `markersize`\n",
        "\n",
        "Você pode alterar várias das propriedades das linhas dos gráficos como estilo da linha, cor e sua espessura. Isso é importante para diferenciar várias linhas em um mesmo gráfico ou ainda se você quiser dar destaque a uma ou mais linhas.\n",
        "\n",
        "Essas propriedades podem ser codificadas explicitamente:\n",
        "\n",
        "`plt.plot(x, np.cos(x), color='green', marker='o', linestyle='dashed', linewidth=1, markersize=6)`\n",
        "\n",
        "Ou de forma resumida:\n",
        "\n",
        "`plt.plot(x, np.cos(x), '--og', linewidth=1, markersize=6)`\n",
        "\n",
        "A expressão `'--og'` indica o `linestyle`, seguido do `marker` e do parâmetro `color`. Eles podem aparecer em qualquer ordem, uma vez que os símbolos de cada parâmetro não se repetem. As cores nesse modo ficam entretanto limitadas ao um conjunto de cores básicas `rgbcmyk` (`r`=red, `g`=green, ...).\n",
        "\n",
        "O esquema de cores é bastante sofisticado e permite empregar de cores básicas à tons de cinza, como também especificar valores de cada componente RGB (esquema de combinação de cores básicas Red, Green, Blue) e transparência de linhas (parâmetro alpha).\n",
        "\n",
        "A seguir o primeiro gráfico mostra como empregar o uso dos parâmetros explícitos e de forma resumida, e o gráfico seguinte mostra como essas configurações podem ser empregadas para dar destaque a uma ou mais linhas em um gráfico."
      ]
    },
    {
      "cell_type": "code",
      "execution_count": null,
      "metadata": {
        "id": "dumudxpzfRfm"
      },
      "outputs": [],
      "source": [
        "x = np.arange(0, 6, 0.3)\n",
        "\n",
        "fig = plt.figure(figsize=(12,4))\n",
        "\n",
        "plt.subplot(1, 2, 1)\n",
        "plt.title('Explicit and Short parameters', fontsize=14, weight='bold')\n",
        "plt.plot(x, np.sin(x), color='springgreen', marker='o', linestyle='dashed', linewidth=2, markersize=6)\n",
        "plt.plot(x, np.cos(x), color='slateblue', linestyle='dashdot', linewidth=2)\n",
        "\n",
        "# short color code (rgbcmyk)\n",
        "plt.plot(x, np.tanh(x), '--r', linewidth=2, markersize=6)\n",
        "plt.plot(x, 1/np.exp(x)*np.cos(x), '-.sb', linewidth=1, markersize=4)\n",
        "\n",
        "plt.subplot(1, 2, 2)\n",
        "plt.title('Enfatizando uma linha', fontsize=14, weight='bold')\n",
        "plt.plot(x, np.sin(x), linewidth=1, alpha=0.7)\n",
        "plt.plot(x, np.cos(x), linewidth=1, alpha=0.7)\n",
        "plt.plot(x, np.tanh(x), linewidth=1, alpha=0.7)\n",
        "plt.plot(x, 1/np.exp(x)*np.cos(x), '-.ok')\n",
        "\n",
        "plt.tight_layout()\n",
        "plt.show()"
      ]
    },
    {
      "cell_type": "markdown",
      "metadata": {
        "id": "Zj4Iwfp3t9Vt"
      },
      "source": [
        "Abaixo você encontra alguns exemplos e os estilos de linha, marcadores, cores básicas mais empregados."
      ]
    },
    {
      "cell_type": "code",
      "execution_count": null,
      "metadata": {
        "id": "gIgf_fp5fRh8"
      },
      "outputs": [],
      "source": [
        "x = np.arange(0.0, 1.1, 0.01)\n",
        "\n",
        "fig = plt.figure(figsize=(12,12))\n",
        "\n",
        "plt.subplot(3, 2, 1)\n",
        "plt.title('Lines Styles', fontsize=14, weight='bold') # automatic colors\n",
        "plt.plot(x, x**1, linestyle='solid', label='solid')\n",
        "plt.plot(x, x**2, linestyle='dashed', label='dashed')\n",
        "plt.plot(x, x**3, linestyle='dashdot', label='dashdot')\n",
        "plt.plot(x, x**4, linestyle='dotted', label='dotted')\n",
        "plt.legend(title='Lines Styles')\n",
        "\n",
        "plt.subplot(3, 2, 2)\n",
        "plt.title('Basic Colors', fontsize=14, weight='bold')\n",
        "plt.plot(x, x**1, color='r', label='r')\n",
        "plt.plot(x, x**2, color='g', label='g')\n",
        "plt.plot(x, x**3, color='b', label='b')\n",
        "plt.plot(x, x**4, color='c', label='c')\n",
        "plt.plot(x, x**5, color='m', label='m')\n",
        "plt.plot(x, x**6, color='y', label='y')\n",
        "plt.plot(x, x**7, color='k', label='k')\n",
        "plt.legend(title='Colors')\n",
        "\n",
        "plt.subplot(3, 2, 3)\n",
        "plt.title('Gray Colors', fontsize=14, weight='bold')\n",
        "plt.plot(x, x**1, color='1', label='1')\n",
        "plt.plot(x, x**2, color='0.75', label='0.75')\n",
        "plt.plot(x, x**3, color='0.5', label='0.5')\n",
        "plt.plot(x, x**4, color='0.25', label='0.25')\n",
        "plt.plot(x, x**5, color='0.1', label='0.1')\n",
        "plt.legend(title='Gray level')\n",
        "\n",
        "x = np.arange(0.0, 1.1, 0.1) # para melhor exibição dos dados com markers\n",
        "\n",
        "plt.subplot(3, 2, 4)\n",
        "plt.title('Markers', fontsize=14, weight='bold')\n",
        "plt.plot(x, x**1, marker='o', label='o')\n",
        "plt.plot(x, x**2, marker='x', label='x')\n",
        "plt.plot(x, x**3, marker='v', label='v')\n",
        "plt.plot(x, x**4, marker='>', label='>')\n",
        "plt.plot(x, x**6, marker='s', label='s')\n",
        "plt.plot(x, x**7, marker='D', label='D')\n",
        "plt.legend(title='Markers')\n",
        "\n",
        "# o parâmetro alpha permite configurar um grau de transparência nas cores de linha\n",
        "plt.subplot(3, 2, 5)\n",
        "plt.title('Alpha', fontsize=14, weight='bold')\n",
        "plt.plot(x, x**1, alpha=0.8, label='0.8')\n",
        "plt.plot(x, x**2, alpha=0.7, label='0.7')\n",
        "plt.plot(x, x**3, alpha=0.6, label='0.6')\n",
        "plt.plot(x, x**4, alpha=0.5, label='0.5')\n",
        "plt.plot(x, x**5, alpha=0.4, label='0.4')\n",
        "plt.plot(x, x**6, alpha=0.3, label='0.3')\n",
        "plt.legend(title='Transparency')\n",
        "\n",
        "# empregando diferente espessuras de linha\n",
        "plt.subplot(3, 2, 6)\n",
        "plt.title('Linewidth', fontsize=14, weight='bold')\n",
        "plt.plot(x, x**1, color='0.5', linewidth=1.5, label='1.5')\n",
        "plt.plot(x, x**2, color='0.5', linewidth=2, label='2')\n",
        "plt.plot(x, x**3, color='0.5', linewidth=3.5, label='3.5')\n",
        "plt.plot(x, x**4, color='0.5', linewidth=4, label='4')\n",
        "plt.plot(x, x**5, color='0.5', linewidth=5, label='5')\n",
        "plt.legend(title='Line width')\n",
        "\n",
        "plt.tight_layout()\n",
        "plt.show()"
      ]
    },
    {
      "cell_type": "markdown",
      "metadata": {
        "id": "hhguA0d69C9d"
      },
      "source": [
        "# Textos: `title`, `labels`, `lengend` e `text`\n",
        "\n",
        "Textos são um complemento importante de qualquer gráfico. Sem eles você não tem como saber exatamente ao que se refere cada eixo, sua escala ou sua unidade de medida. O título ainda pode explicitar a mensagem que deseja passar e anotações podem indicar pontos específicos do gráfico que se quer destacar.\n",
        "\n",
        "Abaixo você encontra como definir um título para o seu gráfico, nomear os eixos e como inserir rótulos (labels) para cada uma das linhas de um gráfico que emprega várias linhas.\n",
        "\n",
        "Esses títulos e rótulos aceitam todas as configurações comuns atribuídas a texto como tamanhos de fonte (fontsize), cor (color), estilos (como por exemplo weight='bold' e style='italic').\n",
        "\n",
        "Títulos podem ser alinhados no centro (padrão), à esquerda ou à direita usando o parâmetro ha (horizontalalignment). Você pode deixar para o Matplotlib definir a melhor posição da legenda ou empregar parâmetro de localização loc (loc='upper right', loc='lower left', loc='center left' etc.).\n"
      ]
    },
    {
      "cell_type": "code",
      "execution_count": null,
      "metadata": {
        "id": "vopQDRK3wT2b"
      },
      "outputs": [],
      "source": [
        "# Concatenando os dados usando a intersecção das datas\n",
        "dados = pd.merge(sp500, ibov, how='inner', on='Data', suffixes=['_sp500', '_ibov'])\n",
        "dados"
      ]
    },
    {
      "cell_type": "code",
      "execution_count": null,
      "metadata": {
        "id": "cCqENZ04Lu5F"
      },
      "outputs": [],
      "source": [
        "x = np.arange(0, len(dados), 1)\n",
        "\n",
        "plt.figure()\n",
        "\n",
        "# Adicionando labels às diferentes linhas do gráfico\n",
        "plt.plot(x, (dados['Último_ibov']-dados['Último_ibov'].mean())/dados['Último_ibov'].std(), label='Ibovespa')\n",
        "plt.plot(x, (dados['Último_sp500']-dados['Último_sp500'].mean())/dados['Último_sp500'].std(), label='S&P 500')\n",
        "\n",
        "# Adicionando o Título\n",
        "plt.title('Cotações do Ibovespa e S&P 500 em 2023', color='green', fontsize=18, weight='bold', ha='center')\n",
        "\n",
        "# Nomeando os eixos\n",
        "plt.xlabel('Dia', color='red', fontsize=14)\n",
        "plt.ylabel('Cotação normalizada', color='blue', fontsize=14)\n",
        "\n",
        "# Exibindo a legenda\n",
        "plt.legend(title='Índices', loc='best', fontsize='x-large')\n",
        "\n",
        "plt.show()\n",
        "\n"
      ]
    },
    {
      "cell_type": "markdown",
      "metadata": {
        "id": "DOIW5xSRnasX"
      },
      "source": [
        "Anotações dentro de um gráfico são essencias quando se quer chamar a atenção do leitor para um determinado ponto do gráfico.\n",
        "\n",
        "Para isso o Matplotlib fornece duas funções, o `plt.text()` e o `plt.annotate()`. O primeiro simplesmente adiciona um texto em uma posição `x, y`, o segundo, insere o texto adicionando uma seta do texto a um ponto do gráfico.\n",
        "\n",
        "Pontos específicos dos gráficos podem ainda ser destacados, ou com o comando `plot()` destacando um ponto em coordenada específica, ou com a adição de linhas verticais (`vlines()`) ou horizontais (`hlines()`) informando a posição e os limites mínimo e máximo de cada linha."
      ]
    },
    {
      "cell_type": "code",
      "execution_count": null,
      "metadata": {
        "id": "G8i4rjQQ5zTi"
      },
      "outputs": [],
      "source": [
        "x = np.linspace(-3, 3, 20)\n",
        "\n",
        "fig = plt.figure(figsize=(12,4))\n",
        "plt.suptitle('Adicionando Textos e Anotações aos Gráficos', fontsize=14, weight='bold', y=1.05)\n",
        "\n",
        "plt.subplot(1, 2, 1)\n",
        "plt.title('Text, plot marker e h-vlines', fontsize=14, weight='bold')\n",
        "plt.plot(x, np.tanh(x), 'r--', alpha=0.5)\n",
        "plt.plot(x, np.cos(x), 'r--', alpha=0.5)\n",
        "plt.ylim([-1.2,1.2])\n",
        "\n",
        "# Enfatizando um ponto específico do gráfico\n",
        "plt.plot(0, 1, marker = 'o' , color = 'darkblue', markersize= 10)\n",
        "plt.plot(0, 0, marker = 'o' , color = 'darkblue', markersize= 10)\n",
        "\n",
        "# Adicionando anotações\n",
        "plt.text(0 + 0.2, 0 - 0.2, 'Ponto Médio', style='italic', color='grey')\n",
        "plt.text(0 + 0.2, 1 + 0.05, 'Ponto de Máximo', style='italic', color='grey')\n",
        "plt.text(-2.0, 0.2, 'Ascendente', style='italic', color='grey')\n",
        "plt.text(1, 0.2, 'Descendente', style='italic', color='grey')\n",
        "\n",
        "# Adicionando linhas verticais e horizontais\n",
        "plt.vlines(0, -1, 1.1, linestyle='dashed', color='b', linewidth=1) # vlines(posição, início, fim)\n",
        "plt.hlines(0, -3, 3, linestyle='dashed', color='b', linewidth=1) # hlines(posição, início, fim)\n",
        "\n",
        "plt.subplot(1, 2, 2)\n",
        "plt.title('Text e Annotations', fontsize=14, weight='bold')\n",
        "plt.plot(x, (x + 2) * (x - 1) * (x - 2), 'r--', alpha=0.5)\n",
        "\n",
        "# Enfatizando vários pontos do gráfico\n",
        "plt.plot([-2, 1, 2], [0, 0, 0], 'o', color='darkblue', markersize=10)\n",
        "\n",
        "# Adicionando anotações\n",
        "plt.text(-2 + 0.2, 0 - 2.4, '(-2,0)', style='italic', color='dimgrey')\n",
        "plt.text(1 + 0.2, 0 - 2.4, '(1,0)', style='italic', color='dimgrey')\n",
        "plt.text(2 + 0.2, 0 - 2.4, '(2,0)', style='italic', color='dimgrey')\n",
        "\n",
        "# Annotate\n",
        "plt.annotate('Ponto de Máximo Local',\n",
        "             xy=(-1, 6),                # ponto do gráfico\n",
        "             xytext=(0, -15),           # posição do texto\n",
        "             arrowprops=dict(arrowstyle=\"->\"))\n",
        "\n",
        "plt.tight_layout()\n",
        "plt.show()\n"
      ]
    },
    {
      "cell_type": "markdown",
      "metadata": {
        "id": "HA7KurNey06M"
      },
      "source": [
        "E uma outra forma útil de destaque nos graficos pode ser preencher áreas sob o gráfico. Para isso você pode pode empregar `plt.fill_between(x,y)`, para preencher a área sob um gráfico, ou ainda `plt.fill_between(x,y,linha-média)` para preencher a área entre o gráfico e uma linha média. O padrão para linha média é 0.\n",
        "\n",
        "Se você conhece de distribuições de probabilidade, você pode ainda reconhecer os gráficos de densidade de probabilidade (PDF) e probabilidade acumulada (CDF)de uma distribuição normal com média $0$ e desvio padrão $1$. A probabilidade $P(x \\le -0.5)$  é dada pela área sob a curva do gráfico de densidade de probabilidade no intervalo de $[0, -0.5]$, ou diretamente pela pelo gráfico de distribuição de probabilidade acumulada.  "
      ]
    },
    {
      "cell_type": "code",
      "execution_count": null,
      "metadata": {
        "id": "Tt4azfVGwDgv"
      },
      "outputs": [],
      "source": [
        "x = np.linspace(-3, 3, 20)\n",
        "\n",
        "fig = plt.figure(figsize=(12,8))\n",
        "plt.suptitle('fill_between', fontsize=14, weight='bold', y=1.05)\n",
        "\n",
        "plt.subplot(2, 2, 1)\n",
        "plt.plot(x, np.cos(x))\n",
        "\n",
        "# Fill\n",
        "plt.fill_between(x, np.cos(x), -1, alpha=0.5)\n",
        "\n",
        "# Adicionando anotações\n",
        "plt.text(-0.6, -0.2, 'Sob a Curva', color='white', fontsize=12)\n",
        "plt.ylim([-1.2,1.2])\n",
        "\n",
        "plt.subplot(2, 2, 2)\n",
        "plt.plot(x, np.tanh(x))\n",
        "\n",
        "# Fill\n",
        "plt.fill_between(x, np.tanh(x), alpha=0.5)\n",
        "\n",
        "# Adicionando anotações\n",
        "plt.text(-2.4, -0.5, 'tanh(x) < 0', color='white', fontsize=12)\n",
        "plt.text(1.2, 0.4, 'tanh(x) < 0', color='white', fontsize=12)\n",
        "# hline\n",
        "plt.hlines(0, -3, 3, linestyle='dashed', color='b', linewidth=1)\n",
        "\n",
        "# apenas para construção dos dados de uma distribuição normal\n",
        "#-------------------------------------------------------------------------------\n",
        "from scipy.stats import norm\n",
        "pdf = []\n",
        "cdf = []\n",
        "for a in np.arange(-4,4,0.05):\n",
        "  pdf.append(norm.pdf(a))\n",
        "  cdf.append(norm.cdf(a))\n",
        "\n",
        "plt.subplot(2, 2, 3)\n",
        "plt.title('PDF, $N(\\mu=0, \\sigma=1)$',fontsize=12)\n",
        "plt.plot(np.arange(-4,4,0.05),pdf)\n",
        "\n",
        "# Fill\n",
        "plt.fill_between(np.arange(-4,4,0.05), pdf, alpha=0.5)\n",
        "plt.fill_between(np.arange(-4,-0.5,0.05), pdf[0:len(np.arange(-4,-0.5,0.05)+1)], color='g', alpha=0.6)\n",
        "\n",
        "# Adicionando anotações\n",
        "plt.text(-1.4, 0.06, f'Área = { norm.cdf(-0.5) :.3f}',fontsize=12, color='white')\n",
        "\n",
        "plt.subplot(2, 2, 4)\n",
        "plt.title('CDF, $N(\\mu=0, \\sigma=1)$',fontsize=12)\n",
        "plt.plot(np.arange(-4,4,0.05),cdf)\n",
        "\n",
        "# Fill\n",
        "plt.fill_between(np.arange(-4,4,0.05), cdf, alpha=0.5)\n",
        "plt.fill_between(np.arange(-4,-0.5,0.05), cdf[0:len(np.arange(-4,-0.5,0.05)+1)], color='g', alpha=0.6)\n",
        "\n",
        "# Adicionando anotações\n",
        "plt.vlines(-0.5,0,max(cdf)-max(cdf)/2,linewidth=2,linestyle=':',colors='g')\n",
        "plt.hlines(norm.cdf(-0.5), -4, 0, linewidth=2,linestyle=':',colors='g')\n",
        "plt.plot(-0.5,norm.cdf(-0.5),'go')\n",
        "\n",
        "plt.text(0.2, norm.cdf(-0.5), f'P(x<-0.5) = { norm.cdf(-0.5) :.3f}',fontsize=12, color='white')\n",
        "\n",
        "\n",
        "\n",
        "plt.tight_layout()\n",
        "plt.show()\n"
      ]
    },
    {
      "cell_type": "markdown",
      "metadata": {
        "id": "Mck4u9AcAL_c"
      },
      "source": [
        "## Limite dos eixos e escalas `xlim`, `ylim` e `ticker`\n",
        "\n",
        "O Matplotlib ajusta automaticamente os limites dos valores dos eixos x e y e as escalas empregadas. Muitas vezes, entretanto, esses valores não são os mais adequados para os seus propósitos e você pode querer alterá-los. O limites dos valores podem ser definidos empregando as funções `xlim` e `ylim`."
      ]
    },
    {
      "cell_type": "code",
      "execution_count": null,
      "metadata": {
        "id": "YVDUbI6R_EWP"
      },
      "outputs": [],
      "source": [
        "x = np.arange(0, len(dados), 1)\n",
        "\n",
        "plt.figure(figsize=(12,4)) # cria uma figura alterando o tamanho, figsize=(tamanho_horizontal,tamanho_vertical)\n",
        "\n",
        "plt.subplot(1,2,1)\n",
        "plt.plot(x, (dados['Último_ibov']-dados['Último_ibov'].mean())/dados['Último_ibov'].std(), label='Ibovespa')\n",
        "plt.plot(x, (dados['Último_sp500']-dados['Último_sp500'].mean())/dados['Último_sp500'].std(), label='S&P 500')\n",
        "\n",
        "plt.subplot(1,2,2)\n",
        "plt.plot(x, (dados['Último_ibov']-dados['Último_ibov'].mean())/dados['Último_ibov'].std(), label='Ibovespa')\n",
        "plt.plot(x, (dados['Último_sp500']-dados['Último_sp500'].mean())/dados['Último_sp500'].std(), label='S&P 500')\n",
        "plt.xlim([100,150])\n",
        "plt.ylim([-1,1])\n",
        "\n",
        "plt.tight_layout()\n",
        "plt.show()"
      ]
    },
    {
      "cell_type": "markdown",
      "metadata": {
        "id": "Nr4lrWV_65jN"
      },
      "source": [
        "## Salvando os Gráficos em um Arquivo\n",
        "\n",
        "Salvar os gráficos para uso em algum outro documento, como uma página web, um relatório ou uma apresentação é muitas vezes importante. O comando `savefig()` permite salvar seus gráficos em uma série de formatos como .JPG, .PNG, .PDF ou .SVG. O parâmetro `savefig.dpi` pode ser empregado para aumentar a resolução e qualidade da imagem produzida.\n",
        "\n"
      ]
    },
    {
      "cell_type": "code",
      "execution_count": null,
      "metadata": {
        "id": "pjUjR5eU65jO"
      },
      "outputs": [],
      "source": [
        "plt.rcParams['savefig.dpi'] = 300\n",
        "\n",
        "plt.plot(ibov['Último'])\n",
        "\n",
        "plt.savefig('my_plot.png') # Salva no diretório do Google Colab\n",
        "plt.savefig('my_plot.pdf')\n",
        "\n",
        "plt.show()\n",
        "\n"
      ]
    },
    {
      "cell_type": "code",
      "execution_count": null,
      "metadata": {
        "id": "2Za4lC1F2JgJ"
      },
      "outputs": [],
      "source": [
        "ibov"
      ]
    },
    {
      "cell_type": "markdown",
      "metadata": {
        "id": "9eNDev3nYY2k"
      },
      "source": [
        "## Um Gráfico Final\n",
        "\n",
        "Como um exemplo final você pode verificar vários desses recursos empregados para exibir os valores normalizados do SP500 (índice da bolsa americana) e do Ibovespa (bolsa de São Paulo), destacando os impactos da Pandemia de Covid-19  ao longo do período de 2020-01-01 a 2021-04-01. Você pode empregar esse código como modelo adaptando-o para criar os gráficos do seu interesse."
      ]
    },
    {
      "cell_type": "code",
      "execution_count": null,
      "metadata": {
        "id": "lRnbZfMolEXg"
      },
      "outputs": [],
      "source": [
        "import datetime\n",
        "import pandas as pd\n",
        "\n",
        "# Obtendo os  dados\n",
        "#-------------------------------------------------------------------------------\n",
        "df = pd.read_csv('http://meusite.mackenzie.br/rogerio/data_load/sp500_ibov.csv',\n",
        "                 index_col=0,         # read dates como index\n",
        "                 parse_dates=True)\n",
        "print(df.head())\n",
        "df=(df-df.min())/(df.max()-df.min()) # normalizando os valores\n",
        "\n",
        "# Gráficos\n",
        "#-------------------------------------------------------------------------------\n",
        "plt.figure(figsize=(18,6))\n",
        "plt.title('Normalized SP500 versus IBOV', fontsize=16, weight='bold', y=1.05)\n",
        "\n",
        "plt.plot(df['SP500'], label='SP500')\n",
        "plt.plot(df['IBOV'], label='IBOV',linewidth=3)\n",
        "\n",
        "# Ornamentos\n",
        "#-------------------------------------------------------------------------------\n",
        "\n",
        "# Annotate\n",
        "plt.annotate('Primeira onda da Covid-19 no Ocidente',\n",
        "             xy=(datetime.datetime(2020, 3, 1), 0.75),  # ponto do gráfico\n",
        "             xytext=(datetime.datetime(2020, 5, 1), 0.9),   # posição do texto\n",
        "             arrowprops=dict(arrowstyle=\"->\"),\n",
        "             fontsize=18,\n",
        "             color='grey')\n",
        "\n",
        "plt.annotate('Segunda onda da Covid-19 no Brasil',\n",
        "             xy=(datetime.datetime(2021, 1, 10), 0.95),  # ponto do gráfico\n",
        "             xytext=(datetime.datetime(2020, 9, 15), 0.3),   # posição do texto\n",
        "             arrowprops=dict(arrowstyle=\"->\"),\n",
        "             fontsize=18,\n",
        "             color='grey')\n",
        "\n",
        "# Linhas verticais\n",
        "plt.vlines(datetime.datetime(2020, 3, 1),0,1,linewidth=2,linestyle='--',colors='grey')\n",
        "plt.vlines(datetime.datetime(2021, 1, 10),0,1,linewidth=2,linestyle='--',colors='grey')\n",
        "\n",
        "# Fill\n",
        "plt.fill_between(df.index, y1=df['SP500'], y2=0, alpha=0.4)\n",
        "\n",
        "# Add grid\n",
        "plt.grid()\n",
        "\n",
        "# Labels\n",
        "plt.xlabel('Data',fontsize=14)\n",
        "plt.ylabel('Normalized índices',fontsize=14)\n",
        "\n",
        "# Legenda\n",
        "plt.legend(title='Índices',loc='upper left',fontsize=14)\n",
        "\n",
        "# Finaliza\n",
        "plt.tight_layout()\n",
        "plt.show()"
      ]
    }
  ],
  "metadata": {
    "colab": {
      "provenance": [],
      "authorship_tag": "ABX9TyNj3UjZCZCugWFrkXLchQBj",
      "include_colab_link": true
    },
    "kernelspec": {
      "display_name": "Python 3",
      "name": "python3"
    },
    "language_info": {
      "name": "python"
    }
  },
  "nbformat": 4,
  "nbformat_minor": 0
}