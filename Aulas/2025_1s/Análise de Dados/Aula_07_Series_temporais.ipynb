{
  "cells": [
    {
      "cell_type": "markdown",
      "metadata": {
        "id": "view-in-github",
        "colab_type": "text"
      },
      "source": [
        "<a href=\"https://colab.research.google.com/github/GuilhermePelegrina/Mackenzie/blob/main/Aulas/2025_1s/An%C3%A1lise%20de%20Dados/Aula_07_Series_temporais.ipynb\" target=\"_parent\"><img src=\"https://colab.research.google.com/assets/colab-badge.svg\" alt=\"Open In Colab\"/></a>"
      ]
    },
    {
      "cell_type": "markdown",
      "metadata": {
        "id": "gglUriLmo1sR"
      },
      "source": [
        "<head>\n",
        "  <meta name=\"author\" content=\"Rogério de Oliveira\">\n",
        "  <meta institution=\"author\" content=\"Universidade Presbiteriana Mackenzie\">\n",
        "</head>\n",
        "\n",
        "<img src=\"http://meusite.mackenzie.br/rogerio/mackenzie_logo/UPM.2_horizontal_vermelho.jpg\" width=300, align=\"left\">\n",
        "<!-- <h1 align=left><font size = 6, style=\"color:rgb(200,0,0)\"> optional title </font></h1> -->"
      ]
    },
    {
      "cell_type": "markdown",
      "metadata": {
        "id": "06noRfWHp0of"
      },
      "source": [
        "# **Trabalhando com Séries Temporais**\n",
        "\n",
        "Nesta aula, abordaremos conceitos introdutórios para manipulação e análise de séries temporais. Esses conceitos serão úteis para a disciplina de TIC no próximo semestre, onde abordaremos com mairo detalhe a construção de modelos de previsão de séries temporais.\n",
        "\n",
        "Uma série temporal é uma sequência de observações ou medidas feitas em um mesmo objeto ou fenômeno em intervalos de tempo igualmente espaçados. Essas observações são coletadas e registradas em função do tempo. Em outras palavras, uma série temporal é uma coleção de dados organizados ao longo do tempo, o que permite analisar tendências, padrões, sazonalidades e outros comportamentos que possam ocorrer em diferentes escalas de tempo.\n",
        "\n",
        "<img src='https://raw.githubusercontent.com/guilhermepelegrina/Mackenzie/main/Aulas/Figuras/fig_series_temporais_1.png' width=\"600\">\n",
        "\n",
        "As séries temporais são amplamente usadas em várias disciplinas, como econometria, meteorologia, finanças, engenharia e muitas outras, para analisar e prever o comportamento de fenômenos que evoluem com o tempo. Elas desempenham um papel fundamental na modelagem estatística e na tomada de decisões com base no histórico de dados.\n",
        "\n",
        "Exemplos de aplicação na Engenharia de Produção são os seguintes:\n",
        "\n",
        "- Previsão de demanda/vendas, com base em dados históricos,\n",
        "\n",
        "- Otimização de estoque (necessidade de material futuro, por exemplo),\n",
        "\n",
        "- Munutenção preditiva, de acordo com históricos de falhas de equipamentos."
      ]
    },
    {
      "cell_type": "markdown",
      "source": [
        "Para os conceitos abordados nessa aula, utilizaremos como base de dados o histórico de produção mensal de cerveja na Austrália entre os anos de 1956 e 1995. O código abaixo faz a leitura dessa base de dados. Repare nos comandos inseridos. Eles possuem as seguintes funções:\n",
        "\n",
        "- `parse_dates=['nome_coluna']`: Faz a conversão da informação contina na coluna `nome_coluna` para o tipo *datatime*. Como nesse conjunto de dados as informações são mensais, não há o dia específico. Por isso, o Python preencheu com *01*. No entanto, se os dados fossem diários, a conversão também explicitaria os dias. Em nosso caso, podemos indicar para o Python que queremos apenas as informações sobre os anos e dias.\n",
        "\n",
        "- `index_col = ['nome_coluna']`: Converte a coluna `nome_coluna` para os índices da série temporal. Note que, com isso, não existe mais essa coluna no DataFrame, uma vez que ela apenas faz o papel de índice agora.\n",
        "\n",
        "Além desses comandos, veja na sequência a criação de duas novas colunas contendo as informações sobre os anos e sobre os meses."
      ],
      "metadata": {
        "id": "RlHMBvU5aj5Y"
      }
    },
    {
      "cell_type": "code",
      "source": [
        "# Lendo os dados (sem os dias)\n",
        "import pandas as pd\n",
        "\n",
        "df = pd.read_csv(\"https://raw.githubusercontent.com/ejgao/Time-Series-Datasets/master/monthly-beer-production-in-austr.csv\", parse_dates=['Month'], index_col='Month')\n",
        "df['Mês'] = df.index.month\n",
        "df['Ano'] = df.index.year\n",
        "df"
      ],
      "metadata": {
        "id": "40I2t-emlMQU"
      },
      "execution_count": null,
      "outputs": []
    },
    {
      "cell_type": "markdown",
      "source": [
        "Para uma primeira análise da série temporal, vamos visualizar seu comportamento ao longo do tempo."
      ],
      "metadata": {
        "id": "b3pZH8Flfm0q"
      }
    },
    {
      "cell_type": "code",
      "source": [
        "import matplotlib.pyplot as plt\n",
        "\n",
        "plt.figure(figsize=(14,5))\n",
        "\n",
        "plt.plot(df[\"Monthly beer production\"])\n",
        "plt.title(\"Podução mensal de cerveja\")\n",
        "plt.xlabel('Data')\n",
        "plt.ylabel('Produção')\n",
        "plt.show()"
      ],
      "metadata": {
        "id": "AKd5SwqJfspU"
      },
      "execution_count": null,
      "outputs": []
    },
    {
      "cell_type": "markdown",
      "source": [
        "Nota-se que a produção cresceu ao longo do tempo (até 1980, principalmente), e depois se manteve com uma certa estabilidade. Além disso, podemos perceber uma sazonalidade nos dados. Vamos plotar esses dados para os anos de 1956 e 1958, para avaliar a caracaterística sazonal."
      ],
      "metadata": {
        "id": "mkrDdu2piz6Y"
      }
    },
    {
      "cell_type": "code",
      "source": [
        "plt.figure(figsize=(14,5))\n",
        "\n",
        "plt.plot(df[(df['Ano']>=1956) & (df['Ano']<=1958)][\"Monthly beer production\"])\n",
        "plt.title(\"Podução média mensal de cerveja\")\n",
        "plt.xlabel('Data')\n",
        "plt.ylabel('Produção')\n",
        "plt.show()"
      ],
      "metadata": {
        "id": "3j0MLm1ljHp_"
      },
      "execution_count": null,
      "outputs": []
    },
    {
      "cell_type": "markdown",
      "source": [
        "A partir desse gráfico, já temos a informação que os máximos ocorrem no final/começo do ano e que os mínimos ocorrem noa metade do ano. O que faz sentido, uma vez que os meses mais quentes do ano no Austrália são os do final/começo do ano.\n",
        "\n",
        "Podemos verificar melhor essa constatação a partir da média ou distribuição da produção mensal de cerveja. Veja como fica essa análise nos códigos/gráficos abaixo."
      ],
      "metadata": {
        "id": "QLltOE0etn8f"
      }
    },
    {
      "cell_type": "code",
      "source": [
        "import seaborn as sns\n",
        "\n",
        "# Produção média\n",
        "\n",
        "media_mensal = pd.DataFrame(df.groupby('Mês')['Monthly beer production'].mean())\n",
        "\n",
        "plt.figure(figsize=(14,5))\n",
        "\n",
        "plt.plot(media_mensal)\n",
        "plt.title(\"Podução mensal média de cerveja\")\n",
        "plt.xlabel('Mês')\n",
        "plt.ylabel('Produção')\n",
        "plt.show()\n",
        "\n",
        "# Distribuição da produção\n",
        "plt.figure(figsize=(14,5))\n",
        "\n",
        "sns.boxplot(x=\"Mês\", y=\"Monthly beer production\", data=df)\n",
        "plt.show()"
      ],
      "metadata": {
        "id": "usrHCy8Uuiy5"
      },
      "execution_count": null,
      "outputs": []
    },
    {
      "cell_type": "markdown",
      "source": [
        "Vamos, agora, analisar a produção de cerveja média por ano (para verificar se há alguma tendência). Veja como fica essa análise nos códigos/gráficos abaixo."
      ],
      "metadata": {
        "id": "rciBp0uyuES_"
      }
    },
    {
      "cell_type": "code",
      "source": [
        "# Produção média\n",
        "\n",
        "media_anual = pd.DataFrame(df.groupby('Ano')['Monthly beer production'].mean())\n",
        "\n",
        "plt.figure(figsize=(14,5))\n",
        "\n",
        "plt.plot(media_anual)\n",
        "plt.title(\"Podução anual média de cerveja\")\n",
        "plt.xlabel('Mês')\n",
        "plt.ylabel('Produção')\n",
        "plt.show()\n",
        "\n",
        "# Distribuição da produção\n",
        "plt.figure(figsize=(14,5))\n",
        "\n",
        "sns.boxplot(x=\"Ano\", y=\"Monthly beer production\", data=df)\n",
        "plt.xticks(rotation=45)\n",
        "plt.show()"
      ],
      "metadata": {
        "id": "KdAD_k2UuzeU"
      },
      "execution_count": null,
      "outputs": []
    },
    {
      "cell_type": "markdown",
      "metadata": {
        "id": "KRY8rEFc0SsO"
      },
      "source": [
        "#Decomposição de séries temporais"
      ]
    },
    {
      "cell_type": "markdown",
      "metadata": {
        "id": "BmgYbSE51UGo"
      },
      "source": [
        "A decomposição de uma série temporal é o processo de separar a série em diferentes componentes: tendência, sazonalidade e componente aleatório, isto permite a detecção de padrões, identificação de tendências e sazonalidades, e auxiliando na previsão de valores da série.\n",
        "\n",
        "<img src='https://raw.githubusercontent.com/guilhermepelegrina/Mackenzie/main/Aulas/Figuras/fig_series_temporais_2.png' width=\"600\">\n",
        "\n",
        "*   **Tendência**  direção geral dos dados ao longo do tempo, indica se a série está aumentando, diminuindo ou permanecendo estável ao longo de um período de tempo.\n",
        "\n",
        "*   **Sazonalidade** refere-se a padrões que se repetem em períodos fixos de tempo, como estações do ano, dias da semana ou meses.\n",
        "\n",
        "*   **Componente aleatório (erro)**: representa a variabilidade não explicada pela tendência e sazonalidade.\n",
        "\n"
      ]
    },
    {
      "cell_type": "markdown",
      "source": [
        "Observação:\n",
        "\n",
        "*  Quando a variação sazonal parece constante (ela não muda quando o valor da série temporal aumenta): Devemos usar o modelo aditivo (`model='additive'`), dado por:\n",
        "\n",
        "$$Valor = Tendência +  Sazonalidade + Erro$$\n",
        "\n",
        "* Quando a variação sazonal aumenta em magnitude: Devemos usar o modelo multiplicativo (`model='multiplicative'`), dado por:\n",
        "\n",
        "$$ Valor = Tendência \\times Sazonalidade \\times Erro$$"
      ],
      "metadata": {
        "id": "qgoAScr1w-ou"
      }
    },
    {
      "cell_type": "markdown",
      "source": [
        "Nos códigos abaixo utilizamos uma biblioteca em Python para decompor a série temporal."
      ],
      "metadata": {
        "id": "1aozGsG-whK9"
      }
    },
    {
      "cell_type": "code",
      "execution_count": null,
      "metadata": {
        "id": "DmCqowCFFUN1"
      },
      "outputs": [],
      "source": [
        "from statsmodels.tsa.seasonal import seasonal_decompose\n",
        "\n",
        "decomposition=seasonal_decompose(df[\"Monthly beer production\"],\n",
        "                                 model='additive',\n",
        "                                 period=12,\n",
        "                                 extrapolate_trend='freq')\n",
        "decomposition.plot();"
      ]
    },
    {
      "cell_type": "markdown",
      "source": [
        "Para melhor visualizar as decomposição para cada período, vamos criar novas colunas nas bases de dados para incluir os valores obtidos."
      ],
      "metadata": {
        "id": "oRjf7Sp1xw6z"
      }
    },
    {
      "cell_type": "code",
      "execution_count": null,
      "metadata": {
        "id": "dCi9UVUAINNj"
      },
      "outputs": [],
      "source": [
        "# Obtendo os componentes da decomposição\n",
        "\n",
        "trend = decomposition.trend\n",
        "seasonal = decomposition.seasonal\n",
        "residual = decomposition.resid\n",
        "\n",
        "# Incluindo no DataFrame\n",
        "\n",
        "df[\"trend\"]=trend\n",
        "df[\"seasonal\"]=seasonal\n",
        "df[\"residual\"]=residual\n",
        "\n",
        "df"
      ]
    },
    {
      "cell_type": "markdown",
      "source": [
        "Reparem que cada valor da produção é dada pela soma dos componentes de tendência, sazonalidade e resíduo. Isso acontece pelo modelo aditivo. No caso do multiplicativo, o valor da produção seria dado pela multiplicação dos valores da decomposição."
      ],
      "metadata": {
        "id": "IVEXBG7byKeU"
      }
    }
  ],
  "metadata": {
    "anaconda-cloud": {},
    "colab": {
      "provenance": [],
      "include_colab_link": true
    },
    "kernelspec": {
      "display_name": "Python 3",
      "language": "python",
      "name": "python3"
    },
    "language_info": {
      "codemirror_mode": {
        "name": "ipython",
        "version": 3
      },
      "file_extension": ".py",
      "mimetype": "text/x-python",
      "name": "python",
      "nbconvert_exporter": "python",
      "pygments_lexer": "ipython3",
      "version": "3.7.4"
    }
  },
  "nbformat": 4,
  "nbformat_minor": 0
}