{
  "cells": [
    {
      "cell_type": "markdown",
      "metadata": {
        "id": "view-in-github",
        "colab_type": "text"
      },
      "source": [
        "<a href=\"https://colab.research.google.com/github/GuilhermePelegrina/Mackenzie/blob/main/Aulas/2025_1s/An%C3%A1lise%20de%20Dados/Aula_06_Pandas_Transformacao.ipynb\" target=\"_parent\"><img src=\"https://colab.research.google.com/assets/colab-badge.svg\" alt=\"Open In Colab\"/></a>"
      ]
    },
    {
      "cell_type": "markdown",
      "metadata": {
        "id": "yDT0n5rAx87W"
      },
      "source": [
        "<img src='https://raw.githubusercontent.com/guilhermepelegrina/Mackenzie/main/logo_mackenzie.png'>\n"
      ]
    },
    {
      "cell_type": "markdown",
      "metadata": {
        "id": "OKK_BbNhyvGx"
      },
      "source": [
        "# **Transformações de dados.**\n",
        "\n",
        "Nesta aula, vamos aprender como juntar conjunto de dados. Em muitos casos, os dados não são coletados de uma só fonte. Ela pode vir de diversas fontes variadas (Banco Central, Bolsa de Valores, IBGE, etc...). Dessa forma, para fazer as análises em um único DataFrame, podemos usar funções do Pandas que juntam diferentes conjuntos de dados.\n",
        "\n",
        "Veremos várias dessas funções na sequência.\n",
        "\n",
        "Nesta aula, usaremos dois conjuntos de dados para ilustrar as funções. Em um deles, temos a cotação do S&P500 e, no outro, a cotação do índice Ibovespa. Para fins didáticos, consideramos as cotações máximas e mínimas da última semana do ano de 2023. No caso do Ibovespa, também consideramos a cotação de abertura."
      ]
    },
    {
      "cell_type": "code",
      "execution_count": null,
      "metadata": {
        "id": "C7-rgg4yDmv9"
      },
      "outputs": [],
      "source": [
        "import pandas as pd\n",
        "# Informações sobre o índice S&P500\n",
        "\n",
        "df_sp500 = pd.DataFrame({\n",
        "                    'Dia':['29/12/2023','28/12/2023','27/12/2023', '26/12/2023'],\n",
        "               'Max': [4788.43, 4793.30, 4785.39, 4784.72],\n",
        "                 'Min': [4751.99, 4780.98, 4768.90, 4758.45]})\n",
        "\n",
        "df_sp500"
      ]
    },
    {
      "cell_type": "code",
      "execution_count": null,
      "metadata": {
        "id": "n2KFcg48KNXF"
      },
      "outputs": [],
      "source": [
        "# Informações sobre o índice Ibovespa\n",
        "\n",
        "df_ibov = pd.DataFrame({\n",
        "                    'Dia':['28/12/2023','27/12/2023', '26/12/2023'],\n",
        "               'Max': [134.389,134.195,133.645],\n",
        "               'Min': [133.832,133.328,132.753],\n",
        "                 'Aber': [134.194,133.523,132.753]})\n",
        "df_ibov"
      ]
    },
    {
      "cell_type": "markdown",
      "metadata": {
        "id": "lXFH8fpY18xu"
      },
      "source": [
        "# Concatenando dados: Função concat\n",
        "\n",
        "Com a função `.concat()`, concatenamos ou unimos conjuntos de dados ao longo de um eixo definido, além de escolhermos opções quando à união ou intersecção dos índices (das linhas ou colunas) em tais eixos. O comando é o seguinte:\n",
        "\n",
        "`pd.concat([df1, df2] ,axis= ,join=' ',keys=[\" \", \" \"])`,\n",
        "\n",
        "onde `axis= ` define o eixo de concatenação (0 para linhas e 1 para colunas), `join=' '` define a opção quando à união (\"outer\") ou intersecção (\"inner\") dos índices e `keys=[\" \", \" \"]` define chaves para acessar cada um dos subconjunto de dados.\n",
        "\n",
        "<img src='https://raw.githubusercontent.com/guilhermepelegrina/Mackenzie/main/Aulas/Figuras/fig_pandas_concat.png'>\n",
        "\n",
        "Veja os exemplos a seguir."
      ]
    },
    {
      "cell_type": "code",
      "execution_count": null,
      "metadata": {
        "id": "o4oA-Q7rIHtw"
      },
      "outputs": [],
      "source": [
        "# Concatenando nas colunas, com intersecção nas linhas\n",
        "\n",
        "df1 = pd.concat([df_sp500, df_ibov],axis=1,join='inner',keys=[\"S&P 500\", \"Ibovespa\"])\n",
        "df1"
      ]
    },
    {
      "cell_type": "code",
      "execution_count": null,
      "metadata": {
        "id": "orQ0K5tWDbDa"
      },
      "outputs": [],
      "source": [
        "# Concatenando nas colunas, com união nas linhas\n",
        "\n",
        "df2 = pd.concat([df_sp500, df_ibov],axis=1,join='outer',keys=[\"S&P 500\", \"Ibovespa\"])\n",
        "df2"
      ]
    },
    {
      "cell_type": "markdown",
      "metadata": {
        "id": "JmXP44T8CvXw"
      },
      "source": [
        "Podemos, também, definir qual coluna será a referência para a intersecção."
      ]
    },
    {
      "cell_type": "code",
      "execution_count": null,
      "metadata": {
        "id": "SWO7SBP2CVnG"
      },
      "outputs": [],
      "source": [
        "df1_1 = pd.concat([df_sp500.set_index('Dia'), df_ibov.set_index('Dia')],axis=1,join='inner',keys=[\"S&P 500\", \"Ibovespa\"])\n",
        "df1_1"
      ]
    },
    {
      "cell_type": "code",
      "execution_count": null,
      "metadata": {
        "id": "_YGySLk4C5rs"
      },
      "outputs": [],
      "source": [
        "df1_2 = pd.concat([df_sp500.set_index('Dia'), df_ibov.set_index('Dia')],axis=1,join='outer',keys=[\"S&P 500\", \"Ibovespa\"])\n",
        "df1_2"
      ]
    },
    {
      "cell_type": "code",
      "execution_count": null,
      "metadata": {
        "id": "dec4pl9DTh3W"
      },
      "outputs": [],
      "source": [
        "# Acessando bloco de dados específicos\n",
        "\n",
        "print(df2.Ibovespa.Dia)\n",
        "print(df2.Ibovespa.Max.std())"
      ]
    },
    {
      "cell_type": "code",
      "execution_count": null,
      "metadata": {
        "id": "XP3tUhb9QXtX"
      },
      "outputs": [],
      "source": [
        "# Concatenando nas linhas, com intersecção nas colunas\n",
        "\n",
        "df3 = pd.concat([df_sp500, df_ibov],axis=0,join='inner',keys=[\"S&P 500\", \"Ibovespa\"])\n",
        "df3"
      ]
    },
    {
      "cell_type": "code",
      "execution_count": null,
      "metadata": {
        "id": "p_M9ycEXDbFx"
      },
      "outputs": [],
      "source": [
        "# Concatenando nas linhas, com união nas colunas\n",
        "\n",
        "df4 = pd.concat([df_sp500, df_ibov],axis=0,join='outer',keys=[\"S&P 500\", \"Ibovespa\"])\n",
        "df4"
      ]
    },
    {
      "cell_type": "code",
      "execution_count": null,
      "metadata": {
        "id": "DJVSKBBzDbII"
      },
      "outputs": [],
      "source": [
        "# Acessando bloco de dados específicos: Coluna\n",
        "\n",
        "print(df4[['Dia', 'Max']])\n",
        "print(df4['Min'][\"Ibovespa\"])\n",
        "print(df4['Aber'][\"Ibovespa\"].mean())"
      ]
    },
    {
      "cell_type": "markdown",
      "metadata": {
        "id": "9bgKx6z3U8jm"
      },
      "source": [
        "# Concatenando dados: Função merge\n",
        "\n",
        "Com a função `.merge()`, também concatenamos ou unimos conjuntos de dados escolhendo opções quando à união ou intersecção dos índices. No entanto, isso é feito ao longo das colunas, apenas, e com base nos valores de uma coluna específica. O comando é o seguinte:\n",
        "\n",
        "`pd.merge(df1,df2, how=' ', on=' ', suffixes='')`,\n",
        "\n",
        "onde `how=' '` define a opção quando à união (\"outer\"), intersecção (\"inner\"), com base no primeiro DataFrame (\"left\") ou com base no segundo DataFrame (\"right\"), `on=' '` define a coluna que será usada como referência para as opções anteriores e `suffixes=' '` introduz sufixos nos nomes das colunas de cada DataFrame.\n",
        "\n",
        "<img src='https://raw.githubusercontent.com/guilhermepelegrina/Mackenzie/main/Aulas/Figuras/fig_pandas_merge.png'>\n",
        "\n",
        "Veja os exemplos a seguir."
      ]
    },
    {
      "cell_type": "code",
      "execution_count": null,
      "metadata": {
        "id": "0umnCiAMDbKr"
      },
      "outputs": [],
      "source": [
        "# Concatenando nas colunas, com intersecção nas linhas definida pelos valores em \"Dia\"\n",
        "\n",
        "df5 = pd.merge(df_sp500,df_ibov, how='inner', on='Dia')\n",
        "df5"
      ]
    },
    {
      "cell_type": "code",
      "execution_count": null,
      "metadata": {
        "id": "ewsLcuaonk4M"
      },
      "outputs": [],
      "source": [
        "# Concatenando nas colunas, com união nas linhas definida pelos valores em \"Dia\"\n",
        "\n",
        "df6 = pd.merge(df_sp500,df_ibov, how='outer', on='Dia')\n",
        "df6"
      ]
    },
    {
      "cell_type": "code",
      "execution_count": null,
      "metadata": {
        "id": "K2G7zOePDbNB"
      },
      "outputs": [],
      "source": [
        "# Concatenando nas colunas, com condição nas linhas pelo primeiro DataFrame definida pelos valores em \"Dia\"\n",
        "\n",
        "df7 = pd.merge(df_sp500,df_ibov, how='left', on='Dia')\n",
        "df7"
      ]
    },
    {
      "cell_type": "code",
      "execution_count": null,
      "metadata": {
        "id": "BHoCNMcADbPq"
      },
      "outputs": [],
      "source": [
        "# Concatenando nas colunas, com condição nas linhas pelo primeiro DataFrame definida pelos valores em \"Dia\"\n",
        "\n",
        "df8 = pd.merge(df_sp500,df_ibov, how='right', on='Dia', suffixes=['_sp500', '_ibov'])\n",
        "df8"
      ]
    },
    {
      "cell_type": "markdown",
      "metadata": {
        "id": "5iVK1IwxptqC"
      },
      "source": [
        "# Reorganizando dados: Função melt\n",
        "\n",
        "Com a função `.melt()`, podemos reorganizar os dados com base nos valores de uma coluna ou mais colunas (chaves). Nessa transformação, podemos transformar as informações contidas em colunas, que possuem o mesmo tipo de dados, em linhas. O comando é o seguinte:\n",
        "\n",
        "`pd.melt(id_vars=[\"chave_1\",...,\"chave_n\"], value_vars=[\"var 1\",..., \" var j\"], var_name=\" \", value_name=\" \")`,\n",
        "\n",
        "onde `id_vars=[\"chave_1\",...,\"chave_n\"]` define as colunas que serão utilizadas como referência para segmentar os dados,  `value_vars=[\"var 1\",..., \" var j\"]` indica as colunas que serão reorganizadas, `var_name=\" \"` define o nome da nova coluna com os nomes das colunas a serem reorganizadas e `value_name=\" \"` indica o nome da nova coluna contendo os valores das colunas a serem reorganizadas.\n",
        "\n",
        "<img src='https://raw.githubusercontent.com/guilhermepelegrina/Mackenzie/main/Aulas/Figuras/fig_pandas_melt.png'>\n",
        "\n",
        "*Nota:* Se não for especificado `value_vars`, consideram-se todas as variáveis (colunas) que não foram consideradas em `id_vars`.\n",
        "\n",
        "Veja os exemplos a seguir."
      ]
    },
    {
      "cell_type": "code",
      "execution_count": null,
      "metadata": {
        "id": "GGessKHyDbSO"
      },
      "outputs": [],
      "source": [
        "dados = pd.DataFrame({'First Loan':[100000,60000,80000,40000,120000,98000,95000,92000,100000,170000,150000],\n",
        "                      'Second Loan':[80000,40000,100000,30000,122000,90000,45000,32000,55000,110000,160000],\n",
        "                      'Duration':['Short','Long','Short','Undefined','Long','Short','Long','Short','Undefined','Long', 'Short'],\n",
        "                      'Repayment':[1,1,0,0,1,0,1,0,1,0,0] }) # 1=vai pagar 0=não vai pagar\n",
        "dados"
      ]
    },
    {
      "cell_type": "code",
      "execution_count": null,
      "metadata": {
        "id": "Qdq-EhKkDbXE"
      },
      "outputs": [],
      "source": [
        "dados2 = dados.melt(id_vars=[\"Repayment\"], value_vars=[\"First Loan\",\"Second Loan\"], var_name=\"Which Loan\",value_name=\"Loan\")\n",
        "dados2"
      ]
    },
    {
      "cell_type": "code",
      "execution_count": null,
      "metadata": {
        "id": "mqB9JSDxDbUo"
      },
      "outputs": [],
      "source": [
        "dados3 = dados.melt(id_vars=[\"Duration\",\"Repayment\"], value_vars=[\"First Loan\",\"Second Loan\"], var_name=\"Which Loan\",value_name=\"Loan\")\n",
        "dados3"
      ]
    },
    {
      "cell_type": "markdown",
      "metadata": {
        "id": "0rFm3NaStu66"
      },
      "source": [
        "# Reorganizando dados: Função pivot\n",
        "\n",
        "Com a função `.pivot()`, podemos reorganizar os dados de forma a transformar valores contidos em uma coluna em diferentes colunas. O comando é o seguinte:\n",
        "\n",
        "`pd.pivot(index=['chave_1,...,'chave_n'], columns=['var 1',..., 'Var j'], values='var k')`,\n",
        "\n",
        "onde `index=['chave_1,...,'chave_n']` define as colunas que serão utilizadas como referência para segmentar os dados (e se manterão como colunas),  `columns=['var 1',..., 'Var j']` indica as colunas cujos valores serão reorganizados e transformados em novas colunas e `values='var k'` indica o nome da coluna cujos valores serão reorganizados com base nas colunas de referência e nas que formarão novas colunas.\n",
        "\n",
        "<img src='https://raw.githubusercontent.com/guilhermepelegrina/Mackenzie/main/Aulas/Figuras/fig_pandas_pivot.png'>\n",
        "\n",
        "Veja os exemplos a seguir."
      ]
    },
    {
      "cell_type": "code",
      "execution_count": null,
      "metadata": {
        "id": "n89eOEisDbZb"
      },
      "outputs": [],
      "source": [
        "# Exemplo: Vendas realizadas, no mês, pelos empregados de uma loja.\n",
        "df = pd.DataFrame({'Vendedor': ['Juan','Juan','Juan','André','André','André','Maria','Maria','Maria' ],\n",
        "                   'Produto': ['Ref1','Ref2', 'Ref3','Ref1','Ref2', 'Ref3', 'Ref1','Ref2', 'Ref3'],\n",
        "                   'Vendas': [6,2,5,8,4,7,9,1,3],\n",
        "                   'Preços': [60,100,210,60,100,210,60,100,210]})\n",
        "df"
      ]
    },
    {
      "cell_type": "code",
      "execution_count": null,
      "metadata": {
        "id": "5nEJ7-FJv5or"
      },
      "outputs": [],
      "source": [
        "df_novo = df.pivot(index=['Produto'], columns=['Vendedor'], values='Vendas')\n",
        "df_novo"
      ]
    },
    {
      "cell_type": "code",
      "execution_count": null,
      "metadata": {
        "id": "8_SpBlpSnpnu"
      },
      "outputs": [],
      "source": [
        "# Acessando dados após pivot - Número de vendas feitas pelo André (coluna) do produt Ref2 (linha)\n",
        "df_novo[\"André\"].Ref2"
      ]
    },
    {
      "cell_type": "markdown",
      "metadata": {
        "id": "6t-MyXCcwFP5"
      },
      "source": [
        "# **Atividade Prática**\n",
        "\n",
        "Para as duas primeiras questões da atividade prática desta aula, usaremos os dados dos índices S&P 500 e Ibovespa do ano inteiro de 2023. Para cada um desses dados, temos: data, última cotação, cotação de abertura, cotação máxima, cotação mínima, volume negociado e % de variação do dia.\n",
        "\n",
        "Para ler os dados, execute as células abaixo."
      ]
    },
    {
      "cell_type": "code",
      "execution_count": null,
      "metadata": {
        "id": "WZy7DghGHoCR"
      },
      "outputs": [],
      "source": [
        "# S&P500 - 2023\n",
        "\n",
        "sp500 = pd.read_csv(\"https://raw.githubusercontent.com/guilhermepelegrina/Mackenzie/main/Datasets/data_s&p500_2023.csv\")\n",
        "sp500.head()"
      ]
    },
    {
      "cell_type": "code",
      "execution_count": null,
      "metadata": {
        "id": "PVZN0qXkBwJP"
      },
      "outputs": [],
      "source": [
        "# Ibovespa - 2023\n",
        "\n",
        "ibov = pd.read_csv(\"https://raw.githubusercontent.com/guilhermepelegrina/Mackenzie/main/Datasets/data_ibov_2023.csv\")\n",
        "ibov.head()"
      ]
    },
    {
      "cell_type": "markdown",
      "metadata": {
        "id": "2T71szm01w9x"
      },
      "source": [
        "Para as demais questões, utilize os dados da distribuição de energia na Europa, contidos no link abaixo:\n",
        "\n",
        "https://raw.githubusercontent.com/rfordatascience/tidytuesday/master/data/2020/2020-08-04/energy_types.csv\n",
        "\n",
        "Este conjunto de dados descreve a geração de energia, de diferentes tipos, de um conjunto de países europeus. Considere *UK* como um país e *Other* como um tipo de energia."
      ]
    },
    {
      "cell_type": "markdown",
      "metadata": {
        "id": "vho2hmBZEEt4"
      },
      "source": [
        "Responda o que se pede no questionário disponível no Moodle."
      ]
    }
  ],
  "metadata": {
    "colab": {
      "provenance": [],
      "authorship_tag": "ABX9TyPinw8qLO1VNpRipyzFCeEG",
      "include_colab_link": true
    },
    "kernelspec": {
      "display_name": "Python 3",
      "name": "python3"
    },
    "language_info": {
      "name": "python"
    }
  },
  "nbformat": 4,
  "nbformat_minor": 0
}