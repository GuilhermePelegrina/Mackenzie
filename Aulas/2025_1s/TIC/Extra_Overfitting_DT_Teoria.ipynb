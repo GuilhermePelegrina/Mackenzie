{
  "nbformat": 4,
  "nbformat_minor": 0,
  "metadata": {
    "colab": {
      "provenance": [],
      "include_colab_link": true
    },
    "kernelspec": {
      "name": "python3",
      "display_name": "Python 3"
    },
    "language_info": {
      "name": "python"
    }
  },
  "cells": [
    {
      "cell_type": "markdown",
      "metadata": {
        "id": "view-in-github",
        "colab_type": "text"
      },
      "source": [
        "<a href=\"https://colab.research.google.com/github/GuilhermePelegrina/Mackenzie/blob/main/Aulas/2025_1s/TIC/Extra_Overfitting_DT_Teoria.ipynb\" target=\"_parent\"><img src=\"https://colab.research.google.com/assets/colab-badge.svg\" alt=\"Open In Colab\"/></a>"
      ]
    },
    {
      "cell_type": "code",
      "execution_count": null,
      "metadata": {
        "id": "8MolrqGfpqin"
      },
      "outputs": [],
      "source": []
    },
    {
      "cell_type": "markdown",
      "source": [
        "Vamos construir um modelo de classificação utilizando árvores de decisão e demonstrar como avaliar se ele está sobreajustando (overfitting) ou subajustando (underfitting), usando um exemplo real. Além disso, veremos como identificar e corrigir esses problemas.\n",
        "\n",
        "1. Etapas Envolvidas:\n",
        "* Importação das bibliotecas e dados.\n",
        "* Pré-processamento dos dados.\n",
        "* Divisão em conjunto de treino e teste.\n",
        "* Construção do modelo de árvore de decisão.\n",
        "* Avaliação do modelo (métricas de desempenho e visualização de overfitting/subajuste).\n",
        "* Verificação de overfitting/subajuste e possíveis correções.\n"
      ],
      "metadata": {
        "id": "eDPbB4StpudK"
      }
    },
    {
      "cell_type": "markdown",
      "source": [
        "# Exemplo: Usando o dataset Breast Cancer"
      ],
      "metadata": {
        "id": "ViAi9qdap-Ee"
      }
    },
    {
      "cell_type": "code",
      "source": [
        "# 1. Importar as bibliotecas necessárias\n",
        "import numpy as np\n",
        "import pandas as pd\n",
        "from sklearn.datasets import load_breast_cancer\n",
        "from sklearn.model_selection import train_test_split, cross_val_score\n",
        "from sklearn.tree import DecisionTreeClassifier\n",
        "from sklearn.metrics import accuracy_score, classification_report\n",
        "import matplotlib.pyplot as plt\n",
        "\n",
        "# 2. Carregar os dados\n",
        "data = load_breast_cancer()\n",
        "X = data.data\n",
        "y = data.target\n",
        "\n",
        "# 3. Dividir os dados em conjunto de treino e teste\n",
        "X_train, X_test, y_train, y_test = train_test_split(X, y, test_size=0.3, random_state=42)\n",
        "\n",
        "# 4. Construir o modelo de árvore de decisão\n",
        "clf = DecisionTreeClassifier(random_state=42)\n",
        "clf.fit(X_train, y_train)\n",
        "\n",
        "# 5. Fazer previsões\n",
        "y_train_pred = clf.predict(X_train)\n",
        "y_test_pred = clf.predict(X_test)\n",
        "\n",
        "# 6. Avaliar o modelo\n",
        "train_accuracy = accuracy_score(y_train, y_train_pred)\n",
        "test_accuracy = accuracy_score(y_test, y_test_pred)\n",
        "\n",
        "print(f\"Acurácia no treino: {train_accuracy:.4f}\")\n",
        "print(f\"Acurácia no teste: {test_accuracy:.4f}\")\n",
        "\n",
        "# 7. Exibir relatório de classificação para o conjunto de teste\n",
        "print(\"\\nRelatório de Classificação (Teste):\")\n",
        "print(classification_report(y_test, y_test_pred))\n",
        "\n",
        "# 8. Avaliação de sobreajuste ou subajuste\n",
        "# Vamos usar a validação cruzada para ter uma visão mais ampla da performance\n",
        "train_scores = cross_val_score(clf, X_train, y_train, cv=5)\n",
        "test_scores = cross_val_score(clf, X_test, y_test, cv=5)\n",
        "\n",
        "print(f\"\\nAcurácia média (cross-validação) no treino: {train_scores.mean():.4f}\")\n",
        "print(f\"Acurácia média (cross-validação) no teste: {test_scores.mean():.4f}\")\n",
        "\n",
        "# 9. Visualizar a diferença de desempenho entre treino e teste para verificar overfitting/subfitting\n",
        "plt.figure(figsize=(10, 6))\n",
        "plt.bar(['Treino', 'Teste'], [train_accuracy, test_accuracy], color=['blue', 'green'])\n",
        "plt.title('Comparação da Acurácia entre Conjuntos de Treino e Teste')\n",
        "plt.ylabel('Acurácia')\n",
        "plt.show()\n"
      ],
      "metadata": {
        "colab": {
          "base_uri": "https://localhost:8080/",
          "height": 823
        },
        "id": "9YBH_XXQqDfm",
        "outputId": "8e776806-ca60-4d1f-af4d-632cf07ad15e"
      },
      "execution_count": null,
      "outputs": [
        {
          "output_type": "stream",
          "name": "stdout",
          "text": [
            "Acurácia no treino: 1.0000\n",
            "Acurácia no teste: 0.9415\n",
            "\n",
            "Relatório de Classificação (Teste):\n",
            "              precision    recall  f1-score   support\n",
            "\n",
            "           0       0.90      0.95      0.92        63\n",
            "           1       0.97      0.94      0.95       108\n",
            "\n",
            "    accuracy                           0.94       171\n",
            "   macro avg       0.93      0.94      0.94       171\n",
            "weighted avg       0.94      0.94      0.94       171\n",
            "\n",
            "\n",
            "Acurácia média (cross-validação) no treino: 0.9096\n",
            "Acurácia média (cross-validação) no teste: 0.9412\n"
          ]
        },
        {
          "output_type": "display_data",
          "data": {
            "text/plain": [
              "<Figure size 1000x600 with 1 Axes>"
            ],
            "image/png": "[encoded data removed]"
          },
          "metadata": {}
        }
      ]
    },
    {
      "cell_type": "markdown",
      "source": [
        "# 3. Explicação Detalhada\n",
        "\n",
        "* Etapa 1: Importação das Bibliotecas e Carregamento dos Dados\n",
        "Usamos o dataset Breast Cancer da biblioteca Scikit-learn. Esse dataset já vem pronto para uso e contém variáveis de entrada (features) e a variável de saída (target).\n",
        "\n",
        "* Etapa 2: Divisão dos Dados em Treino e Teste\n",
        "Dividimos os dados em dois conjuntos: 70% para treino e 30% para teste. Essa divisão nos permite treinar o modelo em um subconjunto dos dados e avaliar sua performance em dados não vistos.\n",
        "\n",
        "* Etapa 3: Construção do Modelo de Árvore de Decisão\n",
        "Aqui usamos o DecisionTreeClassifier do Scikit-learn. O modelo é treinado usando o conjunto de treino.\n",
        "\n",
        "* Etapa 4: Previsões e Avaliação do Modelo\n",
        "Após o treino, fazemos previsões tanto no conjunto de treino quanto no de teste, calculando a acurácia para cada um. Se a acurácia no conjunto de treino for significativamente maior que no teste, isso é um indicativo de overfitting.\n",
        "\n",
        "* Etapa 5: Avaliação de Sobreajuste (Overfitting) e Subajuste (Underfitting)\n",
        "Usamos a validação cruzada (cross-validation) para avaliar o desempenho médio do modelo em várias divisões diferentes dos dados. Se a performance no conjunto de teste for muito menor que no conjunto de treino, isso pode indicar overfitting.\n",
        "\n",
        "Se a performance em ambos os conjuntos for muito baixa, isso pode indicar subajuste (underfitting), o que significa que o modelo não está capturando a complexidade dos dados."
      ],
      "metadata": {
        "id": "sNpnLUQgqPjt"
      }
    },
    {
      "cell_type": "markdown",
      "source": [
        "# 4. Como Verificar Overfitting ou Underfitting?"
      ],
      "metadata": {
        "id": "WqyixDYzqh4U"
      }
    },
    {
      "cell_type": "markdown",
      "source": [
        "* Overfitting ocorre quando o modelo tem um desempenho muito bom no conjunto de treino, mas falha em generalizar para novos dados (conjunto de teste). Isso geralmente aparece como uma grande diferença entre a acurácia de treino e de teste.\n",
        "\n",
        "* Underfitting ocorre quando o modelo não consegue capturar as relações nos dados nem no conjunto de treino nem no de teste, resultando em baixa acurácia em ambos os conjuntos.\n",
        "\n",
        "Para verificar:\n",
        "\n",
        "1. **Acurácia no treino > Acurácia no teste**: Se a diferença for muito grande, o\n",
        "modelo está sobreajustando (overfitting).\n",
        "\n",
        "2. **Acurácia baixa em ambos os conjuntos:** Se ambas as acurácias forem baixas, o modelo está subajustando (underfitting)."
      ],
      "metadata": {
        "id": "psdkyEqYqpWn"
      }
    },
    {
      "cell_type": "markdown",
      "source": [
        "# 5. Como Corrigir Overfitting ou Underfitting?\n",
        "Correção de Overfitting:\n",
        "\n",
        "* Podar a árvore: Ajustar o parâmetro max_depth, min_samples_split ou min_samples_leaf para limitar o crescimento da árvore.\n",
        "\n",
        "* Regularização: Usar técnicas como max_depth para impedir que a árvore se torne muito complexa.\n",
        "\n",
        "* Mais dados: Treinar com mais dados pode ajudar a generalizar melhor.\n",
        "Correção de Underfitting:\n",
        "\n",
        "* Aumentar a complexidade do modelo: Aumentar a profundidade da árvore (max_depth) para que capture melhor as relações dos dados.\n",
        "\n",
        "* Usar um modelo mais sofisticado: Se a árvore de decisão simples for insuficiente, considerar modelos mais complexos como Random Forest ou Gradient Boosting."
      ],
      "metadata": {
        "id": "NVQ_7u7UrEHe"
      }
    },
    {
      "cell_type": "markdown",
      "source": [
        "# **Conclusão:**\n",
        "\n",
        "Com esse exemplo prático, você pode identificar se seu modelo está sobreajustando ou subajustando, usando tanto métricas de acurácia quanto validação cruzada, além de gráficos comparativos. Com isso, é possível ajustar os hiperparâmetros ou modificar a abordagem para melhorar a performance do modelo."
      ],
      "metadata": {
        "id": "zpbi_nm1rR7o"
      }
    },
    {
      "cell_type": "markdown",
      "source": [
        "# Correção de Overfitting"
      ],
      "metadata": {
        "id": "zaCARzMIrbcY"
      }
    },
    {
      "cell_type": "markdown",
      "source": [
        "## Overfitting ocorre quando o modelo é muito complexo e se ajusta demais aos dados de treino, capturando até o ruído, o que prejudica a generalização em novos dados.\n",
        "\n",
        "Aqui estão as estratégias para corrigir overfitting:\n",
        "\n",
        "## **Podar a Árvore**\n",
        "As árvores de decisão tendem a crescer até que todas as folhas estejam puras (ou seja, todas as amostras de uma folha pertencem à mesma classe). Isso pode levar a um modelo muito complexo. Para evitar isso, podemos podar a árvore limitando sua profundidade ou a quantidade de dados mínima necessária para fazer divisões.\n",
        "\n",
        "**Parâmetros a ajustar:**\n",
        "\n",
        "**max_depth**: Define a profundidade máxima da árvore. Limitar a profundidade ajuda a reduzir a complexidade do modelo.\n",
        "\n",
        "**min_samples_split:** Define o número mínimo de amostras necessário para dividir um nó. Um valor maior impede que a árvore divida nós com poucos exemplos, o que reduz a probabilidade de overfitting.\n",
        "\n",
        "**min_samples_leaf**: Define o número mínimo de amostras que cada folha deve ter. Garantir que cada folha tenha um número suficiente de amostras ajuda a evitar divisões com dados escassos.\n",
        "\n",
        "\n",
        "Vamos ver como ajustar esses parâmetros no código:"
      ],
      "metadata": {
        "id": "5-8rm8v2rePT"
      }
    },
    {
      "cell_type": "code",
      "source": [
        "# Construção do modelo de árvore de decisão com limitação de profundidade\n",
        "clf_podado = DecisionTreeClassifier(max_depth=4, min_samples_split=15, min_samples_leaf=5, random_state=42)\n",
        "clf_podado.fit(X_train, y_train)\n",
        "\n",
        "# Fazer previsões no treino e teste\n",
        "y_train_pred_podado = clf_podado.predict(X_train)\n",
        "y_test_pred_podado = clf_podado.predict(X_test)\n",
        "\n",
        "# Avaliar o modelo podado\n",
        "train_accuracy_podado = accuracy_score(y_train, y_train_pred_podado)\n",
        "test_accuracy_podado = accuracy_score(y_test, y_test_pred_podado)\n",
        "\n",
        "print(f\"Acurácia no treino (podado): {train_accuracy_podado:.4f}\")\n",
        "print(f\"Acurácia no teste (podado): {test_accuracy_podado:.4f}\")"
      ],
      "metadata": {
        "colab": {
          "base_uri": "https://localhost:8080/"
        },
        "id": "MNaDUpdGrdL8",
        "outputId": "06216571-0c9a-4dc3-b359-2bbc2c83d0d7"
      },
      "execution_count": null,
      "outputs": [
        {
          "output_type": "stream",
          "name": "stdout",
          "text": [
            "Acurácia no treino (podado): 0.9573\n",
            "Acurácia no teste (podado): 0.9474\n"
          ]
        }
      ]
    },
    {
      "cell_type": "markdown",
      "source": [
        "**Explicação:**\n",
        "\n",
        "max_depth=4: Limita a árvore a uma profundidade de 4 níveis, impedindo que ela se ajuste demais aos dados.\n",
        "\n",
        "min_samples_split=10: Apenas nós que têm pelo menos 10 amostras serão divididos, reduzindo a chance de criar nós com poucas amostras, o que tende a aumentar o overfitting.\n",
        "\n",
        "min_samples_leaf=5: Garante que cada folha tenha pelo menos 5 amostras, o que melhora a generalização."
      ],
      "metadata": {
        "id": "Dh0UJptUsIlv"
      }
    },
    {
      "cell_type": "markdown",
      "source": [
        "## Regularização\n",
        "\n",
        "Outro parâmetro que ajuda a controlar o overfitting é a impureza mínima de um nó, que pode ser controlada pelo parâmetro ccp_alpha (cost complexity pruning).\n",
        "\n",
        "Este parâmetro impõe uma penalidade para cada nó adicional criado na árvore, eliminando divisões que têm baixo ganho de informação."
      ],
      "metadata": {
        "id": "KfFZgK3jsTPe"
      }
    },
    {
      "cell_type": "code",
      "source": [
        "# Ajustar a árvore com regularização usando ccp_alpha\n",
        "clf_regularizado = DecisionTreeClassifier(ccp_alpha=0.01, random_state=42)\n",
        "clf_regularizado.fit(X_train, y_train)\n",
        "\n",
        "# Previsões e avaliação\n",
        "y_train_pred_regularizado = clf_regularizado.predict(X_train)\n",
        "y_test_pred_regularizado = clf_regularizado.predict(X_test)\n",
        "\n",
        "train_accuracy_regularizado = accuracy_score(y_train, y_train_pred_regularizado)\n",
        "test_accuracy_regularizado = accuracy_score(y_test, y_test_pred_regularizado)\n",
        "\n",
        "print(f\"Acurácia no treino (regularizado): {train_accuracy_regularizado:.4f}\")\n",
        "print(f\"Acurácia no teste (regularizado): {test_accuracy_regularizado:.4f}\")"
      ],
      "metadata": {
        "colab": {
          "base_uri": "https://localhost:8080/"
        },
        "id": "3xxe7jdXsIWn",
        "outputId": "70e07225-629c-4e89-ac13-3427afb7017b"
      },
      "execution_count": null,
      "outputs": [
        {
          "output_type": "stream",
          "name": "stdout",
          "text": [
            "Acurácia no treino (regularizado): 0.9824\n",
            "Acurácia no teste (regularizado): 0.9649\n"
          ]
        }
      ]
    },
    {
      "cell_type": "markdown",
      "source": [
        "Explicação:\n",
        "\n",
        "ccp_alpha=0.01: Esse parâmetro controla a poda com base no critério de complexidade da árvore. Um valor maior de ccp_alpha resulta em uma árvore mais simples, o que pode reduzir o overfitting."
      ],
      "metadata": {
        "id": "0LUCrgeEseZT"
      }
    },
    {
      "cell_type": "markdown",
      "source": [
        "## Aumentar a Quantidade de Dados\n",
        "\n",
        "Se você tiver mais dados disponíveis, adicionar mais amostras pode ajudar a evitar overfitting. Mais dados significam que o modelo terá mais exemplos para aprender padrões gerais, e não detalhes específicos de poucas amostras.\n",
        "\n",
        "No nosso exemplo, se mais dados estivessem disponíveis, poderíamos simplesmente aumentar o conjunto de dados de treino."
      ],
      "metadata": {
        "id": "J24GBP82sjso"
      }
    },
    {
      "cell_type": "markdown",
      "source": [
        "# Correção de Underfitting\n",
        "\n",
        "Underfitting ocorre quando o modelo é muito simples para capturar a complexidade dos dados. Isso pode resultar em baixa acurácia tanto no treino quanto no teste.\n",
        "\n",
        "Aqui estão as estratégias para corrigir underfitting:\n",
        "\n",
        "## Aumentar a Complexidade do Modelo\n",
        "Se a árvore de decisão for muito simples (por exemplo, com max_depth muito baixo), ela pode não capturar as relações nos dados adequadamente.\n",
        "\n",
        "Ajustando o hiperparâmetro max_depth para permitir uma árvore mais profunda pode ajudar:"
      ],
      "metadata": {
        "id": "2fihJjOWsvTL"
      }
    },
    {
      "cell_type": "code",
      "source": [
        "# Aumentar a profundidade da árvore para corrigir underfitting\n",
        "clf_complexo = DecisionTreeClassifier(max_depth=10, random_state=42)\n",
        "clf_complexo.fit(X_train, y_train)\n",
        "\n",
        "# Previsões e avaliação\n",
        "y_train_pred_complexo = clf_complexo.predict(X_train)\n",
        "y_test_pred_complexo = clf_complexo.predict(X_test)\n",
        "\n",
        "train_accuracy_complexo = accuracy_score(y_train, y_train_pred_complexo)\n",
        "test_accuracy_complexo = accuracy_score(y_test, y_test_pred_complexo)\n",
        "\n",
        "print(f\"Acurácia no treino (modelo complexo): {train_accuracy_complexo:.4f}\")\n",
        "print(f\"Acurácia no teste (modelo complexo): {test_accuracy_complexo:.4f}\")\n"
      ],
      "metadata": {
        "colab": {
          "base_uri": "https://localhost:8080/"
        },
        "id": "fbIYZin0sDEB",
        "outputId": "514aefc2-ed44-404d-e468-71c0c37be450"
      },
      "execution_count": null,
      "outputs": [
        {
          "output_type": "stream",
          "name": "stdout",
          "text": [
            "Acurácia no treino (modelo complexo): 1.0000\n",
            "Acurácia no teste (modelo complexo): 0.9415\n"
          ]
        }
      ]
    },
    {
      "cell_type": "markdown",
      "source": [
        "## Explicação:\n",
        "\n",
        "max_depth=10: Permitimos que a árvore cresça mais, o que permite que o modelo capture melhor as relações nos dados.\n",
        "\n",
        "## Usar um Modelo Mais Sofisticado\n",
        "Se o modelo de árvore de decisão simples não for suficiente, podemos usar um modelo mais avançado, como Random Forest ou Gradient Boosting, que são variantes mais poderosas de árvores de decisão e geralmente oferecem melhores performances com menos ajustes manuais.\n",
        "\n",
        "Vamos testar um Random Forest:"
      ],
      "metadata": {
        "id": "lWvMYFFms70Y"
      }
    },
    {
      "cell_type": "code",
      "source": [
        "from sklearn.ensemble import RandomForestClassifier\n",
        "\n",
        "# Construir um Random Forest para evitar underfitting\n",
        "clf_rf = RandomForestClassifier(n_estimators=10, random_state=42)\n",
        "clf_rf.fit(X_train, y_train)\n",
        "\n",
        "# Previsões e avaliação\n",
        "y_train_pred_rf = clf_rf.predict(X_train)\n",
        "y_test_pred_rf = clf_rf.predict(X_test)\n",
        "\n",
        "train_accuracy_rf = accuracy_score(y_train, y_train_pred_rf)\n",
        "test_accuracy_rf = accuracy_score(y_test, y_test_pred_rf)\n",
        "\n",
        "print(f\"Acurácia no treino (Random Forest): {train_accuracy_rf:.4f}\")\n",
        "print(f\"Acurácia no teste (Random Forest): {test_accuracy_rf:.4f}\")\n"
      ],
      "metadata": {
        "colab": {
          "base_uri": "https://localhost:8080/"
        },
        "id": "p0UqYZTos18k",
        "outputId": "a22deb61-cff0-4183-9985-9a9346ab380f"
      },
      "execution_count": null,
      "outputs": [
        {
          "output_type": "stream",
          "name": "stdout",
          "text": [
            "Acurácia no treino (Random Forest): 0.9950\n",
            "Acurácia no teste (Random Forest): 0.9649\n"
          ]
        }
      ]
    },
    {
      "cell_type": "markdown",
      "source": [
        "## Explicação:\n",
        "\n",
        "**RandomForestClassifier** constrói várias árvores de decisão e combina suas previsões para melhorar a robustez do modelo.\n",
        "\n",
        "n_estimators=100: Número de árvores na floresta."
      ],
      "metadata": {
        "id": "jfPWxWWetKCP"
      }
    },
    {
      "cell_type": "markdown",
      "source": [
        "## Conclusão: Verificação de Melhorias\n",
        "\n",
        "Após ajustar os hiperparâmetros ou trocar de modelo, é importante comparar as acurácias e verificar se as mudanças realmente corrigiram o problema de overfitting ou underfitting.\n",
        "\n",
        "Se houver uma melhoria significativa no conjunto de teste sem uma discrepância muito grande entre treino e teste, isso é um indicativo de que o modelo agora está generalizando melhor.\n",
        "\n",
        "## Comparação dos Resultados\n",
        "No final, você pode plotar os resultados de diferentes versões do modelo para uma comparação clara:"
      ],
      "metadata": {
        "id": "E522bgHgtUX5"
      }
    },
    {
      "cell_type": "code",
      "source": [
        "# Comparação dos modelos\n",
        "labels = ['Original', 'Podado', 'Regularizado', 'Complexo', 'Random Forest']\n",
        "train_accuracies = [train_accuracy, train_accuracy_podado, train_accuracy_regularizado, train_accuracy_complexo, train_accuracy_rf]\n",
        "test_accuracies = [test_accuracy, test_accuracy_podado, test_accuracy_regularizado, test_accuracy_complexo, test_accuracy_rf]\n",
        "\n",
        "plt.figure(figsize=(10, 6))\n",
        "plt.barh(labels, train_accuracies, color='blue', alpha=0.6, label='Treino')\n",
        "plt.barh(labels, test_accuracies, color='green', alpha=0.6, label='Teste')\n",
        "plt.xlabel('Acurácia')\n",
        "plt.title('Comparação das Acurácias dos Modelos')\n",
        "plt.legend()\n",
        "plt.show()"
      ],
      "metadata": {
        "colab": {
          "base_uri": "https://localhost:8080/",
          "height": 565
        },
        "id": "Q_flzYmStRdK",
        "outputId": "bb9edd11-20f6-4069-cde8-01d18417b975"
      },
      "execution_count": null,
      "outputs": [
        {
          "output_type": "display_data",
          "data": {
            "text/plain": [
              "<Figure size 1000x600 with 1 Axes>"
            ],
            "image/png": "[encoded data removed]"
          },
          "metadata": {}
        }
      ]
    },
    {
      "cell_type": "markdown",
      "source": [
        "Isso ajuda a visualizar quais ajustes de hiperparâmetros ou mudanças de modelo geraram a melhor generalização e reduziram o overfitting ou underfitting."
      ],
      "metadata": {
        "id": "7t2-bR0NtgfJ"
      }
    },
    {
      "cell_type": "markdown",
      "source": [
        "O gráfico acima mostra uma comparação das acurácias de treino e teste de diferentes versões de modelos de classificação. Cada barra representa uma versão do modelo, e a cor indica se a acurácia corresponde ao conjunto de treino ou de teste.\n",
        "\n",
        "## Interpretação dos Modelos:\n",
        "\n",
        "1. Modelo Original:\n",
        "\n",
        "* Acurácia no treino (barra azul) é muito alta, possivelmente próxima de 1.0 (100%).\n",
        "* Acurácia no teste (barra verde) é significativamente menor que a do treino, o que indica overfitting. O modelo está se ajustando bem ao conjunto de treino, mas falhando em generalizar para novos dados.\n",
        "\n",
        "2. Modelo Podado:\n",
        "\n",
        "* A acurácia no treino (barra azul) é ligeiramente menor em relação ao modelo original.\n",
        "* A acurácia no teste (barra verde) melhorou um pouco e está mais próxima da acurácia de treino, indicando que a poda da árvore de decisão ajudou a reduzir o overfitting. O modelo está mais equilibrado, embora talvez tenha ainda um pouco de margem para melhoria na generalização.\n",
        "\n",
        "3. Modelo Regularizado:\n",
        "\n",
        "* A acurácia no treino é significativamente reduzida em relação ao modelo original e ao podado, o que mostra que a regularização reduziu a complexidade do modelo.\n",
        "\n",
        "* A acurácia no teste também é semelhante à acurácia no treino, o que indica que o modelo não está overfitting, mas está com uma performance relativamente mediana. Isso pode significar que a regularização talvez tenha sido aplicada com muita força (ccp_alpha elevado), resultando em um leve underfitting.\n",
        "\n",
        "4. Modelo Complexo:\n",
        "\n",
        "* A acurácia no treino é extremamente alta, próxima de 1.0 (simbolizando ajuste total).\n",
        "\n",
        "* A acurácia no teste é consideravelmente menor, indicando novamente overfitting. Este modelo é mais complexo que o original, capturando muito bem os padrões no treino, mas falhando na generalização, o que pode ter ocorrido porque a árvore cresceu demais.\n",
        "\n",
        "5. Random Forest:\n",
        "\n",
        "* A acurácia no treino é novamente muito alta, mas a diferença em relação ao teste é mínima.\n",
        "\n",
        "* A acurácia no teste é praticamente igual à do treino, sugerindo que o Random Forest conseguiu reduzir o overfitting, fornecendo um modelo robusto com melhor generalização. O uso de múltiplas árvores de decisão ajudou a equilibrar o desempenho nos dois conjuntos de dados.\n",
        "\n",
        "#Conclusão:\n",
        "\n",
        "* O modelo original e o modelo complexo apresentam overfitting, com uma grande diferença entre a acurácia de treino e teste.\n",
        "\n",
        "* O modelo podado melhorou a generalização, mas ainda não de forma ideal.\n",
        "\n",
        "* O modelo regularizado teve acurácias mais balanceadas, mas com possibilidade de underfitting.\n",
        "\n",
        "* O Random Forest foi o melhor modelo, com acurácias altas e bem próximas entre treino e teste, indicando que foi capaz de evitar tanto o overfitting quanto o underfitting, generalizando bem para dados novos.\n",
        "\n",
        "\n",
        "\n",
        "\n",
        "\n"
      ],
      "metadata": {
        "id": "MHuiGaj_tlTp"
      }
    },
    {
      "cell_type": "code",
      "source": [],
      "metadata": {
        "id": "WCufVTgTtboS"
      },
      "execution_count": null,
      "outputs": []
    }
  ]
}