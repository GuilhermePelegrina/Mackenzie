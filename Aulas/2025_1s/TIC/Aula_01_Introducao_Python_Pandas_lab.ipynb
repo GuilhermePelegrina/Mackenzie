{
  "nbformat": 4,
  "nbformat_minor": 0,
  "metadata": {
    "colab": {
      "provenance": [],
      "authorship_tag": "ABX9TyNl2JOnIz3BThx5AAHuwOFx",
      "include_colab_link": true
    },
    "kernelspec": {
      "name": "python3",
      "display_name": "Python 3"
    },
    "language_info": {
      "name": "python"
    }
  },
  "cells": [
    {
      "cell_type": "markdown",
      "metadata": {
        "id": "view-in-github",
        "colab_type": "text"
      },
      "source": [
        "<a href=\"https://colab.research.google.com/github/GuilhermePelegrina/Mackenzie/blob/main/Aulas/2025_1s/TIC/Aula_01_Introducao_Python_Pandas_lab.ipynb\" target=\"_parent\"><img src=\"https://colab.research.google.com/assets/colab-badge.svg\" alt=\"Open In Colab\"/></a>"
      ]
    },
    {
      "cell_type": "markdown",
      "source": [
        "# **Atividade prática Aula 01 - Introdução ao aprendizado de máquina, Revisão de Python e Pandas**"
      ],
      "metadata": {
        "id": "HSQCu7I51tMd"
      }
    },
    {
      "cell_type": "markdown",
      "source": [
        "# **Exercício - Questões 1-2**\n",
        "\n",
        "Utilize o ``np.random.randint```para criar um programa que gera aleatoriamente (com semente igual a 1) um único array com 500 elementos. Os números devem ser inteiros no intervalo [0,20]. Responda as questões seguintes:"
      ],
      "metadata": {
        "id": "KDJxz8KBGoaX"
      }
    },
    {
      "cell_type": "markdown",
      "source": [
        "**Questão 1**: Calcule a média e o desvio padrão desse array. Quais os valores obtidos?"
      ],
      "metadata": {
        "id": "D14xsZuKhUVZ"
      }
    },
    {
      "cell_type": "markdown",
      "source": [
        "**Questão 2**: Crie, agora, uma matriz com 100 linhas e 5 colunas, sendo que a primeira coluna contenha os 100 primeiros elementos do array, a segunda coluna os 100 elementos seguintes, e assim por diante. Para cada coluna, calcule também a média e, se a média for maior que 10, apresente o valor obtido na tela, juntamente com a coluna correspondente. Quantas colunas possuem a média maior que 10?\n",
        "\n",
        "Dica: Para otimizar o código, você pode utilizar os comandos *for* e *if*."
      ],
      "metadata": {
        "id": "GIrVQOyUg7AP"
      }
    },
    {
      "cell_type": "markdown",
      "source": [
        "# **Exercício - Questões 3-8**\n",
        "\n",
        "Para as questões de 1 até 8, utilize o conjunto de dados [Mushroom](https://archive.ics.uci.edu/dataset/848/secondary+mushroom+dataset). Leia os dados a partir do link abaixo:\n",
        "\n",
        "https://raw.githubusercontent.com/guilhermepelegrina/Mackenzie/main/Datasets/data_mushroom.csv\n",
        "\n",
        "Nessa base de dados, o objetivo é classificar cogumelos (*mushrooms*) como venenosos (classe `p`) ou comentíveis (classe `e`). Para isso, temos uma coluna (`class`) que indica a classe dos cogumelos e diversas outras colunas que indicam atributos (numéricos e categóricos) associados aos cogumelos.\n",
        "\n",
        "\n"
      ],
      "metadata": {
        "id": "OwzLQ9AnhCje"
      }
    },
    {
      "cell_type": "markdown",
      "source": [
        "**Questão 3**: Leia a base de dados ``Mushroom``. Note que há uma coluna que possui células vazias. Qual é essa coluna?"
      ],
      "metadata": {
        "id": "CHM_MSiDsjLI"
      }
    },
    {
      "cell_type": "markdown",
      "source": [
        "**Questão 4**: Para a coluna encontrada no item anterior, quantas são as células vazias?"
      ],
      "metadata": {
        "id": "1ky4hkFhvlpP"
      }
    },
    {
      "cell_type": "markdown",
      "source": [
        "**Questão 5**: Para as próximas questões, crie uma nova base de dados igual à anterior, mas removendo as linhas com células vazias. Quais as porcentagens de cada tipo de cogumelo?"
      ],
      "metadata": {
        "id": "egXExNrIwHjW"
      }
    },
    {
      "cell_type": "markdown",
      "source": [
        "**Questão 6**: Quantos são os dados (atributos) de entrada?"
      ],
      "metadata": {
        "id": "g5JCSmpY5Psc"
      }
    },
    {
      "cell_type": "markdown",
      "source": [
        "**Questão 7**: Utilize os códigos vistos em aula para separar os dados de treinamento (80%, usados para treinar o modelo) e dados de teste (20%, usados para avaliar o modelo treinado). Utilize ``random_state = 1`` e estratifique nos dados de saída. Quantos dados serão utilizados na etapa de teste?"
      ],
      "metadata": {
        "id": "J_tgiZ5n4rpk"
      }
    },
    {
      "cell_type": "markdown",
      "source": [
        "**Questão 8**: Verifique a proporção de cada classe nos dados de treinamento e teste, comparando com a base de dados completa."
      ],
      "metadata": {
        "id": "C0MGs3FboG33"
      }
    }
  ]
}