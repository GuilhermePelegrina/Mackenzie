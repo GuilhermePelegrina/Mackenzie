{
  "cells": [
    {
      "cell_type": "markdown",
      "metadata": {
        "id": "view-in-github",
        "colab_type": "text"
      },
      "source": [
        "<a href=\"https://colab.research.google.com/github/GuilhermePelegrina/Mackenzie/blob/main/Aulas/2025_1s/TIC/Aula_12_Clusterizacao_hierarquico.ipynb\" target=\"_parent\"><img src=\"https://colab.research.google.com/assets/colab-badge.svg\" alt=\"Open In Colab\"/></a>"
      ]
    },
    {
      "cell_type": "markdown",
      "metadata": {
        "id": "gglUriLmo1sR"
      },
      "source": [
        "<head>\n",
        "  <meta name=\"author\" content=\"Rogério de Oliveira\">\n",
        "  <meta institution=\"author\" content=\"Universidade Presbiteriana Mackenzie\">\n",
        "</head>\n",
        "\n",
        "<img src=\"http://meusite.mackenzie.br/rogerio/mackenzie_logo/UPM.2_horizontal_vermelho.jpg\" width=300, align=\"left\">\n",
        "<!-- <h1 align=left><font size = 6, style=\"color:rgb(200,0,0)\"> optional title </font></h1> -->"
      ]
    },
    {
      "cell_type": "markdown",
      "metadata": {
        "id": "06noRfWHp0of"
      },
      "source": [
        "# Clustering Hierárquico\n",
        "É uma técnica de mineração de dados que agrupa observações (dados) em clusters com base em sua similaridade seguindo uma estrutura hierárquica.\n",
        "Existem dois tipos de clustering hierárquico: aglomerativo e divisivo.\n",
        "\n",
        "> **Aglomerativo**: Esta é uma abordagem \"de baixo para cima\", cada observação começa como um cluster e, em seguida, é agrupado com outras observações com base em sua similaridade, formando clusters cada vez maiores até que todas as observações estejam em um único cluster.\n",
        "\n",
        "> **Divisivo**: Esta é uma abordagem \"de cima para baixo\", todas as observações são agrupadas em um único cluster, e são divididas em clusters menores com base em suas diferenças até que cada observação esteja em seu próprio cluster.\n",
        "\n",
        "Os resultados do agrupamento hierárquico podem ser então apresentados em um **dendrograma**.\n",
        "\n"
      ]
    },
    {
      "cell_type": "markdown",
      "metadata": {
        "id": "IWug180dF0-I"
      },
      "source": [
        ">  **Definindo o número de Clusters**\n",
        "\n",
        "O número de clusters é calculado a partir de um *ponto* de corte no dendograma que determina a distância máxima que os elementos terão dentro de um agrupamento. Mais adiante vamos discutir um critério para definir o número \"ideal\" de clusters"
      ]
    },
    {
      "cell_type": "markdown",
      "metadata": {
        "id": "Hy_mwaDMstKh"
      },
      "source": [
        "### Exemplo - Vamos agrupar um conjunto de dados!\n",
        "\n",
        "Vamos gerar 8 dados para entender como é feito um dendograma. Aqui cada dado terá duas informações, você pode pensar que cada dado contêm, por exemplo, a renda e a idade de certo usuário. **Não estamos interessados em discutir o código** e sim a construção do dendrograma."
      ]
    },
    {
      "cell_type": "code",
      "execution_count": null,
      "metadata": {
        "id": "SQN6sMELRnLq"
      },
      "outputs": [],
      "source": [
        "import pandas as pd\n",
        "import numpy as np\n",
        "import matplotlib.pyplot as plt\n",
        "import warnings\n",
        "warnings.filterwarnings('ignore')"
      ]
    },
    {
      "cell_type": "code",
      "execution_count": null,
      "metadata": {
        "id": "6O-bzonup8BE"
      },
      "outputs": [],
      "source": [
        "from scipy.cluster.hierarchy import dendrogram, linkage\n",
        "from scipy.spatial.distance import pdist, squareform\n",
        "\n",
        "\n",
        "# Cria um conjunto de dados hipotético\n",
        "X = np.array([[1, 1], [1, 0], [2, 5], [2, 6], [5, 8], [3, 10],[5,1],[5,2]])\n",
        "\n",
        "# Calcula as distâncias entre os pontos usando a distância euclidiana\n",
        "Z = linkage(X, metric='euclidean')\n",
        "\n",
        "# Plota o dendograma\n",
        "plt.figure(figsize=(5, 3))\n",
        "\n",
        "plt.title('Dendograma Aglomerativo')\n",
        "plt.ylabel('Distância')\n",
        "dendrogram(Z, leaf_rotation=90, leaf_font_size=10,\n",
        "           labels=[\"[1,1]\",\"[1,0]\",\"[2,5]\",\"[2,6]\",\"[5,8]\",\"[3,10]\",\"[5,1]\",\"[5,2]\"])\n",
        "plt.show()"
      ]
    },
    {
      "cell_type": "markdown",
      "metadata": {
        "id": "yMjXc50vsSTI"
      },
      "source": [
        "#### **Como foi construído o dendograma?**"
      ]
    },
    {
      "cell_type": "markdown",
      "metadata": {
        "id": "HjHOMPEMttfu"
      },
      "source": [
        "1. Primeiro é mensurada a similaridade dos dados calculando uma distância, por exemplo, a euclidiana."
      ]
    },
    {
      "cell_type": "markdown",
      "metadata": {
        "id": "bs-S6IsTuBEt"
      },
      "source": [
        "*   Dado 1: [1,1]\n",
        "*   Dado 2: [1,0]  \n",
        "*   Dado 3: [2,5]\n",
        "*   Dado 4: [2,6]\n",
        "*   Dado 5: [5,8]\n",
        "*   Dado 6: [3,10]\n",
        "*   Dado 7: [5,1]\n",
        "*   Dado 8: [5,2]\n",
        "\n",
        "\n",
        "Distância euclidiana entre o Dado 1 e Dado 2:\n",
        "$$ d_{12}=\\sqrt{(1-1)^2+(1-0)^2}=1$$\n",
        "\n",
        "Distância euclidiana entre o Dado 1 e Dado 3:\n",
        "$$ d_{13}=\\sqrt{(1-2)^2+(1-5)^2} =4,123106$$\n",
        "\n",
        "A seguir, apresentam-se todas as distâncias calculadas"
      ]
    },
    {
      "cell_type": "code",
      "source": [
        "dist_matrix = squareform(pdist(X, metric='euclidean'))\n",
        "\n",
        "# Exibe a matriz\n",
        "print(\"Matriz de distâncias aos pares:\")\n",
        "print(np.round(dist_matrix, 2))  # arredondado para facilitar a leitura"
      ],
      "metadata": {
        "id": "e8jBTaU47JX8"
      },
      "execution_count": null,
      "outputs": []
    },
    {
      "cell_type": "markdown",
      "metadata": {
        "id": "1EqVh0lgwHaW"
      },
      "source": [
        "Os dados são agrupados em pares, usando como critério, a menor distância. Note que agora temos 4 clusters\n",
        "\n",
        "*   Cluster 1: [1,1] e [1,0]\n",
        "*   Cluster 2: [2,5] e [2,6]\n",
        "*   Cluster 3: [5,8] e [3,10]\n",
        "*   Cluster 4: [5,1] 2 [5,2]\n",
        "\n",
        "\n"
      ]
    },
    {
      "cell_type": "markdown",
      "metadata": {
        "id": "DOjNJ_3hwHUv"
      },
      "source": [
        "2. Para continuar como o agrupamento, vamos procurar as seguintes duas menores distâncias."
      ]
    },
    {
      "cell_type": "markdown",
      "metadata": {
        "id": "gDnbslSQx1ls"
      },
      "source": [
        "Assim,\n",
        "*   Os clusters que tem os valores [1,1] e [5,1] devem ser agrupados em um único cluster (distância de 4).\n",
        "     *   O novo cluster terá 4 dados: [1,1], [1,0], [5,1] e [5,2]\n",
        "*   Os clusters que tem os valores [2,6] e [5,8] devem ser agrupados em um único cluster (distância de 3,6055).\n",
        "     *   O novo cluster terá 4 dados: [2,5], [2,6], [5,8] e [3,10]"
      ]
    },
    {
      "cell_type": "markdown",
      "metadata": {
        "id": "Xw-9esoWy2-0"
      },
      "source": [
        "Note que a seguinte menor distância é 4,1231 que juntaria os valores [1,1] e [2,5], ou seja, cria-se um novo cluster que junta todos os oito valores."
      ]
    },
    {
      "cell_type": "markdown",
      "metadata": {
        "id": "xqvyqVpz4Oho"
      },
      "source": [
        "## Características do Clustering Hierárquico\n",
        "\n",
        "A seguir, vamos discutir duas características deste método:\n",
        "*   A **função distância** a ser implementada\n",
        "*   Como definir a distância entre um ponto e um cluster **(Linkage)**\n",
        "\n"
      ]
    },
    {
      "cell_type": "markdown",
      "metadata": {
        "id": "CGd3EeT84Oe_"
      },
      "source": [
        "### Funções Distância\n",
        "A distância euclidiana é a mais aplicadam em modelos *knn*, *kmeans*, mas algumas encontram maior uso em contextos específicos como a distância de **Hamming** para dados binários ou a distância **cosseno** para análise de dados de documentos.\n"
      ]
    },
    {
      "cell_type": "markdown",
      "metadata": {
        "id": "7cHDZb_Clhxy"
      },
      "source": [
        "Algumas funções distância empregadas em Ciência de Dados:\n",
        "\n",
        "*   Distância euclidiana ${\\displaystyle \\| ab \\| _ {2} = {\\sqrt {\\sum_{i} (a_ {i} -b_ {i}) ^ {2}}}} $\n",
        "\n",
        "*   Distância euclidiana quadrada ${\\displaystyle \\| ab \\| _ {2} ^ {2} = \\sum _ {i} (a_ {i} -b_ {i}) ^ {2}} $\n",
        "\n",
        "*   Distância de Manhattan ${\\displaystyle \\| ab \\| _ {1} = \\sum _ {i} | a_ {i} -b_ {i} |}$\n",
        "\n",
        "*   Distância máxima ${\\displaystyle \\| ab \\| _ {\\infty} = \\max _ {i} | a_ {i} -b_ {i} |}$\n",
        "\n",
        "*   Distância de Mahalanobis ${\\displaystyle {\\sqrt {(ab) ^ {\\top} S ^ {- 1} (ab)}}}$  onde S é a matriz de covariância\n",
        "\n",
        "Outras distâncias:\n",
        "\n",
        "*   Distância de Hamming para Strings\n",
        "\n",
        "*   Distância Cosseno para análise de dados com representação vetorial."
      ]
    },
    {
      "cell_type": "markdown",
      "metadata": {
        "id": "RoOB3qZ6GrtU"
      },
      "source": [
        "### Linkage\n",
        "\n",
        "A função distância está bem definida para distância de dois elementos. Mas ainda não definimos a distância de um elemento a um grupo.\n"
      ]
    },
    {
      "cell_type": "markdown",
      "metadata": {
        "id": "xtUfutz934bL"
      },
      "source": [
        "Alguns critérios de ligação comumente empregados são:\n",
        "\n",
        "1. Complete linkage\n",
        "\n",
        "$$d(A,B) = \\{\\max \\, d (a, b): a \\in A, \\, b \\in B \\, \\}$$\n",
        "\n",
        "2. Single linkage\n",
        "\n",
        "$$d(A,B) = \\{\\min \\, d (a, b): a \\in A, \\, b \\in B \\, \\}$$\n",
        "\n",
        "3. Average linkage\n",
        "\n",
        "$$d(A,B) = {\\displaystyle {\\frac {1} {| A | \\cdot | B |}} \\sum _ {a \\in A} \\sum _ {b \\in B} d (a, b)} $$\n",
        "\n",
        "\n",
        "Importante notar que o tipo de linkage empregado altera a formação dos agrupamentos além de ter impacto sobre o desempenho do processamento.\n",
        "\n",
        "No exemplo mostrado acima foi considerada single linkage, vamos ver a diferença entre os agrupamentos usando complete linkage."
      ]
    },
    {
      "cell_type": "code",
      "execution_count": null,
      "metadata": {
        "id": "XCXJs6Y66nvH"
      },
      "outputs": [],
      "source": [
        "# Cria um conjunto de dados hipotético\n",
        "X = np.array([[1, 1], [1, 0], [2, 5], [2, 6], [5, 8], [3, 10],[5,1],[5,2]])\n",
        "\n",
        "# Calcula as distâncias entre os pontos usando a distância euclidiana\n",
        "Z_single = linkage(X,method='single', metric='euclidean')\n",
        "Z_complete = linkage(X,method='complete', metric='euclidean')\n",
        "\n",
        "\n",
        "# Plota o dendograma\n",
        "fig, (ax1, ax2) = plt.subplots(1, 2, figsize=(8, 4))\n",
        "\n",
        "ax1.set_title('Dendograma (Linkage Single)')\n",
        "dendrogram(Z_single, ax=ax1, leaf_rotation=90, leaf_font_size=10,\n",
        "           labels=[\"[1,1]\",\"[1,0]\",\"[2,5]\",\"[2,6]\",\"[5,8]\",\"[3,10]\",\"[5,1]\",\"[5,2]\"])\n",
        "\n",
        "ax2.set_title('Dendograma (Linkage Complete)')\n",
        "dendrogram(Z_complete, ax=ax2, leaf_rotation=90, leaf_font_size=10,\n",
        "           labels=[\"[1,1]\",\"[1,0]\",\"[2,5]\",\"[2,6]\",\"[5,8]\",\"[3,10]\",\"[5,1]\",\"[5,2]\"])\n",
        "plt.show()"
      ]
    },
    {
      "cell_type": "markdown",
      "metadata": {
        "id": "kIr_4QzOlOOo"
      },
      "source": [
        "## Análise de dados reais\n",
        "Caso: **Us Arrests**\n",
        "\n",
        "O conjunto de dados [US Arrests](https://www.kaggle.com/code/aishu2218/us-arrests-using-hierarchical-clustering-analysis) contém estatísticas de prisões por 100.000 residentes, sendo assassinato, assalto e estupro. Essas estatísticas foram extraídas dos 50 estados dos EUA. Além dessas estatísticas, também é fornecida a porcentagem da população que vive em áreas urbanas.\n",
        "\n",
        "O intuito ao usar esse conjunto de dados é de agrupar estados que possuem uma certa similaridade para, então, estabelecer políticas específicas para cada grupo obtido.\n",
        "\n",
        "Para ler o conjunto de dados, use o link abaixo:\n",
        "\n",
        "https://raw.githubusercontent.com/guilhermepelegrina/Mackenzie/main/Datasets/data_usarrests.csv\n",
        "\n"
      ]
    },
    {
      "cell_type": "code",
      "execution_count": null,
      "metadata": {
        "id": "zPYeoP83sXy7"
      },
      "outputs": [],
      "source": [
        "import pandas as pd\n",
        "\n",
        "df = pd.read_csv('https://raw.githubusercontent.com/guilhermepelegrina/Mackenzie/main/Datasets/data_usarrests.csv', index_col=0)\n",
        "df.head()"
      ]
    },
    {
      "cell_type": "markdown",
      "metadata": {
        "id": "ZBX27Gews1Di"
      },
      "source": [
        "> **Normalizando os dados**\n",
        "\n",
        "Podemos usar a função `preprocessing.scale`, por exemplo. Há outras funções de normalização. Veja [aqui](https://scikit-learn.org/stable/modules/classes.html#module-sklearn.preprocessing) outras opções."
      ]
    },
    {
      "cell_type": "code",
      "execution_count": null,
      "metadata": {
        "id": "4Vk1x5-SuEFy"
      },
      "outputs": [],
      "source": [
        "from sklearn.preprocessing import scale\n",
        "\n",
        "df_scaled = pd.DataFrame(scale(df), columns=df.columns)\n",
        "df_scaled.head()"
      ]
    },
    {
      "cell_type": "markdown",
      "metadata": {
        "id": "YeiT9oXumyn8"
      },
      "source": [
        "### Fazendo um agrupando via **Aglomerative Clustering**\n",
        "\n",
        "\n",
        "\n"
      ]
    },
    {
      "cell_type": "markdown",
      "metadata": {
        "id": "mhCo8mzk_DuG"
      },
      "source": [
        "Vamos calcular primeiro o número \"ideal\" de clusters para o conjunto de dados.\n",
        "\n",
        "Para isto, vamos usar a métrica **Silhouette** que indica quão bem um objeto se ajusta ao seu próprio cluster em relação aos outros clusters, seus valores variam entre -1 e 1, em que valores mais próximos de 1 representam agrupamentos melhores e valores negativos indicam que um ponto pode ter sido atribuído ao grupo errado.\n",
        "\n",
        "Mais informação aqui: https://scikit-learn.org/stable/auto_examples/cluster/plot_kmeans_silhouette_analysis.html"
      ]
    },
    {
      "cell_type": "code",
      "execution_count": null,
      "metadata": {
        "id": "GC3XfgyT_e4C"
      },
      "outputs": [],
      "source": [
        "from sklearn.metrics import silhouette_score\n",
        "from sklearn.cluster import AgglomerativeClustering\n",
        "\n",
        "\n",
        "for n_clusters in range(2,8):\n",
        "  model = AgglomerativeClustering(n_clusters=n_clusters, metric='euclidean', linkage='complete')\n",
        "  model.fit(df_scaled)\n",
        "  print('Média do valor de Silhouette para ', n_clusters , ' clusters: ', silhouette_score(df_scaled, model.labels_))"
      ]
    },
    {
      "cell_type": "markdown",
      "metadata": {
        "id": "GaQLk7kV_BjK"
      },
      "source": [
        "\n",
        "Assim, vamos separar os dados em dois clusters."
      ]
    },
    {
      "cell_type": "code",
      "execution_count": null,
      "metadata": {
        "id": "1srfzIVBqv7y"
      },
      "outputs": [],
      "source": [
        "from sklearn.cluster import AgglomerativeClustering\n",
        "\n",
        "clf = AgglomerativeClustering(n_clusters=2, metric='euclidean', linkage='complete')\n",
        "# clf = AgglomerativeClustering(n_clusters=2, metric='euclidean', linkage='single')\n",
        "# clf = AgglomerativeClustering(n_clusters=2, metric='euclidean', linkage='average')\n",
        "\n",
        "clf.fit(df_scaled)\n",
        "\n",
        "# Resultados\n",
        "labels = clf.labels_\n",
        "print(labels)"
      ]
    },
    {
      "cell_type": "code",
      "execution_count": null,
      "metadata": {
        "id": "78MD04a1UCu0"
      },
      "outputs": [],
      "source": [
        "df['cluster'] = labels\n",
        "df.head(10)"
      ]
    },
    {
      "cell_type": "markdown",
      "metadata": {
        "id": "CfSskAEIUNl5"
      },
      "source": [
        "### Vamos fazer o dendograma"
      ]
    },
    {
      "cell_type": "code",
      "execution_count": null,
      "metadata": {
        "id": "6mNBDvj2myoC"
      },
      "outputs": [],
      "source": [
        "import scipy.cluster.hierarchy as shc\n",
        "import matplotlib.pyplot as plt\n",
        "\n",
        "plt.figure(figsize=(12, 5))\n",
        "plt.title(\"Dendrogram\")\n",
        "plt.xticks(rotation=90)\n",
        "\n",
        "dendrogram = shc.dendrogram(shc.linkage(df_scaled, method='complete')) # cuidado com o nome\n",
        "\n",
        "plt.show()\n"
      ]
    },
    {
      "cell_type": "markdown",
      "metadata": {
        "id": "b-_tBv7ZXpPT"
      },
      "source": [
        "### Caracterizando os grupos\n",
        "\n",
        "Vamos analisar cada grupo! Aparentemente, um dos grupos é caracterizado por estados com elevado número de assaltos."
      ]
    },
    {
      "cell_type": "code",
      "execution_count": null,
      "metadata": {
        "id": "6ya2VNtVWkS3"
      },
      "outputs": [],
      "source": [
        "import matplotlib.pyplot as plt\n",
        "import seaborn as sns\n",
        "\n",
        "g = pd.DataFrame( df.groupby('cluster').mean() ).reset_index()\n",
        "\n",
        "f, axis = plt.subplots(1,2, figsize=(12,5))\n",
        "\n",
        "sns.barplot(data=g[g.cluster==0].drop(columns='cluster'),ax=axis[0],estimator=\"mean\")\n",
        "axis[0].set_title('Alto número de assaltos')\n",
        "axis[0].set_xticklabels(axis[0].get_xticklabels(), rotation=90, ha=\"right\")\n",
        "axis[0].set_ylim(0, 300)\n",
        "\n",
        "sns.barplot(data=g[g.cluster==1].drop(columns='cluster'),ax=axis[1],estimator=\"mean\")\n",
        "axis[1].set_title('Baixo número de assaltos')\n",
        "axis[1].set_xticklabels(axis[1].get_xticklabels(), rotation=90, ha=\"right\")\n",
        "axis[1].set_ylim(0, 300)\n",
        "\n",
        "plt.suptitle('Caracterizando os grupos',fontsize=18)\n",
        "plt.show()"
      ]
    },
    {
      "cell_type": "markdown",
      "metadata": {
        "id": "G_mb4cxqVqSK"
      },
      "source": [
        "## Análise de dados reais II\n",
        "\n",
        "Caso: **Us Arrests**\n",
        "\n",
        "Vamos considerar, agora, o `linkage = 'average'`. Vamos considerar 3 clusters."
      ]
    },
    {
      "cell_type": "code",
      "execution_count": null,
      "metadata": {
        "id": "icokX3arV9ks"
      },
      "outputs": [],
      "source": [
        "df = pd.read_csv('https://raw.githubusercontent.com/guilhermepelegrina/Mackenzie/main/Datasets/data_usarrests.csv', index_col=0)\n",
        "df.head()"
      ]
    },
    {
      "cell_type": "code",
      "execution_count": null,
      "metadata": {
        "id": "FUhMtfk1VXp5"
      },
      "outputs": [],
      "source": [
        "# Normalização e outras preparações dos dados\n",
        "from sklearn.preprocessing import scale\n",
        "df_scaled = pd.DataFrame(scale(df), columns=df.columns)\n",
        "\n",
        "# Avalia o número de agrupamentos desejado\n",
        "from sklearn.cluster import AgglomerativeClustering\n",
        "\n",
        "for n_clusters in range(2,8):\n",
        "  clf = AgglomerativeClustering(n_clusters=n_clusters, metric='euclidean', linkage='average')\n",
        "  clf.fit_predict(df_scaled)\n",
        "  labels = clf.labels_\n",
        "  print('Média do valor de Silhouette para ', n_clusters , ' clusters: ', silhouette_score(df_scaled, labels, metric='euclidean'))\n",
        "\n",
        "# Faz a clusterização selecionada\n",
        "\n",
        "## Declara o modelo\n",
        "clf = AgglomerativeClustering(n_clusters=3, metric='euclidean', linkage='average')\n",
        "\n",
        "## 'Treina' o modelo\n",
        "clf.fit(df_scaled)\n",
        "\n",
        "# Resultados\n",
        "labels = clf.labels_\n",
        "print(labels)\n",
        "\n",
        "# Associando os dados\n",
        "df['cluster'] = labels\n",
        "df.head()\n",
        "\n"
      ]
    },
    {
      "cell_type": "markdown",
      "metadata": {
        "id": "mZC9t4ENB17L"
      },
      "source": [
        "### Vamos fazer o dendograma"
      ]
    },
    {
      "cell_type": "code",
      "execution_count": null,
      "metadata": {
        "id": "HYLFqS4sB17M"
      },
      "outputs": [],
      "source": [
        "import scipy.cluster.hierarchy as shc\n",
        "import matplotlib.pyplot as plt\n",
        "\n",
        "plt.figure(figsize=(12, 5))\n",
        "plt.title(\"Dendrogram\")\n",
        "plt.xticks(rotation=90)\n",
        "\n",
        "dendrogram = shc.dendrogram(shc.linkage(df_scaled, method='average')) # cuidado com o nome\n",
        "\n",
        "plt.show()\n"
      ]
    },
    {
      "cell_type": "markdown",
      "metadata": {
        "id": "3cNyPypfB17N"
      },
      "source": [
        "### Caracterizando os grupos\n",
        "\n",
        "Vamos analisar cada grupo!"
      ]
    },
    {
      "cell_type": "code",
      "execution_count": null,
      "metadata": {
        "id": "gs7oOkWNB17N"
      },
      "outputs": [],
      "source": [
        "import matplotlib.pyplot as plt\n",
        "import seaborn as sns\n",
        "\n",
        "g = pd.DataFrame( df.groupby('cluster').mean() ).reset_index()\n",
        "\n",
        "f, axis = plt.subplots(1,3, figsize=(12,5))\n",
        "\n",
        "sns.barplot(data=g[g.cluster==0].drop(columns='cluster'),ax=axis[0],estimator=\"mean\")\n",
        "axis[0].set_title('Crimes - elevado')\n",
        "axis[0].set_xticklabels(axis[0].get_xticklabels(), rotation=90, ha=\"right\")\n",
        "axis[0].set_ylim(0, 300)\n",
        "\n",
        "sns.barplot(data=g[g.cluster==1].drop(columns='cluster'),ax=axis[1],estimator=\"mean\")\n",
        "axis[1].set_title('Crimes - médio, pop. urbana - média')\n",
        "axis[1].set_xticklabels(axis[1].get_xticklabels(), rotation=90, ha=\"right\")\n",
        "axis[1].set_ylim(0, 300)\n",
        "\n",
        "sns.barplot(data=g[g.cluster==2].drop(columns='cluster'),ax=axis[2],estimator=\"mean\")\n",
        "axis[2].set_title('Crimes - baixo, pop. urbana - baixa')\n",
        "axis[2].set_xticklabels(axis[1].get_xticklabels(), rotation=90, ha=\"right\")\n",
        "axis[2].set_ylim(0, 300)\n",
        "\n",
        "plt.suptitle('Caracterizando os grupos',fontsize=18)\n",
        "plt.show()"
      ]
    },
    {
      "cell_type": "markdown",
      "metadata": {
        "id": "eJTgAd6uc-dl"
      },
      "source": [
        "Para casa: Testem agora para 2 clusters e com outro tipo de normalização (`preprocessing.minmax_scale`, por exemplo)"
      ]
    },
    {
      "cell_type": "markdown",
      "metadata": {
        "id": "1L9LZ5qowP_Y"
      },
      "source": [
        "## Outro conjunto de dados\n",
        "\n",
        "Base de dados: Iris\n",
        "\n",
        "Vamos considerar, agora, o `linkage = 'average'`."
      ]
    },
    {
      "cell_type": "code",
      "execution_count": null,
      "metadata": {
        "id": "eFXcbxpNwdrq"
      },
      "outputs": [],
      "source": [
        "from sklearn.datasets import load_iris\n",
        "import pandas as pd\n",
        "\n",
        "# Carregar a base de dados Iris\n",
        "iris_data = load_iris()\n",
        "df_iris = pd.DataFrame(data=iris_data.data, columns=iris_data.feature_names)\n",
        "df_iris"
      ]
    },
    {
      "cell_type": "markdown",
      "metadata": {
        "id": "QVL_NNq5xQS_"
      },
      "source": [
        "> **Normalizando os dados**\n",
        "\n",
        "Podemos usar a função `preprocessing.minmax_scale`."
      ]
    },
    {
      "cell_type": "code",
      "execution_count": null,
      "metadata": {
        "id": "_Wnv0AywxQTJ"
      },
      "outputs": [],
      "source": [
        "from sklearn.preprocessing import minmax_scale\n",
        "\n",
        "df_scaled = pd.DataFrame(minmax_scale(df_iris), columns=df_iris.columns)\n",
        "df_scaled.head()"
      ]
    },
    {
      "cell_type": "markdown",
      "metadata": {
        "id": "yrPt67VWw-UG"
      },
      "source": [
        "Métrica **Silhouette**."
      ]
    },
    {
      "cell_type": "code",
      "execution_count": null,
      "metadata": {
        "id": "BgI4Gmudw-UQ"
      },
      "outputs": [],
      "source": [
        "from sklearn.metrics import silhouette_score\n",
        "from sklearn.cluster import AgglomerativeClustering\n",
        "\n",
        "\n",
        "for n_clusters in range(2,8):\n",
        "  model = AgglomerativeClustering(n_clusters=n_clusters, metric='euclidean', linkage='complete')\n",
        "  model.fit(df_scaled)\n",
        "  print('Média do valor de Silhouette para ', n_clusters , ' clusters: ', silhouette_score(df_scaled, model.labels_))"
      ]
    },
    {
      "cell_type": "markdown",
      "metadata": {
        "id": "bpZxq_Ucw-UQ"
      },
      "source": [
        "\n",
        "Assim, vamos separar os dados em três clusters."
      ]
    },
    {
      "cell_type": "code",
      "execution_count": null,
      "metadata": {
        "id": "ShXFCbzVw-UQ"
      },
      "outputs": [],
      "source": [
        "from sklearn.cluster import AgglomerativeClustering\n",
        "\n",
        "clf = AgglomerativeClustering(n_clusters=3, metric='euclidean', linkage='complete')\n",
        "# clf = AgglomerativeClustering(n_clusters=2, metric='euclidean', linkage='single')\n",
        "#clf = AgglomerativeClustering(n_clusters=2, metric='euclidean', linkage='average')\n",
        "\n",
        "clf.fit(df_scaled)\n",
        "\n",
        "# Resultados\n",
        "labels = clf.labels_\n",
        "print(labels)"
      ]
    },
    {
      "cell_type": "code",
      "execution_count": null,
      "metadata": {
        "id": "GPFRVIJbw-UR"
      },
      "outputs": [],
      "source": [
        "df_iris['cluster'] = labels\n",
        "df_iris.head()"
      ]
    },
    {
      "cell_type": "markdown",
      "metadata": {
        "id": "SSPXsKbpw-UR"
      },
      "source": [
        "### Vamos fazer o dendograma"
      ]
    },
    {
      "cell_type": "code",
      "execution_count": null,
      "metadata": {
        "id": "HYHszIYWw-UR"
      },
      "outputs": [],
      "source": [
        "import scipy.cluster.hierarchy as shc\n",
        "import matplotlib.pyplot as plt\n",
        "\n",
        "plt.figure(figsize=(12, 5))\n",
        "plt.title(\"Dendrogram\")\n",
        "plt.xticks(rotation=90)\n",
        "\n",
        "dendrogram = shc.dendrogram(shc.linkage(df_scaled, method='complete')) # cuidado com o nome\n",
        "\n",
        "plt.show()\n"
      ]
    },
    {
      "cell_type": "markdown",
      "metadata": {
        "id": "m59cKgrXw-US"
      },
      "source": [
        "### Caracterizando os grupos\n",
        "\n",
        "Vamos analisar cada grupo! Aparentemente, um dos grupos é caracterizado por estados com elevado número de assaltos."
      ]
    },
    {
      "cell_type": "code",
      "execution_count": null,
      "metadata": {
        "id": "y-F4Kdgyw-US"
      },
      "outputs": [],
      "source": [
        "import matplotlib.pyplot as plt\n",
        "import seaborn as sns\n",
        "\n",
        "g = pd.DataFrame( df_iris.groupby('cluster').mean() ).reset_index()\n",
        "\n",
        "f, axis = plt.subplots(1,3, figsize=(12,5))\n",
        "\n",
        "sns.barplot(data=g[g.cluster==0].drop(columns='cluster'),ax=axis[0],estimator=\"mean\")\n",
        "axis[0].set_title('Petal length and width baixos')\n",
        "axis[0].set_xticklabels(axis[0].get_xticklabels(), rotation=90, ha=\"right\")\n",
        "axis[0].set_ylim(0, 10)\n",
        "\n",
        "sns.barplot(data=g[g.cluster==1].drop(columns='cluster'),ax=axis[1],estimator=\"mean\")\n",
        "axis[1].set_title('sepal and petal length altos')\n",
        "axis[1].set_xticklabels(axis[1].get_xticklabels(), rotation=90, ha=\"right\")\n",
        "axis[1].set_ylim(0, 10)\n",
        "\n",
        "sns.barplot(data=g[g.cluster==2].drop(columns='cluster'),ax=axis[2],estimator=\"mean\")\n",
        "axis[2].set_title('Valores intermediários')\n",
        "axis[2].set_xticklabels(axis[2].get_xticklabels(), rotation=90, ha=\"right\")\n",
        "axis[2].set_ylim(0, 10)\n",
        "\n",
        "plt.suptitle('Caracterizando os grupos',fontsize=18)\n",
        "plt.show()"
      ]
    },
    {
      "cell_type": "markdown",
      "metadata": {
        "id": "9HX0heYqzk4g"
      },
      "source": [
        "## Repita o exemplo anterior, com a base de dados Iris, para linkage = average"
      ]
    },
    {
      "cell_type": "markdown",
      "metadata": {
        "id": "cPuJSaIput1v"
      },
      "source": [
        "## Referências\n",
        "Você pode encontrar mais detalhes sobre esses métodos em:\n",
        "\n",
        "https://scikit-learn.org/stable/modules/clustering.html\n",
        "\n",
        "https://online.stat.psu.edu/stat555/node/85/\n",
        "\n",
        "\n"
      ]
    }
  ],
  "metadata": {
    "anaconda-cloud": {},
    "colab": {
      "provenance": [],
      "include_colab_link": true
    },
    "kernelspec": {
      "display_name": "Python 3",
      "language": "python",
      "name": "python3"
    },
    "language_info": {
      "codemirror_mode": {
        "name": "ipython",
        "version": 3
      },
      "file_extension": ".py",
      "mimetype": "text/x-python",
      "name": "python",
      "nbconvert_exporter": "python",
      "pygments_lexer": "ipython3",
      "version": "3.7.4"
    }
  },
  "nbformat": 4,
  "nbformat_minor": 0
}