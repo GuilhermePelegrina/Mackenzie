{
  "cells": [
    {
      "cell_type": "markdown",
      "metadata": {
        "id": "view-in-github",
        "colab_type": "text"
      },
      "source": [
        "<a href=\"https://colab.research.google.com/github/GuilhermePelegrina/Mackenzie/blob/main/Aulas/2025_1s/TIC/Aula_10_Series_temporais_II.ipynb\" target=\"_parent\"><img src=\"https://colab.research.google.com/assets/colab-badge.svg\" alt=\"Open In Colab\"/></a>"
      ]
    },
    {
      "cell_type": "markdown",
      "metadata": {
        "id": "gglUriLmo1sR"
      },
      "source": [
        "<head>\n",
        "  <meta name=\"author\" content=\"Rogério de Oliveira\">\n",
        "  <meta institution=\"author\" content=\"Universidade Presbiteriana Mackenzie\">\n",
        "</head>\n",
        "\n",
        "<img src=\"http://meusite.mackenzie.br/rogerio/mackenzie_logo/UPM.2_horizontal_vermelho.jpg\" width=300, align=\"left\">\n",
        "<!-- <h1 align=left><font size = 6, style=\"color:rgb(200,0,0)\"> optional title </font></h1> -->"
      ]
    },
    {
      "cell_type": "code",
      "execution_count": null,
      "metadata": {
        "id": "AmcVNHoIcFwk"
      },
      "outputs": [],
      "source": [
        "# Bibliotecas\n",
        "\n",
        "import random\n",
        "import pandas as pd\n",
        "import numpy as np\n",
        "import matplotlib.pyplot as plt\n",
        "from statsmodels.tsa.api import ExponentialSmoothing, SimpleExpSmoothing, Holt\n",
        "from statsmodels.tsa.arima.model import ARIMA\n",
        "import warnings\n",
        "\n",
        "import yfinance as yf\n",
        "\n",
        "warnings.filterwarnings(\"ignore\")\n",
        "\n",
        "path = 'https://github.com/Rogerio-mack/Temporal/raw/main/Data/'"
      ]
    },
    {
      "cell_type": "code",
      "source": [
        "#@markdown `tspplot()`\n",
        "#@markdown `tspdisplay()`\n",
        "\n",
        "def tspplot(ts=None,label=None,title=None,ax=None,linestyle='solid',alpha=1,lw=1,nr_xticks=None,nr_yticks=None):\n",
        "\n",
        "  import matplotlib.ticker as ticker\n",
        "\n",
        "  if ax is None:\n",
        "    fig, ax = plt.subplots()\n",
        "\n",
        "  if label is not None:\n",
        "    ax.plot(ts, label=label, linestyle=linestyle, lw=lw)\n",
        "  else:\n",
        "    ax.plot(ts, linestyle=linestyle,lw=lw,alpha=alpha)\n",
        "\n",
        "  if title is not None:\n",
        "    ax.set_title(title)\n",
        "\n",
        "  if nr_xticks is not None:\n",
        "    ax.xaxis.set_major_locator(ticker.MaxNLocator(nr_xticks))\n",
        "\n",
        "  if nr_yticks is not None:\n",
        "    ax.yaxis.set_major_locator(ticker.MaxNLocator(nr_yticks))\n",
        "\n",
        "  if label is not None:\n",
        "    plt.legend()\n",
        "\n",
        "  plt.tight_layout()\n",
        "\n",
        "  return\n",
        "\n",
        "\n",
        "class tspdisplay(object):\n",
        "    # Adaptado de https://jakevdp.github.io/PythonDataScienceHandbook/index.html\n",
        "    \"\"\"Display HTML representation of multiple objects\"\"\"\n",
        "    template = \"\"\"<div style=\"float: left; padding: 10px;\">\n",
        "    <hr>\n",
        "    <h3 style='font-family:\"Courier New\", Courier, monospace'>{0}</h3><hr>{1}\n",
        "    </div>\"\"\"\n",
        "    def __init__(self, *args):\n",
        "        self.args = args\n",
        "\n",
        "    def _repr_html_(self):\n",
        "        return '\\n'.join(self.template.format(a, eval(a + '.head()')._repr_html_())\n",
        "                         for a in self.args)\n",
        "\n",
        "    def __repr__(self):\n",
        "        return '\\n\\n'.join(a + '\\n' + repr(eval(a + '.head()'))\n",
        "                           for a in self.args)"
      ],
      "metadata": {
        "cellView": "form",
        "id": "A2Pt-b8zH6VV"
      },
      "execution_count": null,
      "outputs": []
    },
    {
      "cell_type": "markdown",
      "metadata": {
        "id": "06noRfWHp0of"
      },
      "source": [
        "# **Séries Temporais II**\n",
        "\n",
        "Lembre-se de aula passada que uma série temporal é uma sequência de observações de uma variável ao longo do tempo, obtidas em intervalos de tempo regulares. Essas observações podem ser coletadas em ordem cronológica.\n",
        "\n",
        "Em análise de séries temporais, os métodos estatísticos e matemáticos são aplicados para modelar e prever o comportamento futuro da variável com base em suas observações passadas. Isso inclui a identificação de padrões sazonais, tendências de longo prazo, ciclos e flutuações aleatórias. As técnicas mais comuns usadas na análise de séries temporais incluem médias móveis, suavização exponencial, modelos ARIMA (AutoRegressive Integrated Moving Average), modelos de regressão sazonal e muitos outros.\n",
        "\n"
      ]
    },
    {
      "cell_type": "markdown",
      "source": [
        "# Médias moveis simples\n",
        "\n",
        "Vamos usar como exemplo para a aplicação das médias móveis a série temporal abaixo."
      ],
      "metadata": {
        "id": "fdMc-7F3QAjC"
      }
    },
    {
      "cell_type": "code",
      "source": [
        "# Lendo e exibindo os dados\n",
        "serie = pd.read_csv(\"https://raw.githubusercontent.com/guilhermepelegrina/Mackenzie/main/Datasets/data_serie_temporal_exogena.csv\")\n",
        "\n",
        "# Exibindo as primeiras linhas da série gerada\n",
        "serie.head()"
      ],
      "metadata": {
        "id": "7mpCeiazQWtx"
      },
      "execution_count": null,
      "outputs": []
    },
    {
      "cell_type": "code",
      "source": [
        "# Plotando a série temporal gerada\n",
        "\n",
        "plt.figure(figsize=(15,6))\n",
        "plt.plot(serie['data'], serie['serie_temporal'])\n",
        "plt.xlabel('Data')\n",
        "plt.ylabel('Demanda')\n",
        "plt.xticks(rotation=45)\n",
        "plt.grid(True)\n",
        "plt.show()"
      ],
      "metadata": {
        "id": "_Xl6s-DGPNrU"
      },
      "execution_count": null,
      "outputs": []
    },
    {
      "cell_type": "markdown",
      "source": [
        "A média móvel simples consiste na média aritmética levando em conta $n$ períodos anteriores. Por exemplo, ao se considerar 3 períodos, o valor do período $i$ é dado pelo seguinte cálculo:\n",
        "\n",
        "$$preco_i = \\frac{preço_{i-1} + preço_{i-2} + preço_{i-3}}{3}$$\n",
        "\n",
        "Com isso, então, levamos em conta um conjunto de períodos anteriores para prever o valor de um próximo período. Em Python, as médias móveis são calculadas com o comando *rolling(window=n)* e, em seguida, *mean()*. Veja no exemplo abaixo:"
      ],
      "metadata": {
        "id": "ntywmyvaPa-r"
      }
    },
    {
      "cell_type": "code",
      "source": [
        "# Média móvel simples\n",
        "\n",
        "serie['MM3dias'] = serie['serie_temporal'].rolling(window=3).mean()\n",
        "serie['MM10dias'] = serie['serie_temporal'].rolling(window=10).mean()\n",
        "serie.head(10)"
      ],
      "metadata": {
        "id": "GKlinZmQRmwG"
      },
      "execution_count": null,
      "outputs": []
    },
    {
      "cell_type": "code",
      "source": [
        "# Para realizar uma predição de um próximo valor da série\n",
        "\n",
        "predicao = (serie['serie_temporal'].iloc[-1]+serie['serie_temporal'].iloc[-2]+serie['serie_temporal'].iloc[-3])/3\n",
        "print(predicao)"
      ],
      "metadata": {
        "id": "lPa-sZW_S8VL"
      },
      "execution_count": null,
      "outputs": []
    },
    {
      "cell_type": "markdown",
      "source": [
        "## Modelos ARIMA\n",
        "\n",
        "Os modelos Autoregressive Integrated Moving Average (ARIMA) fornecem uma abordagem para a previsão de séries temporais visando a descrever as autocorrelações nos dados. Antes de introduzirmos os modelos ARIMA, devemos primeiro discutir os conceitos de estacionariedade, autocorrelação e a técnica de diferenciação de séries temporais."
      ],
      "metadata": {
        "id": "JaWdbX6lNZYl"
      }
    },
    {
      "cell_type": "markdown",
      "source": [
        "#Estacionariedade\n",
        "\n",
        "<img src='https://raw.githubusercontent.com/guilhermepelegrina/Mackenzie/main/Aulas/Figuras/fig_estacionariedade.png'>"
      ],
      "metadata": {
        "id": "5t-yNWvOSMGx"
      }
    },
    {
      "cell_type": "markdown",
      "source": [
        "### Função de autocorrelação\n",
        "\n",
        "No processo de identificação de modelos ARIMA, a análise da estrutura de dependência serial dos dados é fundamental. Em algumas séries, observa-se que o valor atual está correlacionado com seus valores passados e a força dessa dependência diminui quando considerados valores mais distantes no tempo (\"lags\").\n",
        "\n",
        "A função de autocorrelacão (ACF) permite visualizar as correlaçãoes entre observações distantes k períodos de tempo. Assim, para um \"lag=1\" representa-se como valores sucessivos da série estão correlacionados.\n",
        "\n",
        "Na função de autocorrelação amostral intervalos de confiança de 95% são traçados para verificar se as autocorrelações são significativamente diferentes de zero.\n",
        "\n",
        "**Observação!** Recomenda-se analisar o ACF de **série estacionárias**. As séries **não estacionárias** possuem um ACF com decaimento muito lento e não é possível analisar seus valores."
      ],
      "metadata": {
        "id": "MM7y8PBWNvZH"
      }
    },
    {
      "cell_type": "markdown",
      "source": [
        "#### **Exemplo**.\n",
        "A seguir apresenta-se o ACF de uma série (simulada) cujos valores sucessivos estão correlacionados. A série foi gerada de tal forma que a correlação entre o valor no instante $t$ e $t-1$ seja de $0,7$. Note que a correlação da série no instate $t$ e $t-k$ diminuiu quando $k$ aumenta, i.e, quando analisamos a correlação da série no instante $t$ com valores mais distantes no tempo. Faz sentido, não?"
      ],
      "metadata": {
        "id": "9DtdEORfOWsW"
      }
    },
    {
      "cell_type": "code",
      "source": [
        "#@markdown Simulando uma série com valores sucessivos autocorrelacionados\n",
        "import warnings\n",
        "warnings.filterwarnings('ignore')\n",
        "\n",
        "import numpy as np\n",
        "\n",
        "from statsmodels.tsa.arima_process import ArmaProcess\n",
        "ar1 = np.array([1,-0.7])\n",
        "ma1 = np.array([1])\n",
        "AR_object1 = ArmaProcess(ar1,ma1)\n",
        "simulated_data = AR_object1.generate_sample(nsample=1000);\n",
        "\n",
        "from statsmodels.graphics.tsaplots import plot_acf\n",
        "x=plot_acf(simulated_data, lags=12)"
      ],
      "metadata": {
        "id": "5o89OxMGOhWe"
      },
      "execution_count": null,
      "outputs": []
    },
    {
      "cell_type": "markdown",
      "source": [
        "Note que a correlação que considera valores sucessivos ($Z_t$ e $Z_{t-1}$, ou seja, $lag=1$) é de 0,7 e essas correlações decaem exponencialmente quando analisadas as associações entre valores mais distantes. Observa-se que para valores \"muito\" distantes no tempo (lags >7) a correlação é zero estatísticamente falando."
      ],
      "metadata": {
        "id": "2ZrYCorlO2l3"
      }
    },
    {
      "cell_type": "markdown",
      "source": [
        "### Função de autocorrelação parcial (PACF)\n",
        "\n",
        "As autocorrelações parciais são usadas para medir o graus de associação entre $Z_{t}$ e $Z_{t-k}$, quando os efeitos das outras defasagens são removidos."
      ],
      "metadata": {
        "id": "_KjOAhL1O5P2"
      }
    },
    {
      "cell_type": "code",
      "source": [
        "from statsmodels.graphics.tsaplots import plot_pacf\n",
        "x=plot_pacf(simulated_data, lags=12);"
      ],
      "metadata": {
        "id": "_nMaJIEdjRcn"
      },
      "execution_count": null,
      "outputs": []
    },
    {
      "cell_type": "markdown",
      "source": [
        "Obseva-se que somente a correlação do lag=1 é significativamente diferente de zero, ou seja, para tentar entender o valor da série no instante $\"t\"$ podemos usar a informação contida no instante $\"t-1\"$."
      ],
      "metadata": {
        "id": "xBNrEkcHxl8g"
      }
    },
    {
      "cell_type": "markdown",
      "source": [
        "### Diferenciação\n",
        "\n",
        "Muitas séries analisadas na prática são não estacionárias, mas ao tomarmos algumas diferenças a série se torna estacionária.  Tomando-se uma diferença elimina-se uma tendência linear.\n",
        "\n",
        "\n"
      ],
      "metadata": {
        "id": "rcYROphgX9_G"
      }
    },
    {
      "cell_type": "markdown",
      "source": [
        "Seja $Z_t$ o valor da série no instante $t$. A primeira diferença é dada por:\n",
        "\n",
        "$$ \\Delta Z_t = Z_t -Z_{t-1} $$\n",
        "\n",
        "Em geral, tomar uma ou duas diferenças é suficiente para eliminar tendências da série e torná-la estacionária.\n",
        "\n",
        "Quando a série é sazonal  é apropriado tomar as diferenças para o período de\n",
        "sazonalidade. Considere o caso de uma série mensal cujos valores apresentam um comportamento períodico que se repete a cada ano. Assim, recomenda-se tomar uma diferença sazonal\n",
        "\n",
        "$$ \\Delta Z_t = Z_t -Z_{t-12} $$\n"
      ],
      "metadata": {
        "id": "k498bP2RbzgP"
      }
    },
    {
      "cell_type": "markdown",
      "source": [
        "### Exemplo (eliminar a tendência)"
      ],
      "metadata": {
        "id": "gxwsHKFchpNb"
      }
    },
    {
      "cell_type": "code",
      "source": [
        "fig, (ax1, ax2) = plt.subplots(1, 2,figsize=(22,6))\n",
        "\n",
        "# Série original\n",
        "ax1.plot(serie.index, serie[\"serie_temporal\"],color=\"black\")\n",
        "ax1.set_title('Demanda',fontdict = {'fontsize' : 14})\n",
        "\n",
        "# Série diferenciada\n",
        "ax2.plot(serie.index, serie[\"serie_temporal\"].diff(),color=\"black\")\n",
        "ax2.set_title('Demanda \\n após uma diferença',fontdict = {'fontsize' : 14})\n",
        "\n",
        "plt.show()"
      ],
      "metadata": {
        "id": "xW_Cpmm8acPN"
      },
      "execution_count": null,
      "outputs": []
    },
    {
      "cell_type": "markdown",
      "source": [
        "Note que após uma diferença eliminou-se a tendência e sazonalidade da série."
      ],
      "metadata": {
        "id": "EBIcTKbgybdt"
      }
    },
    {
      "cell_type": "markdown",
      "source": [
        "### Ajustando um modelo ARIMA\n",
        "Os modelos ARIMA permitem modelar processos chamados de não estacionários homogêneos, denotado por ARIMA(p,d,q), em $d$ indica o número de diferenças necessárias para que a série se torne estacionária, $p$ é o número total de termos defasados $(Z_{t-1}, Z_{t-2},...,Z_{t-p})$ da série que que influenciam no instante $t$ (parte Autorregressiva (AR) do modelo), e $q$ o número total de termos defasados de erros aleatórios $(e_{t-1}, e_{t-2},...,e_{t-q})$ correspondente à parte de Médias móveis (MA), sua interpretação é menos intuitiva."
      ],
      "metadata": {
        "id": "z8A6oZaXhAVz"
      }
    },
    {
      "cell_type": "markdown",
      "source": [
        "### Passos para ajustar um modelo ARIMA"
      ],
      "metadata": {
        "id": "DXseVQC9V50j"
      }
    },
    {
      "cell_type": "markdown",
      "source": [
        "<img src=\"https://github.com/Rogerio-mack/Temporal/raw/main/Figures/Fluxograma2.png\" width=500 align=\"middle\">\n",
        "\n"
      ],
      "metadata": {
        "id": "zrwobv7ISH4o"
      }
    },
    {
      "cell_type": "markdown",
      "source": [
        "1. Verificar se a série é estacionária. Um procedimento simples consiste em plotar os valores observados da série ao longo do tempo e verificar se há tendências ou sazonalidades (comportamentos de séries não estacionárias). Quando visualmente não é possível determinar se a série é ou não estacionária pode-se aplicar o teste ADF (como visto na aula anterior). Para eliminar tendências e tornar a série estacionária podem-se aplicar d diferenças (ou em alguns casos, ajustar retas de tendências por meio de polinômios)\n",
        "\n",
        "2. Com a série estacionária, após d diferenças, selecionam-se possíveis valores de p e q com ajuda das funções ACF e PACF amostrais.\n",
        "\n",
        "3. Ajustam-se modelos ARIMA(p,d,q) com os valores de p, d e q definidos nos dois passos anteriores.\n",
        "\n",
        "4. Para selecionar o melhor modelo, isto é, aquele que se ajusta melhor aos dados pode-se usar, por exemplo, o critério de seleção AIC. Aquele modelo que apresentar o menor valor para este critério deve ser considerado.\n",
        "\n",
        "5. Analisar os resíduos do modelo selecionado no passo 4. Deve-se verificar que os resíduos sejam independentes (não correlacionados), com média zero e variância constante. Vocês podem usar um gráfico de ACF e de linhas para checar estes pressupostos. Por fim, os resíduos devem seguir uma distribuição normal, pressuposto necessário para realizar previsões e construir intervalos de confiança. Aqui podem ser implementados histogramas e/ou gráficos QQ-plot."
      ],
      "metadata": {
        "id": "eC4ewRpNV3Vh"
      }
    },
    {
      "cell_type": "markdown",
      "source": [
        "\n",
        "$$\\underbrace{\\Delta^d Z_t}_\\text{Série após d diferenças} =\\mu+ \\underbrace{\\phi_1 \\Delta^dZ_{t-1}+ \\phi_2\\Delta^dZ_{t-2}+...+\\phi_p\\Delta^d Z_{t-p}}_\\text {Autorregressiva (AR)} + e_t + \\underbrace{\\theta_1e_{t-1}+ \\theta_2 e_{t-2}+...+ \\theta_q e_{t-q}}_\\text{Médias móveis (MA)}, $$\n",
        "\n",
        "em que $\\phi_1,...,\\phi_p, \\theta_1,...,\\theta_q$ são valores a serem estimados. Geralmente $e_t \\sim N (0,\\sigma^2)$."
      ],
      "metadata": {
        "id": "P3xcLHL95KYl"
      }
    },
    {
      "cell_type": "markdown",
      "source": [
        "### Exemplo 1"
      ],
      "metadata": {
        "id": "GIQzEbnlTWTw"
      }
    },
    {
      "cell_type": "markdown",
      "source": [
        "Vamos ajustar a série mensal do preço médio de venda no atacado de óleo de soja refinado (20 unidades) no estado de Paraná. Período de análise: janeiro de 1997 a dezembro de 2019. Valores em Reais (R$). Dados obtidos do site: https://www.agricultura.pr.gov.br/deral/precos.\n"
      ],
      "metadata": {
        "id": "1n0zCEJ8l8L2"
      }
    },
    {
      "cell_type": "code",
      "source": [
        "df=pd.read_csv(path+'series_oleo_soja.csv', delimiter=';', decimal=\",\")\n",
        "df.index = pd.date_range(start='1/1/1997', end='12/31/2019', freq='M')"
      ],
      "metadata": {
        "id": "TuCKSrJxTWT6"
      },
      "execution_count": null,
      "outputs": []
    },
    {
      "cell_type": "code",
      "source": [
        "fig, ax = plt.subplots()\n",
        "\n",
        "tspplot(df.valor,label='Preço de óleo de soja',ax=ax)\n",
        "tspdisplay('df.head()')"
      ],
      "metadata": {
        "id": "SNakZ4Xc60eS"
      },
      "execution_count": null,
      "outputs": []
    },
    {
      "cell_type": "markdown",
      "source": [
        "Repare que os preços de venda no atacado de óleo de soja refinado apresentam uma tendência crescente ao longo do período de estudo e um comportamento aparentemente sazonal.  Os preços mensais variam entre 15,17 reais (registrado em abril de 1997) e 71,77 reais (valor atingido em setembro de 2019). O interesse neste exercício é mostrar como ajustar uma serie usando os modelos ARIMA visando fazer previsões a curto prazo.\n",
        "\n",
        "A seguir, apresenta-se a função ACF da série."
      ],
      "metadata": {
        "id": "1rWu_cZ62XY9"
      }
    },
    {
      "cell_type": "code",
      "source": [
        "# Acf série original\n",
        "y=plot_acf(df.valor, title=\"ACF- Série original\")"
      ],
      "metadata": {
        "id": "mK__fzgb7uBq"
      },
      "execution_count": null,
      "outputs": []
    },
    {
      "cell_type": "markdown",
      "source": [
        "Repare que há um decrescimento lento na função ACF, esse comportamento é esperado uma vez que a série não é estacionária. Para eliminar a tendência e tornar a série estacionária vamos tomar uma diferença e, posteriormente, vamos analisar a sua função ACF e PACF para definir possíveis valores de $p$ e $q$ do modelo ARIMA."
      ],
      "metadata": {
        "id": "PuVdfRA974-N"
      }
    },
    {
      "cell_type": "code",
      "source": [
        "# Analisando o ACF\n",
        "fig, (ax1, ax2, ax3) = plt.subplots(1, 3,figsize=(15,5))\n",
        "\n",
        "ax1.plot(df.index, df.valor.diff(),linestyle='solid',alpha=1,lw=1)\n",
        "ax1.set_title('Preço óleo refinado de soja \\n após uma diferença')\n",
        "\n",
        "y1=plot_acf(df.valor.diff().dropna(), lags=20, ax=ax2, title=\"ACF da série diferenciada\")\n",
        "y2=plot_pacf(df.valor.diff().dropna(),ax=ax3, lags=20, title=\"PACF da série diferenciada\");"
      ],
      "metadata": {
        "id": "V151al1fTWT7"
      },
      "execution_count": null,
      "outputs": []
    },
    {
      "cell_type": "markdown",
      "source": [
        "Note que a série diferenciada se desenvolve, aparentemente, de forma aleatória em torno de zero com menor variabilidade no começo da série, isto decorre da pouca variação dos preços nos primeiros anos. Vamos aplicar o teste DF para verificar a estacionariedade da série diferenciada."
      ],
      "metadata": {
        "id": "5dRIfJ0y8kwc"
      }
    },
    {
      "cell_type": "code",
      "source": [
        "from statsmodels.tsa.stattools import adfuller\n",
        "result = adfuller(df.valor.diff()[1:])\n",
        "print('ADF Statistic: %f' % result[0])\n",
        "print('p-value: %f' % result[1])"
      ],
      "metadata": {
        "id": "R1uAfzHGAjEq"
      },
      "execution_count": null,
      "outputs": []
    },
    {
      "cell_type": "markdown",
      "source": [
        "Como o valor-p é menor que 0,05 podemos assumir que a série diferenciada é estacionária, assim, para verificar os possíveis valores de $p$ e/ou $q$ que podem ser implementados no modelo ARIMA(p,d,q) vamos analisar as funções ACF e PACF da série após uma diferença. Na função PACF observa-se que seria interessante considerar no modelo a informação defasada dos lags 1, 5 e 6 uma vez que são estatisticamente diferentes de zero (estão fora do intervalo de confiança). Assim, serão ajustados modelos ARIMA(p,d,q) com $d=1 $ e $p$ e $q$ no intervalo de 0 a 6. Os termos de médias móveis serão considerados para tentar melhorar o ajuste do modelo. Para selecionar o \"melhor\" modelo vamos considerar o critério AIC.\n",
        "A seguir, apresenta-se o AIC dos modelos ajustados, neste passo vamos deixar o último ano da série para verificar a acurácia do modelo para fazer previsões."
      ],
      "metadata": {
        "id": "1YURkd503_PW"
      }
    },
    {
      "cell_type": "code",
      "source": [
        "# Create Training and Test\n",
        "\n",
        "test_size = 12\n",
        "train_size = len(df) - test_size\n",
        "\n",
        "train = df.valor[:train_size]\n",
        "test = df.valor[train_size:]\n"
      ],
      "metadata": {
        "id": "E4wTYH6SB1tK"
      },
      "execution_count": null,
      "outputs": []
    },
    {
      "cell_type": "code",
      "source": [
        "# Valores de AIC\n",
        "import itertools\n",
        "\n",
        "for i, j in itertools.product(range(7), range(7)):\n",
        "  print(\"AIC do modelo\",\"ARIMA(\",i,\", 1 ,\",j,\"):\",\n",
        "        round(ARIMA(train, order=(i, 1, j),\n",
        "                    enforce_stationarity=True,\n",
        "                    enforce_invertibility=True).fit(method_kwargs={'maxiter':700}).aic,4))"
      ],
      "metadata": {
        "id": "EjyiIlpx8Jm9"
      },
      "execution_count": null,
      "outputs": []
    },
    {
      "cell_type": "markdown",
      "source": [
        "O modelo ARIMA (2,1,3) apresentou o menor valor de AIC. Assim, vamos analisar os resíduos deste modelo para verificar se há alguma violação dos pressupostos. Lembre-se de que o último ano da série não foi considerado no ajuste do modelo e suas observações serão usadas para verificar a acurácia do modelo para fazer previsões.\n",
        "\n",
        "Observação: Você pode reparar que alguns modelos não convergem isto porque usando esses de $p$ e $q$ não se garante a estacionaridade ou invertibilidade do modelo ARIMA."
      ],
      "metadata": {
        "id": "znOrYBT-IOma"
      }
    },
    {
      "cell_type": "code",
      "source": [
        "# Ajustando o modelo ARIMA\n",
        "\n",
        "model=ARIMA(train, order=(2, 1, 3))\n",
        "print(model.fit().summary())"
      ],
      "metadata": {
        "id": "11xWmx-G5D3x"
      },
      "execution_count": null,
      "outputs": []
    },
    {
      "cell_type": "markdown",
      "source": [
        "A série mensal Preço de óleo de soja foi ajustada com 264 observações. Ao nível de significância de 5% todos os parâmetros são estatisticamente diferentes de zero (valores-p: (P>|z|)< 0.05). Assim, o modelo ajustado fica dado pela expressão:"
      ],
      "metadata": {
        "id": "YhLxb4Y1JJoq"
      }
    },
    {
      "cell_type": "markdown",
      "source": [
        "<center> $Y_t= Y_{t-1}+1,595 (Y_{t-1}-Y_{t-2})-0,9437(Y_{t-2}-Y_{t-3})+1,2267 e_{t-1}-0,4681 e_{t-2}- 0,2681 e_{t-3} +e_t$,</center>\n"
      ],
      "metadata": {
        "id": "H1ShBKFkp8Uk"
      }
    },
    {
      "cell_type": "markdown",
      "source": [
        "em que $Var(e_t)=3,4141$. A seguir, vamos realizar uma análise dos resíduos deste modelo. Este passo permite realizar previsões com intervalos de confiança confiáveis, isto deve-se ao fato que os intervalos são construídos assumindo normalidade."
      ],
      "metadata": {
        "id": "637oYL4jr9iG"
      }
    },
    {
      "cell_type": "markdown",
      "source": [
        "#### Análise de resíduos"
      ],
      "metadata": {
        "id": "JGO0hq4DsUhq"
      }
    },
    {
      "cell_type": "code",
      "source": [
        "# Resíduos\n",
        "res=model.fit()\n",
        "res_standard=(res.resid-res.resid.mean())/np.sqrt(res.resid.var())#standardized residuals\n",
        "ts=df"
      ],
      "metadata": {
        "id": "H2lbM1STRnDC"
      },
      "execution_count": null,
      "outputs": []
    },
    {
      "cell_type": "code",
      "source": [
        "# Gráficos do ajuste\n",
        "#@markdown\n",
        "\n",
        "import scipy.stats as stats\n",
        "import statsmodels.api as sm\n",
        "\n",
        "fig,axs = plt.subplots(2, 2,figsize=(14,5))\n",
        "\n",
        "axs[0,0].scatter(ts.index[1:train_size], res_standard[1:train_size])\n",
        "axs[0,0].axhline(y=0, color='b', linestyle='--')\n",
        "axs[0,0].set_title('Standardized residuals')\n",
        "\n",
        "x=plot_acf(res.resid, lags=20, ax=axs[0,1], title=\"ACF- resíduos\");\n",
        "\n",
        "axs[1,0].hist(res_standard[1:train_size], density=True);\n",
        "x=np.sort(np.random.normal(0, 1, 1000))\n",
        "axs[1,0].plot(x, stats.norm.pdf(x, 0, 1))\n",
        "x1=sm.qqplot(res_standard[1:train_size], line ='45', ax=axs[1,1])"
      ],
      "metadata": {
        "id": "iL-sevlCTWT9"
      },
      "execution_count": null,
      "outputs": []
    },
    {
      "cell_type": "markdown",
      "source": [
        "Note que os resíduos seguem, aproximadamente, uma distribuição normal e são independentes (ver ACF, todos os lags são estatisticamente zero), isto é, toda a informação contida no histórico da série foi considerado no modelo ARIMA. Por fim, em uma nova análise recomenda-se tentar transformar os dados, por exemplo, aplicar a função logaritmo para tentar ajustar a maior variabilidade que se observa nos resíduos nos últimos anos da série."
      ],
      "metadata": {
        "id": "3Ztyu9XgTWT-"
      }
    },
    {
      "cell_type": "markdown",
      "source": [
        "#### Forecast\n",
        "Vamos fazer as previsões para o último ano da série, com intervalo de confiança de 95%, para analisar a habilidade do modelo ARIMA (2,1,3) para fazer previsões. Lembre-se que na modelagem não consideramos esses valores.\n",
        "\n",
        "A seguir, apresenta-se o gráfico da série com as previsões e seus intervalos de confiança para o último ano e os valores observados nesse período"
      ],
      "metadata": {
        "id": "QMnM2-rWTWT-"
      }
    },
    {
      "cell_type": "code",
      "source": [
        "#forecast h=12\n",
        "forecast = model.fit().get_forecast(12)\n",
        "forecast.predicted_mean\n",
        "\n",
        "# Previsões com intervalos de confiança de 95%\n",
        "fc_series = pd.Series(forecast.predicted_mean, index=test.index)\n",
        "lower_series = pd.Series(forecast.conf_int(alpha = 0.05)[\"lower valor\"], index=test.index)\n",
        "upper_series = pd.Series(forecast.conf_int(alpha = 0.05)[\"upper valor\"], index=test.index)"
      ],
      "metadata": {
        "id": "dYOss4tc0yxU"
      },
      "execution_count": null,
      "outputs": []
    },
    {
      "cell_type": "code",
      "source": [
        "df_prev=pd.DataFrame({\"Previsões\":fc_series,\n",
        "              \"Limite Inferior IC 95%\":lower_series,\n",
        "              \"Limite Superior IC 95%\":upper_series})\n",
        "tspdisplay('df_prev') # Mostrar as 12 previsões?"
      ],
      "metadata": {
        "id": "OWhxuz_maw4F"
      },
      "execution_count": null,
      "outputs": []
    },
    {
      "cell_type": "code",
      "source": [
        "#@markdown\n",
        "\n",
        "plt.figure(figsize=(12,5))\n",
        "\n",
        "plt.plot(train, label='training',linestyle='solid',alpha=1,lw=1)\n",
        "plt.plot(test, label='test',linestyle='solid',alpha=1,lw=1)\n",
        "plt.plot(fc_series, label='forecast',linestyle='dashed',alpha=1,lw=2)\n",
        "plt.fill_between(lower_series.index, lower_series, upper_series,\n",
        "                 color='k', alpha=.15)\n",
        "plt.title('Forecast vs Actuals')\n",
        "plt.legend(loc='upper left', fontsize=8)\n",
        "\n",
        "plt.show()"
      ],
      "metadata": {
        "cellView": "form",
        "id": "Hth7lVzsahci"
      },
      "execution_count": null,
      "outputs": []
    },
    {
      "cell_type": "markdown",
      "source": [
        "Você considera que as previsões são boas?\n",
        "\n",
        "Vale ressaltar que o modelo ARIMA (2,1,3) está considerando que o instante $t$ está sendo influenciado (correlacionado) pelos valores da série nos instantes $t-1$ e $t-2$. Assim, quando fazemos a previsão para janeiro de 2019 temos informação (valor observado) da série do mês anterior, dezembro de 2019 $(t-1)$ e de novembro de 2019 $(t-2)$. No entanto, quando fazemos a previsão para fevereiro de 2020 já não temos informação (observada) do mês anterior, só temos um valor previsto pelo modelo, por esse motivo as previsões mais distantes apresentam maior erro (o intervalo de confiança aumenta) e seus valores tendem a acompanhar o comportamento da tendência da série (modelada pela diferença)."
      ],
      "metadata": {
        "id": "k12x1l4ETWT-"
      }
    },
    {
      "cell_type": "markdown",
      "source": [
        "Para avaliar o desempenho do modelo para fazer previsões vamos usar algumas métricas discutidas no capítulo 1."
      ],
      "metadata": {
        "id": "Fa6cFsnWTWT-"
      }
    },
    {
      "cell_type": "markdown",
      "source": [
        "Algumas medidas com as quais é possível avaliar a habilidade do modelo para fazer previsões.\n",
        "\\\n",
        "\\\n",
        "MAPE= $\\dfrac{1}{N} \\sum_t \\dfrac{|forecast_t - observado_t|}{|observado_t|}$\n",
        "\\\n",
        "\\\n",
        "MAE=$\\dfrac{1}{N} \\sum_t |forecast_t - observado_t|$\n",
        "\\\n",
        "\\\n",
        "RMSE= $ \\sqrt{\\dfrac{1}{N} \\sum_t (forecast_t - observado_t)^2}$,\n",
        "\n",
        "em que $N$ é a quantidade de valores previstos pelo modelo."
      ],
      "metadata": {
        "id": "foMbZJQxTqfj"
      }
    },
    {
      "cell_type": "code",
      "source": [
        "# acuracia\n",
        "\n",
        "def forecast_accuracy(forecast, actual):\n",
        "    mape = np.mean(np.abs(forecast - actual)/np.abs(actual))  # MAPE\n",
        "    me = np.mean(forecast - actual)             # ME\n",
        "    mae = np.mean(np.abs(forecast - actual))    # MAE\n",
        "    mpe = np.mean((forecast - actual)/actual)   # MPE\n",
        "    rmse = np.mean((forecast - actual)**2)**.5  # RMSE\n",
        "    return({'mape':mape, 'me':me, 'mae': mae,\n",
        "            'mpe': mpe, 'rmse':rmse})\n",
        "\n",
        "forecast_accuracy(forecast.predicted_mean, test.values)"
      ],
      "metadata": {
        "id": "BTY0W2blTWT_"
      },
      "execution_count": null,
      "outputs": []
    },
    {
      "cell_type": "markdown",
      "source": [
        "Observe que o erro médio absoluto (MAE) das previsões é de 2.5 reais.\n",
        "\n",
        "**Observação** Na prática, podemos usar alguma dessas métricas junto com o critério AIC para escolher o \"melhor\" modelo.\n"
      ],
      "metadata": {
        "id": "YW-G1gl7S-pK"
      }
    },
    {
      "cell_type": "markdown",
      "source": [
        "#### Forecast one step\n",
        "\n",
        "É interessante analisar o desempenho do modelo para fazer previsões se atualizamos na base de dados a cada valor observado. As previsões melhoram?\n",
        "\n",
        "No código a seguir, são realizadas previsões um passo à frente, ou seja, prevê-se o valor da série para o próximo mês, e após a observação desse valor, a base de dados é atualizada\n"
      ],
      "metadata": {
        "id": "OUvk2I8WTWT_"
      }
    },
    {
      "cell_type": "code",
      "source": [
        "# forecast atualizando cada valor observado\n",
        "\n",
        "X = df.valor\n",
        "\n",
        "history = [x for x in train]\n",
        "predictions = list()\n",
        "low1= list()\n",
        "upper1= list()\n",
        "forecast_one_step=pd.DataFrame()\n",
        "\n",
        "\n",
        "for t in range(len(test)):\n",
        "  model= ARIMA(history,order=(2,1,3))\n",
        "  model_fit=model.fit()\n",
        "  forecast = model_fit.get_forecast(1)\n",
        "  yhat=forecast.predicted_mean\n",
        "  low=forecast.conf_int(alpha = 0.05)[0,0]\n",
        "  upper=forecast.conf_int(alpha = 0.05)[0,1]\n",
        "  predictions.append(yhat)\n",
        "  low1.append(low)\n",
        "  upper1.append(upper)\n",
        "  obs= test[t]\n",
        "  history.append(obs)\n",
        "\n",
        "forecast_one_step[\"forecast\"]=predictions\n",
        "forecast_one_step[\"low\"]=low1\n",
        "forecast_one_step[\"upper\"]=upper1\n",
        "forecast_one_step.index=test.index\n",
        "\n",
        "tspdisplay('forecast_one_step') # mostrar 12 previsões?"
      ],
      "metadata": {
        "id": "1GHOeb-TTWT_"
      },
      "execution_count": null,
      "outputs": []
    },
    {
      "cell_type": "markdown",
      "source": [
        "A série com as previsões um passo à frente e seus intervalos de confiança para o último ano e os valores observados nesse período são apresentados a seguir,"
      ],
      "metadata": {
        "id": "pzBVC_c55sg2"
      }
    },
    {
      "cell_type": "code",
      "source": [
        "#@markdown\n",
        "\n",
        "plt.figure(figsize=(15,5))\n",
        "\n",
        "plt.plot(train, label='training',linestyle='solid',alpha=1,lw=1)\n",
        "plt.plot(test, label='test',linestyle='solid',alpha=1,lw=1)\n",
        "plt.plot(forecast_one_step[\"forecast\"], label='forecast',linestyle='dashed',alpha=1,lw=2)\n",
        "plt.fill_between(forecast_one_step.index, forecast_one_step[\"low\"], forecast_one_step[\"upper\"], color='k', alpha=.15)\n",
        "plt.title('Forecast vs Actuals')\n",
        "plt.legend(loc='upper left', fontsize=8)\n",
        "plt.show()"
      ],
      "metadata": {
        "cellView": "form",
        "id": "cqykM5hhqd7J"
      },
      "execution_count": null,
      "outputs": []
    },
    {
      "cell_type": "markdown",
      "source": [
        "Nota-se que os valores previstos e observados são muito próximos quando atualizamos os valores conforme observados. O erro médio absoluto (MAE) das previsões diminuiu para 2,01 reais e o MAPE para 3,37%."
      ],
      "metadata": {
        "id": "e0kfh-JCT_JZ"
      }
    },
    {
      "cell_type": "code",
      "source": [
        "print(\"MAE:\", np.mean(np.abs(forecast_one_step[\"forecast\"] - test)))\n",
        "print(\"mape\", np.mean(np.abs(forecast_one_step[\"forecast\"] - test)/np.abs(test)))"
      ],
      "metadata": {
        "id": "pra9pk13UkEo"
      },
      "execution_count": null,
      "outputs": []
    },
    {
      "cell_type": "markdown",
      "source": [
        "#### **Autoarima**"
      ],
      "metadata": {
        "id": "IPmxZVKZrJ1R"
      }
    },
    {
      "cell_type": "markdown",
      "source": [
        "Podemos implementar a biblioteca pmdarima para selecionar o \"melhor\" modelo usando algum critério de informação.\n",
        "\n",
        "**Cuidado**! Este pacote geralmente apresenta alguns erros uma vez que o pacote pmdarima sobrepõe a instalação do statsmodel, isso pode gerar alguns problemas. Recomendo, portanto, que você empregue programas separados para utilizar em separado o statsmodel e o pmdarima, o tenha cuidado no uso conjunto."
      ],
      "metadata": {
        "id": "B0o1xnRTrdv-"
      }
    },
    {
      "cell_type": "code",
      "source": [
        "#!pip install pmdarima"
      ],
      "metadata": {
        "id": "Va4L_uhXrRaP"
      },
      "execution_count": null,
      "outputs": []
    },
    {
      "cell_type": "code",
      "source": [
        "#import pmdarima as pm\n",
        "#model_auto = pm.auto_arima(df.valor, d=1,information_criterion=\"aic\",trace=1,stepwise=False)\n",
        "#print(model_auto.summary())"
      ],
      "metadata": {
        "id": "YWTT7onSrcRt"
      },
      "execution_count": null,
      "outputs": []
    },
    {
      "cell_type": "markdown",
      "source": [
        "Note que chegamos no mesmo modelo ARIMA(2,1,3)."
      ],
      "metadata": {
        "id": "sPY_FUTosb91"
      }
    },
    {
      "cell_type": "markdown",
      "source": [
        "# **Séries Temporais com variáveis exógenas - Conteúdo extra**\n",
        "\n",
        "Aqui, abordaremos um novo modelo que considera variáveis exógenas. Ou seja, a variável de entrada não é somente o tempo, mas também algum atributo externo. Isso é comum em previsão de demanda, por exemplo, quando o preço do item tem um impacto relevante na previsão (além, é claro, do componente temporal)."
      ],
      "metadata": {
        "id": "8I9MocIt6kBb"
      }
    },
    {
      "cell_type": "code",
      "source": [
        "#@markdown `tspplot()`\n",
        "#@markdown `tspdisplay()`\n",
        "\n",
        "def tspplot(ts=None,label=None,title=None,ax=None,linestyle='solid',alpha=1,lw=1,nr_xticks=None,nr_yticks=None):\n",
        "\n",
        "  import matplotlib.ticker as ticker\n",
        "\n",
        "  if ax is None:\n",
        "    fig, ax = plt.subplots()\n",
        "\n",
        "  if label is not None:\n",
        "    ax.plot(ts, label=label, linestyle=linestyle, lw=lw)\n",
        "  else:\n",
        "    ax.plot(ts, linestyle=linestyle,lw=lw,alpha=alpha)\n",
        "\n",
        "  if title is not None:\n",
        "    ax.set_title(title)\n",
        "\n",
        "  if nr_xticks is not None:\n",
        "    ax.xaxis.set_major_locator(ticker.MaxNLocator(nr_xticks))\n",
        "\n",
        "  if nr_yticks is not None:\n",
        "    ax.yaxis.set_major_locator(ticker.MaxNLocator(nr_yticks))\n",
        "\n",
        "  if label is not None:\n",
        "    plt.legend()\n",
        "\n",
        "  plt.tight_layout()\n",
        "\n",
        "  return\n",
        "\n",
        "\n",
        "class tspdisplay(object):\n",
        "    # Adaptado de https://jakevdp.github.io/PythonDataScienceHandbook/index.html\n",
        "    \"\"\"Display HTML representation of multiple objects\"\"\"\n",
        "    template = \"\"\"<div style=\"float: left; padding: 10px;\">\n",
        "    <hr>\n",
        "    <h3 style='font-family:\"Courier New\", Courier, monospace'>{0}</h3><hr>{1}\n",
        "    </div>\"\"\"\n",
        "    def __init__(self, *args):\n",
        "        self.args = args\n",
        "\n",
        "    def _repr_html_(self):\n",
        "        return '\\n'.join(self.template.format(a, eval(a + '.head()')._repr_html_())\n",
        "                         for a in self.args)\n",
        "\n",
        "    def __repr__(self):\n",
        "        return '\\n\\n'.join(a + '\\n' + repr(eval(a + '.head()'))\n",
        "                           for a in self.args)"
      ],
      "metadata": {
        "cellView": "form",
        "id": "ahM7ylw5XM9F"
      },
      "execution_count": null,
      "outputs": []
    },
    {
      "cell_type": "markdown",
      "source": [
        "# **Dados**\n",
        "\n",
        "Utilizaremos os dados do começo da aula."
      ],
      "metadata": {
        "id": "gaHDbR8M8fr-"
      }
    },
    {
      "cell_type": "code",
      "source": [
        "serie = pd.read_csv(\"https://raw.githubusercontent.com/guilhermepelegrina/Mackenzie/main/Datasets/data_serie_temporal_exogena.csv\")\n",
        "\n",
        "# Plotando a série temporal gerada\n",
        "\n",
        "# Aqui, normalizamos os dados da variável exógena para ficar mais fácil de visualizar\n",
        "\n",
        "plt.figure(figsize=(15,6))\n",
        "plt.plot(serie['data'], serie['serie_temporal'], label='Demanda', color='b')\n",
        "plt.plot(serie['data'], serie['exog']+(serie['serie_temporal'][0]-serie['exog'][0]), label='Variável Exógena', color='r', linestyle='--')\n",
        "plt.title('Série Temporal com variável exógena')\n",
        "plt.xlabel('Data')\n",
        "plt.ylabel('Demanda')\n",
        "plt.xticks(rotation=45)\n",
        "plt.legend()\n",
        "plt.grid(True)\n",
        "plt.show()"
      ],
      "metadata": {
        "id": "LFsajHwHGBvk"
      },
      "execution_count": null,
      "outputs": []
    },
    {
      "cell_type": "code",
      "source": [
        "serie.drop(columns=['data']).corr()"
      ],
      "metadata": {
        "id": "_CnonRgCrwoz"
      },
      "execution_count": null,
      "outputs": []
    },
    {
      "cell_type": "markdown",
      "source": [
        "Essa base de dados vai desde o início de 2020 até o final de 2024. Para efeito de construção e avaliação do modelo, vamos usar os dados até o final de 2023 para treinamento e o restante para teste (avaliação)."
      ],
      "metadata": {
        "id": "E0vJLV0O9-1X"
      }
    },
    {
      "cell_type": "code",
      "source": [
        "# Criando os índices dos dados de treinamento e teste\n",
        "\n",
        "test_size = 12\n",
        "train_size = len(serie) - test_size\n",
        "test_size = len(serie)\n",
        "\n",
        "train_ind = np.arange(0,train_size)\n",
        "test_ind = np.arange(train_size,test_size)\n",
        "\n",
        "train = serie.serie_temporal[:train_size]\n",
        "test = serie.serie_temporal[train_size:]"
      ],
      "metadata": {
        "id": "4NCFkzbKBIft"
      },
      "execution_count": null,
      "outputs": []
    },
    {
      "cell_type": "markdown",
      "source": [
        "## Modelos ARIMA"
      ],
      "metadata": {
        "id": "LEGyXBrRXM9L"
      }
    },
    {
      "cell_type": "code",
      "source": [
        "# Analisando o ACF\n",
        "fig, (ax1, ax2, ax3) = plt.subplots(1, 3,figsize=(15,5))\n",
        "\n",
        "ax1.plot(serie.index, serie.serie_temporal.diff(),linestyle='solid',alpha=1,lw=1)\n",
        "ax1.set_title('Preço óleo refinado de soja \\n após uma diferença')\n",
        "\n",
        "y1=plot_acf(serie.serie_temporal.diff().dropna(), lags=20, ax=ax2, title=\"ACF da série diferenciada\")\n",
        "y2=plot_pacf(serie.serie_temporal.diff().dropna(),ax=ax3, lags=20, title=\"PACF da série diferenciada\");"
      ],
      "metadata": {
        "id": "EllrNPFRePbg"
      },
      "execution_count": null,
      "outputs": []
    },
    {
      "cell_type": "code",
      "source": [
        "from statsmodels.tsa.stattools import adfuller\n",
        "result = adfuller(serie.serie_temporal.diff()[1:])\n",
        "print('ADF Statistic: %f' % result[0])\n",
        "print('p-value: %f' % result[1])"
      ],
      "metadata": {
        "id": "BhplTbECePbj"
      },
      "execution_count": null,
      "outputs": []
    },
    {
      "cell_type": "code",
      "source": [
        "# Valores de AIC\n",
        "import itertools\n",
        "\n",
        "for i, j in itertools.product(range(7), range(7)):\n",
        "  print(\"AIC do modelo\",\"ARIMA(\",i,\", 1 ,\",j,\"):\",\n",
        "        round(ARIMA(train, order=(i, 1, j),\n",
        "                    enforce_stationarity=True,\n",
        "                    enforce_invertibility=True).fit(method_kwargs={'maxiter':700}).aic,4))"
      ],
      "metadata": {
        "id": "uhhyGkVqePbj"
      },
      "execution_count": null,
      "outputs": []
    },
    {
      "cell_type": "code",
      "source": [
        "# Ajustando o modelo ARIMA\n",
        "\n",
        "model=ARIMA(train, order=(0, 1, 4)).fit()"
      ],
      "metadata": {
        "id": "3st0IVR7ePbk"
      },
      "execution_count": null,
      "outputs": []
    },
    {
      "cell_type": "code",
      "source": [
        "# Resíduos\n",
        "res=model.fit()\n",
        "res_standard=(res.resid-res.resid.mean())/np.sqrt(res.resid.var())#standardized residuals\n",
        "ts=df"
      ],
      "metadata": {
        "id": "k2WVnjb6ePbk"
      },
      "execution_count": null,
      "outputs": []
    },
    {
      "cell_type": "code",
      "source": [
        "# Gráficos do ajuste\n",
        "#@markdown\n",
        "\n",
        "import scipy.stats as stats\n",
        "import statsmodels.api as sm\n",
        "\n",
        "fig,axs = plt.subplots(2, 2,figsize=(14,5))\n",
        "\n",
        "axs[0,0].scatter(ts.index[1:train_size], res_standard[1:train_size])\n",
        "axs[0,0].axhline(y=0, color='b', linestyle='--')\n",
        "axs[0,0].set_title('Standardized residuals')\n",
        "\n",
        "x=plot_acf(res.resid, lags=20, ax=axs[0,1], title=\"ACF- resíduos\");\n",
        "\n",
        "axs[1,0].hist(res_standard[1:train_size], density=True);\n",
        "x=np.sort(np.random.normal(0, 1, 1000))\n",
        "axs[1,0].plot(x, stats.norm.pdf(x, 0, 1))\n",
        "x1=sm.qqplot(res_standard[1:train_size], line ='45', ax=axs[1,1])"
      ],
      "metadata": {
        "id": "C_irP1lXePbk"
      },
      "execution_count": null,
      "outputs": []
    },
    {
      "cell_type": "code",
      "source": [
        "# Previsoes longas\n",
        "\n",
        "model = ARIMA(serie['serie_temporal'][train_ind], order=(0, 1, 4))\n",
        "\n",
        "# Fazendo previsões\n",
        "serie['arima'] = np.nan\n",
        "serie['arima'][test_ind] = model.fit().get_forecast(12).predicted_mean\n",
        "\n",
        "serie.tail(12)"
      ],
      "metadata": {
        "id": "u0pgso2OXM9O"
      },
      "execution_count": null,
      "outputs": []
    },
    {
      "cell_type": "code",
      "source": [
        "# Previsõe curtas\n",
        "\n",
        "serie['arima_atual'] = np.nan\n",
        "\n",
        "for ii in test_ind:\n",
        "  model = ARIMA(serie['serie_temporal'][0:ii],order=(0,1,4))\n",
        "  model_fit = model.fit()\n",
        "  forecast = model_fit.get_forecast(1)\n",
        "  serie['arima_atual'][ii] = forecast.predicted_mean\n",
        "\n",
        "serie.tail(12)"
      ],
      "metadata": {
        "id": "fXLFlDHhRFCU"
      },
      "execution_count": null,
      "outputs": []
    },
    {
      "cell_type": "code",
      "source": [
        "# Previsões futuras\n",
        "forecast_accuracy(serie['serie_temporal'][test_ind], serie['arima'][test_ind])"
      ],
      "metadata": {
        "id": "7PBPPbR0Snqf"
      },
      "execution_count": null,
      "outputs": []
    },
    {
      "cell_type": "code",
      "source": [
        "# Previsões atuais\n",
        "forecast_accuracy(serie['serie_temporal'][test_ind], serie['arima_atual'][test_ind])"
      ],
      "metadata": {
        "id": "dlffcqUySnqg"
      },
      "execution_count": null,
      "outputs": []
    },
    {
      "cell_type": "code",
      "source": [
        "plt.figure(figsize=(12,5))\n",
        "\n",
        "plt.plot(train_ind,serie['serie_temporal'][train_ind], label='Treinamento',linestyle='solid',alpha=1,lw=1)\n",
        "plt.plot(test_ind,serie['serie_temporal'][test_ind], label='Teste',linestyle='solid',alpha=1,lw=1)\n",
        "plt.plot(test_ind,serie['arima'][test_ind], label='Previsão',linestyle='dashed',alpha=1,lw=2,color='black')\n",
        "plt.plot(test_ind,serie['arima_atual'][test_ind], label='Previsão atual',linestyle='dashed',alpha=1,lw=2,color='red')\n",
        "\n",
        "plt.title('Previsões vs realidade')\n",
        "plt.legend(loc='upper left', fontsize=12)\n",
        "\n",
        "plt.show()"
      ],
      "metadata": {
        "id": "oS06BhGlXM9Q"
      },
      "execution_count": null,
      "outputs": []
    },
    {
      "cell_type": "markdown",
      "source": [
        "# ARIMAX\n",
        "\n",
        "O modelo ARIMAX consiste no modelo ARIMA com a inclusão de variáveis exógenas. Sejam $X_1, X_2, \\ldots, X_n$ um conjunto de $n$ variáveis exógenas. O modelo ARIMAX é dado por\n",
        "\n",
        "$$\\underbrace{\\Delta^d Z_t}_\\text{Série após d diferenças} =\\mu+ \\underbrace{\\phi_1 \\Delta^dZ_{t-1}+ \\phi_2\\Delta^dZ_{t-2}+...+\\phi_p\\Delta^d Z_{t-p}}_\\text {Autorregressiva (AR)} + e_t + \\underbrace{\\theta_1e_{t-1}+ \\theta_2 e_{t-2}+...+ \\theta_q e_{t-q}}_\\text{Médias móveis (MA)} + \\underbrace{\\beta_1x_{1,t}+ \\beta_2 x_{2,t}+...+ \\beta_n x_{n,t}}_\\text{Variável exógena}, $$\n",
        "\n",
        "em que $\\phi_1,...,\\phi_p, \\theta_1,...,\\theta_q, \\beta_1,...,\\beta_n$ são valores a serem estimados. Geralmente $e_t \\sim N (0,\\sigma^2)$.\n",
        "\n",
        "Dessa forma, conseguimos incluir no modelo variáveis externas que podem contribuir na previsão da demanda. Variáveis, estas, diferente de apenas o componente temporal.\n",
        "\n",
        "Veja nos códigos abaixo como fica a implementação em Python. Note que o ARIMAX pertence ao pacote do ARIMA. A diferença é que indicamos a presença das variáveis exógenas."
      ],
      "metadata": {
        "id": "DZBut3WZ77Ie"
      }
    },
    {
      "cell_type": "code",
      "source": [
        "# Definindo o modelo ARIMAX (usando os mesmos parãmetros do modelo ARIMA obtidos anteriormente)\n",
        "model = ARIMA(serie['serie_temporal'][train_ind], order=(0, 1, 4), exog=serie['exog'][train_ind]).fit()"
      ],
      "metadata": {
        "id": "N01UXz28Vcoc"
      },
      "execution_count": null,
      "outputs": []
    },
    {
      "cell_type": "markdown",
      "source": [
        "# Previsões"
      ],
      "metadata": {
        "id": "TwtATCfaAkHJ"
      }
    },
    {
      "cell_type": "code",
      "source": [
        "# Previsoes longas\n",
        "\n",
        "serie['arimax'] = np.nan\n",
        "serie['arimax'][test_ind] = model.forecast(steps=12,exog=serie['exog'][test_ind])\n",
        "\n",
        "serie.tail(12)"
      ],
      "metadata": {
        "id": "in_WnUSjAkHK"
      },
      "execution_count": null,
      "outputs": []
    },
    {
      "cell_type": "code",
      "source": [
        "# Previsõe curtas\n",
        "\n",
        "serie['arimax_atual'] = np.nan\n",
        "\n",
        "for ii in test_ind:\n",
        "  model = ARIMA(serie['serie_temporal'][0:ii],order=(4,1,0), exog=serie['exog'][0:ii]).fit()\n",
        "  forecast = model.forecast(steps=1,exog=serie['exog'][ii])\n",
        "  serie['arimax_atual'][ii] = forecast\n",
        "\n",
        "serie.tail(12)"
      ],
      "metadata": {
        "id": "mjd7AbayAkHL"
      },
      "execution_count": null,
      "outputs": []
    },
    {
      "cell_type": "code",
      "source": [
        "# Previsões futuras\n",
        "forecast_accuracy(serie['serie_temporal'][test_ind], serie['arimax'][test_ind])"
      ],
      "metadata": {
        "id": "1brfwnASAkHM"
      },
      "execution_count": null,
      "outputs": []
    },
    {
      "cell_type": "code",
      "source": [
        "# Previsões atuais\n",
        "forecast_accuracy(serie['serie_temporal'][test_ind], serie['arimax_atual'][test_ind])"
      ],
      "metadata": {
        "id": "m1LN4x98AkHM"
      },
      "execution_count": null,
      "outputs": []
    },
    {
      "cell_type": "code",
      "source": [
        "plt.figure(figsize=(12,5))\n",
        "\n",
        "plt.plot(train_ind,serie['serie_temporal'][train_ind], label='Treinamento',linestyle='solid',alpha=1,lw=1)\n",
        "plt.plot(test_ind,serie['serie_temporal'][test_ind], label='Teste',linestyle='solid',alpha=1,lw=1)\n",
        "plt.plot(test_ind,serie['arimax'][test_ind], label='Previsão',linestyle='dashed',alpha=1,lw=2,color='black')\n",
        "plt.plot(test_ind,serie['arimax_atual'][test_ind], label='Previsão atual',linestyle='dashed',alpha=1,lw=2,color='red')\n",
        "\n",
        "plt.title('Previsões vs realidade')\n",
        "plt.legend(loc='upper left', fontsize=12)\n",
        "\n",
        "plt.show()"
      ],
      "metadata": {
        "id": "W6thNmfeAkHM"
      },
      "execution_count": null,
      "outputs": []
    }
  ],
  "metadata": {
    "anaconda-cloud": {},
    "colab": {
      "provenance": [],
      "include_colab_link": true
    },
    "kernelspec": {
      "display_name": "Python 3",
      "language": "python",
      "name": "python3"
    },
    "language_info": {
      "codemirror_mode": {
        "name": "ipython",
        "version": 3
      },
      "file_extension": ".py",
      "mimetype": "text/x-python",
      "name": "python",
      "nbconvert_exporter": "python",
      "pygments_lexer": "ipython3",
      "version": "3.7.4"
    }
  },
  "nbformat": 4,
  "nbformat_minor": 0
}