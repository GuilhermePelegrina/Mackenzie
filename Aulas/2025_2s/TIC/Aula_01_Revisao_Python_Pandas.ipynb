{
  "cells": [
    {
      "cell_type": "markdown",
      "metadata": {
        "id": "view-in-github",
        "colab_type": "text"
      },
      "source": [
        "<a href=\"https://colab.research.google.com/github/GuilhermePelegrina/Mackenzie/blob/main/Aulas/2025_2s/TIC/Aula_01_Revisao_Python_Pandas.ipynb\" target=\"_parent\"><img src=\"https://colab.research.google.com/assets/colab-badge.svg\" alt=\"Open In Colab\"/></a>"
      ]
    },
    {
      "cell_type": "markdown",
      "metadata": {
        "id": "HSQCu7I51tMd"
      },
      "source": [
        "<img src='https://raw.githubusercontent.com/guilhermepelegrina/Mackenzie/main/logo_mackenzie_tic_gustavo1.png' width=\"600\">\n"
      ]
    },
    {
      "cell_type": "markdown",
      "metadata": {
        "id": "fzb17vN_QvWF"
      },
      "source": [
        "# **Revisão: Comandos básicos do Python**\n",
        "\n",
        "Nesta aula, revisaremos os principais comandos / funções em Python que serão usados nesta disciplina. Esses comandos / funções são muito úteis quando criamos um projeto de Ciência de Dados, ou seja, que são usados tanto para Análise de Dados quanto para Aprendizado de Máquina."
      ]
    },
    {
      "cell_type": "markdown",
      "metadata": {
        "id": "fZWWZsdQS-L_"
      },
      "source": [
        "# Importando bibliotecas"
      ]
    },
    {
      "cell_type": "code",
      "execution_count": null,
      "metadata": {
        "id": "WrfoUaaJQihw"
      },
      "outputs": [],
      "source": [
        "import numpy as np # Coleção de funções matemáticas para manipulações algébricas\n",
        "import pandas as pd # Manipulação de Data Frames\n",
        "import matplotlib.pyplot as plt # Criação de ferramentas para visualização de dados, como gráficos"
      ]
    },
    {
      "cell_type": "markdown",
      "metadata": {
        "id": "M8G_NGw2XeaE"
      },
      "source": [
        "# Variáveis e Atribuições\n",
        "\n",
        "- As variáveis em são elementos usados para armazenar valores, como números, textos, listas, entre outros.\n",
        "- Chamamos de atribuição de valores a passagem de uma informação a determinada variável."
      ]
    },
    {
      "cell_type": "code",
      "execution_count": null,
      "metadata": {
        "id": "f-R2tvpKXUDp"
      },
      "outputs": [],
      "source": [
        "# Exemplos de variáveis e atribuições\n",
        "\n",
        "inteiro = 123 # Número inteiro\n",
        "real = np.pi  # Número real\n",
        "\n",
        "print(inteiro, type(inteiro))\n",
        "print(real, type(real))"
      ]
    },
    {
      "cell_type": "code",
      "execution_count": null,
      "metadata": {
        "id": "CXvI6QPAYqOO"
      },
      "outputs": [],
      "source": [
        "# Para o Python, os números seguintes são inteiros ou reais?\n",
        "\n",
        "num1 = 6\n",
        "num2 = 6.0\n",
        "num3 = 6/4\n",
        "num4 = 2/1\n",
        "num5 = 6 + 5.0\n",
        "\n",
        "print(num1, type(num1))\n",
        "print(num2, type(num2))\n",
        "print(num3, type(num3))\n",
        "print(num4, type(num4))\n",
        "print(num5, type(num5))"
      ]
    },
    {
      "cell_type": "markdown",
      "metadata": {
        "id": "KM9Nbtkw5agP"
      },
      "source": [
        "# Strings\n",
        "\n",
        "Strings são estruturas usadas para armazenar informações de texto (sequência de caracteres). Essa sequência de caracteres pode conter números, letras e pontuações.\n",
        "\n",
        "`str[ inicio : tamanho ]`\n",
        "ou\n",
        "`str[ inicio : fim+1 ]`\n"
      ]
    },
    {
      "cell_type": "code",
      "execution_count": null,
      "metadata": {
        "id": "3d7cVbXo5-U9"
      },
      "outputs": [],
      "source": [
        "# Exemplos de strings\n",
        "\n",
        "texto1 = '123' # texto\n",
        "texto2 = 'TIC !' # texto\n",
        "texto3 = \"Aula de python\"\n",
        "\n",
        "print(texto1, type(texto1))\n",
        "print(texto2, type(texto2))\n",
        "print(texto3[0:7])"
      ]
    },
    {
      "cell_type": "code",
      "execution_count": null,
      "metadata": {
        "id": "ZFn-7X0H6bmJ"
      },
      "outputs": [],
      "source": [
        "# Calculando o tamanho da string\n",
        "\n",
        "print(len(texto1))\n",
        "print(len(texto2))"
      ]
    },
    {
      "cell_type": "code",
      "execution_count": null,
      "metadata": {
        "id": "6MnP66NfPBVR"
      },
      "outputs": [],
      "source": [
        "str1 = 'Análise de Dados'"
      ]
    },
    {
      "cell_type": "code",
      "execution_count": null,
      "metadata": {
        "id": "7p32xL0I7Yoq"
      },
      "outputs": [],
      "source": [
        "# Manipulando strings (1)\n",
        "\n",
        "str2 = str1.replace('Análise','Ciência')\n",
        "print(str2)"
      ]
    },
    {
      "cell_type": "code",
      "execution_count": null,
      "metadata": {
        "id": "Ysh6JMgG8dyQ"
      },
      "outputs": [],
      "source": [
        "# Manipulando strings (3)\n",
        "\n",
        "str3 = 'Aprendizado'\n",
        "str4 = ' de'\n",
        "str5 = ' Máquina'\n",
        "print(str3+str4+str5)"
      ]
    },
    {
      "cell_type": "markdown",
      "metadata": {
        "id": "I5FgGsqA7suK"
      },
      "source": [
        "# Print e Input"
      ]
    },
    {
      "cell_type": "code",
      "execution_count": null,
      "metadata": {
        "id": "81sK0yjS7y_t"
      },
      "outputs": [],
      "source": [
        "# Exemplo 1\n",
        "\n",
        "texto = int(input('Entre com um texto: '))\n",
        "print(texto)"
      ]
    },
    {
      "cell_type": "code",
      "execution_count": null,
      "metadata": {
        "id": "aPO_b1QQ76E7"
      },
      "outputs": [],
      "source": [
        "# Exemplo 2\n",
        "\n",
        "numero = int(input('Entre com um número: '))\n",
        "print('Seu número mais um: ', numero+1)"
      ]
    },
    {
      "cell_type": "markdown",
      "metadata": {
        "id": "j0q1SPiK_LAz"
      },
      "source": [
        "# Controlando o Fluxo do Programa\n",
        "\n",
        "Note que em Python as instruções **aninhadas** são **identadas** (*tab*). Assim os comandos *aninhados* à condição (*if-then-else*) ou laço (*for*) do programa devem estar à direita do comando inicial da condição ou laço."
      ]
    },
    {
      "cell_type": "markdown",
      "metadata": {
        "id": "9tdM8twz_5oc"
      },
      "source": [
        "**if-then-else**"
      ]
    },
    {
      "cell_type": "code",
      "execution_count": null,
      "metadata": {
        "id": "FPkYxHwF_Pcm"
      },
      "outputs": [],
      "source": [
        "a = 1964\n",
        "b = 198\n",
        "\n",
        "if b > a:\n",
        "  print(\"b is greater than a\")\n",
        "else:\n",
        "  print(\"a is greater than b\")"
      ]
    },
    {
      "cell_type": "code",
      "execution_count": null,
      "metadata": {
        "id": "cAkYl2-i_2ms"
      },
      "outputs": [],
      "source": [
        "if b > a:\n",
        "  print(\"b is greater than a\")\n",
        "elif a == b:\n",
        "  print(\"a and b are equal\")\n",
        "else:\n",
        "  print(\"a is greater than b\")"
      ]
    },
    {
      "cell_type": "markdown",
      "metadata": {
        "id": "OYPm9UCO_-Vn"
      },
      "source": [
        "**for**"
      ]
    },
    {
      "cell_type": "code",
      "execution_count": null,
      "metadata": {
        "id": "Wz4mU_mtAAJt"
      },
      "outputs": [],
      "source": [
        "# a % b retorna o resto da divisão de a por b\n",
        "\n",
        "for i in range(11):\n",
        "  if i%2 == 0:\n",
        "    print(i)"
      ]
    },
    {
      "cell_type": "markdown",
      "metadata": {
        "id": "5i7ZSr5MAl7m"
      },
      "source": [
        "**Funções**\n",
        "\n",
        "Há muitas funções já criadas em Python e, na grande maioria dos casos, não precisaremos necessariamente *criar* funções novas. No entanto, em casos específicos ou mis *cutomizados*, é interessante criar uma função própria para deixar o código mais modular e enxuto."
      ]
    },
    {
      "cell_type": "code",
      "execution_count": null,
      "metadata": {
        "id": "HO2WjzsTAoQ1"
      },
      "outputs": [],
      "source": [
        "def mymax(a,b):\n",
        "  if a > b:\n",
        "    return a\n",
        "  else:\n",
        "    return b\n",
        "\n",
        "mymax(1984,1964)"
      ]
    },
    {
      "cell_type": "markdown",
      "metadata": {
        "id": "iZBj3gvfCaQd"
      },
      "source": [
        "# Numpy"
      ]
    },
    {
      "cell_type": "code",
      "execution_count": null,
      "metadata": {
        "id": "r8sTCGkGCo4s"
      },
      "outputs": [],
      "source": [
        "import numpy as np\n",
        "\n",
        "x = np.array([1,2,3])\n",
        "media = np.mean(x)\n",
        "soma = np.sum(x)\n",
        "\n",
        "print('Média:', media, 'Soma:', soma)\n",
        "print(type(media), type(soma))"
      ]
    },
    {
      "cell_type": "code",
      "execution_count": null,
      "metadata": {
        "id": "KfqDGl18CcXr"
      },
      "outputs": [],
      "source": [
        "# Exemplo: Gerador (não)aleatório\n",
        "np.random.seed(857) # semente de geração aleatória\n",
        "x = np.array(np.random.randint(low=1, high=6, size=10))\n",
        "print(x)\n",
        "\n",
        "x = np.array(np.random.randint(low=1, high=6, size=10))\n",
        "print(x)\n",
        "\n",
        "np.random.seed(857) # semente de geração aleatória\n",
        "x = np.array(np.random.randint(low=1, high=6, size=10))\n",
        "print(x)\n",
        "\n",
        "x = np.array(np.random.randint(low=1, high=6, size=10))\n",
        "print(x)"
      ]
    },
    {
      "cell_type": "code",
      "execution_count": null,
      "metadata": {
        "id": "F_YRW1ADExri"
      },
      "outputs": [],
      "source": [
        "# Gerando matrizes de 0s ou constantes\n",
        "\n",
        "m1 = np.zeros((2,5))\n",
        "\n",
        "print(m1)"
      ]
    },
    {
      "cell_type": "code",
      "execution_count": null,
      "metadata": {
        "id": "3efjfZjAFEEF"
      },
      "outputs": [],
      "source": [
        "# Gerando matrizes de constantes\n",
        "\n",
        "m2 = 5.2 * np.ones((4,2))\n",
        "\n",
        "print(m2)"
      ]
    },
    {
      "cell_type": "code",
      "execution_count": null,
      "metadata": {
        "id": "M6zdsUUmFJOS"
      },
      "outputs": [],
      "source": [
        "# Concatenando arrays\n",
        "\n",
        "array1 = np.random.randint(low=5, high=10, size=10)\n",
        "\n",
        "print(array1)\n",
        "\n",
        "array2 = np.random.randint(low=0, high=5, size=10)\n",
        "\n",
        "print(array2)\n",
        "\n",
        "concat1 = np.concatenate((array1,array2),axis = 0)\n",
        "\n",
        "print(concat1)"
      ]
    },
    {
      "cell_type": "code",
      "execution_count": null,
      "metadata": {
        "id": "muxTajyjGH_f"
      },
      "outputs": [],
      "source": [
        "# Selecionado partes (slices) de um vetor\n",
        "\n",
        "array1 = np.random.randint(low=5, high=10, size=10)\n",
        "\n",
        "print(array1)\n",
        "\n",
        "slice1 = array1[0:3]\n",
        "print(slice1)\n",
        "\n",
        "print(array1[2:4])\n",
        "print(array1[2:])\n",
        "print(array1[2:-1])"
      ]
    },
    {
      "cell_type": "code",
      "execution_count": null,
      "metadata": {
        "id": "SSM3TvDIHome"
      },
      "outputs": [],
      "source": [
        "# Alterando valores de vetor\n",
        "\n",
        "vetor = np.array([1,4,7])\n",
        "print(vetor)\n",
        "\n",
        "vetor[1] = 10\n",
        "print(vetor)\n"
      ]
    },
    {
      "cell_type": "code",
      "execution_count": null,
      "metadata": {
        "id": "J8ZnZviaIZ7_"
      },
      "outputs": [],
      "source": [
        "# Alterando valores de matriz\n",
        "\n",
        "matriz = np.array(([1,4,7], [3,5,9]))\n",
        "print(matriz)\n",
        "\n",
        "matriz[0,2] = 10\n",
        "print(matriz)"
      ]
    },
    {
      "cell_type": "code",
      "execution_count": null,
      "metadata": {
        "id": "ehrOr-dvIeXt"
      },
      "outputs": [],
      "source": [
        "# Alterando valores de matriz\n",
        "\n",
        "valores = np.array([12,13])\n",
        "\n",
        "matriz[1,0:2] = valores\n",
        "print(matriz)"
      ]
    },
    {
      "cell_type": "markdown",
      "metadata": {
        "id": "Sx7poRAAhVEC"
      },
      "source": [
        "# **Revisão: Comandos básicos do Pandas**\n",
        "\n",
        "Nesta aula, revisaremos os principais comandos / funções em Pandas que serão usados nesta disciplina. Esses comandos / funções são muito úteis quando criamos um projeto de Ciência de Dados, ou seja, que são usados tanto para Análise de Dados quanto para Aprendizado de Máquina."
      ]
    },
    {
      "cell_type": "markdown",
      "metadata": {
        "id": "H8BayH38jpm8"
      },
      "source": [
        "## Listas (List)\n",
        "\n",
        "Lista (**list**) é uma coleção que é **ordenada** e **mutável**. Permite membros **duplicados**. Associada a lista você encontra uma série de métodos que implementam funções úteis para esses objetos."
      ]
    },
    {
      "cell_type": "code",
      "execution_count": null,
      "metadata": {
        "id": "gBNJQSbLg1hf"
      },
      "outputs": [],
      "source": [
        "mylist = ['A', 'B', 'C', 'A', 'B']\n",
        "print(len(mylist))\n",
        "\n",
        "cont = mylist.count('B')\n",
        "print(cont)\n",
        "\n",
        "mylist.append('D')\n",
        "print(mylist)\n",
        "\n",
        "mylist.sort()\n",
        "print(mylist)\n",
        "\n",
        "mylist.insert(1,'X')\n",
        "print(mylist)\n",
        "\n",
        "mylist[1] = 'ZZ'\n",
        "print(mylist)\n",
        "\n",
        "del mylist[0:1]\n",
        "print(mylist)"
      ]
    },
    {
      "cell_type": "code",
      "execution_count": null,
      "metadata": {
        "id": "0efqOaTokXm8"
      },
      "outputs": [],
      "source": [
        "mylist = [1,2,7,5,8,7]\n",
        "print(len(mylist))\n",
        "\n",
        "cont = mylist.count(7)\n",
        "print(cont)\n",
        "\n",
        "mylist.append(2)\n",
        "print(mylist)\n",
        "\n",
        "mylist.sort()\n",
        "print(mylist)\n",
        "\n",
        "mylist.insert(1,10)\n",
        "print(mylist)\n",
        "\n",
        "mylist[1] = 2\n",
        "print(mylist)\n",
        "\n",
        "del mylist[0:1]\n",
        "print(mylist)"
      ]
    },
    {
      "cell_type": "markdown",
      "metadata": {
        "id": "6vOfM9ook4q3"
      },
      "source": [
        "## Percorrendo uma lista *\n",
        "\n",
        "Existem basicamente duas forma de percorrer uma lista.\n",
        "\n",
        "* **Por índice**, empregue quando precisar do índice (posição) ou alterar os elementos\n",
        "* **Por iterador**, empregue apenas para recuperar (ler) os elementos"
      ]
    },
    {
      "cell_type": "code",
      "execution_count": null,
      "metadata": {
        "id": "NpLQlTBIk5Qr"
      },
      "outputs": [],
      "source": [
        "for i in range(len(mylist)):\n",
        "    print(i, mylist[i])"
      ]
    },
    {
      "cell_type": "markdown",
      "metadata": {
        "id": "T02h_RP3lqss"
      },
      "source": [
        "# Pandas\n",
        "\n",
        "O `Pandas` é uma API (biblioteca) em Python para manipulação e análise de dados orientada a colunas. Ela permite organizar dados em dois tipos de estruturas, Séries e DataFrames, e operar seleções e transformações sobre essas coleções de dados.\n",
        "\n",
        "Comece vendo um resumo dos comandos Pandas aqui [Pandas Cheat Sheet](https://pandas.pydata.org/Pandas_Cheat_Sheet.pdf).\n",
        "\n",
        "\n",
        "* **DataFrame**: você pode imaginar como uma tabela de dados relacionais, com linhas e colunas nomeadas, como no Excel ou SQL.\n",
        "* **Series**: é uma única coluna de dados, e o DataFrame contém um ou mais Series com um nome para cada uma delas.\n",
        "\n",
        "Você pode ler e gravar dados de diferentes fontes como arquivos .csv, .json, .xlsx e arquivos de bancos de dados sql, Mongo etc.\n",
        "\n",
        "\n",
        "| Format        | Read           | Save          |\n",
        "| ------------- |:--------------:| ----------------:|\n",
        "| csv           | `pd.read_csv()`  |`df.to_csv()`     |\n",
        "| json          | `pd.read_json()` |`df.to_json()`    |\n",
        "| xlsx          | `pd.read_excel()`|`df.to_excel()`   |\n",
        "| hdf           | `pd.read_hdf()`  |`df.to_hdf()`     |\n",
        "| sql           | `pd.read_sql()`  |`df.to_sql()`     |\n",
        "\n",
        "Vamos discutir funções e seleção de dados usando como exemplo a base de dados [Bank Marketing](https://archive.ics.uci.edu/dataset/222/bank+marketing)."
      ]
    },
    {
      "cell_type": "code",
      "execution_count": null,
      "metadata": {
        "id": "qwieKpzclwoU"
      },
      "outputs": [],
      "source": [
        "df = pd.read_csv(\"https://raw.githubusercontent.com/guilhermepelegrina/Mackenzie/main/Datasets/data_bank_marketing.csv\", sep = ';')\n",
        "df.head()"
      ]
    },
    {
      "cell_type": "markdown",
      "metadata": {
        "id": "K0L7VkKxl7eY"
      },
      "source": [
        "Informações sobre o conjunto de dados:\n",
        "\n",
        "- age (numeric)\n",
        "- job : type of job (categorical: \"admin.\",\"unknown\",\"unemployed\",\"management\",\"housemaid\",\"entrepreneur\",\"student\", \"blue-collar\",\"self-employed\",\"retired\",\"technician\",\"services\")\n",
        "- marital : marital status (categorical: \"married\",\"divorced\",\"single\"; note: \"divorced\" means divorced or widowed)\n",
        "- education (categorical: \"unknown\",\"secondary\",\"primary\",\"tertiary\")\n",
        "- default: has credit in default? (binary: \"yes\",\"no\")\n",
        "- balance: average yearly balance, in euros (numeric)\n",
        "- housing: has housing loan? (binary: \"yes\",\"no\")\n",
        "- loan: has personal loan? (binary: \"yes\",\"no\")\n",
        "\n",
        "Related with the last contact of the current campaign:\n",
        "\n",
        "- contact: contact communication type (categorical: \"unknown\",\"telephone\",- day: last contact day of the month (numeric)\n",
        "- month: last contact month of year (categorical: \"jan\", \"feb\", \"mar\", ..., \"nov\", \"dec\")\n",
        "- duration: last contact duration, in seconds (numeric)\n",
        "   \n",
        "Other attributes:\n",
        "\n",
        "- campaign: number of contacts performed during this campaign and for this client (numeric, includes last contact)\n",
        "- pdays: number of days that passed by after the client was last contacted from a previous campaign (numeric, -1 means client was not previously contacted)\n",
        "- previous: number of contacts performed before this campaign and for this client (numeric)\n",
        "- poutcome: outcome of the previous marketing campaign (categorical: \"unknown\",\"other\",\"failure\",\"success\")\n",
        "\n",
        "Output variable (desired target):\n",
        "\n",
        "- y - has the client subscribed a term deposit? (binary: \"yes\",\"no\")"
      ]
    },
    {
      "cell_type": "markdown",
      "metadata": {
        "id": "n_OWD4yCmxLg"
      },
      "source": [
        "### Explorando os dados\n",
        "\n",
        "É importante na primeira análise extrair informações sobre a estrutura dos dados, isto é, verificar o tipo de variáveis, número de linhas, colunas, etc."
      ]
    },
    {
      "cell_type": "code",
      "execution_count": null,
      "metadata": {
        "id": "AhK8VUH0m0Iw"
      },
      "outputs": [],
      "source": [
        "# Funções interessantes\n",
        "\n",
        "df.head()\n",
        "df.tail()\n",
        "df.columns\n",
        "df.shape\n",
        "df.info()"
      ]
    },
    {
      "cell_type": "markdown",
      "metadata": {
        "id": "r4E8pjrLUxWa"
      },
      "source": [
        "A função `describe()` do pandas é uma ferramenta muito útil para obter um resumo estatístico de um DataFrame."
      ]
    },
    {
      "cell_type": "code",
      "execution_count": null,
      "metadata": {
        "id": "0Bjl1bzfUx3C"
      },
      "outputs": [],
      "source": [
        "df.describe()"
      ]
    },
    {
      "cell_type": "markdown",
      "metadata": {
        "id": "Edqdn9q_06E6"
      },
      "source": [
        "### Seleção de Colunas, Linhas e Linhas e Colunas\n",
        "\n",
        "<img src=\"https://pandas.pydata.org/docs/_images/03_subset_columns.svg\" width=320, align=\"center\">\n",
        "<img src=\"https://pandas.pydata.org/docs/_images/03_subset_rows.svg\" width=320, align=\"center\">\n",
        "<img src=\"https://pandas.pydata.org/docs/_images/03_subset_columns_rows.svg\" width=320, align=\"center\">"
      ]
    },
    {
      "cell_type": "markdown",
      "metadata": {
        "id": "H7N5jaOP08xq"
      },
      "source": [
        "**Selecionando colunas**\n",
        "\n",
        "No pandas, você pode selecionar colunas de um DataFrame de várias maneiras diferentes. Aqui estão as duas formas mais comuns de fazer isso:"
      ]
    },
    {
      "cell_type": "code",
      "execution_count": null,
      "metadata": {
        "id": "-xUMvfhs1BAz"
      },
      "outputs": [],
      "source": [
        "# As duas opções retornam o mesmo resultado.\n",
        "df.age  # Opção 1\n",
        "df['age'] # Opção 2"
      ]
    },
    {
      "cell_type": "markdown",
      "metadata": {
        "id": "P4wPD5flJT_u"
      },
      "source": [
        "**Removendo colunas**"
      ]
    },
    {
      "cell_type": "code",
      "execution_count": null,
      "metadata": {
        "id": "nLJDgmPNJIS_"
      },
      "outputs": [],
      "source": [
        "df2 = df.drop('age',axis=1)\n",
        "df2.head()"
      ]
    },
    {
      "cell_type": "markdown",
      "metadata": {
        "id": "JtHYPc0R1ZvN"
      },
      "source": [
        "Se você quiser calcular estatísticas específicas pode usar as seguintes funções:  `mean()` para a média, `std()` para o desvio padrão, `min()` e `max()` para os valores mínimo e máximo, etc."
      ]
    },
    {
      "cell_type": "code",
      "execution_count": null,
      "metadata": {
        "id": "KvZeKugF1aNL"
      },
      "outputs": [],
      "source": [
        "# valores descritivos da variável \"temp\"\n",
        "\n",
        "print(df.age.max())  # valor máximo\n",
        "print(df.age.min())  # valor mínimo\n",
        "print(df.age.mean()) # média\n",
        "print(df.age.std())  # desvio padrão\n",
        "print(df.age.quantile()) # Exibe a mediana\n",
        "print(df.age.quantile([0, 0.25, 0.5, 0.9])) # exibindo diferentes percentis"
      ]
    },
    {
      "cell_type": "markdown",
      "metadata": {
        "id": "jUEEBjgx7uZf"
      },
      "source": [
        "**Variáveis categóricas (não numéricas)**\n",
        "\n",
        "Variáveis categóricas são aquelas que representam categorias ou grupos distintos, em vez de valores numéricos contínuos. Elas são comuns em dados que envolvem características não numéricas, como gênero, cor, tipo de animal, estado civil, etc."
      ]
    },
    {
      "cell_type": "code",
      "execution_count": null,
      "metadata": {
        "id": "myipsoah7zL4"
      },
      "outputs": [],
      "source": [
        "est_civil = df.marital.to_list() # Converter marital em uma lista\n",
        "est_civil.count('married')    # Contar o número de vezes que aparece \"married\""
      ]
    },
    {
      "cell_type": "code",
      "execution_count": null,
      "metadata": {
        "id": "-MFhrQIP8YO-"
      },
      "outputs": [],
      "source": [
        "# Funções úteis\n",
        "\n",
        "df.marital.value_counts() # valores diferentes e suas quantidades\n",
        "df.marital.unique()       # Mostra os valores únicos\n",
        "#df.marital.nunique()      # Número de valores únicos"
      ]
    },
    {
      "cell_type": "markdown",
      "metadata": {
        "id": "6i-1M6CQ8lXG"
      },
      "source": [
        "**Selecionando várias colunas**\n",
        "\n",
        "Para selecionar várias colunas em um DataFrame do pandas, você pode passar uma lista com os nomes das colunas que deseja selecionar. Lembre-se de que, ao selecionar várias colunas, o resultado será um novo DataFrame contendo apenas as colunas selecionadas."
      ]
    },
    {
      "cell_type": "code",
      "execution_count": null,
      "metadata": {
        "id": "QVyM6ZTL8pnV"
      },
      "outputs": [],
      "source": [
        "# Selecionando várias colunas\n",
        "\n",
        "df[[\"age\",\t\"marital\",\t\"default\"]]"
      ]
    },
    {
      "cell_type": "code",
      "execution_count": null,
      "metadata": {
        "id": "LIAoVJGL9FL-"
      },
      "outputs": [],
      "source": [
        "# Outras funções úteis\n",
        "\n",
        "df.dropna() # Remove missing values\n",
        "df.isna()  # Detect missing values\n",
        "df.nsmallest(5,'age')  # Exibe os n menores valores segundo certa determinada variável"
      ]
    },
    {
      "cell_type": "markdown",
      "metadata": {
        "id": "xF8tsOsu9brm"
      },
      "source": [
        "**Selecionando linhas**\n",
        "\n",
        "Para selecionar linhas em um DataFrame do pandas podemos usar os colchetes com base em critérios específicos:"
      ]
    },
    {
      "cell_type": "code",
      "execution_count": null,
      "metadata": {
        "id": "BucoHTP69cLF"
      },
      "outputs": [],
      "source": [
        "# Selecionando linhas\n",
        "df[df.marital==\"married\"]"
      ]
    },
    {
      "cell_type": "markdown",
      "metadata": {
        "id": "8SL1N-j09nnV"
      },
      "source": [
        "Para combinar critérios de seleção você pode empregar os operadores lógicos & (AND), '|' (OR) ou '!' (NOT), sendo necessário a inclusão de parênteses nas seleções."
      ]
    },
    {
      "cell_type": "code",
      "execution_count": null,
      "metadata": {
        "id": "8_1DROLR9oJ-"
      },
      "outputs": [],
      "source": [
        "# Usando AND (%)\n",
        "df[(df.marital==\"married\") & (df.age>70)]"
      ]
    },
    {
      "cell_type": "code",
      "execution_count": null,
      "metadata": {
        "id": "SJlTihq492X5"
      },
      "outputs": [],
      "source": [
        "# Usando OR (|)\n",
        "\n",
        "df[(df.marital=='married') | (df.marital=='divorced')]"
      ]
    },
    {
      "cell_type": "code",
      "execution_count": null,
      "metadata": {
        "id": "EHXBe_aY-IIW"
      },
      "outputs": [],
      "source": [
        "# Usando NOT (!)\n",
        "\n",
        "df[(df.marital!=\"married\")]"
      ]
    },
    {
      "cell_type": "markdown",
      "metadata": {
        "id": "lkGVk53V-SXe"
      },
      "source": [
        "**Selecionando colunas e linhas**\n",
        "\n",
        "Podemos selecionar primeiro as linhas (segundo uma condição) e depois selecionar as colunas desejadas."
      ]
    },
    {
      "cell_type": "code",
      "execution_count": null,
      "metadata": {
        "id": "EE519ebf-S1N"
      },
      "outputs": [],
      "source": [
        "# Uma única coluna\n",
        "\n",
        "df[df.marital==\"married\"].age"
      ]
    },
    {
      "cell_type": "code",
      "execution_count": null,
      "metadata": {
        "id": "AeOh1new-fOV"
      },
      "outputs": [],
      "source": [
        "# Várias colunas\n",
        "\n",
        "df[df.marital==\"married\"][[\"age\",\"job\",\"education\"]]"
      ]
    },
    {
      "cell_type": "markdown",
      "metadata": {
        "id": "R-XNExXV3wXX"
      },
      "source": [
        "# Visualização de dados\n",
        "\n",
        "Além da análise dos dados, também é importante usar métodos para a visualização dos mesmos. Há diversas formas de representar dados graficamente, cada uma com seu objetivo específico. Em Python, temos bibliotecas com funções úteis para a criação de gráficos, como o *mtplotlib*."
      ]
    },
    {
      "cell_type": "code",
      "execution_count": null,
      "metadata": {
        "id": "Jxzy02kz4bOi"
      },
      "outputs": [],
      "source": [
        "# Histograma\n",
        "\n",
        "plt.hist(df.age, bins=df.age.max()-df.age.min())\n",
        "plt.title('Histograma', fontsize=14, weight='bold')\n",
        "plt.show()"
      ]
    },
    {
      "cell_type": "code",
      "execution_count": null,
      "metadata": {
        "id": "uvICsg8T6CwG"
      },
      "outputs": [],
      "source": [
        "# Gráfico de barra\n",
        "\n",
        "plt.bar(df.marital.unique(),df.marital.value_counts(),color=['c','g','y'],alpha=0.5)\n",
        "plt.title('Bar plot', fontsize=14, weight='bold')"
      ]
    }
  ],
  "metadata": {
    "colab": {
      "provenance": [],
      "authorship_tag": "ABX9TyP598rJt47coiR2+adr8VaZ",
      "include_colab_link": true
    },
    "kernelspec": {
      "display_name": "Python 3",
      "name": "python3"
    },
    "language_info": {
      "name": "python"
    }
  },
  "nbformat": 4,
  "nbformat_minor": 0
}