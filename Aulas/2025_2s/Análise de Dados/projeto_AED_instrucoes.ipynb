{
  "nbformat": 4,
  "nbformat_minor": 0,
  "metadata": {
    "colab": {
      "provenance": [],
      "authorship_tag": "ABX9TyORaSfm3t7dMsqXZFRrfHHk",
      "include_colab_link": true
    },
    "kernelspec": {
      "name": "python3",
      "display_name": "Python 3"
    },
    "language_info": {
      "name": "python"
    }
  },
  "cells": [
    {
      "cell_type": "markdown",
      "metadata": {
        "id": "view-in-github",
        "colab_type": "text"
      },
      "source": [
        "<a href=\"https://colab.research.google.com/github/GuilhermePelegrina/Mackenzie/blob/main/Aulas/2025_2s/An%C3%A1lise%20de%20Dados/projeto_AED_instrucoes.ipynb\" target=\"_parent\"><img src=\"https://colab.research.google.com/assets/colab-badge.svg\" alt=\"Open In Colab\"/></a>"
      ]
    },
    {
      "cell_type": "markdown",
      "source": [
        "<img src='https://raw.githubusercontent.com/guilhermepelegrina/Mackenzie/main/logo_mackenzie.png'>"
      ],
      "metadata": {
        "id": "lIwgwfQLf3qv"
      }
    },
    {
      "cell_type": "markdown",
      "source": [
        "# **Projeto Análise Exploratória de Dados (AED) - Instruções**\n",
        "\n",
        "# Sobre o conteúdo do projeto\n",
        "\n",
        "O projeto de Análise Exploratória de Dados (AED) consiste na coleta e análise de um conjunto de dados que seja do interesse do(a) aluno(a) (ou do grupo de alunos). Pode ser qualquer conjunto de dados que possa ser analisado a partir dos comandos em Python/Pandas utilizados em aula. Ou seja, é importante que o conjunto de dados tenha um número relevante de linhas, assim como um conjunto de colunas (atributos) que possam trazer informações interessantes para o estudo.\n",
        "\n",
        "Em resumo, o projeto de AED deve compreender as seguintes etapas:\n",
        "\n",
        "- Coleta, limpeza e preparação dos dados: Informar a fonte dos dados e descrever o contexto em que eles estão inseridos. A partir dos dados coletados, selecione o que vai entrar na análise. Caso tenha linhas e/ou colunas que não serão utilizadas na análise, remova do conjunto de dados e justifique essa escolha. Nesta etapa, também modifiquem a base de dados (se necessário) de maneira a representar de forma mais clara o que são as colunas e as informações contidas nelas.\n",
        "\n",
        "- Descrição dos dados: Feitas as etapas de limpeza e preparação, é importante descrever as informações contidas nos dados, como o que representam as linhas e as colunas.\n",
        "\n",
        "- Análise dos dados: Uma vez definidos os dados que serão utilizados, partimos para a análise dos mesmos. Aqui, os alunos devem usar os comandos vistos em aula para extrair informações relevantes e resultados preliminares sobre os dados. Por exemplo, poderão ser extraídas estatísticas para grupos diferentes dos dados (segmentando em grupos distintos) e comparar os resultados obtidos. Nesta etapa, é importante pensar em tirar conclusões dos dados que muitas vezes não estão óbvias.\n",
        "\n",
        "- Visualização dos resultados: Com base nos resultados alcançados, utilizem ferramentas/comandos no Pandas para ilustrar visualmente o que foi obtido. Via de regra, a apresentação dos resultados de forma visual é mais interessante e prende mais a atenção do leitor/ouvinte. Então, use tais ferramentas para ilustrar e apresentar os resultados do projeto de AED.\n",
        "\n",
        "**Importante:** O projeto deve usar o conteúdo de todas as aulas. Para cada aula, o aluno (ou grupo) deve usar, pelo menos, dois comandos vistos em aula no projeto. Mas não precisa se limitar apenas ao conteúdo visto nas aulas.\n",
        "\n",
        "# Sobre a coleta de dados\n",
        "\n",
        "Os alunos estão livres para escolher os dados que querem analisar. Apenas é necessária a verificação junto ao professor se os dados em questão são adequados para a disciplina.\n",
        "\n",
        "Para os alunos que não possuem um conjunto de dados de interesse, há alguns repositório online que podem ser usados para extrair bases de dados. Seguem algumas dessas bases:\n",
        "\n",
        "- [Portal de dados abertos - Governo Federal](https://dados.gov.br/home),\n",
        "\n",
        "- [World Bank](https://data.worldbank.org/),\n",
        "\n",
        "- [Kaggle Datasets](https://www.kaggle.com/datasets?fileType=csv),\n",
        "\n",
        "- [Mendeley Data](https://data.mendeley.com/),\n",
        "\n",
        "- [Industrial ML Dataset](https://github.com/nicolasj92/industrial-ml-datasets?tab=readme-ov-file),\n",
        "\n",
        "- [UCI Machine Learning Repository](https://archive.ics.uci.edu/datasets),\n",
        "\n",
        "- [Fraunhofer Big Data AI](https://www.bigdata-ai.fraunhofer.de/s/datasets/index.html).\n",
        "\n",
        "\n",
        "Claro, outros repositórios e bases de dados que o(a) aluno(a) se deparar e interessar podem ser usados. Apenas lembrem-se de referenciar de onde eles foram retirados.\n",
        "\n",
        "# Sobre a escrita e entrega do projeto\n",
        "\n",
        "O projeto deverá ser feito através do Google Colab. Tanto os códigos utilizados (para ler, manipular, analisar e visualizar os dados) quanto o relatório escrito devem estar contidos em um único arquivo do Google Colab. Então, criem um arquivo no Google Colab, insira as informações dos integrantes e, na sequência, façam o relatório do projeto com todas as análises.\n",
        "\n",
        "Uma vez finalizado o relatório, façam o download do arquivo *.ipynb* e, também, imprimam o *.pdf* com o notebook. Para isso, siga os seguintes passos:\n",
        "\n",
        "- Antes de salvar os arquivos, confira se o relatório está completo (com todas as análises e conclusões).\n",
        "\n",
        "- Para fazerem o download do notebook no formato `.ipynb`, cliquem em *Arquivo* - *Fazer download* - *Fazer o download do .ipynb*. Salvem o arquivo com os nomes dos integrantes do grupo. Exemplo: Lucas_Ana.ipynb).\n",
        "\n",
        "- Para fazerem o download do notebook no formato `.pdf`, cliquem em *Arquivo* - *Imprimir*. Salvem o arquivo com o mesmo nome do arquivo *.ipynb*. Confira se o arquivo contém todos os códigos e análises.\n",
        "\n",
        "- Após fazerem o download dos arquivos, submetam os mesmos no Moodle. Para isso, acessem o Moodle, vá até o tópico *Projeto AED* - *Envio do Projeto AED* e enviem os arquivos. **Lembre-se de finalizar o envio!**\n",
        "\n",
        "O projeto deverá ser entregue via Moodle até o final do domingo anterior à apresentação do aluno (ou grupo). Caso seja feito em grupo, o envio por um dos integrantes já é suficiente.\n",
        "\n",
        "# Sobre a avaliação do projeto\n",
        "\n",
        "A avaliação do projeto de AED levará em conta os sequintes aspectos:\n",
        "\n",
        "- Limpeza, preparação e descrição dos dados (1,0 ponto),\n",
        "\n",
        "- Análise dos dados e resultados obtidos (1,5 pontos),\n",
        "\n",
        "- Apresentação visual dos resultados (1,5 pontos),\n",
        "\n",
        "- Apresentação do projeto (3,0 pontos),\n",
        "\n",
        "- Participação em aula (presencial) trabalhando no projeto (3,0 pontos)."
      ],
      "metadata": {
        "id": "teRMSe61f5ZW"
      }
    }
  ]
}