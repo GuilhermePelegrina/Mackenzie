{
  "nbformat": 4,
  "nbformat_minor": 0,
  "metadata": {
    "colab": {
      "provenance": [],
      "authorship_tag": "ABX9TyPvM0QG+sZQcHQLHw/VdKui",
      "include_colab_link": true
    },
    "kernelspec": {
      "name": "python3",
      "display_name": "Python 3"
    },
    "language_info": {
      "name": "python"
    }
  },
  "cells": [
    {
      "cell_type": "markdown",
      "metadata": {
        "id": "view-in-github",
        "colab_type": "text"
      },
      "source": [
        "<a href=\"https://colab.research.google.com/github/GuilhermePelegrina/Mackenzie/blob/main/Aulas/An%C3%A1lise%20de%20Dados/Aula_03_Pandas_Aquisicao_Descricao.ipynb\" target=\"_parent\"><img src=\"https://colab.research.google.com/assets/colab-badge.svg\" alt=\"Open In Colab\"/></a>"
      ]
    },
    {
      "cell_type": "markdown",
      "source": [
        "<img src='https://raw.githubusercontent.com/guilhermepelegrina/Mackenzie/main/logo_mackenzie.png'>\n"
      ],
      "metadata": {
        "id": "DWHOAvRFK7wd"
      }
    },
    {
      "cell_type": "markdown",
      "source": [
        "# **Introdução à biblioteca Pandas: Criação, leitura e descrição estatística dos dados.**\n",
        "\n",
        "Nesta aula, iniciamos a Análise de Dados usando a biblioteca (API) Pandas em Python. Dentro dessa biblioteca, temos diversas funções e ferramentas úteis para manipulação e análise de dados orientada a colunas.\n",
        "\n",
        "Há dois tipos de estruturas usadas em Pandas para manipular os dados:\n",
        "\n",
        "- `DataFrame`: seria como uma tabela de dados relacionais, com linhas e colunas nomeadas, como no Excel.\n",
        "\n",
        "- `Series`: é uma única coluna de dados, também nomeada. O `DataFrame` contém uma ou mais `Series` com um nome para cada uma delas.\n",
        "\n",
        "Ao longo da disciplina, veremos muitas dessas funções. Um resumo dessas funções pode ser acessada em [Pandas_Cheat_Sheet](https://pandas.pydata.org/Pandas_Cheat_Sheet.pdf). Para quem tiver interesse em se aprofundar mais sobre o uso do Pandas, acesse a página [Pandas web page](https://pandas.pydata.org/)."
      ],
      "metadata": {
        "id": "vSp4QD_aK-Ck"
      }
    },
    {
      "cell_type": "markdown",
      "source": [
        "## Importando as bibliotecas Pandas e Numpy"
      ],
      "metadata": {
        "id": "Aswnp2gCtRJU"
      }
    },
    {
      "cell_type": "code",
      "execution_count": null,
      "metadata": {
        "id": "LNy4DYDUKogG"
      },
      "outputs": [],
      "source": [
        "import pandas as pd\n",
        "import numpy as np"
      ]
    },
    {
      "cell_type": "markdown",
      "source": [
        "## Criando uma Series e um DataFrame\n",
        "\n",
        "Uma `Series` pode ser criada a partir de uma lista. Já o `Dataframe`, usamos uma estrutura de dicionário."
      ],
      "metadata": {
        "id": "_mcWS08ltY1D"
      }
    },
    {
      "cell_type": "code",
      "source": [
        "nomes = pd.Series(['Pedro', 'Carol', 'Ana'])\n",
        "ano = pd.Series([3, 5, 2])\n",
        "\n",
        "dados = pd.DataFrame({ 'Alunos': nomes, 'Ano_Letivo': ano })\n",
        "\n",
        "dados"
      ],
      "metadata": {
        "id": "Q3SCdsCmteW8"
      },
      "execution_count": null,
      "outputs": []
    },
    {
      "cell_type": "markdown",
      "source": [
        "Também podemos criar o `DataFrame` adicionando os dados (sem usar `Series` já criadas), como no exemplo abaixo."
      ],
      "metadata": {
        "id": "bhVOfYU7u_lf"
      }
    },
    {
      "cell_type": "code",
      "source": [
        "dados_df = pd.DataFrame({'Alunos': ['João', 'Matheus', 'Maria'],\n",
        "                        'Ano_Letivo': [1, 3, 2],\n",
        "                        'Cidade': ['São Paulo', 'Cajamar', 'Americana']})\n",
        "\n",
        "dados_df"
      ],
      "metadata": {
        "id": "IY6IRy1RvS4z"
      },
      "execution_count": null,
      "outputs": []
    },
    {
      "cell_type": "markdown",
      "source": [
        "## Lendo e salvando um DataFrame\n",
        "\n",
        "Embora temos a opção de criar dados de uma maneira \"manual\", é mais comum trabalharmos com conjunto de dados já prontos. A partir do Pandas, podemos ler e gravar dados de diferetnes fontes como arquivos. Exemplos são arquivos em .csv, .xlsx e bancos de dados sql (dentre outros). A tabela seguir mostra os comandos para ler a salvar dados de diversos formatos.\n",
        "\n",
        "| Format        | Read           | Save          |\n",
        "| ------------- |:--------------:| ----------------:|\n",
        "| csv           | `pd.read_csv()`  |`df.to_csv()`     |\n",
        "| json          | `pd.read_json()` |`df.to_json()`    |\n",
        "| xlsx          | `pd.read_excel()`|`df.to_excel()`   |\n",
        "| hdf           | `pd.read_hdf()`  |`df.to_hdf()`     |\n",
        "| sql           | `pd.read_sql()`  |`df.to_sql()`     |\n"
      ],
      "metadata": {
        "id": "YFRJyDiGw7Pt"
      }
    },
    {
      "cell_type": "markdown",
      "source": [
        "**Lendo dados da internet**"
      ],
      "metadata": {
        "id": "7HJWJli4cHQ_"
      }
    },
    {
      "cell_type": "code",
      "source": [
        "# Bank Marketing\n",
        "\n",
        "# Note que, para os arquivos .csv, às vezes é necessário indicar como as colunas estão separadas (por \",\" ou \";\")\n",
        "\n",
        "df1 = pd.read_csv(\"https://raw.githubusercontent.com/guilhermepelegrina/Mackenzie/main/Datasets/data_bank_marketing.csv\", sep = ';')\n",
        "df1"
      ],
      "metadata": {
        "id": "VpbAdUjqyKeL"
      },
      "execution_count": null,
      "outputs": []
    },
    {
      "cell_type": "code",
      "source": [
        "# Bitcoin Prices\n",
        "\n",
        "df2 = pd.read_excel(\"https://raw.githubusercontent.com/guilhermepelegrina/Mackenzie/main/Datasets/data_bitcoin_prices.xlsx\")\n",
        "df2"
      ],
      "metadata": {
        "id": "x6lV4LvTzasW"
      },
      "execution_count": null,
      "outputs": []
    },
    {
      "cell_type": "markdown",
      "source": [
        "**Salvando um DataFrame no ambiente local do Colab e carregando dados**"
      ],
      "metadata": {
        "id": "LaUKXdXxcO9v"
      }
    },
    {
      "cell_type": "code",
      "source": [
        "# Retornando o diretorio de trabalho\n",
        "\n",
        "import os\n",
        "os.getcwd()"
      ],
      "metadata": {
        "id": "fYrnKKZz0DbW"
      },
      "execution_count": null,
      "outputs": []
    },
    {
      "cell_type": "code",
      "source": [
        "# Salvando no ambiente local\n",
        "\n",
        "df1.to_csv('/content/my_df.csv',index=False)\n",
        "\n",
        "# Carregando os dados a partir do ambiente local\n",
        "\n",
        "dfnew = pd.read_csv('/content/my_df.csv')\n",
        "dfnew"
      ],
      "metadata": {
        "id": "e7tA2LuM0GPD"
      },
      "execution_count": null,
      "outputs": []
    },
    {
      "cell_type": "markdown",
      "source": [
        "**Carregando arquivos do computador e salvando arquivos**\n",
        "\n",
        "Você pode querer carregar arquivos no Colab a partir de arquivos queestão no seu computador. Para isso o comando `files.upload` permite selecionar um ou mais arquivos para upload no ambiente de execução do Colab."
      ],
      "metadata": {
        "id": "QsucrQPWcx64"
      }
    },
    {
      "cell_type": "code",
      "source": [
        "from google.colab import files\n",
        "\n",
        "uploaded = files.upload()\n",
        "\n",
        "for fn in uploaded.keys():\n",
        "  print('User uploaded file \"{name}\" with length {length} bytes'.format(\n",
        "      name=fn, length=len(uploaded[fn])))"
      ],
      "metadata": {
        "id": "Rfz0cYfrYu2g"
      },
      "execution_count": null,
      "outputs": []
    },
    {
      "cell_type": "markdown",
      "source": [
        "Já o comando `files.download` faz o download do arquivo pelo navegador para seu computador local."
      ],
      "metadata": {
        "id": "EkaLcgIIZu9u"
      }
    },
    {
      "cell_type": "code",
      "source": [
        "files.download('my_df.csv')"
      ],
      "metadata": {
        "id": "ae8r1h0OZCrn"
      },
      "execution_count": null,
      "outputs": []
    },
    {
      "cell_type": "markdown",
      "source": [
        "## Extraindo informações sobre a estrutura dos dados\n",
        "\n",
        "Antes de manipularmos e analisarmos os dados coletados, é interessante visualizar algumas informações básicas sobre a estrutura dos dados. Os comandos a seguir são muito úteis para essa tarefa.\n",
        "\n",
        "- `df.head()`: Permite visualizar as primeiras linhas do `DataFrame`.\n",
        "- `df.tail()`: Permite visualizar as últimas linhas do `DataFrame`. Tanto para o `df.head()` quanto para o `df.tail()`, a Python, por padrão, apresenta as 5 primeiras ou últimas linhas. Mas podemos especificar quantas linhas queremos colocando o valor desejado entre os parênteses.\n",
        "- `df.shape`: Fornece o número de linhas e o número de colunas do `DataFrame`.\n",
        "- `len(df)`: Fornece o número de linhas `DataFrame`.\n",
        "- `df.columns.to_list()`: Extrai os nomes das linhas e salva em uma lista.\n",
        "- `df.dtypes`: Extrai os tipos dos atributos.\n",
        "- `df.info()`: Extrai informações sobre tipo e tamanho das colunas\n",
        "- `df.describe()`: Extrai informações estatísticas sobre os dados.\n"
      ],
      "metadata": {
        "id": "eU3mBCEa1cjl"
      }
    },
    {
      "cell_type": "code",
      "source": [
        "# Visualizando as primeiras linhas\n",
        "\n",
        "df1.head()"
      ],
      "metadata": {
        "id": "Kl-pyKNc3DbE"
      },
      "execution_count": null,
      "outputs": []
    },
    {
      "cell_type": "code",
      "source": [
        "# Visualizando as últimas linhas\n",
        "\n",
        "df1.tail(8)"
      ],
      "metadata": {
        "id": "Do5hU2Qc3kXt"
      },
      "execution_count": null,
      "outputs": []
    },
    {
      "cell_type": "code",
      "source": [
        "# Extraindo o número de linhas e de colunas\n",
        "\n",
        "df1.shape"
      ],
      "metadata": {
        "id": "wvybuc113_Zk"
      },
      "execution_count": null,
      "outputs": []
    },
    {
      "cell_type": "code",
      "source": [
        "# Extraindo o número de linhas e de colunas\n",
        "\n",
        "len(df1)"
      ],
      "metadata": {
        "id": "ACeqs0SP4E7D"
      },
      "execution_count": null,
      "outputs": []
    },
    {
      "cell_type": "code",
      "source": [
        "# Extraindo o nome das colunas e salvando em uma lista\n",
        "\n",
        "lista_colunas = df1.columns.to_list()\n",
        "print(lista_colunas)"
      ],
      "metadata": {
        "id": "Kf3Zmrf65hiM"
      },
      "execution_count": null,
      "outputs": []
    },
    {
      "cell_type": "code",
      "source": [
        "# Extraindo o tipo dos atributos (em cada coluna)\n",
        "\n",
        "df1.dtypes"
      ],
      "metadata": {
        "id": "bEfzlmg26gSE"
      },
      "execution_count": null,
      "outputs": []
    },
    {
      "cell_type": "code",
      "source": [
        "# Extrai informações sobre tipo e tamanho das colunas\n",
        "\n",
        "df1.info()"
      ],
      "metadata": {
        "id": "JAIrc_9V69xq"
      },
      "execution_count": null,
      "outputs": []
    },
    {
      "cell_type": "code",
      "source": [
        "# Extraindo informações estatísticas sobre os dados.\n",
        "\n",
        "df1.describe()"
      ],
      "metadata": {
        "id": "-2r2Zwoa7c39"
      },
      "execution_count": null,
      "outputs": []
    },
    {
      "cell_type": "markdown",
      "source": [
        "## Selecionando dados\n",
        "\n",
        "Uma vez coletados os dados e visualidas as informações contidas neles, é comum partirmos para uma etapa de seleção de dados. Muito provavelmente, apenas parte dos dados serão usados para análise. Por exemplo, se estamos interessados em prever a demanda de um determinado produto a ser vendido na cidade de São Paulo, podemos excluir da base de dados informações relativas a outras cidades do estado, uma vez que não são relevantes para o nosso objetivo. Há, também, casos em que temos colunas no conjunto de dados que não servem exatamente para análise (ID de pacientes em hospitais, por exemplo)."
      ],
      "metadata": {
        "id": "_mKrpS408qFk"
      }
    },
    {
      "cell_type": "markdown",
      "source": [
        "# Seleção de colunas\n",
        "\n",
        "Primeiramente, vamos focar em selecionar colunas que interessam para nossa Análise dos Dados. Lembre-se que colunas em um `DataFrame` são `Series` do Pandas. Então, ao extrair uma única coluna, estamos selecionado uma `Series` do conjunto de dados.\n",
        "\n",
        "Há basicamente duas formas de seleção de colunas."
      ],
      "metadata": {
        "id": "Cth-9-TB97Ym"
      }
    },
    {
      "cell_type": "code",
      "source": [
        "idade1 = df1.age\n",
        "\n",
        "print(idade1)"
      ],
      "metadata": {
        "id": "xkp6zHYI-CRr"
      },
      "execution_count": null,
      "outputs": []
    },
    {
      "cell_type": "code",
      "source": [
        "idade2 = df1['age']\n",
        "\n",
        "print(idade2)"
      ],
      "metadata": {
        "id": "eRJqsD2k-oy1"
      },
      "execution_count": null,
      "outputs": []
    },
    {
      "cell_type": "markdown",
      "source": [
        "*dica*: A segunda forma (`df1['age']`) é útil quando temos nomes de atributos com espaços ou caracteres especiais."
      ],
      "metadata": {
        "id": "CjO4an3_-20D"
      }
    },
    {
      "cell_type": "markdown",
      "source": [
        "Dependendo do que queremos analisar a partir da `Series` coletado, pode ser útil transformá-la em uma lista para poder realizar operações sobre esse tipo de objeto."
      ],
      "metadata": {
        "id": "icmyM2VW_Sgy"
      }
    },
    {
      "cell_type": "code",
      "source": [
        "estado_civil = df1.marital\n",
        "estado_civil = estado_civil.to_list()\n",
        "estado_civil.count('married')"
      ],
      "metadata": {
        "id": "I--wALmw-CTi"
      },
      "execution_count": null,
      "outputs": []
    },
    {
      "cell_type": "markdown",
      "source": [
        "# Extraindo estatísticas individuais de cada `Series`\n",
        "\n",
        "Quando usamos `df.describe()`, obtemos as estatísticas gerais de todos os atributos. Mas também podemos extrair essas características de cada coluna, individualmente. Ou seja, a partir de uma `Series` extraída do `DataFrame`, podemos aplicar calcular as estatísticas."
      ],
      "metadata": {
        "id": "OOLivhAZ_1Y9"
      }
    },
    {
      "cell_type": "code",
      "source": [
        "# Média, Desvio-padrão, Máximo e Mínimo\n",
        "\n",
        "print(df1.age.mean())\n",
        "print('Desvio-padrão:', f'{df1.age.std() :.2f}')\n",
        "print( df1.age.max() , ',' , df1.age.min() )"
      ],
      "metadata": {
        "id": "UOlEHU1cAdyK"
      },
      "execution_count": null,
      "outputs": []
    },
    {
      "cell_type": "code",
      "source": [
        "# Percentis: Mediana\n",
        "\n",
        "df1.age.quantile()"
      ],
      "metadata": {
        "id": "jrM09XYqBTz9"
      },
      "execution_count": null,
      "outputs": []
    },
    {
      "cell_type": "code",
      "source": [
        "# Diferentes percentis\n",
        "\n",
        "df1.age.quantile([0, 0.25, 0.5, 0.9])"
      ],
      "metadata": {
        "id": "89qUyUIuBkpJ"
      },
      "execution_count": null,
      "outputs": []
    },
    {
      "cell_type": "markdown",
      "source": [
        "## Estraindo informações sobre dados categóricos\n",
        "\n",
        "Nos exemplos mencionados acima onde calculamos estatísticas dos dados, isso só foi possível porque as variáveis eram numéricas (contínuas ou discretas). No entanto, em diversos conjunto de dados, há também atributos categóricos. Esses atributos podem ser ordinais, quando há uma noção de ordem (como o nível de escolaridade), ou nominais, quando não há uma noção de ordem (como o sexo).\n",
        "\n",
        "para variáveis categóricas, os seguintes comandos extraem informações úteis."
      ],
      "metadata": {
        "id": "pctV5WLcRA67"
      }
    },
    {
      "cell_type": "code",
      "source": [
        "# Apresenta o número de categorias\n",
        "\n",
        "df1.marital.nunique()"
      ],
      "metadata": {
        "id": "bPTKUDQISAq4"
      },
      "execution_count": null,
      "outputs": []
    },
    {
      "cell_type": "code",
      "source": [
        "# Apresenta quais são as categorias\n",
        "\n",
        "df1.marital.unique()"
      ],
      "metadata": {
        "id": "bdQEP8SUSAu3"
      },
      "execution_count": null,
      "outputs": []
    },
    {
      "cell_type": "code",
      "source": [
        " # Apresenta a frequência de cada categoria\n",
        "\n",
        "df1.marital.value_counts()"
      ],
      "metadata": {
        "id": "Hd8PTvgSSGCJ"
      },
      "execution_count": null,
      "outputs": []
    },
    {
      "cell_type": "markdown",
      "source": [
        "## Selecionando mais de uma coluna\n",
        "\n",
        "Até aqui você selecionou uma única coluna, do tipo `Series` do Pandas. Mas podemos também selecionar mais colunas na classe `pd.DataFrame`.\n",
        "\n",
        "Primeiramente, vamos recordar quais são as colunas do nosso `DataFrame`."
      ],
      "metadata": {
        "id": "3dStPrAMT7A_"
      }
    },
    {
      "cell_type": "code",
      "source": [
        "df1.columns"
      ],
      "metadata": {
        "id": "81W89e5PVYbI"
      },
      "execution_count": null,
      "outputs": []
    },
    {
      "cell_type": "markdown",
      "source": [
        "Agora, vamos criar um novo `DataFrame` que é um subconjunto (das colunas) do original."
      ],
      "metadata": {
        "id": "J5AamaS1VdNW"
      }
    },
    {
      "cell_type": "code",
      "source": [
        "df2 = df1[['age', 'marital', 'loan']]\n",
        "df2.head()"
      ],
      "metadata": {
        "id": "RHUWDDbEVb_Y"
      },
      "execution_count": null,
      "outputs": []
    },
    {
      "cell_type": "markdown",
      "source": [
        "## Alterando valores das colunas\n",
        "\n",
        "Em certos casos, é interessante alterar valores de uma coluna para, por exemplo, converter os valores para uma outra unidade de medida."
      ],
      "metadata": {
        "id": "YuqDwo0LWoFS"
      }
    },
    {
      "cell_type": "code",
      "source": [
        "sec_para_min = 1/60\n",
        "df1['duration'] = df1['duration'] * sec_para_min\n",
        "\n",
        "min_para_hora = 1/60\n",
        "df1['duration_hora'] = df1['duration'] * min_para_hora\n",
        "\n",
        "df1.head()"
      ],
      "metadata": {
        "id": "aXA9-f-YXUKw"
      },
      "execution_count": null,
      "outputs": []
    },
    {
      "cell_type": "markdown",
      "source": [],
      "metadata": {
        "id": "3ktiTVGTmBGd"
      }
    },
    {
      "cell_type": "markdown",
      "source": [
        "# **Exercício**\n",
        "\n",
        "Este exercício contará como parte das Atividades Práticas que vão compor a nota T1 do primeiro período.\n",
        "\n",
        "O exercício proposto usa a base de dados contida no link abaixo (Auto MPG):\n",
        "\n",
        "https://raw.githubusercontent.com/guilhermepelegrina/Mackenzie/main/Datasets/data_mpg.csv\n",
        "\n",
        "Este conjunto de dados descreve o consumo de diferentes carros (medido pelo número de milhas percorridas com o uso de um galão de gasolina) com base no seguinte conjunto de características de tais carros:\n",
        "\n",
        "- cylinders -> Número de cilíndros.\n",
        "\n",
        "- displacement -> Capacidade do motor.\n",
        "\n",
        "- horsepower -> Potência (cavalo-vapor).\n",
        "\n",
        "- weight -> Peso.\n",
        "\n",
        "- acceleration -> Tempo, em segundos, até atingir a velocidade de 100 km/h (partindo do carro em repouso).\n",
        "\n",
        "- model_year -> Ano do modelo do carro\n",
        "\n",
        "- origin -> Local de produção do carro.\n",
        "\n",
        "- name -> Nome do modelo do carro.\n"
      ],
      "metadata": {
        "id": "ZppNyPShlZGo"
      }
    },
    {
      "cell_type": "markdown",
      "source": [
        "Responda as questões com base nos conceitos / códigos vistos nesta aula."
      ],
      "metadata": {
        "id": "SJ4KJFHqmOfm"
      }
    }
  ]
}