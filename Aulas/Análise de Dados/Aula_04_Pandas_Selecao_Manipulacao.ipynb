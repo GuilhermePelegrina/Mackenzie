{
  "nbformat": 4,
  "nbformat_minor": 0,
  "metadata": {
    "colab": {
      "provenance": [],
      "authorship_tag": "ABX9TyMGhP6gkomEqr+m6gEv7slT",
      "include_colab_link": true
    },
    "kernelspec": {
      "name": "python3",
      "display_name": "Python 3"
    },
    "language_info": {
      "name": "python"
    }
  },
  "cells": [
    {
      "cell_type": "markdown",
      "metadata": {
        "id": "view-in-github",
        "colab_type": "text"
      },
      "source": [
        "<a href=\"https://colab.research.google.com/github/GuilhermePelegrina/Mackenzie/blob/main/Aulas/An%C3%A1lise%20de%20Dados/Aula_04_Pandas_Selecao_Manipulacao.ipynb\" target=\"_parent\"><img src=\"https://colab.research.google.com/assets/colab-badge.svg\" alt=\"Open In Colab\"/></a>"
      ]
    },
    {
      "cell_type": "markdown",
      "source": [
        "<img src='https://raw.githubusercontent.com/guilhermepelegrina/Mackenzie/main/logo_mackenzie.png'>\n"
      ],
      "metadata": {
        "id": "Lno00JJsqdY7"
      }
    },
    {
      "cell_type": "markdown",
      "source": [
        "# **Seleção e manipulação de dados.**\n",
        "\n",
        "Nesta aula, retomaremos os códigos sobre seleção de dados. Na aula passada, falamos um pouco sobre seleção de colunas. Nesta aula, também veremos como selecionar dados com base em linhas. Além disso, aprenderemos como selecionar um subconjunto de dados a partir de linhas e colunas específicas."
      ],
      "metadata": {
        "id": "DygIHwg-qiah"
      }
    },
    {
      "cell_type": "markdown",
      "source": [
        "## Importando a biblioteca Pandas e lendo os dados\n",
        "\n",
        "Vamos usar como exemplo desta o mesmo conjunto de dados da aula anterior ([Bank Marketing](https://archive.ics.uci.edu/dataset/222/bank+marketing))"
      ],
      "metadata": {
        "id": "Aswnp2gCtRJU"
      }
    },
    {
      "cell_type": "code",
      "execution_count": null,
      "metadata": {
        "id": "LNy4DYDUKogG"
      },
      "outputs": [],
      "source": [
        "import pandas as pd\n",
        "\n",
        "# Bank Marketing\n",
        "\n",
        "df1 = pd.read_csv(\"https://raw.githubusercontent.com/guilhermepelegrina/Mackenzie/main/Datasets/data_bank_marketing.csv\", sep = ';')\n",
        "df1"
      ]
    },
    {
      "cell_type": "markdown",
      "source": [
        "# Relembrando: Seleção de colunas\n",
        "\n",
        "Lembre-se que há basicamente duas formas de seleção de uma única coluna de maneira que os dados resultantes são guardados em uma `Series`. Ambas produzem o mesmo resultado, mas a segunda é recomendada quando o nome da coluna que quer selecionar possui caracteres especiais ou espaços.\n",
        "\n",
        "Esse tipo de seleção é indicado quando apenas um atributo é interessante para a Análise de Dados em questão (o que dificilmente será o caso).\n"
      ],
      "metadata": {
        "id": "Cth-9-TB97Ym"
      }
    },
    {
      "cell_type": "code",
      "source": [
        "idade1 = df1.age\n",
        "\n",
        "print(idade1)"
      ],
      "metadata": {
        "id": "xkp6zHYI-CRr"
      },
      "execution_count": null,
      "outputs": []
    },
    {
      "cell_type": "code",
      "source": [
        "idade2 = df1['age']\n",
        "\n",
        "print(idade2)"
      ],
      "metadata": {
        "id": "eRJqsD2k-oy1"
      },
      "execution_count": null,
      "outputs": []
    },
    {
      "cell_type": "code",
      "source": [
        "print(type(idade1), type(idade2))"
      ],
      "metadata": {
        "id": "PbPZkMbd2_lX"
      },
      "execution_count": null,
      "outputs": []
    },
    {
      "cell_type": "markdown",
      "source": [
        "Além dos códigos acima para selecionar uma única coluna, também podemos usar a seguinte estrutura para a mesma tarefa. No entanto, o conjunto de dados resultante é um `DataFrame` ao invés de uma `Series`."
      ],
      "metadata": {
        "id": "v5cz-qLP6t5E"
      }
    },
    {
      "cell_type": "code",
      "source": [
        "idade3 = df1[['age']]\n",
        "\n",
        "print(idade3)"
      ],
      "metadata": {
        "id": "ms0jHFOr69cA"
      },
      "execution_count": null,
      "outputs": []
    },
    {
      "cell_type": "code",
      "source": [
        "print(type(idade3))"
      ],
      "metadata": {
        "id": "Wod6lVS37FZx"
      },
      "execution_count": null,
      "outputs": []
    },
    {
      "cell_type": "markdown",
      "source": [
        "Essa diferenciação entre extrair uma `Series` ou uma `DataFrame` é importante pois algumas operações são específicas para `Series`, não sendo portanto aplicáveis às `DataFrames` do Pandas."
      ],
      "metadata": {
        "id": "-tOJoSHW39Vx"
      }
    },
    {
      "cell_type": "code",
      "source": [
        "# Exemplo: .to_list() é válido apenas para Series\n",
        "\n",
        "print(idade1.to_list())"
      ],
      "metadata": {
        "id": "w7VrajOL4WD_"
      },
      "execution_count": null,
      "outputs": []
    },
    {
      "cell_type": "code",
      "source": [
        "print(df1.to_list())"
      ],
      "metadata": {
        "id": "UkhY7S7t5IRA"
      },
      "execution_count": null,
      "outputs": []
    },
    {
      "cell_type": "markdown",
      "source": [
        "Além de selecionar uma única coluna, podemos também estar interessados em extrair um conjunto de colunas do conjunto de dados. Essa operação é mais utilizada em Análise de Dados, uma vez que procuramos interpretar as informações contidas em vários atributos. Com isso, podemos relacionar os dados, extrair estatísticas e comparar as informações coletadas.\n",
        "\n",
        "Para isso, usamos os códigos abaixo."
      ],
      "metadata": {
        "id": "TkeCVszw1-fw"
      }
    },
    {
      "cell_type": "code",
      "source": [
        "# Nomes das colunas\n",
        "\n",
        "df1.columns"
      ],
      "metadata": {
        "id": "X9wDuZJ120-I"
      },
      "execution_count": null,
      "outputs": []
    },
    {
      "cell_type": "code",
      "source": [
        "# Selecionando as colunas\n",
        "\n",
        "df2 = df1[['age', 'marital', 'loan']]\n",
        "df2.head()"
      ],
      "metadata": {
        "id": "MdbbbIFE23ye"
      },
      "execution_count": null,
      "outputs": []
    },
    {
      "cell_type": "markdown",
      "source": [
        "Veja que, neste caso, quando selecionamos um conjunto de colunas temos como resultado um `DataFrame` ao invés de uma `Series`."
      ],
      "metadata": {
        "id": "dGWWHagf3TLa"
      }
    },
    {
      "cell_type": "code",
      "source": [
        "print(type(df2))"
      ],
      "metadata": {
        "id": "tMP6zE8u3ezF"
      },
      "execution_count": null,
      "outputs": []
    },
    {
      "cell_type": "markdown",
      "source": [
        "# Seleção de linhas\n",
        "\n",
        "Até agora, vimos apenas como selecionar colunas. Essa tarefa talvez seja bem intuitiva uma vez que essa seleção leva em conta um conjunto de dados que já possui um nome (o nome da coluna).\n",
        "\n",
        "No entanto, também é muito útil selecionar dados com base valores das linhas. Por exemplo, você poderia estar interessado em analisar apenas os clientes (que estão nas linhas) que possuem 45 anos ou mais. Ou ainda, os clientes que são casados.\n",
        "\n",
        "Percebam que as linhas não possuem nomes (como no caso das colunas). Então, a seleção com base em linhas necessita de um predicado lógico. Ele é utilizado da seguinte forma:\n",
        "\n",
        "`df[ condição de seleção ]`\n",
        "\n",
        "Exemplos:\n",
        "\n",
        "`df[ nome_coluna == valor ]`, onde `==` indica uma igualdade\n",
        "\n",
        "`df[ nome_coluna != valor ]`, onde `!=` indica uma diferença\n",
        "\n",
        "`df[ nome_coluna > valor ]`, onde `!=` indica uma desigualdade\n",
        "\n",
        "Veja os exemplos abaixo:\n"
      ],
      "metadata": {
        "id": "h6WmSdje7RYn"
      }
    },
    {
      "cell_type": "code",
      "source": [
        "# Selecionando clientes com idade de no mínimo 45 anos\n",
        "\n",
        "df3 = df1[df1.age >= 45]\n",
        "df3.head()"
      ],
      "metadata": {
        "id": "Mqj6A-EiTEoo"
      },
      "execution_count": null,
      "outputs": []
    },
    {
      "cell_type": "code",
      "source": [
        "# Selecionando clientes casados\n",
        "\n",
        "df4 = df1[df1.marital == 'married']\n",
        "df4.head()"
      ],
      "metadata": {
        "id": "Bj4XFlZyTp6q"
      },
      "execution_count": null,
      "outputs": []
    },
    {
      "cell_type": "markdown",
      "source": [
        "Note que a quantidade de linhas nesse novo `DataFrame` ao selecionar apenas clientes casados é equivalente à frequência associada à categoria `married` calculada na aula anterior."
      ],
      "metadata": {
        "id": "lVM1wx3KS8DK"
      }
    },
    {
      "cell_type": "code",
      "source": [
        "# Calculando a frequência de cada categoria\n",
        "\n",
        "df1.marital.value_counts()"
      ],
      "metadata": {
        "id": "Vh1tSUc1Uxsh"
      },
      "execution_count": null,
      "outputs": []
    },
    {
      "cell_type": "code",
      "source": [
        "# Selecionando linhas e calculando o número de linhas resultantes\n",
        "\n",
        "print(len(df1[df1.marital == 'married']))"
      ],
      "metadata": {
        "id": "whAoyZN6Upnv"
      },
      "execution_count": null,
      "outputs": []
    },
    {
      "cell_type": "markdown",
      "source": [
        "Ou, ainda, podemos calcular a porcentagem de pessoas casadas nessa base de dados."
      ],
      "metadata": {
        "id": "0q1ulBtuVVqa"
      }
    },
    {
      "cell_type": "code",
      "source": [
        "# Calculando a porcentagem das pessoas casadas\n",
        "\n",
        "print(len(df1[df1.marital == 'married'])/len(df1))"
      ],
      "metadata": {
        "id": "zsSwiR-JVaAZ"
      },
      "execution_count": null,
      "outputs": []
    },
    {
      "cell_type": "markdown",
      "source": [
        "# Seleção de linhas e colunas\n",
        "\n",
        "Na seleção de linhas que acabamos de ver, temos como resultado todas as colunas cujas linhas respeitam uma certa condição. Mas há a opção de selecionarmos um subconjunto de colunas com base em condições sobre as linhas. Esse procedimento resulta em um *Slice* (ou fatia) dos dados. Via de regra, primeiro fazemos a seleção das linhas e, em seguida (mas na mesma linha de código), as colunas. A sintaxe é dessa forma:\n",
        "\n",
        "df [ condição de seleção ].nome_coluna (o resultado é uma `Series`)\n",
        "\n",
        "df [ condição de seleção ]['nome_coluna'] (o resultado é uma `Series`)\n",
        "\n",
        "df [ critério de seleção ][ [lista-de-colunas] ] (o resultado é um `DataFrame`)\n",
        "\n",
        "Com isso, podemos analisar os dados fragmentando as informações e extraindo resultados específicos para subconjunto de dados."
      ],
      "metadata": {
        "id": "1VZhS58dVrpf"
      }
    },
    {
      "cell_type": "code",
      "source": [
        "# Dos clientes maiores de 60 anos, qual foi a duração média das ligações?\n",
        "\n",
        "print('A duração média das ligações foi de', df1[df1.age > 60].duration.mean())"
      ],
      "metadata": {
        "id": "hkL71hwKXaw5"
      },
      "execution_count": null,
      "outputs": []
    },
    {
      "cell_type": "code",
      "source": [
        "# Dos clientes de no máximo de 30 anos, qual foi a duração média das ligações?\n",
        "\n",
        "print('A duração média das ligações foi de', df1[df1.age <= 30].duration.mean())"
      ],
      "metadata": {
        "id": "e3dpf94nZFPc"
      },
      "execution_count": null,
      "outputs": []
    },
    {
      "cell_type": "code",
      "source": [
        "# Quantos anos tem a pessoa solteira mais velha desse conjunto de dados?\n",
        "\n",
        "print(df1[df1.marital == 'single'].age.max(), 'anos')"
      ],
      "metadata": {
        "id": "i6Su-_mpZWUp"
      },
      "execution_count": null,
      "outputs": []
    },
    {
      "cell_type": "code",
      "source": [
        "# Quantos anos tem a pessoa casada mais nova desse conjunto de dados?\n",
        "\n",
        "print(df1[df1.marital == 'married'].age.min(), 'anos')"
      ],
      "metadata": {
        "id": "3SgA4C5MZtFa"
      },
      "execution_count": null,
      "outputs": []
    },
    {
      "cell_type": "markdown",
      "source": [
        "# Usando condicionais para seleção de linhas e colunas\n",
        "\n",
        "Também podemos combinar condições de seleção de linhas empregando os operadores lógicos & (AND) ou '|' (OR). Para isso, precisamos incluir parênteses nas seleções, separando cada condicional."
      ],
      "metadata": {
        "id": "RaK2mAeEajOK"
      }
    },
    {
      "cell_type": "code",
      "source": [
        "# Selecionado casados que contrataram o pacote oferecido\n",
        "\n",
        "df5 = df1[(df1.marital == 'married') & (df1.y == 'yes')]\n",
        "df5"
      ],
      "metadata": {
        "id": "RtcwTcnAa7xG"
      },
      "execution_count": null,
      "outputs": []
    },
    {
      "cell_type": "code",
      "source": [
        "# Selecionado casados ou solteiros que contrataram o pacote oferecido\n",
        "\n",
        "df6 = df1[(df1.marital == 'married') | (df1.marital == 'single') & (df1.y == 'yes')]\n",
        "df6"
      ],
      "metadata": {
        "id": "yvoRSlQUbURK"
      },
      "execution_count": null,
      "outputs": []
    },
    {
      "cell_type": "markdown",
      "source": [
        "Também podemos usar o operador `.isin()`, para indicar a pertinência de um valor a uma lista."
      ],
      "metadata": {
        "id": "5m6sCb1_cxA8"
      }
    },
    {
      "cell_type": "code",
      "source": [
        "# Selecionando clientes que contrataram o pacote e possuem um emprego do tipo 'management\t' ou 'technician'\n",
        "\n",
        "df7 = df1[ (df1.y == 'yes') & (df1.job.isin(['management\t','technician'])) ]\n",
        "df7"
      ],
      "metadata": {
        "id": "EaJ6FCbzc7ae"
      },
      "execution_count": null,
      "outputs": []
    }
  ]
}