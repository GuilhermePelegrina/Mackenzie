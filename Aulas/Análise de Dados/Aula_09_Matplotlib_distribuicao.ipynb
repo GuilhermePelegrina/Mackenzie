{
  "cells": [
    {
      "cell_type": "markdown",
      "metadata": {
        "id": "view-in-github",
        "colab_type": "text"
      },
      "source": [
        "<a href=\"https://colab.research.google.com/github/GuilhermePelegrina/Mackenzie/blob/main/Aulas/An%C3%A1lise%20de%20Dados/Aula_09_Matplotlib_distribuicao.ipynb\" target=\"_parent\"><img src=\"https://colab.research.google.com/assets/colab-badge.svg\" alt=\"Open In Colab\"/></a>"
      ]
    },
    {
      "cell_type": "markdown",
      "metadata": {
        "id": "yDT0n5rAx87W"
      },
      "source": [
        "<img src='https://raw.githubusercontent.com/guilhermepelegrina/Mackenzie/main/logo_mackenzie.png'>\n"
      ]
    },
    {
      "cell_type": "markdown",
      "metadata": {
        "id": "OKK_BbNhyvGx"
      },
      "source": [
        "# **Visualização de dados - Gráficos de distribuição e frequência**\n",
        "\n",
        "Nesta aula, vamos aprender como usar a biblioteca Matplotlib para criar gráficos que ilustram a distribuição dos dados. Veremos, então, três tipos de gráficos:\n",
        "\n",
        "- Histograma\n",
        "- Boxplot\n",
        "- Gráfico de pizza\n",
        "\n",
        "\n"
      ]
    },
    {
      "cell_type": "markdown",
      "metadata": {
        "id": "goTofjd4k6pG"
      },
      "source": [
        "Para ilustrar os comandos dessa aula, vamos utilizar o conjunto de dados (Red Wine Quality)[https://archive.ics.uci.edu/dataset/186/wine+quality]. Em resumo, esse conjunto conté, nas linhas, diferentes vinhos tintos e, nas colunas, características de tais vinhos. Na última coluna (*quality*), há a qualidade de cada vinho (maior o valor, melhor a qualidade)."
      ]
    },
    {
      "cell_type": "code",
      "execution_count": null,
      "metadata": {
        "id": "7IRrGnuOlPqz"
      },
      "outputs": [],
      "source": [
        "import pandas as pd\n",
        "import matplotlib.pyplot as plt\n",
        "import numpy as np\n",
        "\n",
        "df = pd.read_csv(\"https://raw.githubusercontent.com/guilhermepelegrina/Mackenzie/main/Datasets/data_wine_quality_red.csv\", sep = ',')\n",
        "df"
      ]
    },
    {
      "cell_type": "markdown",
      "source": [
        "# Histograma\n",
        "\n",
        "Um dos gráficos mais utilizados para visualizar a distribuição de dados numéricos e contínuos é o Histograma. À partir dele, podemos extrair conclusões preliminares acerca da simetria (ou assimetria) dos dados e a presença de valores considerados *outliers* (valores discrepantes no conjunto de dados).\n",
        "\n",
        "Um histograma é representado por colunas verticais (retângulos), centralizadas em intervalos predefinidos, as quais indicam a frequência com que os valores contidos nesses intervalos aparecem no conjunto de dados em análise.\n",
        "\n",
        "<img src='https://raw.githubusercontent.com/guilhermepelegrina/Mackenzie/main/Aulas/Figuras/fig_graficos_histograma.png' width=\"900\">\n",
        "\n",
        "Note que um baixo ou alto número de retângulos (também chamados de *bins*) não conseguirá apresentar com clareza a distribuição dos dados."
      ],
      "metadata": {
        "id": "QA4y9cZGoMjw"
      }
    },
    {
      "cell_type": "markdown",
      "source": [
        "**Exemplo:** Vamos analisar a distribuição dos vinhos em relação ao pH e ao açúcal residual."
      ],
      "metadata": {
        "id": "vlI_lrYmoMor"
      }
    },
    {
      "cell_type": "code",
      "source": [
        "plt.figure(figsize=(12,5))\n",
        "\n",
        "plt.hist(df['pH'])\n",
        "plt.ylabel(\"Frequências\")\n",
        "plt.title('Histograma - pH')\n",
        "plt.xlim(min(df['pH']), max(df['pH']))\n",
        "\n",
        "\n",
        "plt.tight_layout()\n",
        "plt.show()"
      ],
      "metadata": {
        "id": "UWWfCiQWLdYc"
      },
      "execution_count": null,
      "outputs": []
    },
    {
      "cell_type": "code",
      "source": [
        "plt.figure(figsize=(12,5))\n",
        "\n",
        "plt.hist(df['residual sugar'])\n",
        "plt.ylabel(\"Frequências\")\n",
        "plt.title('Histograma - Açúcar residual')\n",
        "plt.xlim(min(df['residual sugar']), max(df['residual sugar']))\n",
        "\n",
        "\n",
        "plt.tight_layout()\n",
        "plt.show()"
      ],
      "metadata": {
        "id": "kyq1OcGKCaqf"
      },
      "execution_count": null,
      "outputs": []
    },
    {
      "cell_type": "markdown",
      "source": [
        "Veja que a distribuição em relação ao pH é simétrica, ou seja, os dados parecem estar normalmente distribuídos em relação ao valor central. Já no caso do açúcar residual, a distribuição é assimétrica (à esquerda)."
      ],
      "metadata": {
        "id": "qZ78fKF3oMrG"
      }
    },
    {
      "cell_type": "markdown",
      "source": [
        "## Customizações no histograma\n",
        "\n",
        "Assim como no gráfico de linhas, podemos fazer várias customizações no histograma. As mais comuns são as seguintes:\n",
        "\n",
        "- Número de colunas (`bins`),\n",
        "- Cor das barras (`facecolor`),\n",
        "- Transperência da cor das barras (`alpha`),\n",
        "- Cor do contorno das barras (`edgecolor`)."
      ],
      "metadata": {
        "id": "UYCfhr8QNn3C"
      }
    },
    {
      "cell_type": "code",
      "source": [
        "plt.figure(figsize=(12,5))\n",
        "\n",
        "plt.hist(df['pH'], bins=20, facecolor='r', alpha=0.75, edgecolor='black')\n",
        "plt.ylabel(\"Frequências\")\n",
        "plt.title('Histograma - pH')\n",
        "plt.xlim(min(df['pH']), max(df['pH']))\n",
        "\n",
        "\n",
        "plt.tight_layout()\n",
        "plt.show()"
      ],
      "metadata": {
        "id": "Em-TgMPMNiPz"
      },
      "execution_count": null,
      "outputs": []
    },
    {
      "cell_type": "markdown",
      "source": [
        "Também podemos apresentar a densidade (frequência em termos relativos). Nesse caso, a soma das áreas do retêngulo é igual a 1."
      ],
      "metadata": {
        "id": "QulHrQx1oMtl"
      }
    },
    {
      "cell_type": "code",
      "source": [
        "plt.figure(figsize=(12,5))\n",
        "\n",
        "plt.hist(df['pH'], facecolor='g', alpha=0.15, edgecolor='red', density='True')\n",
        "plt.ylabel(\"Densidade\")\n",
        "plt.title('Histograma - pH')\n",
        "plt.xlim(min(df['pH']), max(df['pH']))\n",
        "\n",
        "\n",
        "plt.tight_layout()\n",
        "plt.show()"
      ],
      "metadata": {
        "id": "j_c2MeqzPCy2"
      },
      "execution_count": null,
      "outputs": []
    },
    {
      "cell_type": "markdown",
      "source": [
        "O uso da densidade é uma forma de normalizar os dados do histograma. É muito útil quando comparamos histogramas extraídos de dados diferentes, principalmente quando os mesmos possuem diferentes números de amostras (linhas).\n",
        "\n",
        "Veja o exemplo seguinte."
      ],
      "metadata": {
        "id": "8SddPX0eoMwK"
      }
    },
    {
      "cell_type": "code",
      "metadata": {
        "id": "5Jr3ib87pGkS"
      },
      "source": [
        "# Tempo de vida útil de um aparelho fabricado por três companhias diferentes\n",
        "\n",
        "link=\"https://raw.githubusercontent.com/guilhermepelegrina/Mackenzie/main/Datasets/data_vida_util.csv\"\n",
        "dft=pd.read_csv(link)\n",
        "dft.head()"
      ],
      "execution_count": null,
      "outputs": []
    },
    {
      "cell_type": "code",
      "metadata": {
        "id": "BDUGY77qZX2n"
      },
      "source": [
        "# Analisando o tamanho das amostras para cada marca\n",
        "dft.describe()"
      ],
      "execution_count": null,
      "outputs": []
    },
    {
      "cell_type": "code",
      "metadata": {
        "id": "mjkcS946uL63"
      },
      "source": [
        "# Plotando o histograma com base nas frequências\n",
        "\n",
        "plt.figure(figsize=(8,5))\n",
        "\n",
        "plt.hist(dft[\"Marca A\"], label=\"Marca A\",bins=7)\n",
        "plt.hist(dft[\"Marca B\"],alpha=0.3,label=\"Marca B\",bins=7)\n",
        "plt.hist(dft[\"Marca C\"],alpha=0.3, label=\"Marca C\",bins=7)\n",
        "plt.xlabel(\"Tempo (em meses)\")\n",
        "plt.ylabel(\"Frequência\")\n",
        "plt.title(\"É o melhor gráfico?\",color=\"r\")\n",
        "\n",
        "plt.legend()\n",
        "plt.show()"
      ],
      "execution_count": null,
      "outputs": []
    },
    {
      "cell_type": "code",
      "metadata": {
        "id": "jNOwtgKPtSp3"
      },
      "source": [
        "# É muito mais \"correto\" analisar o gráfico usando a densidade, uma vez que os dados podem ter diferentes números de amostras.\n",
        "\n",
        "plt.figure(figsize=(8,5))\n",
        "\n",
        "plt.hist(dft[\"Marca A\"],density=True, label=\"Marca A\",bins=7)\n",
        "plt.hist(dft[\"Marca B\"],alpha=0.3,density=True,label=\"Marca B\",bins=7)\n",
        "plt.hist(dft[\"Marca C\"],alpha=0.3,density=True, label=\"Marca C\",bins=7)\n",
        "plt.xlabel(\"tempo (em meses)\")\n",
        "plt.ylabel(\"Densidade\")\n",
        "\n",
        "plt.legend()\n",
        "plt.show()"
      ],
      "execution_count": null,
      "outputs": []
    },
    {
      "cell_type": "markdown",
      "source": [
        "## Usando a biblioteca Seaborn\n",
        "\n",
        "Além do Matplotlib, também podemos usar a biblioteca Seaborn para imprimir gráficos no Python. Veja a seguir como ficam os comandos para plotar um histograma usando densidade (é o padrão do Seabonr!) usando essa biblioteca."
      ],
      "metadata": {
        "id": "rDgEjusnoMzC"
      }
    },
    {
      "cell_type": "code",
      "source": [
        "import seaborn as sns\n",
        "plt.figure(figsize=(12,5))\n",
        "\n",
        "sns.distplot(dft[\"Marca A\"])\n",
        "plt.title('Vida útil')\n",
        "plt.xlabel(\"Tempo (em meses)\", fontsize=12)\n",
        "\n",
        "plt.tight_layout()"
      ],
      "metadata": {
        "id": "joodVzPIbnxv"
      },
      "execution_count": null,
      "outputs": []
    },
    {
      "cell_type": "markdown",
      "source": [
        "Note que o Seaborn também inclui uma curva aproximando a função de densidade de probabilidade. às vezes, é interessante apenas apresentar tal curva, para facilitar a visualização. Isso principalmente quando estamos comparando mais de um histograma."
      ],
      "metadata": {
        "id": "4PaEM0HboM1H"
      }
    },
    {
      "cell_type": "code",
      "execution_count": null,
      "metadata": {
        "id": "Hl2vFf6tlPrL"
      },
      "outputs": [],
      "source": [
        "import seaborn as sns\n",
        "plt.figure(figsize=(8,5))\n",
        "\n",
        "sns.distplot(dft[\"Marca A\"],hist=False,label=\"Marca A\")\n",
        "sns.distplot(dft[\"Marca B\"],hist=False,label=\"Marca B\")\n",
        "sns.distplot(dft[\"Marca C\"],hist=False,label=\"Marca C\")\n",
        "\n",
        "plt.xlabel(\"Tempo (em meses)\", fontsize=12)\n",
        "plt.legend()\n",
        "\n",
        "plt.show()"
      ]
    },
    {
      "cell_type": "markdown",
      "source": [
        "# Boxplot\n",
        "\n",
        "O Boxplot (ou diagrama de caixa) é uma ferramenta gráfica utilizada para ilustrar a distribuição de um conjunto de dados com base em cinco medidas principais:\n",
        "\n",
        "- Valor mínimo desconsiderando outliers,\n",
        "- Primeiro quartil (Q1),\n",
        "- Mediana,\n",
        "- Terceiro quartil (Q3),\n",
        "- Valor máximo desconsiderando outliers.\n",
        "\n",
        "Além desses valores, também podemos incluir em um gráfico com Boxplot os outliers, de forma a compreender quantos são e onde se encontram em relação ás demais medidas.\n",
        "\n",
        "Por padrão, consideramos os valores de máximo e mínimo no boxplot como $ Max = Q3 + 1,5*AIQ $ e $ Min = Q1 - 1,5*AIQ $, onde $ AIQ = Q3 - Q1$ é a amplitude interquartil.\n",
        "\n",
        "\n",
        "<img src='https://raw.githubusercontent.com/guilhermepelegrina/Mackenzie/main/Aulas/Figuras/fig_graficos_boxplot.png' width=\"900\">"
      ],
      "metadata": {
        "id": "kHrkTH6tdrw0"
      }
    },
    {
      "cell_type": "code",
      "source": [
        "# Exemplo:\n",
        "\n",
        "plt.figure(figsize=(8,6))\n",
        "\n",
        "plt.boxplot(df[\"alcohol\"])\n",
        "plt.ylabel(\"Teor alcoólico\")\n",
        "plt.title(\"Teor alcoólico dos vinhos tintos\")\n",
        "\n",
        "plt.show()"
      ],
      "metadata": {
        "id": "VHFNnSEwe9sC"
      },
      "execution_count": null,
      "outputs": []
    },
    {
      "cell_type": "code",
      "source": [
        "# Customizações\n",
        "\n",
        "plt.figure(figsize=(8,6))\n",
        "\n",
        "plt.boxplot(df[\"alcohol\"], patch_artist=True,\n",
        "            boxprops=dict(facecolor=\"silver\", color=\"r\"),\n",
        "            medianprops=dict(color=\"blue\"),\n",
        "            capprops=dict(color=\"g\"),\n",
        "            whiskerprops=dict(color=\"m\"),\n",
        "            flierprops=dict( markeredgecolor=\"c\"))\n",
        "plt.ylabel(\"Teor alcoólico\")\n",
        "plt.title(\"Teor alcoólico dos vinhos tintos\")\n",
        "plt.show()"
      ],
      "metadata": {
        "id": "vbnDyVoxgppo"
      },
      "execution_count": null,
      "outputs": []
    },
    {
      "cell_type": "markdown",
      "source": [
        "Em muitos casos, é interessante plotar mais de um boxplot um ao lado do outro para comparar distribuições de dados diferentes. Nesse caso, é recomendado utilizar a interface orientada a objetos.\n",
        "\n",
        "Veja no exemplo a seguir a comparação em relação ao teor para vinhos considerados bons (*quality > 5*) e vinhos considerados ruins (*quality <= 5*)."
      ],
      "metadata": {
        "id": "WJ12VrohhK1U"
      }
    },
    {
      "cell_type": "code",
      "source": [
        "fig, ax = plt.subplots(figsize=(8,5))\n",
        "\n",
        "plt.boxplot(df[df.quality > 5][\"alcohol\"], positions=[1])\n",
        "plt.boxplot(df[df.quality <= 5][\"alcohol\"], positions=[2])\n",
        "ax.set_xticklabels(['Vinho bom', 'Vinho ruim'])\n",
        "\n",
        "plt.ylabel(\"Teor alcoólico dos vinhos tintos bons e ruins\")\n",
        "plt.show()"
      ],
      "metadata": {
        "id": "I1kB3aAOhpXT"
      },
      "execution_count": null,
      "outputs": []
    },
    {
      "cell_type": "markdown",
      "source": [
        "## Boxplot com o Seaborn\n",
        "\n",
        "O uso do Seaborn para construir boxplots facilita, principalmente, quando comparamos distribuições de dados.\n",
        "\n",
        "Veja como ficam os comandos para plotar os boxplots comparando vinhos bons e ruins de acordo com o teor alcoólico."
      ],
      "metadata": {
        "id": "r2doLCVDsRrc"
      }
    },
    {
      "cell_type": "code",
      "source": [
        "# Criando uma coluna de dados indicando com 1 os vinhos bons e 0 os vinhos ruins\n",
        "\n",
        "df['quality_class'] = (df.quality > 5).astype(int)\n",
        "df"
      ],
      "metadata": {
        "id": "eQ9Cn4mbtOyB"
      },
      "execution_count": null,
      "outputs": []
    },
    {
      "cell_type": "code",
      "source": [
        "import seaborn as sns\n",
        "plt.figure(figsize=(7,5))\n",
        "\n",
        "sns.boxplot(x=\"quality_class\", y=\"alcohol\", data=df,color=\"lightgrey\", linewidth=1.0, width=0.8,showmeans=True,\n",
        "            meanprops={\"marker\":\"o\",\n",
        "                       \"markerfacecolor\":\"white\",\n",
        "                       \"markeredgecolor\":\"black\",\n",
        "                      \"markersize\":\"2\"})\n",
        "plt.ylabel(\"Teor alcoólico\", fontsize=10)\n",
        "plt.xlabel(\"Vinhos tintos\", fontsize=13)\n",
        "plt.title(\"Teor alcoólico dos vinhos tintos bons (1) e ruins (0)\", fontsize=10)\n",
        "\n",
        "plt.show()"
      ],
      "metadata": {
        "id": "es8SVQWnwc-L"
      },
      "execution_count": null,
      "outputs": []
    },
    {
      "cell_type": "markdown",
      "source": [
        "# Gráfico de pizza\n",
        "\n",
        "O gráfico de pizza (ou de setores) consiste em uma figura circular onde as parcelas do círculo (fatias da pizza) são proporcionais às frequências de cada categoria representadas por tais parcelas. Note que o ângulo de abertura de cada fatia é o que determina o gráfico de pizza.\n",
        "\n",
        "Para ilustrar esse tipo de gráfico, vamos retomar o conjunto de dados [Bike Sharing](http://archive.ics.uci.edu/ml/datasets/Bike+Sharing+Dataset)."
      ],
      "metadata": {
        "id": "qBpBo2h14Dam"
      }
    },
    {
      "cell_type": "code",
      "source": [
        "dados = pd.read_csv('https://raw.githubusercontent.com/guilhermepelegrina/Mackenzie/main/Datasets/data_bike_sharing_day.csv')\n",
        "dados"
      ],
      "metadata": {
        "id": "rswma5dZ5Pcn"
      },
      "execution_count": null,
      "outputs": []
    },
    {
      "cell_type": "markdown",
      "source": [
        "Lembre-se que a variável `weathersit` (situação do clima) possui as sequintes categorias: 1 - Claro, poucas nuvens ou parcialmente nublado; 2 - Com neblina + nublado, com neblina + nuvens carregadas, com neblina + poucas nuvens, com neblina; 3 - Neve fraca, Chuva fraca + tempestade + nuvens esparsas; 4 - Chuva forte + granizo + tempestade + neblina, neve + nevoiero.\n",
        "\n",
        "Vamos representar a frequência que cada situação do clima aparece no conjuntoa aprtir de um gráfico de pizza.\n"
      ],
      "metadata": {
        "id": "09edrgaf5RlL"
      }
    },
    {
      "cell_type": "code",
      "source": [
        "dados2 = dados[dados.yr == 0].groupby(\"weathersit\")[\"weathersit\"].count()\n",
        "\n",
        "plt.figure(figsize=(10,5))\n",
        "plt.pie(dados2,labels=dados2.index, labeldistance=0.3)\n",
        "plt.show()"
      ],
      "metadata": {
        "id": "joiTMHEm5Qzc"
      },
      "execution_count": null,
      "outputs": []
    },
    {
      "cell_type": "markdown",
      "source": [
        "## Customizações\n",
        "\n",
        "Também podemos customizar os gráficos. Algumas das opções são as seguintes:\n",
        "\n",
        "- `labels`: Podemos inserir manualmente os nomes das categorias,\n",
        "\n",
        "- `autopct`: Inclui as porcentagens de cada categoria (assim como o número de casa decimais),\n",
        "\n",
        "- `colors`: Modifica as cores das fatias. Note que o número de cores inseridas precisa ser igual ao número de categorias,\n",
        "\n",
        "- `explode`: Inclui uma distância entre a fatia associada ao valor inserido no comendo e o restante das fatias do gráfico,\n",
        "\n",
        "- `shadow`: Insere um sombreado no gráfico.\n"
      ],
      "metadata": {
        "id": "2QJGUiCo7t0H"
      }
    },
    {
      "cell_type": "code",
      "source": [
        "plt.figure(figsize=(10,5))\n",
        "plt.pie(dados2, labels=['Categoria 1', \"Categoria 2\", \"Categoria 3\"], autopct='%1.1f%%', colors=['cyan','tomato', 'orange'], explode = (0.05, 0,0),shadow=True)\n",
        "plt.show()"
      ],
      "metadata": {
        "id": "maEywAWE7yas"
      },
      "execution_count": null,
      "outputs": []
    }
  ],
  "metadata": {
    "colab": {
      "provenance": [],
      "authorship_tag": "ABX9TyN7cvvrs8OBKsgU+BUhXfwr",
      "include_colab_link": true
    },
    "kernelspec": {
      "display_name": "Python 3",
      "name": "python3"
    },
    "language_info": {
      "name": "python"
    }
  },
  "nbformat": 4,
  "nbformat_minor": 0
}