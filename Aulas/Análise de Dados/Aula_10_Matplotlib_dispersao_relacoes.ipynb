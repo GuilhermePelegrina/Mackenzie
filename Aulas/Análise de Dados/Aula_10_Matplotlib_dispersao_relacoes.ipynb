{
  "cells": [
    {
      "cell_type": "markdown",
      "metadata": {
        "id": "view-in-github",
        "colab_type": "text"
      },
      "source": [
        "<a href=\"https://colab.research.google.com/github/GuilhermePelegrina/Mackenzie/blob/main/Aulas/An%C3%A1lise%20de%20Dados/Aula_10_Matplotlib_dispersao_relacoes.ipynb\" target=\"_parent\"><img src=\"https://colab.research.google.com/assets/colab-badge.svg\" alt=\"Open In Colab\"/></a>"
      ]
    },
    {
      "cell_type": "markdown",
      "metadata": {
        "id": "yDT0n5rAx87W"
      },
      "source": [
        "<img src='https://raw.githubusercontent.com/guilhermepelegrina/Mackenzie/main/logo_mackenzie.png'>\n"
      ]
    },
    {
      "cell_type": "markdown",
      "metadata": {
        "id": "OKK_BbNhyvGx"
      },
      "source": [
        "# **Visualização de dados - Gráficos de dispersão e relações entre colunas**\n",
        "\n",
        "Nesta aula, vamos aprender como usar as bibliotecas Matplotlib e Seaborn para criar gráficos que ilustram tanto a dispersão dos dados quanto as relações entre colunas. Veremos, então, três tipos de gráficos:\n",
        "\n",
        "- Gráfico de barras\n",
        "- Gráfico de dispersão (scatter plot)\n",
        "- Heatmaps\n"
      ]
    },
    {
      "cell_type": "markdown",
      "metadata": {
        "id": "goTofjd4k6pG"
      },
      "source": [
        "Para ilustrar os comandos dessa aula, vamos utilizar novamente o conjunto de dados [Bike Sharing](http://archive.ics.uci.edu/ml/datasets/Bike+Sharing+Dataset)."
      ]
    },
    {
      "cell_type": "code",
      "execution_count": null,
      "metadata": {
        "id": "7IRrGnuOlPqz"
      },
      "outputs": [],
      "source": [
        "import pandas as pd\n",
        "dados = pd.read_csv('https://raw.githubusercontent.com/guilhermepelegrina/Mackenzie/main/Datasets/data_bike_sharing_day.csv')\n",
        "dados"
      ]
    },
    {
      "cell_type": "markdown",
      "source": [
        "# Relembrando - Gráficos de linha\n",
        "\n",
        "Como visto na última aula, os gráficos de linha são frequentemente usados para ilustrar funções ou séries temporais. Ou seja, é um gráfico que proporciona uma boa visualização de grandezas que evoluem ao longo do tempo.\n",
        "\n",
        "Veja, por exemplo, os gráficos abaixo que ilustram (i) a evolução do número de bicicletas alugadas ocasionalmente ao longo dos anos de 2011 e 2012, (ii) a temperatura normalizada e (iii) a evolução do número de bicicletas alugadas por pessoas registradas ao longo dos anos de 2011 e 2012."
      ],
      "metadata": {
        "id": "RyoImnG0oMhV"
      }
    },
    {
      "cell_type": "code",
      "source": [
        "import matplotlib.pyplot as plt\n",
        "import numpy as np\n",
        "\n",
        "x = np.arange(0,len(dados),1)\n",
        "\n",
        "plt.figure(figsize=(16,4))\n",
        "plt.plot(x, dados.casual)\n",
        "\n",
        "plt.title('Bicicletas alugadas ocasionalmente nos anos de 2011 e 2012')\n",
        "plt.xlabel('Dias')\n",
        "plt.ylabel('Número de bicicletas alugadas')\n",
        "\n",
        "plt.show()\n",
        "\n",
        "x = np.arange(0,len(dados),1)\n",
        "\n",
        "plt.figure(figsize=(16,4))\n",
        "plt.plot(x, dados.temp, '-r')\n",
        "\n",
        "plt.title('Temperatura (normalizada) anos de 2011 e 2012')\n",
        "plt.xlabel('Dias')\n",
        "plt.ylabel('Temperatura (normalizada)')\n",
        "\n",
        "plt.show()\n",
        "\n",
        "x = np.arange(0,len(dados),1)\n",
        "\n",
        "plt.figure(figsize=(16,4))\n",
        "plt.plot(x, dados.registered, '-g')\n",
        "\n",
        "plt.title('Bicicletas alugadas por pessoas registradas nos anos de 2011 e 2012')\n",
        "plt.xlabel('Dias')\n",
        "plt.ylabel('Número de bicicletas alugadas')\n",
        "\n",
        "plt.show()"
      ],
      "metadata": {
        "id": "wcliOluZo74d"
      },
      "execution_count": null,
      "outputs": []
    },
    {
      "cell_type": "markdown",
      "source": [
        "É possível notar uma relação positiva entre a variação da temperatura com a variação de bicicletas alugadas (seja ocasionalmente ou por pessoas registradas). Para melhor visualizar essa relação, podes usar gráficos de dispersão (ou Scatter plots)."
      ],
      "metadata": {
        "id": "LlGlw8_hoMmM"
      }
    },
    {
      "cell_type": "markdown",
      "source": [
        "# Gráficos de dispersão ou scatter plots\n",
        "\n",
        "Como mencionado, o gráfico de dispersão é muito útil para analisar a relação entre duas variáveis quantitativas. Com ele, podemos visualizar se há uma relação positiva, negativa ou se não há relação entre as variáveis.\n",
        "\n",
        "Veja abaixo o exemplo com os gráficos apresentados anteriormente."
      ],
      "metadata": {
        "id": "9_MKBTxvv9jK"
      }
    },
    {
      "cell_type": "code",
      "source": [
        "plt.figure(figsize=(7,5))\n",
        "\n",
        "plt.scatter(dados.temp, dados.casual, c=\"blue\")\n",
        "plt.title('Scatter plot - Temperatura normalizada x Aluguel ocasional', fontsize=14, weight='bold')\n",
        "plt.ylabel(\"# de bicicletas alugadas ocasionalmente\", fontsize=14)\n",
        "plt.xlabel(\"Temperatura normalizada\", fontsize=14)\n",
        "plt.show()\n",
        "\n",
        "plt.figure(figsize=(7,5))\n",
        "\n",
        "plt.scatter(dados.temp, dados.registered, c=\"blue\")\n",
        "plt.title('Scatter plot - Temperatura normalizada x Aluguel registrado', fontsize=14, weight='bold')\n",
        "plt.ylabel(\"# de bicicletas alugadas por pessoas registradas\", fontsize=14)\n",
        "plt.xlabel(\"Temperatura normalizada\", fontsize=14)\n",
        "plt.show()"
      ],
      "metadata": {
        "id": "J1kwdMQWu83h"
      },
      "execution_count": null,
      "outputs": []
    },
    {
      "cell_type": "markdown",
      "source": [
        "Veja que em ambos os gráficos de dispersão, há uma certa tendência crescente entre a temperatura e o número de bicicletas alugadas.\n",
        "\n",
        "Em algumas aplicações, é interessante avaliar relações entre atributos condicionados a uma outra variável. Por exemplo, poderíamos plotar o gráfico de dispersão para visualizar a relação entre temperatura e bicicletas alugadas para diferentes estações do ano."
      ],
      "metadata": {
        "id": "2PAxcjsIwmRl"
      }
    },
    {
      "cell_type": "code",
      "source": [
        "fig, ax = plt.subplots(figsize=(10,5))\n",
        "g=ax.scatter(dados.temp,dados.casual,c=dados.season)\n",
        "\n",
        "handles,_ =g.legend_elements( )\n",
        "legend2 = ax.legend(handles, [\"Primavera\",\"Verão\", \"Outono\", \"Inverno\"], loc=\"upper left\", title=\"Estação do ano\")\n",
        "plt.xlabel(\"Temperatura normalizada\", fontsize=14)\n",
        "plt.ylabel(\"Bicicletas alugadas ocasionalmente\", fontsize=14)\n",
        "plt.show()"
      ],
      "metadata": {
        "id": "sHKor0jgxazy"
      },
      "execution_count": null,
      "outputs": []
    },
    {
      "cell_type": "markdown",
      "source": [
        "## Usando a biblioteca Seaborn\n",
        "\n",
        "Os comandos para o uso da biblioteca Seaborn são bem simples. Para as customizações usando essa biblioteca, consulte o link abaixo:\n",
        "\n",
        "https://seaborn.pydata.org/generated/seaborn.scatterplot.html\n"
      ],
      "metadata": {
        "id": "HQhr4ixRzBiv"
      }
    },
    {
      "cell_type": "code",
      "source": [
        "import seaborn as sns\n",
        "\n",
        "plt.figure(figsize=(12,5))\n",
        "plt.subplot(1,2,1)\n",
        "sns.scatterplot(data = dados, x = 'temp', y = 'casual')\n",
        "\n",
        "plt.subplot(1,2,2)\n",
        "sns.scatterplot(data = dados, x = 'temp', y = 'casual', hue=\"season\")\n",
        "plt.plot()"
      ],
      "metadata": {
        "id": "kcsTqQWZzU4q"
      },
      "execution_count": null,
      "outputs": []
    },
    {
      "cell_type": "markdown",
      "source": [
        "# Heatmaps\n",
        "\n",
        "Perceba que nos gráficos de dispersão mostrados anteriormente, conseguimos visualizar uma relação entre variáveis mas sem uma medida que quantifique tal relação. Uma das medidas mais comuns seria o coeficiente de correlação de Pearson que, em resumo, mede a correlação (linear) entre variáveis.\n",
        "\n",
        "No Pandas, podemos calcular a correlação entre variáveis numéricas de um `DataFrame` usando o comando `df.corr()`. No entanto, o conjunto de dados `df` deve ter apenas variáveis numéricas. Caso contrário, o comando apresentará erro. Veja no exemplo a seguir."
      ],
      "metadata": {
        "id": "VkARyD5w0-Y8"
      }
    },
    {
      "cell_type": "code",
      "source": [
        "dados2 = dados.drop('instant', axis=1).select_dtypes(include='number')\n",
        "dados2.corr()"
      ],
      "metadata": {
        "id": "u7GS0Rvbc2Kk"
      },
      "execution_count": null,
      "outputs": []
    },
    {
      "cell_type": "markdown",
      "source": [
        "Uma forma mais interessante de visualizar as correlações é através do gráfico Heatmap (ou mapa de calor). Esses mapas ajudam a compreender melhor como cada variável se relaciona.\n",
        "\n",
        "Veja abaixo como ele é construído usando a biblioteca Seaborn."
      ],
      "metadata": {
        "id": "pXig3vdZeelr"
      }
    },
    {
      "cell_type": "code",
      "source": [
        "plt.figure(figsize=(12,5))\n",
        "\n",
        "sns.heatmap(dados2.corr(),cmap=\"YlOrBr\", annot = True, fmt=\".3f\");"
      ],
      "metadata": {
        "id": "jRn9cqwNekfa"
      },
      "execution_count": null,
      "outputs": []
    },
    {
      "cell_type": "markdown",
      "source": [
        "Além de ser usado para apresentar medidas de similaridade entra variáveis (como a correlação), o heatmap também pode ser usado para apresentar (e comparar) distribuição de dados.\n",
        "\n",
        "Veja o exemplo seguinte que usa como conjunto de dados [European energy](https://raw.githubusercontent.com/rfordatascience/tidytuesday/master/data/2020/2020-08-04/energy_types.csv)"
      ],
      "metadata": {
        "id": "YT4uJHUgfN41"
      }
    },
    {
      "cell_type": "code",
      "source": [
        "import pandas as pd\n",
        "\n",
        "df = pd.read_csv(\"https://raw.githubusercontent.com/rfordatascience/tidytuesday/master/data/2020/2020-08-04/energy_types.csv\", sep = ',')\n",
        "df = df.dropna()\n",
        "df"
      ],
      "metadata": {
        "id": "z06bH1Kkg4Gl"
      },
      "execution_count": null,
      "outputs": []
    },
    {
      "cell_type": "code",
      "source": [
        "prod = df.pivot(index=['country_name'], columns=['type'], values='2017')\n",
        "prod"
      ],
      "metadata": {
        "id": "ky3hDbi9hL9a"
      },
      "execution_count": null,
      "outputs": []
    },
    {
      "cell_type": "code",
      "source": [
        "plt.figure(figsize=(10,8))\n",
        "\n",
        "sns.heatmap(prod,cmap=\"Blues\", annot = True, fmt=\".4f\") #camp: \"YlGnBu\"; \"Greens\"; \"Blues\"\n",
        "plt.yticks(rotation=0)\n",
        "plt.xticks(rotation=45)\n",
        "plt.title(\"Heatmap da produção de energia na Europa\")\n",
        "plt.show()"
      ],
      "metadata": {
        "id": "mK_EJx8ViRdN"
      },
      "execution_count": null,
      "outputs": []
    },
    {
      "cell_type": "code",
      "source": [
        "import matplotlib as mpl #Selecionar as cores pro gráfico de temperatura\n",
        "cmap=mpl.cm.jet\n",
        "\n",
        "plt.figure(figsize=(10,8))\n",
        "\n",
        "sns.heatmap(prod, cmap=cmap) #camp: \"YlGnBu\"; \"Greens\"; \"Blues\"\n",
        "plt.yticks(rotation=0)\n",
        "plt.xticks(rotation=45)\n",
        "plt.title(\"Heatmap da produção de energia na Europa\")\n",
        "plt.show()"
      ],
      "metadata": {
        "id": "FK-BlPwji9W-"
      },
      "execution_count": null,
      "outputs": []
    },
    {
      "cell_type": "markdown",
      "source": [
        "# Gráfico de barras\n",
        "\n",
        "Por fim, veremos agora os gráficos de barras. Esse tipo de gráfigo normalmente é utilizado para comparar a quantidade de variáveis categóricas de uma variável qualitativa (ou quantitativa discreta). Podemos realizar essa comparação a partir de barras horizontais, sendo o tamanho das barras proporcionais às frequências das categorias na variável em análise."
      ],
      "metadata": {
        "id": "yJ3VtalBjX0t"
      }
    },
    {
      "cell_type": "markdown",
      "source": [
        "## Com Matplotlib"
      ],
      "metadata": {
        "id": "gK5ql3EZkXA9"
      }
    },
    {
      "cell_type": "code",
      "source": [
        "#Investimento em saúde\n",
        "\n",
        "plt.bar(['Seg','Ter','Qua','Qui','Sex'],[26,24,30,29,29], color='darkred') # plt.barh\n",
        "\n",
        "plt.title('Temperatura durante a semana', fontsize=14)\n",
        "plt.xlabel('Dias da semana', fontsize=12)\n",
        "plt.ylabel('Temperatura (°C)', fontsize=12)\n",
        "plt.show()\n"
      ],
      "metadata": {
        "id": "qy_KmiEskZ9K"
      },
      "execution_count": null,
      "outputs": []
    },
    {
      "cell_type": "markdown",
      "source": [
        "## Com o Seaborn - Countplot\n",
        "\n",
        "Esse comando do Seaborn plota a frequência (contagem) das variáveis categóricas."
      ],
      "metadata": {
        "id": "f2-StgXYl7b7"
      }
    },
    {
      "cell_type": "code",
      "source": [
        "plt.figure(figsize=(8,6))\n",
        "\n",
        "sns.countplot(x = 'season', hue = 'weathersit', data = dados, palette = 'magma')\n",
        "plt.title('Situação do clima por estação do ano')\n",
        "plt.show()"
      ],
      "metadata": {
        "id": "gfJSFU7hmEoU"
      },
      "execution_count": null,
      "outputs": []
    },
    {
      "cell_type": "markdown",
      "source": [
        "## Usando o grupby()"
      ],
      "metadata": {
        "id": "k5K9zPfznARU"
      }
    },
    {
      "cell_type": "code",
      "source": [
        "dados3 = dados.groupby(dados.weathersit)[\"casual\"].count()\n",
        "dados3.plot(kind='bar', rot=0, color=\"green\", alpha=0.75)\n",
        "\n",
        "plt.xlabel(\"\")\n",
        "plt.ylabel(\"Frequência\",fontsize='large')\n",
        "plt.title(\"Situação do clima\",fontsize='x-large')\n",
        "plt.xticks(fontsize='large')\n",
        "plt.yticks(fontsize='large')\n",
        "plt.show()"
      ],
      "metadata": {
        "id": "5LPoN8DjnCMD"
      },
      "execution_count": null,
      "outputs": []
    },
    {
      "cell_type": "code",
      "source": [
        "dados4 = dados.groupby(['yr','weathersit'])[\"casual\"].count().unstack()\n",
        "dados4.plot(kind=\"bar\", rot=0, width=0.7,figsize=[14,6], stacked=True, color=['seagreen', 'orange', 'red'])\n",
        "\n",
        "plt.xlabel(\"Ano\",fontsize='large')\n",
        "plt.ylabel(\"Frequência\",fontsize='large')\n",
        "plt.show()"
      ],
      "metadata": {
        "id": "dcn1USQzoQAc"
      },
      "execution_count": null,
      "outputs": []
    }
  ],
  "metadata": {
    "colab": {
      "provenance": [],
      "authorship_tag": "ABX9TyNAHHKlJg8/TiHZEfTo/QjY",
      "include_colab_link": true
    },
    "kernelspec": {
      "display_name": "Python 3",
      "name": "python3"
    },
    "language_info": {
      "name": "python"
    }
  },
  "nbformat": 4,
  "nbformat_minor": 0
}