{
  "nbformat": 4,
  "nbformat_minor": 0,
  "metadata": {
    "colab": {
      "provenance": [],
      "authorship_tag": "ABX9TyOijisjGSlEl72QNBdFBPoD",
      "include_colab_link": true
    },
    "kernelspec": {
      "name": "python3",
      "display_name": "Python 3"
    },
    "language_info": {
      "name": "python"
    }
  },
  "cells": [
    {
      "cell_type": "markdown",
      "metadata": {
        "id": "view-in-github",
        "colab_type": "text"
      },
      "source": [
        "<a href=\"https://colab.research.google.com/github/GuilhermePelegrina/Mackenzie/blob/main/Aulas/An%C3%A1lise%20de%20Dados/Prova_N1_adult_turma_6O12.ipynb\" target=\"_parent\"><img src=\"https://colab.research.google.com/assets/colab-badge.svg\" alt=\"Open In Colab\"/></a>"
      ]
    },
    {
      "cell_type": "markdown",
      "source": [
        "<img src='https://raw.githubusercontent.com/guilhermepelegrina/Mackenzie/main/logo_mackenzie.png'>"
      ],
      "metadata": {
        "id": "lIwgwfQLf3qv"
      }
    },
    {
      "cell_type": "markdown",
      "source": [
        "# **Prova N1 - Análise de Dados - Turma 6O12**\n",
        "\n",
        "Este notebook contém as instruções e questões da Prova N1 para a disciplina de Análise de Dados da turma 6O12."
      ],
      "metadata": {
        "id": "teRMSe61f5ZW"
      }
    },
    {
      "cell_type": "markdown",
      "source": [
        "# Instruções\n",
        "\n",
        "## Leitura dos dados\n",
        "\n",
        "Para responder as questões da prova, utilize o conjunto de dados [Adult Income](https://archive.ics.uci.edu/dataset/2/adult). Essa base de dados contém os seguintes atributos descrevendo pessoas:\n",
        "\n",
        "- `Age`: Idade.\n",
        "\n",
        "- `Education`: Escolaridade.\n",
        "\n",
        "- `Marital status`: Estado civil.\n",
        "\n",
        "- `Occupation`: Profissão.\n",
        "\n",
        "- `Race`: Raça.\n",
        "\n",
        "- `Sex`: Sexo.\n",
        "\n",
        "- `Capital-gain`: Ganho de capital vindo de investimentos.\n",
        "\n",
        "- `Capital-loss`: Perda de capital em investimentos.\n",
        "\n",
        "- `Hours-per-week`: Número de horas trabalhadas por semana.\n",
        "\n",
        "- `Native-country`: País de nascimento.\n",
        "\n",
        "Para cada pessoa, há também a indicação se esse indivíduo possui uma renda maior que 50 mil por ano ou no máximo esse valor. Isso é indicado pelo atributo `Income`.\n",
        "\n",
        "Para ler o conjunto de dados, utilize o arquivo `.csv` disponível no link abaixo:\n",
        "\n",
        "https://raw.githubusercontent.com/guilhermepelegrina/Mackenzie/main/Datasets/data_adult_income_modified.csv\n",
        "\n",
        "## Questões e respostas\n",
        "\n",
        "As questões se encontram logo ao final das instruções. Após cada questão, há células para inserirem códigos e buscarem pelas respostas (insira mais células, se necessário). Além disso, também há células de texto para que seja escrita a resposta da questão.\n",
        "\n",
        "## Envio do notebook com as questões e respostas\n",
        "\n",
        "Após finalizar a prova, faça o download do notebook no formato `.ipynb` e submeta no Moodle, da seguinte forma:\n",
        "\n",
        "- Antes de salvar o arquivo, confira se todas as questões, seus códigos e suas respostas estão no notebook.\n",
        "\n",
        "- Para fazer o download do notebook no formato `.ipynb`, clique em *Arquivo* - *Fazer download* - *Fazer o download do .ipynb*. Salve o arquivo com seu RA e nome (ex: 1172211_Guilherme).\n",
        "\n",
        "- Após fazer o download do notebook, submeta o arquivo no Moodle. Para isso, acesse o Moodle, vá até o tópico *Provas* - *Envio da Prova N1* e envie o arquivo. **Lembre-se de finalizar o envio!**"
      ],
      "metadata": {
        "id": "OwzLQ9AnhCje"
      }
    },
    {
      "cell_type": "markdown",
      "source": [
        "# BOA PROVA!"
      ],
      "metadata": {
        "id": "xK3piSTjKzqG"
      }
    },
    {
      "cell_type": "markdown",
      "source": [
        "**Questão 1 (0,5 pontos)** Leia o arquivo mencionado acima. Há quantas colunas e quantas linhas nessa base de dados?"
      ],
      "metadata": {
        "id": "CHM_MSiDsjLI"
      }
    },
    {
      "cell_type": "markdown",
      "source": [
        "*Escreva aqui sua resposta:*\n"
      ],
      "metadata": {
        "id": "v7CuN2Xqv_mO"
      }
    },
    {
      "cell_type": "code",
      "execution_count": null,
      "metadata": {
        "id": "7FZNTVKefdI9"
      },
      "outputs": [],
      "source": [
        "# Escreva aqui seus códigos (insira mais células, se necessário)\n"
      ]
    },
    {
      "cell_type": "markdown",
      "source": [
        "**Questão 2 (0,5 pontos)** Há quantos estados civis nessa base de dados? Indique quais são eles."
      ],
      "metadata": {
        "id": "egXExNrIwHjW"
      }
    },
    {
      "cell_type": "markdown",
      "source": [
        "*Escreva aqui sua resposta:*"
      ],
      "metadata": {
        "id": "7bLjZlukwO9L"
      }
    },
    {
      "cell_type": "code",
      "source": [
        "# Escreva aqui seus códigos (insira mais células, se necessário)\n"
      ],
      "metadata": {
        "id": "W_gj0CmJf3hw"
      },
      "execution_count": null,
      "outputs": []
    },
    {
      "cell_type": "markdown",
      "source": [
        "**Questão 3 (0,5 pontos)** Em relação ao sexto indivíduo dessa base de dados, quantos anos ele(a) tem?"
      ],
      "metadata": {
        "id": "OZR9I94ew_K1"
      }
    },
    {
      "cell_type": "markdown",
      "source": [
        "*Escreva aqui sua resposta:*\n"
      ],
      "metadata": {
        "id": "qTDOZGo4w_K2"
      }
    },
    {
      "cell_type": "code",
      "source": [
        "# Escreva aqui seus códigos (insira mais células, se necessário)\n"
      ],
      "metadata": {
        "id": "lq20cpxQw_K2"
      },
      "execution_count": null,
      "outputs": []
    },
    {
      "cell_type": "markdown",
      "source": [
        "**Questão 4 (0,5 pontos)** Qual o primeiro quartil do atributo que indica a idade? Lembre-se que, nesse caso, o primeiro quartil vai indicar a idade que pelo menos 75% dos indivíduos possuem."
      ],
      "metadata": {
        "id": "Rg8XLhZ-yid_"
      }
    },
    {
      "cell_type": "markdown",
      "source": [
        "*Escreva aqui sua resposta:*\n"
      ],
      "metadata": {
        "id": "eDj6oSFkyieJ"
      }
    },
    {
      "cell_type": "code",
      "source": [
        "# Escreva aqui seus códigos (insira mais células, se necessário)\n"
      ],
      "metadata": {
        "id": "pPgp0wu1yieK"
      },
      "execution_count": null,
      "outputs": []
    },
    {
      "cell_type": "markdown",
      "source": [
        "**Questão 5 (0,5 pontos)** Qual o percentual de indivíduos divorciados (categoria *Divorced*) nessa base de dados?"
      ],
      "metadata": {
        "id": "LwGMr6wQxvXZ"
      }
    },
    {
      "cell_type": "markdown",
      "source": [
        "*Escreva aqui sua resposta:*\n"
      ],
      "metadata": {
        "id": "fDXmnQFlxvXa"
      }
    },
    {
      "cell_type": "code",
      "source": [
        "# Escreva aqui seus códigos (insira mais células, se necessário)\n"
      ],
      "metadata": {
        "id": "4PqbOi6axvXa"
      },
      "execution_count": null,
      "outputs": []
    },
    {
      "cell_type": "markdown",
      "source": [
        "**Questão 6 (0,5 pontos)** Qual o percentual de indivíduos com pelo menos 35 anos nessa base de dados?"
      ],
      "metadata": {
        "id": "0JTMmuXjznHw"
      }
    },
    {
      "cell_type": "markdown",
      "source": [
        "*Escreva aqui sua resposta:*\n"
      ],
      "metadata": {
        "id": "PNNCOSzTznH6"
      }
    },
    {
      "cell_type": "code",
      "source": [
        "# Escreva aqui seus códigos (insira mais células, se necessário)\n"
      ],
      "metadata": {
        "id": "jUIfcuRpznH7"
      },
      "execution_count": null,
      "outputs": []
    },
    {
      "cell_type": "markdown",
      "source": [
        "**Questão 7 (1,0 ponto)** Para os homens (*Male*) com menos de 65 anos, quantos recebem mais de 50 mil por ano?"
      ],
      "metadata": {
        "id": "o37euRin1bsX"
      }
    },
    {
      "cell_type": "markdown",
      "source": [
        "*Escreva aqui sua resposta:*\n"
      ],
      "metadata": {
        "id": "TbIUkxx11bsY"
      }
    },
    {
      "cell_type": "code",
      "source": [
        "# Escreva aqui seus códigos (insira mais células, se necessário)\n"
      ],
      "metadata": {
        "id": "-CZ7t7kp1bsY"
      },
      "execution_count": null,
      "outputs": []
    },
    {
      "cell_type": "markdown",
      "source": [
        "**Questão 8 (1,0 ponto)** Dentre as mulheres (*Female*), qual porcentagem recebem no máximo 50 mil por ano?"
      ],
      "metadata": {
        "id": "r6TWrRWk2vQ3"
      }
    },
    {
      "cell_type": "markdown",
      "source": [
        "*Escreva aqui sua resposta:*\n"
      ],
      "metadata": {
        "id": "m3wz1rbx2vQ3"
      }
    },
    {
      "cell_type": "code",
      "source": [
        "# Escreva aqui seus códigos (insira mais células, se necessário)\n"
      ],
      "metadata": {
        "id": "9fu1jSgr2vQ3"
      },
      "execution_count": null,
      "outputs": []
    },
    {
      "cell_type": "markdown",
      "source": [
        "**Questão 9 (1,0 ponto)** Ao comparar os homens e mulheres nessa base de dados e levando em conta apenas os indivíduos que ganham mais do que 50 mil por ano, a pessoa que teve a maior perda de capital com investimentos é um homem ou uma mulher? Qual a idade dessa pessoa?"
      ],
      "metadata": {
        "id": "mjwJ8a1F3aiG"
      }
    },
    {
      "cell_type": "markdown",
      "source": [
        "*Escreva aqui sua resposta:*\n"
      ],
      "metadata": {
        "id": "s_k7pdoE3aiH"
      }
    },
    {
      "cell_type": "code",
      "source": [
        "# Escreva aqui seus códigos (insira mais células, se necessário)\n"
      ],
      "metadata": {
        "id": "Eln-h13V3aiH"
      },
      "execution_count": null,
      "outputs": []
    },
    {
      "cell_type": "markdown",
      "source": [
        "**Questão 10 (1,0 ponto)** Muitas vezes, essa base de dados é utilizada para ilustrar um cenário de disparidade entre homens e mulheres. Verifique a porcentagem dos homens e das mulheres que ganham mais de 50 mil por ano. A disparidade é grande? Considere que uma diferença maior que 10% indica uma disparidade grande. Justifique sua resposta com base nas porcentagens calculadas."
      ],
      "metadata": {
        "id": "usV8CEd86xgl"
      }
    },
    {
      "cell_type": "markdown",
      "source": [
        "*Escreva aqui sua resposta:*\n"
      ],
      "metadata": {
        "id": "lsn3Nxai6xgs"
      }
    },
    {
      "cell_type": "code",
      "source": [
        "# Escreva aqui seus códigos (insira mais células, se necessário)\n"
      ],
      "metadata": {
        "id": "OCAciDVA6xgs"
      },
      "execution_count": null,
      "outputs": []
    },
    {
      "cell_type": "markdown",
      "source": [
        "**Questão 11 (1,0 ponto)** Verifique, agora, se há disparidades em relação aos brancos (categoria *White*) e negros (categoria *Black*). Para os brancos e para os negros, verifique a porcentagem dos que ganham mais que 50 mil por ano. A disparidade é grande? Considere, também, que uma diferença maior que 10% indica uma disparidade grande. Justifique sua resposta com base nas porcentagens calculadas."
      ],
      "metadata": {
        "id": "8uy5hayt93w2"
      }
    },
    {
      "cell_type": "markdown",
      "source": [
        "*Escreva aqui sua resposta:*\n"
      ],
      "metadata": {
        "id": "lArwPbXD93w2"
      }
    },
    {
      "cell_type": "code",
      "source": [
        "# Escreva aqui seus códigos (insira mais células, se necessário)\n"
      ],
      "metadata": {
        "id": "YKRegHw393w2"
      },
      "execution_count": null,
      "outputs": []
    },
    {
      "cell_type": "markdown",
      "source": [
        "**Questão 12 (1,0 ponto)** Indique o estado civil e o sexo da pessoa que teve a maior perda de capital nos investimentos. Apresente também essa perda de capital máxima. Não precisa traduzir para o português."
      ],
      "metadata": {
        "id": "_dz7ADK5IFzV"
      }
    },
    {
      "cell_type": "markdown",
      "source": [
        "*Escreva aqui sua resposta:*\n"
      ],
      "metadata": {
        "id": "F-XZDYYlIFzW"
      }
    },
    {
      "cell_type": "code",
      "source": [
        "# Escreva aqui seus códigos (insira mais células, se necessário)\n"
      ],
      "metadata": {
        "id": "wmXuJ1BFIFzX"
      },
      "execution_count": null,
      "outputs": []
    },
    {
      "cell_type": "markdown",
      "source": [
        "**Questão 13 (1,0 ponto)** Crie uma nova coluna de dados (dê o nome que quiser) que indique, para cada indivíduo, o saldo dos investimentos. Ou seja, a diferença entre o ganho e perda de capital nos investimentos. Calcule a média e o desvio-padrão dessa nova coluna de dados."
      ],
      "metadata": {
        "id": "u-EULPf8E3Lh"
      }
    },
    {
      "cell_type": "markdown",
      "source": [
        "*Escreva aqui sua resposta:*\n"
      ],
      "metadata": {
        "id": "cL8sKG52E3Lu"
      }
    },
    {
      "cell_type": "code",
      "source": [
        "# Escreva aqui seus códigos (insira mais células, se necessário)\n"
      ],
      "metadata": {
        "id": "MxD8cKQ5E3Lu"
      },
      "execution_count": null,
      "outputs": []
    }
  ]
}