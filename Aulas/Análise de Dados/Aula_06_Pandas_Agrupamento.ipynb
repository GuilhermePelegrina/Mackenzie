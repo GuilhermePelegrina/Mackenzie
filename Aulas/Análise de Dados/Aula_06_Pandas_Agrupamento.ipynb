{
  "nbformat": 4,
  "nbformat_minor": 0,
  "metadata": {
    "colab": {
      "provenance": [],
      "authorship_tag": "ABX9TyNzeTMQfPcDlX+GMVwc84p6",
      "include_colab_link": true
    },
    "kernelspec": {
      "name": "python3",
      "display_name": "Python 3"
    },
    "language_info": {
      "name": "python"
    }
  },
  "cells": [
    {
      "cell_type": "markdown",
      "metadata": {
        "id": "view-in-github",
        "colab_type": "text"
      },
      "source": [
        "<a href=\"https://colab.research.google.com/github/GuilhermePelegrina/Mackenzie/blob/main/Aulas/An%C3%A1lise%20de%20Dados/Aula_06_Pandas_Agrupamento.ipynb\" target=\"_parent\"><img src=\"https://colab.research.google.com/assets/colab-badge.svg\" alt=\"Open In Colab\"/></a>"
      ]
    },
    {
      "cell_type": "markdown",
      "source": [
        "<img src='https://raw.githubusercontent.com/guilhermepelegrina/Mackenzie/main/logo_mackenzie.png'>\n"
      ],
      "metadata": {
        "id": "23lJ008p-1dl"
      }
    },
    {
      "cell_type": "markdown",
      "source": [
        "# **Agrupamento de dados.**\n",
        "\n",
        "Nessa aula, veremos uma interface do Pandas que facilita a manipulação e seleção de conjunto de dados de acordo com grupos predefinidos. Ela é chamada de *GroupBy*. Com essa interfce, segmentaremos o conjunto de dados em grupos e, para cada grupo, extrairemos informações de interesse de maneira simplificada.\n",
        "\n",
        "Lembre-se das aulas anteriores que em alguns casos era interessante extrair informações de um grupo específico dos dados. Por exemplo, determinar a idade média das pessoas casadas, onde a categoria \"married\" define um grupo de indivíduos. Essa mesma análise poderia ser feita a partir de outros grupos, como \"single\" ou \"divorced\". Temos, então, análises e informações a serem extraídas de diferentes grupos.\n",
        "\n",
        "**Com o uso do *GroupBy*, separamos esses grupos com base em uma ou mais chaves. Depois disso, uma função é aplicada em cada grupo gerando novos valores. Por fim, os resultados são combinados em um objeto. O formato desse objeto dependerá, em geral, do que está sendo feito com os dados.**"
      ],
      "metadata": {
        "id": "DZmVjM2G-41L"
      }
    },
    {
      "cell_type": "markdown",
      "source": [
        "# Importando as bibliotecas"
      ],
      "metadata": {
        "id": "uUqiLsrsnAZJ"
      }
    },
    {
      "cell_type": "code",
      "execution_count": null,
      "metadata": {
        "id": "NCqg45Qu-07-"
      },
      "outputs": [],
      "source": [
        "import pandas as pd\n",
        "import numpy as np"
      ]
    },
    {
      "cell_type": "markdown",
      "source": [
        "## Exemplo\n",
        "\n",
        "Utilizaremos nessa aula um exemplo bastante simples com o objetivo de facilitar a compreensão do uso do *GroupBy*. Neste exemplo, analisamos a classificação de clientes de um banco como 'pagou o empréstimo' ou 'não pagou o empréstimo' (valores 1 e 0, respectivamente, na coluna `Repayment`). para caca cliente (linhas no conjunto de dados), temos os seguintes atributos: `Age` (idade de cliente), `Loan` (valor de empréstimo que o cliente pegou) e `Duration` (duração do crédito cedido, sendo curta, longa ou indefinida)."
      ],
      "metadata": {
        "id": "23DkCXL4rJr_"
      }
    },
    {
      "cell_type": "code",
      "source": [
        "dados = pd.DataFrame({'Age':[40,35,45,34,45,48,53,60,50,48,53],\n",
        "                      'Loan':[100000,60000,80000,40000,120000,98000,95000,92000,100000,170000,150000],\n",
        "                      'Duration':['Short','Long','Short','Undefined','Long','Short','Long','Short','Undefined','Long', 'Short'],\n",
        "                      'Repayment':[1,1,0,0,1,0,1,0,1,0,0] }) # 1=vai pagar 0=não vai pagar\n",
        "dados"
      ],
      "metadata": {
        "id": "zRB05-JNrJhp"
      },
      "execution_count": null,
      "outputs": []
    },
    {
      "cell_type": "markdown",
      "source": [
        "# Segmentando os dados\n",
        "\n",
        "Usando o *GroupBy*, segmentamos o conjunto de dados segundo as chaves definidas pelas categorias da variável categórica.\n",
        "\n",
        "Note nos códigos abaixo que o uso do *GroupBy* produz um objeto do tipo `DataFrameGroupBy`."
      ],
      "metadata": {
        "id": "lmailBNexda_"
      }
    },
    {
      "cell_type": "code",
      "source": [
        "dados.groupby(\"Repayment\")"
      ],
      "metadata": {
        "id": "-bOL0efyxdjm"
      },
      "execution_count": null,
      "outputs": []
    },
    {
      "cell_type": "markdown",
      "source": [
        "Veja, agora, como extrair as chaves definidas pela variável *Repayment*."
      ],
      "metadata": {
        "id": "YjHcnC1Dykwg"
      }
    },
    {
      "cell_type": "code",
      "source": [
        "dados.groupby(\"Repayment\").groups.keys() # mostra as categorias da variável selecionada"
      ],
      "metadata": {
        "id": "MfrmnMt9xrol"
      },
      "execution_count": null,
      "outputs": []
    },
    {
      "cell_type": "markdown",
      "source": [
        "# Iterando através dos grupos\n",
        "\n",
        "Para visualizar os dados separados pelas chaves, podemos iterar sobre os atributos do objeto `DataFrameGrupoBy`. Para cada subconjunto de dados definido por cada chave, o agrupamento preservará a ordem em que as observações apareceram no `DataFrame` original (ver os índices das linhas)."
      ],
      "metadata": {
        "id": "5zzRfHWezCF-"
      }
    },
    {
      "cell_type": "code",
      "source": [
        "grouped = dados.groupby(\"Repayment\")\n",
        "\n",
        "for chave,grupo in grouped:\n",
        "  print(chave)\n",
        "  print(grupo)"
      ],
      "metadata": {
        "id": "xY-CXRBHzjAH"
      },
      "execution_count": null,
      "outputs": []
    },
    {
      "cell_type": "markdown",
      "source": [
        "# Extraindo estatísticas dos grupos\n",
        "\n",
        "Assim como a aplicação das funções `max()`, `min()`, `mean()`, `quantile()`, `count()`, `sum()`, etc., pode ser feita ao objeto `Series`, elas também funcionam no objeto *GroupBy* para obter resultados para cada grupo.\n",
        "\n",
        "Há aqui, também, outras funções interessantes, como `first()` e `last()`, as quais descrevem os primeiros ou últimos dados, respectivamente.\n",
        "\n",
        "O comando utilizado nesse caso é `objeto.groupby(\"chave\").function()`."
      ],
      "metadata": {
        "id": "GfrIbGoE0V-e"
      }
    },
    {
      "cell_type": "code",
      "source": [
        "# Número de clientes que pagaram ou não o empréstimo\n",
        "\n",
        "dados.groupby(\"Repayment\").count()"
      ],
      "metadata": {
        "id": "cQ6nFR-31Nxw"
      },
      "execution_count": null,
      "outputs": []
    },
    {
      "cell_type": "code",
      "source": [
        "# Média de idades e de empréstimos\n",
        "\n",
        "dados.groupby(\"Repayment\").mean()"
      ],
      "metadata": {
        "id": "alYCZ9wW1mDO"
      },
      "execution_count": null,
      "outputs": []
    },
    {
      "cell_type": "markdown",
      "source": [
        "Como anteriorment definimos `grouped = dados.groupby(\"Repayment\")`, podemos aplicar a função diretamente sobre o objeto `grouped`."
      ],
      "metadata": {
        "id": "X-cQfGrT1yQo"
      }
    },
    {
      "cell_type": "code",
      "source": [
        "# Média de idades e de empréstimos\n",
        "\n",
        "grouped.last()"
      ],
      "metadata": {
        "id": "0r_6sHgLz2FZ"
      },
      "execution_count": null,
      "outputs": []
    },
    {
      "cell_type": "markdown",
      "source": [
        "# Seleção de colunas\n",
        "\n",
        "Indexar um objeto *GroupBy* criado a partir de um `DataFrame` permite criar subconjuntos de colunas para visualização. Para isso, o seguinte comando extrai informações de colunas específicas:\n",
        "\n",
        "`objeto.groupby(\"chave\")[[\"coluna_1\",...,\"coluna_n\"]].function()`\n",
        "\n",
        "**Lembre-se**: Um `DataFrame` é composto por um conjunto de colunas nomeadas.\n",
        "\n"
      ],
      "metadata": {
        "id": "Re0U9xU73xJA"
      }
    },
    {
      "cell_type": "code",
      "source": [
        "dados.groupby(\"Repayment\")[[\"Age\",\"Loan\"]].mean()"
      ],
      "metadata": {
        "id": "q4vqimKh5Wmf"
      },
      "execution_count": null,
      "outputs": []
    },
    {
      "cell_type": "markdown",
      "source": [
        "Ou, no caso de uma única coluna (reparem na diferença entre os dois comandos abaixo)."
      ],
      "metadata": {
        "id": "dy1mUw0L50PE"
      }
    },
    {
      "cell_type": "code",
      "source": [
        "dados.groupby(\"Repayment\")[[\"Age\"]].mean()"
      ],
      "metadata": {
        "id": "Dwzn6myj58nu"
      },
      "execution_count": null,
      "outputs": []
    },
    {
      "cell_type": "code",
      "source": [
        "dados.groupby(\"Repayment\")[\"Loan\"].sum()\n"
      ],
      "metadata": {
        "id": "YVhSI9_Y5vbw"
      },
      "execution_count": null,
      "outputs": []
    },
    {
      "cell_type": "markdown",
      "source": [
        "Se queremos extrair diversas estatísticas ao mesmo tempo, podemos usar a função `describe()`."
      ],
      "metadata": {
        "id": "az3Uy_HF6chF"
      }
    },
    {
      "cell_type": "code",
      "source": [
        "dados.groupby(\"Repayment\")[[\"Age\",\"Loan\"]].describe()"
      ],
      "metadata": {
        "id": "w9TdjjXL6lsg"
      },
      "execution_count": null,
      "outputs": []
    },
    {
      "cell_type": "markdown",
      "source": [
        "# Segmentando os dados usando mais de uma chave\n",
        "\n",
        "É possível separar os dados em grupos com base em mais de uma chave. Para isso, usamos o seguinte comando:\n",
        "\n",
        "`objeto.groupby([\"chave 1\",\"chave 2\",...,\"chave k\"]).function`"
      ],
      "metadata": {
        "id": "jOnS8jAE809T"
      }
    },
    {
      "cell_type": "code",
      "source": [
        "# Exemplo\n",
        "\n",
        "dados.groupby(['Duration', 'Repayment']).mean()"
      ],
      "metadata": {
        "id": "99XYh_UY9OEj"
      },
      "execution_count": null,
      "outputs": []
    },
    {
      "cell_type": "code",
      "source": [
        "# Para uma única coluna\n",
        "\n",
        "dados.groupby(['Duration', 'Repayment'])[['Loan']].mean()"
      ],
      "metadata": {
        "id": "xuXV8B549p58"
      },
      "execution_count": null,
      "outputs": []
    },
    {
      "cell_type": "markdown",
      "source": [
        "# Selecionando dados de apenas um grupo\n",
        "\n",
        "Com o uso da função `get_group()`, podemos selecionar uma única categoria após os resultados serem combinados em um objeto.\n",
        "\n",
        "`objeto.groupby(\"chave\")[[\"var_1\",...,\"var_n\"]].get_group().function()`"
      ],
      "metadata": {
        "id": "ZpzaItUM99NV"
      }
    },
    {
      "cell_type": "code",
      "source": [
        "dados.groupby('Repayment')[['Age', 'Loan']].get_group(0).describe()"
      ],
      "metadata": {
        "id": "mG4nmCff-KcF"
      },
      "execution_count": null,
      "outputs": []
    },
    {
      "cell_type": "markdown",
      "source": [
        "Esse comando também pode ser usado quando segmentamos os dados usando mais chaves. O comando é o seguinte:\n",
        "\n",
        "`objeto.groupby([\"chave 1\",...\"chave n\"]).get_group((\"categoria 1\",..., \"categoria n\"))[[\"var\"]].function()`\n",
        "\n"
      ],
      "metadata": {
        "id": "gZuJ2dI1-h31"
      }
    },
    {
      "cell_type": "code",
      "source": [
        "dados.groupby(['Repayment', 'Duration'])[['Age', 'Loan']].get_group((0,'Short')).describe()"
      ],
      "metadata": {
        "id": "iU9ljbN9-vat"
      },
      "execution_count": null,
      "outputs": []
    },
    {
      "cell_type": "markdown",
      "source": [
        "## Definind funções específicas\n",
        "\n",
        "Dado um objeto *GroupBy* criado, também podemos passar uma lista de funções para aplicá-las ao mesmo tempo usando a função agg(). O comando é o seguinte:\n",
        "\n",
        "`objeto.groupby().agg([function_1(),...,function_n()])`\n",
        "\n",
        "Podemos usar a biblioteca `numpy` para definira s funções que queremos utilizar, por exemplo, `sum, `mean` e `std`."
      ],
      "metadata": {
        "id": "qQ8DfiDqAsbr"
      }
    },
    {
      "cell_type": "code",
      "source": [
        "dados.groupby(\"Repayment\").agg([np.sum, np.mean, np.std])"
      ],
      "metadata": {
        "id": "o2a9KTPVB-Gs"
      },
      "execution_count": null,
      "outputs": []
    },
    {
      "cell_type": "markdown",
      "source": [
        "Se estivermos interessados em selecionar uma coluna (ou colunas) específicas e aplicar tais funções, usamos o código seguinte.\n",
        "\n",
        "`objeto.groupby(\"chave\")[[\"coluna_1\",...,\"coluna_n\"]].agg([function_1(),...,function_n()])`\n",
        "\n",
        "Note que esse procedimento é interessante quando temos muitas variáveis em nossa base de dados."
      ],
      "metadata": {
        "id": "TgPmJMY7CEYk"
      }
    },
    {
      "cell_type": "code",
      "source": [
        "# Com uma chave\n",
        "dados.groupby(\"Repayment\")[[\"Age\", \"Loan\"]].agg([np.sum, np.mean, np.std])"
      ],
      "metadata": {
        "id": "qEaLbp1sCie3"
      },
      "execution_count": null,
      "outputs": []
    },
    {
      "cell_type": "code",
      "source": [
        "# Com múltiplas chaves\n",
        "dados.groupby([\"Repayment\", 'Duration'])[[\"Age\", \"Loan\"]].agg([np.sum, np.mean, np.std])"
      ],
      "metadata": {
        "id": "rsmPXGx6C0ok"
      },
      "execution_count": null,
      "outputs": []
    },
    {
      "cell_type": "markdown",
      "source": [
        "# Outros pontos sobre o *GroupBy*\n",
        "\n",
        "Por padrão, as chaves de grupo são ordenadas (em ordem alfabética ou numérica) durante a operação de agrupamento. No entanto, você pode passar `sort = False` para alterar a ordem."
      ],
      "metadata": {
        "id": "042KSDbODh6s"
      }
    },
    {
      "cell_type": "code",
      "source": [
        "dados.groupby(\"Repayment\",sort = False).groups.keys() # mostra as categorias da variável selecionada"
      ],
      "metadata": {
        "id": "SMmDj24_D5CF"
      },
      "execution_count": null,
      "outputs": []
    },
    {
      "cell_type": "markdown",
      "source": [
        "Além disso, por padrão, os valores `NaN` são excluídos das chaves de grupo durante a operação *GroupBy*. No entanto, caso você queira incluir os valores `NaN` nas chaves de grupo, pode passar `dropna = False` para obtê-lo.\n",
        "\n",
        "Veja o exemplo abaixo."
      ],
      "metadata": {
        "id": "t9bHY2zx4LpH"
      }
    },
    {
      "cell_type": "code",
      "source": [
        "dados2 = pd.DataFrame({'Age':[40,35,45,34,45,48,53,60,50,48,53],\n",
        "                      'Loan':[100000,60000,80000,40000,120000,98000,95000,92000,100000,170000,150000],\n",
        "                      'Duration':['Short','Long','Short','Undefined','Long','Short','Long','Short','Undefined','Long', 'Short'],\n",
        "                      'Repayment':[1,1,0,0,1,None,1,0,1,0,0] }) # 1=vai pagar 0=não vai pagar\n",
        "dados2"
      ],
      "metadata": {
        "id": "PX76LD5TEU46"
      },
      "execution_count": null,
      "outputs": []
    },
    {
      "cell_type": "code",
      "source": [
        "dados2.groupby(\"Repayment\")[[\"Age\"]].count()"
      ],
      "metadata": {
        "id": "Y_OOzbJyEWPc"
      },
      "execution_count": null,
      "outputs": []
    },
    {
      "cell_type": "code",
      "source": [
        "dados2.groupby(\"Repayment\", dropna=False)[[\"Age\"]].count()"
      ],
      "metadata": {
        "id": "NpaVY-tcElOs"
      },
      "execution_count": null,
      "outputs": []
    },
    {
      "cell_type": "markdown",
      "source": [
        "# Veja o exemplo abaixo da atividade da aula anterior"
      ],
      "metadata": {
        "id": "YSrkRkgtFjRF"
      }
    },
    {
      "cell_type": "code",
      "source": [
        "# Lendo os dados\n",
        "import pandas as pd\n",
        "\n",
        "df = pd.read_csv(\"https://raw.githubusercontent.com/rfordatascience/tidytuesday/master/data/2020/2020-08-04/energy_types.csv\", sep = ',')\n",
        "df.head(5)"
      ],
      "metadata": {
        "id": "_hbYAabRFns0"
      },
      "execution_count": null,
      "outputs": []
    },
    {
      "cell_type": "code",
      "source": [
        "# Média e desvio padrão da produção de energia Solar na França em 2017\n",
        "\n",
        "df.groupby(['country_name', 'type'])[[\"2017\"]].get_group(('France', 'Solar')).mean()"
      ],
      "metadata": {
        "id": "wsF1t0_oFwGk"
      },
      "execution_count": null,
      "outputs": []
    },
    {
      "cell_type": "code",
      "source": [
        "# Porcentagem da produção de energia Solar na França em 2017\n",
        "\n",
        "df.groupby(['country_name', 'type'])[[\"2018\"]].get_group(('France', 'Solar')).sum()/df.groupby(['country_name'])[[\"2018\"]].get_group(('France')).sum()"
      ],
      "metadata": {
        "id": "N3ahO--aHsll"
      },
      "execution_count": null,
      "outputs": []
    },
    {
      "cell_type": "markdown",
      "source": [
        "# **Atividade Prática**\n",
        "\n",
        "Para a atividade prática desta aula, considere a base de dados dos salários de uma companhia, disponível no link [Salários](http://www.orlandoalbarracin.com.br/phyton/data2.csv).\n",
        "\n",
        "Responda o que se pede no questionário disponível no Moodle."
      ],
      "metadata": {
        "id": "seLd0ct0S_7s"
      }
    }
  ]
}