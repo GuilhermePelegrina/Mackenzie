{
  "nbformat": 4,
  "nbformat_minor": 0,
  "metadata": {
    "colab": {
      "provenance": [],
      "authorship_tag": "ABX9TyOYQbuNRRzuXAjtA3vNpbDB",
      "include_colab_link": true
    },
    "kernelspec": {
      "name": "python3",
      "display_name": "Python 3"
    },
    "language_info": {
      "name": "python"
    }
  },
  "cells": [
    {
      "cell_type": "markdown",
      "metadata": {
        "id": "view-in-github",
        "colab_type": "text"
      },
      "source": [
        "<a href=\"https://colab.research.google.com/github/GuilhermePelegrina/Mackenzie/blob/main/Aulas/An%C3%A1lise%20de%20Dados/Prova_N1_compas_turma_6O11.ipynb\" target=\"_parent\"><img src=\"https://colab.research.google.com/assets/colab-badge.svg\" alt=\"Open In Colab\"/></a>"
      ]
    },
    {
      "cell_type": "markdown",
      "source": [
        "<img src='https://raw.githubusercontent.com/guilhermepelegrina/Mackenzie/main/logo_mackenzie.png'>"
      ],
      "metadata": {
        "id": "lIwgwfQLf3qv"
      }
    },
    {
      "cell_type": "markdown",
      "source": [
        "# **Prova N1 - Análise de Dados - Turma 6O11**\n",
        "\n",
        "Este notebook contém as instruções e questões da Prova N1 para a disciplina de Análise de Dados da turma 6O11."
      ],
      "metadata": {
        "id": "teRMSe61f5ZW"
      }
    },
    {
      "cell_type": "markdown",
      "source": [
        "# Instruções\n",
        "\n",
        "## Leitura dos dados\n",
        "\n",
        "Para responder as questões da prova, utilize o conjunto de dados [COMPAS Recidivism Risk](https://www.propublica.org/article/machine-bias-risk-assessments-in-criminal-sentencing), da ProPublica. A base de dados COMPAS contém diversos atributos descrevendo pessoas detidas por crimes. São eles:\n",
        "\n",
        "- `sex`: sexo.\n",
        "\n",
        "- `age_cat`: faixa etária.\n",
        "\n",
        "- `race`: raça.\n",
        "\n",
        "- `juv_fel_count`: número de crimes cometidos na juventude.\n",
        "\n",
        "- `juv_misd_count`: número de contravenções cometidos na juventude.\n",
        "\n",
        "- `juv_other_count`: número de condenações juvenis anteriores que não são consideradas crimes ou contravenções.\n",
        "\n",
        "- `priors_count`: número de crimes anteriores cometidos.\n",
        "\n",
        "- `c_charge_degree`: motivo de ter sido detido, se foi por crime (F) ou contravenção (M).\n",
        "\n",
        "Para cada pessoa, há também a indicação se esse indivíduo será um potencial reincidente criminal (ou seja, provavelemente vai cometer outro crime) ou não. Isso é indicado pelo atributo\n",
        "\n",
        "- `score_risk`: 1 indica que é classificado como possível reincidente e -1 indica que não.\n",
        "\n",
        "Para ler o conjunto de dados, utilize o arquivo `.csv` disponível no link abaixo:\n",
        "\n",
        "https://raw.githubusercontent.com/guilhermepelegrina/Mackenzie/main/Datasets/data_compas_projC1_train.csv\n",
        "\n",
        "## Questões e respostas\n",
        "\n",
        "As questões se encontram logo ao final das instruções. Após cada questão, há células para inserirem códigos e buscarem pelas respostas (insira mais células, se necessário). Além disso, também há células de texto para que seja escrita a resposta da questão.\n",
        "\n",
        "## Envio do notebook com as questões e respostas\n",
        "\n",
        "Após finalizar a prova, faça o download do notebook nos formatos `.ipynb` e `.pdf` (dois arquivos) e submeta no Moodle, da seguinte forma:\n",
        "\n",
        "- Antes de salvar o arquivo, confira se todas as questões, seus códigos e suas respostas estão no notebook.\n",
        "\n",
        "- Para fazer o download do notebook no formato `.ipynb`, clique em *Arquivo* - *Fazer download* - *Fazer o download do .ipynb*. Salve o arquivo com seu RA e nome (ex: 1172211_Guilherme).\n",
        "\n",
        "- Para fazer o download do notebook no formato `.pdf`, clique em *Arquivo* - *Imprimir*. Salve o arquivo com seu RA e nome (ex: 1172211_Guilherme). Confira se o arquivo contém todos os códigos e respostas.\n",
        "\n",
        "- Após fazer o download do notebook, submeta os arquivos no Moodle. Para isso, acesse o Moodle, vá até o tópico *Provas* - *Envio da Prova N1* e envie os arquivos. **Lembre-se de finalizar o envio!**"
      ],
      "metadata": {
        "id": "OwzLQ9AnhCje"
      }
    },
    {
      "cell_type": "markdown",
      "source": [
        "# BOA PROVA!"
      ],
      "metadata": {
        "id": "xK3piSTjKzqG"
      }
    },
    {
      "cell_type": "markdown",
      "source": [
        "**Questão 1 (0,5 pontos)** Leia o arquivo mencionado acima. Há quantas colunas e quantas linhas nessa base de dados?"
      ],
      "metadata": {
        "id": "CHM_MSiDsjLI"
      }
    },
    {
      "cell_type": "markdown",
      "source": [
        "*Escreva aqui sua resposta:*\n"
      ],
      "metadata": {
        "id": "v7CuN2Xqv_mO"
      }
    },
    {
      "cell_type": "code",
      "execution_count": null,
      "metadata": {
        "id": "7FZNTVKefdI9"
      },
      "outputs": [],
      "source": [
        "# Escreva aqui seus códigos (insira mais células, se necessário)\n",
        "\n"
      ]
    },
    {
      "cell_type": "markdown",
      "source": [
        "**Questão 2 (0,5 pontos)** Em relação ao penúltimo indivíduo dessa base de dados, quantos crimes anteriores ele(a) havia cometido?"
      ],
      "metadata": {
        "id": "OZR9I94ew_K1"
      }
    },
    {
      "cell_type": "markdown",
      "source": [
        "*Escreva aqui sua resposta:*\n"
      ],
      "metadata": {
        "id": "qTDOZGo4w_K2"
      }
    },
    {
      "cell_type": "code",
      "source": [
        "# Escreva aqui seus códigos (insira mais células, se necessário)\n"
      ],
      "metadata": {
        "id": "lq20cpxQw_K2"
      },
      "execution_count": null,
      "outputs": []
    },
    {
      "cell_type": "markdown",
      "source": [
        "**Questão 3 (0,5 pontos)** Qual o terceiro quartil do número de crimes anteriores cometidos? Lembre-se que, nesse caso, o terceiro quartil vai indicar o número mínimo de crimes anteriores cometidos por pelo menos 25% dos indivíduos."
      ],
      "metadata": {
        "id": "Rg8XLhZ-yid_"
      }
    },
    {
      "cell_type": "markdown",
      "source": [
        "*Escreva aqui sua resposta:*\n",
        "\n"
      ],
      "metadata": {
        "id": "eDj6oSFkyieJ"
      }
    },
    {
      "cell_type": "code",
      "source": [
        "# Escreva aqui seus códigos (insira mais células, se necessário)\n",
        "\n"
      ],
      "metadata": {
        "id": "pPgp0wu1yieK"
      },
      "execution_count": null,
      "outputs": []
    },
    {
      "cell_type": "markdown",
      "source": [
        "**Questão 4 (0,5 pontos)** Há quantas faixas etárias nessa base de dados? Indique quais são elas."
      ],
      "metadata": {
        "id": "egXExNrIwHjW"
      }
    },
    {
      "cell_type": "markdown",
      "source": [
        "*Escreva aqui sua resposta:*\n"
      ],
      "metadata": {
        "id": "7bLjZlukwO9L"
      }
    },
    {
      "cell_type": "code",
      "source": [
        "# Escreva aqui seus códigos (insira mais células, se necessário)\n"
      ],
      "metadata": {
        "id": "W_gj0CmJf3hw"
      },
      "execution_count": null,
      "outputs": []
    },
    {
      "cell_type": "markdown",
      "source": [
        "**Questão 5 (0,5 pontos)** Qual o percentual de indivíduos *Caucasian* nessa base de dados?"
      ],
      "metadata": {
        "id": "LwGMr6wQxvXZ"
      }
    },
    {
      "cell_type": "markdown",
      "source": [
        "*Escreva aqui sua resposta:*\n",
        "\n"
      ],
      "metadata": {
        "id": "fDXmnQFlxvXa"
      }
    },
    {
      "cell_type": "code",
      "source": [
        "# Escreva aqui seus códigos (insira mais células, se necessário)\n",
        "\n"
      ],
      "metadata": {
        "id": "4PqbOi6axvXa"
      },
      "execution_count": null,
      "outputs": []
    },
    {
      "cell_type": "markdown",
      "source": [
        "**Questão 6 (0,5 pontos)** Ao selecionarmos aleatoriamente 100 indivíduos dessa base de dados, quantas contravenções, em média, eles teriam cometido na juventude?"
      ],
      "metadata": {
        "id": "0JTMmuXjznHw"
      }
    },
    {
      "cell_type": "markdown",
      "source": [
        "*Escreva aqui sua resposta:*\n",
        "\n"
      ],
      "metadata": {
        "id": "PNNCOSzTznH6"
      }
    },
    {
      "cell_type": "code",
      "source": [
        "# Escreva aqui seus códigos (insira mais células, se necessário)\n",
        "\n"
      ],
      "metadata": {
        "id": "jUIfcuRpznH7"
      },
      "execution_count": null,
      "outputs": []
    },
    {
      "cell_type": "markdown",
      "source": [
        "**Questão 7 (1,0 ponto)** Para os homens (*Male*) com mais de 45 anos, quantos são tidos como potenciais reincidentes criminais?"
      ],
      "metadata": {
        "id": "o37euRin1bsX"
      }
    },
    {
      "cell_type": "markdown",
      "source": [
        "*Escreva aqui sua resposta:*\n",
        "\n"
      ],
      "metadata": {
        "id": "TbIUkxx11bsY"
      }
    },
    {
      "cell_type": "code",
      "source": [
        "# Escreva aqui seus códigos (insira mais células, se necessário)\n",
        "\n"
      ],
      "metadata": {
        "id": "-CZ7t7kp1bsY"
      },
      "execution_count": null,
      "outputs": []
    },
    {
      "cell_type": "markdown",
      "source": [
        "**Questão 8 (1,0 ponto)** Dentre as mulheres (*Female*), qual porcentagem são tidas como potenciais reincidentes criminais?"
      ],
      "metadata": {
        "id": "r6TWrRWk2vQ3"
      }
    },
    {
      "cell_type": "markdown",
      "source": [
        "*Escreva aqui sua resposta:*\n",
        "\n"
      ],
      "metadata": {
        "id": "m3wz1rbx2vQ3"
      }
    },
    {
      "cell_type": "code",
      "source": [
        "# Escreva aqui seus códigos (insira mais células, se necessário)\n",
        "\n"
      ],
      "metadata": {
        "id": "9fu1jSgr2vQ3"
      },
      "execution_count": null,
      "outputs": []
    },
    {
      "cell_type": "markdown",
      "source": [
        "**Questão 9 (1,0 ponto)** Ao comparar os homens e mulheres nessa base de dados e levando em conta apenas os indivíduos com até 25 anos, a pessoa que cometeu mais crimes anteriores é um homem ou uma mulher? Qual foi esse valor máximo encontrado?"
      ],
      "metadata": {
        "id": "mjwJ8a1F3aiG"
      }
    },
    {
      "cell_type": "markdown",
      "source": [
        "*Escreva aqui sua resposta:*\n",
        "\n"
      ],
      "metadata": {
        "id": "s_k7pdoE3aiH"
      }
    },
    {
      "cell_type": "code",
      "source": [
        "# Escreva aqui seus códigos (insira mais células, se necessário)\n",
        "\n"
      ],
      "metadata": {
        "id": "Eln-h13V3aiH"
      },
      "execution_count": null,
      "outputs": []
    },
    {
      "cell_type": "markdown",
      "source": [
        "**Questão 10 (1,0 ponto)** Essa base de dados ficou conhecida por apresentar disparidades raciais. Verifique a porcentagem que os *Caucasian* e que os *African-American* são classificados como possíveis reincidentes criminais. A disparidade é grande? Considere que uma diferença maior que 10% indica uma disparidade grande. Justifique sua resposta com base nas porcentagens calculadas para cada raça."
      ],
      "metadata": {
        "id": "usV8CEd86xgl"
      }
    },
    {
      "cell_type": "markdown",
      "source": [
        "*Escreva aqui sua resposta:*\n"
      ],
      "metadata": {
        "id": "lsn3Nxai6xgs"
      }
    },
    {
      "cell_type": "code",
      "source": [
        "# Escreva aqui seus códigos (insira mais células, se necessário)\n",
        "\n"
      ],
      "metadata": {
        "id": "OCAciDVA6xgs"
      },
      "execution_count": null,
      "outputs": []
    },
    {
      "cell_type": "markdown",
      "source": [
        "**Questão 11 (1,0 ponto)** Verifique, agora, se há disparidades em relação ao sexo. Verifique a porcentagem que as mulheres e os homens são classificados como possíveis reincidentes criminais. A disparidade é grande? Considere, também, que uma diferença maior que 10% indica uma disparidade grande. Justifique sua resposta com base nas porcentagens calculadas para cada sexo."
      ],
      "metadata": {
        "id": "8uy5hayt93w2"
      }
    },
    {
      "cell_type": "markdown",
      "source": [
        "*Escreva aqui sua resposta:*\n",
        "\n"
      ],
      "metadata": {
        "id": "lArwPbXD93w2"
      }
    },
    {
      "cell_type": "code",
      "source": [
        "# Escreva aqui seus códigos (insira mais células, se necessário)\n",
        "\n"
      ],
      "metadata": {
        "id": "YKRegHw393w2"
      },
      "execution_count": null,
      "outputs": []
    },
    {
      "cell_type": "markdown",
      "source": [
        "**Questão 12 (1,0 ponto)** Crie uma nova coluna de dados (dê o nome que quiser) que indique, para cada indivíduo, a soma dos números de crimes e de contravenções que o mesmo cometeu na juventude. Calcule a média e o desvio-padrão dessa nova coluna de dados."
      ],
      "metadata": {
        "id": "u-EULPf8E3Lh"
      }
    },
    {
      "cell_type": "markdown",
      "source": [
        "*Escreva aqui sua resposta:*\n"
      ],
      "metadata": {
        "id": "cL8sKG52E3Lu"
      }
    },
    {
      "cell_type": "code",
      "source": [
        "# Escreva aqui seus códigos (insira mais células, se necessário)\n",
        "\n"
      ],
      "metadata": {
        "id": "MxD8cKQ5E3Lu"
      },
      "execution_count": null,
      "outputs": []
    },
    {
      "cell_type": "markdown",
      "source": [
        "**Questão 13 (1,0 ponto)** Com base nessa nova coluna criada na questão anterior, indique a raça, o sexo e a faixa etária da pessoa que cometeu o maior número de crimes ou contravenções na juventude."
      ],
      "metadata": {
        "id": "_dz7ADK5IFzV"
      }
    },
    {
      "cell_type": "markdown",
      "source": [
        "*Escreva aqui sua resposta:*\n",
        "\n"
      ],
      "metadata": {
        "id": "F-XZDYYlIFzW"
      }
    },
    {
      "cell_type": "code",
      "source": [
        "# Escreva aqui seus códigos (insira mais células, se necessário)\n",
        "\n",
        "\n"
      ],
      "metadata": {
        "id": "wmXuJ1BFIFzX"
      },
      "execution_count": null,
      "outputs": []
    }
  ]
}