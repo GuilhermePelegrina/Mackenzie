{
  "nbformat": 4,
  "nbformat_minor": 0,
  "metadata": {
    "anaconda-cloud": {},
    "kernelspec": {
      "display_name": "Python 3",
      "language": "python",
      "name": "python3"
    },
    "language_info": {
      "codemirror_mode": {
        "name": "ipython",
        "version": 3
      },
      "file_extension": ".py",
      "mimetype": "text/x-python",
      "name": "python",
      "nbconvert_exporter": "python",
      "pygments_lexer": "ipython3",
      "version": "3.7.4"
    },
    "colab": {
      "provenance": [],
      "include_colab_link": true
    }
  },
  "cells": [
    {
      "cell_type": "markdown",
      "metadata": {
        "id": "view-in-github",
        "colab_type": "text"
      },
      "source": [
        "<a href=\"https://colab.research.google.com/github/GuilhermePelegrina/Mackenzie/blob/main/Aulas/2s2024/TIC/Aula_09_Redes_neurais.ipynb\" target=\"_parent\"><img src=\"https://colab.research.google.com/assets/colab-badge.svg\" alt=\"Open In Colab\"/></a>"
      ]
    },
    {
      "cell_type": "markdown",
      "metadata": {
        "id": "gglUriLmo1sR"
      },
      "source": [
        "<head>\n",
        "  <meta name=\"author\" content=\"Rogério de Oliveira\">\n",
        "  <meta institution=\"author\" content=\"Universidade Presbiteriana Mackenzie\">\n",
        "</head>\n",
        "\n",
        "<img src=\"http://meusite.mackenzie.br/rogerio/mackenzie_logo/UPM.2_horizontal_vermelho.jpg\" width=300, align=\"left\"></a>\n",
        "<!-- <h1 align=left><font size = 6, style=\"color:rgb(200,0,0)\"> optional title </font></h1> -->"
      ]
    },
    {
      "cell_type": "markdown",
      "metadata": {
        "id": "-G7aCMh4r9y1"
      },
      "source": [
        "<h1 align=left><font size = 6, style=\"color:rgb(200,0,0)\">Redes Neurais</font></h1>\n",
        "<hr>"
      ]
    },
    {
      "cell_type": "code",
      "source": [
        "# imports\n",
        "import numpy as np\n",
        "import pandas as pd\n",
        "import matplotlib.pyplot as plt\n",
        "import seaborn as sns\n",
        "import warnings\n",
        "warnings.filterwarnings(\"ignore\")"
      ],
      "metadata": {
        "id": "wQUAd-PP6KmZ"
      },
      "execution_count": null,
      "outputs": []
    },
    {
      "cell_type": "markdown",
      "source": [
        "# Neurônio simples\n",
        "\n",
        "Um neurônio simples é a **unidade básica de processamento** em uma rede neural artificial. Ele é inspirado no neurônio biológico encontrado no cérebro humano e consiste em uma ou mais entradas que são somadas ponderadamente, seguidas de uma função de ativação que produz uma saída."
      ],
      "metadata": {
        "id": "59iRYiIUQhuF"
      }
    },
    {
      "cell_type": "markdown",
      "source": [
        "<img src=\"http://www.orlandoalbarracin.com.br/phyton/neuronio.png\" width=550, align=\"left\">\n",
        "<!-- <h1 align=left><font size = 6, style=\"color:rgb(200,0,0)\"> optional title </font></h1> -->"
      ],
      "metadata": {
        "id": "Ypa4-nakSahG"
      }
    },
    {
      "cell_type": "markdown",
      "source": [
        "As funções de ativação, $\\varphi ()$, são aplicadas em redes neurais para determinar a saída de um neurônio. Sejam $x_1,...,x_n$ os valores de entrada e $w_1,...., w_n$ os pesos, então,\n",
        "\n",
        "$$ f(X) = \\varphi(w_1 x_1 + ... + w_n x_n ) $$.\n",
        "\n",
        "Os pesos $w_i$ são determinados de tal forma que o erro de predição (valor observado - valor previsto pelo modelo) seja minimizado.\n",
        "\n",
        "Algumas das funções de ativação mais comuns são:\n",
        "\n",
        "*   Função Sigmoide: mapeia um número para um valor entre 0 e 1, permitindo a saída de valores de probabilidade.\n",
        "*   Função Tanh: mapeia um número para um valor entre -1 e 1.\n",
        "*   Função Softmax: é usada em problemas de classificação e normaliza as saídas para que a soma das saídas seja igual a 1."
      ],
      "metadata": {
        "id": "nyolhiNZSwId"
      }
    },
    {
      "cell_type": "markdown",
      "source": [
        "A função sigmoid é definida:\n",
        "\n",
        "$$f(x) = \\dfrac{1}{1 + e^{-x}}$$\n",
        "\n",
        "em que x é a entrada e f(x) é a saída. A sigmoid é diferenciável em todos os pontos, o que a torna útil para treinamento de redes neurais usando algoritmos de otimização baseados em gradiente."
      ],
      "metadata": {
        "id": "0z2oCrnwSx3y"
      }
    },
    {
      "cell_type": "markdown",
      "source": [
        "## Limitações\n",
        "\n",
        "*   Dificuldade em lidar com dados não lineares: Modelam relações lineares entre as variáveis de entrada e saída.\n",
        "\n",
        "*   Dificuldade em lidar com problemas complexos: Os neurônios simples são adequados apenas para problemas simples.\n",
        "\n",
        "*   Tendência ao overfitting: Os neurônios simples são propensos a overfitting. Isso ocorre quando a rede é ajustada demais aos dados de treinamento e não generaliza bem para novos dados."
      ],
      "metadata": {
        "id": "RaF_lhKnpizZ"
      }
    },
    {
      "cell_type": "markdown",
      "source": [
        "Assim, um único neurônio somente tem capacidade para fazer a separação de conjuntos linearmente separáveis. Para resolver essa limitação podemos então trabalhar com múltiplos neurônios em camadas.\n",
        "\n",
        "As saídas dos neurônios de uma camada são então empregadas como entradas para a seguinte camada.\n",
        "\n",
        "Os neurônios que estão entre a camada de entrada e a camada de saída é chamado de Camadas ocultas **(hidden layers)**. Essas camadas são chamadas de \"ocultas\" porque não se comunicam diretamente com o usuário. O objetivo delas é transformar os dados de entrada em um formato mais útil para o aprendizado da rede."
      ],
      "metadata": {
        "id": "dCMS3NL528GC"
      }
    },
    {
      "cell_type": "markdown",
      "source": [
        "<img src=\"http://www.orlandoalbarracin.com.br/phyton/neuronio2.png\" width=550, align=\"left\">\n",
        "<!-- <h1 align=left><font size = 6, style=\"color:rgb(200,0,0)\"> optional title </font></h1> -->"
      ],
      "metadata": {
        "id": "dsaFvDwMqmKn"
      }
    },
    {
      "cell_type": "markdown",
      "source": [
        "Cada camada oculta tem um conjunto de pesos que são ajustados durante o processo de treinamento para minimizar o erro da rede. A adição de camadas ocultas aumenta a capacidade da rede neural de capturar relações complexas entre as variáveis de entrada e saída\n",
        "\n",
        "\n",
        "O treinamento da rede segue o mesmo princípio, embora mais complexo, ajustando os pesos $w_n$ de acordo com o erro de predição obtido para se estimar a saída $y$. Chamamos esse aprendizado de *backpropagation* ou *retropropagação*.\n",
        "\n",
        "Acesse agora http://playground.tensorflow.org/ para uma demonstração."
      ],
      "metadata": {
        "id": "9V2L6KeP3FhV"
      }
    },
    {
      "cell_type": "markdown",
      "source": [
        "Esse [artigo](http://meusite.mackenzie.br/rogerio/ML/The-InfoQ-eMag-Introduction-to-Machine-Learning.pdf) trás uma ótima introdução ao Aprendizado de Máquina. Nele há uma aplicação de dois modelos de classificação,**Árvores de Decisão e Regressão Logística**, para um conjunto de dado simples para detecção de fraude em operações de cartões de crédito."
      ],
      "metadata": {
        "id": "ZKpUr9465hVm"
      }
    },
    {
      "cell_type": "code",
      "source": [
        "pd.read_csv(\"/content/qconlondon2016_sample_data.csv\")"
      ],
      "metadata": {
        "id": "sEfjUZy7AeWE"
      },
      "execution_count": null,
      "outputs": []
    },
    {
      "cell_type": "markdown",
      "metadata": {
        "id": "Li1FPlObIQAh"
      },
      "source": [
        "# **Case**: Detecção de Fraude em Operações de Cartão de Crédito\n",
        "\n",
        "\n"
      ]
    },
    {
      "cell_type": "markdown",
      "source": [
        "\n",
        "Aqui você vamos empregar o conjunto de dados:\n",
        "\n",
        "URL: https://meusite.mackenzie.br/rogerio/ML/qconlondon2016_sample_data.csv\n",
        "\n",
        "Vamos usar a biblioteca `Keras` para usar redes neurais. A aplicação consiste em treinar o modelo para identificar se uma operação é um fraude ou não.\n",
        "\n",
        "**IMPORTANTE**\n",
        "O uso de deeplearning pode ser bastante complexo e exigiria um bom tempo para estarmos aptos a empregar suas funções em diferentes problemas. Entenda esse exemplo como uma *degustação* do deep learning apenas para que você possa fixar os conceitos dessa técnica."
      ],
      "metadata": {
        "id": "6II-2rXh5LC9"
      }
    },
    {
      "cell_type": "markdown",
      "metadata": {
        "id": "yjsISOzrZzPg"
      },
      "source": [
        "### Explorando os dados\n"
      ]
    },
    {
      "cell_type": "code",
      "metadata": {
        "id": "SIeEbP1HZxop"
      },
      "source": [
        "fraud = pd.read_csv(\"/content/qconlondon2016_sample_data.csv\")\n",
        "fraud.drop(columns=['charge_time'],inplace=True) # por simplicidade excluímos esse dado do treinamento\n",
        "\n",
        "fraud.head()"
      ],
      "execution_count": null,
      "outputs": []
    },
    {
      "cell_type": "markdown",
      "metadata": {
        "id": "oeRSk9LpaisT"
      },
      "source": [
        "### Preparando os dados `X` e `y`"
      ]
    },
    {
      "cell_type": "markdown",
      "source": [
        "Na preparação dos dados é necessário:\n",
        "\n",
        "*   **Hot encode** dos atributos não numéricos,\n",
        "*   **Normalizar** (rescaling) os dados\n",
        "*   Formatar os dados para os padrões do **TensorFlow/Keras** (formato de matrizes e não dataframes)."
      ],
      "metadata": {
        "id": "uRo51qnf8C6T"
      }
    },
    {
      "cell_type": "code",
      "metadata": {
        "id": "WSLEWuI0a9go"
      },
      "source": [
        "# Variáveis de entrada\n",
        "\n",
        "X = fraud.drop(columns=['fraudulent'])\n",
        "\n",
        "X_number = X.select_dtypes(include='number')\n",
        "X_categorical = X.select_dtypes(exclude='number')\n",
        "\n",
        "X_categorical"
      ],
      "execution_count": null,
      "outputs": []
    },
    {
      "cell_type": "code",
      "source": [
        "X=pd.concat([X_number, pd.get_dummies(X_categorical)],axis=1)\n",
        "X"
      ],
      "metadata": {
        "id": "nz9C9qD3AgFn"
      },
      "execution_count": null,
      "outputs": []
    },
    {
      "cell_type": "code",
      "source": [
        "# Normalizando os dados\n",
        "\n",
        "from sklearn.preprocessing import StandardScaler\n",
        "\n",
        "scaler = StandardScaler()\n",
        "scaler.fit(X)\n",
        "\n",
        "\n",
        "X_matrix = scaler.transform(X)\n",
        "X = pd.DataFrame(X_matrix,columns=X.columns)\n",
        "X"
      ],
      "metadata": {
        "id": "i1ZbR6lt8W4e"
      },
      "execution_count": null,
      "outputs": []
    },
    {
      "cell_type": "code",
      "metadata": {
        "id": "qf1XLBOHxbzd"
      },
      "source": [
        "# Valores de saída\n",
        "\n",
        "y=fraud.fraudulent.replace({True:1, False:0})"
      ],
      "execution_count": null,
      "outputs": []
    },
    {
      "cell_type": "code",
      "metadata": {
        "id": "RdElnvhvcSAe"
      },
      "source": [
        "## Separando os dados de Treinamento e Teste\n",
        "from sklearn.model_selection import train_test_split\n",
        "\n",
        "seed = 1984\n",
        "X_train, X_test, y_train, y_test = train_test_split(X, y, test_size=0.3, stratify=y, random_state=seed)"
      ],
      "execution_count": null,
      "outputs": []
    },
    {
      "cell_type": "markdown",
      "metadata": {
        "id": "rfOUECSdyENj"
      },
      "source": [
        "### Adequando os dados para o `Keras`\n",
        "\n",
        "Os dados são reformatados em matrizes e a saída em uma matriz binária."
      ]
    },
    {
      "cell_type": "code",
      "metadata": {
        "id": "GNQYR8xQyWeD"
      },
      "source": [
        "Xm = np.matrix(X_train)\n",
        "ym = np.transpose(np.matrix(y_train))"
      ],
      "execution_count": null,
      "outputs": []
    },
    {
      "cell_type": "code",
      "source": [
        "from keras.utils import to_categorical\n",
        "y_binary = to_categorical(ym)"
      ],
      "metadata": {
        "id": "IE05v4vXEKow"
      },
      "execution_count": null,
      "outputs": []
    },
    {
      "cell_type": "markdown",
      "metadata": {
        "id": "zoKFbY_gyf2Z"
      },
      "source": [
        "### Configuração e Treinamento da Rede DeepLearning\n",
        "\n",
        "Nossa rede terá:\n",
        "\n",
        "\n",
        "*   5 neurônios de entrada, correspondendo a cada atributo de entrada\n",
        "*   2 camadas ocultas de 8 neurônios cada\n",
        "*   1 camada de saída com 2 neurônios correspondendo às duas classes de saída\n",
        "\n",
        "Usaremos a função de ativaçã: sigmoid.\n",
        "\n",
        "```\n",
        "model = Sequential([layers.Dense(5, activation='sigmoid', input_shape=[Xm.shape[1],])])\n",
        "\n",
        "model.add(layers.Dense(8, activation='sigmoid'))\n",
        "model.add(layers.Dense(8, activation='sigmoid'))\n",
        "model.add(layers.Dense(2, activation='sigmoid'))\n",
        "```\n",
        "\n"
      ]
    },
    {
      "cell_type": "code",
      "metadata": {
        "id": "YVUC8oWhylEQ"
      },
      "source": [
        "from keras import Sequential, layers\n",
        "\n",
        "all_results = []\n",
        "\n",
        "# Definição\n",
        "\n",
        "model = Sequential([layers.Dense(5, activation='sigmoid', input_shape=[5,])]) # 5 é o número de atributos de entrada\n",
        "\n",
        "\n",
        "model.add(layers.Dense(8, activation='sigmoid'))\n",
        "model.add(layers.Dense(8, activation='sigmoid'))\n",
        "model.add(layers.Dense(2, activation='sigmoid'))\n",
        "model.compile(loss='categorical_crossentropy', optimizer='adam', metrics=['accuracy'])\n",
        "\n",
        "# Treinamento\n",
        "history = model.fit(Xm, y_binary, validation_split=0.2, epochs=10)\n"
      ],
      "execution_count": null,
      "outputs": []
    },
    {
      "cell_type": "markdown",
      "metadata": {
        "id": "pmfPcs6J0ZFC"
      },
      "source": [
        "O Treinamento busca a cada etapa minimizar o erro (aumentar a acuracidade). Isso entretanto não ocorre de maneira regular.\n",
        "\n",
        "O Treinamento pode ser concluído quando se chega a uma determinado erro desejado ou após um certo número de iterações, uma vez que o modelo pode não convergir."
      ]
    },
    {
      "cell_type": "code",
      "source": [
        "#@markdown executar!\n",
        "def plot_loss_acc(history,more_title=''):\n",
        "\n",
        "    loss = history.history['loss']\n",
        "    val_loss = history.history['val_loss']\n",
        "    epochs = range(1, len(loss) + 1)\n",
        "    plt.figure(figsize=(8,5))\n",
        "    plt.plot(epochs, loss, 'y', label='Training loss')\n",
        "    plt.plot(epochs, val_loss, 'r', label='Validation loss')\n",
        "    plt.title('Training and validation loss' + ' ' + more_title)\n",
        "    plt.xlabel('Epochs')\n",
        "    plt.ylabel('Loss')\n",
        "    plt.legend()\n",
        "    plt.show()\n",
        "\n",
        "    acc = history.history['accuracy']\n",
        "    val_acc = history.history['val_accuracy']\n",
        "    plt.figure(figsize=(8,5))\n",
        "    plt.plot(epochs, acc, 'y', label='Training acc')\n",
        "    plt.plot(epochs, val_acc, 'r', label='Validation acc')\n",
        "    plt.title('Training and validation accuracy' + ' ' + more_title)\n",
        "    plt.xlabel('Epochs')\n",
        "    plt.ylabel('Accuracy')\n",
        "    plt.legend()\n",
        "    plt.show()\n",
        "\n",
        "    print(more_title + 'Accuracy Train: {:.2f} %, Accuracy Test: {:.2f} %'.format(acc[len(acc)-1] *100, val_acc[len(val_acc)-1]*100))\n",
        "\n",
        "    return loss, val_loss, acc, val_acc\n",
        "\n",
        "print('completed!')"
      ],
      "metadata": {
        "cellView": "form",
        "id": "zgQMWnmqSYhL"
      },
      "execution_count": null,
      "outputs": []
    },
    {
      "cell_type": "code",
      "metadata": {
        "id": "zrkQMDRzzmJq"
      },
      "source": [
        "loss, val_loss, acc, val_acc = plot_loss_acc(history,'Two Hidden Layer Neural Network 5,8,8,2 (sigmoid)')"
      ],
      "execution_count": null,
      "outputs": []
    },
    {
      "cell_type": "markdown",
      "metadata": {
        "id": "5Oc0b8_O05yj"
      },
      "source": [
        "Em cada neurônio de saída a rede retorna a probabilidade da classe. A seleção do neurônio de maior valor a classe mais provável (`np.argmax()`)."
      ]
    },
    {
      "cell_type": "code",
      "metadata": {
        "id": "O0df3TPl1B2b"
      },
      "source": [
        "from sklearn.metrics import confusion_matrix\n",
        "from sklearn.metrics import classification_report\n",
        "\n",
        "# Predição\n",
        "Xm = np.matrix(X_test )\n",
        "y_pred = np.argmax(model.predict(Xm), axis=-1)\n",
        "\n",
        "print(confusion_matrix(y_test,y_pred))\n",
        "print(classification_report(y_test,y_pred))"
      ],
      "execution_count": null,
      "outputs": []
    },
    {
      "cell_type": "markdown",
      "source": [
        "### Overfitting ou sobreajuste\n",
        "Se a acurácia do conjunto de treinamento for significativamente maior do que a acurácia do conjunto de teste, é um sinal de overfitting. Isso indica que o modelo está muito ajustado aos dados de treinamento e não é capaz de generalizar para novos dados. Para evitar o overfitting, é necessário ajustar a complexidade do modelo, aumentar o tamanho do conjunto de treinamento ou aplicar técnicas de regularização, como dropout e L2 regularization."
      ],
      "metadata": {
        "id": "hBmUHQRGvx2B"
      }
    }
  ]
}