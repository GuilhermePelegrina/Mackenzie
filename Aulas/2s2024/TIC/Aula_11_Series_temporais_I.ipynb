{
  "cells": [
    {
      "cell_type": "markdown",
      "metadata": {
        "id": "view-in-github",
        "colab_type": "text"
      },
      "source": [
        "<a href=\"https://colab.research.google.com/github/GuilhermePelegrina/Mackenzie/blob/main/Aulas/2s2024/TIC/Aula_11_Series_temporais_I.ipynb\" target=\"_parent\"><img src=\"https://colab.research.google.com/assets/colab-badge.svg\" alt=\"Open In Colab\"/></a>"
      ]
    },
    {
      "cell_type": "markdown",
      "metadata": {
        "id": "gglUriLmo1sR"
      },
      "source": [
        "<head>\n",
        "  <meta name=\"author\" content=\"Rogério de Oliveira\">\n",
        "  <meta institution=\"author\" content=\"Universidade Presbiteriana Mackenzie\">\n",
        "</head>\n",
        "\n",
        "<img src=\"http://meusite.mackenzie.br/rogerio/mackenzie_logo/UPM.2_horizontal_vermelho.jpg\" width=300, align=\"left\">\n",
        "<!-- <h1 align=left><font size = 6, style=\"color:rgb(200,0,0)\"> optional title </font></h1> -->"
      ]
    },
    {
      "cell_type": "markdown",
      "metadata": {
        "id": "06noRfWHp0of"
      },
      "source": [
        "# **Séries Temporais I**\n",
        "\n",
        "Uma série temporal é uma sequência de observações ou medidas feitas em um mesmo objeto ou fenômeno em intervalos de tempo igualmente espaçados. Essas observações são coletadas e registradas em função do tempo. Em outras palavras, uma série temporal é uma coleção de dados organizados ao longo do tempo, o que permite analisar tendências, padrões, sazonalidades e outros comportamentos que possam ocorrer em diferentes escalas de tempo.\n",
        "\n",
        "<img src='https://raw.githubusercontent.com/guilhermepelegrina/Mackenzie/main/Aulas/Figuras/fig_series_temporais_1.png' width=\"600\">\n",
        "\n",
        "As séries temporais são amplamente usadas em várias disciplinas, como econometria, meteorologia, finanças, engenharia e muitas outras, para analisar e prever o comportamento de fenômenos que evoluem com o tempo. Elas desempenham um papel fundamental na modelagem estatística e na tomada de decisões com base no histórico de dados."
      ]
    },
    {
      "cell_type": "markdown",
      "metadata": {
        "id": "guKz4OjeakQz"
      },
      "source": [
        "# Estacionariedade"
      ]
    },
    {
      "cell_type": "markdown",
      "metadata": {
        "id": "v6tZ1KwQbLIk"
      },
      "source": [
        "A média e a variância de processos estacionários são constantes ao longo do tempo, intuitivamente isto significa que as observações se desenvolvem aleatoriamente entorno de um certo nível com variabilidade constante."
      ]
    },
    {
      "cell_type": "code",
      "execution_count": null,
      "metadata": {
        "id": "GeV_RJ4qseCY"
      },
      "outputs": [],
      "source": [
        "import pandas as pd\n",
        "import numpy as np\n",
        "import matplotlib.pyplot as plt\n",
        "import seaborn as sns\n",
        "import scipy.stats as stats\n",
        "import warnings\n",
        "warnings.filterwarnings('ignore')"
      ]
    },
    {
      "cell_type": "code",
      "execution_count": null,
      "metadata": {
        "id": "mn0O_-3JbWns"
      },
      "outputs": [],
      "source": [
        "# Séries temporais\n",
        "df_1 = pd.read_excel(\"https://www.orlandoalbarracin.com.br/phyton/Series.xlsx\", sheet_name=\"dolar\") #Economial UOL - diária\n",
        "df_2 = pd.read_excel(\"https://www.orlandoalbarracin.com.br/phyton/Series.xlsx\", sheet_name=\"Exportações\") #IBGE - Trimestral\n"
      ]
    },
    {
      "cell_type": "code",
      "execution_count": null,
      "metadata": {
        "id": "RLSZfvuNbdaK",
        "cellView": "form"
      },
      "outputs": [],
      "source": [
        "#@markdown Gráfico das séries\n",
        "import matplotlib.dates as mdates\n",
        "\n",
        "index_dates1 = pd.date_range(start='7/2/2018', end='12/31/2019', freq='B')\n",
        "index_dates2 = pd.date_range(start='3/1/1996', end='12/31/2021', freq='3M')\n",
        "\n",
        "df_1.index=index_dates1\n",
        "df_2.index=index_dates2\n",
        "\n",
        "fig, (ax1, ax2) = plt.subplots(1, 2,figsize=(12,4))\n",
        "\n",
        "ax1.plot(df_1.index.to_pydatetime(), df_1[\"Var\"], c='orange')\n",
        "ax1.xaxis.set_major_locator(mdates.MonthLocator([4,8,12]))\n",
        "ax1.xaxis.set_major_formatter(mdates.DateFormatter('%d-%b-%y'))\n",
        "ax1.set_title('Variação diária da cotação do dólar',fontdict = {'fontsize' : 12})\n",
        "ax1.set_xlabel('\\n Série \"estacionária\"',fontdict = {'fontsize' : 11},color=\"olive\")\n",
        "\n",
        "ax1.set_ylim([-4, 4]);\n",
        "\n",
        "ax2.plot(df_2.index, df_2.Exportações)\n",
        "ax2.set_title('Exportação de bens e serviços \\n Valores a preços correntes (Milhões de Reais)',fontdict = {'fontsize' : 12})\n",
        "ax2.set_xlabel('\\n Série não estacionária \\n (com tedência)',fontdict = {'fontsize' : 11},color=\"darkblue\")\n"
      ]
    },
    {
      "cell_type": "markdown",
      "metadata": {
        "id": "Xo9PAFO9ao2P"
      },
      "source": [
        "### Teste Augmented Dickey-Fuller (ADF)"
      ]
    },
    {
      "cell_type": "markdown",
      "metadata": {
        "id": "WaAjXrk1dMnp"
      },
      "source": [
        "O teste de Dickey-Fuller Aumentado (ADF) é um teste estatístico comumente usado para verificar a presença de uma tendência estocástica em uma série temporal."
      ]
    },
    {
      "cell_type": "markdown",
      "metadata": {
        "id": "Mv26ImencsDt"
      },
      "source": [
        "$$H_0: \\text{A série não é estacionária}$$\n",
        "$$H_1: \\text{A série é estacionária}$$"
      ]
    },
    {
      "cell_type": "markdown",
      "metadata": {
        "id": "BYGdwRmHdOBf"
      },
      "source": [
        "Se o valor-p for menor que um determinado nível de significância (geralmente 0,05), então rejeitamos a hipótese nula e concluímos que a série é estacionária, ou seja, não possui uma tendência estocástica significativa."
      ]
    },
    {
      "cell_type": "code",
      "execution_count": null,
      "metadata": {
        "id": "6WfLIhpJdYhd"
      },
      "outputs": [],
      "source": [
        "from statsmodels.tsa.stattools import adfuller\n",
        "\n",
        "result = adfuller(df_1.Var)\n",
        "print('p-value: %f' % result[1])"
      ]
    },
    {
      "cell_type": "code",
      "execution_count": null,
      "metadata": {
        "id": "aSe67Tw2cV8P"
      },
      "outputs": [],
      "source": [
        "#  Exportações\n",
        "from statsmodels.tsa.stattools import adfuller\n",
        "\n",
        "result = adfuller(df_2.Exportações)\n",
        "print('p-value: %f' % result[1])"
      ]
    },
    {
      "cell_type": "markdown",
      "metadata": {
        "id": "KRY8rEFc0SsO"
      },
      "source": [
        "#Decomposição de séries temporais"
      ]
    },
    {
      "cell_type": "markdown",
      "metadata": {
        "id": "BmgYbSE51UGo"
      },
      "source": [
        "A decomposição de uma série temporal é o processo de separar a série em diferentes componentes: tendência, sazonalidade e componente aleatório, isto permite a detecção de padrões, identificação de tendências e sazonalidades, e auxiliando na previsão de valores da série.\n",
        "\n",
        "<img src='https://raw.githubusercontent.com/guilhermepelegrina/Mackenzie/main/Aulas/Figuras/fig_series_temporais_2.png' width=\"600\">\n",
        "\n",
        "*   **Tendência**  direção geral dos dados ao longo do tempo, indica se a série está aumentando, diminuindo ou permanecendo estável ao longo de um período de tempo.\n",
        "\n",
        "*   **Sazonalidade** refere-se a padrões que se repetem em períodos fixos de tempo, como estações do ano, dias da semana ou meses.\n",
        "\n",
        "*   **Componente aleatório (erro)**: representa a variabilidade não explicada pela tendência e sazonalidade.\n",
        "\n"
      ]
    },
    {
      "cell_type": "markdown",
      "metadata": {
        "id": "6NfMtXsj5cS-"
      },
      "source": [
        "# Australian beer production e Airline Passenger Numbers"
      ]
    },
    {
      "cell_type": "markdown",
      "metadata": {
        "id": "O9itezUZ3p1W"
      },
      "source": [
        "Produção mensal de cerveja na Austrália: megalitros. Não inclui bebidas com teor alcoólico inferior a 1,15."
      ]
    },
    {
      "cell_type": "markdown",
      "metadata": {
        "id": "F6t1FeCb5y8P"
      },
      "source": [
        "###1.  Verifique visualmente se as séries apresentam tendências e/ou sazonalidades"
      ]
    },
    {
      "cell_type": "code",
      "execution_count": null,
      "metadata": {
        "id": "UXX9WYJu5yqE"
      },
      "outputs": [],
      "source": [
        "# Lendo os dados\n",
        "import pandas as pd\n",
        "\n",
        "df = pd.read_csv(\"https://raw.githubusercontent.com/ejgao/Time-Series-Datasets/master/monthly-beer-production-in-austr.csv\")\n",
        "df2 = pd.read_csv(\"https://raw.githubusercontent.com/jbrownlee/Datasets/master/airline-passengers.csv\")\n",
        "df = df.iloc[48:252,:].reset_index(drop=True)"
      ]
    },
    {
      "cell_type": "code",
      "execution_count": null,
      "metadata": {
        "id": "ewB1Q8wnwZDB"
      },
      "outputs": [],
      "source": [
        "plt.figure(figsize=(12,5))\n",
        "\n",
        "plt.subplot(1,2,1)\n",
        "plt.plot(df[\"Monthly beer production\"])\n",
        "plt.title(\"Monthly beer production\")\n",
        "\n",
        "plt.subplot(1,2,2)\n",
        "plt.plot(df2[\"Passengers\"])\n",
        "plt.title(\"Airline Passenger Numbers\")\n",
        "\n",
        "plt.show()"
      ]
    },
    {
      "cell_type": "markdown",
      "metadata": {
        "id": "eEWlHaUu7GfA"
      },
      "source": [
        "Observação:\n",
        "\n",
        "*   **Monthly beer production:**\n",
        "A variação sazonal parece constante; ela não muda quando o valor da série temporal aumenta. Devemos usar o modelo aditivo.\n",
        "$Valor = Tendência +  Sazonalidade + Erro$\n",
        "\n",
        "*   **Airline Passenger Numbers**\n",
        "À medida que a série temporal aumenta em magnitude, a variação sazonal também aumenta. Nesse caso, devemos usar o modelo multiplicativo. $ Valor = Tendência \\times Sazonalidade \\times Erro$\n",
        "\n"
      ]
    },
    {
      "cell_type": "markdown",
      "metadata": {
        "id": "wcimfV_t72Hg"
      },
      "source": [
        "### 2. Faça uma análise descritiva da produção de cerveja por mês. Em qual mês a produção é maior e em qual é menor?"
      ]
    },
    {
      "cell_type": "code",
      "execution_count": null,
      "metadata": {
        "id": "AzcGo6gQ8bbE"
      },
      "outputs": [],
      "source": [
        "# Vamos ver o formato da base de dados!\n",
        "df"
      ]
    },
    {
      "cell_type": "code",
      "execution_count": null,
      "metadata": {
        "id": "TQZQ3Jxf0KTe"
      },
      "outputs": [],
      "source": [
        "df[['Ano', 'Mês']] = df['Month'].apply(lambda x: pd.Series(x.split('-')))\n",
        "df.drop(\"Month\", axis=1, inplace=True)"
      ]
    },
    {
      "cell_type": "code",
      "execution_count": null,
      "metadata": {
        "id": "75ZZ5GN484a9"
      },
      "outputs": [],
      "source": [
        "df.head()"
      ]
    },
    {
      "cell_type": "code",
      "execution_count": null,
      "metadata": {
        "id": "EACfUChS-nKt"
      },
      "outputs": [],
      "source": [
        "# Produção por mês!\n",
        "sns.boxplot(x=\"Mês\", y=\"Monthly beer production\", data=df)\n",
        "plt.show()"
      ]
    },
    {
      "cell_type": "markdown",
      "metadata": {
        "id": "AMUA1CFNBp3l"
      },
      "source": [
        "###3. Ajuste um modelo de regressão linear para a série produção de cerveja. Faça as previsões para o próximo ano. Comente!"
      ]
    },
    {
      "cell_type": "code",
      "execution_count": null,
      "metadata": {
        "id": "6kvZAY6CDzqh"
      },
      "outputs": [],
      "source": [
        "# Vamos criar uma coluna com o tempo para ajustar o modelo de regressão\n",
        "\n",
        "df[\"time\"]=np.arange(len(df))\n",
        "df.head()"
      ]
    },
    {
      "cell_type": "code",
      "execution_count": null,
      "metadata": {
        "id": "kIUYDbFM-9wR"
      },
      "outputs": [],
      "source": [
        "import statsmodels.formula.api as sm\n",
        "\n",
        "model = sm.ols(formula='df[\"Monthly beer production\"] ~ time', data=df)\n",
        "result = model.fit()\n",
        "print(result.summary())"
      ]
    },
    {
      "cell_type": "code",
      "execution_count": null,
      "metadata": {
        "id": "Eu4tDOlkEPn0"
      },
      "outputs": [],
      "source": [
        "# previsões 12 meses\n",
        "\n",
        "new_times = pd.DataFrame()\n",
        "new_times['time'] = np.arange(len(df), len(df) + 12)"
      ]
    },
    {
      "cell_type": "code",
      "execution_count": null,
      "metadata": {
        "id": "TO4DqLT4EZW0"
      },
      "outputs": [],
      "source": [
        "new_times['prediction'] = result.predict(new_times)\n",
        "new_times.head()"
      ]
    },
    {
      "cell_type": "code",
      "execution_count": null,
      "metadata": {
        "id": "32oLBxFGEptM"
      },
      "outputs": [],
      "source": [
        "plt.plot(df[\"Monthly beer production\"])\n",
        "sns.lineplot(x='time', y='prediction', data=new_times, color='red')"
      ]
    },
    {
      "cell_type": "markdown",
      "metadata": {
        "id": "UUEu2I-vJhJN"
      },
      "source": [
        "### 4. Faça a decomposição da série. Comente!"
      ]
    },
    {
      "cell_type": "code",
      "execution_count": null,
      "metadata": {
        "id": "DmCqowCFFUN1"
      },
      "outputs": [],
      "source": [
        "from statsmodels.tsa.seasonal import seasonal_decompose\n",
        "\n",
        "decomposition=seasonal_decompose(df[\"Monthly beer production\"],\n",
        "                                 model='additive',\n",
        "                                 period=12,\n",
        "                                 extrapolate_trend='freq')\n",
        "decomposition.plot();"
      ]
    },
    {
      "cell_type": "markdown",
      "metadata": {
        "id": "r-zfbiQJNmlI"
      },
      "source": [
        "### 5. Analise os decompostos (tend+saz+resid) dos valores da série em janeiro e dezembro de 1961."
      ]
    },
    {
      "cell_type": "code",
      "execution_count": null,
      "metadata": {
        "id": "dCi9UVUAINNj"
      },
      "outputs": [],
      "source": [
        "# Obter os componentes da decomposição\n",
        "\n",
        "trend = decomposition.trend\n",
        "seasonal = decomposition.seasonal\n",
        "residual = decomposition.resid"
      ]
    },
    {
      "cell_type": "code",
      "execution_count": null,
      "metadata": {
        "id": "095OQLwzKJbQ"
      },
      "outputs": [],
      "source": [
        "df[\"trend\"]=trend\n",
        "df[\"seasonal\"]=seasonal\n",
        "df[\"residual\"]=residual"
      ]
    },
    {
      "cell_type": "code",
      "execution_count": null,
      "metadata": {
        "id": "KemwseGCMvyG"
      },
      "outputs": [],
      "source": [
        "df.head()"
      ]
    },
    {
      "cell_type": "code",
      "execution_count": null,
      "metadata": {
        "id": "5v088O9RJrSW"
      },
      "outputs": [],
      "source": [
        "df[(df.Ano==\"1961\") & (df.Mês==\"01\")]"
      ]
    },
    {
      "cell_type": "code",
      "execution_count": null,
      "metadata": {
        "id": "lMOlZL0UNc9A"
      },
      "outputs": [],
      "source": [
        "df[(df.Ano==\"1961\") & (df.Mês==\"12\")]"
      ]
    },
    {
      "cell_type": "markdown",
      "metadata": {
        "id": "2V3l5pHseNd4"
      },
      "source": [
        "###6. Verifique estatísticamente se os resíduos obtidos da decomposição da série são estacionários. Use $\\alpha=0,05$."
      ]
    },
    {
      "cell_type": "code",
      "execution_count": null,
      "metadata": {
        "id": "LL0ycD5DeMRy"
      },
      "outputs": [],
      "source": [
        "plt.plot(df.residual);"
      ]
    },
    {
      "cell_type": "code",
      "execution_count": null,
      "metadata": {
        "id": "TrH7Ur-zeaJT"
      },
      "outputs": [],
      "source": [
        "from statsmodels.tsa.stattools import adfuller\n",
        "\n",
        "result = adfuller(df.residual)\n",
        "print('p-value: %f' % result[1])"
      ]
    },
    {
      "cell_type": "markdown",
      "metadata": {
        "id": "oq1ixzaP2zhN"
      },
      "source": [
        "## Exercício\n",
        "\n",
        "Faça as análises anteriores para prever o número de bicicletas alugadas ocasionalmente (coluna `casual`) usando o conjunto de dados [Bike Sharing](http://archive.ics.uci.edu/ml/datasets/Bike+Sharing+Dataset), disponível no link:\n",
        "\n",
        "https://raw.githubusercontent.com/guilhermepelegrina/Mackenzie/main/Datasets/data_bike_sharing_day.csv\n",
        "\n",
        "Verifique se há tendência e/ou sazonalidade, crie um modelo de regressão linear para prever o número de bicicletas alugadas casualmente, e faça a decomposição da série temporal."
      ]
    }
  ],
  "metadata": {
    "anaconda-cloud": {},
    "colab": {
      "provenance": [],
      "include_colab_link": true
    },
    "kernelspec": {
      "display_name": "Python 3",
      "language": "python",
      "name": "python3"
    },
    "language_info": {
      "codemirror_mode": {
        "name": "ipython",
        "version": 3
      },
      "file_extension": ".py",
      "mimetype": "text/x-python",
      "name": "python",
      "nbconvert_exporter": "python",
      "pygments_lexer": "ipython3",
      "version": "3.7.4"
    }
  },
  "nbformat": 4,
  "nbformat_minor": 0
}