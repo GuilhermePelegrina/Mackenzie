{
  "nbformat": 4,
  "nbformat_minor": 0,
  "metadata": {
    "colab": {
      "provenance": [],
      "authorship_tag": "ABX9TyOhpExa1HwhqRmiCMA3Cr7D",
      "include_colab_link": true
    },
    "kernelspec": {
      "name": "python3",
      "display_name": "Python 3"
    },
    "language_info": {
      "name": "python"
    }
  },
  "cells": [
    {
      "cell_type": "markdown",
      "metadata": {
        "id": "view-in-github",
        "colab_type": "text"
      },
      "source": [
        "<a href=\"https://colab.research.google.com/github/GuilhermePelegrina/Mackenzie/blob/main/Aulas/2s2024/TIC/Aula_05_Aspectos_adicionais_train_test_lab.ipynb\" target=\"_parent\"><img src=\"https://colab.research.google.com/assets/colab-badge.svg\" alt=\"Open In Colab\"/></a>"
      ]
    },
    {
      "cell_type": "markdown",
      "source": [
        "<img src='https://raw.githubusercontent.com/guilhermepelegrina/Mackenzie/main/logo_mackenzie.png'>\n"
      ],
      "metadata": {
        "id": "tRnsRmTFNWRw"
      }
    },
    {
      "cell_type": "markdown",
      "source": [
        "# **Atividade Prática - Aspectos adicionais sobre treinamento e teste**"
      ],
      "metadata": {
        "id": "ZGL5kIBuNXx0"
      }
    },
    {
      "cell_type": "markdown",
      "source": [
        "# Base de dados: Heart Disease!\n"
      ],
      "metadata": {
        "id": "JJsyN6k1fO6N"
      }
    },
    {
      "cell_type": "markdown",
      "source": [
        "A objetivo da base de dados \"Heart Disease\" e de treinar um classificador caaz de detectar a presença de uma doença cardiovascular tendo um conjunto de informações acerca de pessoas que possuem ou não tal doença.\n",
        "\n",
        "O conjunto de dados se encontra [neste link](https://raw.githubusercontent.com/GuilhermePelegrina/Mackenzie/main/Datasets/data_heart_statlog_cleveland.csv). A coluna *target* indica a classe a ser prevista, sendo o valor 1 a presença da doença e o valor 0 a ausência.\n",
        "\n",
        "**Imortante** Reparem que, embora todas as informações dessa base de dados são numéricas, a coluna *sex* indica uma variável categórica. No caso, 1 indica homens e 0 mulheres. O atributo *chest pain type* também é categórico, mas, para esta atividade, considere-o como numérico.\n",
        "\n",
        "Responda as questões no Moodle (Atividades Práticas - Aspectos adicionais Train/Test). Lembre-se de remover linhas com células vazias, se houver. Também não se esqueça de importar os pacotes que serão utilizados nessa atividade!"
      ],
      "metadata": {
        "id": "OQ3WRCHJh8yi"
      }
    }
  ]
}