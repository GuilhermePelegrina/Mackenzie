{
  "nbformat": 4,
  "nbformat_minor": 0,
  "metadata": {
    "colab": {
      "provenance": [],
      "authorship_tag": "ABX9TyOAm8ZVUn/x7YkH3xyc0cQb",
      "include_colab_link": true
    },
    "kernelspec": {
      "name": "python3",
      "display_name": "Python 3"
    },
    "language_info": {
      "name": "python"
    }
  },
  "cells": [
    {
      "cell_type": "markdown",
      "metadata": {
        "id": "view-in-github",
        "colab_type": "text"
      },
      "source": [
        "<a href=\"https://colab.research.google.com/github/GuilhermePelegrina/Mackenzie/blob/main/Aulas/2s2024/TIC/Aula_15_Clustering_hierarquico_lab.ipynb\" target=\"_parent\"><img src=\"https://colab.research.google.com/assets/colab-badge.svg\" alt=\"Open In Colab\"/></a>"
      ]
    },
    {
      "cell_type": "markdown",
      "source": [
        "<img src='https://raw.githubusercontent.com/guilhermepelegrina/Mackenzie/main/logo_mackenzie.png'>\n"
      ],
      "metadata": {
        "id": "nYSzUrZr-BG8"
      }
    },
    {
      "cell_type": "markdown",
      "source": [
        "# **Atividade Prática - Clusterização Hierárquica**"
      ],
      "metadata": {
        "id": "wbF7Rg1O-D8N"
      }
    },
    {
      "cell_type": "markdown",
      "source": [
        "# Recordando a Teoria\n",
        "\n",
        "Reveja aqui o processo complete o Clusterização Hierárquica.\n",
        "\n",
        "```\n",
        "# Define os dados do modelo\n",
        "X = df[...]\n",
        "\n",
        "# Elimine as linhas com valores faltantes\n",
        "\n",
        "# Transformação de variáveis categóricas em binárias (dummies)\n",
        "dummies = pd.get_dummies(...)\n",
        "df = pd.concat([df, dummies],axis=1)\n",
        "\n",
        "# Normalização e outras preparações dos dados\n",
        "from sklearn.preprocessing import normalize\n",
        "X = normalize(X)\n",
        "\n",
        "# Avalia o número de agrupamentos desejado (atenção para a estratégia de linkage que será utilizada!)\n",
        "from sklearn.cluster import AgglomerativeClustering\n",
        "\n",
        "for n_clusters in range(2,8):\n",
        "  clf = AgglomerativeClustering(n_clusters=n_clusters, affinity='euclidean', linkage='ward')  \n",
        "  clf.fit_predict(X)\n",
        "  labels = clf.labels_\n",
        "  print('Média do valor de Silhouette para ', n_clusters , ' clusters: ', metrics.silhouette_score(X, labels, metric='euclidean'))\n",
        "\n",
        "# Faz a clusterização selecionada\n",
        "\n",
        "## Declara o modelo (atenção para a estratégia de linkage que será utilizada!)\n",
        "clf = AgglomerativeClustering(n_clusters=2, affinity='euclidean', linkage='ward')  \n",
        "\n",
        "## 'Treina' o modelo\n",
        "clf.fit(X)\n",
        "\n",
        "# Resultados\n",
        "labels = clf.labels_\n",
        "print(labels)\n",
        "\n",
        "# Associando os dados\n",
        "df['cluster'] = labels\n",
        "print(df.head())\n",
        "```"
      ],
      "metadata": {
        "id": "c1LB15dxsrtS"
      }
    },
    {
      "cell_type": "markdown",
      "source": [
        "Para esta atividade prática sobre K-means, usaremos a base de dados [Airbnb NYC 2019](https://www.kaggle.com/datasets/dgomonov/new-york-city-airbnb-open-data). Use o link abaixo para ler os dados dessa atividade prática:\n",
        "\n",
        "https://raw.githubusercontent.com/guilhermepelegrina/Mackenzie/main/Datasets/data_airbnb_nyc_2019.csv\n",
        "\n",
        "Essa base de dados contém descrições de milhares hospedagens disponíveis no Airbnb no ano de 2019 em NYV. Cada linha representa um Airbnb e as características dos mesmos são descritas nas colunas. O intuito é agrupar essas hospedagens com base em medidas de similaridade usando a Clusterização Hierárquica.\n",
        "\n",
        "Agora, responda as questões no Moodle (Atividades Práticas - Clusterização Hierárquica).\n",
        "\n",
        "**Lembre-se:** Importe os pacotes que serão utilizados nessa atividade!"
      ],
      "metadata": {
        "id": "nxauzxz_sv2A"
      }
    }
  ]
}