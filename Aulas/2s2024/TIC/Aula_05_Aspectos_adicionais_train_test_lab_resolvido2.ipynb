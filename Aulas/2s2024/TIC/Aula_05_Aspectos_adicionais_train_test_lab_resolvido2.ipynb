{
  "nbformat": 4,
  "nbformat_minor": 0,
  "metadata": {
    "colab": {
      "provenance": [],
      "authorship_tag": "ABX9TyNCSzRCsQ8w0yLH0K5dQ8td",
      "include_colab_link": true
    },
    "kernelspec": {
      "name": "python3",
      "display_name": "Python 3"
    },
    "language_info": {
      "name": "python"
    }
  },
  "cells": [
    {
      "cell_type": "markdown",
      "metadata": {
        "id": "view-in-github",
        "colab_type": "text"
      },
      "source": [
        "<a href=\"https://colab.research.google.com/github/GuilhermePelegrina/Mackenzie/blob/main/Aulas/2s2024/TIC/Aula_05_Aspectos_adicionais_train_test_lab_resolvido2.ipynb\" target=\"_parent\"><img src=\"https://colab.research.google.com/assets/colab-badge.svg\" alt=\"Open In Colab\"/></a>"
      ]
    },
    {
      "cell_type": "markdown",
      "source": [
        "<img src='https://raw.githubusercontent.com/guilhermepelegrina/Mackenzie/main/logo_mackenzie.png'>\n"
      ],
      "metadata": {
        "id": "tRnsRmTFNWRw"
      }
    },
    {
      "cell_type": "markdown",
      "source": [
        "# **Atividade Prática - Aspectos adicionais sobre treinamento e teste**"
      ],
      "metadata": {
        "id": "ZGL5kIBuNXx0"
      }
    },
    {
      "cell_type": "markdown",
      "source": [
        "# Base de dados: Heart Disease!\n"
      ],
      "metadata": {
        "id": "JJsyN6k1fO6N"
      }
    },
    {
      "cell_type": "markdown",
      "source": [
        "A objetivo da base de dados \"Heart Disease\" e de treinar um classificador caaz de detectar a presença de uma doença cardiovascular tendo um conjunto de informações acerca de pessoas que possuem ou não tal doença.\n",
        "\n",
        "O conjunto de dados se encontra [neste link](https://raw.githubusercontent.com/GuilhermePelegrina/Mackenzie/main/Datasets/data_heart_statlog_cleveland.csv). A coluna *target* indica a classe a ser prevista, sendo o valor 1 a presença da doença e o valor 0 a ausência.\n",
        "\n",
        "**Imortante** Reparem que, embora todas as informações dessa base de dados são numéricas, a coluna *sex* indica uma variável categórica. No caso, 1 indica homens e 0 mulheres. O atributo *chest pain type* também é categórico, mas, para esta atividade, considere-o como numérico.\n",
        "\n",
        "Responda as questões no Moodle (Atividades Práticas - Aspectos adicionais Train/Test). Lembre-se de remover linhas com células vazias, se houver. Também não se esqueça de importar os pacotes que serão utilizados nessa atividade!"
      ],
      "metadata": {
        "id": "OQ3WRCHJh8yi"
      }
    },
    {
      "cell_type": "code",
      "source": [
        "spl = 0.25\n",
        "randstat = 1"
      ],
      "metadata": {
        "id": "2woOBQZ7tQ9u"
      },
      "execution_count": null,
      "outputs": []
    },
    {
      "cell_type": "markdown",
      "source": [
        "**Questão 1.** Considere todas as variáveis como variáveis de entrada (com exceção da *target*). Separe os dados em treinamento (75% dos dados) e teste (25% dos dados) usando o comando `train_test_split` e com `random_state = 1`. Estratifique em relação aos dados de saída. Construa um modelo de regressão logística para prever se um futuro paciente possui ou não uma doença cardiovascular. Para os dados de teste, qual foi a acurácia obtida? Use o Classification Report para responder essa questão."
      ],
      "metadata": {
        "id": "xXkJUGUpUpb9"
      }
    },
    {
      "cell_type": "code",
      "source": [
        "import pandas as pd\n",
        "dados = pd.read_csv('https://raw.githubusercontent.com/GuilhermePelegrina/Mackenzie/main/Datasets/data_heart_statlog_cleveland.csv')\n",
        "dados.head()"
      ],
      "metadata": {
        "id": "xxovPNqWxQil"
      },
      "execution_count": null,
      "outputs": []
    },
    {
      "cell_type": "code",
      "source": [
        "from sklearn.model_selection import train_test_split\n",
        "from sklearn.linear_model import LogisticRegression\n",
        "from sklearn.metrics import confusion_matrix, accuracy_score, classification_report, ConfusionMatrixDisplay\n",
        "\n",
        "# Separando variáveis independentes das dependentes\n",
        "x = dados.drop('target', axis=1)\n",
        "y = dados['target']\n",
        "\n",
        "# Separando em treino e Teste (30% para Teste)\n",
        "X_train, X_test, y_train, y_test = train_test_split(x, y, test_size=spl, random_state=randstat, stratify=y)\n",
        "\n",
        "# Declarando o modelo\n",
        "model = LogisticRegression()\n",
        "\n",
        "# Treinando o modelo (com o conjunto de Treino)\n",
        "model.fit(pd.DataFrame(X_train),y_train)\n",
        "\n",
        "# Utilizando o modelo para prever novos casos\n",
        "y_pred=model.predict(pd.DataFrame(X_test))\n",
        "\n",
        "report = classification_report(y_test, y_pred)\n",
        "print(report)"
      ],
      "metadata": {
        "id": "-BSEeUXsV3Nb"
      },
      "execution_count": null,
      "outputs": []
    },
    {
      "cell_type": "markdown",
      "source": [
        "**Questão 2.** Usando o resultado do modelo anterior, dentre as pessoas que possuiam a doença (nos dados de teste), qual o percentual das pessoas que foram erroneamente classificadas como quem não possui tal doença."
      ],
      "metadata": {
        "id": "8_ZCNC7FZjOj"
      }
    },
    {
      "cell_type": "markdown",
      "source": [
        "Resposta: 0.15"
      ],
      "metadata": {
        "id": "03-RS6lUjGWm"
      }
    },
    {
      "cell_type": "markdown",
      "source": [
        "**Questão 3.** Ainda no modelo da questão 1, indique a Precisão do modelo em detectar a doença."
      ],
      "metadata": {
        "id": "Aec6pUIQcXqN"
      }
    },
    {
      "cell_type": "markdown",
      "source": [
        "Resposta: 0.86"
      ],
      "metadata": {
        "id": "Ry9eR-rflJO0"
      }
    },
    {
      "cell_type": "markdown",
      "source": [
        "**Questão 4.** Ajuste, agora, um modelo de k vizinhos mais próximos, com k = 5, para detectar a doença cardiovascular (usando novamente todas as variáveis de entrada). Use 75% dos dados para treinar o modelo, estratifique na variável de saída e considere random_state = 1 no `train_test_split`. Para a normalização dos dados, divida pelo máximo. Obs: não precisa transformar variáveis em dummies nessa base de dados. Qual a acurácia obtida nos dados de teste? Use o Classification Report para responder essa questão."
      ],
      "metadata": {
        "id": "aV28tLkDe9EN"
      }
    },
    {
      "cell_type": "code",
      "source": [
        "from sklearn import neighbors\n",
        "\n",
        "# Dados de entrada/saída\n",
        "X = dados.drop('target',axis=1)\n",
        "y = dados['target']\n",
        "\n",
        "# Separando os dados\n",
        "X_train, X_test, y_train, y_test = train_test_split(X, y, test_size=spl, random_state=randstat, stratify=y)\n",
        "\n",
        "# padroniza os dados para que a média seja 0 e o desvio padrão seja 1.\n",
        "X_train_padronizados = X_train/X_train.max()\n",
        "\n",
        "# Definindo ou declarando o modelo\n",
        "k=5\n",
        "clf = neighbors.KNeighborsClassifier(k)\n",
        "\n",
        "# Aprendizado (Emprega o conjunto de treinamento)\n",
        "clf.fit(X_train_padronizados, y_train)\n",
        "\n",
        "# Fazendo a predição\n",
        "X_test_padronizados = X_test/X_train.max()\n",
        "y_pred = clf.predict(X_test_padronizados)\n",
        "\n",
        "report = classification_report(y_test, y_pred)\n",
        "print(report)"
      ],
      "metadata": {
        "id": "hjqgNEp5f7mU"
      },
      "execution_count": null,
      "outputs": []
    },
    {
      "cell_type": "markdown",
      "source": [
        "**Questão 5.** Usando o resultado do modelo anterior, dentre as pessoas que foram classificadas como quem não possui a doença, qual o percentual das que foram erroneamente classificadas como quem possui tal doença."
      ],
      "metadata": {
        "id": "7RjhEaLfoA2J"
      }
    },
    {
      "cell_type": "markdown",
      "source": [
        "Resposta: 0.14"
      ],
      "metadata": {
        "id": "k7TYYOFioA2K"
      }
    },
    {
      "cell_type": "markdown",
      "source": [
        "**Questão 6.** Ainda no modelo da questão 4, indique a Sensibilidade (ou Recall) do modelo em relação aos que possuem a doença."
      ],
      "metadata": {
        "id": "ka2jCQh6oA2K"
      }
    },
    {
      "cell_type": "markdown",
      "source": [
        "Resposta: 0.88"
      ],
      "metadata": {
        "id": "GXWBK3RDoA2K"
      }
    },
    {
      "cell_type": "markdown",
      "source": [
        "**Questão 7.** Considere, novamente, o modelo da questão 4. Calcule a diferença absoluta entre as acurácias obtidas em relação ao sexo dos indivíduos. Qual o valor obtido?"
      ],
      "metadata": {
        "id": "N0EzxpqVtmjG"
      }
    },
    {
      "cell_type": "code",
      "source": [
        "accuracy = accuracy_score(y_test, y_pred)\n",
        "\n",
        "accuracy_homens = accuracy_score(y_test[X_test['sex'] == 1], y_pred[X_test['sex'] == 1])\n",
        "\n",
        "accuracy_mulheres = accuracy_score(y_test[X_test['sex'] == 0], y_pred[X_test['sex'] == 0])\n",
        "print(\"Diferença absoluta:\", abs(accuracy_homens-accuracy_mulheres))"
      ],
      "metadata": {
        "id": "ATXcgQiAuBuN"
      },
      "execution_count": null,
      "outputs": []
    },
    {
      "cell_type": "markdown",
      "source": [
        "**Questão 8.** Considere, novamente, como classificador o modelo de k vizinhos mais próximos. Use 75% dos dados para treinar o modelo, estratifique na variável de saída e considere random_state = 1 no `train_test_split`. Para a normalização dos dados, divida pelo máximo. Faça um programa que construa tal modelo para valores de k iguais a 3, 5, 7 e 9. Qual a melhor acurácia obtida nos dados de teste? Calcule a acurácia com base na matriz de confusão."
      ],
      "metadata": {
        "id": "jG-iJ4UupDyJ"
      }
    },
    {
      "cell_type": "code",
      "source": [
        "from sklearn.model_selection import KFold # Importando a biblioteca do k-fold\n",
        "\n",
        "k = [3,5,7,9] # Definindo o número de pastas\n",
        "\n",
        "acuracia = [] # Lista vazia para guardar as acurácias\n",
        "\n",
        "acuracia_atual = 0\n",
        "melhor_acuracia = 0\n",
        "\n",
        "for ii in k:\n",
        "  # Dados de entrada/saída\n",
        "  X = dados.drop('target',axis=1)\n",
        "  y = dados['target']\n",
        "\n",
        "  # Separando os dados\n",
        "  X_train, X_test, y_train, y_test = train_test_split(X, y, test_size=spl, random_state=randstat, stratify=y)\n",
        "\n",
        "  # padroniza os dados para que a média seja 0 e o desvio padrão seja 1.\n",
        "  X_train_padronizados = X_train/X_train.max()\n",
        "\n",
        "  # Definindo ou declarando o modelo\n",
        "  clf = neighbors.KNeighborsClassifier(ii)\n",
        "\n",
        "  # Aprendizado (Emprega o conjunto de treinamento)\n",
        "  clf.fit(X_train_padronizados, y_train)\n",
        "\n",
        "  # Fazendo a predição\n",
        "  X_test_padronizados = X_test/X_train.max()\n",
        "  y_pred = clf.predict(X_test_padronizados)\n",
        "\n",
        "  cnf_matrix = confusion_matrix(y_test, y_pred) # Matriz de confusão\n",
        "  acuracia_atual = (cnf_matrix[0][0] + cnf_matrix[1][1])/len(y_pred) # Acurácia do modelo atual\n",
        "\n",
        "  if len(acuracia) == 0:\n",
        "    melhor_acuracia = acuracia_atual\n",
        "  else:\n",
        "    if acuracia_atual > melhor_acuracia:\n",
        "      melhor_acuracia = acuracia_atual\n",
        "\n",
        "  acuracia.append(acuracia_atual) # Atualiza a lista de acurácias\n",
        "\n",
        "print(acuracia)\n",
        "print(melhor_acuracia)"
      ],
      "metadata": {
        "id": "ezBcWtscsLho"
      },
      "execution_count": null,
      "outputs": []
    }
  ]
}