{
  "nbformat": 4,
  "nbformat_minor": 0,
  "metadata": {
    "colab": {
      "provenance": [],
      "authorship_tag": "ABX9TyNxlNoA+a50p6uqZku17VDH",
      "include_colab_link": true
    },
    "kernelspec": {
      "name": "python3",
      "display_name": "Python 3"
    },
    "language_info": {
      "name": "python"
    }
  },
  "cells": [
    {
      "cell_type": "markdown",
      "metadata": {
        "id": "view-in-github",
        "colab_type": "text"
      },
      "source": [
        "<a href=\"https://colab.research.google.com/github/GuilhermePelegrina/Mackenzie/blob/main/Aulas/2s2024/TIC/Aula_06_KNN_lab.ipynb\" target=\"_parent\"><img src=\"https://colab.research.google.com/assets/colab-badge.svg\" alt=\"Open In Colab\"/></a>"
      ]
    },
    {
      "cell_type": "markdown",
      "source": [
        "<img src='https://raw.githubusercontent.com/guilhermepelegrina/Mackenzie/main/logo_mackenzie.png'>\n"
      ],
      "metadata": {
        "id": "tRnsRmTFNWRw"
      }
    },
    {
      "cell_type": "markdown",
      "source": [
        "# **Atividade Prática - KNN**"
      ],
      "metadata": {
        "id": "ZGL5kIBuNXx0"
      }
    },
    {
      "cell_type": "markdown",
      "source": [
        "# Base de dados: Palmer Penguins!\n"
      ],
      "metadata": {
        "id": "JJsyN6k1fO6N"
      }
    },
    {
      "cell_type": "markdown",
      "source": [
        "A base de dados \"Palmer Penguins\" contém informações sobre pinguins coletadas na Península de Palmer, na Antártica. Aqui está uma descrição das colunas presentes neste conjunto de dados:\n",
        "\n",
        "- species: A espécie do pinguim\n",
        "- island: A ilha onde o pinguim foi observado\n",
        "- bill_length_mm: O comprimento do bico do pinguim em milímetros.\n",
        "- bill_depth_mm: A profundidade do bico do pinguim em milímetros.\n",
        "- flipper_length_mm: O comprimento da nadadeira do pinguim em milímetros.\n",
        "- body_mass_g: A massa corporal do pinguim em gramas.\n",
        "- sex: O sexo do pinguim."
      ],
      "metadata": {
        "id": "OQ3WRCHJh8yi"
      }
    },
    {
      "cell_type": "code",
      "source": [
        "import pandas as pd\n",
        "dados = pd.read_csv(\"https://raw.githubusercontent.com/guilhermepelegrina/Mackenzie/main/Datasets/data_palmer_penguins.csv\")\n",
        "dados.head()"
      ],
      "metadata": {
        "id": "97RVu_cDfkAD"
      },
      "execution_count": null,
      "outputs": []
    },
    {
      "cell_type": "markdown",
      "source": [
        "Repare que há dados faltantes (ou colunas com células vazias) nesse conjunto de dados. Para usar tais dados, primeiramente, exclua as linhas que contém células vazias. Confira se, após feita essa etapa, não há mais células vazias."
      ],
      "metadata": {
        "id": "-GJIKghMTzg_"
      }
    },
    {
      "cell_type": "markdown",
      "source": [
        "Agora, responda as questões no Moodle (Atividades Práticas - KNN).\n",
        "\n",
        "**Lembre-se:** Importe os pacotes que serão utilizados nessa atividade!"
      ],
      "metadata": {
        "id": "DPuJMLfoT8jL"
      }
    }
  ]
}