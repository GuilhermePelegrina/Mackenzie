{
  "nbformat": 4,
  "nbformat_minor": 0,
  "metadata": {
    "colab": {
      "provenance": [],
      "authorship_tag": "ABX9TyMP0ALsBAz6mQtmcdtAifP+",
      "include_colab_link": true
    },
    "kernelspec": {
      "name": "python3",
      "display_name": "Python 3"
    },
    "language_info": {
      "name": "python"
    }
  },
  "cells": [
    {
      "cell_type": "markdown",
      "metadata": {
        "id": "view-in-github",
        "colab_type": "text"
      },
      "source": [
        "<a href=\"https://colab.research.google.com/github/GuilhermePelegrina/Mackenzie/blob/main/Aulas/2s2024/TIC/Aula_01_Introducao_Python_Pandas.ipynb\" target=\"_parent\"><img src=\"https://colab.research.google.com/assets/colab-badge.svg\" alt=\"Open In Colab\"/></a>"
      ]
    },
    {
      "cell_type": "markdown",
      "source": [
        "<img src='https://raw.githubusercontent.com/guilhermepelegrina/Mackenzie/main/logo_mackenzie_tic.png' width=\"600\">\n"
      ],
      "metadata": {
        "id": "HSQCu7I51tMd"
      }
    },
    {
      "cell_type": "markdown",
      "source": [
        "# **Bem vindo à disciplina de *Tecnologias da Informação e Computação ligadas a Engenharia de Produção (TIC)* !**\n",
        "\n",
        "**Qual o objetivo da disciplina?**\n",
        "\n",
        "Esta dsiciplina tem como objetivo capacitar o aluno a resolver problemas de aprendizado de máquina. Através do uso da linguagem Python, serão exploradas ferramentas para a resolução de problemas como regressão, classificação, clusterização e séries temporais."
      ],
      "metadata": {
        "id": "PmvNrOBT16a6"
      }
    },
    {
      "cell_type": "markdown",
      "source": [
        "# **O que é Aprendizado de Máquina?**\n",
        "\n",
        "<img src='https://raw.githubusercontent.com/guilhermepelegrina/Mackenzie/main/Aulas/Figuras/fig_ciencia_dados.jpg' width=\"500\">\n",
        "\n",
        "Fonte: Retirado de RAUTENBERG e CARMO, 2019.\n",
        "<br/><br/>\n",
        "Embora os termos Análise de Dados, Ciência de Dados e Aprendizado de Máquina sejam usados de maneira similar, há algumas peculiaridades entre eles:\n",
        "\n",
        "- A `Análise de Dados` (disciplina cursada no 5º semestre) ou, *Análise Exploratória dos Dados (AED)*, consiste em explorar conjuntos de dados a fim de obter informações relevantes, visualizar padrões, e extrair conclusões preliminares sobre os dados. Ela muitas vezes serve de base para outras análises, como a inferência estatística ou aprendizado de máquina\n",
        "\n",
        "- O `Aprendizado de Máquina` tem como objetivo principal a criação de algoritmos, que aprendem com base em um conjunto de dados, capazes de desempenhar uma determinada tarefa. São métodos frequentemente utilizados para auxiliar a tomada de decisões.\n",
        "\n",
        "- A `Ciência de Dados` inclui todas essas áreas do conhecimento, que vão desde a coleta e análise de dados até a construção de modelos e softwares computacionais.\n",
        "\n",
        "Notem que todas essas áreas são multidisciplinares!"
      ],
      "metadata": {
        "id": "EdXFwdSZ8dPC"
      }
    },
    {
      "cell_type": "markdown",
      "source": [
        "# **E Inteligência Artificial, é a mesma coisa?**\n",
        "\n",
        "Apesar dos termos Inteligência Artificial e Aprendizado de Máquina serem usados como sinônimos, há algumas diferenças entre eles. A Inteligência Artificial é um conceito muito mais amplo do que o Aprendizado de Máquina. Ela tem como objetivo criar sistemas inteligentes que possam simular a inteligência humana. Já o Aprendizado de Máquina atua mais na construção do modelo computacional, que possivelmente servirá como um ferramental dentro da Inteligência Artificial.\n",
        "<br/><br/>\n",
        "\n",
        "O Aprendizado de máquina pode ser visto, então, como um subconjunto da Inteligência Artificial.\n",
        "<br/><br/>\n",
        "\n",
        "E a Ciência de Dados? A Ciência de Dados, como já vimos, tem uma intersecção com o Aprendizado de Máquina, mas também contém outras ferramentas distintas, como a Análise de Dados.\n",
        "\n",
        "<img src='https://raw.githubusercontent.com/guilhermepelegrina/Mackenzie/main/Aulas/Figuras/fig_ai_ml_ds.jpg' width=\"600\">\n",
        "\n",
        "Fonte: Kotu, Vijay, and Bala Deshpande. Data science: concepts and practice. Morgan Kaufmann, 2018. Acesso pelo [link](https://www.sciencedirect.com/science/article/pii/B9780128147610000010).\n",
        "\n"
      ],
      "metadata": {
        "id": "y3a9k2G4TTwp"
      }
    },
    {
      "cell_type": "markdown",
      "source": [
        "# **Motivação: A importância do Aprendizado de Máquina na Engenharia de Produção**\n",
        "\n",
        "Há diversas áreas de atuação de um Engenheiro de Produção (Fonte ABEPRO):\n",
        "\n",
        "<img src='https://raw.githubusercontent.com/guilhermepelegrina/Mackenzie/main/Aulas/Figuras/fig_eng_prod_areas.jpg' width=\"600\">\n",
        "\n",
        "Na grande maioria dessas áreas, o profissional se auxilia de métodos que proporcionam otimizar processos a fim de alcançar um gerenciamento de excelência. Muitos desses métodos podem ser vistos como ferramentas de aprendizado de máquina:\n",
        "\n",
        "- Análise de perfis de clientes,\n",
        "\n",
        "- Detecção de fraudes bancárias,\n",
        "\n",
        "- Avaliação e concessão de crédito,\n",
        "\n",
        "- Previsão de demanda.\n",
        "\n",
        "Ou seja, após um levantamento cuidadoso dos dados acerca do problema abordado, há a criação de modelos (muitas vezes automáticos) que auxiliam na tomada de decisão."
      ],
      "metadata": {
        "id": "HkO8IHR22iQb"
      }
    },
    {
      "cell_type": "markdown",
      "source": [
        "# **Aplicações na Indústria**\n",
        "\n",
        "Há diversas aplicações possíveis de métodos de Aprendizado de Máquina na indústria. Alguns exemplos são os seguintes:\n",
        "\n",
        "- [Manutenção preditiva](https://hackernoon.com/pt/aprendizado-de-m%C3%A1quina-para-manuten%C3%A7%C3%A3o-preditiva-como-est%C3%A1-reinventando-a-manuten%C3%A7%C3%A3o-de-ativos),\n",
        "\n",
        "- [Previsão de demanda](https://www.mingosmartfactory.com/how-is-data-science-used-in-manufacturing-companies/),\n",
        "\n",
        "- [Gestão do agronegócio](https://www.cienciaedados.com/aplicacoes-e-tecnicas-de-machine-learning-na-agricultura/),\n",
        "\n",
        "- Construção de equipamentos qua atuam na [interface cérebro-computador](https://www.brainn.org.br/interface-cerebro-computador-o-futuro-controlado-pela-mente/).\n",
        "<br/><br/>\n",
        "\n",
        "Veja esse artigo para mais aplicações: [How is Data Science Used in Manufacturing?](https://www.mingosmartfactory.com/how-is-data-science-used-in-manufacturing-companies/)\n",
        "<br/><br/>"
      ],
      "metadata": {
        "id": "kdgN_zJ3TU_K"
      }
    },
    {
      "cell_type": "markdown",
      "source": [
        "# **Decisões baseadas em dados**\n",
        "\n",
        "O uso do Aprendizado de Máquina na construção de modelos de tomada de decisão fez com que surgisse um novo paradigma para a Ciência. Antigamente, as pessoas se serviam das informações disponíveis para aprender sobre a situação e elaborar a solução do problema (aplicando, por exemplo, ferramentas computacionais a partir do que determinou como forma de resolver o problema). Nos dias atuais, a solução de um problema está cada vez mais sendo obtida única e exclusivamente com base nos dados. As pessoas não precisam aprender sobre os dados, mas sim usar as ferramentas computacionais que vão aprender sobre os mesmos e elaborar o modelo de solução.\n",
        "\n",
        "<img src='https://raw.githubusercontent.com/guilhermepelegrina/Mackenzie/main/Aulas/Figuras/fig_paradigma_ml.jpg' width=\"500\">\n",
        "\n",
        "Fonte: Goulet, J.-A. (2020), Probabilistic Machine Learning for Civil Engineers, The MIT press.\n",
        "<br/><br/>\n",
        "Veja, também, esse artigo para um estudo mais aprofundado sobre essa *era da tomada de decisão baseada em dados*: [The age of analytics: Competing in a data-driven world](https://www.mckinsey.com/~/media/mckinsey/industries/public%20and%20social%20sector/our%20insights/the%20age%20of%20analytics%20competing%20in%20a%20data%20driven%20world/mgi-the-age-of-analytics-full-report.pdf)"
      ],
      "metadata": {
        "id": "S53N40Vj4bik"
      }
    },
    {
      "cell_type": "markdown",
      "source": [
        "# **Apenas se basear em dados é suficiente?**\n",
        "\n",
        "Embora a construção do modelo de Aprendizado de Máquina não necessita da interferência humana (em sua essência), a presença do profissional no seu desenvolvimento é fundamental para evitar alguns \"inconvenientes\":\n",
        "\n",
        "- Os dados são suficientes e estão sendo usados da forma correta? [Viés do sobrevivente](https://comoinvestir.thecap.com.br/vies-de-sobrevivente#:~:text=O%20que%20%C3%A9%20Vi%C3%A9s%20de%20Sobrevivente%3F,e%20esquecer%20outros%20fatores%20importantes.)\n",
        "\n",
        "- Os dados carregam e estão propagando desigualdades? [Machine bias](https://www.propublica.org/article/machine-bias-risk-assessments-in-criminal-sentencing)\n"
      ],
      "metadata": {
        "id": "1Bat2Nd_i6y_"
      }
    },
    {
      "cell_type": "markdown",
      "source": [
        "# **Decisões baseadas em dados sempre existiu?**\n",
        "\n",
        "\"Ciência de Dados\" existe há décadas, mas alguns fatores levaram ao aumento da procura por tal ferramental nos últimos anos:\n",
        "\n",
        "- Aumento da demanda por soluções inteligentes,\n",
        "\n",
        "- Disponibilidade de dados para auxílio à tomada de decisão,\n",
        "\n",
        "- Desenvolvimento de ferramentas e plataformas de programação para resolver os mais diversos tipos de problemas,\n",
        "\n",
        "- Capacidade computacional capaz de resolver problemas complexos.\n",
        "\n",
        "<img src='https://raw.githubusercontent.com/guilhermepelegrina/Mackenzie/main/Aulas/Figuras/fig_eng_prod_lei_moore.jpg' width=\"500\">"
      ],
      "metadata": {
        "id": "g1ASAk-RSzG5"
      }
    },
    {
      "cell_type": "markdown",
      "source": [
        "# **CRISP-DM**\n",
        "\n",
        "CRISP-DM (Cross Industry Standard Process for Data Mining): Metodologia utilizada para organizar e conduzir o projeto de Ciência de Dados.\n",
        "\n",
        "<img src='https://raw.githubusercontent.com/guilhermepelegrina/Mackenzie/main/Aulas/Figuras/fig_eng_prod_crisp_dm.jpg' width=\"400\">\n",
        "\n",
        "Fonte: Retirado de [(Veja aqui a matéria)](https://shorturl.at/bjAJ3)\n",
        "<br/><br/>\n",
        "Etapas:\n",
        "\n",
        "- **Entendimento do negócio**: Nesta etapa, buscamos compreender as necessidades do negócio e objetivos do projeto. A partir deste entendimento, formulamos o problema de Ciência de Dados que iremos lidar, que pode ser desde uma simples visualizão de dados como a construção de uma ferramenta complexa de aprendizado de máquina). Nesta formulação, avaliamos as fontes de dados, os riscos envolvidos e produzimos o plano a ser seguido. É importante ser realista em relação aos objetivos, uma vez que devemos alcançá-lo a partir dos dados disponíveis ou que poderão ser colatados.\n",
        "\n",
        "- **Entendimento dos Dados**: Esta etapa se incia pela coleta dos dados e entendimento dos mesmos, verificando se são suficientes e adequados para lidar com o problema abordado. Também podemos realizar análises iniciais sobre os dados e extrair informações/resultados preliminares.\n",
        "\n",
        "- **Preparação dos dados**: Nesta etapa, preparamos os dados para que eles estejam na forma adequada para a próxima etapa (modelagem). Tarefas como seleção, transformação e limpeza (*outliers*, dados faltantes) de dados são características dessa etapa. Note que, em muitos casos, essa e a etapa anterioir constituem a Análise Exploratória dos Dados, ou seja, um assunto explorado no semestre anterior (disciplina de Análise de Dados). Além disso, a etapa anterior e (principalmente) esta são as que consomem mais esforço no projeto (cerca de 70 a 80%), uma vez que são responsáveis por adquirir e preparar as informações que serão utilizadas na construção do modelo.\n",
        "\n",
        "- **Modelagem**: Esta etapa consiste na criação do modelo em sim. Avaliamos qual método mais se adequa ao problema abordado e, com bases nos dados coletados e preparados, criamos o modelo. É nessa etapa que empregamos os conhecimentos que serão vistos neste semestre, durante a disciplina de TIC.\n",
        "\n",
        "- **Avaliação**: Nesta etapa, aplicamos o modelo de solução proposto e avaliamos os resultados obtidos. Aqui, validamos se o que foi alcançado como resultado satisfaz os objetivos pretendidos no início do processo. Caso algum objetivo não tenha sido atendido, revemos o nosso plano, determinamos os próximos passos e buscamos por uma nova rodada de etapas.\n",
        "\n",
        "- **Aplicação**: Nesta etapa, implementamos a solução. A fim de assegurar o funcionamento contínuo do projeto, também construímos (se for o caso) o plano de monitoramento. Além disso, revisamos o projeto para se assegurar que todos os objetivos foram atendidos e produzimos a documentação final."
      ],
      "metadata": {
        "id": "OxuzdZ9ckgDG"
      }
    },
    {
      "cell_type": "markdown",
      "source": [
        "# **Linguagem e ambientes de programação**\n",
        "\n",
        "Tanto para Análise de Dados quanto para a criação de modelos de Aprendizado de Máquina, é comum usarmos linguagens de programação que facilitam a implementação dos métodos e resolução dos problemas.\n",
        "<br/><br/>\n",
        "Há diversas linguagens de programação, cada uma com suas características próprias acerca de facilidade de programação, capacidade de resolução de problemas e licença para uso do software. Alguns exemplos são: C++, [Python](https://www.python.org/), [R](https://www.r-project.org/) e [Matlab](https://www.mathworks.com/products/matlab.html).\n",
        "<br/><br/>\n",
        "Nesta disciplina, usaremos o Python, uma linguagem de programação de código aberto (gratuito) e que já dispõe de diversos pacotes e funções específicas para resolver os mais variados problemas envolvendo dados (dentre outras coisas).\n",
        "<br/><br/>\n",
        "Para programar em Python, é muito comum usarmos interpretadores interativos, como o [Jupyter Notebook](https://jupyter.org/) ou [Google Colab](https://colab.research.google.com/). Uma das principais diferenças entre os dois é que o Google Colab pode ser usado de qualuer computador, sem a necessidade da instalação do Python. Isso porque o Google Colab funciona na nuvem e o programa roda no Google. Nesta disciplina, usaremos o Google Colab tantos nas aulas quanto (essa é uma sugestão) nos trabalhos."
      ],
      "metadata": {
        "id": "Zi4eKw2ZlRS-"
      }
    },
    {
      "cell_type": "markdown",
      "source": [
        "# **Revisão: Comandos básicos do Python**\n",
        "\n",
        "Nesta aula, revisaremos os principais comandos / funções em Python que serão usados nesta disciplina. Esses comandos / funções são muito úteis quando criamos um projeto de Ciência de Dados, ou seja, que são usados tanto para Análise de Dados quanto para Aprendizado de Máquina."
      ],
      "metadata": {
        "id": "fzb17vN_QvWF"
      }
    },
    {
      "cell_type": "markdown",
      "source": [
        "# Importando bibliotecas"
      ],
      "metadata": {
        "id": "fZWWZsdQS-L_"
      }
    },
    {
      "cell_type": "code",
      "execution_count": null,
      "metadata": {
        "id": "WrfoUaaJQihw"
      },
      "outputs": [],
      "source": [
        "import numpy as np # Coleção de funções matemáticas para manipulações algébricas\n",
        "import pandas as pd # Manipulação de Data Frames\n",
        "import matplotlib.pyplot as plt # Criação de ferramentas para visualização de dados, como gráficos"
      ]
    },
    {
      "cell_type": "markdown",
      "source": [
        "# Variáveis e Atribuições\n",
        "\n",
        "- As variáveis em são elementos usados para armazenar valores, como números, textos, listas, entre outros.\n",
        "- Chamamos de atribuição de valores a passagem de uma informação a determinada variável."
      ],
      "metadata": {
        "id": "M8G_NGw2XeaE"
      }
    },
    {
      "cell_type": "code",
      "source": [
        "# Exemplos de variáveis e atribuições\n",
        "\n",
        "inteiro = 123 # Número inteiro\n",
        "real = np.pi  # Número real\n",
        "\n",
        "print(inteiro, type(inteiro))\n",
        "print(real, type(real))"
      ],
      "metadata": {
        "id": "f-R2tvpKXUDp"
      },
      "execution_count": null,
      "outputs": []
    },
    {
      "cell_type": "code",
      "source": [
        "# Para o Python, os números seguintes são inteiros ou reais?\n",
        "\n",
        "num1 = 6\n",
        "num2 = 6.0\n",
        "num3 = 6/4\n",
        "num4 = 2/1\n",
        "num5 = 6 + 5.0\n",
        "\n",
        "print(num1, type(num1))\n",
        "print(num2, type(num2))\n",
        "print(num3, type(num3))\n",
        "print(num4, type(num4))\n",
        "print(num5, type(num5))"
      ],
      "metadata": {
        "id": "CXvI6QPAYqOO"
      },
      "execution_count": null,
      "outputs": []
    },
    {
      "cell_type": "markdown",
      "source": [
        "# Strings\n",
        "\n",
        "Strings são estruturas usadas para armazenar informações de texto (sequência de caracteres). Essa sequência de caracteres pode conter números, letras e pontuações.\n",
        "\n",
        "`str[ inicio : tamanho ]`\n",
        "ou\n",
        "`str[ inicio : fim+1 ]`\n"
      ],
      "metadata": {
        "id": "KM9Nbtkw5agP"
      }
    },
    {
      "cell_type": "code",
      "source": [
        "# Exemplos de strings\n",
        "\n",
        "texto1 = '123' # texto\n",
        "texto2 = 'TIC !' # texto\n",
        "texto3 = \"Aula de python\"\n",
        "\n",
        "print(texto1, type(texto1))\n",
        "print(texto2, type(texto2))\n",
        "print(texto3[0:7])"
      ],
      "metadata": {
        "id": "3d7cVbXo5-U9"
      },
      "execution_count": null,
      "outputs": []
    },
    {
      "cell_type": "code",
      "source": [
        "# Calculando o tamanho da string\n",
        "\n",
        "print(len(texto1))\n",
        "print(len(texto2))"
      ],
      "metadata": {
        "id": "ZFn-7X0H6bmJ"
      },
      "execution_count": null,
      "outputs": []
    },
    {
      "cell_type": "code",
      "source": [
        "# Manipulando strings (1)\n",
        "\n",
        "str2 = str1.replace('Análise','Ciência')\n",
        "print(str2)"
      ],
      "metadata": {
        "id": "7p32xL0I7Yoq"
      },
      "execution_count": null,
      "outputs": []
    },
    {
      "cell_type": "code",
      "source": [
        "# Manipulando strings (3)\n",
        "\n",
        "str3 = 'Aprendizado '\n",
        "str4 = 'de '\n",
        "str5 = 'Máquina'\n",
        "print(str3+str4+str5)"
      ],
      "metadata": {
        "id": "Ysh6JMgG8dyQ"
      },
      "execution_count": null,
      "outputs": []
    },
    {
      "cell_type": "markdown",
      "source": [
        "# Print e Input"
      ],
      "metadata": {
        "id": "I5FgGsqA7suK"
      }
    },
    {
      "cell_type": "code",
      "source": [
        "# Exemplo 1\n",
        "\n",
        "texto = input('Entre com um texto: ')\n",
        "print(texto)"
      ],
      "metadata": {
        "id": "81sK0yjS7y_t"
      },
      "execution_count": null,
      "outputs": []
    },
    {
      "cell_type": "code",
      "source": [
        "# Exemplo 2\n",
        "\n",
        "numero = float(input('Entre com um número: '))\n",
        "print('Seu número mais um: ', numero+1)"
      ],
      "metadata": {
        "id": "aPO_b1QQ76E7"
      },
      "execution_count": null,
      "outputs": []
    },
    {
      "cell_type": "markdown",
      "source": [
        "# Controlando o Fluxo do Programa\n",
        "\n",
        "Note que em Python as instruções **aninhadas** são **identadas** (*tab*). Assim os comandos *aninhados* à condição (*if-then-else*) ou laço (*for*) do programa devem estar à direita do comando inicial da condição ou laço."
      ],
      "metadata": {
        "id": "j0q1SPiK_LAz"
      }
    },
    {
      "cell_type": "markdown",
      "source": [
        "**if-then-else**"
      ],
      "metadata": {
        "id": "9tdM8twz_5oc"
      }
    },
    {
      "cell_type": "code",
      "source": [
        "a = 1964\n",
        "b = 198\n",
        "\n",
        "if b > a:\n",
        "  print(\"b is greater than a\")\n",
        "else:\n",
        "  print(\"a is greater than b\")"
      ],
      "metadata": {
        "id": "FPkYxHwF_Pcm"
      },
      "execution_count": null,
      "outputs": []
    },
    {
      "cell_type": "code",
      "source": [
        "if b > a:\n",
        "  print(\"b is greater than a\")\n",
        "elif a == b:\n",
        "  print(\"a and b are equal\")\n",
        "else:\n",
        "  print(\"a is greater than b\")"
      ],
      "metadata": {
        "id": "cAkYl2-i_2ms"
      },
      "execution_count": null,
      "outputs": []
    },
    {
      "cell_type": "markdown",
      "source": [
        "**for**"
      ],
      "metadata": {
        "id": "OYPm9UCO_-Vn"
      }
    },
    {
      "cell_type": "code",
      "source": [
        "# a % b retorna o resto da divisão de a por b\n",
        "\n",
        "for i in range(11):\n",
        "  if i%2 == 0:\n",
        "    print(i)"
      ],
      "metadata": {
        "id": "Wz4mU_mtAAJt"
      },
      "execution_count": null,
      "outputs": []
    },
    {
      "cell_type": "markdown",
      "source": [
        "**Funções**\n",
        "\n",
        "Há muitas funções já criadas em Python e, na grande maioria dos casos, não precisaremos necessariamente *criar* funções novas. No entanto, em casos específicos ou mis *cutomizados*, é interessante criar uma função própria para deixar o código mais modular e enxuto."
      ],
      "metadata": {
        "id": "5i7ZSr5MAl7m"
      }
    },
    {
      "cell_type": "code",
      "source": [
        "def mymax(a,b):\n",
        "  if a > b:\n",
        "    return a\n",
        "  else:\n",
        "    return b\n",
        "\n",
        "mymax(1984,1964)"
      ],
      "metadata": {
        "id": "HO2WjzsTAoQ1"
      },
      "execution_count": null,
      "outputs": []
    },
    {
      "cell_type": "markdown",
      "source": [
        "# Numpy"
      ],
      "metadata": {
        "id": "iZBj3gvfCaQd"
      }
    },
    {
      "cell_type": "code",
      "source": [
        "import numpy as np\n",
        "\n",
        "x = np.array([1,2,3])\n",
        "media = np.mean(x)\n",
        "soma = np.sum(x)\n",
        "\n",
        "print('Média:', media, 'Soma:', soma)\n",
        "print(type(media), type(soma))"
      ],
      "metadata": {
        "id": "r8sTCGkGCo4s"
      },
      "execution_count": null,
      "outputs": []
    },
    {
      "cell_type": "code",
      "source": [
        "# Exemplo: Gerador (não)aleatório\n",
        "np.random.seed(2) # semente de geração aleatória\n",
        "x = np.array(np.random.randint(low=1, high=6, size=10))\n",
        "print(x)\n",
        "\n",
        "x = np.array(np.random.randint(low=1, high=6, size=10))\n",
        "print(x)\n",
        "\n",
        "np.random.seed(2) # semente de geração aleatória\n",
        "x = np.array(np.random.randint(low=1, high=6, size=10))\n",
        "print(x)"
      ],
      "metadata": {
        "id": "KfqDGl18CcXr"
      },
      "execution_count": null,
      "outputs": []
    },
    {
      "cell_type": "code",
      "source": [
        "# Gerando matrizes de 0s ou constantes\n",
        "\n",
        "m1 = np.zeros((2,5))\n",
        "\n",
        "print(m1)"
      ],
      "metadata": {
        "id": "F_YRW1ADExri"
      },
      "execution_count": null,
      "outputs": []
    },
    {
      "cell_type": "code",
      "source": [
        "# Gerando matrizes de constantes\n",
        "\n",
        "m2 = 5.2 * np.ones((4,2))\n",
        "\n",
        "print(m2)"
      ],
      "metadata": {
        "id": "3efjfZjAFEEF"
      },
      "execution_count": null,
      "outputs": []
    },
    {
      "cell_type": "code",
      "source": [
        "# Concatenando arrays\n",
        "\n",
        "array1 = np.random.randint(low=5, high=10, size=10)\n",
        "\n",
        "print(array1)\n",
        "\n",
        "array2 = np.random.randint(low=0, high=5, size=10)\n",
        "\n",
        "print(array2)\n",
        "\n",
        "concat1 = np.concatenate((array1,array2),axis = 0)\n",
        "\n",
        "print(concat1)"
      ],
      "metadata": {
        "id": "M6zdsUUmFJOS"
      },
      "execution_count": null,
      "outputs": []
    },
    {
      "cell_type": "code",
      "source": [
        "# Selecionado partes (slices) de um vetor\n",
        "\n",
        "array1 = np.random.randint(low=5, high=10, size=10)\n",
        "\n",
        "print(array1)\n",
        "\n",
        "slice1 = array1[0:3]\n",
        "print(slice1)\n",
        "\n",
        "print(array1[2:4])\n",
        "print(array1[2:])\n",
        "print(array1[2:-1])"
      ],
      "metadata": {
        "id": "muxTajyjGH_f"
      },
      "execution_count": null,
      "outputs": []
    },
    {
      "cell_type": "code",
      "source": [
        "# Alterando valores de vetor\n",
        "\n",
        "vetor = np.array([1,4,7])\n",
        "print(vetor)\n",
        "\n",
        "vetor[1] = 10\n",
        "print(vetor)\n"
      ],
      "metadata": {
        "id": "SSM3TvDIHome"
      },
      "execution_count": null,
      "outputs": []
    },
    {
      "cell_type": "code",
      "source": [
        "# Alterando valores de matriz\n",
        "\n",
        "matriz = np.array(([1,4,7], [3,5,9]))\n",
        "print(matriz)\n",
        "\n",
        "matriz[0,2] = 10\n",
        "print(matriz)"
      ],
      "metadata": {
        "id": "J8ZnZviaIZ7_"
      },
      "execution_count": null,
      "outputs": []
    },
    {
      "cell_type": "code",
      "source": [
        "# Alterando valores de matriz\n",
        "\n",
        "valores = np.array([12,13])\n",
        "\n",
        "matriz[1,0:2] = valores\n",
        "print(matriz)"
      ],
      "metadata": {
        "id": "ehrOr-dvIeXt"
      },
      "execution_count": null,
      "outputs": []
    },
    {
      "cell_type": "markdown",
      "source": [
        "# **Revisão: Comandos básicos do Pandas**\n",
        "\n",
        "Nesta aula, revisaremos os principais comandos / funções em Pandas que serão usados nesta disciplina. Esses comandos / funções são muito úteis quando criamos um projeto de Ciência de Dados, ou seja, que são usados tanto para Análise de Dados quanto para Aprendizado de Máquina."
      ],
      "metadata": {
        "id": "Sx7poRAAhVEC"
      }
    },
    {
      "cell_type": "markdown",
      "source": [
        "## Listas (List)\n",
        "\n",
        "Lista (**list**) é uma coleção que é **ordenada** e **mutável**. Permite membros **duplicados**. Associada a lista você encontra uma série de métodos que implementam funções úteis para esses objetos."
      ],
      "metadata": {
        "id": "H8BayH38jpm8"
      }
    },
    {
      "cell_type": "code",
      "execution_count": null,
      "metadata": {
        "id": "gBNJQSbLg1hf"
      },
      "outputs": [],
      "source": [
        "mylist = ['A', 'B', 'C', 'A', 'B']\n",
        "print(len(mylist))\n",
        "\n",
        "cont = mylist.count('B')\n",
        "print(cont)\n",
        "\n",
        "mylist.append('D')\n",
        "print(mylist)\n",
        "\n",
        "mylist.sort()\n",
        "print(mylist)\n",
        "\n",
        "mylist.insert(1,'X')\n",
        "print(mylist)\n",
        "\n",
        "mylist[1] = 'ZZ'\n",
        "print(mylist)\n",
        "\n",
        "del mylist[0:1]\n",
        "print(mylist)"
      ]
    },
    {
      "cell_type": "code",
      "source": [
        "mylist = [1,2,7,5,8,7]\n",
        "print(len(mylist))\n",
        "\n",
        "cont = mylist.count(7)\n",
        "print(cont)\n",
        "\n",
        "mylist.append(2)\n",
        "print(mylist)\n",
        "\n",
        "mylist.sort()\n",
        "print(mylist)\n",
        "\n",
        "mylist.insert(1,10)\n",
        "print(mylist)\n",
        "\n",
        "mylist[1] = 2\n",
        "print(mylist)\n",
        "\n",
        "del mylist[0:1]\n",
        "print(mylist)"
      ],
      "metadata": {
        "id": "0efqOaTokXm8"
      },
      "execution_count": null,
      "outputs": []
    },
    {
      "cell_type": "markdown",
      "source": [
        "## Percorrendo uma lista *\n",
        "\n",
        "Existem basicamente duas forma de percorrer uma lista.\n",
        "\n",
        "* **Por índice**, empregue quando precisar do índice (posição) ou alterar os elementos\n",
        "* **Por iterador**, empregue apenas para recuperar (ler) os elementos"
      ],
      "metadata": {
        "id": "6vOfM9ook4q3"
      }
    },
    {
      "cell_type": "code",
      "source": [
        "for i in range(len(mylist)):\n",
        "    print(i, mylist[i])"
      ],
      "metadata": {
        "id": "NpLQlTBIk5Qr"
      },
      "execution_count": null,
      "outputs": []
    },
    {
      "cell_type": "markdown",
      "source": [
        "# Pandas\n",
        "\n",
        "O `Pandas` é uma API (biblioteca) em Python para manipulação e análise de dados orientada a colunas. Ela permite organizar dados em dois tipos de estruturas, Séries e DataFrames, e operar seleções e transformações sobre essas coleções de dados.\n",
        "\n",
        "Comece vendo um resumo dos comandos Pandas aqui [Pandas Cheat Sheet](https://pandas.pydata.org/Pandas_Cheat_Sheet.pdf).\n",
        "\n",
        "\n",
        "* **DataFrame**: você pode imaginar como uma tabela de dados relacionais, com linhas e colunas nomeadas, como no Excel ou SQL.\n",
        "* **Series**: é uma única coluna de dados, e o DataFrame contém um ou mais Series com um nome para cada uma delas.\n",
        "\n",
        "Você pode ler e gravar dados de diferentes fontes como arquivos .csv, .json, .xlsx e arquivos de bancos de dados sql, Mongo etc.\n",
        "\n",
        "\n",
        "| Format        | Read           | Save          |\n",
        "| ------------- |:--------------:| ----------------:|\n",
        "| csv           | `pd.read_csv()`  |`df.to_csv()`     |\n",
        "| json          | `pd.read_json()` |`df.to_json()`    |\n",
        "| xlsx          | `pd.read_excel()`|`df.to_excel()`   |\n",
        "| hdf           | `pd.read_hdf()`  |`df.to_hdf()`     |\n",
        "| sql           | `pd.read_sql()`  |`df.to_sql()`     |\n",
        "\n",
        "Vamos discutir funções e seleção de dados usando como exemplo a base de dados [Bank Marketing](https://archive.ics.uci.edu/dataset/222/bank+marketing)."
      ],
      "metadata": {
        "id": "T02h_RP3lqss"
      }
    },
    {
      "cell_type": "code",
      "source": [
        "df = pd.read_csv(\"https://raw.githubusercontent.com/guilhermepelegrina/Mackenzie/main/Datasets/data_bank_marketing.csv\", sep = ';')\n",
        "df.head()"
      ],
      "metadata": {
        "id": "qwieKpzclwoU"
      },
      "execution_count": null,
      "outputs": []
    },
    {
      "cell_type": "markdown",
      "source": [
        "Informações sobre o conjunto de dados:\n",
        "\n",
        "- age (numeric)\n",
        "- job : type of job (categorical: \"admin.\",\"unknown\",\"unemployed\",\"management\",\"housemaid\",\"entrepreneur\",\"student\", \"blue-collar\",\"self-employed\",\"retired\",\"technician\",\"services\")\n",
        "- marital : marital status (categorical: \"married\",\"divorced\",\"single\"; note: \"divorced\" means divorced or widowed)\n",
        "- education (categorical: \"unknown\",\"secondary\",\"primary\",\"tertiary\")\n",
        "- default: has credit in default? (binary: \"yes\",\"no\")\n",
        "- balance: average yearly balance, in euros (numeric)\n",
        "- housing: has housing loan? (binary: \"yes\",\"no\")\n",
        "- loan: has personal loan? (binary: \"yes\",\"no\")\n",
        "\n",
        "Related with the last contact of the current campaign:\n",
        "\n",
        "- contact: contact communication type (categorical: \"unknown\",\"telephone\",- day: last contact day of the month (numeric)\n",
        "- month: last contact month of year (categorical: \"jan\", \"feb\", \"mar\", ..., \"nov\", \"dec\")\n",
        "- duration: last contact duration, in seconds (numeric)\n",
        "   \n",
        "Other attributes:\n",
        "\n",
        "- campaign: number of contacts performed during this campaign and for this client (numeric, includes last contact)\n",
        "- pdays: number of days that passed by after the client was last contacted from a previous campaign (numeric, -1 means client was not previously contacted)\n",
        "- previous: number of contacts performed before this campaign and for this client (numeric)\n",
        "- poutcome: outcome of the previous marketing campaign (categorical: \"unknown\",\"other\",\"failure\",\"success\")\n",
        "\n",
        "Output variable (desired target):\n",
        "\n",
        "- y - has the client subscribed a term deposit? (binary: \"yes\",\"no\")"
      ],
      "metadata": {
        "id": "K0L7VkKxl7eY"
      }
    },
    {
      "cell_type": "markdown",
      "source": [
        "### Explorando os dados\n",
        "\n",
        "É importante na primeira análise extrair informações sobre a estrutura dos dados, isto é, verificar o tipo de variáveis, número de linhas, colunas, etc."
      ],
      "metadata": {
        "id": "n_OWD4yCmxLg"
      }
    },
    {
      "cell_type": "code",
      "source": [
        "# Funções interessantes\n",
        "\n",
        "#df.head()\n",
        "#df.tail()\n",
        "#df.columns\n",
        "#df.shape\n",
        "df.info()"
      ],
      "metadata": {
        "id": "AhK8VUH0m0Iw"
      },
      "execution_count": null,
      "outputs": []
    },
    {
      "cell_type": "markdown",
      "source": [
        "A função `describe()` do pandas é uma ferramenta muito útil para obter um resumo estatístico de um DataFrame."
      ],
      "metadata": {
        "id": "r4E8pjrLUxWa"
      }
    },
    {
      "cell_type": "code",
      "source": [
        "df.describe()"
      ],
      "metadata": {
        "id": "0Bjl1bzfUx3C"
      },
      "execution_count": null,
      "outputs": []
    },
    {
      "cell_type": "markdown",
      "source": [
        "### Seleção de Colunas, Linhas e Linhas e Colunas\n",
        "\n",
        "<img src=\"https://pandas.pydata.org/docs/_images/03_subset_columns.svg\" width=320, align=\"center\">\n",
        "<img src=\"https://pandas.pydata.org/docs/_images/03_subset_rows.svg\" width=320, align=\"center\">\n",
        "<img src=\"https://pandas.pydata.org/docs/_images/03_subset_columns_rows.svg\" width=320, align=\"center\">"
      ],
      "metadata": {
        "id": "Edqdn9q_06E6"
      }
    },
    {
      "cell_type": "markdown",
      "source": [
        "**Selecionando colunas**\n",
        "\n",
        "No pandas, você pode selecionar colunas de um DataFrame de várias maneiras diferentes. Aqui estão as duas formas mais comuns de fazer isso:"
      ],
      "metadata": {
        "id": "H7N5jaOP08xq"
      }
    },
    {
      "cell_type": "code",
      "source": [
        "# As duas opções retornam o mesmo resultado.\n",
        "df.age  # Opção 1\n",
        "df['age'] # Opção 2"
      ],
      "metadata": {
        "id": "-xUMvfhs1BAz"
      },
      "execution_count": null,
      "outputs": []
    },
    {
      "cell_type": "markdown",
      "source": [
        "**Removendo colunas**"
      ],
      "metadata": {
        "id": "P4wPD5flJT_u"
      }
    },
    {
      "cell_type": "code",
      "source": [
        "df2 = df.drop('age',axis=1)\n",
        "df2.head()"
      ],
      "metadata": {
        "id": "nLJDgmPNJIS_"
      },
      "execution_count": null,
      "outputs": []
    },
    {
      "cell_type": "markdown",
      "source": [
        "Se você quiser calcular estatísticas específicas pode usar as seguintes funções:  `mean()` para a média, `std()` para o desvio padrão, `min()` e `max()` para os valores mínimo e máximo, etc."
      ],
      "metadata": {
        "id": "JtHYPc0R1ZvN"
      }
    },
    {
      "cell_type": "code",
      "source": [
        "# valores descritivos da variável \"temp\"\n",
        "\n",
        "print(df.age.max())  # valor máximo\n",
        "print(df.age.min())  # valor mínimo\n",
        "print(df.age.mean()) # média\n",
        "print(df.age.std())  # desvio padrão\n",
        "print(df.age.quantile()) # Exibe a mediana\n",
        "print(df.age.quantile([0, 0.25, 0.5, 0.9])) # exibindo diferentes percentis"
      ],
      "metadata": {
        "id": "KvZeKugF1aNL"
      },
      "execution_count": null,
      "outputs": []
    },
    {
      "cell_type": "markdown",
      "source": [
        "**Variáveis categóricas (não numéricas)**\n",
        "\n",
        "Variáveis categóricas são aquelas que representam categorias ou grupos distintos, em vez de valores numéricos contínuos. Elas são comuns em dados que envolvem características não numéricas, como gênero, cor, tipo de animal, estado civil, etc."
      ],
      "metadata": {
        "id": "jUEEBjgx7uZf"
      }
    },
    {
      "cell_type": "code",
      "source": [
        "est_civil = df.marital.to_list() # Converter marital em uma lista\n",
        "est_civil.count('married')    # Contar o número de vezes que aparece \"married\""
      ],
      "metadata": {
        "id": "myipsoah7zL4"
      },
      "execution_count": null,
      "outputs": []
    },
    {
      "cell_type": "code",
      "source": [
        "# Funções úteis\n",
        "\n",
        "#df.marital.value_counts() # valores diferentes e suas quantidades\n",
        "#df.marital.unique()       # Mostra os valores únicos\n",
        "df.marital.nunique()      # Número de valores únicos"
      ],
      "metadata": {
        "id": "-MFhrQIP8YO-"
      },
      "execution_count": null,
      "outputs": []
    },
    {
      "cell_type": "markdown",
      "source": [
        "**Selecionando várias colunas**\n",
        "\n",
        "Para selecionar várias colunas em um DataFrame do pandas, você pode passar uma lista com os nomes das colunas que deseja selecionar. Lembre-se de que, ao selecionar várias colunas, o resultado será um novo DataFrame contendo apenas as colunas selecionadas."
      ],
      "metadata": {
        "id": "6i-1M6CQ8lXG"
      }
    },
    {
      "cell_type": "code",
      "source": [
        "# Selecionando várias colunas\n",
        "\n",
        "df[[\"age\",\t\"marital\",\t\"default\"]]"
      ],
      "metadata": {
        "id": "QVyM6ZTL8pnV"
      },
      "execution_count": null,
      "outputs": []
    },
    {
      "cell_type": "code",
      "source": [
        "# Outras funções úteis\n",
        "\n",
        "#df.dropna() # Remove missing values\n",
        "#df.isna()  # Detect missing values\n",
        "df.nsmallest(5,'age')  # Exibe os n menores valores segundo certa determinada variável"
      ],
      "metadata": {
        "id": "LIAoVJGL9FL-"
      },
      "execution_count": null,
      "outputs": []
    },
    {
      "cell_type": "markdown",
      "source": [
        "**Selecionando linhas**\n",
        "\n",
        "Para selecionar linhas em um DataFrame do pandas podemos usar os colchetes com base em critérios específicos:"
      ],
      "metadata": {
        "id": "xF8tsOsu9brm"
      }
    },
    {
      "cell_type": "code",
      "source": [
        "# Selecionando linhas\n",
        "df[df.marital==\"married\"]"
      ],
      "metadata": {
        "id": "BucoHTP69cLF"
      },
      "execution_count": null,
      "outputs": []
    },
    {
      "cell_type": "markdown",
      "source": [
        "Para combinar critérios de seleção você pode empregar os operadores lógicos & (AND), '|' (OR) ou '!' (NOT), sendo necessário a inclusão de parênteses nas seleções."
      ],
      "metadata": {
        "id": "8SL1N-j09nnV"
      }
    },
    {
      "cell_type": "code",
      "source": [
        "# Usando AND (%)\n",
        "df[(df.marital==\"married\") & (df.age>70)]"
      ],
      "metadata": {
        "id": "8_1DROLR9oJ-"
      },
      "execution_count": null,
      "outputs": []
    },
    {
      "cell_type": "code",
      "source": [
        "# Usando OR (|)\n",
        "\n",
        "df[(df.marital=='married') | (df.marital=='divorced')]"
      ],
      "metadata": {
        "id": "SJlTihq492X5"
      },
      "execution_count": null,
      "outputs": []
    },
    {
      "cell_type": "code",
      "source": [
        "# Usando NOT (!)\n",
        "\n",
        "df[(df.marital!=\"married\")]"
      ],
      "metadata": {
        "id": "EHXBe_aY-IIW"
      },
      "execution_count": null,
      "outputs": []
    },
    {
      "cell_type": "markdown",
      "source": [
        "**Selecionando colunas e linhas**\n",
        "\n",
        "Podemos selecionar primeiro as linhas (segundo uma condição) e depois selecionar as colunas desejadas."
      ],
      "metadata": {
        "id": "lkGVk53V-SXe"
      }
    },
    {
      "cell_type": "code",
      "source": [
        "# Uma única coluna\n",
        "\n",
        "df[df.marital==\"married\"].age"
      ],
      "metadata": {
        "id": "EE519ebf-S1N"
      },
      "execution_count": null,
      "outputs": []
    },
    {
      "cell_type": "code",
      "source": [
        "# Várias colunas\n",
        "\n",
        "df[df.marital==\"married\"][[\"age\",\"job\",\"education\"]]"
      ],
      "metadata": {
        "id": "AeOh1new-fOV"
      },
      "execution_count": null,
      "outputs": []
    },
    {
      "cell_type": "markdown",
      "source": [
        "# Visualização de dados\n",
        "\n",
        "Além da análise dos dados, também é importante usar métodos para a visualização dos mesmos. Há diversas formas de representar dados graficamente, cada uma com seu objetivo específico. Em Python, temos bibliotecas com funções úteis para a criação de gráficos, como o *mtplotlib*."
      ],
      "metadata": {
        "id": "R-XNExXV3wXX"
      }
    },
    {
      "cell_type": "code",
      "source": [
        "# Histograma\n",
        "\n",
        "plt.hist(df.age, bins=df.age.max()-df.age.min())\n",
        "plt.title('Histograma', fontsize=14, weight='bold')\n",
        "plt.show()"
      ],
      "metadata": {
        "id": "Jxzy02kz4bOi"
      },
      "execution_count": null,
      "outputs": []
    },
    {
      "cell_type": "code",
      "source": [
        "# Gráfico de barra\n",
        "\n",
        "plt.bar(df.marital.unique(),df.marital.value_counts(),color=['c','g','y'],alpha=0.5)\n",
        "plt.title('Bar plot', fontsize=14, weight='bold')"
      ],
      "metadata": {
        "id": "uvICsg8T6CwG"
      },
      "execution_count": null,
      "outputs": []
    },
    {
      "cell_type": "markdown",
      "source": [
        "# **Exercício 1**\n",
        "\n",
        "Crie um programa que gera aleatoriamente (sem semente definida) cinco arrays com 100 elementos cada. Os números devem ser inteiros no intervalo [0,20]. Para cada array, calcule a média e apresente na tela (*print*) o valor obtido."
      ],
      "metadata": {
        "id": "5cqMOlTvDzHQ"
      }
    },
    {
      "cell_type": "code",
      "source": [
        "\n"
      ],
      "metadata": {
        "id": "QATHhpgqjAVM"
      },
      "execution_count": null,
      "outputs": []
    },
    {
      "cell_type": "markdown",
      "source": [
        "# **Exercício 2**\n",
        "\n",
        "Crie um programa que gera aleatoriamente (com semente igual a 157) um único array com 500 elementos. Os números devem ser inteiros no intervalo [0,20]. Em seguida, crie uma matriz com 100 linhas e 5 colunas, sendo que a primeira coluna contenha os 100 primeiros elementos do array, a segunda coluna os 100 elementos seguintes, e assim por diante. Para cada coluna, calcule também a média e, se a média for maior que 10, apresente o valor obtido na tela, juntamente com a coluna correspondente.\n",
        "\n",
        "Dica: Utilize os comandos *for* e *if*."
      ],
      "metadata": {
        "id": "KDJxz8KBGoaX"
      }
    },
    {
      "cell_type": "code",
      "source": [
        "\n"
      ],
      "metadata": {
        "id": "zZtDwExB2uzm"
      },
      "execution_count": null,
      "outputs": []
    },
    {
      "cell_type": "markdown",
      "source": [
        "# **Exercício 3**\n",
        "\n",
        "Na construção de um modelo de Aprendizado de Máquina, é comum (e recomendado) gerar dados de treinamento (usados para treinar o modelo) e dados de teste (usados para avaliar o modelo treinado).\n",
        "\n",
        "Há um comando em Python (dentro da biblioteca do scikit-learn) que faz essa tarefa. Procure e use essa biblioteca para gerar um conjunto de treinamento com 80% dos dados e um conjunto de teste com os 20% dos dados restantes.\n",
        "\n",
        "Considere o mesmo conjunto de dados usado na aula da revisão de Pandas."
      ],
      "metadata": {
        "id": "9SvGh9OCGtUI"
      }
    },
    {
      "cell_type": "code",
      "source": [],
      "metadata": {
        "id": "BYnyTydnvnt-"
      },
      "execution_count": null,
      "outputs": []
    },
    {
      "cell_type": "markdown",
      "source": [
        "**Referências**\n",
        "\n",
        "LIMA, M. C. J.; ALMEIDA, R. M.; VALIM, S. R.; MIRANDA, W. M. A Importância da Análise de Dados na Engenharia de Produção. In: XLI ENCONTRO NACIONAL DE ENGENHARIA DE PRODUÇÃO (ENEGEP), Foz do Iguaçu, Paraná, Brasil, 2021.\n",
        "<br/><br/>\n",
        "KOTU, V.; DESHPANDE, B. Data science: concepts and practice. Morgan Kaufmann, 2018. Acesso pelo [link](https://www.sciencedirect.com/science/article/pii/B9780128147610000010).\n",
        "<br/><br/>\n",
        "RAUTENBERG, S.; CARMO, P. R. V. Big Data e Ciência de Dados: Complementariedade Conceitual no Processo de Tomada de Decisão. Brazilian Journal of Information Studies, v. 13 (1), p. 56-67, 2019.\n",
        "\n",
        "\n"
      ],
      "metadata": {
        "id": "vH07mQKemD6s"
      }
    }
  ]
}