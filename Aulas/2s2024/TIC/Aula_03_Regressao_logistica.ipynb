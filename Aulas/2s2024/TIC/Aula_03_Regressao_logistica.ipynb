{
  "nbformat": 4,
  "nbformat_minor": 0,
  "metadata": {
    "colab": {
      "provenance": [],
      "authorship_tag": "ABX9TyMHnW4fBBGb2M0Dv0S4Sluh",
      "include_colab_link": true
    },
    "kernelspec": {
      "name": "python3",
      "display_name": "Python 3"
    },
    "language_info": {
      "name": "python"
    }
  },
  "cells": [
    {
      "cell_type": "markdown",
      "metadata": {
        "id": "view-in-github",
        "colab_type": "text"
      },
      "source": [
        "<a href=\"https://colab.research.google.com/github/GuilhermePelegrina/Mackenzie/blob/main/Aulas/2s2024/TIC/Aula_03_Regressao_logistica.ipynb\" target=\"_parent\"><img src=\"https://colab.research.google.com/assets/colab-badge.svg\" alt=\"Open In Colab\"/></a>"
      ]
    },
    {
      "cell_type": "markdown",
      "source": [
        "<img src='https://raw.githubusercontent.com/guilhermepelegrina/Mackenzie/main/logo_mackenzie.png'>\n"
      ],
      "metadata": {
        "id": "GmPTkUxBjDXB"
      }
    },
    {
      "cell_type": "markdown",
      "source": [
        "# **Regressão Logística**\n",
        "\n",
        "A regressão logística é um modelo estatístico utilizado para modelar a probabilidade de ocorrência de um evento ou resultado, especialmente em situações binárias, onde a variável de saída pode ter apenas dois valores possíveis.\n",
        "\n",
        "As variáveis explicativas em um modelo de regressão logística são aquelas que são usadas para prever a variável de saída binária. Elas são chamadas de variáveis independentes, preditoras ou explicativas. No contexto da regressão logística, essas variáveis podem ser numéricas ou categóricas e são utilizadas para calcular a probabilidade de ocorrência do evento de interesse.\n",
        "\n",
        "Por exemplo, se estivermos analisando a probabilidade de um cliente comprar um produto (evento = compra), as variáveis explicativas podem incluir informações como idade, sexo, renda, histórico de compras anteriores, entre outros. Essas variáveis ajudarão a modelar como cada uma delas influencia a probabilidade de compra.\n",
        "\n",
        "Os modelos de regressão logística são particularmente úteis em problemas de classificação, onde se deseja estimar em qual categoria os dados devem ser classificados. Como possíveis aplicações pode-se citar as seguintes áreas:\n",
        "<br>\n",
        "<br>\n",
        "\n",
        "**Médica:** Determinar as chances de se desenvolver uma determinada doença, baseado em caracteristicas gerais do paciente.\n",
        "\n",
        "**Financeira:** Determinar se um empréstimo pode ser concedido a um cliente ou não.\n",
        "\n",
        "**Social:** Estimar as chances de uma pessoa votar em um candidato ou não.\n",
        "\n",
        "**Industrial:** Estimar as chances de falhas em processos produtivos.\n",
        "\n",
        "**Marketing:** Estimar as chances de um cliente adquirir um determinado produto ou pacote de serviços."
      ],
      "metadata": {
        "id": "pVZh3pxwjE8Y"
      }
    },
    {
      "cell_type": "markdown",
      "source": [
        "## Exemplo\n",
        "\n",
        "Suponha que se deseja analisar as chances de um indivíduo ter problemas cardiovascular. Existem diversos fatores que influenciam este problema, mas para este exemplo vamos considerar apenas um: o nível de colesterol ruim no sangue (LDL). Considere que um determinado hospital possui uma base de dados com 100 pessoas, seus níveis de LDL, e também se sofrem de alguma doença cardiovascular.\n",
        "\n",
        "A variável dependente é a ocorrencia de doença cardiovascular. Ter doença cardiovascular é igual a 1 e não ter é igual a 0. A variável independente é o nível de LDL na sangue.\n",
        "\n"
      ],
      "metadata": {
        "id": "uxieJ6Hs_sVi"
      }
    },
    {
      "cell_type": "markdown",
      "source": [
        "## O que acontece se usarmos a Regressão Linear?\n",
        "\n",
        "O *Scatterplot* abaixo mostra a aplicação da Regressão Linear em um dado sintético (gerado aleatoriamente) acerca de níveis de LDL e a presença (ou ausência) de doenças cardiovasculares.\n",
        "\n",
        "<img src='https://raw.githubusercontent.com/guilhermepelegrina/Mackenzie/main/Aulas/Figuras/fig_regr_logistica_fit_linear.png'>\n",
        "\n",
        "Embora a Reressão Linear possa ser usada para decidir sobre a presença ou não da doença (dizendo, por exemplo, que classificaremos como tendo se o LDL for maior que 130 - este seria o limiar de decisão), temos alguns problemas:\n",
        "\n",
        "- Um modelo linear não tem como saída probabilidades. Ele trata os valores (classes) o e 1 como números a serem preditos e ajusta a reta minimizando o erro entre os pontos reais e o estimado. Então, o resultado não pode ser interpretado como probabilidade.\n",
        "\n",
        "- Um modelo linear também extrapola os limitantes inferior e superior, resultando em valores menores que 0 ou maiores que 1. Isso não faz sentido no contexto da classificação.\n",
        "\n",
        "- Como o resultado predito é uma interpolação linear entre pontos, o limiar de decisão não tem muito sentido para diferenciar uma classe de outra. Ele faria mais sentido se fosse probabilidades.\n",
        "\n"
      ],
      "metadata": {
        "id": "1TWhnL57H7YK"
      }
    },
    {
      "cell_type": "markdown",
      "source": [
        "## A Regressão Logística como ferramenta para problemas de classificação\n",
        "\n",
        "Nesse exmplo, o que a Regressão Logística se propõe a fazer é a criação de um modelo logístico que possa estimar a probabilidade de um individuo ter doença cardiovascular, baseado em seu nível de LDL. Sendo assim, ao invés de ajustar uma reta (ou hiperplano), a Regressão Logísica usa a função logística (ou sigmóide) para ajustar a saída do modelo no intervalo [0,1].\n",
        "\n",
        "Para um valor de $x$, a função logística é dada por:\n",
        "\n",
        "$$logistic(x) = \\frac{1}{1+\\exp(-x)},$$\n",
        "\n",
        "onde $exp(\\cdot)$ é a função exponencial. Veja abaixo como é o formato dessa curva.\n",
        "\n",
        "<img src='https://raw.githubusercontent.com/guilhermepelegrina/Mackenzie/main/Aulas/Figuras/fig_regr_logistica_sigmoide.png'>\n",
        "\n",
        "Note que, quanto maior o valor de $x$, mais a função se aproxima de 1. Por outro lado, quanto menor o valor de $x$, mais a função se aproxima de 0. Mas nunca ultrapassa esses limites.\n",
        "\n",
        "O modelo da Regressão Logística é de certa forma intuitivo. Lembre-se que na Regressão Linear nós considerávamos que a relação entre as variáveis explicativas a saída do modelo era dada por\n",
        "\n",
        "$$\\hat{y}_i=\\beta_0 + \\beta_1 x_{1,i} + \\beta_2 x_{2,i} + ...+ \\beta_r x_{r,i}.$$\n",
        "\n",
        "No problema de classificação, para adequar o modelo para uma saída na forma de probabilidade (entre 0 e 1), nós consideramos a reta de regressão dentro da função logística. Temos, então, que a probabilidade de uma amostra $i$ ser classificada como sendo da classe 1 é igual a\n",
        "\n",
        "$$P(y_i = 1) = \\hat{y_i} = \\frac{1}{1+\\exp(-\\left( \\beta_0 + \\beta_1 x_{1,i} + \\beta_2 x_{2,i} + ...+ \\beta_r x_{r,i} \\right))},$$\n",
        "\n",
        "onde $y_i \\in \\{0,1\\}$ indica a classe verdadeira que a amostra $i$ pertence, $\\hat{y_i}$ é a probabilidade da amostra $i$ pertencer à classe 1 e $x_{1,i},...,x_{r,i}$ são as variáveis explicativas. Assumindo um liminar de 0.5, por exemplo, dizemos que a amostra pertence á classe 1 se a probabilidade $\\hat{y_i}$ associada for maior que 0.5.\n",
        "\n",
        "O *Scatterplot* abaixo mostra (em um dado sintético gerado aleatoriamente) a relação entre níveis de LDL e a presença (ou ausência) de doenças cardiovasculares aplicando a função logística.\n",
        "\n",
        "<img src='https://raw.githubusercontent.com/guilhermepelegrina/Mackenzie/main/Aulas/Figuras/fig_regr_logist.png'>"
      ],
      "metadata": {
        "id": "A5xQGCFJTo7Q"
      }
    },
    {
      "cell_type": "markdown",
      "source": [
        "## Modelo de otimização\n",
        "\n",
        "Na Regressão Logística, ajustamos os parâmetros do modelo ($\\beta_0, \\beta_1, \\ldots, \\beta_r$) por meio da medida de dissimilaridade baseada na entropia cruzada. Seja $y_i$ o rótulo verdadeiro da amostra $i$ e $\\hat{y}_i$ a probabilidade obtida pelo modelo de Regressão Logística. O complemento de $y_i$ é dado por $1 - y_i$ e o complemento de $\\hat{y}_i$ é dado por $1 - \\hat{y}_i$. A entropia cruzada é dada por\n",
        "\n",
        "$$H(y_i,\\hat{y}_i) = - \\left[y_i \\log\\hat{y}_i + (1 - y_i) \\log(1 - \\hat{y}_i) \\right].$$\n",
        "\n",
        "Para formular o modelo de otimização para ajustar os parâmetros da Regressão Logística, minimizamos a média da soma das entropias cruzadas de todas as amostras do conjunto de dados de treinamento. O problema de otimização é o seguinte:\n",
        "\n",
        "$$\\min_{\\beta_0, \\beta_1, \\ldots, \\beta_r} -\\frac{1}{n} \\sum_{i=1}^{n} \\left[y_i \\log\\hat{y}_i + (1 - y_i) \\log(1 - \\hat{y}_i) \\right], $$\n",
        "\n",
        "onde\n",
        "$$\\hat{y_i} = \\frac{1}{1+\\exp(-\\left( \\beta_0 + \\beta_1 x_{1,i} + \\beta_2 x_{2,i} + ...+ \\beta_r x_{r,i} \\right))}.$$\n",
        "\n",
        "A resolução desse problema é, normalmente, obtida a partir do método do gradiente."
      ],
      "metadata": {
        "id": "_c7hnJeZjFzm"
      }
    },
    {
      "cell_type": "markdown",
      "source": [
        "## *Odds* (Chance)\n",
        "\n",
        "Com a probabilidade calculada, pode-se calcular também as chances de ocorrência de um evento.\n",
        "\n",
        "No exemplo anterior, se o modelo preve que uma pessoa com nível de LDL de 135 tem a probabilidade de **p= 0,8** (80%) de desenvolver problemas cardiovasculares, então podemos dizer que essa pessoa tem a probabilidade de **1-p = 0,2** (20%) de não ter esse problema.\n",
        "\n",
        "A chance é definida como:\n",
        "<br>\n",
        "<br>\n",
        "$$ Chance = p/(1-p)$$ nesse caso, $$Chance = 0,8/0,2$$ $$Chance = 4$$\n",
        "<br>\n",
        "O que significa uma pessoa nessas condições tem 4x mais chances de desenvolver uma doença cardiovascular do que de não desenvolver."
      ],
      "metadata": {
        "id": "sWKVAB_FpOoB"
      }
    },
    {
      "cell_type": "markdown",
      "source": [
        "## Interpretando os parâmetros\n",
        "\n",
        "Na Regressão Linear, a interpretação dos parâmetros era clara. O aumento em uma unidade de $x_j$ levava a um aumento de $\\beta_j$ unidades no valor predito. No entanto, a interpretação na Regressão Logística não é tão clara.\n",
        "\n",
        "Voltando às chances mencionadas anteriromente (também chamada de *odds*), temos que\n",
        "\n",
        "$$odds = \\frac{P(y = 1)}{P(y = 0)} = \\frac{P(y = 1)}{1 - P(y = 1)} = \\exp\\left( \\beta_0 + \\beta_1 x_{1} + \\beta_2 x_{2} + ...+ \\beta_r x_{r} \\right).$$\n",
        "\n",
        "Para avaliar o que acontece com o aumento em uma unidade de $x_j$, olhamos para a razão entre duas predições:\n",
        "\n",
        "$$\\frac{odds_{x_j + 1}}{odds_{x_j}} = \\frac{\\exp\\left( \\beta_0 + \\beta_1 x_{1} + \\ldots + \\beta_j (x_{j} + 1) + ...+ \\beta_r x_{r} \\right)}{\\exp\\left( \\beta_0 + \\beta_1 x_{1} + \\ldots + \\beta_j x_{j} + ...+ \\beta_r x_{r} \\right)} = \\exp( \\beta_j (x_{j} + 1) - \\beta_j x_{j}) = \\exp( \\beta_j ).$$\n",
        "\n",
        "A interpretação que temos é a seguinte. O aumento em uma unidade de $x_j$ altera a *odds* por um fator de $\\exp( \\beta_j )$. Por exemplo, se você tem uma *odds* igual a dois (ou seja, a probabilidade da amostra ser classificada como da classe 1 é duas vezes a probabilidade de ser classificada como da classe 0) e se $\\beta_j = 0.7$, o aumento em uma unidade de $x_j$ multiplica a *odds* por aproximadamente 2, alterando para 4."
      ],
      "metadata": {
        "id": "woDRkNxkrtAZ"
      }
    },
    {
      "cell_type": "markdown",
      "source": [
        "## Comparativo\n",
        "\n",
        "**Regressão linear**\n",
        "\n",
        "\n",
        "*   Variáveis contínuas\n",
        "*   Resolve problemas de regressão\n",
        "*   Função é uma reta\n",
        "*   A interpretação dos coeficientes se dá no valor predito\n",
        "\n",
        "**Regressão logistica**\n",
        "\n",
        "\n",
        "*   Variável resposta categórica\n",
        "*   Resolve problemas de classificação\n",
        "*   Função logística (ou sigmóide)\n",
        "*   A interpretação dos coeficientes se dá no *odds*"
      ],
      "metadata": {
        "id": "4t_dTG3jwgzz"
      }
    },
    {
      "cell_type": "markdown",
      "source": [
        "## Uma regressão logística simples\n",
        "\n",
        "Vamos começar com uma regressão simples de valores aleatórios apenas para você se familiarizar com a construção do modelo."
      ],
      "metadata": {
        "id": "0NDUJSZOaLYY"
      }
    },
    {
      "cell_type": "code",
      "source": [
        "import pandas                  as pd\n",
        "import numpy                   as np\n",
        "import matplotlib.pyplot       as plt\n",
        "import seaborn                 as sns\n",
        "import statsmodels.formula.api as sm\n",
        "import warnings\n",
        "warnings.filterwarnings(\"ignore\")"
      ],
      "metadata": {
        "id": "YnFziQggaPW4"
      },
      "execution_count": null,
      "outputs": []
    },
    {
      "cell_type": "markdown",
      "source": [
        "Gerando uma amostra de 5 valores \"aleatórios\" a partir de uma função linear."
      ],
      "metadata": {
        "id": "KEmDMZYTaRiv"
      }
    },
    {
      "cell_type": "code",
      "source": [
        "rng = np.random.RandomState(0)\n",
        "notas = []\n",
        "for nota in rng.rand(5)*10:    #gera 5 números aleatórios entre 0 e 1, e multiplica por 10\n",
        "    notas.append(round(nota,1)) #arredonda o resultado para 1 casa deciamal\n",
        "\n",
        "print(notas)"
      ],
      "metadata": {
        "id": "1kRsiDyR7sMD"
      },
      "execution_count": null,
      "outputs": []
    },
    {
      "cell_type": "markdown",
      "source": [
        "Vamos definir o critério de aprovação/reprovação em 6, mas o modelo **não** vai ter acesso a esse número. Na verdade, o modelo deve ser capaz de observar os dados e entender o critério que foi adotado."
      ],
      "metadata": {
        "id": "fUMIrGHdaVNv"
      }
    },
    {
      "cell_type": "code",
      "source": [
        "situacao = []\n",
        "for nota in notas:\n",
        "    if nota>=6.0:\n",
        "        situacao.append('aprovado')\n",
        "    else:\n",
        "        situacao.append('reprovado')\n",
        "\n",
        "print(situacao)"
      ],
      "metadata": {
        "id": "gnafrIrL7sOT"
      },
      "execution_count": null,
      "outputs": []
    },
    {
      "cell_type": "code",
      "source": [
        "df_notas = pd.DataFrame({'nota':notas})\n",
        "df_situacao = pd.DataFrame({'situacao':situacao})"
      ],
      "metadata": {
        "id": "aTo8r39waauP"
      },
      "execution_count": null,
      "outputs": []
    },
    {
      "cell_type": "code",
      "source": [
        "# import da ferramenta\n",
        "from sklearn.linear_model import LogisticRegression\n",
        "\n",
        "# Inicializar o modelo com parametros padrão\n",
        "logreg = LogisticRegression()\n",
        "\n",
        "# ajusta o modelo com as informacoes\n",
        "logreg.fit(df_notas,df_situacao)"
      ],
      "metadata": {
        "id": "S41gDn_PaaxA"
      },
      "execution_count": null,
      "outputs": []
    },
    {
      "cell_type": "markdown",
      "source": [
        "Vamos agora gerar 100 notas aleatórias, e verificar se o nosso modelo é capaz de determinar quais alunos devem ser aprovados e quais não."
      ],
      "metadata": {
        "id": "RWsjn0mFafRB"
      }
    },
    {
      "cell_type": "code",
      "source": [
        "novosAlunos = []\n",
        "for item in rng.rand(100)*10:    #gera 100 números aleatórios entre 0 e 1, e multiplica por 10\n",
        "    novosAlunos.append(round(item,1)) #arredonda o resultado para 1 casa deciamal\n",
        "\n",
        "\n",
        "#cria um df para os novos alunos, contendo inicialmente apenas as notas.\n",
        "df_novosAlunos = pd.DataFrame({'nota':novosAlunos})\n",
        "\n",
        "#utiliza o modelo para prever a situação dos novos alunos\n",
        "y_pred=logreg.predict(df_novosAlunos)\n",
        "\n",
        "#acrescenta uma coluna no df, para representar a situacao prevista dos novos alunos\n",
        "df_novosAlunos['Previsao'] = y_pred\n",
        "\n",
        "df_novosAlunos"
      ],
      "metadata": {
        "id": "73Z7Rkv2aazc"
      },
      "execution_count": null,
      "outputs": []
    },
    {
      "cell_type": "markdown",
      "source": [
        "Vamos visualizar o limiar de decisão criado pelo modelo ajustado."
      ],
      "metadata": {
        "id": "9RJ-9wRpc1DQ"
      }
    },
    {
      "cell_type": "code",
      "source": [
        "# prevendo os valores\n",
        "valores = np.arange(int(df_novosAlunos.nota.min()),int(df_novosAlunos.nota.max()),0.01).reshape(-1, 1)\n",
        "df_predicted_prob = pd.DataFrame({'predicted_probabilities': logreg.predict_proba(valores)[:,0]})\n",
        "\n",
        "# Scatterplot com Reta de Regressão\n",
        "situacao_classe = []\n",
        "for nota in df_novosAlunos.nota:\n",
        "    if nota>=6.0:\n",
        "        situacao_classe.append(1)\n",
        "    else:\n",
        "        situacao_classe.append(0)\n",
        "\n",
        "plt.scatter(df_novosAlunos.nota, situacao_classe, color='blue', label='Dados Observados')\n",
        "plt.scatter(valores, df_predicted_prob.predicted_probabilities, color='red', label='Curva de Regressão Logística', marker='.', s=2)\n",
        "\n",
        "plt.xlabel('Nota')\n",
        "plt.ylabel('Aprovado (1) ou Reprovado (0)')\n",
        "plt.title('Scatterplot com Curva de Regressão Logística')\n",
        "plt.legend()\n",
        "plt.show()\n"
      ],
      "metadata": {
        "id": "3PNryE4xcRXw"
      },
      "execution_count": null,
      "outputs": []
    },
    {
      "cell_type": "code",
      "source": [
        "print(df_predicted_prob)"
      ],
      "metadata": {
        "id": "k6Qxr-fbdK9x"
      },
      "execution_count": null,
      "outputs": []
    },
    {
      "cell_type": "code",
      "source": [],
      "metadata": {
        "id": "obsSReS-1azu"
      },
      "execution_count": null,
      "outputs": []
    },
    {
      "cell_type": "markdown",
      "source": [
        "Mas será que o modelo funcionou bem? Vamos contar quantas vezes ele errou."
      ],
      "metadata": {
        "id": "6udzOk5YbUQ3"
      }
    },
    {
      "cell_type": "code",
      "source": [
        "# erro tipo 1\n",
        "falso_positivo = len(df_novosAlunos[(df_novosAlunos['nota']<6) & (df_novosAlunos['Previsao']=='aprovado') ])\n",
        "\n",
        "# erro tipo 2\n",
        "falso_negativo = len(df_novosAlunos[(df_novosAlunos['nota']>=6) & (df_novosAlunos['Previsao']=='reprovado') ])\n",
        "\n",
        "verdadeiro_positivo = len(df_novosAlunos[(df_novosAlunos['nota']>=6) & (df_novosAlunos['Previsao']=='aprovado') ])\n",
        "verdadeiro_negativo = len(df_novosAlunos[(df_novosAlunos['nota']<6) & (df_novosAlunos['Previsao']=='reprovado') ])\n",
        "\n",
        "acertos = verdadeiro_positivo + verdadeiro_negativo\n",
        "erros = falso_positivo + falso_negativo\n",
        "\n",
        "print('Erros   : ', erros)\n",
        "print('Acertos : ',acertos)\n",
        "print('--------')\n",
        "print('Porcentagem de acertos : ', acertos/(acertos+erros))"
      ],
      "metadata": {
        "id": "LBG9LU8ybV3q"
      },
      "execution_count": null,
      "outputs": []
    },
    {
      "cell_type": "markdown",
      "source": [
        "Lembre-se, tudo o que modelo tinha para tomar a decisão, eram 5 valores apenas!\n",
        "<br>\n",
        "<br>\n",
        "Mas **Cuidado**, os modelos de regressão logística podem não ser assim tão eficientes... No caso, utilizamos um exemplo simples onde a variável dependente ('situação') é determinada com base em uma única variável independente ('nota'), e o critério é o de que essa variável deve ser maior que um determinado valor.\n",
        "Esse exemplo, além de simples, também beneficia o modelo já que este utiliza por padrão, uma equação que se encaixa perfeitamente nesse tipo de situação."
      ],
      "metadata": {
        "id": "7NGwt3grbh7p"
      }
    },
    {
      "cell_type": "markdown",
      "source": [
        "## Examplo: Conjunto de dados Pima Indian Diabetes\n",
        "\n",
        "Vamos agora usar um conjunto de dados, chamada [Pima Indian Diabetes](https://www.kaggle.com/datasets/uciml/pima-indians-diabetes-database) para avaliar o desempenho do uso da Reressão Logística como método classificador. O objetivo desse conjunto de dados é prever se uma paciente (de um total de 768) possui ou não diabetes com base em algumas medidas (diagnósticos) coletadas."
      ],
      "metadata": {
        "id": "j_iriDnWbmrS"
      }
    },
    {
      "cell_type": "code",
      "execution_count": null,
      "metadata": {
        "id": "jpUNZPcki6Ns"
      },
      "outputs": [],
      "source": [
        "import pandas as pd\n",
        "\n",
        "df = pd.read_csv(\"https://raw.githubusercontent.com/guilhermepelegrina/Mackenzie/main/Datasets/data_diabetes_pima.csv\")\n",
        "df.head()"
      ]
    },
    {
      "cell_type": "markdown",
      "source": [
        "Para uma primeira construçao do modelo, vamos considerar apenas a variável *Glucose* para prever a doença.\n",
        "\n",
        "Para isso, o primeiro passo vai ser separar so dados de entrada dos dados de saída."
      ],
      "metadata": {
        "id": "N2VlbcnvtpcF"
      }
    },
    {
      "cell_type": "code",
      "source": [
        "# Separando dados de entrada e de saída\n",
        "\n",
        "X = df['Glucose']\n",
        "y = df['Outcome']"
      ],
      "metadata": {
        "id": "sz_JE4oCt6Vm"
      },
      "execution_count": null,
      "outputs": []
    },
    {
      "cell_type": "markdown",
      "source": [
        "Em seguida, vamos separar os dados (tanto de entrada quanto de saída) em treinamento e teste. Lembre-se que os dados de treinamento serão utilizados para construir o modelo e os dados de teste para avaliar seu desempenho. Vamos considerar 20% para teste e sem estratificar em relação ao vetor de saída (presença ou não de diabetes). Use como semente o valor 101."
      ],
      "metadata": {
        "id": "ySXkb1YRuO1h"
      }
    },
    {
      "cell_type": "code",
      "source": [
        "from sklearn.model_selection import train_test_split # Função que separa os dados em treinamento e teste\n",
        "\n",
        "X_train, X_test, y_train, y_test = train_test_split(X, y, test_size=0.20, random_state=101)\n",
        "\n",
        "print(X_train.shape, y_train.shape)\n",
        "print(X_test.shape, y_test.shape)"
      ],
      "metadata": {
        "id": "FSjx_mTuucoy"
      },
      "execution_count": null,
      "outputs": []
    },
    {
      "cell_type": "markdown",
      "source": [
        "Agora, podemos contruir o modelo e aplicá-lo nos dados que foram separados para teste."
      ],
      "metadata": {
        "id": "YWBJvuBMucpB"
      }
    },
    {
      "cell_type": "code",
      "source": [
        "from sklearn.linear_model import LogisticRegression # Função que constrói o modelo de regressão logística\n",
        "\n",
        "# Construção do modelo\n",
        "\n",
        "logreg = LogisticRegression()\n",
        "logreg.fit(pd.DataFrame(X_train),y_train) # Aqui só convertemos para um DataFrame pois usamos apenas uma variável. Se tivessem mais, não precisaria.\n",
        "\n",
        "# Avaliando o desempenho\n",
        "\n",
        "y_pred = logreg.predict(pd.DataFrame(X_test))"
      ],
      "metadata": {
        "id": "-ExgWgN4ucpC"
      },
      "execution_count": null,
      "outputs": []
    },
    {
      "cell_type": "markdown",
      "source": [
        "Agora vamos verificar a qualidade do modelo através da medida de acurácia. O Python já tem a função pronta para calcular os elementos (verdadeiro/falso positivo/negativo) usados no cálculo dessa métrica."
      ],
      "metadata": {
        "id": "DX7yHpN9ucpC"
      }
    },
    {
      "cell_type": "code",
      "source": [
        "from sklearn import metrics\n",
        "\n",
        "cnf_matrix = metrics.confusion_matrix(y_test, y_pred)\n",
        "cnf_matrix"
      ],
      "metadata": {
        "id": "IGi1OvpAucpD"
      },
      "execution_count": null,
      "outputs": []
    },
    {
      "cell_type": "markdown",
      "source": [
        "A célula anterior calculou e apresentou a matrix de confusão, que pode ser interpretada como:\n",
        "\n",
        "<img src='https://raw.githubusercontent.com/guilhermepelegrina/Mackenzie/main/Aulas/Figuras/fig_matriz_confusao.png'>\n"
      ],
      "metadata": {
        "id": "IZ3oug9FucpD"
      }
    },
    {
      "cell_type": "code",
      "source": [
        "verdadeiro_positivo = cnf_matrix[0][0]\n",
        "verdadeiro_negativo = cnf_matrix[1][1]\n",
        "\n",
        "falso_positivo = cnf_matrix[0][1] # erro tipo 1\n",
        "falso_negativo = cnf_matrix[1][0] # erro tipo 2\n",
        "\n",
        "acertos = verdadeiro_positivo + verdadeiro_negativo\n",
        "erros = falso_positivo + falso_negativo\n",
        "\n",
        "print('Erros   : ', erros)\n",
        "print('Acertos : ',acertos)\n",
        "print('--------')\n",
        "print('Porcentagem de acertos : ', acertos/(acertos+erros))"
      ],
      "metadata": {
        "id": "l9UjwBG8ucpD"
      },
      "execution_count": null,
      "outputs": []
    },
    {
      "cell_type": "markdown",
      "source": [
        "Também podemos utilizar o modelo para consultar a probabilidade de uma paciente ser classificada como diabética ou não-diabética, utilizando `logmodel.predict_proba`."
      ],
      "metadata": {
        "id": "GK8xMnp3ucpE"
      }
    },
    {
      "cell_type": "code",
      "source": [
        "y_pred_prob = logreg.predict_proba(pd.DataFrame(df['Glucose']))\n",
        "\n",
        "p_diabetes = []\n",
        "p_ndiabetes = []\n",
        "\n",
        "for linha in y_pred_prob:\n",
        "    p_diabetes.append(linha[1])\n",
        "    p_ndiabetes.append(linha[0])\n",
        "\n",
        "df['p_diabetes'] = p_diabetes\n",
        "df['p_ndiabetes'] = p_ndiabetes\n",
        "\n",
        "df.head()"
      ],
      "metadata": {
        "id": "z48r3VAVucpE"
      },
      "execution_count": null,
      "outputs": []
    },
    {
      "cell_type": "markdown",
      "source": [
        "Agora, vamos repetir os passos anteriores para criar o modelo de Regressão Logística, mas agora usando todas as variáveis preditoras. Considere os mesmos parâmetros (semente 101 e 20% dos dados para teste)."
      ],
      "metadata": {
        "id": "_mWCfs78xNdI"
      }
    },
    {
      "cell_type": "code",
      "source": [
        "# Lendo os dados novamente (nos códigos anteriores criamos colunas que não fazem parte dos dados)\n",
        "\n",
        "df = pd.read_csv(\"https://raw.githubusercontent.com/guilhermepelegrina/Mackenzie/main/Datasets/data_diabetes_pima.csv\")\n",
        "df.head()"
      ],
      "metadata": {
        "id": "602I-AfJx6IF"
      },
      "execution_count": null,
      "outputs": []
    },
    {
      "cell_type": "code",
      "source": [
        "# Separando os dados de treinamento e teste\n",
        "\n",
        "X = df.drop('Outcome', axis=1)\n",
        "y = df.Outcome"
      ],
      "metadata": {
        "id": "lJp2iSwlxYJY"
      },
      "execution_count": null,
      "outputs": []
    },
    {
      "cell_type": "code",
      "source": [
        "# Separando entre treinamento e teste\n",
        "\n",
        "from sklearn.model_selection import train_test_split\n",
        "\n",
        "X_train, X_test, y_train, y_test = train_test_split(X, y, test_size=0.20, random_state=101)\n",
        "\n",
        "print(X_train.shape, y_train.shape)\n",
        "print(X_test.shape, y_test.shape)"
      ],
      "metadata": {
        "id": "_3pw5jSFjvqf"
      },
      "execution_count": null,
      "outputs": []
    },
    {
      "cell_type": "markdown",
      "source": [
        "Agora, podemos contruir o modelo e aplicá-lo nos dados que foram separados para teste."
      ],
      "metadata": {
        "id": "lszW2lMkkPyQ"
      }
    },
    {
      "cell_type": "code",
      "source": [
        "from sklearn.linear_model import LogisticRegression\n",
        "\n",
        "logreg = LogisticRegression()\n",
        "logreg.fit(X_train,y_train)\n",
        "\n",
        "y_pred = logreg.predict(X_test)"
      ],
      "metadata": {
        "id": "AWtMsYavkRnH"
      },
      "execution_count": null,
      "outputs": []
    },
    {
      "cell_type": "markdown",
      "source": [
        "Verificando a qualidade do modelo:"
      ],
      "metadata": {
        "id": "LoZt7t7PkXqz"
      }
    },
    {
      "cell_type": "code",
      "source": [
        "from sklearn import metrics\n",
        "\n",
        "cnf_matrix = metrics.confusion_matrix(y_test, y_pred)\n",
        "cnf_matrix"
      ],
      "metadata": {
        "id": "R-UjeZhYka6B"
      },
      "execution_count": null,
      "outputs": []
    },
    {
      "cell_type": "code",
      "source": [
        "verdadeiro_positivo = cnf_matrix[0][0]\n",
        "verdadeiro_negativo = cnf_matrix[1][1]\n",
        "\n",
        "falso_positivo = cnf_matrix[0][1] # erro tipo 1\n",
        "falso_negativo = cnf_matrix[1][0] # erro tipo 2\n",
        "\n",
        "acertos = verdadeiro_positivo + verdadeiro_negativo\n",
        "erros = falso_positivo + falso_negativo\n",
        "\n",
        "print('Erros   : ', erros)\n",
        "print('Acertos : ',acertos)\n",
        "print('--------')\n",
        "print('Porcentagem de acertos : ', acertos/(acertos+erros))"
      ],
      "metadata": {
        "id": "kFpKEdfB8fUo"
      },
      "execution_count": null,
      "outputs": []
    },
    {
      "cell_type": "markdown",
      "source": [
        "Consultando as probabilidades:"
      ],
      "metadata": {
        "id": "KBeQdnrY8tnF"
      }
    },
    {
      "cell_type": "code",
      "source": [
        "y_pred_prob = logreg.predict_proba(df.drop('Outcome',axis=1))\n",
        "\n",
        "p_diabetes = []\n",
        "p_ndiabetes = []\n",
        "\n",
        "for linha in y_pred_prob:\n",
        "    p_diabetes.append(linha[1])\n",
        "    p_ndiabetes.append(linha[0])\n",
        "\n",
        "df['p_diabetes'] = p_diabetes\n",
        "df['p_ndiabetes'] = p_ndiabetes\n",
        "\n",
        "df.head()"
      ],
      "metadata": {
        "id": "juOJByIm886o"
      },
      "execution_count": null,
      "outputs": []
    },
    {
      "cell_type": "markdown",
      "source": [
        "Agora, vamos interpretar o modelo de Regressão Logística em relação à variável *Pregnancies*."
      ],
      "metadata": {
        "id": "IckdseDr0O_3"
      }
    },
    {
      "cell_type": "code",
      "source": [
        "parametros = logreg.coef_\n",
        "print(parametros)\n",
        "print(parametros.shape)"
      ],
      "metadata": {
        "id": "jpRkAnj00hWH"
      },
      "execution_count": null,
      "outputs": []
    },
    {
      "cell_type": "markdown",
      "source": [
        "*Pregnancies* é a primeira variável preditora do modelo. Então, ao coletar os parâmetros, ela também será a primeira nesse vetor. Para analisar o impacto do número de gestações que a mulher teve na predição da diabetes, calculamos o exponencial desse parâmetro."
      ],
      "metadata": {
        "id": "ScRyUzLC1YXd"
      }
    },
    {
      "cell_type": "code",
      "source": [
        "np.exp(parametros[0,0])"
      ],
      "metadata": {
        "id": "QFCrC4uL13uk"
      },
      "execution_count": null,
      "outputs": []
    },
    {
      "cell_type": "markdown",
      "source": [
        "## Conclusão\n",
        "\n",
        "1. Modelos de Regressão Logistica simples são bem definidos (determinísticos).\n",
        "1. Funcionam para quaisquer dimensões.\n",
        "1. Podem ser aplicados a quaisquer conjunto de dados, desde que a variável dependente seja dicotômica.\n",
        "1. São muito empregados em problemas de classificação."
      ],
      "metadata": {
        "id": "G3d6lfa3B7Jn"
      }
    },
    {
      "cell_type": "markdown",
      "source": [
        "# Referência\n",
        "\n",
        "Para consultar o referencial da implementação em Python da Regressão Logística, acesse [este link](https://scikit-learn.org/stable/modules/generated/sklearn.linear_model.LogisticRegression.html)."
      ],
      "metadata": {
        "id": "ghPdUnvYzDVp"
      }
    },
    {
      "cell_type": "markdown",
      "source": [
        "###**Exercício (só para treinar, não vale nota)**\n",
        "Repita os dois modelos anteriores, mas deixando 20% dos dados para treinamento do modelo e 80% para realização de testes. Qual a nova porcentagem de acertos do modelo?"
      ],
      "metadata": {
        "id": "5nxxsjbYBwj7"
      }
    }
  ]
}