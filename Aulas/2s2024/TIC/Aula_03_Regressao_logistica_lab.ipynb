{
  "cells": [
    {
      "cell_type": "markdown",
      "metadata": {
        "id": "view-in-github",
        "colab_type": "text"
      },
      "source": [
        "<a href=\"https://colab.research.google.com/github/GuilhermePelegrina/Mackenzie/blob/main/Aulas/2s2024/TIC/Aula_03_Regressao_logistica_lab.ipynb\" target=\"_parent\"><img src=\"https://colab.research.google.com/assets/colab-badge.svg\" alt=\"Open In Colab\"/></a>"
      ]
    },
    {
      "cell_type": "markdown",
      "metadata": {
        "id": "dqj97q_j-UZr"
      },
      "source": [
        "<img src='https://raw.githubusercontent.com/guilhermepelegrina/Mackenzie/main/logo_mackenzie.png'>\n"
      ]
    },
    {
      "cell_type": "markdown",
      "metadata": {
        "id": "5Q4p-KIF-Ti1"
      },
      "source": [
        "# **Atividade Prática - Regressão Logística**"
      ]
    },
    {
      "cell_type": "markdown",
      "metadata": {
        "id": "qK4Wi5vshpPc"
      },
      "source": [
        "## Relembrando a estrutura de Modelos de Classificação\n",
        "\n",
        "```\n",
        "#Separando variáveis independentes (dados de entrada) das dependentes (dados de saída)\n",
        "x = df.drop('Y',axis=1)\n",
        "y = df['Y']\n",
        "\n",
        "#Separando em treino e teste (ex: 30% para Teste)\n",
        "X_train, X_test, y_train, y_test = train_test_split(x, y, test_size=0.3, random_state=1)\n",
        "\n",
        "#Declarando o modelo\n",
        "model = LogisticRegression()\n",
        "\n",
        "#Treinando o modelo (com o conjunto de Treino)\n",
        "model.fit(X_train,y_train)\n",
        "\n",
        "#Utilizando o modelo para prever novos casos\n",
        "y_pred=model.predict(X_test)\n",
        "\n",
        "#Visualizando os resultados\n",
        "cnf_matrix = metrics.confusion_matrix(y_test, y_pred)\n",
        "cnf_matrix\n",
        "\n",
        "#Verificando com qual probabilidade os dados foram classificados\n",
        "y_pred_prob = model.predict_proba(df.drop('Y',axis=1))\n",
        "```"
      ]
    },
    {
      "cell_type": "markdown",
      "metadata": {
        "id": "eDVtGqnC5ZYD"
      },
      "source": [
        "# **Atividade Prática**\n",
        "\n",
        "Atividade Prática usando a base de dados [Bank Marketing](https://archive.ics.uci.edu/dataset/222/bank+marketing). Para ler a base de dados usando o Pandas, utilize [este link](https://raw.githubusercontent.com/guilhermepelegrina/Mackenzie/main/Datasets/data_bank_marketing.csv).\n",
        "\n",
        "O interesse nesse conjunto de dados é criar um modelo computacional que consiga prever se um cliente do banco contrataria/compraria um produto oferecido. Essa informação está na última coluna (chamada *y*). Note que isso tem uma grande utilidade em campanhas de marketing, uma vez que pode-se direcionar melhor os esforços da campanha para os clientes que possivelmente comprarão o produto.\n",
        "\n",
        "Para fazer esta atividade, importe o conjunto de dados e resposda as questões no Moodle (Atividades práticas - Regressão logística)."
      ]
    }
  ],
  "metadata": {
    "colab": {
      "provenance": [],
      "authorship_tag": "ABX9TyO3BPTK+D0cH7x49Vfj0INi",
      "include_colab_link": true
    },
    "kernelspec": {
      "display_name": "Python 3",
      "name": "python3"
    },
    "language_info": {
      "name": "python"
    }
  },
  "nbformat": 4,
  "nbformat_minor": 0
}