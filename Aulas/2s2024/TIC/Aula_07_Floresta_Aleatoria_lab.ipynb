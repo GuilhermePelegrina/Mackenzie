{
  "nbformat": 4,
  "nbformat_minor": 0,
  "metadata": {
    "colab": {
      "provenance": [],
      "authorship_tag": "ABX9TyNQXrkb+fWodbnxC8GEwHNN",
      "include_colab_link": true
    },
    "kernelspec": {
      "name": "python3",
      "display_name": "Python 3"
    },
    "language_info": {
      "name": "python"
    }
  },
  "cells": [
    {
      "cell_type": "markdown",
      "metadata": {
        "id": "view-in-github",
        "colab_type": "text"
      },
      "source": [
        "<a href=\"https://colab.research.google.com/github/GuilhermePelegrina/Mackenzie/blob/main/Aulas/2s2024/TIC/Aula_07_Floresta_Aleatoria_lab.ipynb\" target=\"_parent\"><img src=\"https://colab.research.google.com/assets/colab-badge.svg\" alt=\"Open In Colab\"/></a>"
      ]
    },
    {
      "cell_type": "markdown",
      "source": [
        "<img src='https://raw.githubusercontent.com/guilhermepelegrina/Mackenzie/main/logo_mackenzie.png'>\n"
      ],
      "metadata": {
        "id": "FyXCpdAl9Y9o"
      }
    },
    {
      "cell_type": "markdown",
      "source": [
        "# **Atividade Prática - Floresta Aleatória**\n",
        "\n",
        "Para esta atividade prática sobre Floresta Aleatória, usaremos a base de dados chamada [Default of credit card clients](https://archive.ics.uci.edu/dataset/350/default+of+credit+card+clients). Essa base de dados descreve um conjunto de milhares de clientes de um banco em Taiwan que pagaram (adimplentes, classe 0) ou não (inadimplentes, classe 1) créditos bancários. Para cada cliente, temos 23 atributos, sendo eles:\n",
        "\n",
        "- *LIMIT_BAL*: Montante do crédito oferecido,\n",
        "- *SEX*: Homem ou mulher.\n",
        "- *EDUCATION*: Nível de escolaridade (*graduate school*, *university*, *high school* ou *others*),\n",
        "- *MARRIAGE*: Estado civil (*married*, *single* ou *others*),\n",
        "- *AGE*: Idade (*less than 35* ou *at least 35*),\n",
        "- *PAY*: Status do pagamento do crédito (seis atributos, indicando o status desde o mês de Abril até Setembro),\n",
        "- *BILL_AMT*: Valor da fatura (seis atributos, indicando o valor desde o mês de Abril até Setembro),\n",
        "- *PAY_AMT*: quantia paga (seis atributos, indicando a quantia paga desde o mês de Abril até Setembro).\n",
        "\n",
        "A partir do arquivo original dessa base de dados, realizamos um pré-processamento para melhor representar os atributos. Sendo assim, rode a célula de código a seguir sem fazer alterações."
      ],
      "metadata": {
        "id": "T9tDgZeaQxjW"
      }
    },
    {
      "cell_type": "code",
      "source": [
        "# Leitura dos dados e pré-processamento\n",
        "# Ao final, já temos os dados de entrada X e de saída y\n",
        "import pandas as pd\n",
        "import numpy as np\n",
        "np.random.seed(0)\n",
        "\n",
        "cred = pd.read_csv(\"https://raw.githubusercontent.com/guilhermepelegrina/Mackenzie/main/Datasets/data_tcred.csv\")\n",
        "X = cred.iloc[:, 1:]\n",
        "X = X[X.EDUCATION != 0]\n",
        "X = X[X.EDUCATION != 4]\n",
        "X = X[X.EDUCATION != 5]\n",
        "X = X[X.EDUCATION != 6]\n",
        "X = X[X.MARRIAGE != 0]\n",
        "X = X[X.MARRIAGE != 3]\n",
        "sex1, sex2 = X.SEX==1, X.SEX==2\n",
        "X['SEX'] = np.select([sex1, sex2], ['male', 'female'], default=None)\n",
        "educ1, educ2, educ3, educ4 = X.EDUCATION==1, X.EDUCATION==2, X.EDUCATION==3, X.EDUCATION==4\n",
        "X['EDUCATION'] = np.select([educ1, educ2, educ3, educ4], ['graduate school', 'university', 'high school', 'others'], default=None)\n",
        "marr1, marr2, marr3 = X.MARRIAGE==1, X.MARRIAGE==2, X.MARRIAGE==3\n",
        "X['MARRIAGE'] = np.select([marr1, marr2, marr3], ['married', 'single', 'others'], default=None)\n",
        "age1, age2 = X.AGE<35, X.AGE>=35\n",
        "X['AGE'] = np.select([age1, age2], ['<35', '>=35'], default=None)\n",
        "y =  X.loc[:,'default'].astype(float)\n",
        "X = X.drop('default',axis=1)"
      ],
      "metadata": {
        "id": "dp7BXBWUpD4v"
      },
      "execution_count": null,
      "outputs": []
    },
    {
      "cell_type": "code",
      "source": [
        "# Visualizando os dados\n",
        "X.head()"
      ],
      "metadata": {
        "id": "_x5XWuN5gY2c"
      },
      "execution_count": null,
      "outputs": []
    },
    {
      "cell_type": "markdown",
      "source": [
        "Agora, responda as questões no Moodle (Atividades Práticas - KNN).\n",
        "\n",
        "**Lembre-se:** Importe os pacotes que serão utilizados nessa atividade!"
      ],
      "metadata": {
        "id": "39T6LmQGJTZW"
      }
    }
  ]
}