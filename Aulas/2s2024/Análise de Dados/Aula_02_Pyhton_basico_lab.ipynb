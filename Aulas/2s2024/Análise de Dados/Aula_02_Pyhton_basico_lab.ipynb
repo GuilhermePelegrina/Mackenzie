{
  "nbformat": 4,
  "nbformat_minor": 0,
  "metadata": {
    "colab": {
      "provenance": [],
      "authorship_tag": "ABX9TyMV0/0v38R9RL0qBjbym0B0",
      "include_colab_link": true
    },
    "kernelspec": {
      "name": "python3",
      "display_name": "Python 3"
    },
    "language_info": {
      "name": "python"
    }
  },
  "cells": [
    {
      "cell_type": "markdown",
      "metadata": {
        "id": "view-in-github",
        "colab_type": "text"
      },
      "source": [
        "<a href=\"https://colab.research.google.com/github/GuilhermePelegrina/Mackenzie/blob/main/Aulas/2s2024/An%C3%A1lise%20de%20Dados/Aula_02_Pyhton_basico_lab.ipynb\" target=\"_parent\"><img src=\"https://colab.research.google.com/assets/colab-badge.svg\" alt=\"Open In Colab\"/></a>"
      ]
    },
    {
      "cell_type": "markdown",
      "metadata": {
        "id": "3VMWLks4NhvQ"
      },
      "source": [
        "<img src='https://raw.githubusercontent.com/guilhermepelegrina/Mackenzie/main/logo_mackenzie_analise_dados.png' width=\"600\">"
      ]
    },
    {
      "cell_type": "markdown",
      "metadata": {
        "id": "-vQsKw-ONjDW"
      },
      "source": [
        "# **Atividade Prática - Comandos básicos do Python**\n",
        "\n",
        "Para esta primeira atividade prática, primeiramente, use a função ``random.randint`` do Numpy para gerar um vetor com 100 números inteiros dentro do intervalo [1,10] (incluindo tanto o 1 quanto o 10). Use como semente o número 1.\n",
        "Feito isso, responda as perguntas que estão na Atividade/Questionário \"Comandos básicos do Python\", no Moodle."
      ]
    },
    {
      "cell_type": "markdown",
      "metadata": {
        "id": "gOw5YXA3P4z5"
      },
      "source": [
        "Obs: Se preciso, utilize essa página (e os comandos da aula) para responder as questões: [Python statistical functions](https://www.programiz.com/python-programming/numpy/statistical-functions)."
      ]
    }
  ]
}