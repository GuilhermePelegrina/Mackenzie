{
  "nbformat": 4,
  "nbformat_minor": 0,
  "metadata": {
    "colab": {
      "provenance": [],
      "authorship_tag": "ABX9TyNLG4GfrjcpRgh8kUYGTBCs",
      "include_colab_link": true
    },
    "kernelspec": {
      "name": "python3",
      "display_name": "Python 3"
    },
    "language_info": {
      "name": "python"
    }
  },
  "cells": [
    {
      "cell_type": "markdown",
      "metadata": {
        "id": "view-in-github",
        "colab_type": "text"
      },
      "source": [
        "<a href=\"https://colab.research.google.com/github/GuilhermePelegrina/Mackenzie/blob/main/Aulas/2s2024/An%C3%A1lise%20de%20Dados/Aula_02_Pyhton_basico.ipynb\" target=\"_parent\"><img src=\"https://colab.research.google.com/assets/colab-badge.svg\" alt=\"Open In Colab\"/></a>"
      ]
    },
    {
      "cell_type": "markdown",
      "metadata": {
        "id": "3VMWLks4NhvQ"
      },
      "source": [
        "<img src='https://raw.githubusercontent.com/guilhermepelegrina/Mackenzie/main/logo_mackenzie_analise_dados.png' width=\"600\">"
      ]
    },
    {
      "cell_type": "markdown",
      "metadata": {
        "id": "-vQsKw-ONjDW"
      },
      "source": [
        "# **Introdução ao Python e ao Google Colab**\n",
        "\n",
        "Nesta aula, revisaremos alguns comandos / funções básicas em Python que serão usados nesta disciplina. Esses comandos / funções são muito úteis quando criamos um projeto de Ciência de Dados, ou seja, que são usados tanto para Análise Exploratória de Dados quanto para Aprendizado de Máquina.\n",
        "\n",
        "Também será apresentado o Google Colab, um serviço de armazenamento em nuvem de notebooks (códigos) em Python. Como o Google Colab roda na nuvem (do Google), não precisamos instalar o Python na máquina. Basta programar online através do Google Colab."
      ]
    },
    {
      "cell_type": "markdown",
      "metadata": {
        "id": "DV-JEVmrOR4o"
      },
      "source": [
        "# Variáveis e Atribuições\n",
        "\n",
        "- As variáveis são elementos usados para armazenar valores, como números, textos, listas, entre outros.\n",
        "- Chamamos de atribuição de valores a passagem de uma informação a determinada variável."
      ]
    },
    {
      "cell_type": "code",
      "execution_count": null,
      "metadata": {
        "id": "nLX_HMwR-8ib"
      },
      "outputs": [],
      "source": [
        "import numpy as np # Coleção de funções matemáticas para manipulações algébricas"
      ]
    },
    {
      "cell_type": "code",
      "execution_count": null,
      "metadata": {
        "id": "vUTG3hRuOZRK"
      },
      "outputs": [],
      "source": [
        "# Exemplos de variáveis e atribuições\n",
        "\n",
        "inteiro = 123 # Número inteiro\n",
        "real = np.pi  # Número real\n",
        "\n",
        "print(inteiro, type(inteiro))\n",
        "print(real, type(real))"
      ]
    },
    {
      "cell_type": "code",
      "execution_count": null,
      "metadata": {
        "id": "IZ2oOnrAObWo"
      },
      "outputs": [],
      "source": [
        "# Para o Python, os números seguintes são inteiros ou reais?\n",
        "\n",
        "num1 = 6\n",
        "num2 = 6.0\n",
        "num3 = 6/4\n",
        "num4 = 2/1\n",
        "num5 = 6 + 5.0\n",
        "\n",
        "print(num1, type(num1))\n",
        "print(num2, type(num2))\n",
        "print(num3, type(num3))\n",
        "print(num4, type(num4))\n",
        "print(num5, type(num5))"
      ]
    },
    {
      "cell_type": "markdown",
      "metadata": {
        "id": "s54ZWyXkOe5X"
      },
      "source": [
        "# Strings\n",
        "\n",
        "Strings são estruturas usadas para armazenar informações de texto (sequência de caracteres). Essa sequência de caracteres pode conter números, letras e pontuações.\n",
        "\n",
        "`str[ inicio : tamanho ]`\n",
        "ou\n",
        "`str[ inicio : fim+1 ]`\n"
      ]
    },
    {
      "cell_type": "code",
      "execution_count": null,
      "metadata": {
        "id": "erNloZl9OfQw"
      },
      "outputs": [],
      "source": [
        "# Exemplos de strings\n",
        "\n",
        "texto1 = '123' # texto\n",
        "texto2 = 'TIC !' # texto\n",
        "texto3 = \"Aula de python\"\n",
        "\n",
        "print(texto1, type(texto1))\n",
        "print(texto2, type(texto2))\n",
        "print(texto3[0:7])"
      ]
    },
    {
      "cell_type": "code",
      "execution_count": null,
      "metadata": {
        "id": "7auVWdB5Ojb1"
      },
      "outputs": [],
      "source": [
        "# Calculando o tamanho da string\n",
        "\n",
        "print(len(texto1))\n",
        "print(len(texto2))"
      ]
    },
    {
      "cell_type": "code",
      "execution_count": null,
      "metadata": {
        "id": "EYm0Ad0fOliA"
      },
      "outputs": [],
      "source": [
        "# Manipulando strings (1)\n",
        "\n",
        "str1 ='Projeto de Análise de Dados'\n",
        "\n",
        "print(str1)\n",
        "print(str1.find('Dados')) # Primeira ocorrência do \"valor\"\n",
        "print(str1.lower()) # Lestras minúsculas\n",
        "print(str1.upper()) # Lestras maiúsculas"
      ]
    },
    {
      "cell_type": "code",
      "execution_count": null,
      "metadata": {
        "id": "xk-9SZUFOnl_"
      },
      "outputs": [],
      "source": [
        "# Manipulando strings (2)\n",
        "\n",
        "str2 = str1.replace('Análise','Ciência')\n",
        "print(str2)"
      ]
    },
    {
      "cell_type": "code",
      "execution_count": null,
      "metadata": {
        "id": "tBVnEbXaOpcP"
      },
      "outputs": [],
      "source": [
        "# Manipulando strings (3)\n",
        "\n",
        "str3 = 'Aprendizado '\n",
        "str4 = 'de '\n",
        "str5 = 'Máquina'\n",
        "print(str3+str4+str5)"
      ]
    },
    {
      "cell_type": "markdown",
      "metadata": {
        "id": "uIdoxCf9Or4f"
      },
      "source": [
        "# Print e Input"
      ]
    },
    {
      "cell_type": "code",
      "execution_count": null,
      "metadata": {
        "id": "EDUZH6t2Otso"
      },
      "outputs": [],
      "source": [
        "# Exemplo 1\n",
        "\n",
        "texto = input('Entre com um texto: ')\n",
        "print(texto)"
      ]
    },
    {
      "cell_type": "code",
      "execution_count": null,
      "metadata": {
        "id": "inLr04j7Ou-A"
      },
      "outputs": [],
      "source": [
        "# Exemplo 2\n",
        "\n",
        "numero = float(input('Entre com um número: '))\n",
        "print('Seu número mais um: ', numero+1)"
      ]
    },
    {
      "cell_type": "markdown",
      "metadata": {
        "id": "up-7ZXMNOxl-"
      },
      "source": [
        "# Controlando o Fluxo do Programa\n",
        "\n",
        "Note que em Python as instruções **aninhadas** são **identadas** (*tab*). Assim os comandos *aninhados* à condição (*if-then-else*) ou laço (*for*) do programa devem estar à direita do comando inicial da condição ou laço."
      ]
    },
    {
      "cell_type": "markdown",
      "metadata": {
        "id": "eAAl_dLFO0Nw"
      },
      "source": [
        "**if-then-else**"
      ]
    },
    {
      "cell_type": "code",
      "execution_count": null,
      "metadata": {
        "id": "Ubg9cNhsO0sP"
      },
      "outputs": [],
      "source": [
        "a = 1964\n",
        "b = 198\n",
        "\n",
        "if b > a:\n",
        "  print(\"b is greater than a\")\n",
        "else:\n",
        "  print(\"a is greater than b\")"
      ]
    },
    {
      "cell_type": "code",
      "execution_count": null,
      "metadata": {
        "id": "prKExlepO34v"
      },
      "outputs": [],
      "source": [
        "if b > a:\n",
        "  print(\"b is greater than a\")\n",
        "elif a == b:\n",
        "  print(\"a and b are equal\")\n",
        "else:\n",
        "  print(\"a is greater than b\")"
      ]
    },
    {
      "cell_type": "markdown",
      "metadata": {
        "id": "Y42ygbwYO6Kv"
      },
      "source": [
        "**for**"
      ]
    },
    {
      "cell_type": "code",
      "execution_count": null,
      "metadata": {
        "id": "NGM7Sx_JO6cf"
      },
      "outputs": [],
      "source": [
        "# a % b retorna o resto da divisão de a por b\n",
        "\n",
        "for i in range(11):\n",
        "  if i%2 == 0:\n",
        "    print(i)"
      ]
    },
    {
      "cell_type": "markdown",
      "metadata": {
        "id": "8kms-mOEO9Pu"
      },
      "source": [
        "**Funções**\n",
        "\n",
        "Há muitas funções já criadas em Python e, na grande maioria dos casos, não precisaremos necessariamente *criar* funções novas. No entanto, em casos específicos ou mis *cutomizados*, é interessante criar uma função própria para deixar o código mais modular e enxuto."
      ]
    },
    {
      "cell_type": "code",
      "execution_count": null,
      "metadata": {
        "id": "IKiT-meXO9mX"
      },
      "outputs": [],
      "source": [
        "def mymax(a,b):\n",
        "  if a > b:\n",
        "    return a\n",
        "  else:\n",
        "    return b\n",
        "\n",
        "mymax(1984,1964)"
      ]
    },
    {
      "cell_type": "code",
      "source": [
        "def mymax():\n",
        "    a=int(input('Enter the first number: '))\n",
        "    b=int(input('Enter the second number: '))\n",
        "    if a > b:\n",
        "        return a\n",
        "    else:\n",
        "        return b\n",
        "\n",
        "print('The smaller number is: ',mymax())"
      ],
      "metadata": {
        "id": "e_aMhwlR6roM"
      },
      "execution_count": null,
      "outputs": []
    },
    {
      "cell_type": "markdown",
      "metadata": {
        "id": "RiJOJcpZPGUQ"
      },
      "source": [
        "# Numpy"
      ]
    },
    {
      "cell_type": "code",
      "execution_count": null,
      "metadata": {
        "id": "vBywEO_1PI-f"
      },
      "outputs": [],
      "source": [
        "import numpy as np\n",
        "\n",
        "x = np.array([1,2,3])\n",
        "media = np.mean(x)\n",
        "soma = np.sum(x)\n",
        "\n",
        "print('Média:', media, 'Soma:', soma)\n",
        "print(type(media), type(soma))"
      ]
    },
    {
      "cell_type": "code",
      "execution_count": null,
      "metadata": {
        "id": "Svdfd5YsPOxd"
      },
      "outputs": [],
      "source": [
        "# Exemplo: Gerador (não)aleatório\n",
        "np.random.seed(2) # semente de geração aleatória\n",
        "x = np.array(np.random.randint(low=1, high=6, size=10))\n",
        "print(x)\n",
        "\n",
        "x = np.array(np.random.randint(low=1, high=6, size=10))\n",
        "print(x)\n",
        "\n",
        "np.random.seed(2) # semente de geração aleatória\n",
        "x = np.array(np.random.randint(low=1, high=6, size=10))\n",
        "print(x)"
      ]
    },
    {
      "cell_type": "code",
      "execution_count": null,
      "metadata": {
        "id": "26SW8PqGPYmI"
      },
      "outputs": [],
      "source": [
        "# Gerando matrizes de 0s ou constantes\n",
        "\n",
        "m1 = np.zeros((2,5))\n",
        "\n",
        "print(m1)"
      ]
    },
    {
      "cell_type": "code",
      "execution_count": null,
      "metadata": {
        "id": "3LTqYmFIPY7f"
      },
      "outputs": [],
      "source": [
        "# Gerando matrizes de constantes\n",
        "\n",
        "m2 = 5.2 * np.ones((4,2))\n",
        "\n",
        "print(m2)"
      ]
    },
    {
      "cell_type": "code",
      "execution_count": null,
      "metadata": {
        "id": "uO3rTt10PeOI"
      },
      "outputs": [],
      "source": [
        "# Selecionado partes (slices) de um vetor\n",
        "\n",
        "array1 = np.random.randint(low=5, high=10, size=10)\n",
        "\n",
        "print(array1)\n",
        "\n",
        "slice1 = array1[0:3]\n",
        "print(slice1)\n",
        "\n",
        "print(array1[2:4])\n",
        "print(array1[2:])\n",
        "print(array1[2:-1])"
      ]
    },
    {
      "cell_type": "code",
      "execution_count": null,
      "metadata": {
        "id": "8GUdYcMvPgLx"
      },
      "outputs": [],
      "source": [
        "# Alterando valores de vetor\n",
        "\n",
        "vetor = np.array([1,4,7])\n",
        "print(vetor)\n",
        "\n",
        "vetor[1] = 10\n",
        "print(vetor)"
      ]
    },
    {
      "cell_type": "code",
      "execution_count": null,
      "metadata": {
        "id": "Qa0fgKeZPizp"
      },
      "outputs": [],
      "source": [
        "# Alterando valores de matriz\n",
        "\n",
        "matriz = np.array(([1,4,7], [3,5,9]))\n",
        "print(matriz)\n",
        "\n",
        "matriz[0,2] = 10\n",
        "print(matriz)"
      ]
    },
    {
      "cell_type": "code",
      "execution_count": null,
      "metadata": {
        "id": "LdFxAa5KPjFz"
      },
      "outputs": [],
      "source": [
        "# Alterando valores de matriz\n",
        "\n",
        "valores = np.array([12,13])\n",
        "\n",
        "matriz[1,0:2] = valores\n",
        "print(matriz)"
      ]
    },
    {
      "cell_type": "markdown",
      "metadata": {
        "id": "gOw5YXA3P4z5"
      },
      "source": [
        "# **Exercício**\n",
        "\n",
        "Crie um programa que gera aleatoriamente (com semente igual a 157) um único array com 300 elementos. Os números devem ser inteiros no intervalo [0,20]. Em seguida, crie uma matriz com 100 linhas e 3 colunas, sendo que a primeira coluna contenha os 100 primeiros elementos do array, a segunda coluna os 100 elementos seguintes, e a terceira coluna os 100 últimos elementos do array. Para cada coluna, calcule também a média e, se a média for maior que 10, apresente o valor obtido na tela, juntamente com a coluna correspondente."
      ]
    }
  ]
}