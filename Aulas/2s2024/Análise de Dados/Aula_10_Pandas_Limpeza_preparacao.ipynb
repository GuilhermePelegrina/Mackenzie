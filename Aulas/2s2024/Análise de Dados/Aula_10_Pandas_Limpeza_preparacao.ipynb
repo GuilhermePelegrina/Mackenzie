{
  "cells": [
    {
      "cell_type": "markdown",
      "metadata": {
        "id": "view-in-github",
        "colab_type": "text"
      },
      "source": [
        "<a href=\"https://colab.research.google.com/github/GuilhermePelegrina/Mackenzie/blob/main/Aulas/2s2024/An%C3%A1lise%20de%20Dados/Aula_10_Pandas_Limpeza_preparacao.ipynb\" target=\"_parent\"><img src=\"https://colab.research.google.com/assets/colab-badge.svg\" alt=\"Open In Colab\"/></a>"
      ]
    },
    {
      "cell_type": "markdown",
      "metadata": {
        "id": "yDT0n5rAx87W"
      },
      "source": [
        "<img src='https://raw.githubusercontent.com/guilhermepelegrina/Mackenzie/main/logo_mackenzie.png'>\n"
      ]
    },
    {
      "cell_type": "markdown",
      "metadata": {
        "id": "OKK_BbNhyvGx"
      },
      "source": [
        "# **Limpeza e preparação de dados.**\n",
        "\n",
        "Nesta aula, vamos aprender como limpar e preparar dados para sua posterior análise. Veremos, então, como tratar valores ausentes, remover duplicatas, alterar a formatação de dados e transformar variáveis. Vale ressaltar que essa etapa é essencial na análise exploratória de dados e, principalmente, na criação de modelos de aprendizado de máquina (disciplina que terão no próximo semestre).\n",
        "\n",
        "Para abordar os conceitos e códigos dessa aula, vamos utilizar a base de dados Titanic, disponível no link: https://raw.githubusercontent.com/guilhermepelegrina/Mackenzie/main/Datasets/data_titanic_train.csv\n",
        "\n",
        "Nessa base de dados, cada linha representa uma pessoa que estava no Titanic. Para cada pessoa, tem-se as seguintes informações (nas colunas):\n",
        "\n",
        "- **PassengerID**: Idendificação do passageiro.\n",
        "\n",
        "- **Survived**: Indica se a pessoa sobreviveu (1) ou não (0).\n",
        "\n",
        "- **Pclass**: Tipo de bilhete, sendo 1 = primeira classe, 2 = segunda classe e 3 = terceira classe\n",
        "\n",
        "- **Name**: Nome do passageiro.\n",
        "\n",
        "- **Sex**: Sexo.\n",
        "\n",
        "- **Age**: Idade.\n",
        "\n",
        "- **SibSp**: \tNúmero de irmãos/cônjuges a bordo do Titanic\n",
        "\n",
        "- **Parch**: Número de pais/filhos a bordo do Titanic.\n",
        "\n",
        "- **Ticket**: Número do bilhete.\n",
        "\n",
        "- **Fare**: Tarifa do passageiro.\n",
        "\n",
        "- **Cabin**: Número da cabine.\n",
        "\n",
        "- **Embarked**: Porto de embarcação, sendo C = Cherbourg, Q = Queenstown e S = Southampton.\n",
        "\n",
        "Note que o atributo **Pclass** serve como uma *proxy* para o status socio-econômico do indivíduo."
      ]
    },
    {
      "cell_type": "code",
      "execution_count": null,
      "metadata": {
        "id": "C7-rgg4yDmv9"
      },
      "outputs": [],
      "source": [
        "import pandas as pd\n",
        "import warnings\n",
        "warnings.filterwarnings(\"ignore\")\n",
        "\n",
        "dados = pd.read_csv(\"https://raw.githubusercontent.com/guilhermepelegrina/Mackenzie/main/Datasets/data_titanic_train.csv\")\n",
        "dados.head()"
      ]
    },
    {
      "cell_type": "markdown",
      "source": [
        "## Limpeza de dados\n",
        "\n",
        "Uma das primeiras etapas quando vamos \"limpar os dados\" é lidar com valores ausentes. Em resumo, valores ausentes são células no nosso DataFrame que não contém informação (ou seja, células vazias). Essa falta de informação pode resultar em interpretações erradas acerca dos dados ou até mesmo erro nas funções em Python.\n",
        "\n",
        "Há várias formas de lidar com esse inconveniente. Mas primeiro, vamos verificar a presença (se é que há) de valores ausentes e em quais colunas estão."
      ],
      "metadata": {
        "id": "hIO_RVuUn8bF"
      }
    },
    {
      "cell_type": "code",
      "source": [
        "dados.info()"
      ],
      "metadata": {
        "id": "QMvclJXSoqHN"
      },
      "execution_count": null,
      "outputs": []
    },
    {
      "cell_type": "markdown",
      "source": [
        "Pela função `.info()` já podemos perceber que algumas colunas (*Age*, *Cabin* e *Embarked*) possuem valores nulos, uma vez que o número de não nulos é menor que o número de linhas. Uma outra forma de contar tais valores é usando a função `isnull()`. Essa função aponda como verdadeiro na célula onde há uma ausência de informação. Portanto, ao somar os valores verdadeiros dessa coluna, encontramos o número de células vazias."
      ],
      "metadata": {
        "id": "0QErMHY0o2wF"
      }
    },
    {
      "cell_type": "code",
      "source": [
        "missing_data = dados.isnull().sum()\n",
        "print(missing_data)"
      ],
      "metadata": {
        "id": "AOKmlzrbpqG0"
      },
      "execution_count": null,
      "outputs": []
    },
    {
      "cell_type": "markdown",
      "source": [
        "Há algumas formas de lidar com valores ausentes. Na disciplina, já vimos o uso do `dropna()`. Essa função retira todas as linhas que contém pelo menos uma célula ausente. No entanto, em situações onde temos poucos dados, por exemplo, excluir linhas pode prejudicar a análise de ponto de vista estatístico, pois teremos um número menor de amostras. Então, podemos utilizar outras técnicas, como as seguintes:\n",
        "\n",
        "- Para informações numéricas, podemos preencher as células vazias com o valor médio (ou mediana) do conjunto de dados.\n",
        "\n",
        "- Para informações categóricas, podemos preencher as células vazias com a categorias que mais aparece (a moda) no conjunto de dados.\n",
        "\n",
        "- Se uma coluna apresenta muitos valores ausentes, às vezes é interessante simplesmente retirar essa informação da base de dados."
      ],
      "metadata": {
        "id": "X3qYTH0pqMrc"
      }
    },
    {
      "cell_type": "code",
      "source": [
        "# Preenche com a média os valores ausentes na coluna 'Age'\n",
        "dados['Age'].fillna(dados['Age'].mean(), inplace=True)\n",
        "\n",
        "# Preenche com o valor mais frequente (por isso o [0] no código) os valores ausentes na coluna 'Embarked'\n",
        "dados['Embarked'].fillna(dados['Embarked'].mode()[0], inplace=True)\n",
        "\n",
        "# Remove a coluna 'Cabin' devido à alta proporção de valores ausentes\n",
        "dados.drop(columns='Cabin', inplace=True)"
      ],
      "metadata": {
        "id": "GtoEhj7NqPur"
      },
      "execution_count": null,
      "outputs": []
    },
    {
      "cell_type": "markdown",
      "source": [
        "Reparem no uso do `inplace=True` nos códigos acima. Ao colocar esse parâmetro, informamos para o Python realizar a operação e sobrescrever o DataFrame. Ou seja, o DataFrame será atualizado após a limpeza dos dados.\n",
        "\n",
        "Confira, agora, se há células vazias:"
      ],
      "metadata": {
        "id": "HnkyAz9JsKSe"
      }
    },
    {
      "cell_type": "code",
      "source": [
        "print(dados.isnull().sum())"
      ],
      "metadata": {
        "id": "R4oetn2Vsiy3"
      },
      "execution_count": null,
      "outputs": []
    },
    {
      "cell_type": "markdown",
      "source": [
        "Outro aspecto para considerar, dependendo da análise a ser realizada, é a remoção de linhas duplicadas. Se, por algum motivo, é indesejável ter linhas repetidas na base de dados, podemos removê-las da seguinte forma:"
      ],
      "metadata": {
        "id": "igagj0hIsqs1"
      }
    },
    {
      "cell_type": "code",
      "source": [
        "dados.drop_duplicates(inplace=True)"
      ],
      "metadata": {
        "id": "pFX79SOos8HR"
      },
      "execution_count": null,
      "outputs": []
    },
    {
      "cell_type": "markdown",
      "source": [
        "## Formatando dados\n",
        "\n",
        "Lembre-se que conjuntos de dados podem conter informações numéricas e/ou categóricas. No entanto, é comum encontrar bases de dados com informações categóricas representadas por números. Nos dados do Titanic, por exemplo, a coluna *Survived* é categórica, por natureza, mas está representada na forma numérica. Para alterar esse tipo de informação (`.dtype` informa o tipo da variável), podemos informar para o Python que a informação contida nessa coluna é categórica, a partir do código abaixo:"
      ],
      "metadata": {
        "id": "B49xauU3tzIb"
      }
    },
    {
      "cell_type": "code",
      "source": [
        "# Veja o tipo do atributo\n",
        "dados['Survived'].dtype"
      ],
      "metadata": {
        "id": "NSFlEi6guhIf"
      },
      "execution_count": null,
      "outputs": []
    },
    {
      "cell_type": "code",
      "source": [
        "dados['Survived'] = dados['Survived'].astype('category')\n",
        "\n",
        "# Veja o novo tipo do atributo\n",
        "dados['Survived'].dtype"
      ],
      "metadata": {
        "id": "301zo1RPuc27"
      },
      "execution_count": null,
      "outputs": []
    },
    {
      "cell_type": "markdown",
      "source": [
        "Como muitas bases de dados que utilizados são extraídas da internet, é comum que elas venham de outros países e, portanto, com colunas em outro idioma. Para formatar tais nomes e passar, por exemplo, para o português, podemos utilizar os códigos abaixo:"
      ],
      "metadata": {
        "id": "o18o6YPQwOUT"
      }
    },
    {
      "cell_type": "code",
      "source": [
        "dados.rename(columns={\n",
        "    'Pclass': 'Tipo do bilhete',\n",
        "    'Sex': 'Sexo',\n",
        "    'SibSp': '# Irmãos/Cônjuges',\n",
        "    'Parch': '# Pais/Filhos',\n",
        "    'Fare': 'Tarifa'}, inplace=True)\n",
        "dados.head()"
      ],
      "metadata": {
        "id": "7Uc6zzqPwmU3"
      },
      "execution_count": null,
      "outputs": []
    },
    {
      "cell_type": "markdown",
      "source": [
        "## Transformando dados\n",
        "\n"
      ],
      "metadata": {
        "id": "raWu5EYzw8AQ"
      }
    },
    {
      "cell_type": "markdown",
      "source": [
        "Na seção anterior vimos como alterar a formação do dado (de numérico para categórico). Uma outra forma seria transformar cada valor numério pelo nome da categoria que ele representa. Veja como fica essa alteração para a coluna que indica o tipo de bilhete."
      ],
      "metadata": {
        "id": "FAS2oBpHu7_u"
      }
    },
    {
      "cell_type": "code",
      "source": [
        "dados['Tipo do bilhete'].replace({1: '1st', 2: '2nd', 3: '3rd'}, inplace=True)\n",
        "dados.head()"
      ],
      "metadata": {
        "id": "Xy9p_76hvwYf"
      },
      "execution_count": null,
      "outputs": []
    },
    {
      "cell_type": "markdown",
      "source": [
        "Outra transformação de numérico para categórico pode ser feita considerando intervalos de valores. Por exemplo, se ao invés de trabalhar com as idades reais dos indivíduos é mais interessante considerar faixas etárias, podemos realizar tal transformação. Veja como fica a seguir:"
      ],
      "metadata": {
        "id": "gfjxxennyAxH"
      }
    },
    {
      "cell_type": "code",
      "source": [
        "dados['Age'] = pd.cut(dados['Age'], bins=[0, 12, 20, 40, 60, 80], labels=['Criança', 'Jovem', 'Adulto', 'Meia-idade', 'Idoso'])\n",
        "dados.Age.value_counts()"
      ],
      "metadata": {
        "id": "02q68uNwyA-5"
      },
      "execution_count": null,
      "outputs": []
    },
    {
      "cell_type": "markdown",
      "source": [
        "Note que a função `.cut()` aloca os dados nos intervalos definidos pelos `bins`. No exemplo acima, temos 69 pessoas entre 0 e 12 anos (inclusive), 110 entre 12 e 20 anos (inclusive), etc..."
      ],
      "metadata": {
        "id": "SH-DeuCNysFh"
      }
    },
    {
      "cell_type": "markdown",
      "source": [
        "Também pode acontecer de ser necessário transformar dados que são categóricos para representação numérica. Por exemplo, considerar que homens seriam representados pelo valor 1 e mulheres pelo valor 0. Uma das formas para fazer essa transformação é a seguinte:"
      ],
      "metadata": {
        "id": "4e73H8emxbcV"
      }
    },
    {
      "cell_type": "code",
      "source": [
        "dados['Sexo'] = dados['Sexo'].apply(lambda x: 1 if x == 'male' else 0)\n",
        "dados.head()"
      ],
      "metadata": {
        "id": "q4eqU3tQxAH_"
      },
      "execution_count": null,
      "outputs": []
    },
    {
      "cell_type": "markdown",
      "metadata": {
        "id": "9oe6OEdp8ngk"
      },
      "source": [
        "Uma outra forma de transformar dados categóricos em numéricos consiste em \"binarizar\" as categorias, de maneira a criar novas colunas de dados que contenha 1 quando a categoria está presente na amostra e 0 quando não está. Nesse caso, um atributo categórico, com $m$ categorias, é substituído por $m$ novas colunas.\n",
        "\n",
        "Essa manipulação é particularmente útil quando criamos modelos de aprendizado de máquina (disciplina do próximo semestre). Isso porque os métodos geralmente usam apenas variáveis numéricas e, portanto, precisamos transformá-las de maneira a não criar viéses para uma ou outra categoria. Ou seja, não podemos apenas dar números em certas situações, visto que isto implicaria em uma relação ordinal (e com diferença de escala) entre categorias. Isso, em muitos casos, não faz sentido. Então, precisamos representar as categorias de forma não-ordinal.\n",
        "\n",
        "Veja o exemplo a seguir."
      ]
    },
    {
      "cell_type": "code",
      "execution_count": null,
      "metadata": {
        "id": "9iRrDxS_8ngl"
      },
      "outputs": [],
      "source": [
        "# Criação de variáveis dummies\n",
        "\n",
        "dados = pd.get_dummies(dados, columns = ['Age'])\n",
        "dados.head()"
      ]
    },
    {
      "cell_type": "markdown",
      "source": [
        "Reparem que há a inclusão das novas colunas e a antiga (*Age*) já foi removida dos dados."
      ],
      "metadata": {
        "id": "mkhRMrQg9xRT"
      }
    },
    {
      "cell_type": "markdown",
      "source": [
        "## Normalização de dados\n",
        "\n",
        "Quando a análise estatística e/ou a criação de um modelo de aprendizado de máquina requer que as variáveis estejam na mesma escala, é necessária uma etapa de normalização dos dados. Embora o termo 'normalização' seja usado para indicar uma transformação de dados em uma escala específica, há diversos tipos de normalização. As principais são:\n",
        "\n",
        "- **Normalização 0-1**: Consiste em alterar a coluna de dados para que os mesmos sejam representados entre 0 e 1.\n",
        "\n",
        "- **Padronização**: Consiste em transformar os dados assumindo uma distribuição normal padrão. Como resultado, a coluna terá média igual a 0 e desvio padrão igual a 1.\n",
        "\n",
        "- **Normalização pelo máximo**: Consiste em dividir todos os elementos da coluna pelo máximo entre eles. Assim, garantimos que os dados fiquem entre 0 e 1 (assumindo que todos são positivos).\n",
        "\n",
        "Vejam os exemplos na sequência. Para cada normalização dos dados da *Tarifa*, criamos uma nova coluna no DataFrame."
      ],
      "metadata": {
        "id": "-pfhrnlp-weq"
      }
    },
    {
      "cell_type": "code",
      "source": [
        "# Normalização 0-1\n",
        "dados['Tarifa Norm 0-1'] = (dados.Tarifa - dados.Tarifa.min()) / (dados.Tarifa.max() - dados.Tarifa.min())\n",
        "\n",
        "# Padronização\n",
        "dados['Tarifa Norm Padr'] = (dados.Tarifa - dados.Tarifa.mean()) / dados.Tarifa.std()\n",
        "\n",
        "# Normalização pelo máximo\n",
        "dados['Tarifa Norm Max'] = dados.Tarifa/ dados.Tarifa.max()\n",
        "\n",
        "dados.head()"
      ],
      "metadata": {
        "id": "aSbge7ikANEU"
      },
      "execution_count": null,
      "outputs": []
    }
  ],
  "metadata": {
    "colab": {
      "provenance": [],
      "authorship_tag": "ABX9TyNOdZL/qoFcaZcThNWUovqp",
      "include_colab_link": true
    },
    "kernelspec": {
      "display_name": "Python 3",
      "name": "python3"
    },
    "language_info": {
      "name": "python"
    }
  },
  "nbformat": 4,
  "nbformat_minor": 0
}