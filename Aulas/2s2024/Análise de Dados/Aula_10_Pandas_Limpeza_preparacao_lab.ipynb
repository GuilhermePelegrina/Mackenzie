{
  "nbformat": 4,
  "nbformat_minor": 0,
  "metadata": {
    "colab": {
      "provenance": [],
      "authorship_tag": "ABX9TyM0dvP/O6ewhJ4OytGrKPxV",
      "include_colab_link": true
    },
    "kernelspec": {
      "name": "python3",
      "display_name": "Python 3"
    },
    "language_info": {
      "name": "python"
    }
  },
  "cells": [
    {
      "cell_type": "markdown",
      "metadata": {
        "id": "view-in-github",
        "colab_type": "text"
      },
      "source": [
        "<a href=\"https://colab.research.google.com/github/GuilhermePelegrina/Mackenzie/blob/main/Aulas/2s2024/An%C3%A1lise%20de%20Dados/Aula_10_Pandas_Limpeza_preparacao_lab.ipynb\" target=\"_parent\"><img src=\"https://colab.research.google.com/assets/colab-badge.svg\" alt=\"Open In Colab\"/></a>"
      ]
    },
    {
      "cell_type": "markdown",
      "metadata": {
        "id": "3VMWLks4NhvQ"
      },
      "source": [
        "<img src='https://raw.githubusercontent.com/guilhermepelegrina/Mackenzie/main/logo_mackenzie_analise_dados.png' width=\"600\">"
      ]
    },
    {
      "cell_type": "markdown",
      "metadata": {
        "id": "-vQsKw-ONjDW"
      },
      "source": [
        "# **Atividade Prática - Limpeza e preparação de dados**\n",
        "\n",
        "O exercício proposto considera a base de dados do Airbnb, disponível [neste link](https://raw.githubusercontent.com/guilhermepelegrina/Mackenzie/main/Datasets/data_airbnb_nyc_2019.csv). Cada linha deste conjunto de dados representa uma acomodação na cidade de NYC, oferecida através do Airbnb. Para cada acomodação, há vários atributos."
      ]
    },
    {
      "cell_type": "markdown",
      "metadata": {
        "id": "gOw5YXA3P4z5"
      },
      "source": [
        "Responda as questões com base nos conceitos / códigos vistos nesta aula."
      ]
    }
  ]
}