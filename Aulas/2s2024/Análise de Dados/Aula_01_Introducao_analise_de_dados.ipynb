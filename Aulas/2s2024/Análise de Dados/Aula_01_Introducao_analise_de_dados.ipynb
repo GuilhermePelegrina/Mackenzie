{
  "nbformat": 4,
  "nbformat_minor": 0,
  "metadata": {
    "colab": {
      "provenance": [],
      "authorship_tag": "ABX9TyMq/wfnl3RFETCuh4VBjTml",
      "include_colab_link": true
    },
    "kernelspec": {
      "name": "python3",
      "display_name": "Python 3"
    },
    "language_info": {
      "name": "python"
    }
  },
  "cells": [
    {
      "cell_type": "markdown",
      "metadata": {
        "id": "view-in-github",
        "colab_type": "text"
      },
      "source": [
        "<a href=\"https://colab.research.google.com/github/GuilhermePelegrina/Mackenzie/blob/main/Aulas/2s2024/An%C3%A1lise%20de%20Dados/Aula_01_Introducao_analise_de_dados.ipynb\" target=\"_parent\"><img src=\"https://colab.research.google.com/assets/colab-badge.svg\" alt=\"Open In Colab\"/></a>"
      ]
    },
    {
      "cell_type": "markdown",
      "source": [
        "<img src='https://raw.githubusercontent.com/guilhermepelegrina/Mackenzie/main/logo_mackenzie_analise_dados.png' width=\"600\">\n"
      ],
      "metadata": {
        "id": "iRbGAh2ujtmc"
      }
    },
    {
      "cell_type": "markdown",
      "source": [
        "# **Bem vindo à disciplina de *Análise de Dados* !**\n",
        "\n",
        "**Qual o objetivo da disciplina?**\n",
        "\n",
        "Esta disciplina tem como objetivo explorar a biblioteca Pandas do Python e proporcionar aos alunos um ferramental para análise, manipulação, tratamento e visualização de dados."
      ],
      "metadata": {
        "id": "xjWh9aFpOpoV"
      }
    },
    {
      "cell_type": "markdown",
      "source": [
        "# **O que é Análise de Dados?**\n",
        "\n",
        "Antes de falar da Análise de Dados, precisamos entender o que é um dado.\n",
        "\n",
        "Um dado pode ser entendido como o registro de algum evento que aconteceu. Mas o \"número\" em si não quer dizer nada. Por exemplo, se nos apresentarmos a tabela abaixo, o que temos de informação sobre esse registro?\n",
        "\n",
        "<img src='https://raw.githubusercontent.com/guilhermepelegrina/Mackenzie/main/Aulas/Figuras/fig_dado_puro.jpg' width=\"300\">\n",
        "\n",
        "Já o significado sobre esses números é que traz sentido aos dados. Veja a tabela abaixo. Agora, sabemos o que os dados representam. Com isso, podemos tentar extrair mais informações úteis sobre eles. Esse é o objetivo da Análise de Dados.\n",
        "\n",
        "<img src='https://raw.githubusercontent.com/guilhermepelegrina/Mackenzie/main/Aulas/Figuras/fig_dado_labels.jpg' width=\"300\">\n",
        "\n",
        "Podemos dizer que, com base em um conjunto de dados coletados, a Análise de Dados consiste em:\n",
        "\n",
        "- **examinar** a procedência dos dados coletados,\n",
        "\n",
        "- **limpar** dados inúteis ou incorretos,\n",
        "\n",
        "- **selecionar** os dados relevantes para o estudo,\n",
        "\n",
        "- **extrair** informações úteis a partir dos dados selecionados,\n",
        "\n",
        "- **visualizar** as informações obtidas a partir de ferramentas adequadas.\n",
        "\n",
        "<img src='https://raw.githubusercontent.com/guilhermepelegrina/Mackenzie/main/Aulas/Figuras/fig_eng_prod_analise_dados.jpg' width=\"500\">"
      ],
      "metadata": {
        "id": "ox421L426V48"
      }
    },
    {
      "cell_type": "markdown",
      "source": [
        "# **E Ciência de Dados, é a mesma coisa?**\n",
        "\n",
        "<img src='https://raw.githubusercontent.com/guilhermepelegrina/Mackenzie/main/Aulas/Figuras/fig_ciencia_dados.jpg' width=\"500\">\n",
        "\n",
        "Fonte: Retirado de RAUTENBERG e CARMO, 2019.\n",
        "<br/><br/>\n",
        "Embora os termos Análise de Dados, Ciência de Dados e Aprendizado de Máquina sejam usados de maneira similar, há algumas peculiaridades entre eles. Podemos dizer que a Ciência de Dados engloba tanto a Análise de Dados quanto o Aprendizado de Máquina.\n",
        "<br/><br/>\n",
        "Uma definição frequentemente utilizada para delimitar a análise de dados para a investigação estatística e matemática dos dados (sem haver inferência sobre os dados) é a **Análise Exploratória dos Dados (AED)**. Neste caso, temos claro que o papel da AED é de explorar conjuntos de dados a fim de obter informações relevantes, visualizar padrões, e extrair conclusões preliminares sobre os dados. Ela muitas vezes serve de base para outras análises, como a inferência estatística. O conteúdo desta disciplina versa sobre adiquirir competências para fazer uma análise exploratória de dados de qualidade.\n",
        "<br/><br/>\n",
        "Na disciplina TIC (Tecnologia da. Informação e Comunicação) do próximo semestre, exploraremos modelos de aprendizado de máquina para, além da análise dos dados, construir modelos que auxiliem na Tomada de Decisão.\n",
        "<br/><br/>\n",
        "Mas notem que todas essas áreas são multidisciplinares, envolvendo competências da ciência da computação, matemática e estatística. Além, é claro, do conhecimento acerca do problema em questão."
      ],
      "metadata": {
        "id": "mQDme679TvVz"
      }
    },
    {
      "cell_type": "markdown",
      "source": [
        "# **Motivação: A importância da Análise de Dados na Engenharia de Produção**\n",
        "\n",
        "Há diversas áreas de atuação de um Engenheiro de Produção (Fonte ABEPRO):\n",
        "\n",
        "<img src='https://raw.githubusercontent.com/guilhermepelegrina/Mackenzie/main/Aulas/Figuras/fig_eng_prod_areas.jpg' width=\"600\">\n",
        "\n",
        "Na grande maioria dessas áreas, o profissional se auxilia de métodos que proporcionam otimizar processos a fim de alcançar um gerenciamento de excelência.\n",
        "\n",
        "- Ferramentas gerenciais (PDCA, Diagrama de Ishikawa, ...),\n",
        "\n",
        "- Modelos matemáticos (dimensionamento de lotes, planejamento da produção, ...),\n",
        "\n",
        "- Ferramentas estatísticas e computacionais (CEP, sistemas de recomendação, ...).\n",
        "\n",
        "Um aspecto em comum nesses métodos é que, geralmente, eles necessitam de um levantamento cuidadoso dos dados para que tanto o desenvolvimento do modelo quanto a solução alcançada sejam eficientes para lidar com a tarefa em questão.\n",
        "\n"
      ],
      "metadata": {
        "id": "GLlCkbfiTwYw"
      }
    },
    {
      "cell_type": "markdown",
      "source": [
        "# **Indústria 4.0 e** *Big data*\n",
        "\n",
        "A importância no uso dos dados foi intensificada com o nascimento da Indústria 4.0, uma vez que tecnologias da informação são usadas no ambiente industrial a fim de coletar tais dados para compreender melhor tudo o que envolve a cadeia produtiva.\n",
        "\n",
        "Um estudo feito em 2022 mostrou que 84,9% das empresas que participaram da pesquisa utilizaram pelo menos uma tecnologia da informação avançada. Algumas das tecnologias mais utilizadas foram: computação em nuvem (73,6%), internet das coisas (48,6%), robótica (27,7%), análise de *big data* (23,4%) e inteligência artificial (16,9%). Fonte: https://www.itexperts.com.br/blog/empresas-utilizam-tecnologia-digital-avancada/\n",
        "<br/><br/>\n",
        "O *Big Data* é um termo que vem sendo usado para indicar um volume muito grande de dados, heterogêneos, os quais são passíveis de manipulação, processamento e interpretação (quando usadas as ferramentas adequadas).\n",
        "<br/><br/>\n",
        "Podemos caracterizar o *Big Data* a partir dos 6Vs abaixo (adaptado de RAUTENBERG e CARMO, 2019):\n",
        "\n",
        "- Volume: grande volume de dados.\n",
        "\n",
        "- Velocidade: alta velocidade na aquisição dos dados.\n",
        "\n",
        "- Variedade: os dados são coletados de diversas fontes e contém informações de diversas naturezas.\n",
        "\n",
        "- Veracidade: devemos nos atentar à veracidade dos dados, a fim de evitar que informações incorretas sejam usadas no modelo adotado. Lembrem-se do termo GIGO (Garbage in, Garbage out). Apenas teremos uma boa análise dos dados se os mesmos estiverem corretos.\n",
        "\n",
        "- Variabilidade: os dados são dinâmicos, e a sazonalidade ou eventos específicos (um vídeo que faz sucesso nas redes sociais) podem alterar os padrões dos dados coletados.\n",
        "\n",
        "- Valor: a análise de dados possui um grande valor para a Tomada de Decisão.\n",
        "\n",
        "Muito se fala atualmente que vivemos na era da informação, onde nossas informações (gostos, preferências, desejos) vem sendo coletadas principalmente pelos *smartfones*. Quando usamos aplicativos em nosso celular (*Instagram*, *TikTok*, *Gmail*, *Waze*, *X*, etc...), as empresas coletam nossos dados para que os algoritmos possam aprender sobre nossos gostos e, então, nos oferecer produtos ou serviços. Em outras palavras, as empresas usam os dados para criarem e melhorarem ao longo do tempo seus sistemas de recomendação."
      ],
      "metadata": {
        "id": "WcjlwxWCkkli"
      }
    },
    {
      "cell_type": "markdown",
      "source": [
        "# **Análise/Ciência de dados sempre existiu?**\n",
        "\n",
        "\"Ciência de Dados\" existe há décadas, mas alguns fatores levaram ao aumento da procura por tal ferramental nos últimos anos:\n",
        "\n",
        "- Aumento da demanda por soluções inteligentes,\n",
        "\n",
        "- Disponibilidade de dados para auxílio à tomada de decisão,\n",
        "\n",
        "- Desenvolvimento de ferramentas e plataformas de programação para resolver os mais diversos tipos de problemas,\n",
        "\n",
        "- Capacidade computacional capaz de resolver problemas complexos.\n",
        "\n",
        "<img src='https://raw.githubusercontent.com/guilhermepelegrina/Mackenzie/main/Aulas/Figuras/fig_eng_prod_lei_moore.jpg' width=\"500\">"
      ],
      "metadata": {
        "id": "AHrAkwWFADdU"
      }
    },
    {
      "cell_type": "markdown",
      "source": [
        "# **Casos de sucesso**\n",
        "\n",
        "Abaixo estão alguns casos de sucesso onde houve o emprego da Análise/Ciência de dados:\n",
        "\n",
        "- Monsanto: uso de modelos matemáticos e estatísticos para definir os melhores momentos (e locais) para cultivar plantas machos e fêmeas.\n",
        "\n",
        "- Grupo Pão de Açúcar: através de seu programa de pontos (Clube Extra), a empresa coleta dados dos clientes, sobre preferências de compra, e extrai informações para otimizar a gestão de estoques.\n",
        "\n",
        "- Shell: uso da análise de dados e modelos de aprendizado de máquina para auxiliar na detecção prévia de falhas e reduzir custos através da manutenção preditiva.\n",
        "\n",
        "- E muitos outros! Outros exemplos: [10 casos de sucesso](https://itforum.com.br/noticias/data-analytics-10-historias-de-sucesso/)\n",
        "\n"
      ],
      "metadata": {
        "id": "obOeD5QhceiZ"
      }
    },
    {
      "cell_type": "markdown",
      "source": [
        "# **CRISP-DM**\n",
        "\n",
        "CRISP-DM (Cross Industry Standard Process for Data Mining): Metodologia utilizada para organizar e conduzir o projeto de Ciência de Dados.\n",
        "\n",
        "<img src='https://raw.githubusercontent.com/guilhermepelegrina/Mackenzie/main/Aulas/Figuras/fig_eng_prod_crisp_dm.jpg' width=\"400\">\n",
        "\n",
        "Fonte: Retirado de [(Veja aqui a matéria)](https://shorturl.at/bjAJ3)\n",
        "<br/><br/>\n",
        "Etapas:\n",
        "\n",
        "- **Entendimento do negócio**: Nesta etapa, buscamos compreender as necessidades do negócio e objetivos do projeto. A partir deste entendimento, formulamos o problema de Ciência de Dados que iremos lidar, que pode ser desde uma simples visualizão de dados como a construção de uma ferramenta complexa de aprendizado de máquina). Nesta formulação, avaliamos as fontes de dados, os riscos envolvidos e produzimos o plano a ser seguido. É importante ser realista em relação aos objetivos, uma vez que devemos alcançá-lo a partir dos dados disponíveis ou que poderão ser colatados.\n",
        "\n",
        "- **Entendimento dos Dados**: Esta etapa se incia pela coleta dos dados e entendimento dos mesmos, verificando se são suficientes e adequados para lidar com o problema abordado. Também podemos realizar análises iniciais sobre os dados e extrair informações/resultados preliminares.\n",
        "\n",
        "- **Preparação dos dados**: Nesta etapa, preparamos os dados para que eles estejam na forma adequada para a próxima etapa (modelagem). Tarefas como seleção, transformação e limpeza (*outliers*, dados faltantes) de dados são características dessa etapa. Note que, em muitos casos, essa e a etapa anterioir constituem a Análise Exploratória dos Dados, ou seja, o produto do conteúdo que veremos ao longo desta disciplina. Além disso, a etapa anterior e (principalmente) esta são as que consomem mais esforço no projeto (cerca de 70 a 80%), uma vez que são responsáveis por adquirir e preparar as informações que serão utilizadas na construção do modelo.\n",
        "\n",
        "- **Modelagem**: Esta etapa consiste na criação do modelo em sim. Avaliamos qual método mais se adequa ao problema abordado e, com bases nos dados coletados e preparados, criamos o modelo. É nessa etapa que empregamos os conhecimentos que serão vistos no próximo semestre, durante a disciplina de TIC.\n",
        "\n",
        "- **Avaliação**: Nesta etapa, aplicamos o modelo de solução proposto e avaliamos os resultados obtidos. Aqui, validamos se o que foi alcançado como resultado satisfaz os objetivos pretendidos no início do processo. Caso algum objetivo não tenha sido atendido, revemos o nosso plano, determinamos os próximos passos e buscamos por uma nova rodada de etapas.\n",
        "\n",
        "- **Aplicação**: Nesta etapa, implementamos a solução. A fim de assegurar o funcionamento contínuo do projeto, também construímos (se for o caso) o plano de monitoramento. Além disso, revisamos o projeto para se assegurar que todos os objetivos foram atendidos e produzimos a documentação final."
      ],
      "metadata": {
        "id": "4OzTdO65c_QX"
      }
    },
    {
      "cell_type": "markdown",
      "source": [
        "# **Linguagem e ambientes de programação**\n",
        "\n",
        "Tanto para Análise de Dados quanto para a criação de modelos de aprendizado de máquina, é comum usarmos linguagens de programação que facilitam a implementação dos métodos e resolução dos problemas.\n",
        "<br/><br/>\n",
        "Há diversas linguagens de programação, cada uma com suas características próprias acerca de facilidade de programação, capacidade de resolução de problemas e licença para uso do software. Alguns exemplos são: C++, [Python](https://www.python.org/), [R](https://www.r-project.org/) e [Matlab](https://www.mathworks.com/products/matlab.html).\n",
        "<br/><br/>\n",
        "Nesta disciplina, usaremos o Python, uma linguagem de programação de código aberto (gratuito) e que já dispõe de diversos pacotes e funções específicas para resolver os mais variados problemas envolvendo dados (dentre outras coisas).\n",
        "<br/><br/>\n",
        "Para programar em Python, é muito comum usarmos interpretadores interativos, como o [Jupyter Notebook](https://jupyter.org/) ou [Google Colab](https://colab.research.google.com/). Uma das principais diferenças entre os dois é que o Google Colab pode ser usado de qualuer computador, sem a necessidade da instalação do Python. Isso porque o Google Colab funciona na nuvem e o programa roda no Google. Nesta disciplina, usaremos o Google Colab tantos nas aulas quanto (essa é uma sugestão) nos trabalhos."
      ],
      "metadata": {
        "id": "jQ7exMD_fVoG"
      }
    },
    {
      "cell_type": "markdown",
      "source": [
        "**Referências**\n",
        "\n",
        "LIMA, M. C. J.; ALMEIDA, R. M.; VALIM, S. R.; MIRANDA, W. M. A Importância da Análise de Dados na Engenharia de Produção. In: XLI ENCONTRO NACIONAL DE ENGENHARIA DE PRODUÇÃO (ENEGEP), Foz do Iguaçu, Paraná, Brasil, 2021.\n",
        "<br/><br/>\n",
        "RAUTENBERG, S.; CARMO, P. R. V. Big Data e Ciência de Dados: Complementariedade Conceitual no Processo de Tomada de Decisão. Brazilian Journal of Information Studies, v. 13 (1), p. 56-67, 2019."
      ],
      "metadata": {
        "id": "7TF_NJOx7oql"
      }
    }
  ]
}