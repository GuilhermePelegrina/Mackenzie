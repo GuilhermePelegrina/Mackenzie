{
  "cells": [
    {
      "cell_type": "markdown",
      "metadata": {
        "id": "view-in-github",
        "colab_type": "text"
      },
      "source": [
        "<a href=\"https://colab.research.google.com/github/GuilhermePelegrina/Mackenzie/blob/main/Aulas/2s2024/An%C3%A1lise%20de%20Dados/Aula_04_Pandas_Selecao_Manipulacao.ipynb\" target=\"_parent\"><img src=\"https://colab.research.google.com/assets/colab-badge.svg\" alt=\"Open In Colab\"/></a>"
      ]
    },
    {
      "cell_type": "markdown",
      "metadata": {
        "id": "Lno00JJsqdY7"
      },
      "source": [
        "<img src='https://raw.githubusercontent.com/guilhermepelegrina/Mackenzie/main/logo_mackenzie.png'>\n"
      ]
    },
    {
      "cell_type": "markdown",
      "metadata": {
        "id": "DygIHwg-qiah"
      },
      "source": [
        "# **Seleção e manipulação de dados.**\n",
        "\n",
        "Nesta aula, retomaremos os códigos sobre seleção de dados. Na aula passada, falamos um pouco sobre seleção de colunas. Nesta aula, também veremos como selecionar dados com base em linhas. Além disso, aprenderemos como selecionar um subconjunto de dados a partir de linhas e colunas específicas."
      ]
    },
    {
      "cell_type": "markdown",
      "metadata": {
        "id": "Aswnp2gCtRJU"
      },
      "source": [
        "## Importando a biblioteca Pandas e lendo os dados\n",
        "\n",
        "Para a sequência dessa aula, vamos usar como exemplo o conjunto de dados ([Bank Marketing](https://archive.ics.uci.edu/dataset/222/bank+marketing))."
      ]
    },
    {
      "cell_type": "code",
      "execution_count": null,
      "metadata": {
        "id": "LNy4DYDUKogG"
      },
      "outputs": [],
      "source": [
        "import pandas as pd\n",
        "\n",
        "# Bank Marketing\n",
        "\n",
        "df1 = pd.read_csv(\"https://raw.githubusercontent.com/guilhermepelegrina/Mackenzie/main/Datasets/data_bank_marketing.csv\", sep = ';')\n",
        "df1"
      ]
    },
    {
      "cell_type": "markdown",
      "metadata": {
        "id": "Cth-9-TB97Ym"
      },
      "source": [
        "# Relembrando: Seleção de colunas\n",
        "\n",
        "<img src=\"https://pandas.pydata.org/docs/_images/03_subset_columns.svg\" width=320, align=\"center\">\n",
        "\n",
        "Lembre-se que há basicamente duas formas de seleção de uma única coluna de maneira que os dados resultantes são guardados em uma `Series`. Ambas produzem o mesmo resultado, mas a segunda é recomendada quando o nome da coluna que quer selecionar possui caracteres especiais ou espaços.\n",
        "\n",
        "Esse tipo de seleção é indicado quando apenas um atributo é interessante para a Análise de Dados em questão (o que dificilmente será o caso).\n"
      ]
    },
    {
      "cell_type": "code",
      "execution_count": null,
      "metadata": {
        "id": "xkp6zHYI-CRr"
      },
      "outputs": [],
      "source": [
        "idade1 = df1.age\n",
        "\n",
        "print(idade1)"
      ]
    },
    {
      "cell_type": "code",
      "execution_count": null,
      "metadata": {
        "id": "eRJqsD2k-oy1"
      },
      "outputs": [],
      "source": [
        "idade2 = df1['age']\n",
        "\n",
        "print(idade2)"
      ]
    },
    {
      "cell_type": "code",
      "execution_count": null,
      "metadata": {
        "id": "PbPZkMbd2_lX"
      },
      "outputs": [],
      "source": [
        "print(type(idade1), type(idade2))"
      ]
    },
    {
      "cell_type": "markdown",
      "metadata": {
        "id": "v5cz-qLP6t5E"
      },
      "source": [
        "Além dos códigos acima para selecionar uma única coluna, também podemos usar a seguinte estrutura para a mesma tarefa. No entanto, o conjunto de dados resultante é um `DataFrame` ao invés de uma `Series`."
      ]
    },
    {
      "cell_type": "code",
      "execution_count": null,
      "metadata": {
        "id": "ms0jHFOr69cA"
      },
      "outputs": [],
      "source": [
        "idade3 = df1[['age']]\n",
        "\n",
        "print(idade3)"
      ]
    },
    {
      "cell_type": "code",
      "execution_count": null,
      "metadata": {
        "id": "Wod6lVS37FZx"
      },
      "outputs": [],
      "source": [
        "print(type(idade3))"
      ]
    },
    {
      "cell_type": "markdown",
      "metadata": {
        "id": "-tOJoSHW39Vx"
      },
      "source": [
        "Essa diferenciação entre extrair uma `Series` ou uma `DataFrame` é importante pois algumas operações são específicas para `Series`, não sendo portanto aplicáveis às `DataFrames` do Pandas."
      ]
    },
    {
      "cell_type": "code",
      "execution_count": null,
      "metadata": {
        "id": "w7VrajOL4WD_"
      },
      "outputs": [],
      "source": [
        "# Exemplo: .to_list() é válido apenas para Series\n",
        "\n",
        "print(idade1.to_list())"
      ]
    },
    {
      "cell_type": "code",
      "execution_count": null,
      "metadata": {
        "id": "UkhY7S7t5IRA"
      },
      "outputs": [],
      "source": [
        "# print(df1.to_list())"
      ]
    },
    {
      "cell_type": "markdown",
      "metadata": {
        "id": "TkeCVszw1-fw"
      },
      "source": [
        "Além de selecionar uma única coluna, podemos também estar interessados em extrair um conjunto de colunas do conjunto de dados. Essa operação é mais utilizada em Análise de Dados, uma vez que procuramos interpretar as informações contidas em vários atributos. Com isso, podemos relacionar os dados, extrair estatísticas e comparar as informações coletadas.\n",
        "\n",
        "Para isso, usamos os códigos abaixo."
      ]
    },
    {
      "cell_type": "code",
      "execution_count": null,
      "metadata": {
        "id": "X9wDuZJ120-I"
      },
      "outputs": [],
      "source": [
        "# Nomes das colunas\n",
        "\n",
        "df1.columns"
      ]
    },
    {
      "cell_type": "code",
      "execution_count": null,
      "metadata": {
        "id": "MdbbbIFE23ye"
      },
      "outputs": [],
      "source": [
        "# Selecionando as colunas\n",
        "\n",
        "df2 = df1[['age', 'marital', 'loan']]\n",
        "df2.head()"
      ]
    },
    {
      "cell_type": "markdown",
      "metadata": {
        "id": "dGWWHagf3TLa"
      },
      "source": [
        "Veja que, neste caso, quando selecionamos um conjunto de colunas temos como resultado um `DataFrame` ao invés de uma `Series`."
      ]
    },
    {
      "cell_type": "code",
      "execution_count": null,
      "metadata": {
        "id": "tMP6zE8u3ezF"
      },
      "outputs": [],
      "source": [
        "print(type(df2))"
      ]
    },
    {
      "cell_type": "markdown",
      "metadata": {
        "id": "h6WmSdje7RYn"
      },
      "source": [
        "# Seleção de linhas\n",
        "\n",
        "<img src=\"https://pandas.pydata.org/docs/_images/03_subset_rows.svg\" width=320, align=\"center\">\n",
        "\n",
        "Até agora, vimos apenas como selecionar colunas. Essa tarefa talvez seja bem intuitiva uma vez que essa seleção leva em conta um conjunto de dados que já possui um nome (o nome da coluna).\n",
        "\n",
        "No entanto, também é muito útil selecionar dados com base valores das linhas. Por exemplo, você poderia estar interessado em analisar apenas os clientes (que estão nas linhas) que possuem 45 anos ou mais. Ou ainda, os clientes que são casados.\n",
        "\n",
        "Percebam que as linhas não possuem nomes (como no caso das colunas). Então, a seleção com base em linhas necessita de um predicado lógico. Ele é utilizado da seguinte forma:\n",
        "\n",
        "`df[ condição de seleção ]`\n",
        "\n",
        "Exemplos:\n",
        "\n",
        "`df[ nome_coluna == valor ]`, onde `==` indica uma igualdade\n",
        "\n",
        "`df[ nome_coluna != valor ]`, onde `!=` indica uma diferença\n",
        "\n",
        "`df[ nome_coluna > valor ]`, onde `>` indica uma desigualdade\n",
        "\n",
        "Veja os exemplos abaixo:\n"
      ]
    },
    {
      "cell_type": "code",
      "execution_count": null,
      "metadata": {
        "id": "Mqj6A-EiTEoo"
      },
      "outputs": [],
      "source": [
        "# Selecionando clientes com idade de no mínimo 45 anos\n",
        "\n",
        "df3 = df1[df1.age >= 45]\n",
        "df3.head()"
      ]
    },
    {
      "cell_type": "code",
      "execution_count": null,
      "metadata": {
        "id": "Bj4XFlZyTp6q"
      },
      "outputs": [],
      "source": [
        "# Selecionando clientes casados\n",
        "\n",
        "df4 = df1[df1.marital == 'married']\n",
        "df4.head()"
      ]
    },
    {
      "cell_type": "markdown",
      "metadata": {
        "id": "lVM1wx3KS8DK"
      },
      "source": [
        "Note que a quantidade de linhas nesse novo `DataFrame` ao selecionar apenas clientes casados é equivalente à frequência associada à categoria `married` calculada na aula anterior."
      ]
    },
    {
      "cell_type": "code",
      "execution_count": null,
      "metadata": {
        "id": "Vh1tSUc1Uxsh"
      },
      "outputs": [],
      "source": [
        "# Calculando a frequência de cada categoria\n",
        "\n",
        "df1.marital.value_counts()"
      ]
    },
    {
      "cell_type": "code",
      "execution_count": null,
      "metadata": {
        "id": "whAoyZN6Upnv"
      },
      "outputs": [],
      "source": [
        "# Selecionando linhas e calculando o número de linhas resultantes\n",
        "\n",
        "print(len(df1[df1.marital == 'married']))"
      ]
    },
    {
      "cell_type": "markdown",
      "metadata": {
        "id": "0q1ulBtuVVqa"
      },
      "source": [
        "Ou, ainda, podemos calcular a porcentagem de pessoas casadas nessa base de dados."
      ]
    },
    {
      "cell_type": "code",
      "execution_count": null,
      "metadata": {
        "id": "zsSwiR-JVaAZ"
      },
      "outputs": [],
      "source": [
        "# Calculando a porcentagem das pessoas casadas\n",
        "\n",
        "print(len(df1[df1.marital == 'married'])/len(df1))"
      ]
    },
    {
      "cell_type": "markdown",
      "metadata": {
        "id": "1VZhS58dVrpf"
      },
      "source": [
        "# Seleção de linhas e colunas\n",
        "\n",
        "<img src=\"https://pandas.pydata.org/docs/_images/03_subset_columns_rows.svg\" width=320, align=\"center\">\n",
        "\n",
        "Na seleção de linhas que acabamos de ver, temos como resultado todas as colunas cujas linhas respeitam uma certa condição. Mas há a opção de selecionarmos um subconjunto de colunas com base em condições sobre as linhas. Esse procedimento resulta em um *Slice* (ou fatia) dos dados. Via de regra, primeiro fazemos a seleção das linhas e, em seguida (mas na mesma linha de código), as colunas. A sintaxe é dessa forma:\n",
        "\n",
        "df [ condição de seleção ].nome_coluna (o resultado é uma `Series`)\n",
        "\n",
        "df [ condição de seleção ]['nome_coluna'] (o resultado é uma `Series`)\n",
        "\n",
        "df [ critério de seleção ][ [lista-de-colunas] ] (o resultado é um `DataFrame`)\n",
        "\n",
        "Com isso, podemos analisar os dados fragmentando as informações e extraindo resultados específicos para subconjunto de dados."
      ]
    },
    {
      "cell_type": "code",
      "execution_count": null,
      "metadata": {
        "id": "7fF-Pou8GZi5"
      },
      "outputs": [],
      "source": [
        "novo = df1[df1.age > 60].duration\n",
        "novo"
      ]
    },
    {
      "cell_type": "code",
      "execution_count": null,
      "metadata": {
        "id": "hkL71hwKXaw5"
      },
      "outputs": [],
      "source": [
        "# Dos clientes maiores de 60 anos, qual foi a duração média das ligações?\n",
        "\n",
        "print('A duração média das ligações foi de', df1[df1.age > 60].duration.mean())"
      ]
    },
    {
      "cell_type": "code",
      "execution_count": null,
      "metadata": {
        "id": "e3dpf94nZFPc"
      },
      "outputs": [],
      "source": [
        "# Dos clientes de no máximo de 30 anos, qual foi a duração média das ligações?\n",
        "\n",
        "print('A duração média das ligações foi de', df1[df1.age <= 30].duration.mean())"
      ]
    },
    {
      "cell_type": "code",
      "execution_count": null,
      "metadata": {
        "id": "i6Su-_mpZWUp"
      },
      "outputs": [],
      "source": [
        "# Quantos anos tem a pessoa solteira mais velha desse conjunto de dados?\n",
        "\n",
        "print(df1[df1.marital == 'single'].age.max(), 'anos')"
      ]
    },
    {
      "cell_type": "code",
      "execution_count": null,
      "metadata": {
        "id": "3SgA4C5MZtFa"
      },
      "outputs": [],
      "source": [
        "# Quantos anos tem a pessoa casada mais nova desse conjunto de dados?\n",
        "\n",
        "print(df1[df1.marital == 'married'].age.min(), 'anos')"
      ]
    },
    {
      "cell_type": "markdown",
      "metadata": {
        "id": "RaK2mAeEajOK"
      },
      "source": [
        "# Usando condicionais para seleção de linhas e colunas\n",
        "\n",
        "Também podemos combinar condições de seleção de linhas empregando os operadores lógicos & (AND) ou '|' (OR). Para isso, precisamos incluir parênteses nas seleções, separando cada condicional."
      ]
    },
    {
      "cell_type": "code",
      "execution_count": null,
      "metadata": {
        "id": "RtcwTcnAa7xG"
      },
      "outputs": [],
      "source": [
        "# Selecionado casados que contrataram o pacote oferecido\n",
        "\n",
        "df5 = df1[(df1.marital == 'married') & (df1.y == 'yes')]\n",
        "df5"
      ]
    },
    {
      "cell_type": "code",
      "execution_count": null,
      "metadata": {
        "id": "yvoRSlQUbURK"
      },
      "outputs": [],
      "source": [
        "# Selecionado (i) casados ou (ii) solteiros e que contrataram o pacote oferecido\n",
        "\n",
        "df6 = df1[(df1.marital == 'married') | (df1.marital == 'single') & (df1.y == 'yes')]\n",
        "df6"
      ]
    },
    {
      "cell_type": "code",
      "source": [
        "# Para selecionar casados ou solteiros que contrataram o pacote oferecido:\n",
        "df6_2 = df1[( (df1.marital == 'married') | (df1.marital == 'single') ) & (df1.y == 'yes')]\n",
        "df6_2"
      ],
      "metadata": {
        "id": "HOQADPCZBQwk"
      },
      "execution_count": null,
      "outputs": []
    },
    {
      "cell_type": "markdown",
      "metadata": {
        "id": "5m6sCb1_cxA8"
      },
      "source": [
        "Também podemos usar o operador `.isin()`, para indicar a pertinência de um valor a uma lista."
      ]
    },
    {
      "cell_type": "code",
      "execution_count": null,
      "metadata": {
        "id": "EaJ6FCbzc7ae"
      },
      "outputs": [],
      "source": [
        "# Selecionando clientes que contrataram o pacote e possuem um emprego do tipo 'management\t' ou 'technician'\n",
        "\n",
        "df7 = df1[ (df1.y == 'yes') & (df1.job.isin(['management','technician'])) ]\n",
        "df7"
      ]
    },
    {
      "cell_type": "markdown",
      "metadata": {
        "id": "94MEto-ramcZ"
      },
      "source": [
        "# Seleção de linhas específicas com base no índice\n",
        "\n",
        "Ao invés de selecionarmos linhas com base em condicionais ou \"valores\" específicos dos dados, podemos selecionar indicando o índice da linha. Isso é feito usando o comando `.iloc`."
      ]
    },
    {
      "cell_type": "code",
      "execution_count": null,
      "metadata": {
        "id": "MzTZXynBagif"
      },
      "outputs": [],
      "source": [
        "# Selecionando as linhas de índices 0 e 2 da coluna age\n",
        "df1.iloc[[0,2]].age"
      ]
    },
    {
      "cell_type": "code",
      "execution_count": null,
      "metadata": {
        "id": "MOp8sOT4bM8G"
      },
      "outputs": [],
      "source": [
        "# Selecionando a linha de índices de 3 até 8 a das colunas de 1 até 4\n",
        "df1.iloc[3:9,1:5]"
      ]
    }
  ],
  "metadata": {
    "colab": {
      "provenance": [],
      "authorship_tag": "ABX9TyMOqiQ7OpUZYZKI1dqdgG0Y",
      "include_colab_link": true
    },
    "kernelspec": {
      "display_name": "Python 3",
      "name": "python3"
    },
    "language_info": {
      "name": "python"
    }
  },
  "nbformat": 4,
  "nbformat_minor": 0
}