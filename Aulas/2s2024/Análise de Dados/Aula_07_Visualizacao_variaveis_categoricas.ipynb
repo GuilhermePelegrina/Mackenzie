{
  "cells": [
    {
      "cell_type": "markdown",
      "metadata": {
        "id": "view-in-github",
        "colab_type": "text"
      },
      "source": [
        "<a href=\"https://colab.research.google.com/github/GuilhermePelegrina/Mackenzie/blob/main/Aulas/2s2024/An%C3%A1lise%20de%20Dados/Aula_07_Visualizacao_variaveis_categoricas.ipynb\" target=\"_parent\"><img src=\"https://colab.research.google.com/assets/colab-badge.svg\" alt=\"Open In Colab\"/></a>"
      ]
    },
    {
      "cell_type": "markdown",
      "metadata": {
        "id": "yDT0n5rAx87W"
      },
      "source": [
        "<img src='https://raw.githubusercontent.com/guilhermepelegrina/Mackenzie/main/logo_mackenzie.png'>\n"
      ]
    },
    {
      "cell_type": "markdown",
      "metadata": {
        "id": "OKK_BbNhyvGx"
      },
      "source": [
        "# **Visualização de dados - Variáveis categóricas**\n",
        "\n",
        "Nesta aula, vamos aprender como usar as bibliotecas Matplotlib e Seaborn para criar gráficos que ilustram informações contidas em variáveis categóricas."
      ]
    },
    {
      "cell_type": "markdown",
      "metadata": {
        "id": "goTofjd4k6pG"
      },
      "source": [
        "Para ilustrar os comandos dessa aula, vamos utilizar novamente o conjunto de dados [Bike Sharing](http://archive.ics.uci.edu/ml/datasets/Bike+Sharing+Dataset)."
      ]
    },
    {
      "cell_type": "code",
      "execution_count": null,
      "metadata": {
        "id": "7IRrGnuOlPqz"
      },
      "outputs": [],
      "source": [
        "import pandas as pd\n",
        "dados = pd.read_csv('https://raw.githubusercontent.com/guilhermepelegrina/Mackenzie/main/Datasets/data_bike_sharing_day.csv')\n",
        "dados"
      ]
    },
    {
      "cell_type": "markdown",
      "source": [
        "# Gráfico de barras\n",
        "\n",
        "O gráfico de barras é o mais utilizado para visualizar variáveis categóricas e comparar a frequência das categorias que aparecem em tal dado. Podemos realizar essa comparação a partir de barras tanto horizontais quanto verticais, sendo o tamanho das barras proporcionais às frequências das categorias na variável em análise."
      ],
      "metadata": {
        "id": "yJ3VtalBjX0t"
      }
    },
    {
      "cell_type": "markdown",
      "source": [
        "## Usando o Matplotlib\n",
        "\n",
        "O comando do Matplotlib é o `.bar` (barras verticais) ou `,barh` (barras horizontais). Nesse, informamos as labels (nomes) de cada barra e, em seguida, os dados que vao compor o tamanho da barra.\n",
        "\n",
        "Veja abaixo exemplos onde informamos manualmente os nomes das colunas e os valores (alturas) das barras. Note"
      ],
      "metadata": {
        "id": "gK5ql3EZkXA9"
      }
    },
    {
      "cell_type": "code",
      "source": [
        "import matplotlib.pyplot as plt\n",
        "\n",
        "# Temperatura em dias úteis - barras verticais\n",
        "\n",
        "plt.bar(['Seg','Ter','Qua','Qui','Sex'],[26,24,30,29,29], color='darkred')\n",
        "\n",
        "plt.title('Temperatura durante a semana', fontsize=14)\n",
        "plt.xlabel('Dias da semana', fontsize=12)\n",
        "plt.ylabel('Temperatura (°C)', fontsize=12)\n",
        "plt.show()\n"
      ],
      "metadata": {
        "id": "qy_KmiEskZ9K"
      },
      "execution_count": null,
      "outputs": []
    },
    {
      "cell_type": "code",
      "source": [
        "# Temperatura em dias úteis - barras horizontais\n",
        "\n",
        "plt.barh(['Seg','Ter','Qua','Qui','Sex'],[26,24,30,29,29], color='red')\n",
        "\n",
        "plt.title('Temperatura durante a semana', fontsize=14)\n",
        "plt.xlabel('Temperatura (°C)', fontsize=12)\n",
        "plt.ylabel('Dias da semana', fontsize=12)\n",
        "plt.show()"
      ],
      "metadata": {
        "id": "H9q3viD3K2Gt"
      },
      "execution_count": null,
      "outputs": []
    },
    {
      "cell_type": "markdown",
      "source": [
        "Ne exemplo seguinte, extraímos as informações de ambos os eixos diretos da base de dados. No caso, plotamos a frequência das situações climáticas. Note, em cada plot, a diferença em relação à frequência absoluta ou relativa."
      ],
      "metadata": {
        "id": "pVyEFlbRLUa9"
      }
    },
    {
      "cell_type": "code",
      "source": [
        "# Frequência absoluta\n",
        "\n",
        "plt.bar(dados.weathersit.unique(),dados.weathersit.value_counts(), color='blue')\n",
        "\n",
        "plt.title('Frequência das situações climáticas', fontsize=14)\n",
        "plt.xlabel('Situações climáticas', fontsize=12)\n",
        "plt.ylabel('Frequência absoluta', fontsize=12)\n",
        "plt.show()"
      ],
      "metadata": {
        "id": "VRTymPULLV0N"
      },
      "execution_count": null,
      "outputs": []
    },
    {
      "cell_type": "code",
      "source": [
        "# Frequência relativa\n",
        "\n",
        "plt.bar(dados.weathersit.unique(),dados.weathersit.value_counts(normalize=True), color='blue')\n",
        "\n",
        "plt.title('Frequência das situações climáticas', fontsize=14)\n",
        "plt.xlabel('Situações climáticas', fontsize=12)\n",
        "plt.ylabel('Frequência relativa', fontsize=12)\n",
        "plt.show()"
      ],
      "metadata": {
        "id": "pPUYgynzNH42"
      },
      "execution_count": null,
      "outputs": []
    },
    {
      "cell_type": "markdown",
      "source": [
        "Além das customização já vistas nesta disciplina (em relação aos labels, título, etc...), temos outras no gráfico de barras, como:\n",
        "\n",
        "- Rotação dos nomes das categorias: Dependendo do tamanho dos nomes, é interessante rotacionar o nome para ficar mais adequado ao plot.\n",
        "\n",
        "- Cores diferentes em cada barra: Para customizar as cores das barras, podemos indicar com o parâmetros `color = (...)` as cores de cada uma. Lembre-se que, para isso, devemos informar um número de cores iguais ao número de barras que será plotada.\n",
        "\n",
        "Antes de mostrar um exemplo com essas customizações, vamos trocar o nome de alguns dados para melhor visualizar as informações. Esse procedimento é bem comum quando se lida com bases de dados onde informações categóricas são representadas por números. Na análise de dados em si, isso não é um problema. Basta lembrar o que cada número significa. Mas quando usamos a base de dados para criar um modelo computacional, isso atrapalha a criação de tal modelo.\n",
        "\n",
        "Após alterar essas variáveis, veja um exemplo com customizações no gráfico de barras."
      ],
      "metadata": {
        "id": "p4ntx6ugMrcx"
      }
    },
    {
      "cell_type": "code",
      "source": [
        "import numpy as np\n",
        "\n",
        "wd1, wd2 = dados.workingday==0, dados.workingday==1\n",
        "dados.workingday = np.select([wd1, wd2], ['dia útil', 'dia não útil'], default=None)\n",
        "\n",
        "dados"
      ],
      "metadata": {
        "id": "Dhfo51v5O3J2"
      },
      "execution_count": null,
      "outputs": []
    },
    {
      "cell_type": "code",
      "source": [
        "nomes = dados.workingday.unique()\n",
        "x_pos = np.arange(len(nomes)) # Indica a posição onde serão plotadas as barras. Nesse caso, em cada inteiro iniciando em 0\n",
        "valores = dados.workingday.value_counts()\n",
        "\n",
        "plt.bar(x_pos,valores, color=('darkgreen','yellow')) # Note que, até aqui, não informamos os nomes de cada barra\n",
        "\n",
        "plt.xticks(x_pos,nomes,rotation=45) # Informação dos nomes das barras e rotação dos labels do eixo x\n",
        "\n",
        "plt.title('Frequência de dias úteis ou não úteis', fontsize=14)\n",
        "plt.xlabel('Tipo de dia', fontsize=12)\n",
        "plt.ylabel('Frequência absoluta', fontsize=12)\n",
        "\n",
        "plt.show()\n",
        "\n"
      ],
      "metadata": {
        "id": "jXAQgJVdMroi"
      },
      "execution_count": null,
      "outputs": []
    },
    {
      "cell_type": "markdown",
      "source": [
        "## Usando o Seaborn (Countplot)\n",
        "\n",
        "O Seaborn é uma outra biblioteca utilizada para plotar gráficos. Nessa biblioteca, tem um comando bem útil (dentre diversos outros) para visualizar a frequência de variáveis categóricas. Esse comando é o `.countplot`, e nele informamos a coluna que queremos visualizar a frequência (`x`), a tabela de dados que contém tal coluna (´data´) e, caso deseje, a paleta de cores."
      ],
      "metadata": {
        "id": "f2-StgXYl7b7"
      }
    },
    {
      "cell_type": "code",
      "source": [
        "import seaborn as sns\n",
        "\n",
        "plt.figure(figsize=(8,6))\n",
        "\n",
        "sns.countplot(x = 'weathersit', data = dados, palette = 'magma')\n",
        "plt.title('Frequências das situações climáticas')\n",
        "plt.ylabel('Frequêcia absoluta')\n",
        "plt.show()"
      ],
      "metadata": {
        "id": "gfJSFU7hmEoU"
      },
      "execution_count": null,
      "outputs": []
    },
    {
      "cell_type": "markdown",
      "source": [
        "Ao usar esse comando, temos um facilidade quando queremos visualizar a frequência de variáveis categóricas condicionadas a outra variável categórica. Veja abaixo como ficam as frequências daos dias úteis ou não úteis ao longo das estações do ano."
      ],
      "metadata": {
        "id": "ArG5R8hmUDdi"
      }
    },
    {
      "cell_type": "code",
      "source": [
        "import seaborn as sns\n",
        "\n",
        "plt.figure(figsize=(8,6))\n",
        "\n",
        "sns.countplot(x = 'season', hue = 'workingday', data = dados, palette = 'gray')\n",
        "plt.title('Frequência de dias úteis ou não úteis por estação')\n",
        "plt.ylabel('Frequêcia absoluta')\n",
        "plt.show()"
      ],
      "metadata": {
        "id": "zji9jdxbUe2q"
      },
      "execution_count": null,
      "outputs": []
    },
    {
      "cell_type": "markdown",
      "source": [
        "## Usando o grupby()\n",
        "\n",
        "Também podemos usar diretamente o *groupby()* para plotar os gráficos de barra. Lembre-se que o resultado do *groupby()* é um DataFrame Portanto, usamos a função `.plot()` do DataFrame indicando o tipo de gráfico que queremos plotar (no caso, o tipo `bar`).\n",
        "\n",
        "Note no exemplo a seguir como fica o código, assim como algumas customizações."
      ],
      "metadata": {
        "id": "k5K9zPfznARU"
      }
    },
    {
      "cell_type": "code",
      "source": [
        "dados3 = dados.groupby('workingday')[\"weathersit\"].count()\n",
        "dados3.plot(kind='bar', rot=90, color=\"green\", alpha=0.75)\n",
        "\n",
        "plt.xlabel(\"Tipo de dia\")\n",
        "plt.ylabel(\"Frequência\",fontsize='large')\n",
        "plt.title(\"Situação do clima\",fontsize='x-large')\n",
        "plt.yticks(fontsize='large')\n",
        "plt.show()"
      ],
      "metadata": {
        "id": "5LPoN8DjnCMD"
      },
      "execution_count": null,
      "outputs": []
    },
    {
      "cell_type": "markdown",
      "source": [
        "No exemplo abaixo plotamos a frequência de uma variável categórica empilhada (*stacked*) de acordo com o chaveamento de outra variável categórica. Note, também, a inclusão das frequências em casa parcela da barra."
      ],
      "metadata": {
        "id": "VDEVnylkXP13"
      }
    },
    {
      "cell_type": "code",
      "source": [
        "dados4 = dados.groupby(['yr','weathersit'])[\"casual\"].count().unstack()\n",
        "ax =dados4.plot(kind=\"bar\", rot=0, width=0.7,figsize=[14,6], stacked=True, color=['seagreen', 'orange', 'red'])\n",
        "\n",
        "plt.xlabel(\"Ano\",fontsize='large')\n",
        "plt.ylabel(\"Frequência absoluta\",fontsize='large')\n",
        "\n",
        "for c in ax.containers:\n",
        "    ax.bar_label(c, label_type=\"center\")\n",
        "\n",
        "plt.show()"
      ],
      "metadata": {
        "id": "dcn1USQzoQAc"
      },
      "execution_count": null,
      "outputs": []
    }
  ],
  "metadata": {
    "colab": {
      "provenance": [],
      "authorship_tag": "ABX9TyMjTIPdsqlH1zIeeHdzLceM",
      "include_colab_link": true
    },
    "kernelspec": {
      "display_name": "Python 3",
      "name": "python3"
    },
    "language_info": {
      "name": "python"
    }
  },
  "nbformat": 4,
  "nbformat_minor": 0
}