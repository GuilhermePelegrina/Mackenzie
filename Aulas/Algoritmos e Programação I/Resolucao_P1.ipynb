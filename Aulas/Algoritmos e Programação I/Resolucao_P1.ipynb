{
  "nbformat": 4,
  "nbformat_minor": 0,
  "metadata": {
    "colab": {
      "provenance": [],
      "authorship_tag": "ABX9TyMegq3HnZpNxCS7cQiaGA+e",
      "include_colab_link": true
    },
    "kernelspec": {
      "name": "python3",
      "display_name": "Python 3"
    },
    "language_info": {
      "name": "python"
    }
  },
  "cells": [
    {
      "cell_type": "markdown",
      "metadata": {
        "id": "view-in-github",
        "colab_type": "text"
      },
      "source": [
        "<a href=\"https://colab.research.google.com/github/GuilhermePelegrina/Mackenzie/blob/main/Aulas/Algoritmos%20e%20Programa%C3%A7%C3%A3o%20I/Resolucao_P1.ipynb\" target=\"_parent\"><img src=\"https://colab.research.google.com/assets/colab-badge.svg\" alt=\"Open In Colab\"/></a>"
      ]
    },
    {
      "cell_type": "markdown",
      "source": [
        "<img src='https://raw.githubusercontent.com/guilhermepelegrina/Mackenzie/main/logo_mackenzie.png'>\n"
      ],
      "metadata": {
        "id": "j1G_FPlZoM_k"
      }
    },
    {
      "cell_type": "markdown",
      "source": [
        "# **Correção da Prova N1**"
      ],
      "metadata": {
        "id": "SSwXlkomoOi7"
      }
    },
    {
      "cell_type": "markdown",
      "source": [
        "<img src='https://raw.githubusercontent.com/guilhermepelegrina/Mackenzie/main/Aulas/Figuras/fig_API_p1_q1.png'>"
      ],
      "metadata": {
        "id": "D5p2SoDSoViz"
      }
    },
    {
      "cell_type": "code",
      "execution_count": 4,
      "metadata": {
        "colab": {
          "base_uri": "https://localhost:8080/"
        },
        "id": "WduDm2KVoFEd",
        "outputId": "21238e02-40f0-4bb2-e68f-82d8a3b99748"
      },
      "outputs": [
        {
          "output_type": "stream",
          "name": "stdout",
          "text": [
            "Digite o número de horas extras:9\n",
            "Digite o número de horas de faltas:-2\n",
            "Pelo menos um dos valores digitados é inválido. Execute novamente o código digitando valores maiores os iguais a zero.\n"
          ]
        }
      ],
      "source": [
        "Nhe = float(input(\"Digite o número de horas extras:\"))\n",
        "Nhf = float(input(\"Digite o número de horas de faltas:\"))\n",
        "\n",
        "if (Nhe < 0) or (Nhf < 0):\n",
        "  print(\"Pelo menos um dos valores digitados é inválido. Execute novamente o código digitando valores maiores os iguais a zero.\")\n",
        "else:\n",
        "  C = 1.5*Nhe-(3/5)*Nhf\n",
        "  if C >= 30:\n",
        "    G = 600.00\n",
        "  elif C >= 22:\n",
        "    G = 480.00\n",
        "  elif C >= 10:\n",
        "    G = 350.00\n",
        "  elif C >= 1:\n",
        "    G = 100.00\n",
        "  else:\n",
        "    G = 0.00\n",
        "  print(\"O coeficiente é igual a\", C)\n",
        "  print(\"O valor da gratificação é de R$\", G)"
      ]
    },
    {
      "cell_type": "markdown",
      "source": [
        "<img src='https://raw.githubusercontent.com/guilhermepelegrina/Mackenzie/main/Aulas/Figuras/fig_API_p1_q2.png'>"
      ],
      "metadata": {
        "id": "uEmQX_xKsWon"
      }
    },
    {
      "cell_type": "code",
      "source": [
        "Pe = float(input(\"Digite o preço do etanol, por litro, em reais:\"))\n",
        "Pg = float(input(\"Digite o preço da gasolina, por litro, em reais:\"))\n",
        "L = float(input(\"Digite a quantidade de litros que se deseja abastecer:\"))\n",
        "\n",
        "if L >= 30:\n",
        "  De = 0.07\n",
        "  Dg = 0.06\n",
        "elif L >= 20:\n",
        "  De = 0.05\n",
        "  Dg = 0.04\n",
        "elif L >= 10:\n",
        "  De = 0.03\n",
        "  Dg = 0.02\n",
        "else:\n",
        "  De = 0.00\n",
        "  Dg = 0.00\n",
        "\n",
        "PTe = Pe*(1 - De)*L\n",
        "PTg = Pg*(1 - Dg)*L\n",
        "\n",
        "print(\"O preço total que seria pago pelo etanol é de R$\", PTe)\n",
        "print(\"O preço total que seria pago pela gasolina é de R$\", PTg)\n",
        "\n",
        "if PTe < 0.7*PTg:\n",
        "  print(\"Etanol é mais vantajoso\")\n",
        "elif PTe > 0.7*PTg:\n",
        "  print(\"Gasolina é mais vantajosa\")\n",
        "else:\n",
        "  print(\"Ambos são iguais\")"
      ],
      "metadata": {
        "colab": {
          "base_uri": "https://localhost:8080/"
        },
        "id": "G3qI72S0sYI4",
        "outputId": "7e7c5647-ad71-42d6-f30b-0bd4dc14c205"
      },
      "execution_count": 8,
      "outputs": [
        {
          "output_type": "stream",
          "name": "stdout",
          "text": [
            "Digite o preço do etanol, por litro, em reais:3.49\n",
            "Digite o preço da gasolina, por litro, em reais:4.9\n",
            "Digite a quantidade de litros que se deseja abastecer:25\n",
            "O preço total que seria pago pelo etanol é de R$ 82.8875\n",
            "O preço total que seria pago pela gasolina é de R$ 117.6\n",
            "Gasolina é mais vantajosa\n"
          ]
        }
      ]
    },
    {
      "cell_type": "markdown",
      "source": [
        "<img src='https://raw.githubusercontent.com/guilhermepelegrina/Mackenzie/main/Aulas/Figuras/fig_API_p1_q3.png'>"
      ],
      "metadata": {
        "id": "9BKqAE0fvRIn"
      }
    },
    {
      "cell_type": "code",
      "source": [
        "import math\n",
        "\n",
        "p = float(input(\"Digite a probabilidade da ocorrência do evento:\"))\n",
        "\n",
        "if (p>=0) and (p<=1):\n",
        "  H = -(p*math.log(p,2) + (1-p)*math.log(1-p,2))\n",
        "  print(\"A entropia é de\",H)\n",
        "else:\n",
        "  p = float(input(\"Digite novamente a probabilidade, sendo ela no intervalo [0, 1].\"))\n",
        "  if (p>=0) and (p<=1):\n",
        "    H = -(p*math.log(p,2) + (1-p)*math.log(1-p,2))\n",
        "    print(\"A entropia é de\",H)\n",
        "  else:\n",
        "    print(\"O valor da probabilidade está incorreto\")"
      ],
      "metadata": {
        "colab": {
          "base_uri": "https://localhost:8080/"
        },
        "id": "mJD1m3-QvTzd",
        "outputId": "d055972c-6879-4f4c-9b3c-1adf8c51e74e"
      },
      "execution_count": 11,
      "outputs": [
        {
          "output_type": "stream",
          "name": "stdout",
          "text": [
            "Digite a probabilidade da ocorrência do evento:1.01\n",
            "Digite novamente a probabilidade, sendo ela no intervalo [0, 1].-0.4\n",
            "O valor da probabilidade está incorreto\n"
          ]
        }
      ]
    }
  ]
}