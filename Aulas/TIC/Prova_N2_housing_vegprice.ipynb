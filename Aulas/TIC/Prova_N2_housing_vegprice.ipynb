{
  "cells": [
    {
      "cell_type": "markdown",
      "metadata": {
        "id": "view-in-github",
        "colab_type": "text"
      },
      "source": [
        "<a href=\"https://colab.research.google.com/github/GuilhermePelegrina/Mackenzie/blob/main/Aulas/TIC/Prova_N2_housing_vegprice.ipynb\" target=\"_parent\"><img src=\"https://colab.research.google.com/assets/colab-badge.svg\" alt=\"Open In Colab\"/></a>"
      ]
    },
    {
      "cell_type": "markdown",
      "metadata": {
        "id": "lIwgwfQLf3qv"
      },
      "source": [
        "<img src='https://raw.githubusercontent.com/guilhermepelegrina/Mackenzie/main/logo_mackenzie.png'>"
      ]
    },
    {
      "cell_type": "markdown",
      "metadata": {
        "id": "teRMSe61f5ZW"
      },
      "source": [
        "# **Prova N2 - TIC - Turma 7R11**\n",
        "\n",
        "Este notebook contém as instruções e questões da Prova N2 para a disciplina de TIC da turma 7R11."
      ]
    },
    {
      "cell_type": "markdown",
      "metadata": {
        "id": "kyE4dotK8pUq"
      },
      "source": [
        "# Instruções gerais\n",
        "\n",
        "## Envio do notebook com as questões e respostas\n",
        "\n",
        "Após finalizar a prova, faça o download do notebook nos formatos `.ipynb` e `.pdf` (dois arquivos) e submeta no Moodle, da seguinte forma:\n",
        "\n",
        "- Antes de salvar o arquivo, confira se todas as questões, seus códigos e suas respostas estão no notebook.\n",
        "\n",
        "- Para fazer o download do notebook no formato `.ipynb`, clique em *Arquivo* - *Fazer download* - *Fazer o download do .ipynb*. Salve o arquivo com seu RA e nome (ex: 1172211_Guilherme).\n",
        "\n",
        "- Para fazer o download do notebook no formato `.pdf`, clique em *Arquivo* - *Imprimir*. Salve o arquivo com seu RA e nome (ex: 1172211_Guilherme). Confira se o arquivo contém todos os códigos e respostas.\n",
        "\n",
        "- Após fazer o download do notebook, submeta os arquivos no Moodle. Para isso, acesse o Moodle, vá até o tópico *Provas* - *Envio da Prova N2* e envie os arquivos. **Lembre-se de finalizar o envio!**"
      ]
    },
    {
      "cell_type": "markdown",
      "metadata": {
        "id": "JBqv2BGW8xZA"
      },
      "source": [
        "# IMPORTANTE!\n",
        "\n",
        "Antes de iniciar as questões, execute o código abaixo. Você vai digitar o último número do seu RA Mackenzista. Preste muita atenção nessa etapa, pois é com esse número que serão geradas as bases de dados e será feita a correção de sua prova. Exemplo: se seu RA é 35403541, digite apenas o número 1."
      ]
    },
    {
      "cell_type": "code",
      "execution_count": null,
      "metadata": {
        "id": "oAfjioJE8wPp",
        "cellView": "form"
      },
      "outputs": [],
      "source": [
        "# @markdown Inicialização\n",
        "\n",
        "import pandas as pd\n",
        "from sklearn.model_selection import train_test_split\n",
        "\n",
        "numRA = int(input(\"Digite o último dígito do seu RA Mackenzista: \"))\n",
        "\n",
        "dados_aux = pd.read_csv('https://raw.githubusercontent.com/guilhermepelegrina/Mackenzie/main/Datasets/data_california_housing_prices.csv', usecols = ['longitude', 'latitude', 'housing_median_age', 'median_house_value', 'ocean_proximity'])\n",
        "house, X_test = train_test_split(dados_aux, test_size=0.3, random_state = numRA)\n",
        "\n",
        "price = pd.read_csv('https://raw.githubusercontent.com/guilhermepelegrina/Mackenzie/main/Datasets/data_vegetable_prices.csv', usecols = ['Commodity', 'Average'])\n",
        "categ = price.Commodity.unique()\n",
        "price = price[price.Commodity == categ[numRA]].reset_index()\n",
        "price = price.drop(['index', 'Commodity'], axis = 1)\n",
        "price"
      ]
    },
    {
      "cell_type": "markdown",
      "metadata": {
        "id": "xK3piSTjKzqG"
      },
      "source": [
        "# BOA PROVA!"
      ]
    },
    {
      "cell_type": "markdown",
      "metadata": {
        "id": "OwzLQ9AnhCje"
      },
      "source": [
        "# Questões 1 - 5\n",
        "\n",
        "Para as questões de 1 até 5, você vai utilizar o conjunto de dados [California Housing Prices](https://www.kaggle.com/datasets/camnugent/california-housing-prices?resource=download). Os dados já foram gerados e está no DataFrame `house`. Nessa base de dados, o objetivo é *agrupar* imóveis de determinadas regiões de acordo com características similares. Para cada bloco de imóveis (linhas), temos os seguintos atributos:\n",
        "\n",
        "- longitude: Medida de longitude. Quão maior o valor, mais à leste os imóveis se encontram,\n",
        "\n",
        "- latitude: Medida de latitude. Quão maior o valor, mais ao norte os imóveis se encontram,\n",
        "\n",
        "- housingMedianAge: Mediana da idade dos imóveis na região,\n",
        "\n",
        "- medianHouseValue: Mediana do valor dos imóveis na região (em dólares),\n",
        "\n",
        "- oceanProximity: Localização dos imóveis em relação ao mar/oceano.\n",
        "\n",
        "Após cada questão, há células para inserirem códigos e buscarem pelas respostas (insira mais células, se necessário). Além disso, também há células de texto para que seja escrita a resposta da questão. Dê \"dois cliques\" para acessar a célula.\n",
        "\n",
        "\n"
      ]
    },
    {
      "cell_type": "code",
      "execution_count": null,
      "metadata": {
        "id": "J9lx6vh77XrS"
      },
      "outputs": [],
      "source": [
        "# Veja o conjunto de dados abaixo:\n",
        "house"
      ]
    },
    {
      "cell_type": "markdown",
      "metadata": {
        "id": "CHM_MSiDsjLI"
      },
      "source": [
        "**Questão 1 (0,5 pontos)** Note que no DataFrame `house` há uma coluna com dados categóricos. Indique qual é essa coluna e quais as categorias existentes. Não precisa traduzir para o português, apenas indique como está na base de dados."
      ]
    },
    {
      "cell_type": "code",
      "execution_count": null,
      "metadata": {
        "id": "a4xEKFyD3Gmi"
      },
      "outputs": [],
      "source": [
        "# Escreva aqui seus códigos (insira mais células, se necessário)\n",
        "\n"
      ]
    },
    {
      "cell_type": "markdown",
      "metadata": {
        "id": "7eAuPRpy3Xzu"
      },
      "source": [
        "*Escreva aqui sua resposta:*\n"
      ]
    },
    {
      "cell_type": "markdown",
      "metadata": {
        "id": "egXExNrIwHjW"
      },
      "source": [
        "**Questão 2 (0,5 pontos)** Nas questões seguintes, você vai usar a clusterização hierárquica para agrupar os grupos de imóveis de acordo com suas similaridades. Para isso, utilize todas as colunas da base de dados. Ou seja, transforme a coluna com dados categóricos em dummies, faça a concatenação com o restante das colunas e prepare os dados para o modelo de clusterização. No total, quantas colunas restaram nessa nova base de dados?"
      ]
    },
    {
      "cell_type": "code",
      "execution_count": null,
      "metadata": {
        "id": "T48gmwLJ-ofY"
      },
      "outputs": [],
      "source": [
        "# Escreva aqui seus códigos (insira mais células, se necessário)\n",
        "\n"
      ]
    },
    {
      "cell_type": "markdown",
      "metadata": {
        "id": "7bLjZlukwO9L"
      },
      "source": [
        "*Escreva aqui sua resposta:*\n",
        "\n"
      ]
    },
    {
      "cell_type": "markdown",
      "metadata": {
        "id": "OZR9I94ew_K1"
      },
      "source": [
        "**Questão 3 (1,5 pontos)** Normalize os dados empregando a função `normalize` do `sklearn`. Feito isso, determine o número de clusters ideais através da métrica `Silhouette` e empregando a Clusterização Hierárquica Aglomerativa, com distância Euclidiana e `linkage='ward'`. Qual o número de clusters ideais e qual o valor da métrica obtida? **Dica: avalie apenas para 2, 3 ou 4 clusters!**"
      ]
    },
    {
      "cell_type": "code",
      "execution_count": null,
      "metadata": {
        "id": "lq20cpxQw_K2"
      },
      "outputs": [],
      "source": [
        "# Escreva aqui seus códigos (insira mais células, se necessário)\n"
      ]
    },
    {
      "cell_type": "markdown",
      "metadata": {
        "id": "DNlJC_Ut9B3E"
      },
      "source": [
        "*Escreva aqui sua resposta:*\n"
      ]
    },
    {
      "cell_type": "markdown",
      "metadata": {
        "id": "Rg8XLhZ-yid_"
      },
      "source": [
        "**Questão 4 (1,0 ponto)** Clusterize os dados usando a mesma estratégia e para o número ideal de clusters encontrado na questão anterior. Para as cinco últimas hospedagens dessa base de dados, quais foram os clusters atribuídos a elas?"
      ]
    },
    {
      "cell_type": "code",
      "execution_count": null,
      "metadata": {
        "id": "pPgp0wu1yieK"
      },
      "outputs": [],
      "source": [
        "# Escreva aqui seus códigos (insira mais células, se necessário)\n",
        "\n"
      ]
    },
    {
      "cell_type": "markdown",
      "metadata": {
        "id": "QcguEHiz9GME"
      },
      "source": [
        "*Escreva aqui sua resposta:*\n"
      ]
    },
    {
      "cell_type": "markdown",
      "metadata": {
        "id": "LwGMr6wQxvXZ"
      },
      "source": [
        "**Questão 5 (1,5 pontos)** Analise as médias de cada atributo (numérico) para cada cluster. Dica: crie um novo DataFrame e remova a coluna cujo atributo é categórico e, então, analise as médias. Dentre os atributos numéricos, um deles é determinante no agrupamento de dados. Ou seja, na clusterização, esse atributo pôde discriminar bem os clusters. Indique qual seria esse atributo e justifique sua resposta com base em um gráfico ou a partir de resultados numéricos/estatísticos."
      ]
    },
    {
      "cell_type": "code",
      "execution_count": null,
      "metadata": {
        "id": "4PqbOi6axvXa"
      },
      "outputs": [],
      "source": [
        "# Escreva aqui seus códigos (insira mais células, se necessário)\n",
        "\n"
      ]
    },
    {
      "cell_type": "markdown",
      "metadata": {
        "id": "TxEygrmK9HCn"
      },
      "source": [
        "*Escreva aqui sua resposta:*\n"
      ]
    },
    {
      "cell_type": "markdown",
      "source": [
        "# Questões 6 - 10\n",
        "\n",
        "Para as questões de 6 até 10, você vai utilizar o conjunto de dados [Vegetables and Fruits Prices](https://www.kaggle.com/datasets/ramkrijal/agriculture-vegetables-fruits-time-series-prices) . Os dados já foram gerados e está no DataFrame `price`. Nessa base de dados, o objetivo é criar um modelo de séries temporais para prever preços médios futuros dos vegetais (coluna `Average)`.\n",
        "\n",
        "Após cada questão, há células para inserirem códigos e buscarem pelas respostas (insira mais células, se necessário). Além disso, também há células de texto para que seja escrita a resposta da questão. Dê \"dois cliques\" para acessar a célula."
      ],
      "metadata": {
        "id": "t3yb8X8X3w-E"
      }
    },
    {
      "cell_type": "code",
      "execution_count": null,
      "metadata": {
        "id": "UPnHqJ2R4cxI"
      },
      "outputs": [],
      "source": [
        "# Veja o conjunto de dados abaixo:\n",
        "price"
      ]
    },
    {
      "cell_type": "markdown",
      "metadata": {
        "id": "0JTMmuXjznHw"
      },
      "source": [
        "**Questão 6 (0,5 pontos)** Faça o gráfico da série temporal. A série aparenta ser sazonal? E em relação à tendência, há uma clara tendência crescente ou decrescente? Justifique sua resposta."
      ]
    },
    {
      "cell_type": "code",
      "execution_count": null,
      "metadata": {
        "id": "jUIfcuRpznH7"
      },
      "outputs": [],
      "source": [
        "# Escreva aqui seus códigos (insira mais células, se necessário)\n"
      ]
    },
    {
      "cell_type": "markdown",
      "metadata": {
        "id": "KovLzNiD9HlW"
      },
      "source": [
        "*Escreva aqui sua resposta:*\n"
      ]
    },
    {
      "cell_type": "markdown",
      "metadata": {
        "id": "o37euRin1bsX"
      },
      "source": [
        "**Questão 7 (1,0 ponto)** Use a técnica da diferenciação (com uma diferença, apenas) para ajustar a estacionariedade da série temporal. Feito isso, plote a série resultante. Investigue se a série resultante é estacionária (considere um nível de significância de 0.05). Indique o valor-p obtido através do teste de Dickey-Fuller Aumentado (ADF)."
      ]
    },
    {
      "cell_type": "code",
      "execution_count": null,
      "metadata": {
        "id": "-CZ7t7kp1bsY"
      },
      "outputs": [],
      "source": [
        "# Escreva aqui seus códigos (insira mais células, se necessário)\n",
        "\n"
      ]
    },
    {
      "cell_type": "markdown",
      "metadata": {
        "id": "zWo5g76y9Ii5"
      },
      "source": [
        "*Escreva aqui sua resposta:*\n"
      ]
    },
    {
      "cell_type": "markdown",
      "metadata": {
        "id": "r6TWrRWk2vQ3"
      },
      "source": [
        "**Questão 8 (1,0 ponto)** Após a técnica da diferenciação usada na questão anterior, faça um gráfico da função de autocorrelação (ACF) e outro da função de autocorrelação parcial (PACF). Dentre os 10 primeiros lags, indique quais você considera importante para a previsão da série temporal. Justifique sua resposta."
      ]
    },
    {
      "cell_type": "code",
      "execution_count": null,
      "metadata": {
        "id": "9fu1jSgr2vQ3"
      },
      "outputs": [],
      "source": [
        "# Escreva aqui seus códigos (insira mais células, se necessário)\n",
        "\n"
      ]
    },
    {
      "cell_type": "markdown",
      "metadata": {
        "id": "tHYE67869JBP"
      },
      "source": [
        "*Escreva aqui sua resposta:*\n"
      ]
    },
    {
      "cell_type": "markdown",
      "metadata": {
        "id": "HQN6U6Oj4Vml"
      },
      "source": [
        "**Questão 9 (1,0 ponto)** Ajuste modelos ARIMA(p,d,q) com $d = 1$ e $p$ e $q$ no intervalo [0,3]. Considere como dados de teste as últimas 30 amostras da base de dados e o restante como dados de treinamento. Para os demais parâmetros, use o que foi visto em aula. Qual o melhor modelo obtido considerando o critério AIC?\n"
      ]
    },
    {
      "cell_type": "code",
      "source": [
        "# Escreva aqui seus códigos (insira mais células, se necessário)\n"
      ],
      "metadata": {
        "id": "Ek1IMnnPDMeM"
      },
      "execution_count": null,
      "outputs": []
    },
    {
      "cell_type": "markdown",
      "metadata": {
        "id": "g8dOinCj9JzO"
      },
      "source": [
        "*Escreva aqui sua resposta:*\n"
      ]
    },
    {
      "cell_type": "markdown",
      "metadata": {
        "id": "hGtqK39P6dtE"
      },
      "source": [
        "**Questão 10 (1,5 pontos)** Com base no modelo definido na questão anterior, construa o método ARIMA. Faça previsões para os próximos 30 dias. Qual o erro absoluto entre o valor real e o previsto para o último preço médio da base de dados original?"
      ]
    },
    {
      "cell_type": "code",
      "source": [
        "# Escreva aqui seus códigos (insira mais células, se necessário)\n"
      ],
      "metadata": {
        "id": "4BPgpQZWEWQe"
      },
      "execution_count": null,
      "outputs": []
    },
    {
      "cell_type": "markdown",
      "metadata": {
        "id": "Cdgb-8qp9KDB"
      },
      "source": [
        "*Escreva aqui sua resposta:*\n"
      ]
    }
  ],
  "metadata": {
    "colab": {
      "provenance": [],
      "authorship_tag": "ABX9TyPxE00/hMT/sKZRL55lGzOi",
      "include_colab_link": true
    },
    "kernelspec": {
      "display_name": "Python 3",
      "name": "python3"
    },
    "language_info": {
      "name": "python"
    }
  },
  "nbformat": 4,
  "nbformat_minor": 0
}