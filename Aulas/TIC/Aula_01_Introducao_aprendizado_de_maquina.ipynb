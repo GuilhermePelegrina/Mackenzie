{
  "nbformat": 4,
  "nbformat_minor": 0,
  "metadata": {
    "colab": {
      "provenance": [],
      "authorship_tag": "ABX9TyMxNUSGbA6mMdOUC6JGA6Ix"
    },
    "kernelspec": {
      "name": "python3",
      "display_name": "Python 3"
    },
    "language_info": {
      "name": "python"
    }
  },
  "cells": [
    {
      "cell_type": "markdown",
      "source": [
        "<img src='https://raw.githubusercontent.com/guilhermepelegrina/Mackenzie/main/logo_mackenzie.png'>\n",
        "\n"
      ],
      "metadata": {
        "id": "HSQCu7I51tMd"
      }
    },
    {
      "cell_type": "markdown",
      "source": [
        "# **Bem vindo à disciplina de *Tecnologias da Informação e Computação ligadas a Engenharia de Produção (TIC)* !**\n",
        "\n",
        "**Qual o objetivo da disciplina?**\n",
        "\n",
        "Esta dsiciplina tem como objetivo capacitar o aluno a resolver problemas de aprendizado de máquina. Através do uso da linguagem Python, serão exploradas ferramentas para a resolução de problemas como regressão, classificação e clusterização."
      ],
      "metadata": {
        "id": "PmvNrOBT16a6"
      }
    },
    {
      "cell_type": "markdown",
      "source": [
        "# **O que é Aprendizado de Máquina?**\n",
        "\n",
        "<img src='https://raw.githubusercontent.com/guilhermepelegrina/Mackenzie/main/Aulas/Figuras/fig_ciencia_dados.jpg' width=\"500\">\n",
        "\n",
        "Fonte: Retirado de RAUTENBERG e CARMO, 2019.\n",
        "<br/><br/>\n",
        "Embora os termos Análise de Dados, Ciência de Dados e Aprendizado de Máquina sejam usados de maneira similar, há algumas peculiaridades entre eles:\n",
        "\n",
        "- A `Análise de Dados` (disciplina cursada no 5º semestre) ou, *Análise Exploratória dos Dados (AED)*, consiste em explorar conjuntos de dados a fim de obter informações relevantes, visualizar padrões, e extrair conclusões preliminares sobre os dados. Ela muitas vezes serve de base para outras análises, como a inferência estatística ou aprendizado de máquina\n",
        "\n",
        "- O `Aprendizado de Máquina` tem como objetivo principal a criação de algoritmos, que aprendem com base em um conjunto de dados, capazes de desempenhar uma determinada tarefa. São métodos frequentemente utilizados para auxiliar a tomada de decisões.\n",
        "\n",
        "- A `Ciência de Dados` inclui todas essas áreas do conhecimento, que vão desde a coleta e análise de dados até a construção de modelos e softwares computacionais.\n",
        "\n",
        "Notem que todas essas áreas são multidisciplinares!"
      ],
      "metadata": {
        "id": "EdXFwdSZ8dPC"
      }
    },
    {
      "cell_type": "markdown",
      "source": [
        "# **E Inteligência Artificial, é a mesma coisa?**\n",
        "\n",
        "Apesar dos termos Inteligência Artificial e Aprendizado de Máquina serem usados como sinônimos, há algumas diferenças entre eles. A Inteligência Artificial é um conceito muito mais amplo do que o Aprendizado de Máquina. Ela tem como objetivo criar sistemas inteligentes que possam simular a inteligência humana. Já o Aprendizado de Máquina atua mais na construção do modelo computacional, que possivelmente servirá como um ferramental dentro da Artiligência Artificial.\n",
        "<br/><br/>\n",
        "\n",
        "O Aprendizado de máquina pode ser visto, então, como um subconjunto da Inteligência Artificial.\n",
        "<br/><br/>\n",
        "\n",
        "E a Ciência de Dados? A Ciência de Dados, como já vimos, tem uma intersecção com o Aprendizado de Máquina, mas também contém outras ferramentas distintas, como a Análise de Dados.\n",
        "\n",
        "<img src='https://raw.githubusercontent.com/guilhermepelegrina/Mackenzie/main/Aulas/Figuras/fig_ai_ml_ds.jpg' width=\"600\">\n",
        "\n",
        "Fonte: Kotu, Vijay, and Bala Deshpande. Data science: concepts and practice. Morgan Kaufmann, 2018. Acesso pelo [link](https://www.sciencedirect.com/science/article/pii/B9780128147610000010).\n",
        "\n"
      ],
      "metadata": {
        "id": "y3a9k2G4TTwp"
      }
    },
    {
      "cell_type": "markdown",
      "source": [
        "# **Motivação: A importância do Aprendizado de Máquina na Engenharia de Produção**\n",
        "\n",
        "Há diversas áreas de atuação de um Engenheiro de Produção (Fonte ABEPRO):\n",
        "\n",
        "<img src='https://raw.githubusercontent.com/guilhermepelegrina/Mackenzie/main/Aulas/Figuras/fig_eng_prod_areas.jpg' width=\"600\">\n",
        "\n",
        "Na grande maioria dessas áreas, o profissional se auxilia de métodos que proporcionam otimizar processos a fim de alcançar um gerenciamento de excelência. Muitos desses métodos podem ser vistos como ferramentas de aprendizado de máquina:\n",
        "\n",
        "- (Pré)Seleção de candidatos para uma vaga de emprego,\n",
        "\n",
        "- Detecção de fraudes bancárias,\n",
        "\n",
        "- Avaliação e concessão de crédito,\n",
        "\n",
        "- Previsão de demanda.\n",
        "\n",
        "Ou seja, após um levantamento cuidadoso dos dados acerca do problema abordado, há a criação de modelos (muitas vezes automáticos) que auxiliam na tomada de decisão."
      ],
      "metadata": {
        "id": "HkO8IHR22iQb"
      }
    },
    {
      "cell_type": "markdown",
      "source": [
        "# **Indústria 4.0 e** *Big data*\n",
        "\n",
        "A importância no uso dos dados foi intensificada com o nascimento da Indústria 4.0, uma vez que tecnologias da informação são usadas no ambiente industrial a fim de coletar tais dados para compreender melhor tudo o que envolve a cadeia produtiva.\n",
        "\n",
        "Um estudo feito em 2022 mostrou que 84,9% das empresas que participaram da pesquisa utilizaram pelo menos uma tecnologia da informação avançada. Algumas das tecnologias mais utilizadas foram: computação em nuvem (73,6%), internet das coisas (48,6%), robótica (27,7%), análise de *big data* (23,4%) e inteligência artificial (16,9%). Fonte: https://www.itexperts.com.br/blog/empresas-utilizam-tecnologia-digital-avancada/\n",
        "<br/><br/>\n",
        "O *Big Data* é um termo que vem sendo usado para indicar um volume muito grande de dados, heterogêneos, os quais são passíveis de manipulação, processamento e interpretação (quando usadas as ferramentas adequadas).\n",
        "<br/><br/>\n",
        "Podemos caracterizar o *Big Data* a partir dos 6Vs abaixo (adaptado de RAUTENBERG e CARMO, 2019):\n",
        "\n",
        "- Volume: grande volume de dados.\n",
        "\n",
        "- Velocidade: alta velocidade na aquisição dos dados.\n",
        "\n",
        "- Variedade: os dados são coletados de diversas fontes e contém informações de diversas naturezas.\n",
        "\n",
        "- Veracidade: devemos nos atentar à veracidade dos dados, a fim de evitar que informações incorretas sejam usadas no modelo adotado. Lembrem-se do termo GIGO (Garbage in, Garbage out). Apenas teremos uma boa análise dos dados se os mesmos estiverem corretos.\n",
        "\n",
        "- Variabilidade: os dados são dinâmicos, e a sazonalidade ou eventos específicos (um vídeo que faz sucesso nas redes sociais) podem alterar os padrões dos dados coletados.\n",
        "\n",
        "- Valor: a análise de dados possui um grande valor para a Tomada de Decisão.\n",
        "\n",
        "Muito se fala atualmente que vivemos na era da informação, onde nossas informações (gostos, preferências, desejos) vem sendo coletadas principalmente pelos *smartfones*. Quando usamos aplicativos em nosso celular (*Instagram*, *TikTok*, *Gmail*, *Waze*, *X*, etc...), as empresas coletam nossos dados para que os algoritmos possam aprender sobre nossos gostos e, então, nos oferecer produtos ou serviços. Em outras palavras, as empresas usam os dados para criarem e melhorarem ao longo do tempo seus sistemas de recomendação."
      ],
      "metadata": {
        "id": "zlOVTATE33h9"
      }
    },
    {
      "cell_type": "markdown",
      "source": [
        "# **Aplicações na Indústria**\n",
        "\n",
        "Há diversas aplicações possíveis de métodos de Aprendizado de Máquina na indústria. Alguns exemplos são os seguintes:\n",
        "\n",
        "- [Manutenção preditiva](https://hackernoon.com/pt/aprendizado-de-m%C3%A1quina-para-manuten%C3%A7%C3%A3o-preditiva-como-est%C3%A1-reinventando-a-manuten%C3%A7%C3%A3o-de-ativos),\n",
        "\n",
        "- [Previsão de demanda](https://www.mingosmartfactory.com/how-is-data-science-used-in-manufacturing-companies/),\n",
        "\n",
        "- [Gestão do agronegócio](https://www.cienciaedados.com/aplicacoes-e-tecnicas-de-machine-learning-na-agricultura/),\n",
        "\n",
        "- Construção de equipamentos qua atuam na [interface cérebro-computador](https://www.brainn.org.br/interface-cerebro-computador-o-futuro-controlado-pela-mente/).\n",
        "<br/><br/>\n",
        "\n",
        "Veja esse artigo para mais aplicações: [How is Data Science Used in Manufacturing?](https://www.mingosmartfactory.com/how-is-data-science-used-in-manufacturing-companies/)\n",
        "<br/><br/>"
      ],
      "metadata": {
        "id": "kdgN_zJ3TU_K"
      }
    },
    {
      "cell_type": "markdown",
      "source": [
        "# **Decisões baseadas em dados**\n",
        "\n",
        "O uso do Aprendizado de Máquina na construção de modelos de tomada de decisão fez com que surgisse um novo paradigma para a Ciência. Antigamente, as pessoas se serviam das informações disponíveis para aprender sobre a situação e elaborar a solução do problema (aplicando, por exemplo, ferramentas computacionais a partir do que determinou como forma de resolver o problema). Nos dias atuais, a solução de um problema está cada vez mais sendo obtida única e exclusivamente com base nos dados. As pessoas não precisam aprender sobre os dados, mas sim usar as ferramentas computacionais que vão aprender sobre os mesmos e elaborar o modelo de solução.\n",
        "\n",
        "<img src='https://raw.githubusercontent.com/guilhermepelegrina/Mackenzie/main/Aulas/Figuras/fig_paradigma_ml.jpg' width=\"500\">\n",
        "\n",
        "Fonte: Goulet, J.-A. (2020), Probabilistic Machine Learning for Civil Engineers, The MIT press.\n",
        "<br/><br/>\n",
        "Veja, também, esse artigo para um estudo mais aprofundado sobre essa *era da tomada de decisão baseada em dados*: [The age of analytics: Competing in a data-driven world](https://www.mckinsey.com/~/media/mckinsey/industries/public%20and%20social%20sector/our%20insights/the%20age%20of%20analytics%20competing%20in%20a%20data%20driven%20world/mgi-the-age-of-analytics-full-report.pdf)"
      ],
      "metadata": {
        "id": "S53N40Vj4bik"
      }
    },
    {
      "cell_type": "markdown",
      "source": [
        "# **Apenas se basear em dados é suficiente?**\n",
        "\n",
        "Embora a construção do modelo de Aprendizado de Máquina não necessita da interferência humana (em sua essência), a presença do profissional no seu desenvolvimento é fundamental para evitar alguns \"inconvenientes\":\n",
        "\n",
        "- Os dados são suficientes e estão sendo usados da forma correta? [Viés do sobrevivente](https://comoinvestir.thecap.com.br/vies-de-sobrevivente#:~:text=O%20que%20%C3%A9%20Vi%C3%A9s%20de%20Sobrevivente%3F,e%20esquecer%20outros%20fatores%20importantes.)\n",
        "\n",
        "- Os dados carregam e estão propagando desigualdades? [Michine bias](https://www.propublica.org/article/machine-bias-risk-assessments-in-criminal-sentencing)\n"
      ],
      "metadata": {
        "id": "1Bat2Nd_i6y_"
      }
    },
    {
      "cell_type": "markdown",
      "source": [
        "# **Decisões baseadas em dados sempre existiu?**\n",
        "\n",
        "\"Ciência de Dados\" existe há décadas, mas alguns fatores levaram ao aumento da procura por tal ferramental nos últimos anos:\n",
        "\n",
        "- Aumento da demanda por soluções inteligentes,\n",
        "\n",
        "- Disponibilidade de dados para auxílio à tomada de decisão,\n",
        "\n",
        "- Desenvolvimento de ferramentas e plataformas de programação para resolver os mais diversos tipos de problemas,\n",
        "\n",
        "- Capacidade computacional capaz de resolver problemas complexos.\n",
        "\n",
        "<img src='https://raw.githubusercontent.com/guilhermepelegrina/Mackenzie/main/Aulas/Figuras/fig_eng_prod_lei_moore.jpg' width=\"500\">"
      ],
      "metadata": {
        "id": "g1ASAk-RSzG5"
      }
    },
    {
      "cell_type": "markdown",
      "source": [
        "- **Entendimento do negócio**: Nesta etapa, buscamos compreender as necessidades do negócio e objetivos do projeto. A partir deste entendimento, formulamos o problema de Ciência de Dados que iremos lidar, que pode ser desde uma simples visualizão de dados como a construção de uma ferramenta complexa de aprendizado de máquina). Nesta formulação, avaliamos as fontes de dados, os riscos envolvidos e produzimos o plano a ser seguido. É importante ser realista em relação aos objetivos, uma vez que devemos alcançá-lo a partir dos dados disponíveis ou que poderão ser colatados.\n",
        "\n",
        "- **Entendimento dos Dados**: Esta etapa se incia pela coleta dos dados e entendimento dos mesmos, verificando se são suficientes e adequados para lidar com o problema abordado. Também podemos realizar análises iniciais sobre os dados e extrair informações/resultados preliminares.\n",
        "\n",
        "- **Preparação dos dados**: Nesta etapa, preparamos os dados para que eles estejam na forma adequada para a próxima etapa (modelagem). Tarefas como seleção, transformação e limpeza (*outliers*, dados faltantes) de dados são características dessa etapa. Note que, em muitos casos, essa e a etapa anterioir constituem a Análise Exploratória dos Dados, ou seja, um assunto explorado no semestre anterior (disciplina de Análise de Dados). Além disso, a etapa anterior e (principalmente) esta são as que consomem mais esforço no projeto (cerca de 70 a 80%), uma vez que são responsáveis por adquirir e preparar as informações que serão utilizadas na construção do modelo.\n",
        "\n",
        "- **Modelagem**: Esta etapa consiste na criação do modelo em sim. Avaliamos qual método mais se adequa ao problema abordado e, com bases nos dados coletados e preparados, criamos o modelo. É nessa etapa que empregamos os conhecimentos que serão vistos neste semestre, durante a disciplina de TIC.\n",
        "\n",
        "- **Avaliação**: Nesta etapa, aplicamos o modelo de solução proposto e avaliamos os resultados obtidos. Aqui, validamos se o que foi alcançado como resultado satisfaz os objetivos pretendidos no início do processo. Caso algum objetivo não tenha sido atendido, revemos o nosso plano, determinamos os próximos passos e buscamos por uma nova rodada de etapas.\n",
        "\n",
        "- **Aplicação**: Nesta etapa, implementamos a solução. A fim de assegurar o funcionamento contínuo do projeto, também construímos (se for o caso) o plano de monitoramento. Além disso, revisamos o projeto para se assegurar que todos os objetivos foram atendidos e produzimos a documentação final."
      ],
      "metadata": {
        "id": "OxuzdZ9ckgDG"
      }
    },
    {
      "cell_type": "markdown",
      "source": [
        "# **Linguagem e ambientes de programação**\n",
        "\n",
        "Tanto para Análise de Dados quanto para a criação de modelos de Aprendizado de Máquina, é comum usarmos linguagens de programação que facilitam a implementação dos métodos e resolução dos problemas.\n",
        "<br/><br/>\n",
        "Há diversas linguagens de programação, cada uma com suas características próprias acerca de facilidade de programação, capacidade de resolução de problemas e licença para uso do software. Alguns exemplos são: C++, [Python](https://www.python.org/), [R](https://www.r-project.org/) e [Matlab](https://www.mathworks.com/products/matlab.html).\n",
        "<br/><br/>\n",
        "Nesta disciplina, usaremos o Python, uma linguagem de programação de código aberto (gratuito) e que já dispõe de diversos pacotes e funções específicas para resolver os mais variados problemas envolvendo dados (dentre outras coisas).\n",
        "<br/><br/>\n",
        "Para programar em Python, é muito comum usarmos interpretadores interativos, como o [Jupyter Notebook](https://jupyter.org/) ou [Google Colab](https://colab.research.google.com/). Uma das principais diferenças entre os dois é que o Google Colab pode ser usado de qualuer computador, sem a necessidade da instalação do Python. Isso porque o Google Colab funciona na nuvem e o programa roda no Google. Nesta disciplina, usaremos o Google Colab tantos nas aulas quanto (essa é uma sugestão) nos trabalhos."
      ],
      "metadata": {
        "id": "Zi4eKw2ZlRS-"
      }
    },
    {
      "cell_type": "markdown",
      "source": [
        "**Referências**\n",
        "\n",
        "LIMA, M. C. J.; ALMEIDA, R. M.; VALIM, S. R.; MIRANDA, W. M. A Importância da Análise de Dados na Engenharia de Produção. In: XLI ENCONTRO NACIONAL DE ENGENHARIA DE PRODUÇÃO (ENEGEP), Foz do Iguaçu, Paraná, Brasil, 2021.\n",
        "<br/><br/>\n",
        "KOTU, V.; DESHPANDE, B. Data science: concepts and practice. Morgan Kaufmann, 2018. Acesso pelo [link](https://www.sciencedirect.com/science/article/pii/B9780128147610000010).\n",
        "<br/><br/>\n",
        "RAUTENBERG, S.; CARMO, P. R. V. Big Data e Ciência de Dados: Complementariedade Conceitual no Processo de Tomada de Decisão. Brazilian Journal of Information Studies, v. 13 (1), p. 56-67, 2019.\n",
        "\n",
        "\n"
      ],
      "metadata": {
        "id": "vH07mQKemD6s"
      }
    }
  ]
}