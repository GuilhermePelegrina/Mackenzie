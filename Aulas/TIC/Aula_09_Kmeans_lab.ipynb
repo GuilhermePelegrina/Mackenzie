{
  "nbformat": 4,
  "nbformat_minor": 0,
  "metadata": {
    "colab": {
      "provenance": [],
      "authorship_tag": "ABX9TyP9WILvqKh1GXtzJaHH57Zv",
      "include_colab_link": true
    },
    "kernelspec": {
      "name": "python3",
      "display_name": "Python 3"
    },
    "language_info": {
      "name": "python"
    }
  },
  "cells": [
    {
      "cell_type": "markdown",
      "metadata": {
        "id": "view-in-github",
        "colab_type": "text"
      },
      "source": [
        "<a href=\"https://colab.research.google.com/github/GuilhermePelegrina/Mackenzie/blob/main/Aulas/TIC/Aula_09_Kmeans_lab.ipynb\" target=\"_parent\"><img src=\"https://colab.research.google.com/assets/colab-badge.svg\" alt=\"Open In Colab\"/></a>"
      ]
    },
    {
      "cell_type": "markdown",
      "source": [
        "<img src='https://raw.githubusercontent.com/guilhermepelegrina/Mackenzie/main/logo_mackenzie.png'>\n"
      ],
      "metadata": {
        "id": "nYSzUrZr-BG8"
      }
    },
    {
      "cell_type": "markdown",
      "source": [
        "# **Atividade Prática - K-means**\n",
        "\n",
        "Para esta atividade prática sobre K-means, usaremos a base de dados [Seeds](https://archive.ics.uci.edu/dataset/236/seeds). Use o link abaixo para ler os dados dessa atividade prática:\n",
        "\n",
        "https://raw.githubusercontent.com/guilhermepelegrina/Mackenzie/main/Datasets/data_adult_seeds_cluster.csv\n",
        "\n",
        "Essa base de dados contém os seguintes atributos descrevendo variedades de grãos de trigo:\n",
        "\n",
        "1. área,\n",
        "2. perímetro,\n",
        "3. compacidade,\n",
        "4. comprimento do kernel,\n",
        "5. largura do kernel,\n",
        "6. coeficiente de assimetria,\n",
        "7. comprimento da ranhura do kernel.\n",
        "\n",
        "Cada linha representa um grão de trigo. O intuito é agrupar esses grãos com base em medidas de similaridade usando o K-means.\n",
        "\n",
        "Agora, responda as questões no Moodle (Atividades Práticas - K-means).\n",
        "\n",
        "**Lembre-se:** Importe os pacotes que serão utilizados nessa atividade!"
      ],
      "metadata": {
        "id": "wbF7Rg1O-D8N"
      }
    },
    {
      "cell_type": "code",
      "source": [
        "#@markdown Execute este código para realizar as análises que se seguem.\n",
        "\n",
        "# set up environment T11\n",
        "#\n",
        "\n",
        "#\n",
        "# import basics\n",
        "#\n",
        "\n",
        "import pandas                  as pd\n",
        "import numpy                   as np\n",
        "import matplotlib.pyplot       as plt\n",
        "import warnings\n",
        "import os\n",
        "import seaborn as sns\n",
        "warnings.filterwarnings(\"ignore\")\n",
        "sns.set()\n",
        "\n",
        "# import plotly as py\n",
        "# import plotly.graph_objs as go\n",
        "from sklearn.cluster import KMeans\n",
        "\n",
        "# Linear\n",
        "#-------------------------------------------------------------------------------\n",
        "\n",
        "# a little bit dirty here... just for this case...\n",
        "from scipy.spatial import distance\n",
        "def kmeansL(X,k=2,max_iterations=100,pos=[2,8]):\n",
        "    f = plt.figure(figsize=(10, 3))\n",
        "    # plt.axis('off')\n",
        "    plt.yticks([])\n",
        "    plt.ylim([-2.5,0.5])\n",
        "    # plt.xlim([0,70])\n",
        "    if isinstance(X, pd.DataFrame):X = X.values\n",
        "    idx = np.array(pos) # np.random.choice(len(X), k, replace=False)\n",
        "    centroids = X[idx, :]\n",
        "    print(list(X.T))\n",
        "    print(centroids)\n",
        "    P = np.argmin(distance.cdist(X, centroids, 'euclidean'),axis=1)\n",
        "    print(P)\n",
        "    zeros = np.full((len(X)), 0, dtype=int)\n",
        "    sns.scatterplot(X[:,0],zeros, hue=P,legend=None,marker='o',s=50)\n",
        "    sns.scatterplot(centroids[:,0],zeros[0:2], legend=None,color='black',s=100)\n",
        "    plt.text(centroids[0,0],zeros[0:1]-0.2,'C1 =' + str(np.round(centroids[0,0],1)))\n",
        "    plt.text(centroids[1,0],zeros[0:1]-0.2,'C2 =' + str(np.round(centroids[1,0],1)))\n",
        "    plt.text(15,zeros[0:1]+0.2,'i = ' + str(0))\n",
        "    for j in range(max_iterations):\n",
        "        centroids = np.vstack([X[P==i,:].mean(axis=0) for i in range(k)])\n",
        "        print(centroids)\n",
        "        tmp = np.argmin(distance.cdist(X, centroids, 'euclidean'),axis=1)\n",
        "        if np.array_equal(P,tmp):break\n",
        "        P = tmp\n",
        "        print(X.T)\n",
        "        print(P)\n",
        "        zeros = np.full((len(X)), -(j+1) , dtype=int)\n",
        "        sns.scatterplot(X[:,0],zeros, hue=P,legend=None,marker='o',s=50)\n",
        "        sns.scatterplot(centroids[:,0],zeros[0:2], legend=None,color='black',s=100)\n",
        "        plt.text(centroids[0,0],zeros[0:1]-0.2,'C1 =' + str(np.round(centroids[0,0],1)))\n",
        "        plt.text(centroids[1,0],zeros[0:1]-0.2,'C2 =' + str(np.round(centroids[1,0],1)))\n",
        "        plt.text(15,zeros[0:1]+0.2,'i = ' + str(j+1))\n",
        "\n",
        "    return P # , X, centroids\n",
        "\n",
        "'''\n",
        "P, PP, centroids = kmeansL(X,k=2,pos=[2,8])\n",
        "P, PP, centroids = kmeansL(X,k=2,pos=[2,18])\n",
        "P, PP, centroids = kmeansL(X,k=2,pos=[5,18])\n",
        "P, PP, centroids = kmeansL(X,k=2,pos=[12,15])\n",
        "'''\n",
        "\n",
        "# Spacial\n",
        "#-------------------------------------------------------------------------------\n",
        "\n",
        "from sklearn.metrics import pairwise_distances_argmin\n",
        "\n",
        "def find_clusters(X, n_clusters, rseed=2):\n",
        "    # 1. Randomly choose clusters\n",
        "    rng = np.random.RandomState(rseed)\n",
        "    i = rng.permutation(X.shape[0])[:n_clusters]\n",
        "    centers = X[i]\n",
        "\n",
        "    j=0\n",
        "\n",
        "    while True:\n",
        "        # 2a. Assign labels based on closest center\n",
        "        labels = pairwise_distances_argmin(X, centers)\n",
        "\n",
        "        # 2b. Find new centers from means of points\n",
        "        new_centers = np.array([X[labels == i].mean(0)\n",
        "                                for i in range(n_clusters)])\n",
        "\n",
        "        # 2c. Check for convergence\n",
        "        if np.all(centers == new_centers):\n",
        "            break\n",
        "        centers = new_centers\n",
        "\n",
        "        f = plt.figure(figsize=(5, 5))\n",
        "        plt.scatter(X[:, 0], X[:, 1], c=labels,\n",
        "            s=50, cmap='viridis');\n",
        "        plt.scatter(centers[:, 0], centers[:, 1], c='black', s=200, alpha=0.85);\n",
        "\n",
        "        plt.text(centers[0, 0]-0.3, centers[0, 1]+0.3, 'C1', fontsize=16, fontweight='bold')\n",
        "        plt.text(centers[1, 0]-0.3, centers[1, 1]+0.3, 'C2', fontsize=16, fontweight='bold')\n",
        "        plt.text(centers[2, 0]-0.3, centers[2, 1]+0.3, 'C3', fontsize=16, fontweight='bold')\n",
        "        plt.text(centers[3, 0]-0.3, centers[3, 1]+0.3, 'C4', fontsize=16, fontweight='bold')\n",
        "\n",
        "        plt.title('Kmeans, Iteração i= ' + str(j))\n",
        "        j=j + 1\n",
        "\n",
        "        plt.show()\n",
        "    return centers, labels\n",
        "\n",
        "# centers, labels = find_clusters(X, 4)\n",
        "\n",
        "print('Set Up completed!')\n"
      ],
      "metadata": {
        "cellView": "form",
        "id": "eN7wH30xKsaC",
        "colab": {
          "base_uri": "https://localhost:8080/"
        },
        "outputId": "9a214949-18e5-455c-c39a-9c8d638b6cec"
      },
      "execution_count": null,
      "outputs": [
        {
          "output_type": "stream",
          "name": "stdout",
          "text": [
            "Set Up completed!\n"
          ]
        }
      ]
    },
    {
      "cell_type": "markdown",
      "source": [
        "**Questão 1.** Encontre o número de clusters \"ótimo\" para agrupar os dados. Para isso, lembre-se de executar as células contidas no notebook da atividade prática. Além disso, considere `random_state = 0` na função `KMeans(...)`. Qual o número de clusters ótimo com base no método do cotovelo (*Elbow*)."
      ],
      "metadata": {
        "id": "Ly3Y6z42bHyj"
      }
    },
    {
      "cell_type": "markdown",
      "source": [
        "**Questão 2.** Independentemente da resposta da questão 1, considere, agora o número de clusters ideal como 3. Aplique o método do K-means com `random_state = 0`. O primeiro grão de trigo dessa amostra de dados pertence a qual cluster?\n",
        "\n",
        "Independentemente da resposta da questão 1, considere, agora o número de clusters ideal como 3. Aplique o método do K-means com `random_state = 0`. O último grão de trigo dessa amostra de dados pertence a qual cluster?"
      ],
      "metadata": {
        "id": "fW-FOTBP-pN1"
      }
    },
    {
      "cell_type": "markdown",
      "source": [
        "**Questão 3.** Indique a coordenada associada ao atributo `area` de um dos centróides obtidos pelo método do K-means.\n",
        "\n",
        "Indique a coordenada associada ao atributo `perimeter` de um dos centróides obtidos pelo método do K-means.\n",
        "\n",
        "Indique a coordenada associada ao atributo `compactness` de um dos centróides obtidos pelo método do K-means.\n",
        "\n",
        "Indique a coordenada associada ao atributo `length_kernel` de um dos centróides obtidos pelo método do K-means.\n",
        "\n",
        "Indique a coordenada associada ao atributo `width` de um dos centróides obtidos pelo método do K-means."
      ],
      "metadata": {
        "id": "h31BE4D7VVEI"
      }
    },
    {
      "cell_type": "markdown",
      "source": [
        "**Questão 4.** Qual a porcentagem de grãos de trigo que foram agrupados no cluster 2?\n",
        "\n",
        "Qual a porcentagem de grãos de trigo que foram agrupados no cluster 1?\n",
        "\n",
        "Qual a porcentagem de grãos de trigo que foram agrupados no cluster 0?"
      ],
      "metadata": {
        "id": "ui5OLDVKbkDA"
      }
    },
    {
      "cell_type": "markdown",
      "source": [
        "**Questão 5.** Dentre os clusters obtidos, qual deles contém os grãos de trigo que, em média, possuem os menores perímetros?\n",
        "\n",
        "Dentre os clusters obtidos, qual deles contém os grãos de trigo que, em média, possuem as maiores áreas?\n",
        "\n",
        "Dentre os clusters obtidos, qual deles contém os grãos de trigo que, em média, possuem as menores larguras do kernel?\n",
        "\n",
        "Dentre os clusters obtidos, qual deles contém os grãos de trigo que, em média, possuem as menores compacidades?\n",
        "\n",
        "Dentre os clusters obtidos, qual deles contém os grãos de trigo que, em média, possuem os maiores comprimentos do kernel?\n"
      ],
      "metadata": {
        "id": "jY8VXj7M5WjN"
      }
    }
  ]
}