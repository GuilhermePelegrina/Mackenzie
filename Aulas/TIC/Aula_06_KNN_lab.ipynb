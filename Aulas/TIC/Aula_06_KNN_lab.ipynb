{
  "nbformat": 4,
  "nbformat_minor": 0,
  "metadata": {
    "colab": {
      "provenance": [],
      "authorship_tag": "ABX9TyOOFXuxnjiBO/ugd2js53pz",
      "include_colab_link": true
    },
    "kernelspec": {
      "name": "python3",
      "display_name": "Python 3"
    },
    "language_info": {
      "name": "python"
    }
  },
  "cells": [
    {
      "cell_type": "markdown",
      "metadata": {
        "id": "view-in-github",
        "colab_type": "text"
      },
      "source": [
        "<a href=\"https://colab.research.google.com/github/GuilhermePelegrina/Mackenzie/blob/main/Aulas/TIC/Aula_06_KNN_lab.ipynb\" target=\"_parent\"><img src=\"https://colab.research.google.com/assets/colab-badge.svg\" alt=\"Open In Colab\"/></a>"
      ]
    },
    {
      "cell_type": "markdown",
      "source": [
        "<img src='https://raw.githubusercontent.com/guilhermepelegrina/Mackenzie/main/logo_mackenzie.png'>\n"
      ],
      "metadata": {
        "id": "tRnsRmTFNWRw"
      }
    },
    {
      "cell_type": "markdown",
      "source": [
        "# **Atividade Prática - KNN**"
      ],
      "metadata": {
        "id": "ZGL5kIBuNXx0"
      }
    },
    {
      "cell_type": "markdown",
      "source": [
        "## Relembrando a estrutura de Modelos de Classificação"
      ],
      "metadata": {
        "id": "09TVzzGXNnPv"
      }
    },
    {
      "cell_type": "markdown",
      "source": [
        "Separando variáveis independentes das dependentes\n",
        "\n",
        "`X = df[['coluna1','coluna2']] : Dados de entrada (informações que descrevem um rótulo ou classe)`\n",
        "`y = df[['coluna3']] Dados de saída (rótulos ou classes, em problemas de classificação)`\n",
        "\n",
        "Separando em treino e Teste (30% para Teste)\n",
        "\n",
        "`X_train, X_test, y_train, y_test = train_test_split(X, y, test_size=0.3, random_state=1)`\n",
        "\n",
        "\n",
        "Declarando o modelo\n",
        "\n",
        "`model = neighbors.KNeighborsClassifier(k)`\n",
        "\n",
        "\n",
        "padroniza os dados para que a média seja 0 e o desvio padrão seja 1.\n",
        "\n",
        "`X_train_padronizados = (X-X.mean())/X.std()`\n",
        "\n",
        "\n",
        "Treinando o modelo (com o conjunto de Treino padronizado!)\n",
        "\n",
        "`model.fit(X_train_padronizados,y_train)`\n",
        "\n",
        "\n",
        "Utilizando o modelo para prever novos casos\n",
        "\n",
        "`y_pred=model.predict(X_test)`\n",
        "\n",
        "\n",
        "Visualizando os resultados\n",
        "\n",
        "`cnf_matrix = metrics.confusion_matrix(y_test, y_pred)`\n",
        "`cnf_matrix`"
      ],
      "metadata": {
        "id": "UI6xV_azVpCM"
      }
    },
    {
      "cell_type": "markdown",
      "source": [
        "# Base de dados: Palmer Penguins!\n"
      ],
      "metadata": {
        "id": "JJsyN6k1fO6N"
      }
    },
    {
      "cell_type": "markdown",
      "source": [
        "A base de dados \"Palmer Penguins\" contém informações sobre pinguins coletadas na Península de Palmer, na Antártica. Aqui está uma descrição das colunas presentes neste conjunto de dados:\n",
        "\n",
        "- species: A espécie do pinguim\n",
        "- island: A ilha onde o pinguim foi observado\n",
        "- bill_length_mm: O comprimento do bico do pinguim em milímetros.\n",
        "- bill_depth_mm: A profundidade do bico do pinguim em milímetros.\n",
        "- flipper_length_mm: O comprimento da nadadeira do pinguim em milímetros.\n",
        "- body_mass_g: A massa corporal do pinguim em gramas.\n",
        "- sex: O sexo do pinguim."
      ],
      "metadata": {
        "id": "OQ3WRCHJh8yi"
      }
    },
    {
      "cell_type": "code",
      "source": [
        "import pandas as pd\n",
        "dados = pd.read_csv(\"https://raw.githubusercontent.com/guilhermepelegrina/Mackenzie/main/Datasets/data_palmer_penguins.csv\")\n",
        "dados.head()"
      ],
      "metadata": {
        "id": "97RVu_cDfkAD"
      },
      "execution_count": null,
      "outputs": []
    },
    {
      "cell_type": "markdown",
      "source": [
        "Repare o número de linhas nessa conjunto de dados."
      ],
      "metadata": {
        "id": "-GJIKghMTzg_"
      }
    },
    {
      "cell_type": "code",
      "source": [
        "dados.shape"
      ],
      "metadata": {
        "id": "Kxpws-6CT232"
      },
      "execution_count": null,
      "outputs": []
    },
    {
      "cell_type": "markdown",
      "source": [
        "# Atenção!\n",
        "\n",
        "Antes de começar o exercício, repare que há dados faltantes (ou colunas com células vazias) nesse conuuntode dados."
      ],
      "metadata": {
        "id": "skdmJPx4TGZV"
      }
    },
    {
      "cell_type": "code",
      "source": [
        "# Valores nulos\n",
        "dados.isnull().sum()"
      ],
      "metadata": {
        "id": "DJKSZEavfmQD"
      },
      "execution_count": null,
      "outputs": []
    },
    {
      "cell_type": "markdown",
      "source": [
        "Para continuar usando esse conjunto de dados, primeiramente, exclua as linhas que contém células vazias. O comando seguinte faz essa tarefa. Repare que o número de linhas diminuiu."
      ],
      "metadata": {
        "id": "O9JqLSWoTcbe"
      }
    },
    {
      "cell_type": "code",
      "source": [
        "# Dados sem valores nulos\n",
        "dados = dados.dropna()\n",
        "dados.shape"
      ],
      "metadata": {
        "id": "ykVENyK1foyX"
      },
      "execution_count": null,
      "outputs": []
    },
    {
      "cell_type": "markdown",
      "source": [
        "Agora, responda as questões no Moodle (Atividades Práticas - KNN).\n",
        "\n",
        "**Lembre-se:** Importe os pacotes que serão utilizados nessa atividade!"
      ],
      "metadata": {
        "id": "DPuJMLfoT8jL"
      }
    }
  ]
}