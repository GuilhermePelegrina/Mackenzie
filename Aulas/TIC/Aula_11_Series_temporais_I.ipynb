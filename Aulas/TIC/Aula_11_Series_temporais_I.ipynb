{
  "cells": [
    {
      "cell_type": "markdown",
      "metadata": {
        "id": "view-in-github",
        "colab_type": "text"
      },
      "source": [
        "<a href=\"https://colab.research.google.com/github/GuilhermePelegrina/Mackenzie/blob/main/Aulas/TIC/Aula_11_Series_temporais_I.ipynb\" target=\"_parent\"><img src=\"https://colab.research.google.com/assets/colab-badge.svg\" alt=\"Open In Colab\"/></a>"
      ]
    },
    {
      "cell_type": "markdown",
      "metadata": {
        "id": "gglUriLmo1sR"
      },
      "source": [
        "<head>\n",
        "  <meta name=\"author\" content=\"Rogério de Oliveira\">\n",
        "  <meta institution=\"author\" content=\"Universidade Presbiteriana Mackenzie\">\n",
        "</head>\n",
        "\n",
        "<img src=\"http://meusite.mackenzie.br/rogerio/mackenzie_logo/UPM.2_horizontal_vermelho.jpg\" width=300, align=\"left\">\n",
        "<!-- <h1 align=left><font size = 6, style=\"color:rgb(200,0,0)\"> optional title </font></h1> -->"
      ]
    },
    {
      "cell_type": "markdown",
      "metadata": {
        "id": "06noRfWHp0of"
      },
      "source": [
        "# **Séries Temporais I**\n",
        "\n",
        "Uma série temporal é uma sequência de observações ou medidas feitas em um mesmo objeto ou fenômeno em intervalos de tempo igualmente espaçados. Essas observações são coletadas e registradas em função do tempo. Em outras palavras, uma série temporal é uma coleção de dados organizados ao longo do tempo, o que permite analisar tendências, padrões, sazonalidades e outros comportamentos que possam ocorrer em diferentes escalas de tempo.\n",
        "\n",
        "<img src='https://raw.githubusercontent.com/guilhermepelegrina/Mackenzie/main/Aulas/Figuras/fig_series_temporais_1.png' width=\"600\">\n",
        "\n",
        "As séries temporais são amplamente usadas em várias disciplinas, como econometria, meteorologia, finanças, engenharia e muitas outras, para analisar e prever o comportamento de fenômenos que evoluem com o tempo. Elas desempenham um papel fundamental na modelagem estatística e na tomada de decisões com base no histórico de dados."
      ]
    },
    {
      "cell_type": "markdown",
      "source": [
        "# Estacionariedade"
      ],
      "metadata": {
        "id": "guKz4OjeakQz"
      }
    },
    {
      "cell_type": "markdown",
      "source": [
        "A média e a variância de processos estacionários são constantes ao longo do tempo, intuitivamente isto significa que as observações se desenvolvem aleatoriamente entorno de um certo nível com variabilidade constante."
      ],
      "metadata": {
        "id": "v6tZ1KwQbLIk"
      }
    },
    {
      "cell_type": "code",
      "source": [
        "import pandas as pd\n",
        "import numpy as np\n",
        "import matplotlib.pyplot as plt\n",
        "import seaborn as sns\n",
        "import scipy.stats as stats\n",
        "import warnings\n",
        "warnings.filterwarnings('ignore')"
      ],
      "metadata": {
        "id": "GeV_RJ4qseCY"
      },
      "execution_count": null,
      "outputs": []
    },
    {
      "cell_type": "code",
      "source": [
        "# Séries temporais\n",
        "df_1 = pd.read_excel(\"https://www.orlandoalbarracin.com.br/phyton/Series.xlsx\", sheet_name=\"dolar\") #Economial UOL - diária\n",
        "df_2 = pd.read_excel(\"https://www.orlandoalbarracin.com.br/phyton/Series.xlsx\", sheet_name=\"Exportações\") #IBGE - Trimestral\n"
      ],
      "metadata": {
        "id": "mn0O_-3JbWns"
      },
      "execution_count": null,
      "outputs": []
    },
    {
      "cell_type": "code",
      "source": [
        "#@markdown Gráfico das séries\n",
        "import matplotlib.dates as mdates\n",
        "\n",
        "index_dates1 = pd.date_range(start='7/2/2018', end='12/31/2019', freq='B')\n",
        "index_dates2 = pd.date_range(start='3/1/1996', end='12/31/2021', freq='3M')\n",
        "\n",
        "df_1.index=index_dates1\n",
        "df_2.index=index_dates2\n",
        "\n",
        "fig, (ax1, ax2) = plt.subplots(1, 2,figsize=(12,4))\n",
        "\n",
        "ax1.plot(df_1.index.to_pydatetime(), df_1[\"Var\"], c='orange')\n",
        "ax1.xaxis.set_major_locator(mdates.MonthLocator([4,8,12]))\n",
        "ax1.xaxis.set_major_formatter(mdates.DateFormatter('%d-%b-%y'))\n",
        "ax1.set_title('Variação diária da cotação do dólar',fontdict = {'fontsize' : 12})\n",
        "ax1.set_xlabel('\\n Série \"estacionária\"',fontdict = {'fontsize' : 11},color=\"olive\")\n",
        "\n",
        "ax1.set_ylim([-4, 4]);\n",
        "\n",
        "ax2.plot(df_2.index, df_2.Exportações)\n",
        "ax2.set_title('Exportação de bens e serviços \\n Valores a preços correntes (Milhões de Reais)',fontdict = {'fontsize' : 12})\n",
        "ax2.set_xlabel('\\n Série não estacionária \\n (com tedência)',fontdict = {'fontsize' : 11},color=\"darkblue\")\n"
      ],
      "metadata": {
        "id": "RLSZfvuNbdaK"
      },
      "execution_count": null,
      "outputs": []
    },
    {
      "cell_type": "markdown",
      "source": [
        "### Teste Augmented Dickey-Fuller (ADF)"
      ],
      "metadata": {
        "id": "Xo9PAFO9ao2P"
      }
    },
    {
      "cell_type": "markdown",
      "source": [
        "O teste de Dickey-Fuller Aumentado (ADF) é um teste estatístico comumente usado para verificar a presença de uma tendência estocástica em uma série temporal."
      ],
      "metadata": {
        "id": "WaAjXrk1dMnp"
      }
    },
    {
      "cell_type": "markdown",
      "source": [
        "$$H_0: \\text{A série não é estacionária}$$\n",
        "$$H_1: \\text{A série é estacionária}$$"
      ],
      "metadata": {
        "id": "Mv26ImencsDt"
      }
    },
    {
      "cell_type": "markdown",
      "source": [
        "Se o valor-p for menor que um determinado nível de significância (geralmente 0,05), então rejeitamos a hipótese nula e concluímos que a série é estacionária, ou seja, não possui uma tendência estocástica significativa."
      ],
      "metadata": {
        "id": "BYGdwRmHdOBf"
      }
    },
    {
      "cell_type": "code",
      "source": [
        "from statsmodels.tsa.stattools import adfuller\n",
        "\n",
        "result = adfuller(df_1.Var)\n",
        "print('p-value: %f' % result[1])"
      ],
      "metadata": {
        "id": "6WfLIhpJdYhd"
      },
      "execution_count": null,
      "outputs": []
    },
    {
      "cell_type": "code",
      "source": [
        "#  Exportações\n",
        "from statsmodels.tsa.stattools import adfuller\n",
        "\n",
        "result = adfuller(df_2.Exportações)\n",
        "print('p-value: %f' % result[1])"
      ],
      "metadata": {
        "id": "aSe67Tw2cV8P"
      },
      "execution_count": null,
      "outputs": []
    },
    {
      "cell_type": "markdown",
      "source": [
        "#Decomposição de séries temporais"
      ],
      "metadata": {
        "id": "KRY8rEFc0SsO"
      }
    },
    {
      "cell_type": "markdown",
      "source": [
        "A decomposição de uma série temporal é o processo de separar a série em diferentes componentes: tendência, sazonalidade e componente aleatório, isto permite a detecção de padrões, identificação de tendências e sazonalidades, e auxiliando na previsão de valores da série.\n",
        "\n",
        "<img src='https://raw.githubusercontent.com/guilhermepelegrina/Mackenzie/main/Aulas/Figuras/fig_series_temporais_2.png' width=\"600\">\n",
        "\n",
        "*   **Tendência**  direção geral dos dados ao longo do tempo, indica se a série está aumentando, diminuindo ou permanecendo estável ao longo de um período de tempo.\n",
        "\n",
        "*   **Sazonalidade** refere-se a padrões que se repetem em períodos fixos de tempo, como estações do ano, dias da semana ou meses.\n",
        "\n",
        "*   **Componente aleatório (erro)**: representa a variabilidade não explicada pela tendência e sazonalidade.\n",
        "\n"
      ],
      "metadata": {
        "id": "BmgYbSE51UGo"
      }
    },
    {
      "cell_type": "markdown",
      "source": [
        "# Australian beer production e Airline Passenger Numbers"
      ],
      "metadata": {
        "id": "6NfMtXsj5cS-"
      }
    },
    {
      "cell_type": "markdown",
      "source": [
        "Produção mensal de cerveja na Austrália: megalitros. Não inclui bebidas com teor alcoólico inferior a 1,15."
      ],
      "metadata": {
        "id": "O9itezUZ3p1W"
      }
    },
    {
      "cell_type": "markdown",
      "source": [
        "###1.  Verifique visualmente se as séries apresentam tendências e/ou sazonalidades"
      ],
      "metadata": {
        "id": "F6t1FeCb5y8P"
      }
    },
    {
      "cell_type": "code",
      "source": [
        "# Lendo os dados\n",
        "import pandas as pd\n",
        "\n",
        "df = pd.read_csv(\"https://raw.githubusercontent.com/ejgao/Time-Series-Datasets/master/monthly-beer-production-in-austr.csv\")\n",
        "df2 = pd.read_csv(\"https://raw.githubusercontent.com/jbrownlee/Datasets/master/airline-passengers.csv\")\n",
        "df = df.iloc[48:252,:].reset_index(drop=True)"
      ],
      "metadata": {
        "id": "UXX9WYJu5yqE"
      },
      "execution_count": null,
      "outputs": []
    },
    {
      "cell_type": "code",
      "source": [
        "plt.figure(figsize=(12,5))\n",
        "\n",
        "plt.subplot(1,2,1)\n",
        "plt.plot(df[\"Monthly beer production\"])\n",
        "plt.title(\"Monthly beer production\")\n",
        "\n",
        "plt.subplot(1,2,2)\n",
        "plt.plot(df2[\"Passengers\"])\n",
        "plt.title(\"Airline Passenger Numbers\")\n",
        "\n",
        "plt.show()"
      ],
      "metadata": {
        "id": "ewB1Q8wnwZDB"
      },
      "execution_count": null,
      "outputs": []
    },
    {
      "cell_type": "markdown",
      "source": [
        "Observação:\n",
        "\n",
        "*   **Monthly beer production:**\n",
        "A variação sazonal parece constante; ela não muda quando o valor da série temporal aumenta. Devemos usar o modelo aditivo.\n",
        "$Valor = Tendência +  Sazonalidade + Erro$\n",
        "\n",
        "*   **Airline Passenger Numbers**\n",
        "À medida que a série temporal aumenta em magnitude, a variação sazonal também aumenta. Nesse caso, devemos usar o modelo multiplicativo. $ Valor = Tendência \\times Sazonalidade \\times Erro$\n",
        "\n"
      ],
      "metadata": {
        "id": "eEWlHaUu7GfA"
      }
    },
    {
      "cell_type": "markdown",
      "source": [
        "### 2. Faça uma análise descritiva da produção de cerveja por mês. Em qual mês a produção é maior e em qual é menor?"
      ],
      "metadata": {
        "id": "wcimfV_t72Hg"
      }
    },
    {
      "cell_type": "code",
      "source": [
        "# Vamos ver o formato da base de dados!\n",
        "df.head()"
      ],
      "metadata": {
        "id": "AzcGo6gQ8bbE"
      },
      "execution_count": null,
      "outputs": []
    },
    {
      "cell_type": "code",
      "source": [
        "df[['Ano', 'Mês']] = df['Month'].apply(lambda x: pd.Series(x.split('-')))\n",
        "df.drop(\"Month\", axis=1, inplace=True)"
      ],
      "metadata": {
        "id": "TQZQ3Jxf0KTe"
      },
      "execution_count": null,
      "outputs": []
    },
    {
      "cell_type": "code",
      "source": [
        "df.head()"
      ],
      "metadata": {
        "id": "75ZZ5GN484a9"
      },
      "execution_count": null,
      "outputs": []
    },
    {
      "cell_type": "code",
      "source": [
        "# Produção por mês!\n",
        "sns.boxplot(x=\"Mês\", y=\"Monthly beer production\", data=df)\n",
        "plt.show()"
      ],
      "metadata": {
        "id": "EACfUChS-nKt"
      },
      "execution_count": null,
      "outputs": []
    },
    {
      "cell_type": "markdown",
      "source": [
        "###3. Ajuste um modelo de regressão linear para a série produção de cerveja. Faça as previsões para o próximo ano. Comente!"
      ],
      "metadata": {
        "id": "AMUA1CFNBp3l"
      }
    },
    {
      "cell_type": "code",
      "source": [
        "# Vamos criar uma coluna com o tempo para ajustar o modelo de regressão\n",
        "\n",
        "df[\"time\"]=np.arange(len(df))\n",
        "df.head()"
      ],
      "metadata": {
        "id": "6kvZAY6CDzqh"
      },
      "execution_count": null,
      "outputs": []
    },
    {
      "cell_type": "code",
      "source": [
        "import statsmodels.formula.api as sm\n",
        "\n",
        "model = sm.ols(formula='df[\"Monthly beer production\"] ~ time', data=df)\n",
        "result = model.fit()\n",
        "print(result.summary())"
      ],
      "metadata": {
        "id": "kIUYDbFM-9wR"
      },
      "execution_count": null,
      "outputs": []
    },
    {
      "cell_type": "code",
      "source": [
        "# previsões 12 meses\n",
        "\n",
        "new_times = pd.DataFrame()\n",
        "new_times['time'] = np.arange(len(df), len(df) + 12)"
      ],
      "metadata": {
        "id": "Eu4tDOlkEPn0"
      },
      "execution_count": null,
      "outputs": []
    },
    {
      "cell_type": "code",
      "source": [
        "new_times['prediction'] = result.predict(new_times)\n",
        "new_times.head()"
      ],
      "metadata": {
        "id": "TO4DqLT4EZW0"
      },
      "execution_count": null,
      "outputs": []
    },
    {
      "cell_type": "code",
      "source": [
        "plt.plot(df[\"Monthly beer production\"])\n",
        "sns.lineplot(x='time', y='prediction', data=new_times, color='red')"
      ],
      "metadata": {
        "id": "32oLBxFGEptM"
      },
      "execution_count": null,
      "outputs": []
    },
    {
      "cell_type": "markdown",
      "source": [
        "### 4. Faça a decomposição da série. Comente!"
      ],
      "metadata": {
        "id": "UUEu2I-vJhJN"
      }
    },
    {
      "cell_type": "code",
      "source": [
        "from statsmodels.tsa.seasonal import seasonal_decompose\n",
        "\n",
        "decomposition=seasonal_decompose(df[\"Monthly beer production\"],\n",
        "                                 model='additive',\n",
        "                                 period=12,\n",
        "                                 extrapolate_trend='freq')\n",
        "decomposition.plot();"
      ],
      "metadata": {
        "id": "DmCqowCFFUN1"
      },
      "execution_count": null,
      "outputs": []
    },
    {
      "cell_type": "markdown",
      "source": [
        "### 5. Analise os decompostos (tend+saz+resid) dos valores da série em janeiro e dezembro de 1961."
      ],
      "metadata": {
        "id": "r-zfbiQJNmlI"
      }
    },
    {
      "cell_type": "code",
      "source": [
        "# Obter os componentes da decomposição\n",
        "\n",
        "trend = decomposition.trend\n",
        "seasonal = decomposition.seasonal\n",
        "residual = decomposition.resid"
      ],
      "metadata": {
        "id": "dCi9UVUAINNj"
      },
      "execution_count": null,
      "outputs": []
    },
    {
      "cell_type": "code",
      "source": [
        "df[\"trend\"]=trend\n",
        "df[\"seasonal\"]=seasonal\n",
        "df[\"residual\"]=residual"
      ],
      "metadata": {
        "id": "095OQLwzKJbQ"
      },
      "execution_count": null,
      "outputs": []
    },
    {
      "cell_type": "code",
      "source": [
        "df.head()"
      ],
      "metadata": {
        "id": "KemwseGCMvyG"
      },
      "execution_count": null,
      "outputs": []
    },
    {
      "cell_type": "code",
      "source": [
        "df[(df.Ano==\"1961\") & (df.Mês==\"01\")]"
      ],
      "metadata": {
        "id": "5v088O9RJrSW"
      },
      "execution_count": null,
      "outputs": []
    },
    {
      "cell_type": "code",
      "source": [
        "df[(df.Ano==\"1961\") & (df.Mês==\"12\")]"
      ],
      "metadata": {
        "id": "lMOlZL0UNc9A"
      },
      "execution_count": null,
      "outputs": []
    },
    {
      "cell_type": "markdown",
      "source": [
        "###6. Verifique estatísticamente se os resíduos obtidos da decomposição da série são estacionários. Use $\\alpha=0,05$."
      ],
      "metadata": {
        "id": "2V3l5pHseNd4"
      }
    },
    {
      "cell_type": "code",
      "source": [
        "plt.plot(df.residual);"
      ],
      "metadata": {
        "id": "LL0ycD5DeMRy"
      },
      "execution_count": null,
      "outputs": []
    },
    {
      "cell_type": "code",
      "source": [
        "from statsmodels.tsa.stattools import adfuller\n",
        "\n",
        "result = adfuller(df.residual)\n",
        "print('p-value: %f' % result[1])"
      ],
      "metadata": {
        "id": "TrH7Ur-zeaJT"
      },
      "execution_count": null,
      "outputs": []
    },
    {
      "cell_type": "markdown",
      "source": [
        "## Exercício\n",
        "\n",
        "Faça as análises anteriores para prever o número de bicicletas alugadas ocasionalmente (coluna `casual`) usando o conjunto de dados [Bike Sharing](http://archive.ics.uci.edu/ml/datasets/Bike+Sharing+Dataset), disponível no link:\n",
        "\n",
        "https://raw.githubusercontent.com/guilhermepelegrina/Mackenzie/main/Datasets/data_bike_sharing_day.csv\n",
        "\n",
        "Verifique se há tendência e/ou sazonalidade, crie um modelo de regressão linear para prever o número de bicicletas alugadas casualmente, e faça a decomposição da série temporal."
      ],
      "metadata": {
        "id": "oq1ixzaP2zhN"
      }
    }
  ],
  "metadata": {
    "anaconda-cloud": {},
    "colab": {
      "provenance": [],
      "include_colab_link": true
    },
    "kernelspec": {
      "display_name": "Python 3",
      "language": "python",
      "name": "python3"
    },
    "language_info": {
      "codemirror_mode": {
        "name": "ipython",
        "version": 3
      },
      "file_extension": ".py",
      "mimetype": "text/x-python",
      "name": "python",
      "nbconvert_exporter": "python",
      "pygments_lexer": "ipython3",
      "version": "3.7.4"
    }
  },
  "nbformat": 4,
  "nbformat_minor": 0
}