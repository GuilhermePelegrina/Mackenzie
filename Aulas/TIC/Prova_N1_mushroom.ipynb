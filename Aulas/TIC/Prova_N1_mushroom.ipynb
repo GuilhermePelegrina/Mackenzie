{
  "nbformat": 4,
  "nbformat_minor": 0,
  "metadata": {
    "colab": {
      "provenance": [],
      "authorship_tag": "ABX9TyO1YNyPu1XhePj1MkExGWqF",
      "include_colab_link": true
    },
    "kernelspec": {
      "name": "python3",
      "display_name": "Python 3"
    },
    "language_info": {
      "name": "python"
    }
  },
  "cells": [
    {
      "cell_type": "markdown",
      "metadata": {
        "id": "view-in-github",
        "colab_type": "text"
      },
      "source": [
        "<a href=\"https://colab.research.google.com/github/GuilhermePelegrina/Mackenzie/blob/main/Aulas/TIC/Prova_N1_mushroom.ipynb\" target=\"_parent\"><img src=\"https://colab.research.google.com/assets/colab-badge.svg\" alt=\"Open In Colab\"/></a>"
      ]
    },
    {
      "cell_type": "markdown",
      "source": [
        "<img src='https://raw.githubusercontent.com/guilhermepelegrina/Mackenzie/main/logo_mackenzie.png'>"
      ],
      "metadata": {
        "id": "lIwgwfQLf3qv"
      }
    },
    {
      "cell_type": "markdown",
      "source": [
        "# **Prova N1 - TIC - Turma 7R11**\n",
        "\n",
        "Este notebook contém as instruções e questões da Prova N1 para a disciplina de TIC da turma 7R11."
      ],
      "metadata": {
        "id": "teRMSe61f5ZW"
      }
    },
    {
      "cell_type": "markdown",
      "source": [
        "# Instruções gerais\n",
        "\n",
        "## Envio do notebook com as questões e respostas\n",
        "\n",
        "Após finalizar a prova, faça o download do notebook nos formatos `.ipynb` e `.pdf` (dois arquivos) e submeta no Moodle, da seguinte forma:\n",
        "\n",
        "- Antes de salvar o arquivo, confira se todas as questões, seus códigos e suas respostas estão no notebook.\n",
        "\n",
        "- Para fazer o download do notebook no formato `.ipynb`, clique em *Arquivo* - *Fazer download* - *Fazer o download do .ipynb*. Salve o arquivo com seu RA e nome (ex: 1172211_Guilherme).\n",
        "\n",
        "- Para fazer o download do notebook no formato `.pdf`, clique em *Arquivo* - *Imprimir*. Salve o arquivo com seu RA e nome (ex: 1172211_Guilherme). Confira se o arquivo contém todos os códigos e respostas.\n",
        "\n",
        "- Após fazer o download do notebook, submeta os arquivos no Moodle. Para isso, acesse o Moodle, vá até o tópico *Provas* - *Envio da Prova N1* e envie os arquivos. **Lembre-se de finalizar o envio!**"
      ],
      "metadata": {
        "id": "kyE4dotK8pUq"
      }
    },
    {
      "cell_type": "markdown",
      "source": [
        "# Questões 1 - 8\n",
        "\n",
        "Para as questões de 1 até 8, utilize o conjunto de dados [Mushroom](https://archive.ics.uci.edu/dataset/848/secondary+mushroom+dataset). Leia os dados a partir do link abaixo:\n",
        "\n",
        "https://raw.githubusercontent.com/guilhermepelegrina/Mackenzie/main/Datasets/data_mushroom.csv\n",
        "\n",
        "Nessa base de dados, o objetivo é classificar cogumelos (*mushrooms*) como venenosos (classe `p`) ou comentíveis (classe `e`). Para isso, temos uma coluna (`class`) que indica a classe dos cogumelos e diversas outras colunas que indicam atributos (numéricos e categóricos) associados aos cogumelos.\n",
        "\n",
        "Após cada questão, há células para inserirem códigos e buscarem pelas respostas (insira mais células, se necessário). Além disso, também há células de texto para que seja escrita a resposta da questão. Dê \"dois cliques\" para acessar a célula.\n",
        "\n",
        "\n"
      ],
      "metadata": {
        "id": "OwzLQ9AnhCje"
      }
    },
    {
      "cell_type": "markdown",
      "source": [
        "# BOA PROVA!"
      ],
      "metadata": {
        "id": "xK3piSTjKzqG"
      }
    },
    {
      "cell_type": "markdown",
      "source": [
        "**Questão 1 (0,5 pontos)** Leia a base de dados mencionanda acima. Note que há uma coluna que possui células vazias. Qual é essa coluna e quantas são as células vazias?"
      ],
      "metadata": {
        "id": "CHM_MSiDsjLI"
      }
    },
    {
      "cell_type": "code",
      "execution_count": null,
      "metadata": {
        "id": "7FZNTVKefdI9"
      },
      "outputs": [],
      "source": [
        "# Escreva aqui seus códigos (insira mais células, se necessário)\n",
        "\n"
      ]
    },
    {
      "cell_type": "markdown",
      "source": [
        "*Escreva aqui sua resposta:*\n"
      ],
      "metadata": {
        "id": "v7CuN2Xqv_mO"
      }
    },
    {
      "cell_type": "markdown",
      "source": [
        "**Questão 2 (0,5 pontos)** Para as próximas questões, crie uma nova base de dados igual à anterior, mas removendo as linhas com células vazias. Há quantas linhas nessa nova base de dados? Calcule, também, as porcentagens de cogumelos de cada tipo."
      ],
      "metadata": {
        "id": "egXExNrIwHjW"
      }
    },
    {
      "cell_type": "code",
      "source": [
        "# Escreva aqui seus códigos (insira mais células, se necessário)\n",
        "\n"
      ],
      "metadata": {
        "id": "W_gj0CmJf3hw"
      },
      "execution_count": null,
      "outputs": []
    },
    {
      "cell_type": "markdown",
      "source": [
        "*Escreva aqui sua resposta:*\n"
      ],
      "metadata": {
        "id": "7bLjZlukwO9L"
      }
    },
    {
      "cell_type": "markdown",
      "source": [
        "**Questão 3 (1,5 pontos)** Com base nos dados sem células vazias, separe os dados de entrada (*X*) e de saída (*y*). Divida os dados entre treinamento (75% dos dados) e teste (25% dos dados) usando **o último dígito do seu RA Mackenzista** como `seed` (no `random_state`) e estratificando em *y*. **Use apenas os atributos numéricos** (ou seja, desconsidere os categóricos) para criar um modelo de Regressão Logística com o objetivo de prever se um cogumelo é venenoso (classe `p`) ou não (classe `e`). Qual a acurácia obtida?"
      ],
      "metadata": {
        "id": "OZR9I94ew_K1"
      }
    },
    {
      "cell_type": "code",
      "source": [
        "# Escreva aqui seus códigos (insira mais células, se necessário)\n",
        "\n"
      ],
      "metadata": {
        "id": "lq20cpxQw_K2"
      },
      "execution_count": null,
      "outputs": []
    },
    {
      "cell_type": "markdown",
      "source": [
        "*Escreva aqui sua resposta:*\n"
      ],
      "metadata": {
        "id": "DNlJC_Ut9B3E"
      }
    },
    {
      "cell_type": "markdown",
      "source": [
        "**Questão 4 (1,0 ponto)** Considere o modelo treinado na questão 3. Dentre os cogumelos venenosos dos dados de teste, qual a porcentagem dos que foram corretamente classificados como venenosos?"
      ],
      "metadata": {
        "id": "Rg8XLhZ-yid_"
      }
    },
    {
      "cell_type": "code",
      "source": [
        "# Escreva aqui seus códigos (insira mais células, se necessário)\n",
        "\n"
      ],
      "metadata": {
        "id": "pPgp0wu1yieK"
      },
      "execution_count": null,
      "outputs": []
    },
    {
      "cell_type": "markdown",
      "source": [
        "*Escreva aqui sua resposta:*\n"
      ],
      "metadata": {
        "id": "QcguEHiz9GME"
      }
    },
    {
      "cell_type": "markdown",
      "source": [
        "**Questão 5 (1,5 pontos)** Com base nos dados sem células vazias, separe os dados de entrada (*X*) e de saída (*y*). Divida os dados entre treinamento (75% dos dados) e teste (25% dos dados) usando **o último dígito do seu RA Mackenzista** como `seed` (no `random_state`) e estratificando em *y*. **Use apenas os atributos categóricos** (ou seja, desconsidere os numéricos) para criar um modelo de Árvore de Decisão com o objetivo de prever se um cogumelo é venenoso (classe `p`) ou não (classe `e`). No modelo, use `entropy` como critério e **o último dígito do seu RA Mackenzista** como `seed` (no `random_state`). Qual a acurácia obtida?\n",
        "\n",
        "*OBS*: Selecione os dados (colunas) *X* na mesma ordem em que eles aparecem no conjunto de dados original."
      ],
      "metadata": {
        "id": "LwGMr6wQxvXZ"
      }
    },
    {
      "cell_type": "code",
      "source": [
        "# Escreva aqui seus códigos (insira mais células, se necessário)\n",
        "\n"
      ],
      "metadata": {
        "id": "4PqbOi6axvXa"
      },
      "execution_count": null,
      "outputs": []
    },
    {
      "cell_type": "markdown",
      "source": [
        "*Escreva aqui sua resposta:*\n"
      ],
      "metadata": {
        "id": "TxEygrmK9HCn"
      }
    },
    {
      "cell_type": "markdown",
      "source": [
        "**Questão 6 (1,0 ponto)** Considere o modelo treinado na questão 5. Dentre os cogumelos dos dados de teste que foram classificados como venenodos, qual a porcentagem dos que verdadeiramente eram venenosos?"
      ],
      "metadata": {
        "id": "0JTMmuXjznHw"
      }
    },
    {
      "cell_type": "code",
      "source": [
        "# Escreva aqui seus códigos (insira mais células, se necessário)\n",
        "\n"
      ],
      "metadata": {
        "id": "jUIfcuRpznH7"
      },
      "execution_count": null,
      "outputs": []
    },
    {
      "cell_type": "markdown",
      "source": [
        "*Escreva aqui sua resposta:*\n"
      ],
      "metadata": {
        "id": "KovLzNiD9HlW"
      }
    },
    {
      "cell_type": "markdown",
      "source": [
        "**Questão 7 (1,5 pontos)** Com base nos dados sem células vazias, separe os dados de entrada (*X*) e de saída (*y*). Divida os dados entre treinamento (75% dos dados) e teste (25% dos dados) usando **o último dígito do seu RA Mackenzista** como `seed` (no `random_state`) e estratificando em *y*. **Use todos os atributos** para criar um modelo de KNN com o objetivo de prever se um cogumelo é venenoso (classe `p`) ou não (classe `e`). No modelo, considere os 5 vizinhos mais próximos, padronize os dados subtraindo a média e dividindo pelo desvio-padrão e use **o último dígito do seu RA Mackenzista** como `seed` (no `random_state`). Qual a acurácia obtida?"
      ],
      "metadata": {
        "id": "o37euRin1bsX"
      }
    },
    {
      "cell_type": "code",
      "source": [
        "# Escreva aqui seus códigos (insira mais células, se necessário)\n",
        "\n"
      ],
      "metadata": {
        "id": "-CZ7t7kp1bsY"
      },
      "execution_count": null,
      "outputs": []
    },
    {
      "cell_type": "markdown",
      "source": [
        "*Escreva aqui sua resposta:*\n"
      ],
      "metadata": {
        "id": "zWo5g76y9Ii5"
      }
    },
    {
      "cell_type": "markdown",
      "source": [
        "**Questão 8 (1,0 ponto)** Considere o modelo treinado na questão 7. Dentre os cogumelos dos dados de teste que são comestíveis, qual a porcentagem dos que foram erroneamente classificados como venenosos?\n",
        "\n",
        "*Dica: Olhe a matriz de confusão para responder esta questão.*"
      ],
      "metadata": {
        "id": "r6TWrRWk2vQ3"
      }
    },
    {
      "cell_type": "code",
      "source": [
        "# Escreva aqui seus códigos (insira mais células, se necessário)\n",
        "\n"
      ],
      "metadata": {
        "id": "9fu1jSgr2vQ3"
      },
      "execution_count": null,
      "outputs": []
    },
    {
      "cell_type": "markdown",
      "source": [
        "*Escreva aqui sua resposta:*\n"
      ],
      "metadata": {
        "id": "tHYE67869JBP"
      }
    },
    {
      "cell_type": "markdown",
      "source": [
        "# Questões 9 e 10\n",
        "\n",
        "As questões 9 e 10 são teóricas e dentro do contexto da Regressão Linear. Após cada questão, há uma célula de texto para que seja escrita a resposta da questão, justificando sua escolha. Dê \"dois cliques\" para acessar a célula.\n",
        "\n"
      ],
      "metadata": {
        "id": "_xXgqbg39U52"
      }
    },
    {
      "cell_type": "markdown",
      "source": [
        "**Questão 9 - Teórica (1,0 ponto)** O uso da **Regressão Linear pode ser mais apropriado** em qual dos cenários abaixo? **Justifique sua resposta!**\n",
        "\n",
        "- (a) Classificar um e-mail como sendo (ou não) SPAM.\n",
        "\n",
        "- (b) Prever, a partir de uma imagem de Raio X, se uma pessoa está com uma deficiência pulmonar.\n",
        "\n",
        "- (c) Avaliar o funcionamento de uma máquina, indicando se apresenta ou não falha.\n",
        "\n",
        "- (d) Prever o número de bicicletas que serão alugadas em um final de semana.\n",
        "\n",
        "- (e) Rotular um vinho como sendo bom ou ruim.\n",
        "\n"
      ],
      "metadata": {
        "id": "HQN6U6Oj4Vml"
      }
    },
    {
      "cell_type": "markdown",
      "source": [
        "*Escreva aqui sua resposta:*\n"
      ],
      "metadata": {
        "id": "g8dOinCj9JzO"
      }
    },
    {
      "cell_type": "markdown",
      "source": [
        "**Questão 10 - Teórica (0,5 pontos)** Quando usamos uma **Regressão Linear**, qual dos seguintes elementos é mais apropriado para avaliar o desempenho do modelo treinado? **Justifique sua resposta!**\n",
        "\n",
        "- (a) Valor p.\n",
        "\n",
        "- (b) Coeficiente de determinação.\n",
        "\n",
        "- (c) Acurácia.\n",
        "\n",
        "- (d) Taxa de verdadeiro positivo.\n",
        "\n",
        "- (e) Coeficiente de correlação."
      ],
      "metadata": {
        "id": "hGtqK39P6dtE"
      }
    },
    {
      "cell_type": "markdown",
      "source": [
        "*Escreva aqui sua resposta:*\n"
      ],
      "metadata": {
        "id": "Cdgb-8qp9KDB"
      }
    }
  ]
}