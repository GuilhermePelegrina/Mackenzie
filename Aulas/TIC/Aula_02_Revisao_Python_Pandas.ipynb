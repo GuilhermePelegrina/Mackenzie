{
  "nbformat": 4,
  "nbformat_minor": 0,
  "metadata": {
    "colab": {
      "provenance": [],
      "authorship_tag": "ABX9TyP44usTgy7RSJ0bUl/HjhAY",
      "include_colab_link": true
    },
    "kernelspec": {
      "name": "python3",
      "display_name": "Python 3"
    },
    "language_info": {
      "name": "python"
    }
  },
  "cells": [
    {
      "cell_type": "markdown",
      "metadata": {
        "id": "view-in-github",
        "colab_type": "text"
      },
      "source": [
        "<a href=\"https://colab.research.google.com/github/GuilhermePelegrina/Mackenzie/blob/main/Aulas/TIC/Aula_02_Revisao_Python_Pandas.ipynb\" target=\"_parent\"><img src=\"https://colab.research.google.com/assets/colab-badge.svg\" alt=\"Open In Colab\"/></a>"
      ]
    },
    {
      "cell_type": "markdown",
      "source": [
        "<img src='https://raw.githubusercontent.com/guilhermepelegrina/Mackenzie/main/logo_mackenzie.png'>\n"
      ],
      "metadata": {
        "id": "Ka1zMIAxQs6U"
      }
    },
    {
      "cell_type": "markdown",
      "source": [
        "# **Introdução ao Python**\n",
        "\n",
        "Nesta aula, revisaremos os principais comandos / funções em Python que serão usados nesta disciplina. Esses comandos / funções são muito úteis quando criamos um projeto de Ciência de Dados, ou seja, que são usados tanto para Análise de Dados quanto para Aprendizado de Máquina."
      ],
      "metadata": {
        "id": "fzb17vN_QvWF"
      }
    },
    {
      "cell_type": "markdown",
      "source": [
        "# Importando bibliotecas"
      ],
      "metadata": {
        "id": "fZWWZsdQS-L_"
      }
    },
    {
      "cell_type": "code",
      "execution_count": 2,
      "metadata": {
        "id": "WrfoUaaJQihw"
      },
      "outputs": [],
      "source": [
        "import numpy as np # Coleção de funções matemáticas para manipulações algébricas\n",
        "import pandas as pd # Manipulação de Data Frames\n",
        "import matplotlib.pyplot as plt # Criação de ferramentas para visualização de dados, como gráficos"
      ]
    },
    {
      "cell_type": "markdown",
      "source": [
        "# Variáveis e Atribuições\n",
        "\n",
        "- As variáveis em são elementos usados para armazenar valores, como números, textos, listas, entre outros.\n",
        "- Chamamos de atribuição de valores a passagem de uma informação a determinada variável."
      ],
      "metadata": {
        "id": "M8G_NGw2XeaE"
      }
    },
    {
      "cell_type": "code",
      "source": [
        "# Exemplos de variáveis e atribuições\n",
        "\n",
        "inteiro = 123 # Número inteiro\n",
        "real = np.pi  # Número real\n",
        "\n",
        "print(inteiro, type(inteiro))\n",
        "print(real, type(real))"
      ],
      "metadata": {
        "id": "f-R2tvpKXUDp"
      },
      "execution_count": null,
      "outputs": []
    },
    {
      "cell_type": "code",
      "source": [
        "# Para o Python, os números seguintes são inteiros ou reais?\n",
        "\n",
        "num1 = 6\n",
        "num2 = 6.0\n",
        "num3 = 6/4\n",
        "num4 = 6/2\n",
        "num5 = 6 + 5.0\n",
        "\n",
        "print(num1, type(num1))\n",
        "print(num2, type(num2))\n",
        "print(num3, type(num3))\n",
        "print(num4, type(num4))\n",
        "print(num5, type(num5))"
      ],
      "metadata": {
        "id": "CXvI6QPAYqOO"
      },
      "execution_count": null,
      "outputs": []
    },
    {
      "cell_type": "markdown",
      "source": [
        "# Strings\n",
        "\n",
        "Strings são estruturas usadas para armazenar informações de texto (sequência de caracteres). Essa sequência de caracteres pode conter números, letras e pontuações.\n",
        "\n",
        "`str[ inicio : tamanho ]`\n",
        "ou\n",
        "`str[ inicio : fim+1 ]`\n"
      ],
      "metadata": {
        "id": "KM9Nbtkw5agP"
      }
    },
    {
      "cell_type": "code",
      "source": [
        "# Exemplos de strings\n",
        "\n",
        "texto1 = '123' # texto\n",
        "texto2 = 'TIC !' # texto\n",
        "texto3 = \"Aula de python\"\n",
        "\n",
        "print(texto1, type(texto1))\n",
        "print(texto2, type(texto2))\n",
        "print(texto3[0:7])"
      ],
      "metadata": {
        "id": "3d7cVbXo5-U9"
      },
      "execution_count": null,
      "outputs": []
    },
    {
      "cell_type": "code",
      "source": [
        "# Calculando o tamanho da string\n",
        "\n",
        "print(len(texto1))\n",
        "print(len(texto2))"
      ],
      "metadata": {
        "id": "ZFn-7X0H6bmJ"
      },
      "execution_count": null,
      "outputs": []
    },
    {
      "cell_type": "code",
      "source": [
        "# Manipulando strings (1)\n",
        "\n",
        "str1 ='Projeto de Análise de Dados'\n",
        "\n",
        "print(str1)\n",
        "print(str1.find('Dados')) # Primeira ocorrência do \"valor\"\n",
        "print(str1.lower()) # Lestras minúsculas\n",
        "print(str1.upper()) # Lestras maiúsculas"
      ],
      "metadata": {
        "id": "jH1xHqZ26rPA"
      },
      "execution_count": null,
      "outputs": []
    },
    {
      "cell_type": "code",
      "source": [
        "# Manipulando strings (2)\n",
        "\n",
        "str2 = str1.replace('Análise','Ciência')\n",
        "print(str2)"
      ],
      "metadata": {
        "id": "7p32xL0I7Yoq"
      },
      "execution_count": null,
      "outputs": []
    },
    {
      "cell_type": "code",
      "source": [
        "# Manipulando strings (3)\n",
        "\n",
        "str3 = 'Aprendizado '\n",
        "str4 = 'de '\n",
        "str5 = 'Máquina'\n",
        "print(str3+str4+str5)"
      ],
      "metadata": {
        "id": "Ysh6JMgG8dyQ"
      },
      "execution_count": null,
      "outputs": []
    },
    {
      "cell_type": "markdown",
      "source": [
        "# Print e Input"
      ],
      "metadata": {
        "id": "I5FgGsqA7suK"
      }
    },
    {
      "cell_type": "code",
      "source": [
        "# Exemplo 1\n",
        "\n",
        "texto = input('Entre com um texto: ')\n",
        "print(texto)"
      ],
      "metadata": {
        "id": "81sK0yjS7y_t"
      },
      "execution_count": null,
      "outputs": []
    },
    {
      "cell_type": "code",
      "source": [
        "# Exemplo 2\n",
        "\n",
        "numero = float(input('Entre com um número: '))\n",
        "print('Seu número mais um: ', numero+1)"
      ],
      "metadata": {
        "id": "aPO_b1QQ76E7"
      },
      "execution_count": null,
      "outputs": []
    },
    {
      "cell_type": "markdown",
      "source": [
        "# Controlando o Fluxo do Programa\n",
        "\n",
        "Note que em Python as instruções **aninhadas** são **identadas** (*tab*). Assim os comandos *aninhados* à condição (*if-then-else*) ou laço (*for*) do programa devem estar à direita do comando inicial da condição ou laço."
      ],
      "metadata": {
        "id": "j0q1SPiK_LAz"
      }
    },
    {
      "cell_type": "markdown",
      "source": [
        "**if-then-else**"
      ],
      "metadata": {
        "id": "9tdM8twz_5oc"
      }
    },
    {
      "cell_type": "code",
      "source": [
        "a = 1964\n",
        "b = 1984\n",
        "\n",
        "if b > a:\n",
        "  print(\"b is greater than a\")\n",
        "else:\n",
        "  print(\"a is greater than b\")"
      ],
      "metadata": {
        "id": "FPkYxHwF_Pcm"
      },
      "execution_count": null,
      "outputs": []
    },
    {
      "cell_type": "code",
      "source": [
        "if b > a:\n",
        "  print(\"b is greater than a\")\n",
        "elif a == b:\n",
        "  print(\"a and b are equal\")\n",
        "else:\n",
        "  print(\"a is greater than b\")"
      ],
      "metadata": {
        "id": "cAkYl2-i_2ms"
      },
      "execution_count": null,
      "outputs": []
    },
    {
      "cell_type": "markdown",
      "source": [
        "**for**"
      ],
      "metadata": {
        "id": "OYPm9UCO_-Vn"
      }
    },
    {
      "cell_type": "code",
      "source": [
        "# a % b retorna o resto da divisão de a por b\n",
        "\n",
        "for i in range(11):\n",
        "  if i%2 == 0:\n",
        "    print(i)"
      ],
      "metadata": {
        "id": "Wz4mU_mtAAJt"
      },
      "execution_count": null,
      "outputs": []
    },
    {
      "cell_type": "markdown",
      "source": [
        "**Funções**\n",
        "\n",
        "Há muitas funções já criadas em Python e, na grande maioria dos casos, não precisaremos necessariamente *criar* funções novas. No entanto, em casos específicos ou mis *cutomizados*, é interessante criar uma função própria para deixar o código mais modular e enxuto."
      ],
      "metadata": {
        "id": "5i7ZSr5MAl7m"
      }
    },
    {
      "cell_type": "code",
      "source": [
        "def mymax(a,b):\n",
        "  if a > b:\n",
        "    return a\n",
        "  else:\n",
        "    return b\n",
        "\n",
        "mymax(1984,1964)"
      ],
      "metadata": {
        "id": "HO2WjzsTAoQ1"
      },
      "execution_count": null,
      "outputs": []
    },
    {
      "cell_type": "markdown",
      "source": [
        "# Numpy"
      ],
      "metadata": {
        "id": "iZBj3gvfCaQd"
      }
    },
    {
      "cell_type": "code",
      "source": [
        "import numpy as np\n",
        "\n",
        "x = np.array([1,2,3])\n",
        "media = np.mean(x)\n",
        "soma = np.sum(x)\n",
        "\n",
        "print('Média:', media, 'Soma:', soma)\n",
        "print(type(media), type(soma))"
      ],
      "metadata": {
        "id": "r8sTCGkGCo4s"
      },
      "execution_count": null,
      "outputs": []
    },
    {
      "cell_type": "code",
      "source": [
        "# Exemplo: Gerador (não)aleatório\n",
        "np.random.seed(2) # semente de geração aleatória\n",
        "x = np.array(np.random.randint(low=1, high=6, size=10))\n",
        "print(x)\n",
        "\n",
        "x = np.array(np.random.randint(low=1, high=6, size=10))\n",
        "print(x)"
      ],
      "metadata": {
        "id": "LMZgx23SDT2i"
      },
      "execution_count": null,
      "outputs": []
    },
    {
      "cell_type": "code",
      "source": [
        "# Exemplo: Gerador (não)aleatório\n",
        "np.random.seed(2) # semente de geração aleatória\n",
        "x = np.array(np.random.randint(low=1, high=6, size=10))\n",
        "print(x)\n",
        "\n",
        "np.random.seed(2) # semente de geração aleatória\n",
        "x = np.array(np.random.randint(low=1, high=6, size=10))\n",
        "print(x)"
      ],
      "metadata": {
        "id": "KfqDGl18CcXr"
      },
      "execution_count": null,
      "outputs": []
    },
    {
      "cell_type": "code",
      "source": [
        "# Gerando matrizes de 0s ou constantes\n",
        "\n",
        "m1 = np.zeros((2,5))\n",
        "\n",
        "print(m1)"
      ],
      "metadata": {
        "id": "F_YRW1ADExri"
      },
      "execution_count": null,
      "outputs": []
    },
    {
      "cell_type": "code",
      "source": [
        "# Gerando matrizes de constantes\n",
        "\n",
        "m2 = 5.2 * np.ones((4,2))\n",
        "\n",
        "print(m2)"
      ],
      "metadata": {
        "id": "3efjfZjAFEEF"
      },
      "execution_count": null,
      "outputs": []
    },
    {
      "cell_type": "code",
      "source": [
        "# Concatenando arrays\n",
        "\n",
        "array1 = np.random.randint(low=5, high=10, size=10)\n",
        "\n",
        "print(array1)\n",
        "\n",
        "array2 = np.random.randint(low=0, high=5, size=10)\n",
        "\n",
        "print(array2)\n",
        "\n",
        "concat1 = np.concatenate((array1,array2),axis = 0)\n",
        "\n",
        "print(concat1)"
      ],
      "metadata": {
        "id": "M6zdsUUmFJOS"
      },
      "execution_count": null,
      "outputs": []
    },
    {
      "cell_type": "code",
      "source": [
        "# Selecionado partes (slices) de um vetor\n",
        "\n",
        "array1 = np.random.randint(low=5, high=10, size=10)\n",
        "\n",
        "print(array1)\n",
        "\n",
        "slice1 = array1[0:3]\n",
        "print(slice1)\n",
        "\n",
        "print(array1[2:4])\n",
        "print(array1[2:])\n",
        "print(array1[2:-1])"
      ],
      "metadata": {
        "id": "muxTajyjGH_f"
      },
      "execution_count": null,
      "outputs": []
    },
    {
      "cell_type": "code",
      "source": [
        "# Alterando valores de vetor\n",
        "\n",
        "vetor = np.array([1,4,7])\n",
        "print(vetor)\n",
        "\n",
        "vetor[1] = 10\n",
        "print(vetor)\n"
      ],
      "metadata": {
        "id": "SSM3TvDIHome"
      },
      "execution_count": null,
      "outputs": []
    },
    {
      "cell_type": "code",
      "source": [
        "# Alterando valores de matriz\n",
        "\n",
        "matriz = np.array(([1,4,7], [3,5,9]))\n",
        "print(matriz)\n",
        "\n",
        "matriz[0,2] = 10\n",
        "print(matriz)"
      ],
      "metadata": {
        "id": "J8ZnZviaIZ7_"
      },
      "execution_count": null,
      "outputs": []
    },
    {
      "cell_type": "code",
      "source": [
        "# Alterando valores de matriz\n",
        "\n",
        "valores = np.array([12,13])\n",
        "\n",
        "matriz[1,0:2] = valores\n",
        "print(matriz)"
      ],
      "metadata": {
        "id": "ehrOr-dvIeXt"
      },
      "execution_count": null,
      "outputs": []
    },
    {
      "cell_type": "markdown",
      "source": [
        "# **Exercício 1**\n",
        "\n",
        "Crie um programa que gera aleatoriamente (sem semente definida) cinco arrays com 100 elementos cada. Os números devem ser inteiros no intervalo [0,20]. Para cada array, calcule a média e apresente na tela (*print*) o valor obtido."
      ],
      "metadata": {
        "id": "5cqMOlTvDzHQ"
      }
    },
    {
      "cell_type": "markdown",
      "source": [
        "# **Exercício 2**\n",
        "\n",
        "Crie um programa que gera aleatoriamente (com semente igual a 157) um único array com 500 elementos. Os números devem ser inteiros no intervalo [0,20]. Em seguida, crie uma matriz com 100 linhas e 5 colunas, sendo que a primeira coluna contenha os 100 primeiros elementos do array, a segunda coluna os 100 elementos seguintes, e assim por diante. Para cada coluna, calcule também a média e, se a média for maior que 10, apresente o valor obtido na tela, juntamente com a coluna correspondente.\n",
        "\n",
        "Dica: Utilize os comandos *for* e *if*."
      ],
      "metadata": {
        "id": "KDJxz8KBGoaX"
      }
    },
    {
      "cell_type": "markdown",
      "source": [
        "## Listas (List)\n",
        "\n",
        "Lista (**list**) é uma coleção que é **ordenada** e **mutável**. Permite membros **duplicados**. Associada a lista você encontra uma série métodos que implementam funções úteis para esses objetos."
      ],
      "metadata": {
        "id": "bcbxJsGTJO0H"
      }
    },
    {
      "cell_type": "code",
      "source": [
        "mylist = ['A', 'B', 'C', 'A', 'B']\n",
        "\n",
        "print(len(mylist))\n",
        "cont = mylist.count('B')\n",
        "print(cont)\n",
        "mylist.append('D')\n",
        "print(mylist)\n",
        "mylist.sort()\n",
        "print(mylist)\n",
        "mylist.insert(1,'X')\n",
        "print(mylist)\n",
        "mylist[1] = 'ZZ'\n",
        "print(mylist)\n",
        "del mylist[0:1]\n",
        "print(mylist)"
      ],
      "metadata": {
        "id": "M9pGfFswJUmu"
      },
      "execution_count": null,
      "outputs": []
    },
    {
      "cell_type": "markdown",
      "source": [
        "## Percorrendo uma lista *\n",
        "\n",
        "Existem basicamente duas forma de percorrer uma lista.\n",
        "\n",
        "* **Por índice**, empregue quando precisar do índice (posição) ou alterar os elementos\n",
        "* **Por iterador**, empregue apenas para recuperar (ler) os elementos"
      ],
      "metadata": {
        "id": "sAPE8THJLX5o"
      }
    },
    {
      "cell_type": "code",
      "source": [
        "mylist = ['A', 'B', 'C', 'A', 'B']\n",
        "\n",
        "for i in range(len(mylist)):\n",
        "    print(i, mylist[i])"
      ],
      "metadata": {
        "id": "RQDKJKGMLiYO"
      },
      "execution_count": null,
      "outputs": []
    },
    {
      "cell_type": "markdown",
      "source": [
        "## Dicionário (Dictionary)\n",
        "\n",
        "Dicionário (**dictionary**) é uma coleção desordenada, mutável e indexada. Nenhum membro duplicado."
      ],
      "metadata": {
        "id": "F6EPP5OqLj-d"
      }
    },
    {
      "cell_type": "code",
      "source": [
        "mydict = {'Beatriz':1978, 'Aline':1987, 'Adriana':1984, 'Daniel':1996}\n",
        "print(mydict.keys())\n",
        "print(mydict['Adriana'])"
      ],
      "metadata": {
        "id": "YnWxMGp3LpNn"
      },
      "execution_count": null,
      "outputs": []
    },
    {
      "cell_type": "markdown",
      "source": [
        "## Percorrendo um Dicionário *"
      ],
      "metadata": {
        "id": "oU9J7nk0Lyps"
      }
    },
    {
      "cell_type": "code",
      "source": [
        "for item in mydict:\n",
        "    print(item, mydict[item])"
      ],
      "metadata": {
        "id": "9iGAJApSLzLl"
      },
      "execution_count": null,
      "outputs": []
    },
    {
      "cell_type": "markdown",
      "source": [
        "# Pandas\n",
        "\n",
        "O `Pandas` é uma API (biblioteca) em Python para manipulação e análise de dados orientada a colunas. Ela permite organizar dados em dois tipos de estruturas, Séries e DataFrames, e operar seleções e transformações sobre essas coleções de dados.\n",
        "\n",
        "Comece vendo um resumo dos comandos Pandas aqui [Pandas Cheat Sheet](https://pandas.pydata.org/Pandas_Cheat_Sheet.pdf).\n",
        "\n",
        "\n",
        "* **DataFrame**: você pode imaginar como uma tabela de dados relacionais, com linhas e colunas nomeadas, como no Excel ou SQL.\n",
        "* **Series**: é uma única coluna de dados, e o DataFrame contém um ou mais Series com um nome para cada uma delas.\n",
        "\n",
        "Você pode ler e gravar dados de diferentes fontes como arquivos .csv, .json, .xlsx e arquivos de bancos de dados sql, Mongo etc.\n",
        "\n",
        "\n",
        "| Format        | Read           | Save          |\n",
        "| ------------- |:--------------:| ----------------:|\n",
        "| csv           | `pd.read_csv()`  |`df.to_csv()`     |\n",
        "| json          | `pd.read_json()` |`df.to_json()`    |\n",
        "| xlsx          | `pd.read_excel()`|`df.to_excel()`   |\n",
        "| hdf           | `pd.read_hdf()`  |`df.to_hdf()`     |\n",
        "| sql           | `pd.read_sql()`  |`df.to_sql()`     |\n",
        "\n",
        "Vamos discutir funções e seleção de dados usando como exemplo a base de dados [Bank Marketing](https://archive.ics.uci.edu/dataset/222/bank+marketing)."
      ],
      "metadata": {
        "id": "QGxkH2FYMB84"
      }
    },
    {
      "cell_type": "code",
      "source": [
        "df = pd.read_csv(\"https://raw.githubusercontent.com/guilhermepelegrina/Mackenzie/main/Datasets/data_bank_marketing.csv\", sep = ';')\n",
        "df.head()"
      ],
      "metadata": {
        "id": "b_4X1MeJPD6F"
      },
      "execution_count": null,
      "outputs": []
    },
    {
      "cell_type": "markdown",
      "source": [
        "Informações sobre o conjunto de dados:\n",
        "\n",
        "- age (numeric)\n",
        "- job : type of job (categorical: \"admin.\",\"unknown\",\"unemployed\",\"management\",\"housemaid\",\"entrepreneur\",\"student\", \"blue-collar\",\"self-employed\",\"retired\",\"technician\",\"services\")\n",
        "- marital : marital status (categorical: \"married\",\"divorced\",\"single\"; note: \"divorced\" means divorced or widowed)\n",
        "- education (categorical: \"unknown\",\"secondary\",\"primary\",\"tertiary\")\n",
        "- default: has credit in default? (binary: \"yes\",\"no\")\n",
        "- balance: average yearly balance, in euros (numeric)\n",
        "- housing: has housing loan? (binary: \"yes\",\"no\")\n",
        "- loan: has personal loan? (binary: \"yes\",\"no\")\n",
        "\n",
        "Related with the last contact of the current campaign:\n",
        "\n",
        "- contact: contact communication type (categorical: \"unknown\",\"telephone\",- day: last contact day of the month (numeric)\n",
        "- month: last contact month of year (categorical: \"jan\", \"feb\", \"mar\", ..., \"nov\", \"dec\")\n",
        "- duration: last contact duration, in seconds (numeric)\n",
        "   \n",
        "Other attributes:\n",
        "\n",
        "- campaign: number of contacts performed during this campaign and for this client (numeric, includes last contact)\n",
        "- pdays: number of days that passed by after the client was last contacted from a previous campaign (numeric, -1 means client was not previously contacted)\n",
        "- previous: number of contacts performed before this campaign and for this client (numeric)\n",
        "- poutcome: outcome of the previous marketing campaign (categorical: \"unknown\",\"other\",\"failure\",\"success\")\n",
        "\n",
        "Output variable (desired target):\n",
        "\n",
        "- y - has the client subscribed a term deposit? (binary: \"yes\",\"no\")"
      ],
      "metadata": {
        "id": "2XyzGEmGTL_v"
      }
    },
    {
      "cell_type": "markdown",
      "source": [
        "### Explorando os dados\n",
        "\n",
        "É importante na primeira análise extrair informações sobre a estrutura dos dados, isto é, verificar o tipo de variáveis, número de linhas, colunas, etc."
      ],
      "metadata": {
        "id": "BzF7JnstT3z_"
      }
    },
    {
      "cell_type": "code",
      "source": [
        "# Funções interessantes\n",
        "\n",
        "#df.head()\n",
        "#df.tail()\n",
        "#df.columns\n",
        "#df.shape\n",
        "df.info()"
      ],
      "metadata": {
        "id": "u8K2MLQYT5vb"
      },
      "execution_count": null,
      "outputs": []
    },
    {
      "cell_type": "markdown",
      "source": [
        "A função `describe()` do pandas é uma ferramenta muito útil para obter um resumo estatístico de um DataFrame."
      ],
      "metadata": {
        "id": "r4E8pjrLUxWa"
      }
    },
    {
      "cell_type": "code",
      "source": [
        "df.describe()"
      ],
      "metadata": {
        "id": "0Bjl1bzfUx3C"
      },
      "execution_count": null,
      "outputs": []
    },
    {
      "cell_type": "code",
      "source": [
        "df.describe(include=\"all\")"
      ],
      "metadata": {
        "id": "o8J3ngXN7Z_v"
      },
      "execution_count": null,
      "outputs": []
    },
    {
      "cell_type": "markdown",
      "source": [
        "### Seleção de Colunas, Linhas e Linhas e Colunas\n",
        "\n",
        "<img src=\"https://pandas.pydata.org/docs/_images/03_subset_columns.svg\" width=320, align=\"center\">\n",
        "<img src=\"https://pandas.pydata.org/docs/_images/03_subset_rows.svg\" width=320, align=\"center\">\n",
        "<img src=\"https://pandas.pydata.org/docs/_images/03_subset_columns_rows.svg\" width=320, align=\"center\">"
      ],
      "metadata": {
        "id": "Edqdn9q_06E6"
      }
    },
    {
      "cell_type": "markdown",
      "source": [
        "**Selecionando colunas**\n",
        "\n",
        "No pandas, você pode selecionar colunas de um DataFrame de várias maneiras diferentes. Aqui estão as duas formas mais comuns de fazer isso:"
      ],
      "metadata": {
        "id": "H7N5jaOP08xq"
      }
    },
    {
      "cell_type": "code",
      "source": [
        "# As duas opções retornam o mesmo resultado.\n",
        "df.age  # Opção 1\n",
        "df['age'] # Opção 2"
      ],
      "metadata": {
        "id": "-xUMvfhs1BAz"
      },
      "execution_count": null,
      "outputs": []
    },
    {
      "cell_type": "markdown",
      "source": [
        "**Removendo colunas**"
      ],
      "metadata": {
        "id": "P4wPD5flJT_u"
      }
    },
    {
      "cell_type": "code",
      "source": [
        "df2 = df.drop('age',axis=1)\n",
        "df2.head()"
      ],
      "metadata": {
        "id": "nLJDgmPNJIS_"
      },
      "execution_count": null,
      "outputs": []
    },
    {
      "cell_type": "markdown",
      "source": [
        "Se você quiser calcular estatísticas específicas pode usar as seguintes funções:  `mean()` para a média, `std()` para o desvio padrão, `min()` e `max()` para os valores mínimo e máximo, etc."
      ],
      "metadata": {
        "id": "JtHYPc0R1ZvN"
      }
    },
    {
      "cell_type": "code",
      "source": [
        "# valores descritivos da variável \"temp\"\n",
        "\n",
        "print(df.age.max())  # valor máximo\n",
        "print(df.age.min())  # valor mínimo\n",
        "print(df.age.mean()) # média\n",
        "print(df.age.std())  # desvio padrão\n",
        "print(df.age.quantile()) # Exibe a mediana\n",
        "print(df.age.quantile([0, 0.25, 0.5, 0.9])) # exibindo diferentes percentis"
      ],
      "metadata": {
        "id": "KvZeKugF1aNL"
      },
      "execution_count": null,
      "outputs": []
    },
    {
      "cell_type": "code",
      "source": [
        "# print mais sofisticado\n",
        "print(f'Idade média: {df.age.mean() :.3f} ')"
      ],
      "metadata": {
        "id": "H2D4FTrW19TL"
      },
      "execution_count": null,
      "outputs": []
    },
    {
      "cell_type": "markdown",
      "source": [
        "**Variáveis categóricas (não numéricas)**\n",
        "\n",
        "Variáveis categóricas são aquelas que representam categorias ou grupos distintos, em vez de valores numéricos contínuos. Elas são comuns em dados que envolvem características não numéricas, como gênero, cor, tipo de animal, estado civil, etc."
      ],
      "metadata": {
        "id": "jUEEBjgx7uZf"
      }
    },
    {
      "cell_type": "code",
      "source": [
        "est_civil = df.marital.to_list() # Converter marital em uma lista\n",
        "est_civil.count('married')    # Contar o número de vezes que aparece \"married\""
      ],
      "metadata": {
        "id": "myipsoah7zL4"
      },
      "execution_count": null,
      "outputs": []
    },
    {
      "cell_type": "code",
      "source": [
        "# Funções úteis\n",
        "\n",
        "df.marital.value_counts() # valores diferentes e suas quantidades\n",
        "#df.marital.unique()       # Mostra os valores únicos\n",
        "#df.marital.nunique()      # Número de valores únicos"
      ],
      "metadata": {
        "id": "-MFhrQIP8YO-"
      },
      "execution_count": null,
      "outputs": []
    },
    {
      "cell_type": "markdown",
      "source": [
        "**Selecionando várias colunas**\n",
        "\n",
        "Para selecionar várias colunas em um DataFrame do pandas, você pode passar uma lista com os nomes das colunas que deseja selecionar. Lembre-se de que, ao selecionar várias colunas, o resultado será um novo DataFrame contendo apenas as colunas selecionadas."
      ],
      "metadata": {
        "id": "6i-1M6CQ8lXG"
      }
    },
    {
      "cell_type": "code",
      "source": [
        "# Selecionando várias colunas\n",
        "\n",
        "df[[\"age\",\t\"marital\",\t\"default\"]]"
      ],
      "metadata": {
        "id": "QVyM6ZTL8pnV"
      },
      "execution_count": null,
      "outputs": []
    },
    {
      "cell_type": "code",
      "source": [
        "# Outras funções úteis\n",
        "\n",
        "#df.dropna() # Remove missing values\n",
        "#df.isna()  # Detect missing values\n",
        "df.nsmallest(5,'age')  # Exibe os n menores valores segundo certa determinada variável"
      ],
      "metadata": {
        "id": "LIAoVJGL9FL-"
      },
      "execution_count": null,
      "outputs": []
    },
    {
      "cell_type": "markdown",
      "source": [
        "**Selecionando linhas**\n",
        "\n",
        "Para selecionar linhas em um DataFrame do pandas podemos usar os colchetes com base em critérios específicos:"
      ],
      "metadata": {
        "id": "xF8tsOsu9brm"
      }
    },
    {
      "cell_type": "code",
      "source": [
        "# Selecionando linhas\n",
        "df[df.marital==\"married\"]"
      ],
      "metadata": {
        "id": "BucoHTP69cLF"
      },
      "execution_count": null,
      "outputs": []
    },
    {
      "cell_type": "markdown",
      "source": [
        "Para combinar critérios de seleção você pode empregar os operadores lógicos & (AND), '|' (OR) ou '!' (NOT), sendo necessário a inclusão de parênteses nas seleções."
      ],
      "metadata": {
        "id": "8SL1N-j09nnV"
      }
    },
    {
      "cell_type": "code",
      "source": [
        "# Usando AND (%)\n",
        "df[(df.marital==\"married\") & (df.age>70)]"
      ],
      "metadata": {
        "id": "8_1DROLR9oJ-"
      },
      "execution_count": null,
      "outputs": []
    },
    {
      "cell_type": "code",
      "source": [
        "# Usando OR (|)\n",
        "\n",
        "df[(df.marital=='married') | (df.marital=='divorced')]"
      ],
      "metadata": {
        "id": "SJlTihq492X5"
      },
      "execution_count": null,
      "outputs": []
    },
    {
      "cell_type": "code",
      "source": [
        "# Usando NOT (!)\n",
        "\n",
        "df[(df.marital!=\"married\")]"
      ],
      "metadata": {
        "id": "EHXBe_aY-IIW"
      },
      "execution_count": null,
      "outputs": []
    },
    {
      "cell_type": "markdown",
      "source": [
        "**Selecionando colunas e linhas**\n",
        "\n",
        "Podemos selecionar primeiro as linhas (segundo uma condição) e depois selecionar as colunas desejadas."
      ],
      "metadata": {
        "id": "lkGVk53V-SXe"
      }
    },
    {
      "cell_type": "code",
      "source": [
        "# Uma única coluna\n",
        "\n",
        "df[df.marital==\"married\"].age"
      ],
      "metadata": {
        "id": "EE519ebf-S1N"
      },
      "execution_count": null,
      "outputs": []
    },
    {
      "cell_type": "code",
      "source": [
        "# Várias colunas\n",
        "\n",
        "df[df.marital==\"married\"][[\"age\",\"job\",\"education\"]]"
      ],
      "metadata": {
        "id": "AeOh1new-fOV"
      },
      "execution_count": null,
      "outputs": []
    },
    {
      "cell_type": "markdown",
      "source": [
        "### Convertendo variáveis categóricas"
      ],
      "metadata": {
        "id": "EM8p5yaY_PiH"
      }
    },
    {
      "cell_type": "markdown",
      "source": [
        "Na maioiria dos métodos de Aprendizado de Máquina, a construção do modelo requer que os dados sejam todos numéricos. Lembre-se que temos, basicamente, três tipos de variáveis: numéricos, binários e categóricos.\n",
        "\n",
        "Então, o que podemos fazer quando as variáveis são binárias ou categóricas?\n",
        "\n",
        "No caso das variáveis binárias, no treinamento do modelo, elas podem ser usadas da forma como estão. Isso porque variáveis categóricas geralmente indicam a presença (1) ou ausência (0) de uma determinada característica. E esses valores numéricos (0 ou 1) já são suficientes para o treinamento do modelo.\n",
        "\n",
        "Por outro lado, no caso das variáveis categóricas (com três ou mais categorias), precisamos convertê-las em numéricas. Uma forma muito utilizada para essa conversão é chamada de One-Hot-Encoding. A ideia nessa abordagem é transformar o conjunto de *n* categorias em *n* variáveis binárias (ou *n* colunas contendo variáveis binárias). E em cada uma dessas colunas o valor \"1\" indica a presença daquela categorias e o valor \"0\" indica a ausência.\n",
        "\n",
        "Note que, ao trasnformar *n* categorias em *n* variáveis binárias, a soma dos valores das colunas é igual a um, ou seja, cada linha desse novo conjunto de colunas possui apenas uma coluna com o valor igual a \"1\"."
      ],
      "metadata": {
        "id": "Lfe3OmrV_XHw"
      }
    },
    {
      "cell_type": "code",
      "source": [
        "# Exemplo\n",
        "\n",
        "from sklearn.preprocessing import OneHotEncoder\n",
        "ohe = OneHotEncoder(handle_unknown='ignore')\n",
        "\n",
        "ohe.fit(df[[\"education\",\t\"marital\"]])\n",
        "df2 = pd.DataFrame(data=ohe.transform(df[[\"education\",\t\"marital\"]]).toarray(),columns=ohe.get_feature_names_out([\"education\",\t\"marital\"]))\n",
        "df2.head()"
      ],
      "metadata": {
        "id": "DujmyYqRBnd2"
      },
      "execution_count": null,
      "outputs": []
    },
    {
      "cell_type": "markdown",
      "source": [
        "# Visualização de dados\n",
        "\n",
        "Além da análise dos dados, também é importante usar métodos para a visualização dos mesmos. Há diversas formas de representar dados graficamente, cada uma com seu objetivo específico. Em Python, temos bibliotecas com funções úteis para a criação de gráficos, como o *mtplotlib*."
      ],
      "metadata": {
        "id": "R-XNExXV3wXX"
      }
    },
    {
      "cell_type": "code",
      "source": [
        "# Histograma\n",
        "\n",
        "plt.hist(df.age, bins=df.age.max()-df.age.min())\n",
        "plt.title('Histograma', fontsize=14, weight='bold')\n",
        "plt.show()"
      ],
      "metadata": {
        "id": "Jxzy02kz4bOi"
      },
      "execution_count": null,
      "outputs": []
    },
    {
      "cell_type": "code",
      "source": [
        "# Gráfico de barra\n",
        "\n",
        "plt.bar(df.marital.unique(),df.marital.value_counts(),color=['c','g','y'],alpha=0.5)\n",
        "plt.title('Bar plot', fontsize=14, weight='bold')"
      ],
      "metadata": {
        "id": "uvICsg8T6CwG"
      },
      "execution_count": null,
      "outputs": []
    },
    {
      "cell_type": "markdown",
      "source": [
        "# **Exercício 3**\n",
        "\n",
        "Na construção de um modelo de Aprendizado de Máquina, é comum (e recomendado) gerar dados de treinamento (usados para treinar o modelo) e dados de teste (usados para avaliar o modelo treinado).\n",
        "\n",
        "Há um comando em Python (dentro da biblioteca do scikit-learn) que faz essa tarefa. Procure e use essa biblioteca para gerar um conjunto de treinamento com 80% dos dados e um conjunto de teste com os 20% dos dados restantes.\n",
        "\n",
        "Considere o mesmo conjunto de dados usado na aula."
      ],
      "metadata": {
        "id": "9SvGh9OCGtUI"
      }
    }
  ]
}