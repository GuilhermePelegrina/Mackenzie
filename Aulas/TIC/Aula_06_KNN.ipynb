{
  "nbformat": 4,
  "nbformat_minor": 0,
  "metadata": {
    "colab": {
      "provenance": [],
      "authorship_tag": "ABX9TyNJ5fy/uxHnais3qnrquvxI",
      "include_colab_link": true
    },
    "kernelspec": {
      "name": "python3",
      "display_name": "Python 3"
    },
    "language_info": {
      "name": "python"
    }
  },
  "cells": [
    {
      "cell_type": "markdown",
      "metadata": {
        "id": "view-in-github",
        "colab_type": "text"
      },
      "source": [
        "<a href=\"https://colab.research.google.com/github/GuilhermePelegrina/Mackenzie/blob/main/Aulas/TIC/Aula_06_KNN.ipynb\" target=\"_parent\"><img src=\"https://colab.research.google.com/assets/colab-badge.svg\" alt=\"Open In Colab\"/></a>"
      ]
    },
    {
      "cell_type": "markdown",
      "source": [
        "<img src='https://raw.githubusercontent.com/guilhermepelegrina/Mackenzie/main/logo_mackenzie.png'>\n"
      ],
      "metadata": {
        "id": "l0sQAjoQytYV"
      }
    },
    {
      "cell_type": "code",
      "source": [
        "import pandas                  as pd\n",
        "import numpy                   as np\n",
        "import matplotlib.pyplot       as plt\n",
        "import seaborn                 as sns\n",
        "\n",
        "import warnings\n",
        "warnings.filterwarnings(\"ignore\")"
      ],
      "metadata": {
        "id": "NYCRqwFdf4Ci"
      },
      "execution_count": null,
      "outputs": []
    },
    {
      "cell_type": "markdown",
      "source": [
        "# **Modelo K-Nearest Neighbor (KNN)**"
      ],
      "metadata": {
        "id": "GpxAuEuifzCj"
      }
    },
    {
      "cell_type": "markdown",
      "source": [
        "Assim como a Regressão Logística, O algoritmo dos K-Vizinhos Mais Próximos (KNN) é um algoritmo de aprendizado de máquina usado para classificação. O KNN classifica cada valor de um conjunto de dados avaliando sua distância em relação aos k vizinhos mais próximos. Se os k vizinhos mais próximos forem majoritariamente de uma classe, a amostra em questão será classificada nesta categoria. A ideia é a seguinte:\n",
        "\n",
        "<img src='https://raw.githubusercontent.com/guilhermepelegrina/Mackenzie/main/Aulas/Figuras/fig_knn_ex1.png'>\n",
        "\n",
        "Quando o k é pequeno, a classificação fica mais sensível a regiões bem próximas (podendo ocorrer o problema de *overfitting*). Com k grande, a classificação fica menos sujeita a ruídos e pode ser considerada mais robusta. Porém, se k for grande demais, pode ser que haja o problema de *underfitting*.\n",
        "\n",
        "Lembre-se:\n",
        "- *Overfitting*: O modelo tem um ótimo desempenho nos dados de treinamento, mas o resultado nos dados de teste é ruim. O modelo se especializou nos dados de treinamento (não tem capacidade de generalização).\n",
        "\n",
        "- *Underfitting*: O desempenho do modelo já é ruim no próprio treinamento. Na etapa de treinamento, não houve o aprendizado de relações entre as variáveis e resultado pode ser visto como algo aleatório.\n",
        "\n",
        "Em nosso exemplo, veja o que acontece se consideramos 5 vizinhos próximos.\n",
        "\n",
        "<img src='https://raw.githubusercontent.com/guilhermepelegrina/Mackenzie/main/Aulas/Figuras/fig_knn_ex2.png'>"
      ],
      "metadata": {
        "id": "HL7lrcXszfEj"
      }
    },
    {
      "cell_type": "markdown",
      "source": [
        "<font size =5 > Algoritmo KNN </font>\n",
        "\n",
        "1.   Selecione o dado a ser classificado;\n",
        "1.   Meça sua distância (euclidiana) em relação a cada um dos outros dados que já estão classificados (os dados de treinamento);\n",
        "1.   Selecione os primeros k dados com menores distâncias;\n",
        "1.   Verifique as classes (ou categorias) dos dados que tiveram as k menores distâncias e conte a quantidade de vezes que cada classe apareceu;\n",
        "1.   Classifique esse novo dado como pertencente à classe que mais apareceu."
      ],
      "metadata": {
        "id": "b9WYDU0C0Ji-"
      }
    },
    {
      "cell_type": "markdown",
      "metadata": {
        "id": "cuVz0Pu063im"
      },
      "source": [
        "<font size =4 > Funções Distância </font>\n",
        "\n",
        "Existem várias funções distância, mas em geral aplicaremos aqui a distância Euclidiana:\n",
        "\n",
        "$$ d(\\hat{x},x^i) = \\sqrt{ \\sum_{j=1}^n(\\hat{x}_j - x_j^i)^2 },$$\n",
        "\n",
        "onde $\\hat{x} = [x_1, x_2, \\ldots, x_j]$ é o dado a ser classificado e $x^i = [x_1^i, x_2^i, \\ldots, x_j^i]$ é um dado de treinamento. Esse cálculo, então, é feito para todos os $n$ dados de teinamento $i = 1, \\ldots, n$.\n",
        "\n",
        "\n",
        "\n",
        "\n"
      ]
    },
    {
      "cell_type": "markdown",
      "metadata": {
        "id": "rkFktO4Kfa2V"
      },
      "source": [
        "### Prós\n",
        "* É simples de implementar;\n",
        "* Treinar é mais fácil;\n",
        "* Tem poucos parâmetros.\n",
        "\n",
        "### Limitações\n",
        "* Alto custo de previsão;\n",
        "* Requer o uso de uma função distância.\n",
        "\n"
      ]
    },
    {
      "cell_type": "markdown",
      "source": [
        "## Exemplo\n",
        "Utilizaremos um exemplo bastante simples com o objetivo de facilitar a compreensão do modelo. Neste exemplo, a classificação 'O cliente vai pagar o empréstimo?', que pode ser Sim (o empréstimo foi concedido e pago pelo cliente - classe 1) ou Não (o empréstimo foi concedido e não foi pago pelo cliente - classe 0), é determinada com base em apenas dois atributos: a idade do cliente e o valor do empréstimo.\n",
        "\n",
        "Note que, para essa construir esse classificador, necessitamos de um conjunto de dados que indique clientes que já pagaram ou não um empréstimo obtido."
      ],
      "metadata": {
        "id": "1kcj5Z4W7IAt"
      }
    },
    {
      "cell_type": "code",
      "source": [
        "Loans = pd.DataFrame({'Age':[40,35,45,34,45,48,53,60,50,48,53],\n",
        "                      'Loan':[100000,60000,80000,40000,140000,120000,95000,92000,100000,152000,150000],\n",
        "                      'Repayment':[1,1,1,1,1,1,0,0,0,0,0] }) # 1=vai pagar 0=não vai pagar\n",
        "\n",
        "Loans"
      ],
      "metadata": {
        "id": "b5FQqQbEf7M8"
      },
      "execution_count": null,
      "outputs": []
    },
    {
      "cell_type": "markdown",
      "source": [
        "Qual deve ser a classificação (vai pagar o não o empréstimo) para um cliente com 47 anos e um emprestimo de 142.000? Vamos visualizar os dados:"
      ],
      "metadata": {
        "id": "X9fafYYX7wrZ"
      }
    },
    {
      "cell_type": "code",
      "source": [
        "# Visualizando os dados!\n",
        "\n",
        "sns.scatterplot(data=Loans, x='Age', y='Loan', hue='Repayment')\n",
        "plt.scatter(47, 142000, c='fuchsia',s=60) # Novo valor a ser classificado\n",
        "plt.show()"
      ],
      "metadata": {
        "id": "u7XG2JEKglBu"
      },
      "execution_count": null,
      "outputs": []
    },
    {
      "cell_type": "code",
      "source": [
        "# Calculando as distâncias\n",
        "\n",
        "dist = []\n",
        "for i in range(len(Loans)):\n",
        "    d = float( np.sqrt( (Loans.iloc[i].Age - 47)**2 + (Loans.iloc[i].Loan - 142000)**2 ) )\n",
        "    dist.append(d)\n",
        "\n",
        "Loans['dist'] = dist\n",
        "\n",
        "Loans.sort_values('dist')"
      ],
      "metadata": {
        "id": "vMrylkymjGEE"
      },
      "execution_count": null,
      "outputs": []
    },
    {
      "cell_type": "markdown",
      "source": [
        "Considerando k=3 (os três vizinhos mais próximos) a classificação para esse novo cliente seria: Não vai pagar o empréstimo (*Repayment* = 0).\n"
      ],
      "metadata": {
        "id": "PDPeWwAjjxMZ"
      }
    },
    {
      "cell_type": "markdown",
      "source": [
        "<font size =5> **Cuidado!** Normalizar os dados </font>\n",
        "\n",
        "A distância euclidiana é sensível à escala dos dados, o que significa que variáveis com escalas diferentes podem afetar o resultado. Para evitar esse problema, é comum normalizar ou padronizar os dados antes de calcular a distância euclidiana. Isso garante que todas as variáveis tenham a mesma influência na medida de distância.\n",
        "\n",
        "Portanto, antes de calcular distâncias euclidianas em conjuntos de dados com variáveis de escalas diferentes, é recomendável normalizar ou padronizar os dados para obter resultados mais robustos e significativos.\n",
        "\n",
        "Há diversas formas de normalizar dados. Aqui, vamos considerar a normalização pelo máximo. Ou seja, para cada atributo (coluna), dividimos os valores pelo máximo dessa mesma coluna. Isso garante que os dados fiquem entre 0 e 1."
      ],
      "metadata": {
        "id": "viNpVrtV8sG4"
      }
    },
    {
      "cell_type": "code",
      "source": [
        "# Normalizando o novo dado\n",
        "\n",
        "print(\"idade:\", 47/Loans.Age.max())\n",
        "print(\"Loan:\", 142000/Loans.Loan.max())"
      ],
      "metadata": {
        "id": "RA2bpKJS90Ne"
      },
      "execution_count": null,
      "outputs": []
    },
    {
      "cell_type": "code",
      "source": [
        "# Normalizando os dados\n",
        "\n",
        "Loans[\"Age\"] = Loans.Age / Loans.Age.max()\n",
        "Loans[\"Loan\"] = Loans.Loan / Loans.Loan.max()"
      ],
      "metadata": {
        "id": "Grxx4iza9iZs"
      },
      "execution_count": null,
      "outputs": []
    },
    {
      "cell_type": "code",
      "source": [
        "# Calculando as distâncias\n",
        "\n",
        "dist = []\n",
        "for i in range(11):\n",
        "    d = float( np.sqrt( (Loans.iloc[i].Age - 0.7833)**2 + (Loans.iloc[i].Loan - 0.9342)**2 ) )\n",
        "    dist.append(d)\n",
        "\n",
        "Loans['dist'] = dist\n",
        "\n",
        "Loans.sort_values('dist')"
      ],
      "metadata": {
        "id": "CmG4SEtO9xh_"
      },
      "execution_count": null,
      "outputs": []
    },
    {
      "cell_type": "markdown",
      "source": [
        "Considerando k=3 (os três vizinhos mais próximos) a classificação para esse novo cliente seria: Não vai pagar o empréstimo (*Repayment* = 0)."
      ],
      "metadata": {
        "id": "qhvWjErk_FIX"
      }
    },
    {
      "cell_type": "markdown",
      "source": [
        "## Usando o módulo `neighbors` da biblioteca `sklearn`\n",
        "\n",
        "Vamos agora usar o módulo `neighbors` da biblioteca `sklearn` para implementar o KNN. Também, neste exemplo, vamos considerar uma outra técnica de normalização dos dados. Neste caso, para cada dado de uma mesma coluna, subtraímos a média e dividimos pelo desvio padrão (desta mesma coluna). Como resultados, cada coluna terá média igual a 0 e desvio padrão igual a 1. Essa técnica também é chamada de padronização."
      ],
      "metadata": {
        "id": "yB65A4g2APNA"
      }
    },
    {
      "cell_type": "code",
      "source": [
        "from sklearn import neighbors"
      ],
      "metadata": {
        "id": "2rhJj4eFBNgY"
      },
      "execution_count": null,
      "outputs": []
    },
    {
      "cell_type": "code",
      "source": [
        "Loans = pd.DataFrame({'Age':[40,35,45,34,45,48,53,60,50,48,53],\n",
        "                      'Loan':[100000,60000,80000,40000,140000,120000,95000,92000,100000,152000,150000],\n",
        "                      'Repayment':[1,1,1,1,1,1,0,0,0,0,0] }) # 1=vai pagar 0=não vai pagar\n",
        "\n",
        "Loans.head(3)"
      ],
      "metadata": {
        "id": "IzJ7fWzeSW5D"
      },
      "execution_count": null,
      "outputs": []
    },
    {
      "cell_type": "code",
      "source": [
        "new_case=pd.DataFrame({'Age':[47],\n",
        "                      'Loan':[142000]}) # 1=vai pagar 0=não vai pagar\n",
        "new_case"
      ],
      "metadata": {
        "id": "zAQO6EXTSd56"
      },
      "execution_count": null,
      "outputs": []
    },
    {
      "cell_type": "code",
      "source": [
        "# Dados de entrada/saída\n",
        "X = Loans[['Age','Loan']]\n",
        "y = Loans[[\"Repayment\"]]\n",
        "\n",
        "# padroniza os dados para que a média seja 0 e o desvio padrão seja 1.\n",
        "X_padronizados = (X-X.mean())/X.std()\n",
        "\n",
        "# Definindo ou declarando o modelo\n",
        "k=3\n",
        "clf = neighbors.KNeighborsClassifier(k)\n",
        "\n",
        "# Aprendizado (Emprega o conjunto de treinamento)\n",
        "clf.fit(X_padronizados, y)\n",
        "\n",
        "# Fazendo a predição\n",
        "new_case_padronizado=(new_case-X.mean())/X.std()\n",
        "Loan_type_pred = clf.predict(new_case_padronizado)\n",
        "\n",
        "print('Classificação KNN, k=', k ,', para o novo empréstimo é ', Loan_type_pred)"
      ],
      "metadata": {
        "id": "TBHfAd19ApHJ"
      },
      "execution_count": null,
      "outputs": []
    },
    {
      "cell_type": "markdown",
      "source": [
        "<font size= 5> Adicionando variáveis categóricas </font>\n",
        "\n",
        "Vamos agora incluir variáveis categóricas no problema de classificação. Nesse caso, vamos incluir uma variável que indica se o empréstimo é de curto prazo (*Short*), longo prazo (*Long*), ou prazo indefinido (*Undefined*)."
      ],
      "metadata": {
        "id": "9d59LoErVMd0"
      }
    },
    {
      "cell_type": "code",
      "source": [
        "Loans = pd.DataFrame({'Age':[40,35,45,34,45,48,53,60,50,48,53],\n",
        "                      'Loan':[100000,60000,80000,40000,120000,98000,95000,92000,100000,170000,150000],\n",
        "                      'Duration':['Short','Long','Short','Undefined','Long','Short','Long','Short','Undefined','Long', 'Short'],\n",
        "                      'Repayment':[1,1,1,1,1,1,0,0,0,0,0] }) # 1=vai pagar 0=não vai pagar\n",
        "Loans.head()"
      ],
      "metadata": {
        "id": "jaxAwsgLVUrK"
      },
      "execution_count": null,
      "outputs": []
    },
    {
      "cell_type": "code",
      "source": [
        "new_case  = pd.DataFrame({'Age':[47],\n",
        "                      'Duration':['Short'],\n",
        "                      'Loan':[142000]})\n",
        "new_case"
      ],
      "metadata": {
        "id": "yTF62FGEVnYO"
      },
      "execution_count": null,
      "outputs": []
    },
    {
      "cell_type": "markdown",
      "source": [
        "Uma forma de lidar com variáveis categóricas é de \"binarizar\" as categorias, de maneira a criar novas colunas de dados que contenha 1 quando a categoria está presente na amostra e 0 quando não está. Nesse caso, um atributo categórico, com $m$ categorias, é substituído por $m$ novas colunas.\n",
        "\n",
        "Veja o exemplo a seguir."
      ],
      "metadata": {
        "id": "5Nw8W2hB-5Zm"
      }
    },
    {
      "cell_type": "code",
      "source": [
        "# Variáveis dummy (Hot encode)\n",
        "\n",
        "dummies = pd.get_dummies(Loans[\"Duration\"])\n",
        "Loans = pd.concat([Loans, dummies],axis=1)\n",
        "Loans.head()"
      ],
      "metadata": {
        "id": "a1HTIgucVqkv"
      },
      "execution_count": null,
      "outputs": []
    },
    {
      "cell_type": "code",
      "source": [
        "# Eliminando a coluna original\n",
        "Loans.drop(columns=['Duration'], inplace=True)\n",
        "Loans"
      ],
      "metadata": {
        "id": "Qf2aHzxIWWGg"
      },
      "execution_count": null,
      "outputs": []
    },
    {
      "cell_type": "code",
      "source": [
        "# New case\n",
        "\n",
        "dummies_new_case = pd.get_dummies(new_case[\"Duration\"])\n",
        "new_case = pd.concat([new_case, dummies_new_case],axis=1)\n",
        "new_case.drop(columns=['Duration'], inplace=True)\n",
        "new_case.head()"
      ],
      "metadata": {
        "id": "zmnnzH40ZDux"
      },
      "execution_count": null,
      "outputs": []
    },
    {
      "cell_type": "code",
      "source": [
        "# Adicionando as colunas que faltam\n",
        "new_case['Long'] = 0\n",
        "new_case['Undefined'] = 0\n",
        "new_case"
      ],
      "metadata": {
        "id": "gOEryWFUZcvX"
      },
      "execution_count": null,
      "outputs": []
    },
    {
      "cell_type": "code",
      "source": [
        "# Dados de entrada/saída\n",
        "X = Loans[['Age','Loan']]\n",
        "y = Loans[[\"Repayment\"]]\n",
        "\n",
        "# Normalizando os dados\n",
        "X_padronizados = (X-X.mean())/X.std()\n",
        "X_padronizados = pd.concat([X, dummies],axis=1) #adicionando dummies\n",
        "\n",
        "# Definindo ou declarando o modelo\n",
        "k=3\n",
        "clf = neighbors.KNeighborsClassifier(k)\n",
        "\n",
        "# Aprendizado (Emprega o conjunto de treinamento)\n",
        "clf.fit(X_padronizados, y)\n",
        "\n",
        "# Fazendo a predição\n",
        "X_new_case=new_case[['Age','Loan']]\n",
        "X_new_case_padr=(X_new_case-X.mean())/X.std()\n",
        "\n",
        "X_new_case_padr=pd.concat([X_new_case_padr, new_case[[\"Long\",\"Short\",\"Undefined\"]]],axis=1)\n",
        "\n",
        "Loan_type_pred = clf.predict(X_new_case_padr)\n",
        "\n",
        "print('Classificação Knn, k=', k ,', para o novo empréstimo é', Loan_type_pred)"
      ],
      "metadata": {
        "id": "_FcvqCJtWc99"
      },
      "execution_count": null,
      "outputs": []
    }
  ]
}