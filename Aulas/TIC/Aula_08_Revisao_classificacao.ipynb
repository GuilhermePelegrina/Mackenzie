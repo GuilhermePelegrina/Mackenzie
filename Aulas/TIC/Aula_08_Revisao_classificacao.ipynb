{
  "nbformat": 4,
  "nbformat_minor": 0,
  "metadata": {
    "colab": {
      "provenance": [],
      "authorship_tag": "ABX9TyNkmpxjvaPtyJD3MkLDxt31",
      "include_colab_link": true
    },
    "kernelspec": {
      "name": "python3",
      "display_name": "Python 3"
    },
    "language_info": {
      "name": "python"
    }
  },
  "cells": [
    {
      "cell_type": "markdown",
      "metadata": {
        "id": "view-in-github",
        "colab_type": "text"
      },
      "source": [
        "<a href=\"https://colab.research.google.com/github/GuilhermePelegrina/Mackenzie/blob/main/Aulas/TIC/Aula_08_Revisao_classificacao.ipynb\" target=\"_parent\"><img src=\"https://colab.research.google.com/assets/colab-badge.svg\" alt=\"Open In Colab\"/></a>"
      ]
    },
    {
      "cell_type": "markdown",
      "source": [
        "<img src='https://raw.githubusercontent.com/guilhermepelegrina/Mackenzie/main/logo_mackenzie.png'>\n"
      ],
      "metadata": {
        "id": "nYSzUrZr-BG8"
      }
    },
    {
      "cell_type": "markdown",
      "source": [
        "# **Revisão: Problemas de classificação**\n",
        "\n",
        "Nesta aula, faremos uma revisão sobre o problema de classificação e como usar o Aprendizado de Máquina para resolvê-los.\n",
        "\n",
        "Usaremos como método de aprendizado de máquina a Árvore de Decisão."
      ],
      "metadata": {
        "id": "wbF7Rg1O-D8N"
      }
    },
    {
      "cell_type": "markdown",
      "source": [
        "# Preparando o conjunto de dados\n",
        "\n",
        "Para o conjunto de dados, usaremos o [Bank Marketing](https://www.kaggle.com/c/bank-marketing-uci). Nele, temos informações sobre mais de 45 mil clientes de um determinado banco e, para cada cliente, se o mesmo subscreverá ou não um um depósito a prazo durante uma campanha de marketing. As variáveis de entrada (variáveis preditoras) são as seguintes:\n",
        "\n",
        "1. `age`: idade,\n",
        "\n",
        "2. `job`: profissão ('admin.', 'blue-collar', 'entrepreneur', 'housemaid', 'management', 'retired', 'self-employed', 'services', 'student', 'technician', 'unemployed', 'unknown'),\n",
        "\n",
        "3. `marital`: estado civil (categorical: 'divorced', 'married', 'single', 'unknown'; *nota*: 'divorced' significa 'divorced' ou 'widowed'),\n",
        "\n",
        "4. `education`: escolaridade ('basic.4y', 'basic.6y', 'basic.9y', 'high.school', 'illiterate', 'professional.course', 'university.degree', 'unknown'),\n",
        "\n",
        "5. `default`: se há empréstimos que não pagou, em *default* ('no', 'yes', 'unknown'),\n",
        "\n",
        "6. `balance`: o saldo real na conta.\n",
        "\n",
        "7. `housing`: se tem financiamento imobiliário ('no', 'yes', 'unknown'),\n",
        "\n",
        "8. `loan`: se tem empréstimo pessoal ('no', 'yes', 'unknown'),\n",
        "\n",
        "9. `contact`: tipo de contato ('cellular', 'telephone'),\n",
        "\n",
        "10. `day`: dia da semana do último contato (categorical: 'mon','tue','wed','thu','fri'),\n",
        "\n",
        "11. `month`: mês do último contato ('jan', 'feb', 'mar', …, 'nov', 'dec'),\n",
        "\n",
        "12. `duration`: duração do último contato, em segundos. Important note: this attribute highly affects the output target (e.g., if duration=0 then y='no'). Yet, the duration is not known before a call is performed. Also, after the end of the call y is obviously known. Thus, this input should only be included for benchmark purposes and should be discarded if the intention is to have a realistic predictive model.\n",
        "\n",
        "13. `campaign`: número de contatos feitos durante a campanha (inclui o último contato),\n",
        "\n",
        "14. `pdays`: número de dias que se passaram após o contato anterior até o último contato, para esta campanha (999 significa que o cliente não foi contatato anteriormente),\n",
        "\n",
        "15. `previous`: número de contatos feitos antes dessa campanha.\n",
        "\n",
        "16. `poutcome`: resultado da campanha de marketing anterior ('failure', 'nonexistent', 'success')\n",
        "\n",
        "Variável de saída: (que queremos prever):\n",
        "\n",
        "- `y`: O cliente subscreveu o depósito a prazo? ('yes' ou 'no')."
      ],
      "metadata": {
        "id": "HB_lOtq9_DMM"
      }
    },
    {
      "cell_type": "markdown",
      "source": [
        "Para ilustrar o uso do Aprendizado de Máquina baseado na Árvore de Decisão, vamos considerar apenas os seguintes atributos (variáveis de entrada): `age`, `job`, `marital`, `education`, `default`, `balance`, `housing`, `loan` e `poutcome`.\n",
        "\n",
        "Acesse o conjunto de dados (com todos os atributos) a partir do link abaixo:\n",
        "\n",
        "https://raw.githubusercontent.com/guilhermepelegrina/Mackenzie/main/Datasets/data_bank_marketing.csv\n",
        "\n"
      ],
      "metadata": {
        "id": "UmXaSh-qFltA"
      }
    },
    {
      "cell_type": "code",
      "source": [
        "# Leitura de dados\n",
        "\n",
        "import pandas as pd\n",
        "dados = pd.read_csv(\"https://raw.githubusercontent.com/guilhermepelegrina/Mackenzie/main/Datasets/data_bank_marketing.csv\", sep = \";\")\n",
        "dados.head()"
      ],
      "metadata": {
        "id": "c3FmFW5MwHyM"
      },
      "execution_count": null,
      "outputs": []
    },
    {
      "cell_type": "code",
      "source": [
        "# Remover linhas com células vazias\n",
        "\n",
        "dados = dados.dropna()"
      ],
      "metadata": {
        "id": "jH2wG9s5xcrb"
      },
      "execution_count": null,
      "outputs": []
    },
    {
      "cell_type": "code",
      "source": [
        "# Separando dados de entrada e de saída\n",
        "X = dados[[\"age\", \"job\", \"marital\", \"education\", \"default\", \"balance\", \"housing\", \"loan\",\"poutcome\"]]\n",
        "X"
      ],
      "metadata": {
        "id": "2bq0z5sXyFgS"
      },
      "execution_count": null,
      "outputs": []
    },
    {
      "cell_type": "code",
      "source": [
        "# Separando dados de saída\n",
        "y = dados[[\"y\"]]\n",
        "y"
      ],
      "metadata": {
        "id": "9bBe8Z5f0lIK"
      },
      "execution_count": null,
      "outputs": []
    },
    {
      "cell_type": "code",
      "source": [
        "# Conversão de variáveis categóricas em binárias\n",
        "dummies1 = pd.get_dummies(X[\"job\"])\n",
        "dummies2 = pd.get_dummies(X[\"marital\"])\n",
        "dummies3 = pd.get_dummies(X[\"education\"])\n",
        "dummies4 = pd.get_dummies(X[\"default\"])\n",
        "dummies5 = pd.get_dummies(X[\"housing\"])\n",
        "dummies6 = pd.get_dummies(X[\"loan\"])\n",
        "dummies7 = pd.get_dummies(X[\"poutcome\"])\n",
        "\n",
        "X2 = pd.concat([X,dummies1,dummies2,dummies3,dummies4,dummies5,dummies6,dummies7], axis=1)\n",
        "X2 = X2.drop(columns=[\"job\", \"marital\", \"education\", \"default\", \"housing\", \"loan\",\"poutcome\"])\n",
        "X2"
      ],
      "metadata": {
        "id": "bWx2pFeU1Quc"
      },
      "execution_count": null,
      "outputs": []
    },
    {
      "cell_type": "code",
      "source": [
        "# Separar dados de treinamento e teste\n",
        "from sklearn.model_selection import train_test_split\n",
        "\n",
        "seed = 20\n",
        "X2_train, X2_test, y_train, y_test = train_test_split(X2, y, test_size = 0.2, stratify = y, random_state = seed)"
      ],
      "metadata": {
        "id": "jQZ4IpMc5zOM"
      },
      "execution_count": null,
      "outputs": []
    },
    {
      "cell_type": "code",
      "source": [
        "# Normalização\n",
        "# Nesse caso, usando a árvore de decisão, essa etapa não é necessária"
      ],
      "metadata": {
        "id": "a7pI1Vlw8wxI"
      },
      "execution_count": null,
      "outputs": []
    },
    {
      "cell_type": "code",
      "source": [
        "# Declarar o modelo\n",
        "from sklearn.tree import DecisionTreeClassifier\n",
        "seed = 20\n",
        "modelo = DecisionTreeClassifier(criterion = 'entropy', random_state = seed)"
      ],
      "metadata": {
        "id": "SO5QNleF9XLG"
      },
      "execution_count": null,
      "outputs": []
    },
    {
      "cell_type": "code",
      "source": [
        "# Treinamento\n",
        "modelo.fit(X2_train,y_train)"
      ],
      "metadata": {
        "colab": {
          "base_uri": "https://localhost:8080/",
          "height": 74
        },
        "id": "xuqPQ-Lo-L5e",
        "outputId": "4b0fa8a4-2f25-498c-8704-989a6878fd73"
      },
      "execution_count": null,
      "outputs": [
        {
          "output_type": "execute_result",
          "data": {
            "text/plain": [
              "DecisionTreeClassifier(criterion='entropy', random_state=20)"
            ],
            "text/html": [
              "<style>#sk-container-id-1 {color: black;background-color: white;}#sk-container-id-1 pre{padding: 0;}#sk-container-id-1 div.sk-toggleable {background-color: white;}#sk-container-id-1 label.sk-toggleable__label {cursor: pointer;display: block;width: 100%;margin-bottom: 0;padding: 0.3em;box-sizing: border-box;text-align: center;}#sk-container-id-1 label.sk-toggleable__label-arrow:before {content: \"▸\";float: left;margin-right: 0.25em;color: #696969;}#sk-container-id-1 label.sk-toggleable__label-arrow:hover:before {color: black;}#sk-container-id-1 div.sk-estimator:hover label.sk-toggleable__label-arrow:before {color: black;}#sk-container-id-1 div.sk-toggleable__content {max-height: 0;max-width: 0;overflow: hidden;text-align: left;background-color: #f0f8ff;}#sk-container-id-1 div.sk-toggleable__content pre {margin: 0.2em;color: black;border-radius: 0.25em;background-color: #f0f8ff;}#sk-container-id-1 input.sk-toggleable__control:checked~div.sk-toggleable__content {max-height: 200px;max-width: 100%;overflow: auto;}#sk-container-id-1 input.sk-toggleable__control:checked~label.sk-toggleable__label-arrow:before {content: \"▾\";}#sk-container-id-1 div.sk-estimator input.sk-toggleable__control:checked~label.sk-toggleable__label {background-color: #d4ebff;}#sk-container-id-1 div.sk-label input.sk-toggleable__control:checked~label.sk-toggleable__label {background-color: #d4ebff;}#sk-container-id-1 input.sk-hidden--visually {border: 0;clip: rect(1px 1px 1px 1px);clip: rect(1px, 1px, 1px, 1px);height: 1px;margin: -1px;overflow: hidden;padding: 0;position: absolute;width: 1px;}#sk-container-id-1 div.sk-estimator {font-family: monospace;background-color: #f0f8ff;border: 1px dotted black;border-radius: 0.25em;box-sizing: border-box;margin-bottom: 0.5em;}#sk-container-id-1 div.sk-estimator:hover {background-color: #d4ebff;}#sk-container-id-1 div.sk-parallel-item::after {content: \"\";width: 100%;border-bottom: 1px solid gray;flex-grow: 1;}#sk-container-id-1 div.sk-label:hover label.sk-toggleable__label {background-color: #d4ebff;}#sk-container-id-1 div.sk-serial::before {content: \"\";position: absolute;border-left: 1px solid gray;box-sizing: border-box;top: 0;bottom: 0;left: 50%;z-index: 0;}#sk-container-id-1 div.sk-serial {display: flex;flex-direction: column;align-items: center;background-color: white;padding-right: 0.2em;padding-left: 0.2em;position: relative;}#sk-container-id-1 div.sk-item {position: relative;z-index: 1;}#sk-container-id-1 div.sk-parallel {display: flex;align-items: stretch;justify-content: center;background-color: white;position: relative;}#sk-container-id-1 div.sk-item::before, #sk-container-id-1 div.sk-parallel-item::before {content: \"\";position: absolute;border-left: 1px solid gray;box-sizing: border-box;top: 0;bottom: 0;left: 50%;z-index: -1;}#sk-container-id-1 div.sk-parallel-item {display: flex;flex-direction: column;z-index: 1;position: relative;background-color: white;}#sk-container-id-1 div.sk-parallel-item:first-child::after {align-self: flex-end;width: 50%;}#sk-container-id-1 div.sk-parallel-item:last-child::after {align-self: flex-start;width: 50%;}#sk-container-id-1 div.sk-parallel-item:only-child::after {width: 0;}#sk-container-id-1 div.sk-dashed-wrapped {border: 1px dashed gray;margin: 0 0.4em 0.5em 0.4em;box-sizing: border-box;padding-bottom: 0.4em;background-color: white;}#sk-container-id-1 div.sk-label label {font-family: monospace;font-weight: bold;display: inline-block;line-height: 1.2em;}#sk-container-id-1 div.sk-label-container {text-align: center;}#sk-container-id-1 div.sk-container {/* jupyter's `normalize.less` sets `[hidden] { display: none; }` but bootstrap.min.css set `[hidden] { display: none !important; }` so we also need the `!important` here to be able to override the default hidden behavior on the sphinx rendered scikit-learn.org. See: https://github.com/scikit-learn/scikit-learn/issues/21755 */display: inline-block !important;position: relative;}#sk-container-id-1 div.sk-text-repr-fallback {display: none;}</style><div id=\"sk-container-id-1\" class=\"sk-top-container\"><div class=\"sk-text-repr-fallback\"><pre>DecisionTreeClassifier(criterion=&#x27;entropy&#x27;, random_state=20)</pre><b>In a Jupyter environment, please rerun this cell to show the HTML representation or trust the notebook. <br />On GitHub, the HTML representation is unable to render, please try loading this page with nbviewer.org.</b></div><div class=\"sk-container\" hidden><div class=\"sk-item\"><div class=\"sk-estimator sk-toggleable\"><input class=\"sk-toggleable__control sk-hidden--visually\" id=\"sk-estimator-id-1\" type=\"checkbox\" checked><label for=\"sk-estimator-id-1\" class=\"sk-toggleable__label sk-toggleable__label-arrow\">DecisionTreeClassifier</label><div class=\"sk-toggleable__content\"><pre>DecisionTreeClassifier(criterion=&#x27;entropy&#x27;, random_state=20)</pre></div></div></div></div></div>"
            ]
          },
          "metadata": {},
          "execution_count": 19
        }
      ]
    },
    {
      "cell_type": "code",
      "source": [
        "# Teste\n",
        "qualquernome_pred = modelo.predict(X2_test)\n",
        "qualquernome_pred"
      ],
      "metadata": {
        "colab": {
          "base_uri": "https://localhost:8080/"
        },
        "id": "YoW9FGx5_Ayx",
        "outputId": "21d976d4-0582-4020-8b62-feede176ecf9"
      },
      "execution_count": null,
      "outputs": [
        {
          "output_type": "execute_result",
          "data": {
            "text/plain": [
              "array(['no', 'no', 'no', ..., 'no', 'no', 'no'], dtype=object)"
            ]
          },
          "metadata": {},
          "execution_count": 22
        }
      ]
    },
    {
      "cell_type": "code",
      "source": [
        "# Avaliar o modelo\n",
        "from sklearn.metrics import confusion_matrix, ConfusionMatrixDisplay\n",
        "\n",
        "labels=['no','yes'] #substitua o seu aqui de acordo com o que houver na coluna que definiu como \"y\"\n",
        "cm = confusion_matrix(y_test, qualquernome_pred) #se preferir use , normalize='all' nos parênteses\n",
        "cmd = ConfusionMatrixDisplay(cm, display_labels=labels)\n",
        "cmd.plot()"
      ],
      "metadata": {
        "colab": {
          "base_uri": "https://localhost:8080/",
          "height": 467
        },
        "id": "snZAwIWR-iQZ",
        "outputId": "46da88b5-fa07-4470-bea6-02a3ee321873"
      },
      "execution_count": null,
      "outputs": [
        {
          "output_type": "execute_result",
          "data": {
            "text/plain": [
              "<sklearn.metrics._plot.confusion_matrix.ConfusionMatrixDisplay at 0x7e45f13c06d0>"
            ]
          },
          "metadata": {},
          "execution_count": 23
        },
        {
          "output_type": "display_data",
          "data": {
            "text/plain": [
              "<Figure size 640x480 with 2 Axes>"
            ],
            "image/png": "[encoded data removed]"
          },
          "metadata": {}
        }
      ]
    },
    {
      "cell_type": "code",
      "source": [
        "# Acurácia\n",
        "from sklearn.metrics import accuracy_score\n",
        "accuracy = accuracy_score(y_test,qualquernome_pred)\n",
        "print(accuracy)"
      ],
      "metadata": {
        "colab": {
          "base_uri": "https://localhost:8080/"
        },
        "id": "zEdUZucmB2xp",
        "outputId": "13b5fc3b-c295-4d42-f18e-28016fa2a25d"
      },
      "execution_count": null,
      "outputs": [
        {
          "output_type": "stream",
          "name": "stdout",
          "text": [
            "0.8198606657082826\n"
          ]
        }
      ]
    },
    {
      "cell_type": "code",
      "source": [
        "# Outras medidas de desempenho\n",
        "from sklearn.metrics import classification_report\n",
        "\n",
        "report = classification_report(y_test,qualquernome_pred)\n",
        "print(report)"
      ],
      "metadata": {
        "colab": {
          "base_uri": "https://localhost:8080/"
        },
        "id": "qFHbjumKCcYQ",
        "outputId": "ff4a8821-7d0e-46bc-f005-8e0590f37b1e"
      },
      "execution_count": null,
      "outputs": [
        {
          "output_type": "stream",
          "name": "stdout",
          "text": [
            "              precision    recall  f1-score   support\n",
            "\n",
            "          no       0.90      0.89      0.90      7985\n",
            "         yes       0.25      0.26      0.26      1058\n",
            "\n",
            "    accuracy                           0.82      9043\n",
            "   macro avg       0.57      0.58      0.58      9043\n",
            "weighted avg       0.82      0.82      0.82      9043\n",
            "\n"
          ]
        }
      ]
    }
  ]
}