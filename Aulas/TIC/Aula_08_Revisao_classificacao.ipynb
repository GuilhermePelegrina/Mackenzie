{
  "nbformat": 4,
  "nbformat_minor": 0,
  "metadata": {
    "colab": {
      "provenance": [],
      "authorship_tag": "ABX9TyNhtdzd+NFihKjY5JKeoSMF",
      "include_colab_link": true
    },
    "kernelspec": {
      "name": "python3",
      "display_name": "Python 3"
    },
    "language_info": {
      "name": "python"
    }
  },
  "cells": [
    {
      "cell_type": "markdown",
      "metadata": {
        "id": "view-in-github",
        "colab_type": "text"
      },
      "source": [
        "<a href=\"https://colab.research.google.com/github/GuilhermePelegrina/Mackenzie/blob/main/Aulas/TIC/Aula_08_Revisao_classificacao.ipynb\" target=\"_parent\"><img src=\"https://colab.research.google.com/assets/colab-badge.svg\" alt=\"Open In Colab\"/></a>"
      ]
    },
    {
      "cell_type": "markdown",
      "source": [
        "<img src='https://raw.githubusercontent.com/guilhermepelegrina/Mackenzie/main/logo_mackenzie.png'>\n"
      ],
      "metadata": {
        "id": "nYSzUrZr-BG8"
      }
    },
    {
      "cell_type": "markdown",
      "source": [
        "# **Revisão: Problemas de classificação**\n",
        "\n",
        "Nesta aula, faremos uma revisão sobre o problema de classificação e como usar o Aprendizado de Máquina para resolvê-los.\n",
        "\n",
        "Usaremos como método de aprendizado de máquina a Árvore de Decisão."
      ],
      "metadata": {
        "id": "wbF7Rg1O-D8N"
      }
    },
    {
      "cell_type": "markdown",
      "source": [
        "# Preparando o conjunto de dados\n",
        "\n",
        "Para o conjunto de dados, usaremos o [Bank Marketing](https://www.kaggle.com/c/bank-marketing-uci). Nele, temos informações sobre mais de 45 mil clientes de um determinado banco e, para cada cliente, se o mesmo subscreverá ou não um um depósito a prazo durante uma campanha de marketing. As variáveis de entrada (variáveis preditoras) são as seguintes:\n",
        "\n",
        "1. `age`: idade,\n",
        "\n",
        "2. `job`: profissão ('admin.', 'blue-collar', 'entrepreneur', 'housemaid', 'management', 'retired', 'self-employed', 'services', 'student', 'technician', 'unemployed', 'unknown'),\n",
        "\n",
        "3. `marital`: estado civil (categorical: 'divorced', 'married', 'single', 'unknown'; *nota*: 'divorced' significa 'divorced' ou 'widowed'),\n",
        "\n",
        "4. `education`: escolaridade ('basic.4y', 'basic.6y', 'basic.9y', 'high.school', 'illiterate', 'professional.course', 'university.degree', 'unknown'),\n",
        "\n",
        "5. `default`: se há empréstimos que não pagou, em *default* ('no', 'yes', 'unknown'),\n",
        "\n",
        "6. `balance`: o saldo real na conta.\n",
        "\n",
        "7. `housing`: se tem financiamento imobiliário ('no', 'yes', 'unknown'),\n",
        "\n",
        "8. `loan`: se tem empréstimo pessoal ('no', 'yes', 'unknown'),\n",
        "\n",
        "9. `contact`: tipo de contato ('cellular', 'telephone'),\n",
        "\n",
        "10. `day`: dia da semana do último contato (categorical: 'mon','tue','wed','thu','fri'),\n",
        "\n",
        "11. `month`: mês do último contato ('jan', 'feb', 'mar', …, 'nov', 'dec'),\n",
        "\n",
        "12. `duration`: duração do último contato, em segundos. Important note: this attribute highly affects the output target (e.g., if duration=0 then y='no'). Yet, the duration is not known before a call is performed. Also, after the end of the call y is obviously known. Thus, this input should only be included for benchmark purposes and should be discarded if the intention is to have a realistic predictive model.\n",
        "\n",
        "13. `campaign`: número de contatos feitos durante a campanha (inclui o último contato),\n",
        "\n",
        "14. `pdays`: número de dias que se passaram após o contato anterior até o último contato, para esta campanha (999 significa que o cliente não foi contatato anteriormente),\n",
        "\n",
        "15. `previous`: número de contatos feitos antes dessa campanha.\n",
        "\n",
        "16. `poutcome`: resultado da campanha de marketing anterior ('failure', 'nonexistent', 'success')\n",
        "\n",
        "Variável de saída: (que queremos prever):\n",
        "\n",
        "- `y`: O cliente subscreveu o depósito a prazo? ('yes' ou 'no')."
      ],
      "metadata": {
        "id": "HB_lOtq9_DMM"
      }
    },
    {
      "cell_type": "markdown",
      "source": [
        "Para ilustrar o uso do Aprendizado de Máquina baseado na Árvore de Decisão, vamos considerar apenas os seguintes atributos (variáveis de entrada): `age`, `job`, `marital`, `education`, `default`, `balance`, `housing`, `loan` e `poutcome`.\n",
        "\n",
        "Acesse o conjunto de dados (com todos os atributos) a partir do link abaixo:\n",
        "\n",
        "https://raw.githubusercontent.com/guilhermepelegrina/Mackenzie/main/Datasets/data_bank_marketing.csv\n",
        "\n"
      ],
      "metadata": {
        "id": "UmXaSh-qFltA"
      }
    }
  ]
}