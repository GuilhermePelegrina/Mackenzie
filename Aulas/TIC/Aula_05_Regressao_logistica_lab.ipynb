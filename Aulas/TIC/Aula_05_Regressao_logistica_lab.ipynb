{
  "nbformat": 4,
  "nbformat_minor": 0,
  "metadata": {
    "colab": {
      "provenance": [],
      "authorship_tag": "ABX9TyORrWfPSTrTOwtQl1NbW2A5",
      "include_colab_link": true
    },
    "kernelspec": {
      "name": "python3",
      "display_name": "Python 3"
    },
    "language_info": {
      "name": "python"
    }
  },
  "cells": [
    {
      "cell_type": "markdown",
      "metadata": {
        "id": "view-in-github",
        "colab_type": "text"
      },
      "source": [
        "<a href=\"https://colab.research.google.com/github/GuilhermePelegrina/Mackenzie/blob/main/Aulas/TIC/Aula_05_Regressao_logistica_lab.ipynb\" target=\"_parent\"><img src=\"https://colab.research.google.com/assets/colab-badge.svg\" alt=\"Open In Colab\"/></a>"
      ]
    },
    {
      "cell_type": "markdown",
      "source": [
        "<img src='https://raw.githubusercontent.com/guilhermepelegrina/Mackenzie/main/logo_mackenzie.png'>\n"
      ],
      "metadata": {
        "id": "dqj97q_j-UZr"
      }
    },
    {
      "cell_type": "markdown",
      "source": [
        "# **Atividade Prática - Regressão Logística**"
      ],
      "metadata": {
        "id": "5Q4p-KIF-Ti1"
      }
    },
    {
      "cell_type": "code",
      "metadata": {
        "id": "UPVeFK3a5i6d"
      },
      "source": [
        "#imports necessários\n",
        "import pandas                  as pd\n",
        "import numpy                   as np\n",
        "import matplotlib.pyplot       as plt\n",
        "import seaborn                 as sns\n",
        "import statsmodels.formula.api as sm\n",
        "import warnings\n",
        "warnings.filterwarnings(\"ignore\")\n",
        "\n",
        "from sklearn.model_selection import train_test_split #para facilitar a separação dos dados..\n",
        "from sklearn.linear_model import LogisticRegression  #para configurar o modelo..\n",
        "from sklearn import metrics                          #para obter métricas de análise..\n"
      ],
      "execution_count": null,
      "outputs": []
    },
    {
      "cell_type": "markdown",
      "metadata": {
        "deletable": true,
        "editable": true,
        "id": "qK4Wi5vshpPc"
      },
      "source": [
        "## Relembrando a estrutura de Modelos de Classificação\n"
      ]
    },
    {
      "cell_type": "markdown",
      "source": [
        "```\n",
        "#Separando variáveis independentes das dependentes\n",
        "x = df.drop('Y',axis=1)\n",
        "y = df['Y']\n",
        "\n",
        "#Separando em treino e Teste (30% para Teste)\n",
        "X_train, X_test, y_train, y_test = train_test_split(x, y, test_size=0.3, random_state=1)\n",
        "\n",
        "#Declarando o modelo\n",
        "model = LogisticRegression()\n",
        "\n",
        "#Treinando o modelo (com o conjunto de Treino)\n",
        "model.fit(X_train,y_train)\n",
        "\n",
        "#Utilizando o modelo para prever novos casos\n",
        "y_pred=model.predict(X_test)\n",
        "\n",
        "#Visualizando os resultados\n",
        "cnf_matrix = metrics.confusion_matrix(y_test, y_pred)\n",
        "cnf_matrix\n",
        "\n",
        "#Verificando com qual probabilidade os dados foram classificados\n",
        "y_pred_prob = model.predict_proba(df.drop('Y',axis=1))\n",
        "```"
      ],
      "metadata": {
        "id": "X55vXY1D8HjO"
      }
    },
    {
      "cell_type": "markdown",
      "source": [
        "# **Atividade Prática**\n",
        "\n",
        "Atividade Prática usando a base de dados Auto MPG. Ele pode ser extraído diretamente da biblioteca *seaborn*.\n",
        "\n",
        "Este conjunto de dados descreve o consumo de diferentes carros (medido pelo número de milhas percorridas com o uso de um galão de gasolina - *mgp*) com base no seguinte conjunto de características de tais carros:\n",
        "\n",
        "- cylinders -> Número de cilíndros.\n",
        "\n",
        "- displacement -> Capacidade do motor.\n",
        "\n",
        "- horsepower -> Potência (cavalo-vapor).\n",
        "\n",
        "- weight -> Peso.\n",
        "\n",
        "- acceleration -> Tempo, em segundos, até atingir a velocidade de 100 km/h (partindo do carro em repouso).\n",
        "\n",
        "- model_year -> Ano do modelo do carro\n",
        "\n",
        "- origin -> Local de produção do carro.\n",
        "\n",
        "- name -> Nome do modelo do carro.\n",
        "\n",
        "Para descrição completa dos dados acesse https://archive.ics.uci.edu/ml/datasets/auto+mpg."
      ],
      "metadata": {
        "id": "eDVtGqnC5ZYD"
      }
    },
    {
      "cell_type": "code",
      "source": [
        "# Importando o conjunto de dados\n",
        "\n",
        "mpg = sns.load_dataset('mpg')\n",
        "\n",
        "mpg.head()"
      ],
      "metadata": {
        "id": "II3HwTaZuLCM"
      },
      "execution_count": null,
      "outputs": []
    },
    {
      "cell_type": "markdown",
      "source": [
        "Com base nos dados importados, responda as questões no Moodle (Atividades Práticas - Regressão Logística)."
      ],
      "metadata": {
        "id": "A9GgFY0lJolM"
      }
    }
  ]
}