{
  "nbformat": 4,
  "nbformat_minor": 0,
  "metadata": {
    "colab": {
      "provenance": [],
      "authorship_tag": "ABX9TyN4/KMRn9yauRcDg3TnBjYt",
      "include_colab_link": true
    },
    "kernelspec": {
      "name": "python3",
      "display_name": "Python 3"
    },
    "language_info": {
      "name": "python"
    }
  },
  "cells": [
    {
      "cell_type": "markdown",
      "metadata": {
        "id": "view-in-github",
        "colab_type": "text"
      },
      "source": [
        "<a href=\"https://colab.research.google.com/github/GuilhermePelegrina/Mackenzie/blob/main/Aulas/TIC/Aula_02_Revisao_Python.ipynb\" target=\"_parent\"><img src=\"https://colab.research.google.com/assets/colab-badge.svg\" alt=\"Open In Colab\"/></a>"
      ]
    },
    {
      "cell_type": "markdown",
      "source": [
        "<img src='https://raw.githubusercontent.com/guilhermepelegrina/Mackenzie/main/logo_mackenzie.png'>\n"
      ],
      "metadata": {
        "id": "Ka1zMIAxQs6U"
      }
    },
    {
      "cell_type": "markdown",
      "source": [
        "# **Revisão: Comandos básicos do Python**\n",
        "\n",
        "Nesta aula, revisaremos os principais comandos / funções em Python que serão usados nesta disciplina. Esses comandos / funções são muito úteis quando criamos um projeto de Ciência de Dados, ou seja, que são usados tanto para Análise de Dados quanto para Aprendizado de Máquina."
      ],
      "metadata": {
        "id": "fzb17vN_QvWF"
      }
    },
    {
      "cell_type": "markdown",
      "source": [
        "# Importando bibliotecas"
      ],
      "metadata": {
        "id": "fZWWZsdQS-L_"
      }
    },
    {
      "cell_type": "code",
      "execution_count": null,
      "metadata": {
        "id": "WrfoUaaJQihw"
      },
      "outputs": [],
      "source": [
        "import numpy as np # Coleção de funções matemáticas para manipulações algébricas\n",
        "import pandas as pd # Manipulação de Data Frames\n",
        "import matplotlib.pyplot as plt # Criação de ferramentas para visualização de dados, como gráficos"
      ]
    },
    {
      "cell_type": "markdown",
      "source": [
        "# Variáveis e Atribuições\n",
        "\n",
        "- As variáveis em são elementos usados para armazenar valores, como números, textos, listas, entre outros.\n",
        "- Chamamos de atribuição de valores a passagem de uma informação a determinada variável."
      ],
      "metadata": {
        "id": "M8G_NGw2XeaE"
      }
    },
    {
      "cell_type": "code",
      "source": [
        "# Exemplos de variáveis e atribuições\n",
        "\n",
        "inteiro = 123 # Número inteiro\n",
        "real = np.pi  # Número real\n",
        "\n",
        "print(inteiro, type(inteiro))\n",
        "print(real, type(real))"
      ],
      "metadata": {
        "id": "f-R2tvpKXUDp"
      },
      "execution_count": null,
      "outputs": []
    },
    {
      "cell_type": "code",
      "source": [
        "# Para o Python, os números seguintes são inteiros ou reais?\n",
        "\n",
        "num1 = 6\n",
        "num2 = 6.0\n",
        "num3 = 6/4\n",
        "num4 = 2/1\n",
        "num5 = 6 + 5.0\n",
        "\n",
        "print(num1, type(num1))\n",
        "print(num2, type(num2))\n",
        "print(num3, type(num3))\n",
        "print(num4, type(num4))\n",
        "print(num5, type(num5))"
      ],
      "metadata": {
        "id": "CXvI6QPAYqOO"
      },
      "execution_count": null,
      "outputs": []
    },
    {
      "cell_type": "markdown",
      "source": [
        "# Strings\n",
        "\n",
        "Strings são estruturas usadas para armazenar informações de texto (sequência de caracteres). Essa sequência de caracteres pode conter números, letras e pontuações.\n",
        "\n",
        "`str[ inicio : tamanho ]`\n",
        "ou\n",
        "`str[ inicio : fim+1 ]`\n"
      ],
      "metadata": {
        "id": "KM9Nbtkw5agP"
      }
    },
    {
      "cell_type": "code",
      "source": [
        "# Exemplos de strings\n",
        "\n",
        "texto1 = '123' # texto\n",
        "texto2 = 'TIC !' # texto\n",
        "texto3 = \"Aula de python\"\n",
        "\n",
        "print(texto1, type(texto1))\n",
        "print(texto2, type(texto2))\n",
        "print(texto3[0:7])"
      ],
      "metadata": {
        "id": "3d7cVbXo5-U9"
      },
      "execution_count": null,
      "outputs": []
    },
    {
      "cell_type": "code",
      "source": [
        "# Calculando o tamanho da string\n",
        "\n",
        "print(len(texto1))\n",
        "print(len(texto2))"
      ],
      "metadata": {
        "id": "ZFn-7X0H6bmJ"
      },
      "execution_count": null,
      "outputs": []
    },
    {
      "cell_type": "code",
      "source": [
        "# Manipulando strings (1)\n",
        "\n",
        "str1 ='Projeto de Análise de Dados'\n",
        "\n",
        "print(str1)\n",
        "print(str1.find('Dados')) # Primeira ocorrência do \"valor\"\n",
        "print(str1.lower()) # Lestras minúsculas\n",
        "print(str1.upper()) # Lestras maiúsculas"
      ],
      "metadata": {
        "id": "jH1xHqZ26rPA"
      },
      "execution_count": null,
      "outputs": []
    },
    {
      "cell_type": "code",
      "source": [
        "# Manipulando strings (2)\n",
        "\n",
        "str2 = str1.replace('Análise','Ciência')\n",
        "print(str2)"
      ],
      "metadata": {
        "id": "7p32xL0I7Yoq"
      },
      "execution_count": null,
      "outputs": []
    },
    {
      "cell_type": "code",
      "source": [
        "# Manipulando strings (3)\n",
        "\n",
        "str3 = 'Aprendizado '\n",
        "str4 = 'de '\n",
        "str5 = 'Máquina'\n",
        "print(str3+str4+str5)"
      ],
      "metadata": {
        "id": "Ysh6JMgG8dyQ"
      },
      "execution_count": null,
      "outputs": []
    },
    {
      "cell_type": "markdown",
      "source": [
        "# Print e Input"
      ],
      "metadata": {
        "id": "I5FgGsqA7suK"
      }
    },
    {
      "cell_type": "code",
      "source": [
        "# Exemplo 1\n",
        "\n",
        "texto = input('Entre com um texto: ')\n",
        "print(texto)"
      ],
      "metadata": {
        "id": "81sK0yjS7y_t"
      },
      "execution_count": null,
      "outputs": []
    },
    {
      "cell_type": "code",
      "source": [
        "# Exemplo 2\n",
        "\n",
        "numero = float(input('Entre com um número: '))\n",
        "print('Seu número mais um: ', numero+1)"
      ],
      "metadata": {
        "id": "aPO_b1QQ76E7"
      },
      "execution_count": null,
      "outputs": []
    },
    {
      "cell_type": "markdown",
      "source": [
        "# Controlando o Fluxo do Programa\n",
        "\n",
        "Note que em Python as instruções **aninhadas** são **identadas** (*tab*). Assim os comandos *aninhados* à condição (*if-then-else*) ou laço (*for*) do programa devem estar à direita do comando inicial da condição ou laço."
      ],
      "metadata": {
        "id": "j0q1SPiK_LAz"
      }
    },
    {
      "cell_type": "markdown",
      "source": [
        "**if-then-else**"
      ],
      "metadata": {
        "id": "9tdM8twz_5oc"
      }
    },
    {
      "cell_type": "code",
      "source": [
        "a = 1964\n",
        "b = 198\n",
        "\n",
        "if b > a:\n",
        "  print(\"b is greater than a\")\n",
        "else:\n",
        "  print(\"a is greater than b\")"
      ],
      "metadata": {
        "id": "FPkYxHwF_Pcm"
      },
      "execution_count": null,
      "outputs": []
    },
    {
      "cell_type": "code",
      "source": [
        "if b > a:\n",
        "  print(\"b is greater than a\")\n",
        "elif a == b:\n",
        "  print(\"a and b are equal\")\n",
        "else:\n",
        "  print(\"a is greater than b\")"
      ],
      "metadata": {
        "id": "cAkYl2-i_2ms"
      },
      "execution_count": null,
      "outputs": []
    },
    {
      "cell_type": "markdown",
      "source": [
        "**for**"
      ],
      "metadata": {
        "id": "OYPm9UCO_-Vn"
      }
    },
    {
      "cell_type": "code",
      "source": [
        "# a % b retorna o resto da divisão de a por b\n",
        "\n",
        "for i in range(11):\n",
        "  if i%2 == 0:\n",
        "    print(i)"
      ],
      "metadata": {
        "id": "Wz4mU_mtAAJt"
      },
      "execution_count": null,
      "outputs": []
    },
    {
      "cell_type": "markdown",
      "source": [
        "**Funções**\n",
        "\n",
        "Há muitas funções já criadas em Python e, na grande maioria dos casos, não precisaremos necessariamente *criar* funções novas. No entanto, em casos específicos ou mis *cutomizados*, é interessante criar uma função própria para deixar o código mais modular e enxuto."
      ],
      "metadata": {
        "id": "5i7ZSr5MAl7m"
      }
    },
    {
      "cell_type": "code",
      "source": [
        "def mymax(a,b):\n",
        "  if a > b:\n",
        "    return a\n",
        "  else:\n",
        "    return b\n",
        "\n",
        "mymax(1984,1964)"
      ],
      "metadata": {
        "id": "HO2WjzsTAoQ1"
      },
      "execution_count": null,
      "outputs": []
    },
    {
      "cell_type": "markdown",
      "source": [
        "# Numpy"
      ],
      "metadata": {
        "id": "iZBj3gvfCaQd"
      }
    },
    {
      "cell_type": "code",
      "source": [
        "import numpy as np\n",
        "\n",
        "x = np.array([1,2,3])\n",
        "media = np.mean(x)\n",
        "soma = np.sum(x)\n",
        "\n",
        "print('Média:', media, 'Soma:', soma)\n",
        "print(type(media), type(soma))"
      ],
      "metadata": {
        "id": "r8sTCGkGCo4s"
      },
      "execution_count": null,
      "outputs": []
    },
    {
      "cell_type": "code",
      "source": [
        "# Exemplo: Gerador (não)aleatório\n",
        "np.random.seed(2) # semente de geração aleatória\n",
        "x = np.array(np.random.randint(low=1, high=6, size=10))\n",
        "print(x)\n",
        "\n",
        "x = np.array(np.random.randint(low=1, high=6, size=10))\n",
        "print(x)\n",
        "\n",
        "np.random.seed(2) # semente de geração aleatória\n",
        "x = np.array(np.random.randint(low=1, high=6, size=10))\n",
        "print(x)"
      ],
      "metadata": {
        "id": "KfqDGl18CcXr"
      },
      "execution_count": null,
      "outputs": []
    },
    {
      "cell_type": "code",
      "source": [
        "# Gerando matrizes de 0s ou constantes\n",
        "\n",
        "m1 = np.zeros((2,5))\n",
        "\n",
        "print(m1)"
      ],
      "metadata": {
        "id": "F_YRW1ADExri"
      },
      "execution_count": null,
      "outputs": []
    },
    {
      "cell_type": "code",
      "source": [
        "# Gerando matrizes de constantes\n",
        "\n",
        "m2 = 5.2 * np.ones((4,2))\n",
        "\n",
        "print(m2)"
      ],
      "metadata": {
        "id": "3efjfZjAFEEF"
      },
      "execution_count": null,
      "outputs": []
    },
    {
      "cell_type": "code",
      "source": [
        "# Concatenando arrays\n",
        "\n",
        "array1 = np.random.randint(low=5, high=10, size=10)\n",
        "\n",
        "print(array1)\n",
        "\n",
        "array2 = np.random.randint(low=0, high=5, size=10)\n",
        "\n",
        "print(array2)\n",
        "\n",
        "concat1 = np.concatenate((array1,array2),axis = 0)\n",
        "\n",
        "print(concat1)"
      ],
      "metadata": {
        "id": "M6zdsUUmFJOS"
      },
      "execution_count": null,
      "outputs": []
    },
    {
      "cell_type": "code",
      "source": [
        "# Selecionado partes (slices) de um vetor\n",
        "\n",
        "array1 = np.random.randint(low=5, high=10, size=10)\n",
        "\n",
        "print(array1)\n",
        "\n",
        "slice1 = array1[0:3]\n",
        "print(slice1)\n",
        "\n",
        "print(array1[2:4])\n",
        "print(array1[2:])\n",
        "print(array1[2:-1])"
      ],
      "metadata": {
        "id": "muxTajyjGH_f"
      },
      "execution_count": null,
      "outputs": []
    },
    {
      "cell_type": "code",
      "source": [
        "# Alterando valores de vetor\n",
        "\n",
        "vetor = np.array([1,4,7])\n",
        "print(vetor)\n",
        "\n",
        "vetor[1] = 10\n",
        "print(vetor)\n"
      ],
      "metadata": {
        "id": "SSM3TvDIHome"
      },
      "execution_count": null,
      "outputs": []
    },
    {
      "cell_type": "code",
      "source": [
        "# Alterando valores de matriz\n",
        "\n",
        "matriz = np.array(([1,4,7], [3,5,9]))\n",
        "print(matriz)\n",
        "\n",
        "matriz[0,2] = 10\n",
        "print(matriz)"
      ],
      "metadata": {
        "id": "J8ZnZviaIZ7_"
      },
      "execution_count": null,
      "outputs": []
    },
    {
      "cell_type": "code",
      "source": [
        "# Alterando valores de matriz\n",
        "\n",
        "valores = np.array([12,13])\n",
        "\n",
        "matriz[1,0:2] = valores\n",
        "print(matriz)"
      ],
      "metadata": {
        "id": "ehrOr-dvIeXt"
      },
      "execution_count": null,
      "outputs": []
    },
    {
      "cell_type": "markdown",
      "source": [
        "# **Exercício 1**\n",
        "\n",
        "Crie um programa que gera aleatoriamente (sem semente definida) cinco arrays com 100 elementos cada. Os números devem ser inteiros no intervalo [0,20]. Para cada array, calcule a média e apresente na tela (*print*) o valor obtido."
      ],
      "metadata": {
        "id": "5cqMOlTvDzHQ"
      }
    },
    {
      "cell_type": "code",
      "source": [
        "# Há diversas formas de fazer esse exercício. Essa é uma delas (menos otimizada)\n",
        "\n",
        "ar1 = np.random.randint(low=0, high=20, size=100)\n",
        "print(ar1.mean())\n",
        "\n",
        "ar2 = np.random.randint(low=0, high=20, size=100)\n",
        "print(ar2.mean())\n",
        "\n",
        "ar3 = np.random.randint(low=0, high=20, size=100)\n",
        "print(ar3.mean())\n",
        "\n",
        "ar4 = np.random.randint(low=0, high=20, size=100)\n",
        "print(ar4.mean())\n",
        "\n",
        "ar5 = np.random.randint(low=0, high=20, size=100)\n",
        "print(ar5.mean())\n"
      ],
      "metadata": {
        "id": "QATHhpgqjAVM"
      },
      "execution_count": null,
      "outputs": []
    },
    {
      "cell_type": "markdown",
      "source": [
        "# **Exercício 2**\n",
        "\n",
        "Crie um programa que gera aleatoriamente (com semente igual a 157) um único array com 500 elementos. Os números devem ser inteiros no intervalo [0,20]. Em seguida, crie uma matriz com 100 linhas e 5 colunas, sendo que a primeira coluna contenha os 100 primeiros elementos do array, a segunda coluna os 100 elementos seguintes, e assim por diante. Para cada coluna, calcule também a média e, se a média for maior que 10, apresente o valor obtido na tela, juntamente com a coluna correspondente.\n",
        "\n",
        "Dica: Utilize os comandos *for* e *if*."
      ],
      "metadata": {
        "id": "KDJxz8KBGoaX"
      }
    },
    {
      "cell_type": "code",
      "source": [
        "# Também há diversas formas de fazer esse exercício e a seguinte é apenas uma delas\n",
        "\n",
        "np.random.seed(157)\n",
        "ar = np.random.randint(low=0,high=21,size=500)\n",
        "\n",
        "matriz = np.zeros((100,5))\n",
        "\n",
        "for i in range(5):\n",
        "  matriz[:,i] = ar[100*i:100*i+100]\n",
        "  med = matriz[:,i].mean()\n",
        "\n",
        "  if med > 10:\n",
        "    print(med, 'coluna', i)\n"
      ],
      "metadata": {
        "id": "zZtDwExB2uzm"
      },
      "execution_count": null,
      "outputs": []
    }
  ]
}