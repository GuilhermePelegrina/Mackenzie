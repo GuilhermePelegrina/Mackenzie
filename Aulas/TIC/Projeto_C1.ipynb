{
  "nbformat": 4,
  "nbformat_minor": 0,
  "metadata": {
    "colab": {
      "provenance": [],
      "authorship_tag": "ABX9TyPF3XFGhqyIMMjPBoPtCwDA",
      "include_colab_link": true
    },
    "kernelspec": {
      "name": "python3",
      "display_name": "Python 3"
    },
    "language_info": {
      "name": "python"
    }
  },
  "cells": [
    {
      "cell_type": "markdown",
      "metadata": {
        "id": "view-in-github",
        "colab_type": "text"
      },
      "source": [
        "<a href=\"https://colab.research.google.com/github/GuilhermePelegrina/Mackenzie/blob/main/Aulas/TIC/Projeto_C1.ipynb\" target=\"_parent\"><img src=\"https://colab.research.google.com/assets/colab-badge.svg\" alt=\"Open In Colab\"/></a>"
      ]
    },
    {
      "cell_type": "markdown",
      "source": [
        "<img src='https://raw.githubusercontent.com/guilhermepelegrina/Mackenzie/main/logo_mackenzie.png'>"
      ],
      "metadata": {
        "id": "iz3c9tOgxfJY"
      }
    },
    {
      "cell_type": "markdown",
      "source": [
        "# **Projeto C1**\n",
        "\n",
        "Como descrito no plano da disciplina, o Projeto C1 consiste em uma atividade individual onde os alunos terão a opção de participar de uma competição com o intuito de resolver um problema de classificação. Os alunos criarão o modelo com base em um conjunto de dados (usado para treinamento e validação do modelo) e esse modelo será aplicado em um conjunto de dados de teste. Os dados de teste não serão fornecidos aos alunos. Ele apenas será utilizado no dia da avaliação do projeto.\n",
        "\n",
        "Os três alunos cujos modelos levarem aos maiores desempenhos do classificador, medido em termos da acurácia, terão a nota C1 igual a 1. Em caso de empate, será utilizada uma métrica de equidade apresentada no dia da avaliação do projeto. Os alunos vencedores também explicarão para o restante da turma as estratégias utilizadas para a construção da inteligência computacional."
      ],
      "metadata": {
        "id": "ZQAF1zAtxgQl"
      }
    },
    {
      "cell_type": "markdown",
      "source": [
        "# Instruções\n",
        "\n",
        "Para esta atividade, usaremos a base de dados [COMPAS Recidivism Risk](https://www.propublica.org/article/machine-bias-risk-assessments-in-criminal-sentencing), da ProPublica. Nesse link, há a opção por baixar o conjunto de dados completo. Aqui, já realizamos um pré-processamento dos mesmos. A base de dados COMPAS contém diversos atributos descrevendo pessoas detidas por crimes. Para cada pessoa, há também a classificação como um indivíduo potencialemnte reincidente ou não.\n",
        "\n",
        "Essa base de dados ficou conhecida por apresentar vieses raciais. No caso, a taxa com que negros eram classificados como reincidentes criminais, mas que não cometiam novos crimes, era muito maior em comparação com a taxa com que brancos eram classificados como reincidentes criminais, mas que não cometiam novos crimes. Por outro lado, a taxa com que brancos eram classificados como não-reincidentes criminais, mas que reincidiam, era muito menor em comparação com negros. Essa desigualdade de resultados ilustra a área de estudo de \"Equidade em Aprendizado de Máquina\", um tema que vem tendo cada vez mais importância dadas as decisões automáticas baseada em dados.\n",
        "\n",
        "Neste projeto, não será cobrado um desempenho que melhore a questão da equidade. No entando, em caso de empate nas primeiras três posições, o desempate ocorrerá com base em uma medida de equidade definida em aula.\n",
        "\n",
        "Para a realização do projeto (o qual não é obrigatório, mas a participação é recomendado), os alunos terão que criar uma inteligência computacional com base no conjunto de dados fornecido. O intuito é de classificar novas pessoas detidas como potenciais reincidentes criminais. A partir desse dado, os alunos poderão definir a estratégia que mais julga adequada para (i) dividir os dados entre treinamento e validação (usaremos o termo validação aqui pois o teste ocorrerá com dados que não serão fornecidos aos alunos), (ii) criar a inteligência computacional (ou seja, o método escolhido) e (iii) definir os parâmetros do modelo.\n",
        "\n",
        "É recomendável que os alunos trabalhem na construção do modelo antes do dia da avaliação. No entanto, nesse dia, também haverá um tempo (no início da aula) para finalizar o projeto. Em seguida, o professor fornecerá o novo conjunto de dados que será usado para testar o modelo e calcular a acurácia do mesmo.\n",
        "\n",
        "A base de dados pode ser obtida a partir do código a seguir. Note que as classes estão definidas na coluna *score_risk*, onde `1` indica um possível reincidente criminal e `0` um não reincidente."
      ],
      "metadata": {
        "id": "Y3GpQPOpzaCY"
      }
    },
    {
      "cell_type": "code",
      "execution_count": null,
      "metadata": {
        "id": "nLCCtBlZxdW1"
      },
      "outputs": [],
      "source": [
        "import pandas as pd\n",
        "\n",
        "dados = pd.read_csv('https://raw.githubusercontent.com/guilhermepelegrina/Mackenzie/main/Datasets/data_compas_projC1_train.csv')\n",
        "dados.head()"
      ]
    }
  ]
}