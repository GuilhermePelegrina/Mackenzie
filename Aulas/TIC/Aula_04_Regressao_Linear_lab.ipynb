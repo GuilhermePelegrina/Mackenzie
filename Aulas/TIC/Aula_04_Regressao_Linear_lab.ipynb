{
  "nbformat": 4,
  "nbformat_minor": 0,
  "metadata": {
    "colab": {
      "provenance": [],
      "authorship_tag": "ABX9TyODHl5RvS6BPk7ZWqwhfByT",
      "include_colab_link": true
    },
    "kernelspec": {
      "name": "python3",
      "display_name": "Python 3"
    },
    "language_info": {
      "name": "python"
    }
  },
  "cells": [
    {
      "cell_type": "markdown",
      "metadata": {
        "id": "view-in-github",
        "colab_type": "text"
      },
      "source": [
        "<a href=\"https://colab.research.google.com/github/GuilhermePelegrina/Mackenzie/blob/main/Aulas/TIC/Aula_04_Regressao_Linear_lab.ipynb\" target=\"_parent\"><img src=\"https://colab.research.google.com/assets/colab-badge.svg\" alt=\"Open In Colab\"/></a>"
      ]
    },
    {
      "cell_type": "markdown",
      "source": [
        "<img src='https://raw.githubusercontent.com/guilhermepelegrina/Mackenzie/main/logo_mackenzie.png'>\n"
      ],
      "metadata": {
        "id": "dqj97q_j-UZr"
      }
    },
    {
      "cell_type": "markdown",
      "source": [
        "# **Atividade Prática - Regressão Linear**\n",
        "\n",
        "Exercício usando a base de dados [Computer Hardware](https://archive.ics.uci.edu/dataset/29/computer+hardware)."
      ],
      "metadata": {
        "id": "5Q4p-KIF-Ti1"
      }
    },
    {
      "cell_type": "markdown",
      "source": [
        "A base de dados \"Computer Hardware\" contém desempenhos relativos (estimadas ou definidas pelo fabricante) de várias CPUs, as quais são descritas com base em 8 atributos. Cada linha de dados corresponde a uma máquina, e as colunas descrevem suas características. Isso permite a exploração de como diferentes características (variáveis preditoras) estão relacionadas ao desempenho da CPU (estimado ou definido pelo fabricante - variáveis preditas)  e como um modelo de regressão pode ser construído para prever tal desempenho com base nesses atributos.\n",
        "\n",
        "Segue abaixo uma breve decrição das colunas:\n",
        "- VendorName: Nome do fabricante.\n",
        "- ModelName: Nome do modelo (esta coluna já será excluída quando importar os dados)\n",
        "- MYCT: Cycle time da máquina (em nanossegundos)\n",
        "- MMIN: Memória principal mínima (em kilobytes)\n",
        "- MMAX: Memória principal máxima (em kilobytes)\n",
        "- CACH: Memória cache (em kilobytes)\n",
        "- CHMIN: número de channels mínimo (em unidades)\n",
        "- CHMAX: número de channels máximo (em unidades)\n",
        "- PRP: Desempenho relativo indicado pelo fabricante (variável a ser predita)\n",
        "- ERP: Desempenho relativo estimado (variável a ser predita)"
      ],
      "metadata": {
        "id": "J7EizlG3_Dt0"
      }
    },
    {
      "cell_type": "code",
      "execution_count": null,
      "metadata": {
        "id": "bE3Vu43Wt6v0"
      },
      "outputs": [],
      "source": [
        "# Importando bibliotecas\n",
        "import numpy as np\n",
        "import pandas as pd # DataFrame\n",
        "import seaborn as sns # Gráficos\n",
        "import matplotlib.pyplot as plt # Gráficos\n",
        "import statsmodels.formula.api as sm # Modelo de Regressão Linear\n",
        "\n",
        "import warnings\n",
        "warnings.simplefilter('ignore')\n"
      ]
    },
    {
      "cell_type": "code",
      "source": [
        "# Importando o conjunto de dados - Apenas execute esta célula, sem alterações\n",
        "\n",
        "df = pd.read_csv(\"https://raw.githubusercontent.com/guilhermepelegrina/Mackenzie/main/Datasets/data_computer_hardware.csv\")\n",
        "df = df.drop('ModelName', axis=1)\n",
        "df.head()"
      ],
      "metadata": {
        "id": "II3HwTaZuLCM"
      },
      "execution_count": null,
      "outputs": []
    },
    {
      "cell_type": "markdown",
      "source": [
        "Com base nos dados importados, responda as questões no Moodle (Atividades Práticas - Regressão Linear)."
      ],
      "metadata": {
        "id": "A9GgFY0lJolM"
      }
    }
  ]
}