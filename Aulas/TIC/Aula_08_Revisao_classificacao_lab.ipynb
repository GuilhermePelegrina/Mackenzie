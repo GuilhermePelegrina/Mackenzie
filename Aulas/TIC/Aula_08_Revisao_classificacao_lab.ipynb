{
  "nbformat": 4,
  "nbformat_minor": 0,
  "metadata": {
    "colab": {
      "provenance": [],
      "authorship_tag": "ABX9TyPO5V67ucQ9wm0f9KjmXXTL",
      "include_colab_link": true
    },
    "kernelspec": {
      "name": "python3",
      "display_name": "Python 3"
    },
    "language_info": {
      "name": "python"
    }
  },
  "cells": [
    {
      "cell_type": "markdown",
      "metadata": {
        "id": "view-in-github",
        "colab_type": "text"
      },
      "source": [
        "<a href=\"https://colab.research.google.com/github/GuilhermePelegrina/Mackenzie/blob/main/Aulas/TIC/Aula_08_Revisao_classificacao_lab.ipynb\" target=\"_parent\"><img src=\"https://colab.research.google.com/assets/colab-badge.svg\" alt=\"Open In Colab\"/></a>"
      ]
    },
    {
      "cell_type": "markdown",
      "source": [
        "<img src='https://raw.githubusercontent.com/guilhermepelegrina/Mackenzie/main/logo_mackenzie.png'>\n"
      ],
      "metadata": {
        "id": "nYSzUrZr-BG8"
      }
    },
    {
      "cell_type": "markdown",
      "source": [
        "# **Atividade Prática - Árvore de Decisão**\n",
        "\n",
        "Para esta atividade prática sobre Árvore de Decisão, usaremos a base de dados [Adult Income](https://archive.ics.uci.edu/ml/machine-learning-databases/adult/adult.data), também conhecida como \"Renda do Censo\". Use o link abaixo para ler os dados nessa atividade prática, os quais contém um subconjunto (uma parcela das colunas) dos dados originais:\n",
        "\n",
        "https://raw.githubusercontent.com/guilhermepelegrina/Mackenzie/main/Datasets/data_adult_income_modified.csv\n",
        "\n",
        "Essa base de dados contém os seguintes atributos descrevendo pessoas:\n",
        "\n",
        "- `Age`: Idade.\n",
        "\n",
        "- `Education`: Escolaridade.\n",
        "\n",
        "- `Marital status`: Estado civil.\n",
        "\n",
        "- `Occupation`: Profissão.\n",
        "\n",
        "- `Race`: Raça.\n",
        "\n",
        "- `Sex`: Sexo.\n",
        "\n",
        "- `Capital-gain`: Ganho de capital vindo de investimentos.\n",
        "\n",
        "- `Capital-loss`: Perda de capital em investimentos.\n",
        "\n",
        "- `Hours-per-week`: Número de horas trabalhadas por semana.\n",
        "\n",
        "- `Native-country`: País de nascimento.\n",
        "\n",
        "Para cada pessoa, há também a indicação (classificação) se esse indivíduo possui uma renda maior que 50 mil por ano ou no máximo esse valor. Isso é indicado pelo atributo `Income`.\n",
        "\n",
        "Agora, responda as questões no Moodle (Atividades Práticas - Problemas de classificação).\n",
        "\n",
        "**Lembre-se:** Importe os pacotes que serão utilizados nessa atividade!"
      ],
      "metadata": {
        "id": "wbF7Rg1O-D8N"
      }
    }
  ]
}