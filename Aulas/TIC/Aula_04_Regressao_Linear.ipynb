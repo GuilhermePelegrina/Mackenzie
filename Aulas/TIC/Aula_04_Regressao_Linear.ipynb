{
  "nbformat": 4,
  "nbformat_minor": 0,
  "metadata": {
    "colab": {
      "provenance": [],
      "authorship_tag": "ABX9TyNx0tJQiVCUqYHaAJDM3Gol",
      "include_colab_link": true
    },
    "kernelspec": {
      "name": "python3",
      "display_name": "Python 3"
    },
    "language_info": {
      "name": "python"
    }
  },
  "cells": [
    {
      "cell_type": "markdown",
      "metadata": {
        "id": "view-in-github",
        "colab_type": "text"
      },
      "source": [
        "<a href=\"https://colab.research.google.com/github/GuilhermePelegrina/Mackenzie/blob/main/Aulas/TIC/Aula_04_Regressao_Linear.ipynb\" target=\"_parent\"><img src=\"https://colab.research.google.com/assets/colab-badge.svg\" alt=\"Open In Colab\"/></a>"
      ]
    },
    {
      "cell_type": "markdown",
      "source": [
        "<img src='https://raw.githubusercontent.com/guilhermepelegrina/Mackenzie/main/logo_mackenzie.png'>\n"
      ],
      "metadata": {
        "id": "d-T3uQA_jdyc"
      }
    },
    {
      "cell_type": "markdown",
      "source": [
        "# **Regressão Linear**\n",
        "\n",
        "Em estatística, Regressão Linear é uma equação que se usa para estimar o valor esperado de uma variável, $y$ (chamada variável dependente), a partir de uma função linear dos valores de outras variáveis $x_1, x_2,...,x_m$ (as variáveis independentes).\n",
        "\n",
        "Os modelos de regressão linear têm uma ampla gama de aplicações em diversas áreas, tais como:\n",
        "\n",
        "- Estudo da relação entre a renda e a educação.\n",
        "- Análise do impacto de tratamentos médicos em resultados de pacientes.\n",
        "- Estimativa de vendas com base em despesas com publicidade.\n",
        "- Análise da relação entre velocidade e consumo de combustível em veículos.\n",
        "- Previsão de níveis de água em rios com base em dados meteorológicos.\n",
        "\n",
        "Antes de utilizar um modelo de regressão linear, é importante avaliar a relação linear entre as variáveis de interesse. Para isso, é possível empregar gráficos de dispersão (*scatterplots*) e calcular o coeficiente de correlação."
      ],
      "metadata": {
        "id": "xKBBowhdj8DN"
      }
    },
    {
      "cell_type": "markdown",
      "source": [
        "## Exemplo - Sales/Marketing\n",
        "\n",
        "Para aprender os conceitos desta aula de Regressão Linear, vamos usar o conjunto de dados [Advertising](https://www.kaggle.com/datasets/ashydv/advertising-dataset). Nesse conjunto de dados, o objetivo consiste em estimar o número de vendas (*Sales*) com base no orçamento destinado à publicidade para três mídias: *TV*, *Radio* e *Newspaper*."
      ],
      "metadata": {
        "id": "OWX8IHKyk_At"
      }
    },
    {
      "cell_type": "code",
      "source": [
        "import pandas as pd\n",
        "\n",
        "df = pd.read_csv(\"https://raw.githubusercontent.com/guilhermepelegrina/Mackenzie/main/Datasets/data_advertising.csv\")\n",
        "df.head()"
      ],
      "metadata": {
        "id": "S2qGAsSjla1S"
      },
      "execution_count": null,
      "outputs": []
    },
    {
      "cell_type": "markdown",
      "source": [
        "Como uma primeira análise, podemos visualizar a relação entre as variáveis através de gráficos de dispersão.\n",
        "\n",
        "**Lembre-se**: Gráficos de disperssão (*scatterplot*) são ferramentas úteis na análise de dados para visualizar a relação entre duas variáveis."
      ],
      "metadata": {
        "id": "KwN-ilvWldE_"
      }
    },
    {
      "cell_type": "code",
      "execution_count": null,
      "metadata": {
        "id": "qsUf_sbFjPcE"
      },
      "outputs": [],
      "source": [
        "# Gráficos de dispersão\n",
        "\n",
        "import seaborn as sns\n",
        "import matplotlib.pyplot as plt\n",
        "sns.pairplot(df,\n",
        "             x_vars=['TV', 'Radio', 'Newspaper'],\n",
        "             y_vars='Sales',\n",
        "             kind='scatter')\n",
        "plt.show()"
      ]
    },
    {
      "cell_type": "markdown",
      "source": [
        "Além dos gráficos, podemos calcular o coeficiente de correlação entre as variáveis.\n",
        "\n",
        "**Lembre-se**: O coeficiente de correlação ($r$) mede a força linear entre as variáveis independentes e dependentes. Seu valor varia de -1 a 1, de tal forma que:\n",
        "\n",
        "- Um valor de $r$ próximo a 1 indica que à medida que uma variável aumenta, a outra também tende a aumentar.\n",
        "- Um valor de $r$ próximo a -1 indica que à medida que uma variável aumenta, a outra tende a diminuir.\n",
        "- Um valor de $r$ próximo a 0 indica uma correlação linear fraca ou inexistente entre as variáveis."
      ],
      "metadata": {
        "id": "I8dxE9o-o4th"
      }
    },
    {
      "cell_type": "code",
      "source": [
        "# Correlação linear\n",
        "\n",
        "df.corr()[[\"Sales\"]]"
      ],
      "metadata": {
        "id": "qhfr-hb2pmNx"
      },
      "execution_count": null,
      "outputs": []
    },
    {
      "cell_type": "markdown",
      "source": [
        "Tanto visualmente quanto verificado pelo coeficiente de correlação, podemos assumir que a variável *Sales* está relacionada linearmente com a variável *TV*. Por outro lado, *Radio* e *Newspaper* não possui uma relação tão forte com *Sales*.\n",
        "\n",
        "Provavelmente, em um moelo de Regressão Linear, o uso da variável *TV* teria um impacto maior que as demais variáveis ao predizer o número de vendas. Vamos analisar essas hipóteses implementando o modelo de Regressão Linear."
      ],
      "metadata": {
        "id": "3ad7rFzZgcvb"
      }
    },
    {
      "cell_type": "markdown",
      "source": [
        "## Regressão Linear Simples\n",
        "\n",
        "A Regressão Linear Simples permite modelar a relação entre duas variáveis, uma sendo a variável resposta $y$ e a outra sendo preditora ou explicativa. Essa técnica assume uma relação linear entre as variáveis, a qual pode ser aproximada pela seguinte equação:\n",
        "\n",
        "$$y_i=\\beta_0 + \\beta_1 x_i + ϵ_i,$$\n",
        "\n",
        "em que $i = 1, \\cdots, n$ indica uma amostra no conjunto de $n$ dados, $y_i$ é a variável que tentamos prever, $x_i$ é variável explicativa, $\\beta_0$ é o intercepto; $\\beta_1$ é o coeficiente angular e $\\epsilon$ o erro.\n",
        "\n",
        "<img src='https://raw.githubusercontent.com/guilhermepelegrina/Mackenzie/main/Aulas/Figuras/fig_regr_linear.png'>\n",
        "\n"
      ],
      "metadata": {
        "id": "kNrz0MiOhVVN"
      }
    },
    {
      "cell_type": "markdown",
      "source": [
        "Note que para criar a reta de regressão é preciso considerar todos os dados (ou amostras $i = 1, \\cdots, n$) disponíveis para `treinar` o modelo. E, para o conjunto das amostras, o objetivo é de encontrar os valores ideais para os parâmetros $\\beta_0$ e $\\beta_1$ de tal forma que o erro total seja minimizado.\n",
        "\n",
        "Note que a simples soma dos erros, isto é, $\\sum_{i=1}^{n} \\epsilon_i$, pode resultar em um valor próximo de zero. Isso porque os erros $\\epsilon_i$ podem ser tanto positivos quanto negativos, e na soma um erro positivo \"pode compensar\" um erro negativo. Sendo assim, um método que pode ser adotado para encontrar os valores ótimos de $\\beta_0$ e $\\beta_1$, chamado de Mínimos Quadrados Ordinários (MQO) ou OLS (do inglês Ordinary Least Squares), consiste em resolver o seguinte problema de otimização:\n",
        "\n",
        "$$OLS(\\beta_0, \\beta_1)=\\min_{\\beta_0, \\beta_1} \\sum_{i=1}^{n} \\epsilon^2_i = \\min_{\\beta_0, \\beta_1} \\sum_{i=1}^{n}(y_i -\\beta_0 - \\beta_1 x_i )^2.$$\n",
        "\n",
        "em que $\\epsilon_i$ é a diferença entre os valores observados ($y_i$) e previstos a partir do modelo linear (\\beta_0 + \\beta_1 x_i).\n",
        "\n",
        "A solução desse problema de otimização é bem conhecida. A partir das derivadas parciais em relação a $\\beta_0$ e $\\beta_1$ utilizando a regra da cadeia e igualando ambas expressões à zero, podemos encontrar os valores de $\\beta_0$ e $\\beta_1$ que minimizam $OLS(\\beta_0, \\beta_1)$, isto é, a soma do quadrados dos erros.\n",
        "\n",
        "Nesta aula, usaremos a biblioteca `statsmodels` para estimar esses parâmetros."
      ],
      "metadata": {
        "id": "XP8mz77si2my"
      }
    },
    {
      "cell_type": "markdown",
      "source": [
        "**Ajustando os parâmetros**\n",
        "\n",
        "Vamos ajustar um modelo de regressão para analisar as vendas (*Sales*) utilizando apenas *TV* como variável preditora."
      ],
      "metadata": {
        "id": "td0DQTeosUsy"
      }
    },
    {
      "cell_type": "code",
      "source": [
        "# Fit the resgression line using 'OLS'\n",
        "\n",
        "import statsmodels.formula.api as sm\n",
        "\n",
        "model = sm.ols(formula='Sales ~ TV', data=df).fit()\n",
        "print(model.summary())"
      ],
      "metadata": {
        "id": "s6lsW-a6sbHw"
      },
      "execution_count": null,
      "outputs": []
    },
    {
      "cell_type": "markdown",
      "source": [
        "O modelo de regressão obtido foi o seguinte:\n",
        "\n",
        "$$\\widehat{y} = 6.9748 + 0.055TV, $$\n",
        "\n",
        "em que $\\widehat{y}$ é a venda (`Sales`) esperada quando é investido um certo dinheiro de marketing em TV.\n",
        "\n",
        "- Note que o valor-p (P>|t|) para a variável `TV` é 0.000 ($<$0.05). Isso indica que o orçamento destinado à publicidade em TV influencia, estatísticamente, nas vendas.\n",
        "\n",
        "- Note que o `R-squared` é de 0.812. O que isso significa?\n",
        "\n",
        "*Relembrando*:\n",
        "\n",
        "- O `valor-p` associado ao coeficiente testa a hipótese nula de que tal coeficiente é igual a zero, ou seja, que o mesmo não tem efeito na variável predita. Então, um valor-p baixo (geralmente, < 0,05) indica que podemos rejeitar a hipótese nula. Isso significa que uma variável preditora que possui um valor-p baixo provavelmente terá uma contribuição significativa no modelo, uma vez que alterações no valor dessa variável preditora estão relacionadas a alterações na variável predita.\n",
        "\n",
        "- `O coeficiente de determinação` (`R-squared`, ou $R^2$) é uma medida que indica o quanto a variabilidade da variável dependente é explicada pelas variáveis independentes em um modelo de regressão linear. O $R^2$ varia entre 0 e 1."
      ],
      "metadata": {
        "id": "mJbgBsSGs1Gy"
      }
    },
    {
      "cell_type": "markdown",
      "source": [
        "**Valores previstos pelo modelo de regressão!**\n",
        "\n",
        "Como construir a reta de regressão?\n",
        "Podemos calcular os valores preditos usando o modelo $6.9748+ 0.055TV$ substituindo cada valor de $x$ pelo valor observado."
      ],
      "metadata": {
        "id": "YKIAddIHa7kQ"
      }
    },
    {
      "cell_type": "code",
      "source": [
        "df['predicted'] = model.predict(df.TV)\n",
        "df.head()"
      ],
      "metadata": {
        "id": "QeswRQ3nbPbR"
      },
      "execution_count": null,
      "outputs": []
    },
    {
      "cell_type": "code",
      "source": [
        "# Scatterplot com Reta de Regressão\n",
        "\n",
        "plt.scatter(df.TV, df.Sales, color='blue', label='Dados Observados')\n",
        "plt.plot(df.TV, df.predicted, color='red', label='Reta de Regressão')\n",
        "\n",
        "plt.xlabel('TV')\n",
        "plt.ylabel('Sales')\n",
        "plt.title('Scatterplot com Reta de Regressão')\n",
        "plt.legend()\n",
        "plt.show()"
      ],
      "metadata": {
        "id": "F_LIOrntbpCj"
      },
      "execution_count": null,
      "outputs": []
    },
    {
      "cell_type": "markdown",
      "source": [
        "**Prevendo um novo valor pelo modelo de regressão!**\n",
        "\n",
        "Usando o modelo de regressão linear ajustado, qual é o valor de vendas (`Sales`) esperado quando o orçamento em TV é de 153?"
      ],
      "metadata": {
        "id": "efeaV8s-by0q"
      }
    },
    {
      "cell_type": "code",
      "source": [
        "# Prevendo para novos valores (não estão na base de dados)\n",
        "\n",
        "new_value=pd.DataFrame({'TV': [153]})\n",
        "\n",
        "model.predict(new_value)"
      ],
      "metadata": {
        "id": "ZidOimVabtf6"
      },
      "execution_count": null,
      "outputs": []
    },
    {
      "cell_type": "code",
      "source": [
        "# Obtendo os intervalos de confiança de 95% para as previsões\n",
        "\n",
        "model.get_prediction(new_value).conf_int()"
      ],
      "metadata": {
        "id": "_H5kAVCpcBNZ"
      },
      "execution_count": null,
      "outputs": []
    },
    {
      "cell_type": "markdown",
      "source": [
        "**Interpretando os parâmetros**\n",
        "\n",
        "A interpretação dos parâmetros da Regressão Linear é bem fácil. Basicamente, a alteração no valor predito com o aumento em uma unidade na variável preditora é equivalente ao parâmetro associado a tal variável. No exemplo das vendas, se ao invés de 153 como orçamento para TV tivéssemos 154, o aumento no número de vendas teria um incremento de 0,055 (o valor de $\\beta$ que multiplica o orçamento em TV).\n",
        "\n",
        "Verifique o resultado com esse novo dado."
      ],
      "metadata": {
        "id": "21F5B3G4XU3c"
      }
    },
    {
      "cell_type": "code",
      "source": [
        "# Interpretando os parâmetros\n",
        "\n",
        "new_value=pd.DataFrame({'TV': [154]})\n",
        "\n",
        "model.predict(new_value)"
      ],
      "metadata": {
        "id": "IHGHn7ywYMCp"
      },
      "execution_count": null,
      "outputs": []
    },
    {
      "cell_type": "markdown",
      "source": [
        "**Análise de resíduos**\n",
        "\n",
        "Um pressuposto que geralmente deve ser verificado nos modelos de regressão é que os resíduos devem ser aleatórios com média zero e seguir aproximadamente uma distribuição Normal. Quando essas suposições são satisfeitas, isso sugere que o modelo de regressão linear é apropriado para descrever a relação entre as variáveis."
      ],
      "metadata": {
        "id": "hNn5z3ovcQjZ"
      }
    },
    {
      "cell_type": "code",
      "source": [
        "# Resíduos\n",
        "\n",
        "residuals = model.resid_pearson"
      ],
      "metadata": {
        "id": "05wAuw46cQGx"
      },
      "execution_count": null,
      "outputs": []
    },
    {
      "cell_type": "code",
      "source": [
        "# Gráfico de dispersão dos resíduos\n",
        "\n",
        "plt.figure(figsize=(10, 3))\n",
        "\n",
        "plt.subplot(1, 2, 1)\n",
        "plt.scatter(df[\"predicted\"], residuals)\n",
        "plt.axhline(y=0, color='r', linestyle='--')\n",
        "plt.xlabel('Valores ajustados')\n",
        "plt.ylabel('Resíduos')\n",
        "plt.title('Gráfico de Dispersão dos Resíduos')\n",
        "\n",
        "plt.subplot(1, 2, 2)\n",
        "plt.hist(residuals)\n",
        "\n",
        "plt.tight_layout()\n",
        "plt.show()"
      ],
      "metadata": {
        "id": "BSdkRziAcYfi"
      },
      "execution_count": null,
      "outputs": []
    },
    {
      "cell_type": "markdown",
      "source": [
        "Esses gráficos sugerem que os resíduos se desenvolvem aleatoriamente em torno de zero e seguem aproximadamente uma distribuição Normal."
      ],
      "metadata": {
        "id": "-G_ofjR9czLT"
      }
    },
    {
      "cell_type": "markdown",
      "source": [
        "## Regressão Linear Múltipla\n",
        "\n",
        "Um modelo de regressão múltipla é uma extensão do modelo de regressão linear simples, onde mais de uma variável independente (preditora) é usada para prever uma variável dependente (resposta).\n",
        "\n",
        "$$y_i=\\beta_0 + \\beta_1 x_{1,i} + \\beta_2 x_{2,i} + ...+ \\beta_r x_{r,i}+ \\epsilon_i,$$\n",
        "\n",
        "em que $x_{1,i},...,x_{r,i}$ são as variáveis explicativas. Os parâmetros podem ser estimados usando OLS."
      ],
      "metadata": {
        "id": "XEO_WfME8TpI"
      }
    },
    {
      "cell_type": "markdown",
      "source": [
        "Vamos, agora, aplicar a Regressão Linear Múltipla no conjunto de dados *Advertising*, considerando todos os atributos no modelo."
      ],
      "metadata": {
        "id": "Cdbd1nnvaDGy"
      }
    },
    {
      "cell_type": "code",
      "source": [
        "# Fit the resgression line using 'OLS'\n",
        "\n",
        "model = sm.ols(formula='Sales ~ TV + Radio + Newspaper',\n",
        "               data=df).fit()\n",
        "print(model.summary())"
      ],
      "metadata": {
        "id": "tELLQ5-JDMSz"
      },
      "execution_count": null,
      "outputs": []
    },
    {
      "cell_type": "markdown",
      "source": [
        "O modelo de regressão obtido foi o seguinte:\n",
        "\n",
        "$$\\widehat{y} = 4.6251 + 0.0544TV + 0.1070Radio + 0.0003Newspaper, $$\n",
        "\n",
        "- Note que a variável *Newspaper* não é significante (valor-p > 0.05).\n",
        "\n",
        "- Note também que o `R-square` aumentou para 0.903."
      ],
      "metadata": {
        "id": "BbXXuVXVavOR"
      }
    },
    {
      "cell_type": "markdown",
      "source": [
        "**Valores previstos pelo modelo de regressão!**\n",
        "\n",
        "Como no caso da regressão simples, podemos calcular os valores preditos usando o modelo $4.6251 + 0.0544TV + 0.1070Radio + 0.0003Newspaper$ substituindo cada valor das variáveis pelo valor observado."
      ],
      "metadata": {
        "id": "2J5WH5ZHr_es"
      }
    },
    {
      "cell_type": "code",
      "source": [
        "df['predicted'] = model.predict(df[[\"TV\",\"Radio\",\"Newspaper\"]])\n",
        "df.head()"
      ],
      "metadata": {
        "id": "4pHjnZdYsVnA"
      },
      "execution_count": null,
      "outputs": []
    },
    {
      "cell_type": "markdown",
      "source": [
        "**Prevendo um novo valor pelo modelo de regressão!**\n",
        "\n",
        "Usando o modelo de regressão linear ajustado, qual é o valor de vendas (`Sales`) esperado quando o orçamento em TV é de 153, em Rádio é de 42 e em Jornal é de 59?"
      ],
      "metadata": {
        "id": "kXArBylrtLFS"
      }
    },
    {
      "cell_type": "code",
      "source": [
        "# Prevendo para novos valores (não estão na base de dados)\n",
        "\n",
        "new_values=pd.DataFrame({'TV': [153],\n",
        "                       'Radio': [42],\n",
        "                       'Newspaper': [59]})\n",
        "\n",
        "model.predict(new_values)"
      ],
      "metadata": {
        "id": "HCqjm4qStjqC"
      },
      "execution_count": null,
      "outputs": []
    },
    {
      "cell_type": "code",
      "source": [
        "# Obtendo os intervalos de confiança de 95% para as previsões\n",
        "\n",
        "model.get_prediction(new_values).conf_int()"
      ],
      "metadata": {
        "id": "ouIQYOhwuQrO"
      },
      "execution_count": null,
      "outputs": []
    },
    {
      "cell_type": "markdown",
      "source": [
        "**Análise de resíduos**"
      ],
      "metadata": {
        "id": "b5Zk4NNcuanA"
      }
    },
    {
      "cell_type": "code",
      "source": [
        "# Resíduos\n",
        "\n",
        "residuals = model.resid_pearson"
      ],
      "metadata": {
        "id": "19VABd6FuZlS"
      },
      "execution_count": null,
      "outputs": []
    },
    {
      "cell_type": "code",
      "source": [
        "# Gráfico de dispersão dos resíduos\n",
        "\n",
        "plt.figure(figsize=(10, 3))\n",
        "\n",
        "plt.subplot(1, 2, 1)\n",
        "plt.scatter(df[\"predicted\"], residuals)\n",
        "plt.axhline(y=0, color='r', linestyle='--')\n",
        "plt.xlabel('Valores ajustados')\n",
        "plt.ylabel('Resíduos')\n",
        "plt.title('Gráfico de Dispersão dos Resíduos')\n",
        "\n",
        "plt.subplot(1, 2, 2)\n",
        "plt.hist(residuals)\n",
        "\n",
        "plt.tight_layout()\n",
        "plt.show()"
      ],
      "metadata": {
        "id": "VYH0NlsGujLC"
      },
      "execution_count": null,
      "outputs": []
    },
    {
      "cell_type": "markdown",
      "source": [
        "Esses gráficos sugerem que os resíduos se desenvolvem aleatoriamente em torno de zero e seguem aproximadamente uma distribuição Normal."
      ],
      "metadata": {
        "id": "d5WSH8sIuucL"
      }
    },
    {
      "cell_type": "markdown",
      "source": [
        "## Exemplo Auto MPG\n",
        "\n",
        "Vamos agora aplicar a Regressão Linear Múltipla em um novo conjunto de dados, chamado Auto MPG. Esse conjunto de dados pode ser extraído diretamente da biblioteca *seaborn*.\n",
        "\n",
        "Este conjunto de dados descreve o consumo de diferentes carros (medido pelo número de milhas percorridas com o uso de um galão de gasolina) com base no seguinte conjunto de características de tais carros:\n",
        "\n",
        "- cylinders -> Número de cilíndros.\n",
        "\n",
        "- displacement -> Capacidade do motor.\n",
        "\n",
        "- horsepower -> Potência (cavalo-vapor).\n",
        "\n",
        "- weight -> Peso.\n",
        "\n",
        "- acceleration -> Tempo, em segundos, até atingir a velocidade de 100 km/h (partindo do carro em repouso).\n",
        "\n",
        "- model_year -> Ano do modelo do carro\n",
        "\n",
        "- origin -> Local de produção do carro.\n",
        "\n",
        "- name -> Nome do modelo do carro.\n",
        "\n",
        "Uma característica interessante nesse dado é que ele possui variáveis categóricas, o que traz uma interpretação diferente para o coeficiente associado a elas."
      ],
      "metadata": {
        "id": "2x_tI-MgzrGC"
      }
    },
    {
      "cell_type": "code",
      "source": [
        "import seaborn as sns\n",
        "df = sns.load_dataset('mpg')\n",
        "df.head()"
      ],
      "metadata": {
        "id": "2zd_8EUMx_fp"
      },
      "execution_count": null,
      "outputs": []
    },
    {
      "cell_type": "markdown",
      "source": [
        "Para as análises, vamos considerar apenas os atributos *horsepower*, *weight*, *acceleration* e *origin* como variáveis preditoras.\n",
        "\n",
        "Primeriamente, vamos observar a dispersão dos dados e os coeficientes de correlação."
      ],
      "metadata": {
        "id": "O7dxOL-x0Nk6"
      }
    },
    {
      "cell_type": "code",
      "source": [
        "sns.pairplot(df,\n",
        "             x_vars= df.drop('mpg', axis=1).columns,\n",
        "             y_vars='mpg',\n",
        "             kind='scatter')\n",
        "plt.show()"
      ],
      "metadata": {
        "id": "iILVgTjzzqQj"
      },
      "execution_count": null,
      "outputs": []
    },
    {
      "cell_type": "code",
      "source": [
        "# Correlação linear\n",
        "\n",
        "df.corr()[[\"mpg\"]]"
      ],
      "metadata": {
        "id": "ZXw7Z05W1QcE"
      },
      "execution_count": null,
      "outputs": []
    },
    {
      "cell_type": "markdown",
      "source": [
        "Note que há correlações fortes entre *mpg* e a maioria das variáveis (numéricas) preditivas.\n",
        "\n",
        "Vamos agora aplicar a Regressão Linear Múltipla."
      ],
      "metadata": {
        "id": "3jyU_1Wk1qJb"
      }
    },
    {
      "cell_type": "code",
      "source": [
        "# Fit the resgression line using 'OLS'\n",
        "\n",
        "model = sm.ols(formula='mpg ~ horsepower + weight + acceleration + origin',\n",
        "               data=df).fit()\n",
        "print(model.summary())"
      ],
      "metadata": {
        "id": "2hTv-Xbb19sE"
      },
      "execution_count": null,
      "outputs": []
    },
    {
      "cell_type": "markdown",
      "source": [
        "O modelo de regressão obtido foi o seguinte:\n",
        "\n",
        "$$\\widehat{y} = 44.2680 + 1.7759origin[T.japan] - 0.9766origin[T.usa] - 0.0564horsepower - 0.0048weight - 0.0309acceleration, $$\n",
        "\n",
        "em que $\\widehat{y}$ é o `mpg` esperado para certas características do carro.\n",
        "\n",
        "No modelo de regressão, é comum deixar uma categoria como referência. Assim, a(s) outra(s) categorias mensuram o efeito de passar da categoria de referência para outra categoria.\n",
        "\n",
        "**Em nosso exemplo:**\n",
        "\n",
        "A variável `origin` tem três categorias: *europe*, *japan* e *usa*. Note que as variáveis que estão no modelo são *origin[T.japan]* e *origin[T.usa]*, assim, elas estão medindo como se altera a variável `origin` quando passamos de considerar o local de produção do veículo na Europa para Japão ou USA. Observe que *origin[T.japan]* tem sinal positivo, indicando que a `mpg` de veículos cuja produção é no Japão é maior quando comparada com a produção na Europa. Por outro lado, *origin[T.usa]* tem sinal negativo, indicando que a `mpg` de veículos cuja produção é nos USA é menor quando comparada com a produção na Europa.\n",
        "\n",
        "Note também que a variável *origin[T.usa]* não é significante (valor-p > 0.05)."
      ],
      "metadata": {
        "id": "z_m5vgsdAyuF"
      }
    },
    {
      "cell_type": "markdown",
      "source": [
        "Na prática, quando vamos calcular `mpg` usando o modelo acima, substituimos *origin[T.japan]* por 1 se a produção foi no Japão ou zero, caso contrário. O mesmo raciocínio vale para *origin[T.usa]*."
      ],
      "metadata": {
        "id": "_zIDIRtKGBx3"
      }
    },
    {
      "cell_type": "code",
      "source": [
        "# Valores preditos pelo modelo\n",
        "\n",
        "df['predicted'] = model.predict(df[[\"horsepower\", \"weight\", \"acceleration\", \"origin\"]])\n",
        "df.head()"
      ],
      "metadata": {
        "id": "wEWt9wZxHHbS"
      },
      "execution_count": null,
      "outputs": []
    },
    {
      "cell_type": "markdown",
      "source": [
        "Usando o modelo de regressão linear ajustado, qual é o valor esperado de `mpg` para veículos com as seguintes características:\n",
        "- horsepower: 140\n",
        "- weight: 3450\n",
        "- acceleration: 11.5\n",
        "- origin: japan"
      ],
      "metadata": {
        "id": "PFGyXpTSHO-c"
      }
    },
    {
      "cell_type": "code",
      "source": [
        "# Prevendo para novos valores (não estão na base de dados)\n",
        "\n",
        "new_value=pd.DataFrame({'horsepower': [140],\n",
        "                        'weight': 3450,\n",
        "                        'acceleration': 11.5,\n",
        "                        'origin': \"japan\"})\n",
        "\n",
        "model.predict(new_value)"
      ],
      "metadata": {
        "id": "ixd7LcAVHm9J"
      },
      "execution_count": null,
      "outputs": []
    },
    {
      "cell_type": "code",
      "source": [
        "# Resíduos\n",
        "\n",
        "residuals=model.resid\n",
        "df[\"res\"]=residuals"
      ],
      "metadata": {
        "id": "gaq8JNwKH5kq"
      },
      "execution_count": null,
      "outputs": []
    },
    {
      "cell_type": "code",
      "source": [
        "# Gráfico de dispersão dos resíduos\n",
        "\n",
        "plt.figure(figsize=(10, 3))\n",
        "\n",
        "plt.subplot(1, 2, 1)\n",
        "plt.scatter(df[\"predicted\"], df[\"res\"])\n",
        "plt.axhline(y=0, color='r', linestyle='--')\n",
        "plt.xlabel('Valores ajustados')\n",
        "plt.ylabel('Resíduos')\n",
        "plt.title('Gráfico de Dispersão dos Resíduos')\n",
        "\n",
        "plt.subplot(1, 2, 2)\n",
        "plt.hist(residuals)\n",
        "\n",
        "plt.tight_layout()\n",
        "plt.show()"
      ],
      "metadata": {
        "id": "m7nTVQlzH9me"
      },
      "execution_count": null,
      "outputs": []
    },
    {
      "cell_type": "markdown",
      "source": [
        "Esses gráficos sugerem que os resíduos se desenvolvem aleatóriamente em torno de zero e seguem aproximadamente uma distribuição Normal."
      ],
      "metadata": {
        "id": "bHbkP1BJIBqs"
      }
    },
    {
      "cell_type": "code",
      "source": [
        "# Analisando possíveis outliers (fora de 2.5 vezes o desvio-padrão em relação à média)\n",
        "\n",
        "limite = 2.5*df.res.std()\n",
        "df[(df.res<-limite) | (df.res>limite)].sort_values(by=['res'])"
      ],
      "metadata": {
        "id": "Z00eNk7JIKaq"
      },
      "execution_count": null,
      "outputs": []
    }
  ]
}