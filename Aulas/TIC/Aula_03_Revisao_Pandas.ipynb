{
  "nbformat": 4,
  "nbformat_minor": 0,
  "metadata": {
    "colab": {
      "provenance": [],
      "authorship_tag": "ABX9TyOW7PlCSpqV/kdGOMv7LiCw",
      "include_colab_link": true
    },
    "kernelspec": {
      "name": "python3",
      "display_name": "Python 3"
    },
    "language_info": {
      "name": "python"
    }
  },
  "cells": [
    {
      "cell_type": "markdown",
      "metadata": {
        "id": "view-in-github",
        "colab_type": "text"
      },
      "source": [
        "<a href=\"https://colab.research.google.com/github/GuilhermePelegrina/Mackenzie/blob/main/Aulas/TIC/Aula_03_Revisao_Pandas.ipynb\" target=\"_parent\"><img src=\"https://colab.research.google.com/assets/colab-badge.svg\" alt=\"Open In Colab\"/></a>"
      ]
    },
    {
      "cell_type": "markdown",
      "source": [
        "<img src='https://raw.githubusercontent.com/guilhermepelegrina/Mackenzie/main/logo_mackenzie.png'>\n"
      ],
      "metadata": {
        "id": "OVdfzgMdhUJn"
      }
    },
    {
      "cell_type": "markdown",
      "source": [
        "# **Revisão: Comandos básicos do Pandas**\n",
        "\n",
        "Nesta aula, revisaremos os principais comandos / funções em Pandas que serão usados nesta disciplina. Esses comandos / funções são muito úteis quando criamos um projeto de Ciência de Dados, ou seja, que são usados tanto para Análise de Dados quanto para Aprendizado de Máquina."
      ],
      "metadata": {
        "id": "Sx7poRAAhVEC"
      }
    },
    {
      "cell_type": "markdown",
      "source": [
        "# Importando bibliotecas"
      ],
      "metadata": {
        "id": "TjNcOT7lj8Hp"
      }
    },
    {
      "cell_type": "code",
      "source": [
        "import numpy as np # Coleção de funções matemáticas para manipulações algébricas\n",
        "import pandas as pd # Manipulação de Data Frames\n",
        "import matplotlib.pyplot as plt # Criação de ferramentas para visualização de dados, como gráficos"
      ],
      "metadata": {
        "id": "I8DFdHCcj8S3"
      },
      "execution_count": null,
      "outputs": []
    },
    {
      "cell_type": "markdown",
      "source": [
        "## Listas (List)\n",
        "\n",
        "Lista (**list**) é uma coleção que é **ordenada** e **mutável**. Permite membros **duplicados**. Associada a lista você encontra uma série de métodos que implementam funções úteis para esses objetos."
      ],
      "metadata": {
        "id": "H8BayH38jpm8"
      }
    },
    {
      "cell_type": "code",
      "execution_count": null,
      "metadata": {
        "id": "gBNJQSbLg1hf"
      },
      "outputs": [],
      "source": [
        "mylist = ['A', 'B', 'C', 'A', 'B']\n",
        "print(len(mylist))\n",
        "\n",
        "cont = mylist.count('B')\n",
        "print(cont)\n",
        "\n",
        "mylist.append('D')\n",
        "print(mylist)\n",
        "\n",
        "mylist.sort()\n",
        "print(mylist)\n",
        "\n",
        "mylist.insert(1,'X')\n",
        "print(mylist)\n",
        "\n",
        "mylist[1] = 'ZZ'\n",
        "print(mylist)\n",
        "\n",
        "del mylist[0:1]\n",
        "print(mylist)"
      ]
    },
    {
      "cell_type": "code",
      "source": [
        "mylist = [1,2,7,5,8,7]\n",
        "print(len(mylist))\n",
        "\n",
        "cont = mylist.count(7)\n",
        "print(cont)\n",
        "\n",
        "mylist.append(2)\n",
        "print(mylist)\n",
        "\n",
        "mylist.sort()\n",
        "print(mylist)\n",
        "\n",
        "mylist.insert(1,10)\n",
        "print(mylist)\n",
        "\n",
        "mylist[1] = 2\n",
        "print(mylist)\n",
        "\n",
        "del mylist[0:1]\n",
        "print(mylist)"
      ],
      "metadata": {
        "id": "0efqOaTokXm8"
      },
      "execution_count": null,
      "outputs": []
    },
    {
      "cell_type": "markdown",
      "source": [
        "## Percorrendo uma lista *\n",
        "\n",
        "Existem basicamente duas forma de percorrer uma lista.\n",
        "\n",
        "* **Por índice**, empregue quando precisar do índice (posição) ou alterar os elementos\n",
        "* **Por iterador**, empregue apenas para recuperar (ler) os elementos"
      ],
      "metadata": {
        "id": "6vOfM9ook4q3"
      }
    },
    {
      "cell_type": "code",
      "source": [
        "for i in range(len(mylist)):\n",
        "    print(i, mylist[i])"
      ],
      "metadata": {
        "id": "NpLQlTBIk5Qr"
      },
      "execution_count": null,
      "outputs": []
    },
    {
      "cell_type": "markdown",
      "source": [
        "## Dicionário (Dictionary)\n",
        "\n",
        "Dicionário (**dictionary**) é uma coleção desordenada, mutável e indexada. Nenhum membro duplicado."
      ],
      "metadata": {
        "id": "PsG5jzGrlJun"
      }
    },
    {
      "cell_type": "code",
      "source": [
        "mydict = {'Beatriz':1978, 'Aline':1987, 'Adriana':1984, 'Daniel':1996}\n",
        "print(mydict.keys())\n",
        "print(mydict['Adriana'])"
      ],
      "metadata": {
        "id": "3wtuCOZmlPZT"
      },
      "execution_count": null,
      "outputs": []
    },
    {
      "cell_type": "markdown",
      "source": [
        "## Percorrendo um Dicionário"
      ],
      "metadata": {
        "id": "EJvGULO4lWXQ"
      }
    },
    {
      "cell_type": "code",
      "source": [
        "for item in mydict:\n",
        "    print(item, mydict[item])"
      ],
      "metadata": {
        "id": "5n4uv1xOlW2_"
      },
      "execution_count": null,
      "outputs": []
    },
    {
      "cell_type": "markdown",
      "source": [
        "# Pandas\n",
        "\n",
        "O `Pandas` é uma API (biblioteca) em Python para manipulação e análise de dados orientada a colunas. Ela permite organizar dados em dois tipos de estruturas, Séries e DataFrames, e operar seleções e transformações sobre essas coleções de dados.\n",
        "\n",
        "Comece vendo um resumo dos comandos Pandas aqui [Pandas Cheat Sheet](https://pandas.pydata.org/Pandas_Cheat_Sheet.pdf).\n",
        "\n",
        "\n",
        "* **DataFrame**: você pode imaginar como uma tabela de dados relacionais, com linhas e colunas nomeadas, como no Excel ou SQL.\n",
        "* **Series**: é uma única coluna de dados, e o DataFrame contém um ou mais Series com um nome para cada uma delas.\n",
        "\n",
        "Você pode ler e gravar dados de diferentes fontes como arquivos .csv, .json, .xlsx e arquivos de bancos de dados sql, Mongo etc.\n",
        "\n",
        "\n",
        "| Format        | Read           | Save          |\n",
        "| ------------- |:--------------:| ----------------:|\n",
        "| csv           | `pd.read_csv()`  |`df.to_csv()`     |\n",
        "| json          | `pd.read_json()` |`df.to_json()`    |\n",
        "| xlsx          | `pd.read_excel()`|`df.to_excel()`   |\n",
        "| hdf           | `pd.read_hdf()`  |`df.to_hdf()`     |\n",
        "| sql           | `pd.read_sql()`  |`df.to_sql()`     |\n",
        "\n",
        "Vamos discutir funções e seleção de dados usando como exemplo a base de dados [Bank Marketing](https://archive.ics.uci.edu/dataset/222/bank+marketing)."
      ],
      "metadata": {
        "id": "T02h_RP3lqss"
      }
    },
    {
      "cell_type": "code",
      "source": [
        "df = pd.read_csv(\"https://raw.githubusercontent.com/guilhermepelegrina/Mackenzie/main/Datasets/data_bank_marketing.csv\", sep = ';')\n",
        "df.head()"
      ],
      "metadata": {
        "id": "qwieKpzclwoU"
      },
      "execution_count": null,
      "outputs": []
    },
    {
      "cell_type": "markdown",
      "source": [
        "Informações sobre o conjunto de dados:\n",
        "\n",
        "- age (numeric)\n",
        "- job : type of job (categorical: \"admin.\",\"unknown\",\"unemployed\",\"management\",\"housemaid\",\"entrepreneur\",\"student\", \"blue-collar\",\"self-employed\",\"retired\",\"technician\",\"services\")\n",
        "- marital : marital status (categorical: \"married\",\"divorced\",\"single\"; note: \"divorced\" means divorced or widowed)\n",
        "- education (categorical: \"unknown\",\"secondary\",\"primary\",\"tertiary\")\n",
        "- default: has credit in default? (binary: \"yes\",\"no\")\n",
        "- balance: average yearly balance, in euros (numeric)\n",
        "- housing: has housing loan? (binary: \"yes\",\"no\")\n",
        "- loan: has personal loan? (binary: \"yes\",\"no\")\n",
        "\n",
        "Related with the last contact of the current campaign:\n",
        "\n",
        "- contact: contact communication type (categorical: \"unknown\",\"telephone\",- day: last contact day of the month (numeric)\n",
        "- month: last contact month of year (categorical: \"jan\", \"feb\", \"mar\", ..., \"nov\", \"dec\")\n",
        "- duration: last contact duration, in seconds (numeric)\n",
        "   \n",
        "Other attributes:\n",
        "\n",
        "- campaign: number of contacts performed during this campaign and for this client (numeric, includes last contact)\n",
        "- pdays: number of days that passed by after the client was last contacted from a previous campaign (numeric, -1 means client was not previously contacted)\n",
        "- previous: number of contacts performed before this campaign and for this client (numeric)\n",
        "- poutcome: outcome of the previous marketing campaign (categorical: \"unknown\",\"other\",\"failure\",\"success\")\n",
        "\n",
        "Output variable (desired target):\n",
        "\n",
        "- y - has the client subscribed a term deposit? (binary: \"yes\",\"no\")"
      ],
      "metadata": {
        "id": "K0L7VkKxl7eY"
      }
    },
    {
      "cell_type": "markdown",
      "source": [
        "### Explorando os dados\n",
        "\n",
        "É importante na primeira análise extrair informações sobre a estrutura dos dados, isto é, verificar o tipo de variáveis, número de linhas, colunas, etc."
      ],
      "metadata": {
        "id": "n_OWD4yCmxLg"
      }
    },
    {
      "cell_type": "code",
      "source": [
        "# Funções interessantes\n",
        "\n",
        "#df.head()\n",
        "#df.tail()\n",
        "#df.columns\n",
        "#df.shape\n",
        "df.info()"
      ],
      "metadata": {
        "id": "AhK8VUH0m0Iw"
      },
      "execution_count": null,
      "outputs": []
    },
    {
      "cell_type": "markdown",
      "source": [
        "A função `describe()` do pandas é uma ferramenta muito útil para obter um resumo estatístico de um DataFrame."
      ],
      "metadata": {
        "id": "r4E8pjrLUxWa"
      }
    },
    {
      "cell_type": "code",
      "source": [
        "df.describe()"
      ],
      "metadata": {
        "id": "0Bjl1bzfUx3C"
      },
      "execution_count": null,
      "outputs": []
    },
    {
      "cell_type": "markdown",
      "source": [
        "### Seleção de Colunas, Linhas e Linhas e Colunas\n",
        "\n",
        "<img src=\"https://pandas.pydata.org/docs/_images/03_subset_columns.svg\" width=320, align=\"center\">\n",
        "<img src=\"https://pandas.pydata.org/docs/_images/03_subset_rows.svg\" width=320, align=\"center\">\n",
        "<img src=\"https://pandas.pydata.org/docs/_images/03_subset_columns_rows.svg\" width=320, align=\"center\">"
      ],
      "metadata": {
        "id": "Edqdn9q_06E6"
      }
    },
    {
      "cell_type": "markdown",
      "source": [
        "**Selecionando colunas**\n",
        "\n",
        "No pandas, você pode selecionar colunas de um DataFrame de várias maneiras diferentes. Aqui estão as duas formas mais comuns de fazer isso:"
      ],
      "metadata": {
        "id": "H7N5jaOP08xq"
      }
    },
    {
      "cell_type": "code",
      "source": [
        "# As duas opções retornam o mesmo resultado.\n",
        "df.age  # Opção 1\n",
        "df['age'] # Opção 2"
      ],
      "metadata": {
        "id": "-xUMvfhs1BAz"
      },
      "execution_count": null,
      "outputs": []
    },
    {
      "cell_type": "markdown",
      "source": [
        "**Removendo colunas**"
      ],
      "metadata": {
        "id": "P4wPD5flJT_u"
      }
    },
    {
      "cell_type": "code",
      "source": [
        "df2 = df.drop('age',axis=1)\n",
        "df2.head()"
      ],
      "metadata": {
        "id": "nLJDgmPNJIS_"
      },
      "execution_count": null,
      "outputs": []
    },
    {
      "cell_type": "markdown",
      "source": [
        "Se você quiser calcular estatísticas específicas pode usar as seguintes funções:  `mean()` para a média, `std()` para o desvio padrão, `min()` e `max()` para os valores mínimo e máximo, etc."
      ],
      "metadata": {
        "id": "JtHYPc0R1ZvN"
      }
    },
    {
      "cell_type": "code",
      "source": [
        "# valores descritivos da variável \"temp\"\n",
        "\n",
        "print(df.age.max())  # valor máximo\n",
        "print(df.age.min())  # valor mínimo\n",
        "print(df.age.mean()) # média\n",
        "print(df.age.std())  # desvio padrão\n",
        "print(df.age.quantile()) # Exibe a mediana\n",
        "print(df.age.quantile([0, 0.25, 0.5, 0.9])) # exibindo diferentes percentis"
      ],
      "metadata": {
        "id": "KvZeKugF1aNL"
      },
      "execution_count": null,
      "outputs": []
    },
    {
      "cell_type": "markdown",
      "source": [
        "**Variáveis categóricas (não numéricas)**\n",
        "\n",
        "Variáveis categóricas são aquelas que representam categorias ou grupos distintos, em vez de valores numéricos contínuos. Elas são comuns em dados que envolvem características não numéricas, como gênero, cor, tipo de animal, estado civil, etc."
      ],
      "metadata": {
        "id": "jUEEBjgx7uZf"
      }
    },
    {
      "cell_type": "code",
      "source": [
        "est_civil = df.marital.to_list() # Converter marital em uma lista\n",
        "est_civil.count('married')    # Contar o número de vezes que aparece \"married\""
      ],
      "metadata": {
        "id": "myipsoah7zL4"
      },
      "execution_count": null,
      "outputs": []
    },
    {
      "cell_type": "code",
      "source": [
        "# Funções úteis\n",
        "\n",
        "#df.marital.value_counts() # valores diferentes e suas quantidades\n",
        "#df.marital.unique()       # Mostra os valores únicos\n",
        "df.marital.nunique()      # Número de valores únicos"
      ],
      "metadata": {
        "id": "-MFhrQIP8YO-"
      },
      "execution_count": null,
      "outputs": []
    },
    {
      "cell_type": "markdown",
      "source": [
        "**Selecionando várias colunas**\n",
        "\n",
        "Para selecionar várias colunas em um DataFrame do pandas, você pode passar uma lista com os nomes das colunas que deseja selecionar. Lembre-se de que, ao selecionar várias colunas, o resultado será um novo DataFrame contendo apenas as colunas selecionadas."
      ],
      "metadata": {
        "id": "6i-1M6CQ8lXG"
      }
    },
    {
      "cell_type": "code",
      "source": [
        "# Selecionando várias colunas\n",
        "\n",
        "df[[\"age\",\t\"marital\",\t\"default\"]]"
      ],
      "metadata": {
        "id": "QVyM6ZTL8pnV"
      },
      "execution_count": null,
      "outputs": []
    },
    {
      "cell_type": "code",
      "source": [
        "# Outras funções úteis\n",
        "\n",
        "#df.dropna() # Remove missing values\n",
        "#df.isna()  # Detect missing values\n",
        "df.nsmallest(5,'age')  # Exibe os n menores valores segundo certa determinada variável"
      ],
      "metadata": {
        "id": "LIAoVJGL9FL-"
      },
      "execution_count": null,
      "outputs": []
    },
    {
      "cell_type": "markdown",
      "source": [
        "**Selecionando linhas**\n",
        "\n",
        "Para selecionar linhas em um DataFrame do pandas podemos usar os colchetes com base em critérios específicos:"
      ],
      "metadata": {
        "id": "xF8tsOsu9brm"
      }
    },
    {
      "cell_type": "code",
      "source": [
        "# Selecionando linhas\n",
        "df[df.marital==\"married\"]"
      ],
      "metadata": {
        "id": "BucoHTP69cLF"
      },
      "execution_count": null,
      "outputs": []
    },
    {
      "cell_type": "markdown",
      "source": [
        "Para combinar critérios de seleção você pode empregar os operadores lógicos & (AND), '|' (OR) ou '!' (NOT), sendo necessário a inclusão de parênteses nas seleções."
      ],
      "metadata": {
        "id": "8SL1N-j09nnV"
      }
    },
    {
      "cell_type": "code",
      "source": [
        "# Usando AND (%)\n",
        "df[(df.marital==\"married\") & (df.age>70)]"
      ],
      "metadata": {
        "id": "8_1DROLR9oJ-"
      },
      "execution_count": null,
      "outputs": []
    },
    {
      "cell_type": "code",
      "source": [
        "# Usando OR (|)\n",
        "\n",
        "df[(df.marital=='married') | (df.marital=='divorced')]"
      ],
      "metadata": {
        "id": "SJlTihq492X5"
      },
      "execution_count": null,
      "outputs": []
    },
    {
      "cell_type": "code",
      "source": [
        "# Usando NOT (!)\n",
        "\n",
        "df[(df.marital!=\"married\")]"
      ],
      "metadata": {
        "id": "EHXBe_aY-IIW"
      },
      "execution_count": null,
      "outputs": []
    },
    {
      "cell_type": "markdown",
      "source": [
        "**Selecionando colunas e linhas**\n",
        "\n",
        "Podemos selecionar primeiro as linhas (segundo uma condição) e depois selecionar as colunas desejadas."
      ],
      "metadata": {
        "id": "lkGVk53V-SXe"
      }
    },
    {
      "cell_type": "code",
      "source": [
        "# Uma única coluna\n",
        "\n",
        "df[df.marital==\"married\"].age"
      ],
      "metadata": {
        "id": "EE519ebf-S1N"
      },
      "execution_count": null,
      "outputs": []
    },
    {
      "cell_type": "code",
      "source": [
        "# Várias colunas\n",
        "\n",
        "df[df.marital==\"married\"][[\"age\",\"job\",\"education\"]]"
      ],
      "metadata": {
        "id": "AeOh1new-fOV"
      },
      "execution_count": null,
      "outputs": []
    },
    {
      "cell_type": "markdown",
      "source": [
        "# Visualização de dados\n",
        "\n",
        "Além da análise dos dados, também é importante usar métodos para a visualização dos mesmos. Há diversas formas de representar dados graficamente, cada uma com seu objetivo específico. Em Python, temos bibliotecas com funções úteis para a criação de gráficos, como o *mtplotlib*."
      ],
      "metadata": {
        "id": "R-XNExXV3wXX"
      }
    },
    {
      "cell_type": "code",
      "source": [
        "# Histograma\n",
        "\n",
        "plt.hist(df.age, bins=df.age.max()-df.age.min())\n",
        "plt.title('Histograma', fontsize=14, weight='bold')\n",
        "plt.show()"
      ],
      "metadata": {
        "id": "Jxzy02kz4bOi"
      },
      "execution_count": null,
      "outputs": []
    },
    {
      "cell_type": "code",
      "source": [
        "# Gráfico de barra\n",
        "\n",
        "plt.bar(df.marital.unique(),df.marital.value_counts(),color=['c','g','y'],alpha=0.5)\n",
        "plt.title('Bar plot', fontsize=14, weight='bold')"
      ],
      "metadata": {
        "id": "uvICsg8T6CwG"
      },
      "execution_count": null,
      "outputs": []
    },
    {
      "cell_type": "markdown",
      "source": [
        "# **Exercício**\n",
        "\n",
        "Na construção de um modelo de Aprendizado de Máquina, é comum (e recomendado) gerar dados de treinamento (usados para treinar o modelo) e dados de teste (usados para avaliar o modelo treinado).\n",
        "\n",
        "Há um comando em Python (dentro da biblioteca do scikit-learn) que faz essa tarefa. Procure e use essa biblioteca para gerar um conjunto de treinamento com 80% dos dados e um conjunto de teste com os 20% dos dados restantes.\n",
        "\n",
        "Considere o mesmo conjunto de dados usado na aula."
      ],
      "metadata": {
        "id": "9SvGh9OCGtUI"
      }
    },
    {
      "cell_type": "code",
      "source": [
        "from sklearn.model_selection import train_test_split\n",
        "X_train, X_test, y_train, y_test = train_test_split(df.drop('y',axis=1), df.y, test_size=0.20)\n",
        "print(X_train.shape, X_test.shape)\n",
        "print(y_train.shape, y_test.shape)\n"
      ],
      "metadata": {
        "id": "_Q09oo8sqiLj"
      },
      "execution_count": null,
      "outputs": []
    }
  ]
}